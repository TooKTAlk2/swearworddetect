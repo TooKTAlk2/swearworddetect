{
 "cells": [
  {
   "cell_type": "code",
   "execution_count": 1,
   "metadata": {
    "ExecuteTime": {
     "end_time": "2019-08-13T23:48:00.242035Z",
     "start_time": "2019-08-13T23:47:44.691942Z"
    }
   },
   "outputs": [
    {
     "name": "stdout",
     "output_type": "stream",
     "text": [
      "Chan 2019-08-14 \n",
      "\n",
      "CPython 3.7.3\n",
      "IPython 7.6.1\n",
      "\n",
      "numpy 1.16.4\n",
      "pandas 0.24.2\n",
      "sklearn 0.21.2\n",
      "konlpy 0.5.1\n",
      "tensorflow 1.13.1\n",
      "matplotlib 3.1.0\n",
      "imblearn 0.5.0\n"
     ]
    }
   ],
   "source": [
    "%load_ext watermark\n",
    "%watermark -a Chan -d -v -p numpy,pandas,sklearn,konlpy,tensorflow,matplotlib,imblearn"
   ]
  },
  {
   "cell_type": "code",
   "execution_count": 1,
   "metadata": {
    "ExecuteTime": {
     "end_time": "2019-08-19T03:23:46.316543Z",
     "start_time": "2019-08-19T03:23:37.959315Z"
    }
   },
   "outputs": [],
   "source": [
    "import numpy as np\n",
    "import pandas as pd\n",
    "from sklearn.model_selection import train_test_split\n",
    "from konlpy.tag import Okt\n",
    "import tensorflow as tf\n",
    "from tensorflow.python.keras.preprocessing import sequence\n",
    "from tensorflow import keras\n",
    "from tqdm import tqdm\n",
    "from collections import Counter\n",
    "from matplotlib import pyplot as plt\n",
    "import pickle\n",
    "from utils import morp_preprocessing"
   ]
  },
  {
   "cell_type": "markdown",
   "metadata": {},
   "source": [
    "# Load datasets"
   ]
  },
  {
   "cell_type": "code",
   "execution_count": 28,
   "metadata": {
    "ExecuteTime": {
     "end_time": "2019-08-19T04:18:24.987901Z",
     "start_time": "2019-08-19T04:18:24.378250Z"
    }
   },
   "outputs": [
    {
     "data": {
      "text/html": [
       "<div>\n",
       "<style scoped>\n",
       "    .dataframe tbody tr th:only-of-type {\n",
       "        vertical-align: middle;\n",
       "    }\n",
       "\n",
       "    .dataframe tbody tr th {\n",
       "        vertical-align: top;\n",
       "    }\n",
       "\n",
       "    .dataframe thead th {\n",
       "        text-align: right;\n",
       "    }\n",
       "</style>\n",
       "<table border=\"1\" class=\"dataframe\">\n",
       "  <thead>\n",
       "    <tr style=\"text-align: right;\">\n",
       "      <th></th>\n",
       "      <th>Unnamed: 0</th>\n",
       "      <th>comment</th>\n",
       "      <th>url_id</th>\n",
       "      <th>label</th>\n",
       "    </tr>\n",
       "  </thead>\n",
       "  <tbody>\n",
       "    <tr>\n",
       "      <th>0</th>\n",
       "      <td>0</td>\n",
       "      <td>ㅜㅜ</td>\n",
       "      <td>77</td>\n",
       "      <td>0</td>\n",
       "    </tr>\n",
       "    <tr>\n",
       "      <th>1</th>\n",
       "      <td>1</td>\n",
       "      <td>ㅋㅋㅋㅋㅋㅋㅋㅋㅋㅋㅋㅋㅋㅋㅋㅋㅋㅋㅋㅋㅋ</td>\n",
       "      <td>17</td>\n",
       "      <td>0</td>\n",
       "    </tr>\n",
       "    <tr>\n",
       "      <th>2</th>\n",
       "      <td>2</td>\n",
       "      <td>헐</td>\n",
       "      <td>52</td>\n",
       "      <td>0</td>\n",
       "    </tr>\n",
       "    <tr>\n",
       "      <th>3</th>\n",
       "      <td>3</td>\n",
       "      <td>제시</td>\n",
       "      <td>75</td>\n",
       "      <td>0</td>\n",
       "    </tr>\n",
       "    <tr>\n",
       "      <th>4</th>\n",
       "      <td>4</td>\n",
       "      <td>이거인 듯</td>\n",
       "      <td>18</td>\n",
       "      <td>0</td>\n",
       "    </tr>\n",
       "  </tbody>\n",
       "</table>\n",
       "</div>"
      ],
      "text/plain": [
       "   Unnamed: 0                comment  url_id  label\n",
       "0           0                     ㅜㅜ      77      0\n",
       "1           1  ㅋㅋㅋㅋㅋㅋㅋㅋㅋㅋㅋㅋㅋㅋㅋㅋㅋㅋㅋㅋㅋ      17      0\n",
       "2           2                      헐      52      0\n",
       "3           3                     제시      75      0\n",
       "4           4                  이거인 듯      18      0"
      ]
     },
     "execution_count": 28,
     "metadata": {},
     "output_type": "execute_result"
    }
   ],
   "source": [
    "datasets = pd.read_csv('../../data/train.csv', engine='python', encoding='utf-16')\n",
    "datasets.head()"
   ]
  },
  {
   "cell_type": "code",
   "execution_count": 29,
   "metadata": {
    "ExecuteTime": {
     "end_time": "2019-08-19T04:18:27.182645Z",
     "start_time": "2019-08-19T04:18:27.153664Z"
    }
   },
   "outputs": [
    {
     "name": "stdout",
     "output_type": "stream",
     "text": [
      "<class 'pandas.core.frame.DataFrame'>\n",
      "RangeIndex: 42000 entries, 0 to 41999\n",
      "Data columns (total 4 columns):\n",
      "Unnamed: 0    42000 non-null int64\n",
      "comment       42000 non-null object\n",
      "url_id        42000 non-null int64\n",
      "label         42000 non-null int64\n",
      "dtypes: int64(3), object(1)\n",
      "memory usage: 1.3+ MB\n"
     ]
    }
   ],
   "source": [
    "datasets.info()"
   ]
  },
  {
   "cell_type": "code",
   "execution_count": 44,
   "metadata": {
    "ExecuteTime": {
     "end_time": "2019-08-19T04:24:36.056237Z",
     "start_time": "2019-08-19T04:24:36.038246Z"
    }
   },
   "outputs": [
    {
     "data": {
      "text/plain": [
       "0.0499047619047619"
      ]
     },
     "execution_count": 44,
     "metadata": {},
     "output_type": "execute_result"
    }
   ],
   "source": [
    "len(datasets[datasets.label ==1])/ len(datasets) # 유해한 레이블의 데이터가 많이 부족함 데이터 편향ㅠㅠ "
   ]
  },
  {
   "cell_type": "markdown",
   "metadata": {
    "ExecuteTime": {
     "end_time": "2019-08-06T15:38:19.687895Z",
     "start_time": "2019-08-06T15:38:19.677899Z"
    }
   },
   "source": [
    "# 형태소분석"
   ]
  },
  {
   "cell_type": "code",
   "execution_count": 32,
   "metadata": {
    "ExecuteTime": {
     "end_time": "2019-08-19T04:19:54.562078Z",
     "start_time": "2019-08-19T04:19:49.172167Z"
    },
    "scrolled": true
   },
   "outputs": [
    {
     "name": "stderr",
     "output_type": "stream",
     "text": [
      "C:\\Users\\skarn\\Anaconda3\\envs\\DataAnalysis\\lib\\site-packages\\jpype\\_core.py:210: UserWarning: \n",
      "-------------------------------------------------------------------------------\n",
      "Deprecated: convertStrings was not specified when starting the JVM. The default\n",
      "behavior in JPype will be False starting in JPype 0.8. The recommended setting\n",
      "for new code is convertStrings=False.  The legacy value of True was assumed for\n",
      "this session. If you are a user of an application that reported this warning,\n",
      "please file a ticket with the developer.\n",
      "-------------------------------------------------------------------------------\n",
      "\n",
      "  \"\"\")\n"
     ]
    }
   ],
   "source": [
    "morp = Okt()"
   ]
  },
  {
   "cell_type": "code",
   "execution_count": 33,
   "metadata": {
    "ExecuteTime": {
     "end_time": "2019-08-19T04:21:23.520525Z",
     "start_time": "2019-08-19T04:19:54.567076Z"
    }
   },
   "outputs": [
    {
     "name": "stderr",
     "output_type": "stream",
     "text": [
      "100%|███████████████████████████████████████████████████████████████████████████| 42000/42000 [01:28<00:00, 472.30it/s]\n"
     ]
    },
    {
     "data": {
      "text/plain": [
       "[['ㅜㅜ'], ['ㅋㅋㅋ'], ['헐다'], ['제시'], ['이', '거인', '듯']]"
      ]
     },
     "execution_count": 33,
     "metadata": {},
     "output_type": "execute_result"
    }
   ],
   "source": [
    "morped = [morp.morphs(_, norm=True, stem=True) for _ in tqdm(datasets.comment)]\n",
    "morped[:5]"
   ]
  },
  {
   "cell_type": "markdown",
   "metadata": {},
   "source": [
    "## Dictionary\n",
    "최빈 형태소에 대한 단어사전 구성"
   ]
  },
  {
   "cell_type": "code",
   "execution_count": 34,
   "metadata": {
    "ExecuteTime": {
     "end_time": "2019-08-19T04:21:28.946419Z",
     "start_time": "2019-08-19T04:21:28.474690Z"
    }
   },
   "outputs": [
    {
     "name": "stdout",
     "output_type": "stream",
     "text": [
      "고빈도 단어:\n",
      "ㅋㅋㅋ :  7874\n",
      "? :  3235\n",
      "이 :  3011\n",
      "하다 :  2327\n",
      "! :  1151\n",
      "ㅋㅋ :  1114\n",
      "가 :  1020\n",
      "오다 :  969\n",
      "아 :  911\n",
      "이다 :  789\n",
      "\n",
      "단어 사전:\n",
      "0 <PAD>\n",
      "1 <OOV>\n",
      "2 ㅋㅋㅋ\n",
      "3 ?\n",
      "4 이\n",
      "5 하다\n",
      "6 !\n",
      "7 ㅋㅋ\n",
      "8 가\n",
      "9 오다\n",
      "\n",
      "단어 사전 크기:  15600\n"
     ]
    }
   ],
   "source": [
    "vocab_size = 30000\n",
    "\n",
    "pad_id = 0\n",
    "oov_id = 1\n",
    "index_offset = 1\n",
    "\n",
    "def make_vocab(sentences):\n",
    "    word_counter = Counter()\n",
    "\n",
    "    for sent in sentences:\n",
    "        word_counter.update(sent)\n",
    "\n",
    "    most_common = word_counter.most_common()\n",
    "    print(\"고빈도 단어:\")\n",
    "    for k, v in most_common[:10]:\n",
    "        print(k, \": \", v)\n",
    "\n",
    "        vocab = {\n",
    "        '<PAD>': pad_id,\n",
    "        '<OOV>': oov_id\n",
    "        }\n",
    "    for i, (word, cnt) in enumerate(most_common, start=index_offset+1):\n",
    "        vocab[word] = i\n",
    "        if len(vocab) >= vocab_size:\n",
    "            break\n",
    "\n",
    "    return vocab\n",
    "\n",
    "word_index = make_vocab(morped)\n",
    "word_inverted_index = {v:k for k, v in word_index.items()}\n",
    "\n",
    "print(\"\\n단어 사전:\")\n",
    "for i in range(0, 10):\n",
    "    print(i, word_inverted_index[i])\n",
    "\n",
    "print(\"\\n단어 사전 크기: \", len(word_index))\n",
    "\n",
    "# # vocab save\n",
    "# with open('./vocab/vocab_index.pickle', 'wb') as f:\n",
    "#     pickle.dump(word_index, f, pickle.HIGHEST_PROTOCOL)\n",
    "# with open('./vocab/vocab_inverted_index.pickle', 'wb') as f:\n",
    "#     pickle.dump(word_inverted_index, f, pickle.HIGHEST_PROTOCOL)"
   ]
  },
  {
   "cell_type": "code",
   "execution_count": 35,
   "metadata": {
    "ExecuteTime": {
     "end_time": "2019-08-19T04:21:37.676418Z",
     "start_time": "2019-08-19T04:21:37.639441Z"
    }
   },
   "outputs": [
    {
     "name": "stdout",
     "output_type": "stream",
     "text": [
      "원본:  ['ㅜㅜ']\n",
      "문자 -> 숫자:  [282]\n",
      "숫자 -> 문자:  ㅜㅜ\n"
     ]
    }
   ],
   "source": [
    "def index_to_text(indexes):\n",
    "    return ' '.join([word_inverted_index[i] for i in indexes])\n",
    "\n",
    "def text_to_index(tokens):\n",
    "    indexes = []\n",
    "    for tok in tokens:\n",
    "        if tok in word_index:\n",
    "            indexes.append(word_index[tok])\n",
    "        else:\n",
    "            indexes.append(oov_id)\n",
    "\n",
    "    return indexes\n",
    "\n",
    "print(\"원본: \", morped[0])\n",
    "ids = text_to_index(morped[0])\n",
    "print(\"문자 -> 숫자: \", ids)\n",
    "print(\"숫자 -> 문자: \", index_to_text(ids))"
   ]
  },
  {
   "cell_type": "code",
   "execution_count": 36,
   "metadata": {
    "ExecuteTime": {
     "end_time": "2019-08-19T04:21:40.027071Z",
     "start_time": "2019-08-19T04:21:39.410427Z"
    }
   },
   "outputs": [],
   "source": [
    "x_variable = [text_to_index(_) for _ in morped]\n",
    "\n",
    "sentence_size = 10\n",
    "x_padded = sequence.pad_sequences(x_variable,\n",
    "                                 maxlen=sentence_size,\n",
    "                                 truncating='post',\n",
    "                                 padding='post',\n",
    "                                 value=pad_id)"
   ]
  },
  {
   "cell_type": "code",
   "execution_count": 37,
   "metadata": {
    "ExecuteTime": {
     "end_time": "2019-08-19T04:21:40.047060Z",
     "start_time": "2019-08-19T04:21:40.030070Z"
    }
   },
   "outputs": [],
   "source": [
    "def plot_loss(history):\n",
    "    plt.figure(figsize=(6,5))\n",
    "    val = plt.plot(history.epoch, history.history['val_loss'],\n",
    "                 '--', label='Test')\n",
    "    plt.plot(history.epoch, history.history['loss'], color=val[0].get_color(),\n",
    "           label='Train')\n",
    "\n",
    "    plt.xlabel('Epochs')\n",
    "    plt.ylabel(\"Loss\")\n",
    "    plt.legend()\n",
    "\n",
    "    plt.xlim([0,max(history.epoch)])"
   ]
  },
  {
   "cell_type": "code",
   "execution_count": 38,
   "metadata": {
    "ExecuteTime": {
     "end_time": "2019-08-19T04:21:41.034495Z",
     "start_time": "2019-08-19T04:21:41.029496Z"
    }
   },
   "outputs": [],
   "source": [
    "import warnings\n",
    "warnings.filterwarnings(action='once')"
   ]
  },
  {
   "cell_type": "markdown",
   "metadata": {},
   "source": [
    "\n",
    "# 데이터 클래스 불균형 문제 해결하자"
   ]
  },
  {
   "cell_type": "code",
   "execution_count": 39,
   "metadata": {
    "ExecuteTime": {
     "end_time": "2019-08-19T04:21:57.119284Z",
     "start_time": "2019-08-19T04:21:57.098291Z"
    }
   },
   "outputs": [],
   "source": [
    "X_train, X_test, y_train, y_test = train_test_split(x_padded, datasets.label)"
   ]
  },
  {
   "cell_type": "code",
   "execution_count": 116,
   "metadata": {
    "ExecuteTime": {
     "end_time": "2019-08-19T05:34:42.468022Z",
     "start_time": "2019-08-19T05:34:42.459025Z"
    }
   },
   "outputs": [],
   "source": [
    "from imblearn.under_sampling import RandomUnderSampler\n",
    "from imblearn.over_sampling import RandomOverSampler,SMOTE"
   ]
  },
  {
   "cell_type": "code",
   "execution_count": 151,
   "metadata": {
    "ExecuteTime": {
     "end_time": "2019-08-19T05:54:40.689583Z",
     "start_time": "2019-08-19T05:54:40.634616Z"
    }
   },
   "outputs": [
    {
     "data": {
      "text/plain": [
       "(59872, 29936)"
      ]
     },
     "execution_count": 151,
     "metadata": {},
     "output_type": "execute_result"
    }
   ],
   "source": [
    "up_X, up_y = RandomOverSampler().fit_resample(X_train, y_train)\n",
    "\n",
    "# 총 데이터 수 , 1 레이블 데이터 수\n",
    "len(up_y), up_y.sum()"
   ]
  },
  {
   "cell_type": "code",
   "execution_count": 152,
   "metadata": {
    "ExecuteTime": {
     "end_time": "2019-08-19T05:54:43.200145Z",
     "start_time": "2019-08-19T05:54:42.661453Z"
    }
   },
   "outputs": [
    {
     "name": "stderr",
     "output_type": "stream",
     "text": [
      "C:\\Users\\skarn\\Anaconda3\\envs\\DataAnalysis\\lib\\site-packages\\numpy\\lib\\type_check.py:546: DeprecationWarning: np.asscalar(a) is deprecated since NumPy v1.16, use a.item() instead\n",
      "  'a.item() instead', DeprecationWarning, stacklevel=1)\n"
     ]
    }
   ],
   "source": [
    "model_up = keras.Sequential([\n",
    "    keras.layers.Embedding(vocab_size, 10),\n",
    "    keras.layers.Conv1D(32, 3, padding=\"same\", activation=tf.nn.relu),\n",
    "    keras.layers.Dropout(0.5),\n",
    "    keras.layers.Conv1D(32, 3, padding=\"same\", activation=tf.nn.relu),\n",
    "    keras.layers.GlobalMaxPool1D(),\n",
    "    keras.layers.Dropout(0.5),\n",
    "    keras.layers.Dense(2, activation=tf.nn.sigmoid)\n",
    "])"
   ]
  },
  {
   "cell_type": "code",
   "execution_count": null,
   "metadata": {
    "ExecuteTime": {
     "start_time": "2019-08-19T05:54:47.054Z"
    }
   },
   "outputs": [
    {
     "name": "stdout",
     "output_type": "stream",
     "text": [
      "Train on 59872 samples, validate on 10500 samples\n",
      "Epoch 1/5\n"
     ]
    },
    {
     "name": "stdout",
     "output_type": "stream",
     "text": [
      "20320/59872 [=========>....................] - ETA: 1:21:34 - loss: 0.0164 - recall_18: 1.00 - ETA: 16:38 - loss: 0.0710 - recall_18: 0.9875 - ETA: 9:30 - loss: 0.0818 - recall_18: 0.9826 - ETA: 6:43 - loss: 0.0619 - recall_18: 0.985 - ETA: 5:14 - loss: 0.0604 - recall_18: 0.987 - ETA: 4:19 - loss: 0.0588 - recall_18: 0.985 - ETA: 3:41 - loss: 0.0657 - recall_18: 0.982 - ETA: 3:14 - loss: 0.0676 - recall_18: 0.981 - ETA: 2:58 - loss: 0.0677 - recall_18: 0.981 - ETA: 2:47 - loss: 0.0681 - recall_18: 0.980 - ETA: 2:32 - loss: 0.0654 - recall_18: 0.980 - ETA: 2:20 - loss: 0.0690 - recall_18: 0.979 - ETA: 2:10 - loss: 0.0689 - recall_18: 0.980 - ETA: 2:02 - loss: 0.0668 - recall_18: 0.979 - ETA: 1:59 - loss: 0.0650 - recall_18: 0.980 - ETA: 1:52 - loss: 0.0629 - recall_18: 0.981 - ETA: 1:48 - loss: 0.0657 - recall_18: 0.980 - ETA: 1:42 - loss: 0.0637 - recall_18: 0.981 - ETA: 1:38 - loss: 0.0628 - recall_18: 0.981 - ETA: 1:35 - loss: 0.0617 - recall_18: 0.981 - ETA: 1:32 - loss: 0.0602 - recall_18: 0.981 - ETA: 1:29 - loss: 0.0614 - recall_18: 0.981 - ETA: 1:26 - loss: 0.0599 - recall_18: 0.981 - ETA: 1:24 - loss: 0.0591 - recall_18: 0.982 - ETA: 1:21 - loss: 0.0621 - recall_18: 0.981 - ETA: 1:20 - loss: 0.0603 - recall_18: 0.981 - ETA: 1:18 - loss: 0.0614 - recall_18: 0.981 - ETA: 1:16 - loss: 0.0615 - recall_18: 0.981 - ETA: 1:14 - loss: 0.0619 - recall_18: 0.981 - ETA: 1:13 - loss: 0.0608 - recall_18: 0.981 - ETA: 1:11 - loss: 0.0595 - recall_18: 0.982 - ETA: 1:10 - loss: 0.0583 - recall_18: 0.982 - ETA: 1:09 - loss: 0.0580 - recall_18: 0.982 - ETA: 1:08 - loss: 0.0570 - recall_18: 0.982 - ETA: 1:06 - loss: 0.0567 - recall_18: 0.983 - ETA: 1:05 - loss: 0.0571 - recall_18: 0.983 - ETA: 1:03 - loss: 0.0564 - recall_18: 0.983 - ETA: 1:02 - loss: 0.0560 - recall_18: 0.983 - ETA: 1:01 - loss: 0.0556 - recall_18: 0.983 - ETA: 1:01 - loss: 0.0560 - recall_18: 0.983 - ETA: 1:00 - loss: 0.0573 - recall_18: 0.982 - ETA: 59s - loss: 0.0568 - recall_18: 0.982 - ETA: 59s - loss: 0.0558 - recall_18: 0.98 - ETA: 58s - loss: 0.0559 - recall_18: 0.98 - ETA: 57s - loss: 0.0556 - recall_18: 0.98 - ETA: 57s - loss: 0.0559 - recall_18: 0.98 - ETA: 56s - loss: 0.0558 - recall_18: 0.98 - ETA: 56s - loss: 0.0567 - recall_18: 0.98 - ETA: 55s - loss: 0.0586 - recall_18: 0.98 - ETA: 54s - loss: 0.0593 - recall_18: 0.98 - ETA: 53s - loss: 0.0586 - recall_18: 0.98 - ETA: 53s - loss: 0.0605 - recall_18: 0.98 - ETA: 52s - loss: 0.0601 - recall_18: 0.98 - ETA: 52s - loss: 0.0598 - recall_18: 0.98 - ETA: 51s - loss: 0.0598 - recall_18: 0.98 - ETA: 51s - loss: 0.0590 - recall_18: 0.98 - ETA: 50s - loss: 0.0585 - recall_18: 0.98 - ETA: 50s - loss: 0.0583 - recall_18: 0.98 - ETA: 49s - loss: 0.0577 - recall_18: 0.98 - ETA: 49s - loss: 0.0577 - recall_18: 0.98 - ETA: 48s - loss: 0.0575 - recall_18: 0.98 - ETA: 48s - loss: 0.0577 - recall_18: 0.98 - ETA: 47s - loss: 0.0577 - recall_18: 0.98 - ETA: 47s - loss: 0.0572 - recall_18: 0.98 - ETA: 47s - loss: 0.0570 - recall_18: 0.98 - ETA: 46s - loss: 0.0562 - recall_18: 0.98 - ETA: 46s - loss: 0.0562 - recall_18: 0.98 - ETA: 46s - loss: 0.0563 - recall_18: 0.98 - ETA: 45s - loss: 0.0567 - recall_18: 0.98 - ETA: 45s - loss: 0.0574 - recall_18: 0.98 - ETA: 44s - loss: 0.0569 - recall_18: 0.98 - ETA: 44s - loss: 0.0567 - recall_18: 0.98 - ETA: 44s - loss: 0.0562 - recall_18: 0.98 - ETA: 43s - loss: 0.0560 - recall_18: 0.98 - ETA: 43s - loss: 0.0560 - recall_18: 0.98 - ETA: 43s - loss: 0.0561 - recall_18: 0.98 - ETA: 42s - loss: 0.0557 - recall_18: 0.98 - ETA: 42s - loss: 0.0554 - recall_18: 0.98 - ETA: 42s - loss: 0.0548 - recall_18: 0.98 - ETA: 41s - loss: 0.0558 - recall_18: 0.98 - ETA: 41s - loss: 0.0562 - recall_18: 0.98 - ETA: 41s - loss: 0.0559 - recall_18: 0.98 - ETA: 40s - loss: 0.0555 - recall_18: 0.98 - ETA: 40s - loss: 0.0552 - recall_18: 0.98 - ETA: 40s - loss: 0.0551 - recall_18: 0.98 - ETA: 40s - loss: 0.0549 - recall_18: 0.98 - ETA: 39s - loss: 0.0550 - recall_18: 0.98 - ETA: 39s - loss: 0.0546 - recall_18: 0.98 - ETA: 39s - loss: 0.0541 - recall_18: 0.98 - ETA: 38s - loss: 0.0537 - recall_18: 0.98 - ETA: 38s - loss: 0.0536 - recall_18: 0.98 - ETA: 38s - loss: 0.0535 - recall_18: 0.98 - ETA: 38s - loss: 0.0533 - recall_18: 0.98 - ETA: 37s - loss: 0.0531 - recall_18: 0.98 - ETA: 37s - loss: 0.0528 - recall_18: 0.98 - ETA: 37s - loss: 0.0532 - recall_18: 0.98 - ETA: 37s - loss: 0.0548 - recall_18: 0.98 - ETA: 37s - loss: 0.0558 - recall_18: 0.98 - ETA: 36s - loss: 0.0562 - recall_18: 0.98 - ETA: 36s - loss: 0.0566 - recall_18: 0.98 - ETA: 36s - loss: 0.0567 - recall_18: 0.98 - ETA: 36s - loss: 0.0563 - recall_18: 0.98 - ETA: 35s - loss: 0.0562 - recall_18: 0.98 - ETA: 35s - loss: 0.0562 - recall_18: 0.98 - ETA: 35s - loss: 0.0567 - recall_18: 0.98 - ETA: 35s - loss: 0.0564 - recall_18: 0.98 - ETA: 35s - loss: 0.0562 - recall_18: 0.98 - ETA: 34s - loss: 0.0560 - recall_18: 0.98 - ETA: 34s - loss: 0.0557 - recall_18: 0.98 - ETA: 34s - loss: 0.0557 - recall_18: 0.98 - ETA: 34s - loss: 0.0561 - recall_18: 0.98 - ETA: 34s - loss: 0.0558 - recall_18: 0.98 - ETA: 34s - loss: 0.0558 - recall_18: 0.98 - ETA: 33s - loss: 0.0556 - recall_18: 0.98 - ETA: 33s - loss: 0.0558 - recall_18: 0.98 - ETA: 33s - loss: 0.0557 - recall_18: 0.98 - ETA: 33s - loss: 0.0560 - recall_18: 0.98 - ETA: 33s - loss: 0.0559 - recall_18: 0.98 - ETA: 32s - loss: 0.0559 - recall_18: 0.98 - ETA: 32s - loss: 0.0558 - recall_18: 0.98 - ETA: 32s - loss: 0.0556 - recall_18: 0.98 - ETA: 32s - loss: 0.0554 - recall_18: 0.98 - ETA: 32s - loss: 0.0553 - recall_18: 0.98 - ETA: 32s - loss: 0.0552 - recall_18: 0.98 - ETA: 32s - loss: 0.0557 - recall_18: 0.98 - ETA: 32s - loss: 0.0554 - recall_18: 0.98 - ETA: 31s - loss: 0.0551 - recall_18: 0.98 - ETA: 32s - loss: 0.0550 - recall_18: 0.98 - ETA: 31s - loss: 0.0559 - recall_18: 0.98 - ETA: 31s - loss: 0.0556 - recall_18: 0.98 - ETA: 31s - loss: 0.0561 - recall_18: 0.98 - ETA: 31s - loss: 0.0562 - recall_18: 0.98 - ETA: 31s - loss: 0.0561 - recall_18: 0.98 - ETA: 31s - loss: 0.0558 - recall_18: 0.98 - ETA: 30s - loss: 0.0557 - recall_18: 0.98 - ETA: 30s - loss: 0.0558 - recall_18: 0.98 - ETA: 30s - loss: 0.0558 - recall_18: 0.98 - ETA: 30s - loss: 0.0558 - recall_18: 0.98 - ETA: 30s - loss: 0.0557 - recall_18: 0.98 - ETA: 30s - loss: 0.0563 - recall_18: 0.98 - ETA: 30s - loss: 0.0563 - recall_18: 0.98 - ETA: 30s - loss: 0.0564 - recall_18: 0.98 - ETA: 29s - loss: 0.0566 - recall_18: 0.98 - ETA: 29s - loss: 0.0563 - recall_18: 0.98 - ETA: 29s - loss: 0.0563 - recall_18: 0.98 - ETA: 29s - loss: 0.0562 - recall_18: 0.98 - ETA: 29s - loss: 0.0562 - recall_18: 0.98 - ETA: 29s - loss: 0.0560 - recall_18: 0.98 - ETA: 29s - loss: 0.0557 - recall_18: 0.98 - ETA: 29s - loss: 0.0555 - recall_18: 0.98 - ETA: 29s - loss: 0.0556 - recall_18: 0.98 - ETA: 28s - loss: 0.0553 - recall_18: 0.98 - ETA: 28s - loss: 0.0551 - recall_18: 0.98 - ETA: 28s - loss: 0.0553 - recall_18: 0.98 - ETA: 28s - loss: 0.0552 - recall_18: 0.98 - ETA: 28s - loss: 0.0551 - recall_18: 0.98 - ETA: 28s - loss: 0.0551 - recall_18: 0.98 - ETA: 28s - loss: 0.0552 - recall_18: 0.98 - ETA: 28s - loss: 0.0559 - recall_18: 0.98 - ETA: 27s - loss: 0.0557 - recall_18: 0.98 - ETA: 27s - loss: 0.0558 - recall_18: 0.98 - ETA: 27s - loss: 0.0556 - recall_18: 0.98 - ETA: 27s - loss: 0.0555 - recall_18: 0.98 - ETA: 27s - loss: 0.0556 - recall_18: 0.98 - ETA: 27s - loss: 0.0554 - recall_18: 0.98 - ETA: 27s - loss: 0.0555 - recall_18: 0.98 - ETA: 27s - loss: 0.0553 - recall_18: 0.98 - ETA: 27s - loss: 0.0556 - recall_18: 0.98 - ETA: 26s - loss: 0.0553 - recall_18: 0.98 - ETA: 26s - loss: 0.0554 - recall_18: 0.98 - ETA: 26s - loss: 0.0555 - recall_18: 0.98 - ETA: 26s - loss: 0.0554 - recall_18: 0.98 - ETA: 26s - loss: 0.0553 - recall_18: 0.98 - ETA: 26s - loss: 0.0553 - recall_18: 0.98 - ETA: 26s - loss: 0.0557 - recall_18: 0.98 - ETA: 26s - loss: 0.0555 - recall_18: 0.98 - ETA: 26s - loss: 0.0554 - recall_18: 0.98 - ETA: 25s - loss: 0.0554 - recall_18: 0.98 - ETA: 25s - loss: 0.0553 - recall_18: 0.98 - ETA: 25s - loss: 0.0554 - recall_18: 0.98 - ETA: 25s - loss: 0.0553 - recall_18: 0.98 - ETA: 25s - loss: 0.0553 - recall_18: 0.9824\b\b\b\b\b\b\b\b\b\b\b\b\b\b\b\b\b\b\b\b\b\b\b\b\b\b\b\b\b\b\b\b\b\b\b\b\b\b\b\b\b\b\b\b\b\b\b\b\b\b\b\b\b\b\b\b\b\b\b\b\b\b\b\b\b\b\b\b\b\b\b\b\b\b\b\b\b\b\b\b\b\b\b\b\b\b\b\b\b\b"
     ]
    },
    {
     "name": "stdout",
     "output_type": "stream",
     "text": [
      "41056/59872 [===================>..........] - ETA: 25s - loss: 0.0552 - recall_18: 0.98 - ETA: 25s - loss: 0.0554 - recall_18: 0.98 - ETA: 25s - loss: 0.0554 - recall_18: 0.98 - ETA: 25s - loss: 0.0551 - recall_18: 0.98 - ETA: 25s - loss: 0.0555 - recall_18: 0.98 - ETA: 24s - loss: 0.0556 - recall_18: 0.98 - ETA: 24s - loss: 0.0556 - recall_18: 0.98 - ETA: 24s - loss: 0.0559 - recall_18: 0.98 - ETA: 24s - loss: 0.0558 - recall_18: 0.98 - ETA: 24s - loss: 0.0560 - recall_18: 0.98 - ETA: 24s - loss: 0.0561 - recall_18: 0.98 - ETA: 24s - loss: 0.0560 - recall_18: 0.98 - ETA: 24s - loss: 0.0562 - recall_18: 0.98 - ETA: 24s - loss: 0.0564 - recall_18: 0.98 - ETA: 24s - loss: 0.0563 - recall_18: 0.98 - ETA: 23s - loss: 0.0566 - recall_18: 0.98 - ETA: 23s - loss: 0.0569 - recall_18: 0.98 - ETA: 23s - loss: 0.0570 - recall_18: 0.98 - ETA: 23s - loss: 0.0571 - recall_18: 0.98 - ETA: 23s - loss: 0.0571 - recall_18: 0.98 - ETA: 23s - loss: 0.0570 - recall_18: 0.98 - ETA: 23s - loss: 0.0571 - recall_18: 0.98 - ETA: 23s - loss: 0.0569 - recall_18: 0.98 - ETA: 23s - loss: 0.0572 - recall_18: 0.98 - ETA: 23s - loss: 0.0573 - recall_18: 0.98 - ETA: 23s - loss: 0.0572 - recall_18: 0.98 - ETA: 22s - loss: 0.0572 - recall_18: 0.98 - ETA: 22s - loss: 0.0571 - recall_18: 0.98 - ETA: 22s - loss: 0.0570 - recall_18: 0.98 - ETA: 22s - loss: 0.0569 - recall_18: 0.98 - ETA: 22s - loss: 0.0569 - recall_18: 0.98 - ETA: 22s - loss: 0.0569 - recall_18: 0.98 - ETA: 22s - loss: 0.0568 - recall_18: 0.98 - ETA: 22s - loss: 0.0571 - recall_18: 0.98 - ETA: 22s - loss: 0.0569 - recall_18: 0.98 - ETA: 22s - loss: 0.0573 - recall_18: 0.98 - ETA: 22s - loss: 0.0573 - recall_18: 0.98 - ETA: 22s - loss: 0.0573 - recall_18: 0.98 - ETA: 22s - loss: 0.0575 - recall_18: 0.98 - ETA: 21s - loss: 0.0573 - recall_18: 0.98 - ETA: 21s - loss: 0.0573 - recall_18: 0.98 - ETA: 21s - loss: 0.0573 - recall_18: 0.98 - ETA: 21s - loss: 0.0577 - recall_18: 0.98 - ETA: 21s - loss: 0.0576 - recall_18: 0.98 - ETA: 21s - loss: 0.0574 - recall_18: 0.98 - ETA: 21s - loss: 0.0573 - recall_18: 0.98 - ETA: 21s - loss: 0.0572 - recall_18: 0.98 - ETA: 21s - loss: 0.0571 - recall_18: 0.98 - ETA: 21s - loss: 0.0571 - recall_18: 0.98 - ETA: 21s - loss: 0.0569 - recall_18: 0.98 - ETA: 21s - loss: 0.0568 - recall_18: 0.98 - ETA: 21s - loss: 0.0567 - recall_18: 0.98 - ETA: 20s - loss: 0.0571 - recall_18: 0.98 - ETA: 20s - loss: 0.0576 - recall_18: 0.98 - ETA: 20s - loss: 0.0574 - recall_18: 0.98 - ETA: 20s - loss: 0.0574 - recall_18: 0.98 - ETA: 20s - loss: 0.0574 - recall_18: 0.98 - ETA: 20s - loss: 0.0575 - recall_18: 0.98 - ETA: 20s - loss: 0.0575 - recall_18: 0.98 - ETA: 20s - loss: 0.0574 - recall_18: 0.98 - ETA: 20s - loss: 0.0574 - recall_18: 0.98 - ETA: 20s - loss: 0.0572 - recall_18: 0.98 - ETA: 20s - loss: 0.0572 - recall_18: 0.98 - ETA: 19s - loss: 0.0570 - recall_18: 0.98 - ETA: 19s - loss: 0.0570 - recall_18: 0.98 - ETA: 19s - loss: 0.0570 - recall_18: 0.98 - ETA: 19s - loss: 0.0569 - recall_18: 0.98 - ETA: 19s - loss: 0.0568 - recall_18: 0.98 - ETA: 19s - loss: 0.0568 - recall_18: 0.98 - ETA: 19s - loss: 0.0566 - recall_18: 0.98 - ETA: 19s - loss: 0.0565 - recall_18: 0.98 - ETA: 19s - loss: 0.0566 - recall_18: 0.98 - ETA: 19s - loss: 0.0565 - recall_18: 0.98 - ETA: 19s - loss: 0.0564 - recall_18: 0.98 - ETA: 19s - loss: 0.0563 - recall_18: 0.98 - ETA: 18s - loss: 0.0562 - recall_18: 0.98 - ETA: 18s - loss: 0.0564 - recall_18: 0.98 - ETA: 18s - loss: 0.0563 - recall_18: 0.98 - ETA: 18s - loss: 0.0562 - recall_18: 0.98 - ETA: 18s - loss: 0.0565 - recall_18: 0.98 - ETA: 18s - loss: 0.0563 - recall_18: 0.98 - ETA: 18s - loss: 0.0563 - recall_18: 0.98 - ETA: 18s - loss: 0.0562 - recall_18: 0.98 - ETA: 18s - loss: 0.0562 - recall_18: 0.98 - ETA: 18s - loss: 0.0563 - recall_18: 0.98 - ETA: 18s - loss: 0.0562 - recall_18: 0.98 - ETA: 18s - loss: 0.0562 - recall_18: 0.98 - ETA: 18s - loss: 0.0563 - recall_18: 0.98 - ETA: 17s - loss: 0.0562 - recall_18: 0.98 - ETA: 17s - loss: 0.0561 - recall_18: 0.98 - ETA: 17s - loss: 0.0560 - recall_18: 0.98 - ETA: 17s - loss: 0.0559 - recall_18: 0.98 - ETA: 17s - loss: 0.0560 - recall_18: 0.98 - ETA: 17s - loss: 0.0561 - recall_18: 0.98 - ETA: 17s - loss: 0.0560 - recall_18: 0.98 - ETA: 17s - loss: 0.0559 - recall_18: 0.98 - ETA: 17s - loss: 0.0558 - recall_18: 0.98 - ETA: 17s - loss: 0.0556 - recall_18: 0.98 - ETA: 17s - loss: 0.0555 - recall_18: 0.98 - ETA: 17s - loss: 0.0556 - recall_18: 0.98 - ETA: 17s - loss: 0.0559 - recall_18: 0.98 - ETA: 17s - loss: 0.0560 - recall_18: 0.98 - ETA: 16s - loss: 0.0559 - recall_18: 0.98 - ETA: 16s - loss: 0.0559 - recall_18: 0.98 - ETA: 16s - loss: 0.0559 - recall_18: 0.98 - ETA: 16s - loss: 0.0561 - recall_18: 0.98 - ETA: 16s - loss: 0.0561 - recall_18: 0.98 - ETA: 16s - loss: 0.0561 - recall_18: 0.98 - ETA: 16s - loss: 0.0561 - recall_18: 0.98 - ETA: 16s - loss: 0.0562 - recall_18: 0.98 - ETA: 16s - loss: 0.0563 - recall_18: 0.98 - ETA: 16s - loss: 0.0562 - recall_18: 0.98 - ETA: 16s - loss: 0.0563 - recall_18: 0.98 - ETA: 16s - loss: 0.0561 - recall_18: 0.98 - ETA: 16s - loss: 0.0561 - recall_18: 0.98 - ETA: 16s - loss: 0.0560 - recall_18: 0.98 - ETA: 15s - loss: 0.0561 - recall_18: 0.98 - ETA: 15s - loss: 0.0563 - recall_18: 0.98 - ETA: 15s - loss: 0.0563 - recall_18: 0.98 - ETA: 15s - loss: 0.0563 - recall_18: 0.98 - ETA: 15s - loss: 0.0563 - recall_18: 0.98 - ETA: 15s - loss: 0.0565 - recall_18: 0.98 - ETA: 15s - loss: 0.0565 - recall_18: 0.98 - ETA: 15s - loss: 0.0567 - recall_18: 0.98 - ETA: 15s - loss: 0.0567 - recall_18: 0.98 - ETA: 15s - loss: 0.0566 - recall_18: 0.98 - ETA: 15s - loss: 0.0569 - recall_18: 0.98 - ETA: 15s - loss: 0.0569 - recall_18: 0.98 - ETA: 15s - loss: 0.0569 - recall_18: 0.98 - ETA: 15s - loss: 0.0569 - recall_18: 0.98 - ETA: 14s - loss: 0.0572 - recall_18: 0.98 - ETA: 14s - loss: 0.0573 - recall_18: 0.98 - ETA: 14s - loss: 0.0574 - recall_18: 0.98 - ETA: 14s - loss: 0.0574 - recall_18: 0.98 - ETA: 14s - loss: 0.0576 - recall_18: 0.98 - ETA: 14s - loss: 0.0576 - recall_18: 0.98 - ETA: 14s - loss: 0.0575 - recall_18: 0.98 - ETA: 14s - loss: 0.0578 - recall_18: 0.98 - ETA: 14s - loss: 0.0580 - recall_18: 0.98 - ETA: 14s - loss: 0.0580 - recall_18: 0.98 - ETA: 14s - loss: 0.0579 - recall_18: 0.98 - ETA: 14s - loss: 0.0579 - recall_18: 0.98 - ETA: 14s - loss: 0.0579 - recall_18: 0.98 - ETA: 13s - loss: 0.0578 - recall_18: 0.98 - ETA: 13s - loss: 0.0579 - recall_18: 0.98 - ETA: 13s - loss: 0.0578 - recall_18: 0.98 - ETA: 13s - loss: 0.0577 - recall_18: 0.98 - ETA: 13s - loss: 0.0576 - recall_18: 0.98 - ETA: 13s - loss: 0.0576 - recall_18: 0.98 - ETA: 13s - loss: 0.0577 - recall_18: 0.98 - ETA: 13s - loss: 0.0575 - recall_18: 0.98 - ETA: 13s - loss: 0.0575 - recall_18: 0.98 - ETA: 13s - loss: 0.0578 - recall_18: 0.98 - ETA: 13s - loss: 0.0577 - recall_18: 0.98 - ETA: 13s - loss: 0.0578 - recall_18: 0.98 - ETA: 13s - loss: 0.0580 - recall_18: 0.98 - ETA: 12s - loss: 0.0579 - recall_18: 0.98 - ETA: 12s - loss: 0.0580 - recall_18: 0.98 - ETA: 12s - loss: 0.0579 - recall_18: 0.98 - ETA: 12s - loss: 0.0578 - recall_18: 0.98 - ETA: 12s - loss: 0.0579 - recall_18: 0.98 - ETA: 12s - loss: 0.0579 - recall_18: 0.98 - ETA: 12s - loss: 0.0578 - recall_18: 0.98 - ETA: 12s - loss: 0.0578 - recall_18: 0.98 - ETA: 12s - loss: 0.0578 - recall_18: 0.98 - ETA: 12s - loss: 0.0578 - recall_18: 0.98 - ETA: 12s - loss: 0.0577 - recall_18: 0.98 - ETA: 12s - loss: 0.0577 - recall_18: 0.98 - ETA: 12s - loss: 0.0577 - recall_18: 0.98 - ETA: 12s - loss: 0.0576 - recall_18: 0.98 - ETA: 12s - loss: 0.0577 - recall_18: 0.98 - ETA: 11s - loss: 0.0577 - recall_18: 0.98 - ETA: 11s - loss: 0.0577 - recall_18: 0.98 - ETA: 11s - loss: 0.0577 - recall_18: 0.98 - ETA: 11s - loss: 0.0577 - recall_18: 0.98 - ETA: 11s - loss: 0.0578 - recall_18: 0.98 - ETA: 11s - loss: 0.0578 - recall_18: 0.98 - ETA: 11s - loss: 0.0581 - recall_18: 0.98 - ETA: 11s - loss: 0.0581 - recall_18: 0.98 - ETA: 11s - loss: 0.0581 - recall_18: 0.98 - ETA: 11s - loss: 0.0581 - recall_18: 0.98 - ETA: 11s - loss: 0.0580 - recall_18: 0.98 - ETA: 11s - loss: 0.0581 - recall_18: 0.98 - ETA: 11s - loss: 0.0581 - recall_18: 0.98 - ETA: 11s - loss: 0.0581 - recall_18: 0.98 - ETA: 11s - loss: 0.0581 - recall_18: 0.9816"
     ]
    },
    {
     "name": "stdout",
     "output_type": "stream",
     "text": [
      "59872/59872 [==============================] - ETA: 10s - loss: 0.0581 - recall_18: 0.98 - ETA: 10s - loss: 0.0581 - recall_18: 0.98 - ETA: 10s - loss: 0.0580 - recall_18: 0.98 - ETA: 10s - loss: 0.0580 - recall_18: 0.98 - ETA: 10s - loss: 0.0580 - recall_18: 0.98 - ETA: 10s - loss: 0.0580 - recall_18: 0.98 - ETA: 10s - loss: 0.0580 - recall_18: 0.98 - ETA: 10s - loss: 0.0580 - recall_18: 0.98 - ETA: 10s - loss: 0.0582 - recall_18: 0.98 - ETA: 10s - loss: 0.0581 - recall_18: 0.98 - ETA: 10s - loss: 0.0580 - recall_18: 0.98 - ETA: 10s - loss: 0.0580 - recall_18: 0.98 - ETA: 10s - loss: 0.0579 - recall_18: 0.98 - ETA: 10s - loss: 0.0579 - recall_18: 0.98 - ETA: 10s - loss: 0.0579 - recall_18: 0.98 - ETA: 10s - loss: 0.0578 - recall_18: 0.98 - ETA: 9s - loss: 0.0577 - recall_18: 0.9819 - ETA: 9s - loss: 0.0577 - recall_18: 0.981 - ETA: 9s - loss: 0.0579 - recall_18: 0.981 - ETA: 9s - loss: 0.0580 - recall_18: 0.981 - ETA: 9s - loss: 0.0579 - recall_18: 0.981 - ETA: 9s - loss: 0.0580 - recall_18: 0.981 - ETA: 9s - loss: 0.0580 - recall_18: 0.981 - ETA: 9s - loss: 0.0580 - recall_18: 0.981 - ETA: 9s - loss: 0.0580 - recall_18: 0.981 - ETA: 9s - loss: 0.0579 - recall_18: 0.982 - ETA: 9s - loss: 0.0579 - recall_18: 0.982 - ETA: 9s - loss: 0.0580 - recall_18: 0.982 - ETA: 9s - loss: 0.0580 - recall_18: 0.982 - ETA: 9s - loss: 0.0582 - recall_18: 0.981 - ETA: 9s - loss: 0.0582 - recall_18: 0.981 - ETA: 9s - loss: 0.0582 - recall_18: 0.982 - ETA: 8s - loss: 0.0581 - recall_18: 0.982 - ETA: 8s - loss: 0.0581 - recall_18: 0.982 - ETA: 8s - loss: 0.0580 - recall_18: 0.982 - ETA: 8s - loss: 0.0580 - recall_18: 0.982 - ETA: 8s - loss: 0.0579 - recall_18: 0.982 - ETA: 8s - loss: 0.0579 - recall_18: 0.982 - ETA: 8s - loss: 0.0580 - recall_18: 0.981 - ETA: 8s - loss: 0.0580 - recall_18: 0.981 - ETA: 8s - loss: 0.0579 - recall_18: 0.981 - ETA: 8s - loss: 0.0581 - recall_18: 0.981 - ETA: 8s - loss: 0.0580 - recall_18: 0.981 - ETA: 8s - loss: 0.0580 - recall_18: 0.981 - ETA: 8s - loss: 0.0580 - recall_18: 0.981 - ETA: 8s - loss: 0.0579 - recall_18: 0.981 - ETA: 8s - loss: 0.0579 - recall_18: 0.981 - ETA: 7s - loss: 0.0578 - recall_18: 0.981 - ETA: 7s - loss: 0.0581 - recall_18: 0.981 - ETA: 7s - loss: 0.0581 - recall_18: 0.981 - ETA: 7s - loss: 0.0581 - recall_18: 0.981 - ETA: 7s - loss: 0.0581 - recall_18: 0.981 - ETA: 7s - loss: 0.0580 - recall_18: 0.981 - ETA: 7s - loss: 0.0580 - recall_18: 0.981 - ETA: 7s - loss: 0.0580 - recall_18: 0.981 - ETA: 7s - loss: 0.0579 - recall_18: 0.981 - ETA: 7s - loss: 0.0579 - recall_18: 0.981 - ETA: 7s - loss: 0.0579 - recall_18: 0.981 - ETA: 7s - loss: 0.0578 - recall_18: 0.982 - ETA: 7s - loss: 0.0577 - recall_18: 0.982 - ETA: 7s - loss: 0.0578 - recall_18: 0.981 - ETA: 6s - loss: 0.0577 - recall_18: 0.982 - ETA: 6s - loss: 0.0577 - recall_18: 0.982 - ETA: 6s - loss: 0.0578 - recall_18: 0.981 - ETA: 6s - loss: 0.0577 - recall_18: 0.982 - ETA: 6s - loss: 0.0576 - recall_18: 0.982 - ETA: 6s - loss: 0.0575 - recall_18: 0.982 - ETA: 6s - loss: 0.0574 - recall_18: 0.982 - ETA: 6s - loss: 0.0576 - recall_18: 0.982 - ETA: 6s - loss: 0.0575 - recall_18: 0.982 - ETA: 6s - loss: 0.0575 - recall_18: 0.982 - ETA: 6s - loss: 0.0575 - recall_18: 0.982 - ETA: 6s - loss: 0.0575 - recall_18: 0.982 - ETA: 6s - loss: 0.0575 - recall_18: 0.982 - ETA: 6s - loss: 0.0575 - recall_18: 0.982 - ETA: 5s - loss: 0.0576 - recall_18: 0.982 - ETA: 5s - loss: 0.0575 - recall_18: 0.982 - ETA: 5s - loss: 0.0575 - recall_18: 0.982 - ETA: 5s - loss: 0.0575 - recall_18: 0.982 - ETA: 5s - loss: 0.0574 - recall_18: 0.982 - ETA: 5s - loss: 0.0574 - recall_18: 0.982 - ETA: 5s - loss: 0.0573 - recall_18: 0.982 - ETA: 5s - loss: 0.0572 - recall_18: 0.982 - ETA: 5s - loss: 0.0573 - recall_18: 0.982 - ETA: 5s - loss: 0.0572 - recall_18: 0.982 - ETA: 5s - loss: 0.0574 - recall_18: 0.982 - ETA: 5s - loss: 0.0573 - recall_18: 0.982 - ETA: 5s - loss: 0.0573 - recall_18: 0.982 - ETA: 5s - loss: 0.0573 - recall_18: 0.982 - ETA: 5s - loss: 0.0574 - recall_18: 0.982 - ETA: 4s - loss: 0.0573 - recall_18: 0.982 - ETA: 4s - loss: 0.0572 - recall_18: 0.982 - ETA: 4s - loss: 0.0572 - recall_18: 0.982 - ETA: 4s - loss: 0.0572 - recall_18: 0.982 - ETA: 4s - loss: 0.0573 - recall_18: 0.982 - ETA: 4s - loss: 0.0572 - recall_18: 0.982 - ETA: 4s - loss: 0.0571 - recall_18: 0.982 - ETA: 4s - loss: 0.0571 - recall_18: 0.982 - ETA: 4s - loss: 0.0570 - recall_18: 0.982 - ETA: 4s - loss: 0.0570 - recall_18: 0.982 - ETA: 4s - loss: 0.0570 - recall_18: 0.982 - ETA: 4s - loss: 0.0569 - recall_18: 0.982 - ETA: 4s - loss: 0.0568 - recall_18: 0.982 - ETA: 4s - loss: 0.0568 - recall_18: 0.982 - ETA: 4s - loss: 0.0569 - recall_18: 0.982 - ETA: 4s - loss: 0.0568 - recall_18: 0.982 - ETA: 4s - loss: 0.0568 - recall_18: 0.982 - ETA: 3s - loss: 0.0568 - recall_18: 0.982 - ETA: 3s - loss: 0.0569 - recall_18: 0.982 - ETA: 3s - loss: 0.0568 - recall_18: 0.982 - ETA: 3s - loss: 0.0569 - recall_18: 0.982 - ETA: 3s - loss: 0.0568 - recall_18: 0.982 - ETA: 3s - loss: 0.0570 - recall_18: 0.982 - ETA: 3s - loss: 0.0569 - recall_18: 0.982 - ETA: 3s - loss: 0.0571 - recall_18: 0.982 - ETA: 3s - loss: 0.0570 - recall_18: 0.982 - ETA: 3s - loss: 0.0570 - recall_18: 0.982 - ETA: 3s - loss: 0.0570 - recall_18: 0.982 - ETA: 3s - loss: 0.0571 - recall_18: 0.982 - ETA: 3s - loss: 0.0571 - recall_18: 0.982 - ETA: 3s - loss: 0.0571 - recall_18: 0.982 - ETA: 3s - loss: 0.0571 - recall_18: 0.982 - ETA: 3s - loss: 0.0571 - recall_18: 0.982 - ETA: 3s - loss: 0.0571 - recall_18: 0.982 - ETA: 3s - loss: 0.0570 - recall_18: 0.982 - ETA: 3s - loss: 0.0571 - recall_18: 0.982 - ETA: 3s - loss: 0.0572 - recall_18: 0.982 - ETA: 3s - loss: 0.0572 - recall_18: 0.982 - ETA: 3s - loss: 0.0571 - recall_18: 0.982 - ETA: 3s - loss: 0.0571 - recall_18: 0.982 - ETA: 2s - loss: 0.0571 - recall_18: 0.982 - ETA: 2s - loss: 0.0572 - recall_18: 0.982 - ETA: 2s - loss: 0.0572 - recall_18: 0.982 - ETA: 2s - loss: 0.0572 - recall_18: 0.982 - ETA: 2s - loss: 0.0572 - recall_18: 0.982 - ETA: 2s - loss: 0.0573 - recall_18: 0.982 - ETA: 2s - loss: 0.0574 - recall_18: 0.982 - ETA: 2s - loss: 0.0573 - recall_18: 0.982 - ETA: 2s - loss: 0.0574 - recall_18: 0.982 - ETA: 2s - loss: 0.0574 - recall_18: 0.982 - ETA: 2s - loss: 0.0574 - recall_18: 0.982 - ETA: 2s - loss: 0.0574 - recall_18: 0.982 - ETA: 2s - loss: 0.0573 - recall_18: 0.982 - ETA: 2s - loss: 0.0573 - recall_18: 0.982 - ETA: 2s - loss: 0.0572 - recall_18: 0.982 - ETA: 2s - loss: 0.0573 - recall_18: 0.982 - ETA: 2s - loss: 0.0572 - recall_18: 0.982 - ETA: 1s - loss: 0.0572 - recall_18: 0.982 - ETA: 1s - loss: 0.0571 - recall_18: 0.982 - ETA: 1s - loss: 0.0571 - recall_18: 0.982 - ETA: 1s - loss: 0.0570 - recall_18: 0.982 - ETA: 1s - loss: 0.0570 - recall_18: 0.982 - ETA: 1s - loss: 0.0570 - recall_18: 0.982 - ETA: 1s - loss: 0.0569 - recall_18: 0.982 - ETA: 1s - loss: 0.0569 - recall_18: 0.982 - ETA: 1s - loss: 0.0569 - recall_18: 0.982 - ETA: 1s - loss: 0.0570 - recall_18: 0.982 - ETA: 1s - loss: 0.0571 - recall_18: 0.982 - ETA: 1s - loss: 0.0570 - recall_18: 0.982 - ETA: 1s - loss: 0.0572 - recall_18: 0.982 - ETA: 1s - loss: 0.0572 - recall_18: 0.982 - ETA: 1s - loss: 0.0572 - recall_18: 0.982 - ETA: 1s - loss: 0.0572 - recall_18: 0.982 - ETA: 0s - loss: 0.0571 - recall_18: 0.982 - ETA: 0s - loss: 0.0571 - recall_18: 0.982 - ETA: 0s - loss: 0.0571 - recall_18: 0.982 - ETA: 0s - loss: 0.0571 - recall_18: 0.982 - ETA: 0s - loss: 0.0570 - recall_18: 0.982 - ETA: 0s - loss: 0.0571 - recall_18: 0.982 - ETA: 0s - loss: 0.0570 - recall_18: 0.982 - ETA: 0s - loss: 0.0570 - recall_18: 0.982 - ETA: 0s - loss: 0.0570 - recall_18: 0.982 - ETA: 0s - loss: 0.0572 - recall_18: 0.982 - ETA: 0s - loss: 0.0574 - recall_18: 0.982 - ETA: 0s - loss: 0.0574 - recall_18: 0.982 - ETA: 0s - loss: 0.0574 - recall_18: 0.982 - ETA: 0s - loss: 0.0575 - recall_18: 0.982 - ETA: 0s - loss: 0.0574 - recall_18: 0.982 - 37s 611us/sample - loss: 0.0574 - recall_18: 0.9821 - val_loss: 0.4503 - val_recall_18: 0.9341\n",
      "Epoch 2/5\n"
     ]
    },
    {
     "name": "stdout",
     "output_type": "stream",
     "text": [
      "21024/59872 [=========>....................] - ETA: 35s - loss: 0.0072 - recall_18: 1.00 - ETA: 29s - loss: 0.0434 - recall_18: 0.98 - ETA: 27s - loss: 0.0341 - recall_18: 0.98 - ETA: 27s - loss: 0.0397 - recall_18: 0.98 - ETA: 26s - loss: 0.0540 - recall_18: 0.97 - ETA: 27s - loss: 0.0525 - recall_18: 0.97 - ETA: 27s - loss: 0.0487 - recall_18: 0.98 - ETA: 26s - loss: 0.0455 - recall_18: 0.98 - ETA: 26s - loss: 0.0527 - recall_18: 0.98 - ETA: 27s - loss: 0.0564 - recall_18: 0.98 - ETA: 27s - loss: 0.0556 - recall_18: 0.98 - ETA: 27s - loss: 0.0560 - recall_18: 0.98 - ETA: 27s - loss: 0.0615 - recall_18: 0.98 - ETA: 27s - loss: 0.0684 - recall_18: 0.98 - ETA: 27s - loss: 0.0669 - recall_18: 0.98 - ETA: 27s - loss: 0.0647 - recall_18: 0.98 - ETA: 27s - loss: 0.0622 - recall_18: 0.98 - ETA: 27s - loss: 0.0644 - recall_18: 0.98 - ETA: 27s - loss: 0.0626 - recall_18: 0.98 - ETA: 27s - loss: 0.0618 - recall_18: 0.98 - ETA: 27s - loss: 0.0593 - recall_18: 0.98 - ETA: 28s - loss: 0.0576 - recall_18: 0.98 - ETA: 27s - loss: 0.0577 - recall_18: 0.98 - ETA: 27s - loss: 0.0594 - recall_18: 0.98 - ETA: 27s - loss: 0.0601 - recall_18: 0.98 - ETA: 28s - loss: 0.0584 - recall_18: 0.98 - ETA: 27s - loss: 0.0564 - recall_18: 0.98 - ETA: 28s - loss: 0.0557 - recall_18: 0.98 - ETA: 28s - loss: 0.0548 - recall_18: 0.98 - ETA: 27s - loss: 0.0542 - recall_18: 0.98 - ETA: 27s - loss: 0.0527 - recall_18: 0.98 - ETA: 27s - loss: 0.0540 - recall_18: 0.98 - ETA: 27s - loss: 0.0531 - recall_18: 0.98 - ETA: 27s - loss: 0.0541 - recall_18: 0.98 - ETA: 27s - loss: 0.0534 - recall_18: 0.98 - ETA: 27s - loss: 0.0532 - recall_18: 0.98 - ETA: 27s - loss: 0.0537 - recall_18: 0.98 - ETA: 27s - loss: 0.0526 - recall_18: 0.98 - ETA: 27s - loss: 0.0521 - recall_18: 0.98 - ETA: 27s - loss: 0.0519 - recall_18: 0.98 - ETA: 27s - loss: 0.0521 - recall_18: 0.98 - ETA: 27s - loss: 0.0519 - recall_18: 0.98 - ETA: 27s - loss: 0.0516 - recall_18: 0.98 - ETA: 27s - loss: 0.0507 - recall_18: 0.98 - ETA: 27s - loss: 0.0502 - recall_18: 0.98 - ETA: 27s - loss: 0.0505 - recall_18: 0.98 - ETA: 27s - loss: 0.0510 - recall_18: 0.98 - ETA: 27s - loss: 0.0508 - recall_18: 0.98 - ETA: 27s - loss: 0.0505 - recall_18: 0.98 - ETA: 27s - loss: 0.0496 - recall_18: 0.98 - ETA: 27s - loss: 0.0498 - recall_18: 0.98 - ETA: 27s - loss: 0.0496 - recall_18: 0.98 - ETA: 27s - loss: 0.0496 - recall_18: 0.98 - ETA: 27s - loss: 0.0491 - recall_18: 0.98 - ETA: 27s - loss: 0.0491 - recall_18: 0.98 - ETA: 27s - loss: 0.0504 - recall_18: 0.98 - ETA: 27s - loss: 0.0499 - recall_18: 0.98 - ETA: 27s - loss: 0.0499 - recall_18: 0.98 - ETA: 27s - loss: 0.0494 - recall_18: 0.98 - ETA: 27s - loss: 0.0490 - recall_18: 0.98 - ETA: 27s - loss: 0.0493 - recall_18: 0.98 - ETA: 27s - loss: 0.0493 - recall_18: 0.98 - ETA: 27s - loss: 0.0501 - recall_18: 0.98 - ETA: 27s - loss: 0.0512 - recall_18: 0.98 - ETA: 27s - loss: 0.0507 - recall_18: 0.98 - ETA: 26s - loss: 0.0500 - recall_18: 0.98 - ETA: 26s - loss: 0.0497 - recall_18: 0.98 - ETA: 26s - loss: 0.0493 - recall_18: 0.98 - ETA: 26s - loss: 0.0494 - recall_18: 0.98 - ETA: 26s - loss: 0.0497 - recall_18: 0.98 - ETA: 26s - loss: 0.0497 - recall_18: 0.98 - ETA: 26s - loss: 0.0494 - recall_18: 0.98 - ETA: 26s - loss: 0.0493 - recall_18: 0.98 - ETA: 26s - loss: 0.0490 - recall_18: 0.98 - ETA: 26s - loss: 0.0487 - recall_18: 0.98 - ETA: 26s - loss: 0.0500 - recall_18: 0.98 - ETA: 26s - loss: 0.0507 - recall_18: 0.98 - ETA: 26s - loss: 0.0501 - recall_18: 0.98 - ETA: 26s - loss: 0.0507 - recall_18: 0.98 - ETA: 26s - loss: 0.0504 - recall_18: 0.98 - ETA: 25s - loss: 0.0502 - recall_18: 0.98 - ETA: 25s - loss: 0.0503 - recall_18: 0.98 - ETA: 25s - loss: 0.0502 - recall_18: 0.98 - ETA: 25s - loss: 0.0496 - recall_18: 0.98 - ETA: 25s - loss: 0.0498 - recall_18: 0.98 - ETA: 25s - loss: 0.0496 - recall_18: 0.98 - ETA: 25s - loss: 0.0493 - recall_18: 0.98 - ETA: 25s - loss: 0.0495 - recall_18: 0.98 - ETA: 25s - loss: 0.0496 - recall_18: 0.98 - ETA: 25s - loss: 0.0494 - recall_18: 0.98 - ETA: 25s - loss: 0.0490 - recall_18: 0.98 - ETA: 25s - loss: 0.0503 - recall_18: 0.98 - ETA: 24s - loss: 0.0503 - recall_18: 0.98 - ETA: 24s - loss: 0.0500 - recall_18: 0.98 - ETA: 24s - loss: 0.0496 - recall_18: 0.98 - ETA: 24s - loss: 0.0506 - recall_18: 0.98 - ETA: 24s - loss: 0.0509 - recall_18: 0.98 - ETA: 24s - loss: 0.0510 - recall_18: 0.98 - ETA: 24s - loss: 0.0511 - recall_18: 0.98 - ETA: 24s - loss: 0.0510 - recall_18: 0.98 - ETA: 24s - loss: 0.0511 - recall_18: 0.98 - ETA: 24s - loss: 0.0507 - recall_18: 0.98 - ETA: 24s - loss: 0.0508 - recall_18: 0.98 - ETA: 24s - loss: 0.0506 - recall_18: 0.98 - ETA: 24s - loss: 0.0506 - recall_18: 0.98 - ETA: 24s - loss: 0.0507 - recall_18: 0.98 - ETA: 24s - loss: 0.0505 - recall_18: 0.98 - ETA: 23s - loss: 0.0503 - recall_18: 0.98 - ETA: 23s - loss: 0.0500 - recall_18: 0.98 - ETA: 23s - loss: 0.0497 - recall_18: 0.98 - ETA: 23s - loss: 0.0495 - recall_18: 0.98 - ETA: 23s - loss: 0.0495 - recall_18: 0.98 - ETA: 23s - loss: 0.0496 - recall_18: 0.98 - ETA: 23s - loss: 0.0493 - recall_18: 0.98 - ETA: 23s - loss: 0.0492 - recall_18: 0.98 - ETA: 23s - loss: 0.0494 - recall_18: 0.98 - ETA: 23s - loss: 0.0493 - recall_18: 0.98 - ETA: 23s - loss: 0.0490 - recall_18: 0.98 - ETA: 23s - loss: 0.0489 - recall_18: 0.98 - ETA: 23s - loss: 0.0487 - recall_18: 0.98 - ETA: 23s - loss: 0.0487 - recall_18: 0.98 - ETA: 23s - loss: 0.0489 - recall_18: 0.98 - ETA: 23s - loss: 0.0489 - recall_18: 0.98 - ETA: 23s - loss: 0.0489 - recall_18: 0.98 - ETA: 23s - loss: 0.0486 - recall_18: 0.98 - ETA: 23s - loss: 0.0485 - recall_18: 0.98 - ETA: 23s - loss: 0.0482 - recall_18: 0.98 - ETA: 23s - loss: 0.0480 - recall_18: 0.98 - ETA: 23s - loss: 0.0479 - recall_18: 0.98 - ETA: 23s - loss: 0.0476 - recall_18: 0.98 - ETA: 23s - loss: 0.0474 - recall_18: 0.98 - ETA: 23s - loss: 0.0474 - recall_18: 0.98 - ETA: 23s - loss: 0.0474 - recall_18: 0.98 - ETA: 23s - loss: 0.0473 - recall_18: 0.98 - ETA: 22s - loss: 0.0474 - recall_18: 0.98 - ETA: 22s - loss: 0.0472 - recall_18: 0.98 - ETA: 22s - loss: 0.0471 - recall_18: 0.98 - ETA: 22s - loss: 0.0471 - recall_18: 0.98 - ETA: 22s - loss: 0.0471 - recall_18: 0.98 - ETA: 22s - loss: 0.0470 - recall_18: 0.98 - ETA: 22s - loss: 0.0477 - recall_18: 0.98 - ETA: 22s - loss: 0.0475 - recall_18: 0.98 - ETA: 22s - loss: 0.0474 - recall_18: 0.98 - ETA: 22s - loss: 0.0474 - recall_18: 0.98 - ETA: 22s - loss: 0.0475 - recall_18: 0.98 - ETA: 22s - loss: 0.0476 - recall_18: 0.98 - ETA: 22s - loss: 0.0479 - recall_18: 0.98 - ETA: 22s - loss: 0.0477 - recall_18: 0.98 - ETA: 22s - loss: 0.0474 - recall_18: 0.98 - ETA: 22s - loss: 0.0475 - recall_18: 0.98 - ETA: 22s - loss: 0.0473 - recall_18: 0.98 - ETA: 21s - loss: 0.0471 - recall_18: 0.98 - ETA: 21s - loss: 0.0471 - recall_18: 0.98 - ETA: 21s - loss: 0.0469 - recall_18: 0.98 - ETA: 21s - loss: 0.0468 - recall_18: 0.98 - ETA: 21s - loss: 0.0469 - recall_18: 0.98 - ETA: 21s - loss: 0.0470 - recall_18: 0.98 - ETA: 21s - loss: 0.0473 - recall_18: 0.98 - ETA: 21s - loss: 0.0470 - recall_18: 0.98 - ETA: 21s - loss: 0.0471 - recall_18: 0.98 - ETA: 21s - loss: 0.0470 - recall_18: 0.98 - ETA: 21s - loss: 0.0468 - recall_18: 0.98 - ETA: 21s - loss: 0.0470 - recall_18: 0.98 - ETA: 21s - loss: 0.0472 - recall_18: 0.98 - ETA: 21s - loss: 0.0470 - recall_18: 0.98 - ETA: 21s - loss: 0.0474 - recall_18: 0.98 - ETA: 21s - loss: 0.0472 - recall_18: 0.98 - ETA: 21s - loss: 0.0477 - recall_18: 0.98 - ETA: 21s - loss: 0.0475 - recall_18: 0.98 - ETA: 20s - loss: 0.0473 - recall_18: 0.98 - ETA: 20s - loss: 0.0471 - recall_18: 0.98 - ETA: 20s - loss: 0.0471 - recall_18: 0.98 - ETA: 20s - loss: 0.0471 - recall_18: 0.98 - ETA: 20s - loss: 0.0472 - recall_18: 0.98 - ETA: 20s - loss: 0.0470 - recall_18: 0.98 - ETA: 20s - loss: 0.0470 - recall_18: 0.98 - ETA: 20s - loss: 0.0470 - recall_18: 0.98 - ETA: 20s - loss: 0.0469 - recall_18: 0.98 - ETA: 20s - loss: 0.0467 - recall_18: 0.98 - ETA: 20s - loss: 0.0467 - recall_18: 0.98 - ETA: 20s - loss: 0.0466 - recall_18: 0.98 - ETA: 20s - loss: 0.0466 - recall_18: 0.98 - ETA: 20s - loss: 0.0470 - recall_18: 0.98 - ETA: 20s - loss: 0.0468 - recall_18: 0.98 - ETA: 20s - loss: 0.0470 - recall_18: 0.98 - ETA: 19s - loss: 0.0470 - recall_18: 0.9854"
     ]
    },
    {
     "name": "stdout",
     "output_type": "stream",
     "text": [
      "42112/59872 [====================>.........] - ETA: 19s - loss: 0.0475 - recall_18: 0.98 - ETA: 19s - loss: 0.0477 - recall_18: 0.98 - ETA: 19s - loss: 0.0475 - recall_18: 0.98 - ETA: 19s - loss: 0.0475 - recall_18: 0.98 - ETA: 19s - loss: 0.0477 - recall_18: 0.98 - ETA: 19s - loss: 0.0475 - recall_18: 0.98 - ETA: 19s - loss: 0.0479 - recall_18: 0.98 - ETA: 19s - loss: 0.0478 - recall_18: 0.98 - ETA: 19s - loss: 0.0477 - recall_18: 0.98 - ETA: 19s - loss: 0.0478 - recall_18: 0.98 - ETA: 19s - loss: 0.0478 - recall_18: 0.98 - ETA: 19s - loss: 0.0476 - recall_18: 0.98 - ETA: 19s - loss: 0.0477 - recall_18: 0.98 - ETA: 19s - loss: 0.0479 - recall_18: 0.98 - ETA: 19s - loss: 0.0479 - recall_18: 0.98 - ETA: 19s - loss: 0.0479 - recall_18: 0.98 - ETA: 19s - loss: 0.0479 - recall_18: 0.98 - ETA: 18s - loss: 0.0478 - recall_18: 0.98 - ETA: 18s - loss: 0.0478 - recall_18: 0.98 - ETA: 18s - loss: 0.0479 - recall_18: 0.98 - ETA: 18s - loss: 0.0479 - recall_18: 0.98 - ETA: 18s - loss: 0.0479 - recall_18: 0.98 - ETA: 18s - loss: 0.0479 - recall_18: 0.98 - ETA: 18s - loss: 0.0481 - recall_18: 0.98 - ETA: 18s - loss: 0.0483 - recall_18: 0.98 - ETA: 18s - loss: 0.0485 - recall_18: 0.98 - ETA: 18s - loss: 0.0487 - recall_18: 0.98 - ETA: 18s - loss: 0.0486 - recall_18: 0.98 - ETA: 18s - loss: 0.0485 - recall_18: 0.98 - ETA: 18s - loss: 0.0484 - recall_18: 0.98 - ETA: 18s - loss: 0.0483 - recall_18: 0.98 - ETA: 18s - loss: 0.0482 - recall_18: 0.98 - ETA: 18s - loss: 0.0481 - recall_18: 0.98 - ETA: 18s - loss: 0.0482 - recall_18: 0.98 - ETA: 17s - loss: 0.0484 - recall_18: 0.98 - ETA: 17s - loss: 0.0483 - recall_18: 0.98 - ETA: 17s - loss: 0.0482 - recall_18: 0.98 - ETA: 17s - loss: 0.0483 - recall_18: 0.98 - ETA: 17s - loss: 0.0483 - recall_18: 0.98 - ETA: 17s - loss: 0.0481 - recall_18: 0.98 - ETA: 17s - loss: 0.0483 - recall_18: 0.98 - ETA: 17s - loss: 0.0482 - recall_18: 0.98 - ETA: 17s - loss: 0.0481 - recall_18: 0.98 - ETA: 17s - loss: 0.0479 - recall_18: 0.98 - ETA: 17s - loss: 0.0479 - recall_18: 0.98 - ETA: 17s - loss: 0.0479 - recall_18: 0.98 - ETA: 17s - loss: 0.0478 - recall_18: 0.98 - ETA: 17s - loss: 0.0477 - recall_18: 0.98 - ETA: 17s - loss: 0.0477 - recall_18: 0.98 - ETA: 17s - loss: 0.0479 - recall_18: 0.98 - ETA: 17s - loss: 0.0477 - recall_18: 0.98 - ETA: 17s - loss: 0.0476 - recall_18: 0.98 - ETA: 16s - loss: 0.0476 - recall_18: 0.98 - ETA: 16s - loss: 0.0476 - recall_18: 0.98 - ETA: 16s - loss: 0.0475 - recall_18: 0.98 - ETA: 16s - loss: 0.0473 - recall_18: 0.98 - ETA: 16s - loss: 0.0476 - recall_18: 0.98 - ETA: 16s - loss: 0.0475 - recall_18: 0.98 - ETA: 16s - loss: 0.0474 - recall_18: 0.98 - ETA: 16s - loss: 0.0473 - recall_18: 0.98 - ETA: 16s - loss: 0.0472 - recall_18: 0.98 - ETA: 16s - loss: 0.0471 - recall_18: 0.98 - ETA: 16s - loss: 0.0470 - recall_18: 0.98 - ETA: 16s - loss: 0.0472 - recall_18: 0.98 - ETA: 16s - loss: 0.0470 - recall_18: 0.98 - ETA: 16s - loss: 0.0469 - recall_18: 0.98 - ETA: 16s - loss: 0.0468 - recall_18: 0.98 - ETA: 16s - loss: 0.0467 - recall_18: 0.98 - ETA: 16s - loss: 0.0465 - recall_18: 0.98 - ETA: 15s - loss: 0.0465 - recall_18: 0.98 - ETA: 15s - loss: 0.0464 - recall_18: 0.98 - ETA: 15s - loss: 0.0464 - recall_18: 0.98 - ETA: 15s - loss: 0.0462 - recall_18: 0.98 - ETA: 15s - loss: 0.0461 - recall_18: 0.98 - ETA: 15s - loss: 0.0461 - recall_18: 0.98 - ETA: 15s - loss: 0.0460 - recall_18: 0.98 - ETA: 15s - loss: 0.0459 - recall_18: 0.98 - ETA: 15s - loss: 0.0458 - recall_18: 0.98 - ETA: 15s - loss: 0.0458 - recall_18: 0.98 - ETA: 15s - loss: 0.0458 - recall_18: 0.98 - ETA: 15s - loss: 0.0457 - recall_18: 0.98 - ETA: 15s - loss: 0.0456 - recall_18: 0.98 - ETA: 15s - loss: 0.0456 - recall_18: 0.98 - ETA: 15s - loss: 0.0455 - recall_18: 0.98 - ETA: 15s - loss: 0.0455 - recall_18: 0.98 - ETA: 15s - loss: 0.0457 - recall_18: 0.98 - ETA: 14s - loss: 0.0457 - recall_18: 0.98 - ETA: 14s - loss: 0.0456 - recall_18: 0.98 - ETA: 14s - loss: 0.0455 - recall_18: 0.98 - ETA: 14s - loss: 0.0454 - recall_18: 0.98 - ETA: 14s - loss: 0.0454 - recall_18: 0.98 - ETA: 14s - loss: 0.0455 - recall_18: 0.98 - ETA: 14s - loss: 0.0456 - recall_18: 0.98 - ETA: 14s - loss: 0.0455 - recall_18: 0.98 - ETA: 14s - loss: 0.0458 - recall_18: 0.98 - ETA: 14s - loss: 0.0459 - recall_18: 0.98 - ETA: 14s - loss: 0.0460 - recall_18: 0.98 - ETA: 14s - loss: 0.0462 - recall_18: 0.98 - ETA: 14s - loss: 0.0461 - recall_18: 0.98 - ETA: 14s - loss: 0.0460 - recall_18: 0.98 - ETA: 14s - loss: 0.0459 - recall_18: 0.98 - ETA: 14s - loss: 0.0458 - recall_18: 0.98 - ETA: 14s - loss: 0.0458 - recall_18: 0.98 - ETA: 14s - loss: 0.0458 - recall_18: 0.98 - ETA: 13s - loss: 0.0458 - recall_18: 0.98 - ETA: 13s - loss: 0.0459 - recall_18: 0.98 - ETA: 13s - loss: 0.0458 - recall_18: 0.98 - ETA: 13s - loss: 0.0459 - recall_18: 0.98 - ETA: 13s - loss: 0.0458 - recall_18: 0.98 - ETA: 13s - loss: 0.0457 - recall_18: 0.98 - ETA: 13s - loss: 0.0457 - recall_18: 0.98 - ETA: 13s - loss: 0.0458 - recall_18: 0.98 - ETA: 13s - loss: 0.0457 - recall_18: 0.98 - ETA: 13s - loss: 0.0458 - recall_18: 0.98 - ETA: 13s - loss: 0.0457 - recall_18: 0.98 - ETA: 13s - loss: 0.0456 - recall_18: 0.98 - ETA: 13s - loss: 0.0460 - recall_18: 0.98 - ETA: 13s - loss: 0.0459 - recall_18: 0.98 - ETA: 13s - loss: 0.0458 - recall_18: 0.98 - ETA: 13s - loss: 0.0459 - recall_18: 0.98 - ETA: 13s - loss: 0.0458 - recall_18: 0.98 - ETA: 12s - loss: 0.0461 - recall_18: 0.98 - ETA: 12s - loss: 0.0461 - recall_18: 0.98 - ETA: 12s - loss: 0.0461 - recall_18: 0.98 - ETA: 12s - loss: 0.0463 - recall_18: 0.98 - ETA: 12s - loss: 0.0463 - recall_18: 0.98 - ETA: 12s - loss: 0.0463 - recall_18: 0.98 - ETA: 12s - loss: 0.0464 - recall_18: 0.98 - ETA: 12s - loss: 0.0463 - recall_18: 0.98 - ETA: 12s - loss: 0.0463 - recall_18: 0.98 - ETA: 12s - loss: 0.0462 - recall_18: 0.98 - ETA: 12s - loss: 0.0462 - recall_18: 0.98 - ETA: 12s - loss: 0.0461 - recall_18: 0.98 - ETA: 12s - loss: 0.0461 - recall_18: 0.98 - ETA: 12s - loss: 0.0460 - recall_18: 0.98 - ETA: 12s - loss: 0.0460 - recall_18: 0.98 - ETA: 12s - loss: 0.0461 - recall_18: 0.98 - ETA: 12s - loss: 0.0460 - recall_18: 0.98 - ETA: 12s - loss: 0.0459 - recall_18: 0.98 - ETA: 12s - loss: 0.0458 - recall_18: 0.98 - ETA: 11s - loss: 0.0458 - recall_18: 0.98 - ETA: 11s - loss: 0.0457 - recall_18: 0.98 - ETA: 11s - loss: 0.0457 - recall_18: 0.98 - ETA: 11s - loss: 0.0458 - recall_18: 0.98 - ETA: 11s - loss: 0.0459 - recall_18: 0.98 - ETA: 11s - loss: 0.0459 - recall_18: 0.98 - ETA: 11s - loss: 0.0459 - recall_18: 0.98 - ETA: 11s - loss: 0.0461 - recall_18: 0.98 - ETA: 11s - loss: 0.0461 - recall_18: 0.98 - ETA: 11s - loss: 0.0461 - recall_18: 0.98 - ETA: 11s - loss: 0.0460 - recall_18: 0.98 - ETA: 11s - loss: 0.0462 - recall_18: 0.98 - ETA: 11s - loss: 0.0461 - recall_18: 0.98 - ETA: 11s - loss: 0.0463 - recall_18: 0.98 - ETA: 11s - loss: 0.0463 - recall_18: 0.98 - ETA: 11s - loss: 0.0463 - recall_18: 0.98 - ETA: 10s - loss: 0.0465 - recall_18: 0.98 - ETA: 10s - loss: 0.0464 - recall_18: 0.98 - ETA: 10s - loss: 0.0467 - recall_18: 0.98 - ETA: 10s - loss: 0.0466 - recall_18: 0.98 - ETA: 10s - loss: 0.0465 - recall_18: 0.98 - ETA: 10s - loss: 0.0465 - recall_18: 0.98 - ETA: 10s - loss: 0.0466 - recall_18: 0.98 - ETA: 10s - loss: 0.0465 - recall_18: 0.98 - ETA: 10s - loss: 0.0465 - recall_18: 0.98 - ETA: 10s - loss: 0.0464 - recall_18: 0.98 - ETA: 10s - loss: 0.0464 - recall_18: 0.98 - ETA: 10s - loss: 0.0463 - recall_18: 0.98 - ETA: 10s - loss: 0.0462 - recall_18: 0.98 - ETA: 10s - loss: 0.0462 - recall_18: 0.98 - ETA: 10s - loss: 0.0463 - recall_18: 0.98 - ETA: 9s - loss: 0.0465 - recall_18: 0.9856 - ETA: 9s - loss: 0.0465 - recall_18: 0.985 - ETA: 9s - loss: 0.0465 - recall_18: 0.985 - ETA: 9s - loss: 0.0466 - recall_18: 0.985 - ETA: 9s - loss: 0.0466 - recall_18: 0.985 - ETA: 9s - loss: 0.0468 - recall_18: 0.985 - ETA: 9s - loss: 0.0467 - recall_18: 0.985 - ETA: 9s - loss: 0.0467 - recall_18: 0.985 - ETA: 9s - loss: 0.0466 - recall_18: 0.985 - ETA: 9s - loss: 0.0465 - recall_18: 0.985 - ETA: 9s - loss: 0.0465 - recall_18: 0.985 - ETA: 9s - loss: 0.0466 - recall_18: 0.985 - ETA: 9s - loss: 0.0466 - recall_18: 0.985 - ETA: 9s - loss: 0.0465 - recall_18: 0.985 - ETA: 9s - loss: 0.0466 - recall_18: 0.9856"
     ]
    },
    {
     "name": "stdout",
     "output_type": "stream",
     "text": [
      "59872/59872 [==============================] - ETA: 9s - loss: 0.0468 - recall_18: 0.985 - ETA: 9s - loss: 0.0468 - recall_18: 0.985 - ETA: 8s - loss: 0.0467 - recall_18: 0.985 - ETA: 8s - loss: 0.0468 - recall_18: 0.985 - ETA: 8s - loss: 0.0469 - recall_18: 0.985 - ETA: 8s - loss: 0.0469 - recall_18: 0.985 - ETA: 8s - loss: 0.0469 - recall_18: 0.985 - ETA: 8s - loss: 0.0469 - recall_18: 0.985 - ETA: 8s - loss: 0.0469 - recall_18: 0.985 - ETA: 8s - loss: 0.0470 - recall_18: 0.985 - ETA: 8s - loss: 0.0470 - recall_18: 0.985 - ETA: 8s - loss: 0.0469 - recall_18: 0.985 - ETA: 8s - loss: 0.0468 - recall_18: 0.985 - ETA: 8s - loss: 0.0468 - recall_18: 0.985 - ETA: 8s - loss: 0.0467 - recall_18: 0.985 - ETA: 8s - loss: 0.0467 - recall_18: 0.985 - ETA: 8s - loss: 0.0467 - recall_18: 0.985 - ETA: 8s - loss: 0.0468 - recall_18: 0.985 - ETA: 8s - loss: 0.0467 - recall_18: 0.985 - ETA: 7s - loss: 0.0466 - recall_18: 0.985 - ETA: 7s - loss: 0.0466 - recall_18: 0.985 - ETA: 7s - loss: 0.0467 - recall_18: 0.985 - ETA: 7s - loss: 0.0466 - recall_18: 0.985 - ETA: 7s - loss: 0.0466 - recall_18: 0.985 - ETA: 7s - loss: 0.0466 - recall_18: 0.985 - ETA: 7s - loss: 0.0465 - recall_18: 0.985 - ETA: 7s - loss: 0.0466 - recall_18: 0.985 - ETA: 7s - loss: 0.0465 - recall_18: 0.985 - ETA: 7s - loss: 0.0466 - recall_18: 0.985 - ETA: 7s - loss: 0.0466 - recall_18: 0.985 - ETA: 7s - loss: 0.0466 - recall_18: 0.985 - ETA: 7s - loss: 0.0466 - recall_18: 0.985 - ETA: 7s - loss: 0.0466 - recall_18: 0.985 - ETA: 7s - loss: 0.0467 - recall_18: 0.985 - ETA: 7s - loss: 0.0466 - recall_18: 0.985 - ETA: 7s - loss: 0.0465 - recall_18: 0.985 - ETA: 7s - loss: 0.0466 - recall_18: 0.985 - ETA: 6s - loss: 0.0466 - recall_18: 0.985 - ETA: 6s - loss: 0.0466 - recall_18: 0.985 - ETA: 6s - loss: 0.0467 - recall_18: 0.985 - ETA: 6s - loss: 0.0467 - recall_18: 0.985 - ETA: 6s - loss: 0.0467 - recall_18: 0.985 - ETA: 6s - loss: 0.0467 - recall_18: 0.985 - ETA: 6s - loss: 0.0468 - recall_18: 0.985 - ETA: 6s - loss: 0.0468 - recall_18: 0.985 - ETA: 6s - loss: 0.0469 - recall_18: 0.985 - ETA: 6s - loss: 0.0470 - recall_18: 0.985 - ETA: 6s - loss: 0.0470 - recall_18: 0.985 - ETA: 6s - loss: 0.0471 - recall_18: 0.985 - ETA: 6s - loss: 0.0471 - recall_18: 0.985 - ETA: 6s - loss: 0.0471 - recall_18: 0.985 - ETA: 6s - loss: 0.0470 - recall_18: 0.985 - ETA: 6s - loss: 0.0470 - recall_18: 0.985 - ETA: 5s - loss: 0.0469 - recall_18: 0.985 - ETA: 5s - loss: 0.0469 - recall_18: 0.985 - ETA: 5s - loss: 0.0469 - recall_18: 0.985 - ETA: 5s - loss: 0.0469 - recall_18: 0.985 - ETA: 5s - loss: 0.0468 - recall_18: 0.985 - ETA: 5s - loss: 0.0468 - recall_18: 0.985 - ETA: 5s - loss: 0.0468 - recall_18: 0.985 - ETA: 5s - loss: 0.0467 - recall_18: 0.985 - ETA: 5s - loss: 0.0468 - recall_18: 0.985 - ETA: 5s - loss: 0.0469 - recall_18: 0.985 - ETA: 5s - loss: 0.0468 - recall_18: 0.985 - ETA: 5s - loss: 0.0470 - recall_18: 0.985 - ETA: 5s - loss: 0.0470 - recall_18: 0.985 - ETA: 5s - loss: 0.0470 - recall_18: 0.985 - ETA: 5s - loss: 0.0470 - recall_18: 0.985 - ETA: 5s - loss: 0.0471 - recall_18: 0.985 - ETA: 4s - loss: 0.0470 - recall_18: 0.985 - ETA: 4s - loss: 0.0470 - recall_18: 0.985 - ETA: 4s - loss: 0.0470 - recall_18: 0.985 - ETA: 4s - loss: 0.0470 - recall_18: 0.985 - ETA: 4s - loss: 0.0470 - recall_18: 0.985 - ETA: 4s - loss: 0.0470 - recall_18: 0.985 - ETA: 4s - loss: 0.0471 - recall_18: 0.985 - ETA: 4s - loss: 0.0470 - recall_18: 0.985 - ETA: 4s - loss: 0.0469 - recall_18: 0.985 - ETA: 4s - loss: 0.0469 - recall_18: 0.985 - ETA: 4s - loss: 0.0468 - recall_18: 0.985 - ETA: 4s - loss: 0.0471 - recall_18: 0.985 - ETA: 4s - loss: 0.0471 - recall_18: 0.985 - ETA: 4s - loss: 0.0474 - recall_18: 0.985 - ETA: 4s - loss: 0.0473 - recall_18: 0.985 - ETA: 4s - loss: 0.0474 - recall_18: 0.985 - ETA: 4s - loss: 0.0474 - recall_18: 0.985 - ETA: 4s - loss: 0.0474 - recall_18: 0.985 - ETA: 3s - loss: 0.0473 - recall_18: 0.985 - ETA: 3s - loss: 0.0473 - recall_18: 0.985 - ETA: 3s - loss: 0.0474 - recall_18: 0.985 - ETA: 3s - loss: 0.0474 - recall_18: 0.985 - ETA: 3s - loss: 0.0476 - recall_18: 0.985 - ETA: 3s - loss: 0.0475 - recall_18: 0.985 - ETA: 3s - loss: 0.0478 - recall_18: 0.985 - ETA: 3s - loss: 0.0478 - recall_18: 0.985 - ETA: 3s - loss: 0.0478 - recall_18: 0.985 - ETA: 3s - loss: 0.0478 - recall_18: 0.985 - ETA: 3s - loss: 0.0478 - recall_18: 0.985 - ETA: 3s - loss: 0.0478 - recall_18: 0.985 - ETA: 3s - loss: 0.0478 - recall_18: 0.985 - ETA: 3s - loss: 0.0478 - recall_18: 0.985 - ETA: 3s - loss: 0.0478 - recall_18: 0.985 - ETA: 3s - loss: 0.0482 - recall_18: 0.985 - ETA: 3s - loss: 0.0484 - recall_18: 0.985 - ETA: 3s - loss: 0.0483 - recall_18: 0.985 - ETA: 3s - loss: 0.0483 - recall_18: 0.985 - ETA: 2s - loss: 0.0482 - recall_18: 0.985 - ETA: 2s - loss: 0.0484 - recall_18: 0.985 - ETA: 2s - loss: 0.0484 - recall_18: 0.985 - ETA: 2s - loss: 0.0484 - recall_18: 0.985 - ETA: 2s - loss: 0.0484 - recall_18: 0.985 - ETA: 2s - loss: 0.0485 - recall_18: 0.985 - ETA: 2s - loss: 0.0484 - recall_18: 0.985 - ETA: 2s - loss: 0.0485 - recall_18: 0.985 - ETA: 2s - loss: 0.0485 - recall_18: 0.985 - ETA: 2s - loss: 0.0486 - recall_18: 0.985 - ETA: 2s - loss: 0.0486 - recall_18: 0.985 - ETA: 2s - loss: 0.0486 - recall_18: 0.985 - ETA: 2s - loss: 0.0485 - recall_18: 0.985 - ETA: 2s - loss: 0.0486 - recall_18: 0.985 - ETA: 2s - loss: 0.0486 - recall_18: 0.985 - ETA: 2s - loss: 0.0486 - recall_18: 0.985 - ETA: 2s - loss: 0.0486 - recall_18: 0.985 - ETA: 1s - loss: 0.0485 - recall_18: 0.985 - ETA: 1s - loss: 0.0485 - recall_18: 0.985 - ETA: 1s - loss: 0.0486 - recall_18: 0.985 - ETA: 1s - loss: 0.0486 - recall_18: 0.985 - ETA: 1s - loss: 0.0486 - recall_18: 0.985 - ETA: 1s - loss: 0.0485 - recall_18: 0.985 - ETA: 1s - loss: 0.0486 - recall_18: 0.985 - ETA: 1s - loss: 0.0486 - recall_18: 0.985 - ETA: 1s - loss: 0.0486 - recall_18: 0.985 - ETA: 1s - loss: 0.0486 - recall_18: 0.985 - ETA: 1s - loss: 0.0485 - recall_18: 0.985 - ETA: 1s - loss: 0.0485 - recall_18: 0.985 - ETA: 1s - loss: 0.0485 - recall_18: 0.985 - ETA: 1s - loss: 0.0484 - recall_18: 0.985 - ETA: 1s - loss: 0.0484 - recall_18: 0.985 - ETA: 1s - loss: 0.0485 - recall_18: 0.985 - ETA: 1s - loss: 0.0484 - recall_18: 0.985 - ETA: 1s - loss: 0.0484 - recall_18: 0.985 - ETA: 0s - loss: 0.0483 - recall_18: 0.985 - ETA: 0s - loss: 0.0487 - recall_18: 0.985 - ETA: 0s - loss: 0.0487 - recall_18: 0.985 - ETA: 0s - loss: 0.0490 - recall_18: 0.985 - ETA: 0s - loss: 0.0492 - recall_18: 0.985 - ETA: 0s - loss: 0.0492 - recall_18: 0.985 - ETA: 0s - loss: 0.0491 - recall_18: 0.985 - ETA: 0s - loss: 0.0491 - recall_18: 0.985 - ETA: 0s - loss: 0.0490 - recall_18: 0.985 - ETA: 0s - loss: 0.0490 - recall_18: 0.985 - ETA: 0s - loss: 0.0489 - recall_18: 0.985 - ETA: 0s - loss: 0.0489 - recall_18: 0.985 - ETA: 0s - loss: 0.0489 - recall_18: 0.985 - ETA: 0s - loss: 0.0489 - recall_18: 0.985 - ETA: 0s - loss: 0.0489 - recall_18: 0.985 - ETA: 0s - loss: 0.0490 - recall_18: 0.985 - ETA: 0s - loss: 0.0489 - recall_18: 0.985 - 32s 536us/sample - loss: 0.0489 - recall_18: 0.9853 - val_loss: 0.4746 - val_recall_18: 0.9312\n",
      "Epoch 3/5\n"
     ]
    },
    {
     "name": "stdout",
     "output_type": "stream",
     "text": [
      "20736/59872 [=========>....................] - ETA: 41s - loss: 0.0166 - recall_18: 1.00 - ETA: 30s - loss: 0.0279 - recall_18: 0.99 - ETA: 30s - loss: 0.0338 - recall_18: 0.98 - ETA: 30s - loss: 0.0327 - recall_18: 0.98 - ETA: 29s - loss: 0.0286 - recall_18: 0.99 - ETA: 29s - loss: 0.0382 - recall_18: 0.98 - ETA: 29s - loss: 0.0354 - recall_18: 0.98 - ETA: 28s - loss: 0.0325 - recall_18: 0.98 - ETA: 28s - loss: 0.0340 - recall_18: 0.98 - ETA: 28s - loss: 0.0337 - recall_18: 0.98 - ETA: 28s - loss: 0.0370 - recall_18: 0.98 - ETA: 28s - loss: 0.0356 - recall_18: 0.98 - ETA: 28s - loss: 0.0344 - recall_18: 0.98 - ETA: 28s - loss: 0.0380 - recall_18: 0.98 - ETA: 28s - loss: 0.0379 - recall_18: 0.98 - ETA: 28s - loss: 0.0405 - recall_18: 0.98 - ETA: 29s - loss: 0.0404 - recall_18: 0.98 - ETA: 29s - loss: 0.0408 - recall_18: 0.98 - ETA: 30s - loss: 0.0402 - recall_18: 0.98 - ETA: 29s - loss: 0.0399 - recall_18: 0.98 - ETA: 29s - loss: 0.0401 - recall_18: 0.98 - ETA: 29s - loss: 0.0395 - recall_18: 0.98 - ETA: 29s - loss: 0.0403 - recall_18: 0.98 - ETA: 29s - loss: 0.0402 - recall_18: 0.98 - ETA: 29s - loss: 0.0405 - recall_18: 0.98 - ETA: 29s - loss: 0.0415 - recall_18: 0.98 - ETA: 28s - loss: 0.0436 - recall_18: 0.98 - ETA: 28s - loss: 0.0426 - recall_18: 0.98 - ETA: 28s - loss: 0.0431 - recall_18: 0.98 - ETA: 28s - loss: 0.0432 - recall_18: 0.98 - ETA: 28s - loss: 0.0425 - recall_18: 0.98 - ETA: 28s - loss: 0.0426 - recall_18: 0.98 - ETA: 28s - loss: 0.0420 - recall_18: 0.98 - ETA: 28s - loss: 0.0414 - recall_18: 0.98 - ETA: 28s - loss: 0.0437 - recall_18: 0.98 - ETA: 28s - loss: 0.0430 - recall_18: 0.98 - ETA: 28s - loss: 0.0429 - recall_18: 0.98 - ETA: 28s - loss: 0.0419 - recall_18: 0.98 - ETA: 28s - loss: 0.0418 - recall_18: 0.98 - ETA: 28s - loss: 0.0412 - recall_18: 0.98 - ETA: 28s - loss: 0.0412 - recall_18: 0.98 - ETA: 28s - loss: 0.0405 - recall_18: 0.98 - ETA: 28s - loss: 0.0401 - recall_18: 0.98 - ETA: 28s - loss: 0.0403 - recall_18: 0.98 - ETA: 28s - loss: 0.0409 - recall_18: 0.98 - ETA: 28s - loss: 0.0419 - recall_18: 0.98 - ETA: 28s - loss: 0.0436 - recall_18: 0.98 - ETA: 28s - loss: 0.0446 - recall_18: 0.98 - ETA: 28s - loss: 0.0449 - recall_18: 0.98 - ETA: 28s - loss: 0.0444 - recall_18: 0.98 - ETA: 28s - loss: 0.0436 - recall_18: 0.98 - ETA: 27s - loss: 0.0431 - recall_18: 0.98 - ETA: 27s - loss: 0.0427 - recall_18: 0.98 - ETA: 27s - loss: 0.0426 - recall_18: 0.98 - ETA: 27s - loss: 0.0427 - recall_18: 0.98 - ETA: 27s - loss: 0.0423 - recall_18: 0.98 - ETA: 27s - loss: 0.0417 - recall_18: 0.98 - ETA: 27s - loss: 0.0418 - recall_18: 0.98 - ETA: 27s - loss: 0.0419 - recall_18: 0.98 - ETA: 27s - loss: 0.0432 - recall_18: 0.98 - ETA: 27s - loss: 0.0428 - recall_18: 0.98 - ETA: 27s - loss: 0.0426 - recall_18: 0.98 - ETA: 27s - loss: 0.0424 - recall_18: 0.98 - ETA: 27s - loss: 0.0422 - recall_18: 0.98 - ETA: 27s - loss: 0.0425 - recall_18: 0.98 - ETA: 27s - loss: 0.0421 - recall_18: 0.98 - ETA: 27s - loss: 0.0435 - recall_18: 0.98 - ETA: 27s - loss: 0.0436 - recall_18: 0.98 - ETA: 26s - loss: 0.0435 - recall_18: 0.98 - ETA: 26s - loss: 0.0447 - recall_18: 0.98 - ETA: 26s - loss: 0.0443 - recall_18: 0.98 - ETA: 26s - loss: 0.0447 - recall_18: 0.98 - ETA: 26s - loss: 0.0444 - recall_18: 0.98 - ETA: 26s - loss: 0.0439 - recall_18: 0.98 - ETA: 26s - loss: 0.0436 - recall_18: 0.98 - ETA: 26s - loss: 0.0438 - recall_18: 0.98 - ETA: 26s - loss: 0.0436 - recall_18: 0.98 - ETA: 26s - loss: 0.0433 - recall_18: 0.98 - ETA: 26s - loss: 0.0431 - recall_18: 0.98 - ETA: 26s - loss: 0.0430 - recall_18: 0.98 - ETA: 26s - loss: 0.0427 - recall_18: 0.98 - ETA: 26s - loss: 0.0427 - recall_18: 0.98 - ETA: 26s - loss: 0.0428 - recall_18: 0.98 - ETA: 26s - loss: 0.0424 - recall_18: 0.98 - ETA: 26s - loss: 0.0424 - recall_18: 0.98 - ETA: 25s - loss: 0.0424 - recall_18: 0.98 - ETA: 25s - loss: 0.0420 - recall_18: 0.98 - ETA: 25s - loss: 0.0418 - recall_18: 0.98 - ETA: 25s - loss: 0.0416 - recall_18: 0.98 - ETA: 25s - loss: 0.0414 - recall_18: 0.98 - ETA: 25s - loss: 0.0410 - recall_18: 0.98 - ETA: 25s - loss: 0.0407 - recall_18: 0.98 - ETA: 25s - loss: 0.0411 - recall_18: 0.98 - ETA: 25s - loss: 0.0414 - recall_18: 0.98 - ETA: 25s - loss: 0.0414 - recall_18: 0.98 - ETA: 25s - loss: 0.0418 - recall_18: 0.98 - ETA: 25s - loss: 0.0416 - recall_18: 0.98 - ETA: 25s - loss: 0.0414 - recall_18: 0.98 - ETA: 25s - loss: 0.0411 - recall_18: 0.98 - ETA: 25s - loss: 0.0408 - recall_18: 0.98 - ETA: 24s - loss: 0.0408 - recall_18: 0.98 - ETA: 24s - loss: 0.0412 - recall_18: 0.98 - ETA: 24s - loss: 0.0410 - recall_18: 0.98 - ETA: 24s - loss: 0.0406 - recall_18: 0.98 - ETA: 24s - loss: 0.0403 - recall_18: 0.98 - ETA: 24s - loss: 0.0402 - recall_18: 0.98 - ETA: 24s - loss: 0.0403 - recall_18: 0.98 - ETA: 24s - loss: 0.0406 - recall_18: 0.98 - ETA: 24s - loss: 0.0410 - recall_18: 0.98 - ETA: 24s - loss: 0.0409 - recall_18: 0.98 - ETA: 24s - loss: 0.0413 - recall_18: 0.98 - ETA: 24s - loss: 0.0411 - recall_18: 0.98 - ETA: 24s - loss: 0.0410 - recall_18: 0.98 - ETA: 24s - loss: 0.0409 - recall_18: 0.98 - ETA: 24s - loss: 0.0413 - recall_18: 0.98 - ETA: 23s - loss: 0.0412 - recall_18: 0.98 - ETA: 23s - loss: 0.0410 - recall_18: 0.98 - ETA: 23s - loss: 0.0409 - recall_18: 0.98 - ETA: 23s - loss: 0.0408 - recall_18: 0.98 - ETA: 23s - loss: 0.0409 - recall_18: 0.98 - ETA: 23s - loss: 0.0411 - recall_18: 0.98 - ETA: 23s - loss: 0.0410 - recall_18: 0.98 - ETA: 23s - loss: 0.0408 - recall_18: 0.98 - ETA: 23s - loss: 0.0408 - recall_18: 0.98 - ETA: 23s - loss: 0.0405 - recall_18: 0.98 - ETA: 23s - loss: 0.0405 - recall_18: 0.98 - ETA: 23s - loss: 0.0410 - recall_18: 0.98 - ETA: 23s - loss: 0.0407 - recall_18: 0.98 - ETA: 23s - loss: 0.0407 - recall_18: 0.98 - ETA: 23s - loss: 0.0407 - recall_18: 0.98 - ETA: 23s - loss: 0.0409 - recall_18: 0.98 - ETA: 22s - loss: 0.0412 - recall_18: 0.98 - ETA: 22s - loss: 0.0414 - recall_18: 0.98 - ETA: 22s - loss: 0.0412 - recall_18: 0.98 - ETA: 22s - loss: 0.0413 - recall_18: 0.98 - ETA: 22s - loss: 0.0412 - recall_18: 0.98 - ETA: 22s - loss: 0.0411 - recall_18: 0.98 - ETA: 22s - loss: 0.0410 - recall_18: 0.98 - ETA: 22s - loss: 0.0407 - recall_18: 0.98 - ETA: 22s - loss: 0.0408 - recall_18: 0.98 - ETA: 22s - loss: 0.0407 - recall_18: 0.98 - ETA: 22s - loss: 0.0407 - recall_18: 0.98 - ETA: 22s - loss: 0.0410 - recall_18: 0.98 - ETA: 22s - loss: 0.0408 - recall_18: 0.98 - ETA: 22s - loss: 0.0405 - recall_18: 0.98 - ETA: 22s - loss: 0.0408 - recall_18: 0.98 - ETA: 22s - loss: 0.0411 - recall_18: 0.98 - ETA: 22s - loss: 0.0410 - recall_18: 0.98 - ETA: 22s - loss: 0.0412 - recall_18: 0.98 - ETA: 21s - loss: 0.0415 - recall_18: 0.98 - ETA: 21s - loss: 0.0418 - recall_18: 0.98 - ETA: 21s - loss: 0.0418 - recall_18: 0.98 - ETA: 21s - loss: 0.0417 - recall_18: 0.98 - ETA: 21s - loss: 0.0416 - recall_18: 0.98 - ETA: 21s - loss: 0.0415 - recall_18: 0.98 - ETA: 21s - loss: 0.0416 - recall_18: 0.98 - ETA: 21s - loss: 0.0416 - recall_18: 0.98 - ETA: 21s - loss: 0.0415 - recall_18: 0.98 - ETA: 21s - loss: 0.0417 - recall_18: 0.98 - ETA: 21s - loss: 0.0416 - recall_18: 0.98 - ETA: 21s - loss: 0.0416 - recall_18: 0.98 - ETA: 21s - loss: 0.0415 - recall_18: 0.98 - ETA: 21s - loss: 0.0419 - recall_18: 0.98 - ETA: 21s - loss: 0.0420 - recall_18: 0.98 - ETA: 21s - loss: 0.0419 - recall_18: 0.98 - ETA: 21s - loss: 0.0419 - recall_18: 0.98 - ETA: 21s - loss: 0.0418 - recall_18: 0.98 - ETA: 21s - loss: 0.0421 - recall_18: 0.98 - ETA: 21s - loss: 0.0422 - recall_18: 0.98 - ETA: 20s - loss: 0.0421 - recall_18: 0.98 - ETA: 20s - loss: 0.0422 - recall_18: 0.98 - ETA: 20s - loss: 0.0425 - recall_18: 0.98 - ETA: 20s - loss: 0.0427 - recall_18: 0.98 - ETA: 20s - loss: 0.0426 - recall_18: 0.98 - ETA: 20s - loss: 0.0426 - recall_18: 0.98 - ETA: 20s - loss: 0.0426 - recall_18: 0.98 - ETA: 20s - loss: 0.0426 - recall_18: 0.98 - ETA: 20s - loss: 0.0429 - recall_18: 0.98 - ETA: 20s - loss: 0.0428 - recall_18: 0.98 - ETA: 20s - loss: 0.0427 - recall_18: 0.98 - ETA: 20s - loss: 0.0426 - recall_18: 0.98 - ETA: 20s - loss: 0.0426 - recall_18: 0.98 - ETA: 20s - loss: 0.0424 - recall_18: 0.98 - ETA: 20s - loss: 0.0427 - recall_18: 0.98 - ETA: 20s - loss: 0.0428 - recall_18: 0.98 - ETA: 20s - loss: 0.0428 - recall_18: 0.9870"
     ]
    },
    {
     "name": "stdout",
     "output_type": "stream",
     "text": [
      "40960/59872 [===================>..........] - ETA: 20s - loss: 0.0426 - recall_18: 0.98 - ETA: 20s - loss: 0.0425 - recall_18: 0.98 - ETA: 20s - loss: 0.0423 - recall_18: 0.98 - ETA: 20s - loss: 0.0422 - recall_18: 0.98 - ETA: 20s - loss: 0.0421 - recall_18: 0.98 - ETA: 19s - loss: 0.0421 - recall_18: 0.98 - ETA: 19s - loss: 0.0419 - recall_18: 0.98 - ETA: 19s - loss: 0.0417 - recall_18: 0.98 - ETA: 19s - loss: 0.0416 - recall_18: 0.98 - ETA: 19s - loss: 0.0417 - recall_18: 0.98 - ETA: 19s - loss: 0.0418 - recall_18: 0.98 - ETA: 19s - loss: 0.0418 - recall_18: 0.98 - ETA: 19s - loss: 0.0418 - recall_18: 0.98 - ETA: 19s - loss: 0.0419 - recall_18: 0.98 - ETA: 19s - loss: 0.0419 - recall_18: 0.98 - ETA: 19s - loss: 0.0420 - recall_18: 0.98 - ETA: 19s - loss: 0.0420 - recall_18: 0.98 - ETA: 19s - loss: 0.0423 - recall_18: 0.98 - ETA: 19s - loss: 0.0421 - recall_18: 0.98 - ETA: 19s - loss: 0.0424 - recall_18: 0.98 - ETA: 19s - loss: 0.0423 - recall_18: 0.98 - ETA: 19s - loss: 0.0423 - recall_18: 0.98 - ETA: 19s - loss: 0.0421 - recall_18: 0.98 - ETA: 19s - loss: 0.0424 - recall_18: 0.98 - ETA: 19s - loss: 0.0425 - recall_18: 0.98 - ETA: 19s - loss: 0.0425 - recall_18: 0.98 - ETA: 19s - loss: 0.0425 - recall_18: 0.98 - ETA: 18s - loss: 0.0426 - recall_18: 0.98 - ETA: 18s - loss: 0.0426 - recall_18: 0.98 - ETA: 18s - loss: 0.0425 - recall_18: 0.98 - ETA: 18s - loss: 0.0424 - recall_18: 0.98 - ETA: 18s - loss: 0.0423 - recall_18: 0.98 - ETA: 18s - loss: 0.0424 - recall_18: 0.98 - ETA: 18s - loss: 0.0422 - recall_18: 0.98 - ETA: 18s - loss: 0.0422 - recall_18: 0.98 - ETA: 18s - loss: 0.0423 - recall_18: 0.98 - ETA: 18s - loss: 0.0424 - recall_18: 0.98 - ETA: 18s - loss: 0.0423 - recall_18: 0.98 - ETA: 18s - loss: 0.0422 - recall_18: 0.98 - ETA: 18s - loss: 0.0423 - recall_18: 0.98 - ETA: 18s - loss: 0.0425 - recall_18: 0.98 - ETA: 18s - loss: 0.0424 - recall_18: 0.98 - ETA: 18s - loss: 0.0424 - recall_18: 0.98 - ETA: 18s - loss: 0.0424 - recall_18: 0.98 - ETA: 18s - loss: 0.0424 - recall_18: 0.98 - ETA: 18s - loss: 0.0425 - recall_18: 0.98 - ETA: 17s - loss: 0.0424 - recall_18: 0.98 - ETA: 17s - loss: 0.0423 - recall_18: 0.98 - ETA: 17s - loss: 0.0426 - recall_18: 0.98 - ETA: 17s - loss: 0.0425 - recall_18: 0.98 - ETA: 17s - loss: 0.0424 - recall_18: 0.98 - ETA: 17s - loss: 0.0424 - recall_18: 0.98 - ETA: 17s - loss: 0.0424 - recall_18: 0.98 - ETA: 17s - loss: 0.0424 - recall_18: 0.98 - ETA: 17s - loss: 0.0424 - recall_18: 0.98 - ETA: 17s - loss: 0.0427 - recall_18: 0.98 - ETA: 17s - loss: 0.0426 - recall_18: 0.98 - ETA: 17s - loss: 0.0425 - recall_18: 0.98 - ETA: 17s - loss: 0.0424 - recall_18: 0.98 - ETA: 17s - loss: 0.0423 - recall_18: 0.98 - ETA: 17s - loss: 0.0422 - recall_18: 0.98 - ETA: 17s - loss: 0.0422 - recall_18: 0.98 - ETA: 17s - loss: 0.0421 - recall_18: 0.98 - ETA: 17s - loss: 0.0421 - recall_18: 0.98 - ETA: 17s - loss: 0.0422 - recall_18: 0.98 - ETA: 17s - loss: 0.0421 - recall_18: 0.98 - ETA: 16s - loss: 0.0422 - recall_18: 0.98 - ETA: 16s - loss: 0.0425 - recall_18: 0.98 - ETA: 16s - loss: 0.0424 - recall_18: 0.98 - ETA: 16s - loss: 0.0428 - recall_18: 0.98 - ETA: 16s - loss: 0.0428 - recall_18: 0.98 - ETA: 16s - loss: 0.0431 - recall_18: 0.98 - ETA: 16s - loss: 0.0430 - recall_18: 0.98 - ETA: 16s - loss: 0.0431 - recall_18: 0.98 - ETA: 16s - loss: 0.0430 - recall_18: 0.98 - ETA: 16s - loss: 0.0430 - recall_18: 0.98 - ETA: 16s - loss: 0.0429 - recall_18: 0.98 - ETA: 16s - loss: 0.0430 - recall_18: 0.98 - ETA: 16s - loss: 0.0429 - recall_18: 0.98 - ETA: 16s - loss: 0.0430 - recall_18: 0.98 - ETA: 16s - loss: 0.0432 - recall_18: 0.98 - ETA: 16s - loss: 0.0432 - recall_18: 0.98 - ETA: 16s - loss: 0.0432 - recall_18: 0.98 - ETA: 16s - loss: 0.0431 - recall_18: 0.98 - ETA: 15s - loss: 0.0431 - recall_18: 0.98 - ETA: 15s - loss: 0.0430 - recall_18: 0.98 - ETA: 15s - loss: 0.0430 - recall_18: 0.98 - ETA: 15s - loss: 0.0430 - recall_18: 0.98 - ETA: 15s - loss: 0.0429 - recall_18: 0.98 - ETA: 15s - loss: 0.0428 - recall_18: 0.98 - ETA: 15s - loss: 0.0427 - recall_18: 0.98 - ETA: 15s - loss: 0.0429 - recall_18: 0.98 - ETA: 15s - loss: 0.0430 - recall_18: 0.98 - ETA: 15s - loss: 0.0430 - recall_18: 0.98 - ETA: 15s - loss: 0.0429 - recall_18: 0.98 - ETA: 15s - loss: 0.0428 - recall_18: 0.98 - ETA: 15s - loss: 0.0428 - recall_18: 0.98 - ETA: 15s - loss: 0.0428 - recall_18: 0.98 - ETA: 15s - loss: 0.0429 - recall_18: 0.98 - ETA: 15s - loss: 0.0429 - recall_18: 0.98 - ETA: 15s - loss: 0.0428 - recall_18: 0.98 - ETA: 14s - loss: 0.0430 - recall_18: 0.98 - ETA: 14s - loss: 0.0430 - recall_18: 0.98 - ETA: 14s - loss: 0.0430 - recall_18: 0.98 - ETA: 14s - loss: 0.0429 - recall_18: 0.98 - ETA: 14s - loss: 0.0429 - recall_18: 0.98 - ETA: 14s - loss: 0.0430 - recall_18: 0.98 - ETA: 14s - loss: 0.0429 - recall_18: 0.98 - ETA: 14s - loss: 0.0429 - recall_18: 0.98 - ETA: 14s - loss: 0.0428 - recall_18: 0.98 - ETA: 14s - loss: 0.0428 - recall_18: 0.98 - ETA: 14s - loss: 0.0427 - recall_18: 0.98 - ETA: 14s - loss: 0.0429 - recall_18: 0.98 - ETA: 14s - loss: 0.0431 - recall_18: 0.98 - ETA: 14s - loss: 0.0433 - recall_18: 0.98 - ETA: 14s - loss: 0.0433 - recall_18: 0.98 - ETA: 14s - loss: 0.0432 - recall_18: 0.98 - ETA: 13s - loss: 0.0433 - recall_18: 0.98 - ETA: 13s - loss: 0.0432 - recall_18: 0.98 - ETA: 13s - loss: 0.0432 - recall_18: 0.98 - ETA: 13s - loss: 0.0432 - recall_18: 0.98 - ETA: 13s - loss: 0.0432 - recall_18: 0.98 - ETA: 13s - loss: 0.0432 - recall_18: 0.98 - ETA: 13s - loss: 0.0432 - recall_18: 0.98 - ETA: 13s - loss: 0.0436 - recall_18: 0.98 - ETA: 13s - loss: 0.0435 - recall_18: 0.98 - ETA: 13s - loss: 0.0435 - recall_18: 0.98 - ETA: 13s - loss: 0.0435 - recall_18: 0.98 - ETA: 13s - loss: 0.0434 - recall_18: 0.98 - ETA: 13s - loss: 0.0436 - recall_18: 0.98 - ETA: 13s - loss: 0.0435 - recall_18: 0.98 - ETA: 13s - loss: 0.0436 - recall_18: 0.98 - ETA: 13s - loss: 0.0436 - recall_18: 0.98 - ETA: 13s - loss: 0.0438 - recall_18: 0.98 - ETA: 13s - loss: 0.0441 - recall_18: 0.98 - ETA: 12s - loss: 0.0440 - recall_18: 0.98 - ETA: 12s - loss: 0.0440 - recall_18: 0.98 - ETA: 12s - loss: 0.0442 - recall_18: 0.98 - ETA: 12s - loss: 0.0442 - recall_18: 0.98 - ETA: 12s - loss: 0.0441 - recall_18: 0.98 - ETA: 12s - loss: 0.0440 - recall_18: 0.98 - ETA: 12s - loss: 0.0441 - recall_18: 0.98 - ETA: 12s - loss: 0.0441 - recall_18: 0.98 - ETA: 12s - loss: 0.0440 - recall_18: 0.98 - ETA: 12s - loss: 0.0440 - recall_18: 0.98 - ETA: 12s - loss: 0.0439 - recall_18: 0.98 - ETA: 12s - loss: 0.0439 - recall_18: 0.98 - ETA: 12s - loss: 0.0439 - recall_18: 0.98 - ETA: 12s - loss: 0.0440 - recall_18: 0.98 - ETA: 12s - loss: 0.0440 - recall_18: 0.98 - ETA: 12s - loss: 0.0440 - recall_18: 0.98 - ETA: 12s - loss: 0.0440 - recall_18: 0.98 - ETA: 11s - loss: 0.0444 - recall_18: 0.98 - ETA: 11s - loss: 0.0444 - recall_18: 0.98 - ETA: 11s - loss: 0.0444 - recall_18: 0.98 - ETA: 11s - loss: 0.0443 - recall_18: 0.98 - ETA: 11s - loss: 0.0442 - recall_18: 0.98 - ETA: 11s - loss: 0.0443 - recall_18: 0.98 - ETA: 11s - loss: 0.0442 - recall_18: 0.98 - ETA: 11s - loss: 0.0442 - recall_18: 0.98 - ETA: 11s - loss: 0.0444 - recall_18: 0.98 - ETA: 11s - loss: 0.0444 - recall_18: 0.98 - ETA: 11s - loss: 0.0444 - recall_18: 0.98 - ETA: 11s - loss: 0.0443 - recall_18: 0.98 - ETA: 11s - loss: 0.0442 - recall_18: 0.98 - ETA: 11s - loss: 0.0442 - recall_18: 0.98 - ETA: 11s - loss: 0.0442 - recall_18: 0.98 - ETA: 11s - loss: 0.0442 - recall_18: 0.98 - ETA: 11s - loss: 0.0441 - recall_18: 0.98 - ETA: 10s - loss: 0.0441 - recall_18: 0.98 - ETA: 10s - loss: 0.0441 - recall_18: 0.98 - ETA: 10s - loss: 0.0441 - recall_18: 0.98 - ETA: 10s - loss: 0.0441 - recall_18: 0.98 - ETA: 10s - loss: 0.0444 - recall_18: 0.98 - ETA: 10s - loss: 0.0443 - recall_18: 0.98 - ETA: 10s - loss: 0.0443 - recall_18: 0.98 - ETA: 10s - loss: 0.0446 - recall_18: 0.98 - ETA: 10s - loss: 0.0445 - recall_18: 0.98 - ETA: 10s - loss: 0.0444 - recall_18: 0.98 - ETA: 10s - loss: 0.0444 - recall_18: 0.98 - ETA: 10s - loss: 0.0443 - recall_18: 0.98 - ETA: 10s - loss: 0.0444 - recall_18: 0.98 - ETA: 10s - loss: 0.0444 - recall_18: 0.98 - ETA: 10s - loss: 0.0446 - recall_18: 0.98 - ETA: 10s - loss: 0.0445 - recall_18: 0.98 - ETA: 10s - loss: 0.0445 - recall_18: 0.9860"
     ]
    },
    {
     "name": "stdout",
     "output_type": "stream",
     "text": [
      "59872/59872 [==============================] - ETA: 9s - loss: 0.0445 - recall_18: 0.9860 - ETA: 9s - loss: 0.0446 - recall_18: 0.985 - ETA: 9s - loss: 0.0445 - recall_18: 0.986 - ETA: 9s - loss: 0.0446 - recall_18: 0.985 - ETA: 9s - loss: 0.0445 - recall_18: 0.985 - ETA: 9s - loss: 0.0447 - recall_18: 0.985 - ETA: 9s - loss: 0.0446 - recall_18: 0.985 - ETA: 9s - loss: 0.0446 - recall_18: 0.985 - ETA: 9s - loss: 0.0446 - recall_18: 0.985 - ETA: 9s - loss: 0.0446 - recall_18: 0.985 - ETA: 9s - loss: 0.0446 - recall_18: 0.985 - ETA: 9s - loss: 0.0446 - recall_18: 0.985 - ETA: 9s - loss: 0.0445 - recall_18: 0.985 - ETA: 9s - loss: 0.0445 - recall_18: 0.986 - ETA: 9s - loss: 0.0445 - recall_18: 0.986 - ETA: 9s - loss: 0.0445 - recall_18: 0.985 - ETA: 9s - loss: 0.0445 - recall_18: 0.986 - ETA: 9s - loss: 0.0444 - recall_18: 0.986 - ETA: 9s - loss: 0.0444 - recall_18: 0.986 - ETA: 9s - loss: 0.0444 - recall_18: 0.986 - ETA: 9s - loss: 0.0445 - recall_18: 0.986 - ETA: 9s - loss: 0.0444 - recall_18: 0.986 - ETA: 9s - loss: 0.0443 - recall_18: 0.986 - ETA: 9s - loss: 0.0444 - recall_18: 0.985 - ETA: 9s - loss: 0.0446 - recall_18: 0.985 - ETA: 9s - loss: 0.0445 - recall_18: 0.985 - ETA: 9s - loss: 0.0447 - recall_18: 0.985 - ETA: 8s - loss: 0.0446 - recall_18: 0.985 - ETA: 8s - loss: 0.0449 - recall_18: 0.985 - ETA: 8s - loss: 0.0448 - recall_18: 0.985 - ETA: 8s - loss: 0.0449 - recall_18: 0.985 - ETA: 8s - loss: 0.0449 - recall_18: 0.985 - ETA: 8s - loss: 0.0449 - recall_18: 0.985 - ETA: 8s - loss: 0.0449 - recall_18: 0.985 - ETA: 8s - loss: 0.0449 - recall_18: 0.985 - ETA: 8s - loss: 0.0448 - recall_18: 0.985 - ETA: 8s - loss: 0.0448 - recall_18: 0.985 - ETA: 8s - loss: 0.0448 - recall_18: 0.985 - ETA: 8s - loss: 0.0450 - recall_18: 0.985 - ETA: 8s - loss: 0.0450 - recall_18: 0.985 - ETA: 8s - loss: 0.0450 - recall_18: 0.985 - ETA: 8s - loss: 0.0451 - recall_18: 0.985 - ETA: 8s - loss: 0.0451 - recall_18: 0.985 - ETA: 7s - loss: 0.0451 - recall_18: 0.985 - ETA: 7s - loss: 0.0450 - recall_18: 0.985 - ETA: 7s - loss: 0.0451 - recall_18: 0.985 - ETA: 7s - loss: 0.0451 - recall_18: 0.985 - ETA: 7s - loss: 0.0451 - recall_18: 0.985 - ETA: 7s - loss: 0.0452 - recall_18: 0.985 - ETA: 7s - loss: 0.0452 - recall_18: 0.985 - ETA: 7s - loss: 0.0452 - recall_18: 0.985 - ETA: 7s - loss: 0.0452 - recall_18: 0.985 - ETA: 7s - loss: 0.0453 - recall_18: 0.985 - ETA: 7s - loss: 0.0454 - recall_18: 0.985 - ETA: 7s - loss: 0.0454 - recall_18: 0.985 - ETA: 7s - loss: 0.0454 - recall_18: 0.985 - ETA: 7s - loss: 0.0453 - recall_18: 0.985 - ETA: 7s - loss: 0.0453 - recall_18: 0.985 - ETA: 7s - loss: 0.0453 - recall_18: 0.985 - ETA: 6s - loss: 0.0453 - recall_18: 0.985 - ETA: 6s - loss: 0.0455 - recall_18: 0.985 - ETA: 6s - loss: 0.0455 - recall_18: 0.985 - ETA: 6s - loss: 0.0454 - recall_18: 0.985 - ETA: 6s - loss: 0.0454 - recall_18: 0.985 - ETA: 6s - loss: 0.0455 - recall_18: 0.985 - ETA: 6s - loss: 0.0456 - recall_18: 0.985 - ETA: 6s - loss: 0.0456 - recall_18: 0.985 - ETA: 6s - loss: 0.0456 - recall_18: 0.985 - ETA: 6s - loss: 0.0456 - recall_18: 0.985 - ETA: 6s - loss: 0.0456 - recall_18: 0.985 - ETA: 6s - loss: 0.0456 - recall_18: 0.985 - ETA: 6s - loss: 0.0456 - recall_18: 0.985 - ETA: 6s - loss: 0.0456 - recall_18: 0.985 - ETA: 6s - loss: 0.0456 - recall_18: 0.985 - ETA: 6s - loss: 0.0457 - recall_18: 0.985 - ETA: 5s - loss: 0.0456 - recall_18: 0.985 - ETA: 5s - loss: 0.0457 - recall_18: 0.985 - ETA: 5s - loss: 0.0456 - recall_18: 0.985 - ETA: 5s - loss: 0.0457 - recall_18: 0.985 - ETA: 5s - loss: 0.0457 - recall_18: 0.985 - ETA: 5s - loss: 0.0457 - recall_18: 0.985 - ETA: 5s - loss: 0.0457 - recall_18: 0.985 - ETA: 5s - loss: 0.0457 - recall_18: 0.985 - ETA: 5s - loss: 0.0457 - recall_18: 0.985 - ETA: 5s - loss: 0.0456 - recall_18: 0.985 - ETA: 5s - loss: 0.0460 - recall_18: 0.985 - ETA: 5s - loss: 0.0460 - recall_18: 0.985 - ETA: 5s - loss: 0.0460 - recall_18: 0.985 - ETA: 5s - loss: 0.0459 - recall_18: 0.985 - ETA: 5s - loss: 0.0460 - recall_18: 0.985 - ETA: 5s - loss: 0.0461 - recall_18: 0.985 - ETA: 5s - loss: 0.0461 - recall_18: 0.985 - ETA: 4s - loss: 0.0461 - recall_18: 0.985 - ETA: 4s - loss: 0.0460 - recall_18: 0.985 - ETA: 4s - loss: 0.0460 - recall_18: 0.985 - ETA: 4s - loss: 0.0460 - recall_18: 0.985 - ETA: 4s - loss: 0.0460 - recall_18: 0.985 - ETA: 4s - loss: 0.0461 - recall_18: 0.985 - ETA: 4s - loss: 0.0463 - recall_18: 0.985 - ETA: 4s - loss: 0.0464 - recall_18: 0.985 - ETA: 4s - loss: 0.0463 - recall_18: 0.985 - ETA: 4s - loss: 0.0463 - recall_18: 0.985 - ETA: 4s - loss: 0.0463 - recall_18: 0.985 - ETA: 4s - loss: 0.0466 - recall_18: 0.985 - ETA: 4s - loss: 0.0466 - recall_18: 0.985 - ETA: 4s - loss: 0.0466 - recall_18: 0.985 - ETA: 4s - loss: 0.0466 - recall_18: 0.985 - ETA: 3s - loss: 0.0466 - recall_18: 0.985 - ETA: 3s - loss: 0.0465 - recall_18: 0.985 - ETA: 3s - loss: 0.0467 - recall_18: 0.985 - ETA: 3s - loss: 0.0467 - recall_18: 0.985 - ETA: 3s - loss: 0.0467 - recall_18: 0.985 - ETA: 3s - loss: 0.0468 - recall_18: 0.985 - ETA: 3s - loss: 0.0468 - recall_18: 0.985 - ETA: 3s - loss: 0.0467 - recall_18: 0.985 - ETA: 3s - loss: 0.0467 - recall_18: 0.985 - ETA: 3s - loss: 0.0467 - recall_18: 0.985 - ETA: 3s - loss: 0.0469 - recall_18: 0.985 - ETA: 3s - loss: 0.0469 - recall_18: 0.985 - ETA: 3s - loss: 0.0468 - recall_18: 0.985 - ETA: 3s - loss: 0.0469 - recall_18: 0.985 - ETA: 3s - loss: 0.0468 - recall_18: 0.985 - ETA: 3s - loss: 0.0468 - recall_18: 0.985 - ETA: 3s - loss: 0.0467 - recall_18: 0.985 - ETA: 2s - loss: 0.0467 - recall_18: 0.985 - ETA: 2s - loss: 0.0467 - recall_18: 0.985 - ETA: 2s - loss: 0.0468 - recall_18: 0.985 - ETA: 2s - loss: 0.0467 - recall_18: 0.985 - ETA: 2s - loss: 0.0467 - recall_18: 0.985 - ETA: 2s - loss: 0.0467 - recall_18: 0.985 - ETA: 2s - loss: 0.0466 - recall_18: 0.985 - ETA: 2s - loss: 0.0467 - recall_18: 0.985 - ETA: 2s - loss: 0.0466 - recall_18: 0.985 - ETA: 2s - loss: 0.0466 - recall_18: 0.985 - ETA: 2s - loss: 0.0466 - recall_18: 0.985 - ETA: 2s - loss: 0.0467 - recall_18: 0.985 - ETA: 2s - loss: 0.0468 - recall_18: 0.985 - ETA: 2s - loss: 0.0467 - recall_18: 0.985 - ETA: 2s - loss: 0.0467 - recall_18: 0.985 - ETA: 2s - loss: 0.0468 - recall_18: 0.985 - ETA: 1s - loss: 0.0467 - recall_18: 0.985 - ETA: 1s - loss: 0.0467 - recall_18: 0.985 - ETA: 1s - loss: 0.0466 - recall_18: 0.985 - ETA: 1s - loss: 0.0466 - recall_18: 0.985 - ETA: 1s - loss: 0.0467 - recall_18: 0.985 - ETA: 1s - loss: 0.0467 - recall_18: 0.985 - ETA: 1s - loss: 0.0467 - recall_18: 0.985 - ETA: 1s - loss: 0.0466 - recall_18: 0.985 - ETA: 1s - loss: 0.0465 - recall_18: 0.985 - ETA: 1s - loss: 0.0466 - recall_18: 0.985 - ETA: 1s - loss: 0.0465 - recall_18: 0.985 - ETA: 1s - loss: 0.0465 - recall_18: 0.985 - ETA: 1s - loss: 0.0464 - recall_18: 0.985 - ETA: 1s - loss: 0.0464 - recall_18: 0.985 - ETA: 1s - loss: 0.0465 - recall_18: 0.985 - ETA: 1s - loss: 0.0465 - recall_18: 0.985 - ETA: 1s - loss: 0.0465 - recall_18: 0.985 - ETA: 0s - loss: 0.0464 - recall_18: 0.985 - ETA: 0s - loss: 0.0466 - recall_18: 0.985 - ETA: 0s - loss: 0.0465 - recall_18: 0.985 - ETA: 0s - loss: 0.0465 - recall_18: 0.985 - ETA: 0s - loss: 0.0466 - recall_18: 0.985 - ETA: 0s - loss: 0.0466 - recall_18: 0.985 - ETA: 0s - loss: 0.0466 - recall_18: 0.985 - ETA: 0s - loss: 0.0466 - recall_18: 0.985 - ETA: 0s - loss: 0.0467 - recall_18: 0.985 - ETA: 0s - loss: 0.0469 - recall_18: 0.985 - ETA: 0s - loss: 0.0468 - recall_18: 0.985 - ETA: 0s - loss: 0.0468 - recall_18: 0.985 - ETA: 0s - loss: 0.0467 - recall_18: 0.985 - ETA: 0s - loss: 0.0467 - recall_18: 0.985 - ETA: 0s - loss: 0.0466 - recall_18: 0.985 - ETA: 0s - loss: 0.0466 - recall_18: 0.985 - 33s 553us/sample - loss: 0.0466 - recall_18: 0.9854 - val_loss: 0.4941 - val_recall_18: 0.9335\n",
      "Epoch 4/5\n"
     ]
    },
    {
     "name": "stdout",
     "output_type": "stream",
     "text": [
      " 4448/59872 [=>............................] - ETA: 52s - loss: 0.0042 - recall_18: 1.00 - ETA: 32s - loss: 0.0878 - recall_18: 0.96 - ETA: 32s - loss: 0.0706 - recall_18: 0.97 - ETA: 32s - loss: 0.0615 - recall_18: 0.97 - ETA: 32s - loss: 0.0565 - recall_18: 0.97 - ETA: 34s - loss: 0.0497 - recall_18: 0.97 - ETA: 35s - loss: 0.0531 - recall_18: 0.97 - ETA: 35s - loss: 0.0521 - recall_18: 0.97 - ETA: 36s - loss: 0.0477 - recall_18: 0.97 - ETA: 36s - loss: 0.0491 - recall_18: 0.97 - ETA: 36s - loss: 0.0469 - recall_18: 0.97 - ETA: 37s - loss: 0.0446 - recall_18: 0.98 - ETA: 37s - loss: 0.0421 - recall_18: 0.98 - ETA: 37s - loss: 0.0409 - recall_18: 0.98 - ETA: 39s - loss: 0.0436 - recall_18: 0.98 - ETA: 39s - loss: 0.0431 - recall_18: 0.98 - ETA: 38s - loss: 0.0408 - recall_18: 0.98 - ETA: 39s - loss: 0.0410 - recall_18: 0.98 - ETA: 39s - loss: 0.0430 - recall_18: 0.98 - ETA: 39s - loss: 0.0413 - recall_18: 0.98 - ETA: 39s - loss: 0.0414 - recall_18: 0.98 - ETA: 39s - loss: 0.0425 - recall_18: 0.98 - ETA: 39s - loss: 0.0447 - recall_18: 0.98 - ETA: 39s - loss: 0.0434 - recall_18: 0.98 - ETA: 38s - loss: 0.0422 - recall_18: 0.98 - ETA: 38s - loss: 0.0422 - recall_18: 0.98 - ETA: 38s - loss: 0.0415 - recall_18: 0.98 - ETA: 38s - loss: 0.0403 - recall_18: 0.98 - ETA: 38s - loss: 0.0398 - recall_18: 0.98 - ETA: 38s - loss: 0.0410 - recall_18: 0.98 - ETA: 38s - loss: 0.0403 - recall_18: 0.98 - ETA: 38s - loss: 0.0396 - recall_18: 0.98 - ETA: 38s - loss: 0.0389 - recall_18: 0.98 - ETA: 38s - loss: 0.0382 - recall_18: 0.98 - ETA: 38s - loss: 0.0378 - recall_18: 0.98 - ETA: 37s - loss: 0.0380 - recall_18: 0.98 - ETA: 37s - loss: 0.0372 - recall_18: 0.98 - ETA: 36s - loss: 0.0398 - recall_18: 0.98 - ETA: 36s - loss: 0.0390 - recall_18: 0.98 - ETA: 36s - loss: 0.0385 - recall_18: 0.98 - ETA: 35s - loss: 0.0383 - recall_18: 0.98 - ETA: 36s - loss: 0.0378 - recall_18: 0.98 - ETA: 36s - loss: 0.0372 - recall_18: 0.98 - ETA: 35s - loss: 0.0369 - recall_18: 0.98 - ETA: 35s - loss: 0.0397 - recall_18: 0.98 - ETA: 35s - loss: 0.0408 - recall_18: 0.98 - ETA: 35s - loss: 0.0403 - recall_18: 0.98 - ETA: 35s - loss: 0.0396 - recall_18: 0.98"
     ]
    }
   ],
   "source": [
    "model_up.compile(optimizer='adam', \n",
    "              loss='binary_crossentropy',\n",
    "              metrics=[tf.keras.metrics.Recall()])\n",
    "\n",
    "history = model_up.fit(up_X,\n",
    "          pd.get_dummies(up_y),\n",
    "          epochs=5,\n",
    "          validation_data=(X_test, pd.get_dummies(y_test))\n",
    "         )\n",
    "plot_loss(history)\n",
    "test_loss, test_acc = model_up.evaluate(X_test, pd.get_dummies(y_test))\n",
    "print('Test accuracy:', test_acc)"
   ]
  },
  {
   "cell_type": "code",
   "execution_count": null,
   "metadata": {
    "ExecuteTime": {
     "start_time": "2019-08-19T05:54:47.341Z"
    }
   },
   "outputs": [],
   "source": [
    "result = pd.DataFrame(np.apply_along_axis(index_to_text, 1, X_test))\n",
    "result['predict'] = model_up.predict_proba(X_test)[:,1] # 유해하다고 판별할 확률\n",
    "print('전체채팅수{}, 유해채팅수{}'.format(len(result),len(result[result.predict>0.5])))\n",
    "result[result.predict>0.5].head(10)\n",
    "result['label'] = y_test"
   ]
  },
  {
   "cell_type": "markdown",
   "metadata": {},
   "source": [
    "### Recall"
   ]
  },
  {
   "cell_type": "code",
   "execution_count": null,
   "metadata": {
    "ExecuteTime": {
     "start_time": "2019-08-19T05:54:47.972Z"
    }
   },
   "outputs": [],
   "source": [
    "from sklearn.metrics import recall_score, accuracy_score, f1_score"
   ]
  },
  {
   "cell_type": "code",
   "execution_count": null,
   "metadata": {
    "ExecuteTime": {
     "start_time": "2019-08-19T05:54:48.359Z"
    },
    "scrolled": true
   },
   "outputs": [],
   "source": [
    "recall_score(y_test, model_up.predict_classes(X_test)),\\\n",
    "accuracy_score(y_test, model_up.predict_classes(X_test)),\\\n",
    "f1_score(y_test, model_up.predict_classes(X_test))"
   ]
  },
  {
   "cell_type": "code",
   "execution_count": null,
   "metadata": {
    "ExecuteTime": {
     "start_time": "2019-08-19T05:54:50.384Z"
    }
   },
   "outputs": [],
   "source": [
    "model_up.save('../model/cnn_oversample.h5')"
   ]
  },
  {
   "cell_type": "markdown",
   "metadata": {},
   "source": [
    "## Downsampling"
   ]
  },
  {
   "cell_type": "code",
   "execution_count": 123,
   "metadata": {
    "ExecuteTime": {
     "end_time": "2019-08-19T05:39:51.835804Z",
     "start_time": "2019-08-19T05:39:51.770838Z"
    }
   },
   "outputs": [
    {
     "data": {
      "text/plain": [
       "(4192, 2096)"
      ]
     },
     "execution_count": 123,
     "metadata": {},
     "output_type": "execute_result"
    }
   ],
   "source": [
    "down_X, down_y = RandomUnderSampler().fit_resample(x_padded, datasets.label)\n",
    "\n",
    "# 총 데이터 수 , 1 레이블 데이터 수\n",
    "len(down_y), down_y.sum()"
   ]
  },
  {
   "cell_type": "code",
   "execution_count": 139,
   "metadata": {
    "ExecuteTime": {
     "end_time": "2019-08-19T05:44:42.354157Z",
     "start_time": "2019-08-19T05:44:41.997362Z"
    }
   },
   "outputs": [],
   "source": [
    "model_down = keras.Sequential([\n",
    "    keras.layers.Embedding(vocab_size, 10),\n",
    "    keras.layers.Conv1D(32, 3, padding=\"same\", activation=tf.nn.relu,),\n",
    "    keras.layers.Dropout(0.5),\n",
    "    keras.layers.Conv1D(32, 3, padding=\"same\", activation=tf.nn.relu),\n",
    "    keras.layers.GlobalMaxPool1D(),\n",
    "    keras.layers.Dropout(0.5),\n",
    "    keras.layers.Dense(2, activation=tf.nn.sigmoid)\n",
    "])"
   ]
  },
  {
   "cell_type": "code",
   "execution_count": 140,
   "metadata": {
    "ExecuteTime": {
     "end_time": "2019-08-19T05:45:13.232469Z",
     "start_time": "2019-08-19T05:44:42.362154Z"
    }
   },
   "outputs": [
    {
     "name": "stdout",
     "output_type": "stream",
     "text": [
      "Train on 4192 samples, validate on 10500 samples\n",
      "Epoch 1/5\n",
      "4192/4192 [==============================] - ETA: 4:34 - loss: 0.6969 - recall_15: 0.687 - ETA: 1:08 - loss: 0.6944 - recall_15: 0.718 - ETA: 34s - loss: 0.6943 - recall_15: 0.691 - ETA: 24s - loss: 0.6937 - recall_15: 0.65 - ETA: 18s - loss: 0.6936 - recall_15: 0.63 - ETA: 14s - loss: 0.6928 - recall_15: 0.61 - ETA: 11s - loss: 0.6931 - recall_15: 0.59 - ETA: 10s - loss: 0.6933 - recall_15: 0.58 - ETA: 9s - loss: 0.6931 - recall_15: 0.5862 - ETA: 8s - loss: 0.6929 - recall_15: 0.574 - ETA: 7s - loss: 0.6929 - recall_15: 0.561 - ETA: 6s - loss: 0.6930 - recall_15: 0.552 - ETA: 5s - loss: 0.6928 - recall_15: 0.549 - ETA: 5s - loss: 0.6929 - recall_15: 0.546 - ETA: 4s - loss: 0.6929 - recall_15: 0.542 - ETA: 4s - loss: 0.6929 - recall_15: 0.536 - ETA: 3s - loss: 0.6929 - recall_15: 0.528 - ETA: 3s - loss: 0.6928 - recall_15: 0.522 - ETA: 3s - loss: 0.6929 - recall_15: 0.515 - ETA: 2s - loss: 0.6927 - recall_15: 0.511 - ETA: 2s - loss: 0.6925 - recall_15: 0.509 - ETA: 2s - loss: 0.6925 - recall_15: 0.509 - ETA: 2s - loss: 0.6928 - recall_15: 0.507 - ETA: 1s - loss: 0.6927 - recall_15: 0.508 - ETA: 1s - loss: 0.6926 - recall_15: 0.511 - ETA: 1s - loss: 0.6924 - recall_15: 0.513 - ETA: 1s - loss: 0.6923 - recall_15: 0.517 - ETA: 1s - loss: 0.6922 - recall_15: 0.519 - ETA: 1s - loss: 0.6921 - recall_15: 0.521 - ETA: 0s - loss: 0.6919 - recall_15: 0.524 - ETA: 0s - loss: 0.6918 - recall_15: 0.525 - ETA: 0s - loss: 0.6918 - recall_15: 0.524 - ETA: 0s - loss: 0.6918 - recall_15: 0.525 - ETA: 0s - loss: 0.6916 - recall_15: 0.526 - ETA: 0s - loss: 0.6915 - recall_15: 0.527 - ETA: 0s - loss: 0.6913 - recall_15: 0.527 - ETA: 0s - loss: 0.6913 - recall_15: 0.528 - 6s 1ms/sample - loss: 0.6913 - recall_15: 0.5286 - val_loss: 0.6853 - val_recall_15: 0.8486\n",
      "Epoch 2/5\n",
      "4192/4192 [==============================] - ETA: 3s - loss: 0.6834 - recall_15: 0.562 - ETA: 2s - loss: 0.6821 - recall_15: 0.570 - ETA: 2s - loss: 0.6893 - recall_15: 0.523 - ETA: 2s - loss: 0.6881 - recall_15: 0.562 - ETA: 2s - loss: 0.6877 - recall_15: 0.575 - ETA: 2s - loss: 0.6872 - recall_15: 0.574 - ETA: 1s - loss: 0.6864 - recall_15: 0.589 - ETA: 1s - loss: 0.6861 - recall_15: 0.593 - ETA: 1s - loss: 0.6861 - recall_15: 0.597 - ETA: 1s - loss: 0.6857 - recall_15: 0.597 - ETA: 1s - loss: 0.6849 - recall_15: 0.601 - ETA: 1s - loss: 0.6843 - recall_15: 0.604 - ETA: 1s - loss: 0.6840 - recall_15: 0.601 - ETA: 1s - loss: 0.6832 - recall_15: 0.603 - ETA: 1s - loss: 0.6826 - recall_15: 0.605 - ETA: 1s - loss: 0.6819 - recall_15: 0.604 - ETA: 1s - loss: 0.6808 - recall_15: 0.604 - ETA: 1s - loss: 0.6791 - recall_15: 0.608 - ETA: 1s - loss: 0.6779 - recall_15: 0.610 - ETA: 1s - loss: 0.6774 - recall_15: 0.611 - ETA: 0s - loss: 0.6756 - recall_15: 0.616 - ETA: 0s - loss: 0.6745 - recall_15: 0.618 - ETA: 0s - loss: 0.6731 - recall_15: 0.620 - ETA: 0s - loss: 0.6729 - recall_15: 0.618 - ETA: 0s - loss: 0.6718 - recall_15: 0.619 - ETA: 0s - loss: 0.6701 - recall_15: 0.621 - ETA: 0s - loss: 0.6686 - recall_15: 0.623 - ETA: 0s - loss: 0.6683 - recall_15: 0.622 - ETA: 0s - loss: 0.6667 - recall_15: 0.624 - ETA: 0s - loss: 0.6648 - recall_15: 0.626 - ETA: 0s - loss: 0.6634 - recall_15: 0.626 - ETA: 0s - loss: 0.6619 - recall_15: 0.626 - ETA: 0s - loss: 0.6610 - recall_15: 0.626 - ETA: 0s - loss: 0.6591 - recall_15: 0.628 - ETA: 0s - loss: 0.6566 - recall_15: 0.631 - ETA: 0s - loss: 0.6538 - recall_15: 0.634 - 4s 864us/sample - loss: 0.6522 - recall_15: 0.6357 - val_loss: 0.7099 - val_recall_15: 0.6290\n",
      "Epoch 3/5\n",
      "4192/4192 [==============================] - ETA: 4s - loss: 0.4404 - recall_15: 0.843 - ETA: 3s - loss: 0.4738 - recall_15: 0.791 - ETA: 3s - loss: 0.4867 - recall_15: 0.775 - ETA: 3s - loss: 0.4947 - recall_15: 0.790 - ETA: 3s - loss: 0.5051 - recall_15: 0.802 - ETA: 3s - loss: 0.5159 - recall_15: 0.789 - ETA: 3s - loss: 0.5145 - recall_15: 0.781 - ETA: 3s - loss: 0.4957 - recall_15: 0.801 - ETA: 2s - loss: 0.4892 - recall_15: 0.806 - ETA: 2s - loss: 0.4844 - recall_15: 0.811 - ETA: 2s - loss: 0.4880 - recall_15: 0.811 - ETA: 2s - loss: 0.4770 - recall_15: 0.818 - ETA: 1s - loss: 0.4722 - recall_15: 0.818 - ETA: 1s - loss: 0.4670 - recall_15: 0.818 - ETA: 1s - loss: 0.4668 - recall_15: 0.816 - ETA: 1s - loss: 0.4665 - recall_15: 0.812 - ETA: 1s - loss: 0.4671 - recall_15: 0.811 - ETA: 1s - loss: 0.4658 - recall_15: 0.810 - ETA: 1s - loss: 0.4624 - recall_15: 0.813 - ETA: 1s - loss: 0.4562 - recall_15: 0.817 - ETA: 1s - loss: 0.4598 - recall_15: 0.816 - ETA: 1s - loss: 0.4569 - recall_15: 0.815 - ETA: 1s - loss: 0.4600 - recall_15: 0.814 - ETA: 1s - loss: 0.4563 - recall_15: 0.815 - ETA: 0s - loss: 0.4554 - recall_15: 0.814 - ETA: 0s - loss: 0.4570 - recall_15: 0.813 - ETA: 0s - loss: 0.4577 - recall_15: 0.813 - ETA: 0s - loss: 0.4565 - recall_15: 0.813 - ETA: 0s - loss: 0.4564 - recall_15: 0.811 - ETA: 0s - loss: 0.4619 - recall_15: 0.810 - ETA: 0s - loss: 0.4670 - recall_15: 0.807 - ETA: 0s - loss: 0.4635 - recall_15: 0.808 - ETA: 0s - loss: 0.4617 - recall_15: 0.810 - ETA: 0s - loss: 0.4623 - recall_15: 0.809 - ETA: 0s - loss: 0.4611 - recall_15: 0.809 - ETA: 0s - loss: 0.4591 - recall_15: 0.810 - ETA: 0s - loss: 0.4603 - recall_15: 0.811 - ETA: 0s - loss: 0.4603 - recall_15: 0.810 - ETA: 0s - loss: 0.4614 - recall_15: 0.810 - 3s 799us/sample - loss: 0.4610 - recall_15: 0.8125 - val_loss: 0.6360 - val_recall_15: 0.7813\n",
      "Epoch 4/5\n",
      "4192/4192 [==============================] - ETA: 3s - loss: 0.3304 - recall_15: 0.875 - ETA: 2s - loss: 0.3535 - recall_15: 0.875 - ETA: 2s - loss: 0.3422 - recall_15: 0.895 - ETA: 1s - loss: 0.3253 - recall_15: 0.906 - ETA: 1s - loss: 0.3290 - recall_15: 0.906 - ETA: 1s - loss: 0.3262 - recall_15: 0.909 - ETA: 1s - loss: 0.3368 - recall_15: 0.899 - ETA: 1s - loss: 0.3397 - recall_15: 0.892 - ETA: 1s - loss: 0.3352 - recall_15: 0.896 - ETA: 1s - loss: 0.3304 - recall_15: 0.898 - ETA: 1s - loss: 0.3298 - recall_15: 0.897 - ETA: 1s - loss: 0.3227 - recall_15: 0.897 - ETA: 1s - loss: 0.3220 - recall_15: 0.898 - ETA: 1s - loss: 0.3180 - recall_15: 0.898 - ETA: 1s - loss: 0.3193 - recall_15: 0.898 - ETA: 1s - loss: 0.3130 - recall_15: 0.901 - ETA: 1s - loss: 0.3127 - recall_15: 0.899 - ETA: 1s - loss: 0.3127 - recall_15: 0.897 - ETA: 1s - loss: 0.3126 - recall_15: 0.896 - ETA: 1s - loss: 0.3165 - recall_15: 0.897 - ETA: 0s - loss: 0.3130 - recall_15: 0.897 - ETA: 0s - loss: 0.3144 - recall_15: 0.897 - ETA: 0s - loss: 0.3129 - recall_15: 0.896 - ETA: 0s - loss: 0.3114 - recall_15: 0.898 - ETA: 0s - loss: 0.3108 - recall_15: 0.898 - ETA: 0s - loss: 0.3110 - recall_15: 0.899 - ETA: 0s - loss: 0.3137 - recall_15: 0.898 - ETA: 0s - loss: 0.3111 - recall_15: 0.899 - ETA: 0s - loss: 0.3110 - recall_15: 0.898 - ETA: 0s - loss: 0.3102 - recall_15: 0.898 - ETA: 0s - loss: 0.3084 - recall_15: 0.899 - ETA: 0s - loss: 0.3051 - recall_15: 0.900 - ETA: 0s - loss: 0.3034 - recall_15: 0.900 - ETA: 0s - loss: 0.3004 - recall_15: 0.901 - ETA: 0s - loss: 0.2990 - recall_15: 0.901 - ETA: 0s - loss: 0.2974 - recall_15: 0.901 - ETA: 0s - loss: 0.2960 - recall_15: 0.901 - 3s 800us/sample - loss: 0.2969 - recall_15: 0.9012 - val_loss: 0.7135 - val_recall_15: 0.7672\n",
      "Epoch 5/5\n"
     ]
    },
    {
     "name": "stdout",
     "output_type": "stream",
     "text": [
      "4192/4192 [==============================] - ETA: 1s - loss: 0.3081 - recall_15: 0.906 - ETA: 2s - loss: 0.1985 - recall_15: 0.945 - ETA: 1s - loss: 0.1867 - recall_15: 0.949 - ETA: 1s - loss: 0.2118 - recall_15: 0.942 - ETA: 1s - loss: 0.2263 - recall_15: 0.937 - ETA: 1s - loss: 0.2160 - recall_15: 0.939 - ETA: 1s - loss: 0.2288 - recall_15: 0.923 - ETA: 1s - loss: 0.2246 - recall_15: 0.926 - ETA: 1s - loss: 0.2219 - recall_15: 0.927 - ETA: 1s - loss: 0.2227 - recall_15: 0.927 - ETA: 1s - loss: 0.2167 - recall_15: 0.928 - ETA: 1s - loss: 0.2082 - recall_15: 0.933 - ETA: 1s - loss: 0.2163 - recall_15: 0.931 - ETA: 1s - loss: 0.2126 - recall_15: 0.934 - ETA: 1s - loss: 0.2168 - recall_15: 0.933 - ETA: 1s - loss: 0.2163 - recall_15: 0.932 - ETA: 1s - loss: 0.2173 - recall_15: 0.933 - ETA: 1s - loss: 0.2193 - recall_15: 0.932 - ETA: 0s - loss: 0.2170 - recall_15: 0.933 - ETA: 0s - loss: 0.2138 - recall_15: 0.935 - ETA: 0s - loss: 0.2132 - recall_15: 0.935 - ETA: 0s - loss: 0.2120 - recall_15: 0.933 - ETA: 0s - loss: 0.2090 - recall_15: 0.934 - ETA: 0s - loss: 0.2094 - recall_15: 0.935 - ETA: 0s - loss: 0.2113 - recall_15: 0.932 - ETA: 0s - loss: 0.2110 - recall_15: 0.933 - ETA: 0s - loss: 0.2116 - recall_15: 0.933 - ETA: 0s - loss: 0.2098 - recall_15: 0.934 - ETA: 0s - loss: 0.2061 - recall_15: 0.936 - ETA: 0s - loss: 0.2041 - recall_15: 0.936 - ETA: 0s - loss: 0.2049 - recall_15: 0.936 - ETA: 0s - loss: 0.2064 - recall_15: 0.936 - ETA: 0s - loss: 0.2033 - recall_15: 0.937 - ETA: 0s - loss: 0.2022 - recall_15: 0.937 - ETA: 0s - loss: 0.2050 - recall_15: 0.936 - ETA: 0s - loss: 0.2050 - recall_15: 0.936 - ETA: 0s - loss: 0.2055 - recall_15: 0.935 - 3s 750us/sample - loss: 0.2059 - recall_15: 0.9356 - val_loss: 0.8693 - val_recall_15: 0.7567\n",
      "10500/10500 [==============================] - ETA: 0s - loss: 0.9132 - recall_15: 0.750 - ETA: 0s - loss: 0.9630 - recall_15: 0.750 - ETA: 1s - loss: 0.8606 - recall_15: 0.769 - ETA: 1s - loss: 0.8582 - recall_15: 0.772 - ETA: 1s - loss: 0.8272 - recall_15: 0.776 - ETA: 1s - loss: 0.8493 - recall_15: 0.768 - ETA: 0s - loss: 0.8444 - recall_15: 0.768 - ETA: 0s - loss: 0.8592 - recall_15: 0.761 - ETA: 0s - loss: 0.8475 - recall_15: 0.763 - ETA: 0s - loss: 0.8533 - recall_15: 0.763 - ETA: 0s - loss: 0.8553 - recall_15: 0.761 - ETA: 0s - loss: 0.8609 - recall_15: 0.760 - ETA: 0s - loss: 0.8575 - recall_15: 0.761 - ETA: 0s - loss: 0.8594 - recall_15: 0.762 - ETA: 0s - loss: 0.8503 - recall_15: 0.764 - ETA: 0s - loss: 0.8545 - recall_15: 0.763 - ETA: 0s - loss: 0.8541 - recall_15: 0.761 - ETA: 0s - loss: 0.8517 - recall_15: 0.762 - ETA: 0s - loss: 0.8559 - recall_15: 0.762 - ETA: 0s - loss: 0.8595 - recall_15: 0.761 - ETA: 0s - loss: 0.8556 - recall_15: 0.760 - ETA: 0s - loss: 0.8605 - recall_15: 0.760 - ETA: 0s - loss: 0.8647 - recall_15: 0.759 - ETA: 0s - loss: 0.8641 - recall_15: 0.758 - ETA: 0s - loss: 0.8633 - recall_15: 0.758 - ETA: 0s - loss: 0.8645 - recall_15: 0.758 - ETA: 0s - loss: 0.8671 - recall_15: 0.757 - ETA: 0s - loss: 0.8687 - recall_15: 0.756 - 1s 138us/sample - loss: 0.8693 - recall_15: 0.7567\n",
      "Test Recall: 0.75666666\n"
     ]
    },
    {
     "data": {
      "image/png": "[encoded data removed]",
      "text/plain": [
       "<Figure size 432x360 with 1 Axes>"
      ]
     },
     "metadata": {
      "needs_background": "light"
     },
     "output_type": "display_data"
    }
   ],
   "source": [
    "model_down.compile(optimizer='adam', \n",
    "              loss='binary_crossentropy',\n",
    "              metrics=[tf.keras.metrics.Recall()])\n",
    "\n",
    "history = model_down.fit(down_X,\n",
    "          pd.get_dummies(down_y),\n",
    "          epochs=5,\n",
    "          validation_data=(X_test, pd.get_dummies(y_test))\n",
    "         )\n",
    "plot_loss(history)\n",
    "test_loss, test_acc = model_down.evaluate(X_test, pd.get_dummies(y_test))\n",
    "print('Test Recall:', test_acc)"
   ]
  },
  {
   "cell_type": "code",
   "execution_count": 141,
   "metadata": {
    "ExecuteTime": {
     "end_time": "2019-08-19T05:45:17.016301Z",
     "start_time": "2019-08-19T05:45:13.240466Z"
    }
   },
   "outputs": [
    {
     "data": {
      "text/plain": [
       "(0.9924812030075187, 0.7557142857142857, 0.29163214581607294)"
      ]
     },
     "execution_count": 141,
     "metadata": {},
     "output_type": "execute_result"
    }
   ],
   "source": [
    "#recall\n",
    "recall_score(y_test, model_down.predict_classes(X_test)), \\\n",
    "accuracy_score(y_test, model_down.predict_classes(X_test)),\\\n",
    "f1_score(y_test, model_down.predict_classes(X_test))"
   ]
  },
  {
   "cell_type": "code",
   "execution_count": 143,
   "metadata": {
    "ExecuteTime": {
     "end_time": "2019-08-19T05:45:28.689616Z",
     "start_time": "2019-08-19T05:45:27.640216Z"
    }
   },
   "outputs": [
    {
     "name": "stdout",
     "output_type": "stream",
     "text": [
      "전체채팅수10500, 유해채팅수3095\n"
     ]
    }
   ],
   "source": [
    "result = pd.DataFrame(np.apply_along_axis(index_to_text, 1, X_test))\n",
    "result['predict'] = model_down.predict_proba(X_test)[:,1] # 유해하다고 판별할 확률\n",
    "print('전체채팅수{}, 유해채팅수{}'.format(len(result),len(result[result.predict>0.5])))\n",
    "result[result.predict>0.5].head(10)\n",
    "result['label'] = y_test"
   ]
  },
  {
   "cell_type": "markdown",
   "metadata": {},
   "source": [
    "## 모델 체크포인트 저장"
   ]
  },
  {
   "cell_type": "code",
   "execution_count": 142,
   "metadata": {
    "ExecuteTime": {
     "end_time": "2019-08-19T05:45:27.635218Z",
     "start_time": "2019-08-19T05:45:23.840392Z"
    }
   },
   "outputs": [],
   "source": [
    "model_down.save('../model/cnn_undersample.h5')"
   ]
  },
  {
   "cell_type": "markdown",
   "metadata": {},
   "source": [
    "# TODO\n",
    "- 형태소별 Tokenize 말고 한글 자모별 Tokenize 하여 실험해보기\n",
    "- CNN layer / Parameter 변경시켜보기\n",
    "- 예측 결과 검정하기\n",
    "    - Attention 이용"
   ]
  }
 ],
 "metadata": {
  "kernelspec": {
   "display_name": "Python 3",
   "language": "python",
   "name": "python3"
  },
  "language_info": {
   "codemirror_mode": {
    "name": "ipython",
    "version": 3
   },
   "file_extension": ".py",
   "mimetype": "text/x-python",
   "name": "python",
   "nbconvert_exporter": "python",
   "pygments_lexer": "ipython3",
   "version": "3.7.3"
  }
 },
 "nbformat": 4,
 "nbformat_minor": 2
}
