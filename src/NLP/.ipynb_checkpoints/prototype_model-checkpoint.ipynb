{
 "cells": [
  {
   "cell_type": "code",
   "execution_count": 1,
   "metadata": {
    "ExecuteTime": {
     "end_time": "2019-08-07T01:26:28.099297Z",
     "start_time": "2019-08-07T01:26:03.815246Z"
    }
   },
   "outputs": [
    {
     "name": "stdout",
     "output_type": "stream",
     "text": [
      "Chan 2019-08-07 \n",
      "\n",
      "CPython 3.7.3\n",
      "IPython 7.6.1\n",
      "\n",
      "numpy 1.16.4\n",
      "pandas 0.24.2\n",
      "sklearn 0.21.2\n",
      "konlpy 0.5.1\n",
      "tensorflow 1.13.1\n",
      "matplotlib 3.1.0\n",
      "imblearn 0.5.0\n"
     ]
    }
   ],
   "source": [
    "%load_ext watermark\n",
    "%watermark -a Chan -d -v -p numpy,pandas,sklearn,konlpy,tensorflow,matplotlib,imblearn"
   ]
  },
  {
   "cell_type": "code",
   "execution_count": 2,
   "metadata": {
    "ExecuteTime": {
     "end_time": "2019-08-07T01:26:29.634415Z",
     "start_time": "2019-08-07T01:26:28.104295Z"
    }
   },
   "outputs": [],
   "source": [
    "import numpy as np\n",
    "import pandas as pd\n",
    "from sklearn.model_selection import train_test_split\n",
    "from konlpy.tag import Okt\n",
    "import tensorflow as tf\n",
    "from tensorflow.python.keras.preprocessing import sequence\n",
    "from tensorflow import keras\n",
    "from tqdm import tqdm\n",
    "from collections import Counter\n",
    "from matplotlib import pyplot as plt"
   ]
  },
  {
   "cell_type": "markdown",
   "metadata": {},
   "source": [
    "# Load datasets"
   ]
  },
  {
   "cell_type": "code",
   "execution_count": 3,
   "metadata": {
    "ExecuteTime": {
     "end_time": "2019-08-07T01:26:29.964226Z",
     "start_time": "2019-08-07T01:26:29.649406Z"
    }
   },
   "outputs": [
    {
     "name": "stdout",
     "output_type": "stream",
     "text": [
      "1\n",
      "2\n",
      "3\n",
      "4\n"
     ]
    },
    {
     "data": {
      "text/html": [
       "<div>\n",
       "<style scoped>\n",
       "    .dataframe tbody tr th:only-of-type {\n",
       "        vertical-align: middle;\n",
       "    }\n",
       "\n",
       "    .dataframe tbody tr th {\n",
       "        vertical-align: top;\n",
       "    }\n",
       "\n",
       "    .dataframe thead th {\n",
       "        text-align: right;\n",
       "    }\n",
       "</style>\n",
       "<table border=\"1\" class=\"dataframe\">\n",
       "  <thead>\n",
       "    <tr style=\"text-align: right;\">\n",
       "      <th></th>\n",
       "      <th>chat</th>\n",
       "      <th>label</th>\n",
       "    </tr>\n",
       "  </thead>\n",
       "  <tbody>\n",
       "    <tr>\n",
       "      <th>0</th>\n",
       "      <td>자기잘못인거알면 중고딩도 먼저사과하는걸아는데</td>\n",
       "      <td>0</td>\n",
       "    </tr>\n",
       "    <tr>\n",
       "      <th>1</th>\n",
       "      <td>싹둑이 채팅창 관리 중입니다</td>\n",
       "      <td>0</td>\n",
       "    </tr>\n",
       "    <tr>\n",
       "      <th>2</th>\n",
       "      <td>싹둑이 채팅창 관리 중입니다</td>\n",
       "      <td>0</td>\n",
       "    </tr>\n",
       "    <tr>\n",
       "      <th>3</th>\n",
       "      <td>어제 어글 아직도 가? 개인적으로 사과하셨대 그만해 칭구들앙</td>\n",
       "      <td>0</td>\n",
       "    </tr>\n",
       "    <tr>\n",
       "      <th>4</th>\n",
       "      <td>케읍이 뭔데요 무슨사건있엇음?</td>\n",
       "      <td>0</td>\n",
       "    </tr>\n",
       "  </tbody>\n",
       "</table>\n",
       "</div>"
      ],
      "text/plain": [
       "                                 chat  label\n",
       "0            자기잘못인거알면 중고딩도 먼저사과하는걸아는데      0\n",
       "1                     싹둑이 채팅창 관리 중입니다      0\n",
       "2                     싹둑이 채팅창 관리 중입니다      0\n",
       "3  어제 어글 아직도 가? 개인적으로 사과하셨대 그만해 칭구들앙       0\n",
       "4                    케읍이 뭔데요 무슨사건있엇음?      0"
      ]
     },
     "execution_count": 3,
     "metadata": {},
     "output_type": "execute_result"
    }
   ],
   "source": [
    "datasets = pd.DataFrame()\n",
    "for i in range(1,5):\n",
    "    print(i)\n",
    "    dump = pd.read_csv(\"../../data/sample ({}).csv\".format(i), engine='python',names=['chat','label'])\n",
    "    datasets = pd.concat([datasets, dump])\n",
    "datasets.head()"
   ]
  },
  {
   "cell_type": "code",
   "execution_count": 4,
   "metadata": {
    "ExecuteTime": {
     "end_time": "2019-08-07T01:26:29.985213Z",
     "start_time": "2019-08-07T01:26:29.969224Z"
    }
   },
   "outputs": [],
   "source": [
    "datasets.reset_index(drop=True,inplace=True)"
   ]
  },
  {
   "cell_type": "code",
   "execution_count": 5,
   "metadata": {
    "ExecuteTime": {
     "end_time": "2019-08-07T01:26:30.030188Z",
     "start_time": "2019-08-07T01:26:29.991211Z"
    }
   },
   "outputs": [
    {
     "name": "stdout",
     "output_type": "stream",
     "text": [
      "<class 'pandas.core.frame.DataFrame'>\n",
      "RangeIndex: 3500 entries, 0 to 3499\n",
      "Data columns (total 2 columns):\n",
      "chat     3500 non-null object\n",
      "label    3500 non-null int64\n",
      "dtypes: int64(1), object(1)\n",
      "memory usage: 54.8+ KB\n"
     ]
    }
   ],
   "source": [
    "datasets.info()"
   ]
  },
  {
   "cell_type": "code",
   "execution_count": 6,
   "metadata": {
    "ExecuteTime": {
     "end_time": "2019-08-07T01:26:30.056172Z",
     "start_time": "2019-08-07T01:26:30.038183Z"
    }
   },
   "outputs": [],
   "source": [
    "datasets.label = datasets.label.astype('int')"
   ]
  },
  {
   "cell_type": "code",
   "execution_count": 7,
   "metadata": {
    "ExecuteTime": {
     "end_time": "2019-08-07T01:26:30.088155Z",
     "start_time": "2019-08-07T01:26:30.064168Z"
    }
   },
   "outputs": [
    {
     "data": {
      "text/plain": [
       "0.16163292399601725"
      ]
     },
     "execution_count": 7,
     "metadata": {},
     "output_type": "execute_result"
    }
   ],
   "source": [
    "len(datasets[datasets.label ==1])/ len(datasets[datasets.label ==0]) # 유해한 레이블의 데이터가 많이 부족함 데이터 편향ㅠㅠ"
   ]
  },
  {
   "cell_type": "markdown",
   "metadata": {
    "ExecuteTime": {
     "end_time": "2019-08-06T15:38:19.687895Z",
     "start_time": "2019-08-06T15:38:19.677899Z"
    }
   },
   "source": [
    "# Tokenize\n",
    "## 형태소분석"
   ]
  },
  {
   "cell_type": "code",
   "execution_count": 8,
   "metadata": {
    "ExecuteTime": {
     "end_time": "2019-08-07T01:26:41.018892Z",
     "start_time": "2019-08-07T01:26:30.099148Z"
    }
   },
   "outputs": [
    {
     "name": "stderr",
     "output_type": "stream",
     "text": [
      "C:\\Users\\skarn\\Anaconda3\\envs\\DataAnalysis\\lib\\site-packages\\jpype\\_core.py:210: UserWarning: \n",
      "-------------------------------------------------------------------------------\n",
      "Deprecated: convertStrings was not specified when starting the JVM. The default\n",
      "behavior in JPype will be False starting in JPype 0.8. The recommended setting\n",
      "for new code is convertStrings=False.  The legacy value of True was assumed for\n",
      "this session. If you are a user of an application that reported this warning,\n",
      "please file a ticket with the developer.\n",
      "-------------------------------------------------------------------------------\n",
      "\n",
      "  \"\"\")\n"
     ]
    }
   ],
   "source": [
    "morp = Okt()"
   ]
  },
  {
   "cell_type": "code",
   "execution_count": 9,
   "metadata": {
    "ExecuteTime": {
     "end_time": "2019-08-07T01:27:05.741675Z",
     "start_time": "2019-08-07T01:26:41.023874Z"
    }
   },
   "outputs": [
    {
     "name": "stderr",
     "output_type": "stream",
     "text": [
      "100%|█████████████████████████████████████████████████████████████████████████████| 3500/3500 [00:24<00:00, 141.68it/s]\n"
     ]
    }
   ],
   "source": [
    "morped = [morp.pos(_, norm=True, join=True) for _ in tqdm(datasets.chat)] # Stemming은 하지 않는다."
   ]
  },
  {
   "cell_type": "code",
   "execution_count": 10,
   "metadata": {
    "ExecuteTime": {
     "end_time": "2019-08-07T01:27:05.760669Z",
     "start_time": "2019-08-07T01:27:05.747673Z"
    }
   },
   "outputs": [
    {
     "data": {
      "text/plain": [
       "[['자기/Noun',\n",
       "  '잘못/Noun',\n",
       "  '인거/Josa',\n",
       "  '알/Noun',\n",
       "  '면/Josa',\n",
       "  '중/Noun',\n",
       "  '고딩/Noun',\n",
       "  '도/Josa',\n",
       "  '먼저/Noun',\n",
       "  '사과/Noun',\n",
       "  '하/Suffix',\n",
       "  '는/Josa',\n",
       "  '걸아는데/Verb'],\n",
       " ['싹둑/Noun',\n",
       "  '이/Josa',\n",
       "  '채팅/Noun',\n",
       "  '창/Noun',\n",
       "  '관리/Noun',\n",
       "  '중/Noun',\n",
       "  '입니다/Adjective'],\n",
       " ['싹둑/Noun',\n",
       "  '이/Josa',\n",
       "  '채팅/Noun',\n",
       "  '창/Noun',\n",
       "  '관리/Noun',\n",
       "  '중/Noun',\n",
       "  '입니다/Adjective'],\n",
       " ['어제/Noun',\n",
       "  '어글/Noun',\n",
       "  '아직도/Adverb',\n",
       "  '가/Verb',\n",
       "  '?/Punctuation',\n",
       "  '개인/Noun',\n",
       "  '적/Suffix',\n",
       "  '으로/Josa',\n",
       "  '사과/Noun',\n",
       "  '하셨대/Verb',\n",
       "  '그만해/Adjective',\n",
       "  '칭구들앙/Noun'],\n",
       " ['케읍/Noun',\n",
       "  '이/Josa',\n",
       "  '뭔/Modifier',\n",
       "  '데/Noun',\n",
       "  '요/Josa',\n",
       "  '무슨/Modifier',\n",
       "  '사건/Noun',\n",
       "  '있/Adjective',\n",
       "  '엇음/Noun',\n",
       "  '?/Punctuation']]"
      ]
     },
     "execution_count": 10,
     "metadata": {},
     "output_type": "execute_result"
    }
   ],
   "source": [
    "morped[:5]"
   ]
  },
  {
   "cell_type": "markdown",
   "metadata": {},
   "source": [
    "## Dictionary\n",
    "최빈 형태소에 대한 단어사전 구성"
   ]
  },
  {
   "cell_type": "code",
   "execution_count": 11,
   "metadata": {
    "ExecuteTime": {
     "end_time": "2019-08-07T01:27:06.235409Z",
     "start_time": "2019-08-07T01:27:05.765662Z"
    }
   },
   "outputs": [
    {
     "name": "stdout",
     "output_type": "stream",
     "text": [
      "고빈도 단어:\n",
      "형/Suffix :  724\n",
      "이/Josa :  706\n",
      "샤/Noun :  587\n",
      "나왔/Verb :  562\n",
      "브베/Noun :  442\n",
      "창/Noun :  420\n",
      "채팅/Noun :  417\n",
      "중/Noun :  408\n",
      "입니다/Adjective :  408\n",
      "싹둑/Noun :  407\n",
      "\n",
      "단어 사전:\n",
      "0 <PAD>\n",
      "1 <OOV>\n",
      "2 형/Suffix\n",
      "3 이/Josa\n",
      "4 샤/Noun\n",
      "5 나왔/Verb\n",
      "6 브베/Noun\n",
      "7 창/Noun\n",
      "8 채팅/Noun\n",
      "9 중/Noun\n",
      "\n",
      "단어 사전 크기:  3421\n"
     ]
    }
   ],
   "source": [
    "vocab_size = 5000\n",
    "\n",
    "pad_id = 0\n",
    "oov_id = 1\n",
    "index_offset = 1\n",
    "\n",
    "def make_vocab(sentences):\n",
    "    word_counter = Counter()\n",
    "\n",
    "    for sent in sentences:\n",
    "        word_counter.update(sent)\n",
    "\n",
    "    most_common = word_counter.most_common()\n",
    "    print(\"고빈도 단어:\")\n",
    "    for k, v in most_common[:10]:\n",
    "        print(k, \": \", v)\n",
    "\n",
    "        vocab = {\n",
    "        '<PAD>': pad_id,\n",
    "        '<OOV>': oov_id\n",
    "        }\n",
    "    for i, (word, cnt) in enumerate(most_common, start=index_offset+1):\n",
    "        vocab[word] = i\n",
    "        if len(vocab) >= vocab_size:\n",
    "            break\n",
    "\n",
    "    return vocab\n",
    "\n",
    "word_index = make_vocab(morped)\n",
    "word_inverted_index = {v:k for k, v in word_index.items()}\n",
    "\n",
    "print(\"\\n단어 사전:\")\n",
    "for i in range(0, 10):\n",
    "    print(i, word_inverted_index[i])\n",
    "\n",
    "print(\"\\n단어 사전 크기: \", len(word_index))"
   ]
  },
  {
   "cell_type": "code",
   "execution_count": 12,
   "metadata": {
    "ExecuteTime": {
     "end_time": "2019-08-07T01:27:06.317345Z",
     "start_time": "2019-08-07T01:27:06.245394Z"
    }
   },
   "outputs": [
    {
     "name": "stdout",
     "output_type": "stream",
     "text": [
      "원본:  ['자기/Noun', '잘못/Noun', '인거/Josa', '알/Noun', '면/Josa', '중/Noun', '고딩/Noun', '도/Josa', '먼저/Noun', '사과/Noun', '하/Suffix', '는/Josa', '걸아는데/Verb']\n",
      "문자 -> 숫자:  [234, 781, 782, 381, 293, 9, 1292, 58, 1293, 235, 93, 60, 1294]\n",
      "숫자 -> 문자:  자기/Noun 잘못/Noun 인거/Josa 알/Noun 면/Josa 중/Noun 고딩/Noun 도/Josa 먼저/Noun 사과/Noun 하/Suffix 는/Josa 걸아는데/Verb\n"
     ]
    }
   ],
   "source": [
    "def index_to_text(indexes):\n",
    "    return ' '.join([word_inverted_index[i] for i in indexes])\n",
    "\n",
    "def text_to_index(tokens):\n",
    "    indexes = []\n",
    "    for tok in tokens:\n",
    "        if tok in word_index:\n",
    "            indexes.append(word_index[tok])\n",
    "        else:\n",
    "            indexes.append(oov_id)\n",
    "\n",
    "    return indexes\n",
    "\n",
    "print(\"원본: \", morped[0])\n",
    "ids = text_to_index(morped[0])\n",
    "print(\"문자 -> 숫자: \", ids)\n",
    "print(\"숫자 -> 문자: \", index_to_text(ids))"
   ]
  },
  {
   "cell_type": "markdown",
   "metadata": {},
   "source": [
    "# Padding"
   ]
  },
  {
   "cell_type": "code",
   "execution_count": 13,
   "metadata": {
    "ExecuteTime": {
     "end_time": "2019-08-07T01:27:06.444271Z",
     "start_time": "2019-08-07T01:27:06.323342Z"
    }
   },
   "outputs": [],
   "source": [
    "x_variable = [text_to_index(_) for _ in morped]\n",
    "\n",
    "sentence_size = 20\n",
    "x_padded = sequence.pad_sequences(x_variable,\n",
    "                                 maxlen=sentence_size,\n",
    "                                 truncating='post',\n",
    "                                 padding='post',\n",
    "                                 value=pad_id)"
   ]
  },
  {
   "cell_type": "markdown",
   "metadata": {},
   "source": [
    "# Data Split"
   ]
  },
  {
   "cell_type": "code",
   "execution_count": 14,
   "metadata": {
    "ExecuteTime": {
     "end_time": "2019-08-07T01:27:06.495245Z",
     "start_time": "2019-08-07T01:27:06.458263Z"
    }
   },
   "outputs": [
    {
     "name": "stdout",
     "output_type": "stream",
     "text": [
      "train_inputs shape:  (2625, 20)\n",
      "test_inputs shape:  (875, 20)\n",
      "train_labels shape:  (2625,)\n",
      "test_labels shape:  (875,)\n"
     ]
    }
   ],
   "source": [
    "X_train, X_test, y_train, y_test = train_test_split(x_padded, datasets.label)\n",
    "\n",
    "print(\"train_inputs shape: \", X_train.shape)\n",
    "print(\"test_inputs shape: \", X_test.shape)\n",
    "print(\"train_labels shape: \", y_train.shape)\n",
    "print(\"test_labels shape: \", y_test.shape)"
   ]
  },
  {
   "cell_type": "markdown",
   "metadata": {},
   "source": [
    "# Model"
   ]
  },
  {
   "cell_type": "code",
   "execution_count": 15,
   "metadata": {
    "ExecuteTime": {
     "end_time": "2019-08-07T01:27:06.514233Z",
     "start_time": "2019-08-07T01:27:06.501239Z"
    }
   },
   "outputs": [],
   "source": [
    "import warnings\n",
    "warnings.filterwarnings(action='once')"
   ]
  },
  {
   "cell_type": "code",
   "execution_count": 16,
   "metadata": {
    "ExecuteTime": {
     "end_time": "2019-08-07T01:27:07.307775Z",
     "start_time": "2019-08-07T01:27:06.550212Z"
    }
   },
   "outputs": [
    {
     "name": "stderr",
     "output_type": "stream",
     "text": [
      "C:\\Users\\skarn\\Anaconda3\\envs\\DataAnalysis\\lib\\site-packages\\numpy\\lib\\type_check.py:546: DeprecationWarning: np.asscalar(a) is deprecated since NumPy v1.16, use a.item() instead\n",
      "  'a.item() instead', DeprecationWarning, stacklevel=1)\n"
     ]
    },
    {
     "name": "stdout",
     "output_type": "stream",
     "text": [
      "WARNING:tensorflow:From C:\\Users\\skarn\\Anaconda3\\envs\\DataAnalysis\\lib\\site-packages\\tensorflow\\python\\ops\\resource_variable_ops.py:435: colocate_with (from tensorflow.python.framework.ops) is deprecated and will be removed in a future version.\n",
      "Instructions for updating:\n",
      "Colocations handled automatically by placer.\n",
      "WARNING:tensorflow:From C:\\Users\\skarn\\Anaconda3\\envs\\DataAnalysis\\lib\\site-packages\\tensorflow\\python\\keras\\layers\\core.py:143: calling dropout (from tensorflow.python.ops.nn_ops) with keep_prob is deprecated and will be removed in a future version.\n",
      "Instructions for updating:\n",
      "Please use `rate` instead of `keep_prob`. Rate should be set to `rate = 1 - keep_prob`.\n"
     ]
    }
   ],
   "source": [
    "model = keras.Sequential([\n",
    "    keras.layers.Embedding(vocab_size, 10),\n",
    "    keras.layers.Conv1D(32, 3, padding=\"same\", activation=tf.nn.relu),\n",
    "    keras.layers.Dropout(0.3),\n",
    "    keras.layers.Conv1D(32, 3, padding=\"same\", activation=tf.nn.relu),\n",
    "    keras.layers.GlobalMaxPool1D(),\n",
    "    keras.layers.Dropout(0.5),\n",
    "    keras.layers.Dense(2, activation=tf.nn.sigmoid)\n",
    "])"
   ]
  },
  {
   "cell_type": "code",
   "execution_count": 17,
   "metadata": {
    "ExecuteTime": {
     "end_time": "2019-08-07T01:27:07.330763Z",
     "start_time": "2019-08-07T01:27:07.313773Z"
    }
   },
   "outputs": [],
   "source": [
    "def plot_loss(history):\n",
    "    plt.figure(figsize=(6,5))\n",
    "    val = plt.plot(history.epoch, history.history['val_loss'],\n",
    "                 '--', label='Test')\n",
    "    plt.plot(history.epoch, history.history['loss'], color=val[0].get_color(),\n",
    "           label='Train')\n",
    "\n",
    "    plt.xlabel('Epochs')\n",
    "    plt.ylabel(\"Loss\")\n",
    "    plt.legend()\n",
    "\n",
    "    plt.xlim([0,max(history.epoch)])\n",
    "\n",
    "def eval_model(model):\n",
    "    test_loss, test_acc = model.evaluate(X_test, pd.get_dummies(y_test))\n",
    "    print('Test accuracy:', test_acc)"
   ]
  },
  {
   "cell_type": "code",
   "execution_count": 18,
   "metadata": {
    "ExecuteTime": {
     "end_time": "2019-08-07T01:27:17.567881Z",
     "start_time": "2019-08-07T01:27:07.338759Z"
    }
   },
   "outputs": [
    {
     "name": "stdout",
     "output_type": "stream",
     "text": [
      "Train on 2625 samples, validate on 875 samples\n",
      "WARNING:tensorflow:From C:\\Users\\skarn\\Anaconda3\\envs\\DataAnalysis\\lib\\site-packages\\tensorflow\\python\\ops\\math_ops.py:3066: to_int32 (from tensorflow.python.ops.math_ops) is deprecated and will be removed in a future version.\n",
      "Instructions for updating:\n",
      "Use tf.cast instead.\n",
      "WARNING:tensorflow:From C:\\Users\\skarn\\Anaconda3\\envs\\DataAnalysis\\lib\\site-packages\\tensorflow\\python\\ops\\math_grad.py:102: div (from tensorflow.python.ops.math_ops) is deprecated and will be removed in a future version.\n",
      "Instructions for updating:\n",
      "Deprecated in favor of operator or tf.math.divide.\n",
      "Epoch 1/5\n",
      "2625/2625 [==============================] - ETA: 2:08 - loss: 0.6955 - acc: 0.500 - ETA: 25s - loss: 0.6827 - acc: 0.709 - ETA: 12s - loss: 0.6684 - acc: 0.78 - ETA: 7s - loss: 0.6531 - acc: 0.8096 - ETA: 4s - loss: 0.6302 - acc: 0.837 - ETA: 4s - loss: 0.6179 - acc: 0.840 - ETA: 2s - loss: 0.6007 - acc: 0.841 - ETA: 2s - loss: 0.5843 - acc: 0.840 - ETA: 1s - loss: 0.5575 - acc: 0.848 - ETA: 1s - loss: 0.5493 - acc: 0.847 - ETA: 1s - loss: 0.5426 - acc: 0.846 - ETA: 0s - loss: 0.5269 - acc: 0.849 - ETA: 0s - loss: 0.5231 - acc: 0.847 - ETA: 0s - loss: 0.5180 - acc: 0.847 - ETA: 0s - loss: 0.5103 - acc: 0.850 - ETA: 0s - loss: 0.5069 - acc: 0.848 - 3s 1ms/sample - loss: 0.5046 - acc: 0.8490 - val_loss: 0.4321 - val_acc: 0.8571\n",
      "Epoch 2/5\n",
      "2625/2625 [==============================] - ETA: 0s - loss: 0.4421 - acc: 0.812 - ETA: 0s - loss: 0.4267 - acc: 0.859 - ETA: 0s - loss: 0.4138 - acc: 0.865 - ETA: 0s - loss: 0.4003 - acc: 0.870 - ETA: 0s - loss: 0.4014 - acc: 0.870 - ETA: 0s - loss: 0.4072 - acc: 0.870 - ETA: 0s - loss: 0.4064 - acc: 0.869 - ETA: 0s - loss: 0.4190 - acc: 0.862 - ETA: 0s - loss: 0.4203 - acc: 0.861 - ETA: 0s - loss: 0.4203 - acc: 0.860 - ETA: 0s - loss: 0.4183 - acc: 0.861 - ETA: 0s - loss: 0.4169 - acc: 0.862 - ETA: 0s - loss: 0.4104 - acc: 0.866 - ETA: 0s - loss: 0.4089 - acc: 0.866 - ETA: 0s - loss: 0.4089 - acc: 0.866 - ETA: 0s - loss: 0.4161 - acc: 0.863 - 1s 363us/sample - loss: 0.4192 - acc: 0.8621 - val_loss: 0.4215 - val_acc: 0.8571\n",
      "Epoch 3/5\n",
      "2625/2625 [==============================] - ETA: 0s - loss: 0.4426 - acc: 0.875 - ETA: 0s - loss: 0.4762 - acc: 0.828 - ETA: 0s - loss: 0.4315 - acc: 0.849 - ETA: 0s - loss: 0.4417 - acc: 0.843 - ETA: 0s - loss: 0.4246 - acc: 0.856 - ETA: 0s - loss: 0.4280 - acc: 0.852 - ETA: 0s - loss: 0.4243 - acc: 0.855 - ETA: 0s - loss: 0.4179 - acc: 0.859 - ETA: 0s - loss: 0.4227 - acc: 0.855 - ETA: 0s - loss: 0.4229 - acc: 0.855 - ETA: 0s - loss: 0.4217 - acc: 0.857 - ETA: 0s - loss: 0.4115 - acc: 0.862 - ETA: 0s - loss: 0.4141 - acc: 0.861 - ETA: 0s - loss: 0.4125 - acc: 0.862 - ETA: 0s - loss: 0.4120 - acc: 0.861 - 1s 343us/sample - loss: 0.4121 - acc: 0.8621 - val_loss: 0.4164 - val_acc: 0.8571\n",
      "Epoch 4/5\n",
      "2625/2625 [==============================] - ETA: 0s - loss: 0.4116 - acc: 0.875 - ETA: 0s - loss: 0.3966 - acc: 0.866 - ETA: 0s - loss: 0.4365 - acc: 0.843 - ETA: 0s - loss: 0.4144 - acc: 0.858 - ETA: 0s - loss: 0.3881 - acc: 0.872 - ETA: 0s - loss: 0.3956 - acc: 0.870 - ETA: 0s - loss: 0.3967 - acc: 0.869 - ETA: 0s - loss: 0.4089 - acc: 0.862 - ETA: 0s - loss: 0.4134 - acc: 0.859 - ETA: 0s - loss: 0.4084 - acc: 0.862 - ETA: 0s - loss: 0.4070 - acc: 0.861 - ETA: 0s - loss: 0.3996 - acc: 0.866 - ETA: 0s - loss: 0.4032 - acc: 0.863 - ETA: 0s - loss: 0.4083 - acc: 0.862 - ETA: 0s - loss: 0.4085 - acc: 0.862 - 1s 326us/sample - loss: 0.4093 - acc: 0.8621 - val_loss: 0.4203 - val_acc: 0.8571\n",
      "Epoch 5/5\n",
      "2625/2625 [==============================] - ETA: 0s - loss: 0.4106 - acc: 0.843 - ETA: 0s - loss: 0.3978 - acc: 0.855 - ETA: 0s - loss: 0.3815 - acc: 0.877 - ETA: 0s - loss: 0.4041 - acc: 0.861 - ETA: 0s - loss: 0.4005 - acc: 0.862 - ETA: 0s - loss: 0.3888 - acc: 0.867 - ETA: 0s - loss: 0.4091 - acc: 0.857 - ETA: 0s - loss: 0.4120 - acc: 0.857 - ETA: 0s - loss: 0.4124 - acc: 0.856 - ETA: 0s - loss: 0.4155 - acc: 0.855 - ETA: 0s - loss: 0.4126 - acc: 0.856 - ETA: 0s - loss: 0.4113 - acc: 0.857 - ETA: 0s - loss: 0.4054 - acc: 0.858 - ETA: 0s - loss: 0.4049 - acc: 0.858 - ETA: 0s - loss: 0.4005 - acc: 0.860 - 1s 343us/sample - loss: 0.3969 - acc: 0.8621 - val_loss: 0.3729 - val_acc: 0.8571\n",
      "875/875 [==============================] - ETA: 0s - loss: 0.4355 - acc: 0.812 - ETA: 0s - loss: 0.3642 - acc: 0.863 - 0s 110us/sample - loss: 0.3729 - acc: 0.8571\n",
      "Test accuracy: 0.85714287\n"
     ]
    },
    {
     "data": {
      "image/png": "[encoded data removed]",
      "text/plain": [
       "<Figure size 432x360 with 1 Axes>"
      ]
     },
     "metadata": {
      "needs_background": "light"
     },
     "output_type": "display_data"
    }
   ],
   "source": [
    "model.compile(optimizer='adam', \n",
    "              loss='binary_crossentropy',\n",
    "              metrics=['accuracy'])\n",
    "\n",
    "history = model.fit(X_train,\n",
    "          pd.get_dummies(y_train),\n",
    "          epochs=5,\n",
    "          validation_data=(X_test, pd.get_dummies(y_test))\n",
    "         )\n",
    "plot_loss(history)\n",
    "eval_model(model)"
   ]
  },
  {
   "cell_type": "code",
   "execution_count": 19,
   "metadata": {
    "ExecuteTime": {
     "end_time": "2019-08-07T01:27:17.928676Z",
     "start_time": "2019-08-07T01:27:17.577876Z"
    }
   },
   "outputs": [
    {
     "data": {
      "text/plain": [
       "{0}"
      ]
     },
     "execution_count": 19,
     "metadata": {},
     "output_type": "execute_result"
    }
   ],
   "source": [
    "set(model.predict_classes(X_test)) ## 전부 0으로 예측을 함 . 데이터 편향 문제때문"
   ]
  },
  {
   "cell_type": "code",
   "execution_count": 20,
   "metadata": {
    "ExecuteTime": {
     "end_time": "2019-08-07T01:27:17.938669Z",
     "start_time": "2019-08-07T01:27:17.933671Z"
    }
   },
   "outputs": [],
   "source": [
    "# result = pd.DataFrame(np.apply_along_axis(index_to_text, 1, X_test))\n",
    "# result['predict'] = model.predict_proba(X_test)[:,1] # 유해하다고 판별할 확률\n",
    "# result[result.predict>0.3]"
   ]
  },
  {
   "cell_type": "markdown",
   "metadata": {},
   "source": [
    "\n",
    "# 데이터 클래스 불균형 문제 해결하자"
   ]
  },
  {
   "cell_type": "code",
   "execution_count": 21,
   "metadata": {
    "ExecuteTime": {
     "end_time": "2019-08-07T01:27:17.959658Z",
     "start_time": "2019-08-07T01:27:17.944667Z"
    }
   },
   "outputs": [],
   "source": [
    "from imblearn.under_sampling import RandomUnderSampler\n",
    "from imblearn.over_sampling import RandomOverSampler"
   ]
  },
  {
   "cell_type": "markdown",
   "metadata": {},
   "source": [
    "## upsampling"
   ]
  },
  {
   "cell_type": "code",
   "execution_count": 22,
   "metadata": {
    "ExecuteTime": {
     "end_time": "2019-08-07T01:27:18.004631Z",
     "start_time": "2019-08-07T01:27:17.964654Z"
    }
   },
   "outputs": [],
   "source": [
    "up_X, up_y = RandomOverSampler().fit_resample(x_padded, datasets.label)\n",
    "up_X_train, up_X_test, up_y_train, up_y_test = train_test_split(up_X, up_y)"
   ]
  },
  {
   "cell_type": "code",
   "execution_count": 23,
   "metadata": {
    "ExecuteTime": {
     "end_time": "2019-08-07T01:27:18.021623Z",
     "start_time": "2019-08-07T01:27:18.013626Z"
    }
   },
   "outputs": [
    {
     "data": {
      "text/plain": [
       "(6026, 3013)"
      ]
     },
     "execution_count": 23,
     "metadata": {},
     "output_type": "execute_result"
    }
   ],
   "source": [
    "# 총 데이터 수 , 1 레이블 데이터 수\n",
    "len(up_y), up_y.sum()"
   ]
  },
  {
   "cell_type": "code",
   "execution_count": 58,
   "metadata": {
    "ExecuteTime": {
     "end_time": "2019-08-07T01:39:31.922100Z",
     "start_time": "2019-08-07T01:39:17.062638Z"
    }
   },
   "outputs": [
    {
     "name": "stdout",
     "output_type": "stream",
     "text": [
      "Train on 4519 samples, validate on 1507 samples\n",
      "Epoch 1/5\n",
      "4519/4519 [==============================] - ETA: 3:53 - loss: 0.0085 - acc: 1.000 - ETA: 58s - loss: 0.0255 - acc: 0.992 - ETA: 26s - loss: 0.0451 - acc: 0.99 - ETA: 15s - loss: 0.0720 - acc: 0.98 - ETA: 10s - loss: 0.0620 - acc: 0.98 - ETA: 8s - loss: 0.0530 - acc: 0.9878 - ETA: 7s - loss: 0.0472 - acc: 0.989 - ETA: 5s - loss: 0.0422 - acc: 0.990 - ETA: 4s - loss: 0.0520 - acc: 0.989 - ETA: 4s - loss: 0.0576 - acc: 0.988 - ETA: 3s - loss: 0.0543 - acc: 0.989 - ETA: 3s - loss: 0.0555 - acc: 0.989 - ETA: 3s - loss: 0.0553 - acc: 0.988 - ETA: 2s - loss: 0.0557 - acc: 0.988 - ETA: 2s - loss: 0.0567 - acc: 0.986 - ETA: 2s - loss: 0.0553 - acc: 0.987 - ETA: 1s - loss: 0.0557 - acc: 0.986 - ETA: 1s - loss: 0.0537 - acc: 0.986 - ETA: 1s - loss: 0.0549 - acc: 0.985 - ETA: 1s - loss: 0.0527 - acc: 0.985 - ETA: 0s - loss: 0.0514 - acc: 0.986 - ETA: 0s - loss: 0.0500 - acc: 0.986 - ETA: 0s - loss: 0.0488 - acc: 0.986 - ETA: 0s - loss: 0.0470 - acc: 0.987 - ETA: 0s - loss: 0.0472 - acc: 0.987 - ETA: 0s - loss: 0.0485 - acc: 0.987 - ETA: 0s - loss: 0.0471 - acc: 0.987 - ETA: 0s - loss: 0.0461 - acc: 0.987 - 4s 846us/sample - loss: 0.0461 - acc: 0.9879 - val_loss: 0.1134 - val_acc: 0.9738\n",
      "Epoch 2/5\n",
      "4519/4519 [==============================] - ETA: 2s - loss: 0.0291 - acc: 0.968 - ETA: 1s - loss: 0.0108 - acc: 0.995 - ETA: 1s - loss: 0.0073 - acc: 0.997 - ETA: 1s - loss: 0.0364 - acc: 0.994 - ETA: 1s - loss: 0.0307 - acc: 0.995 - ETA: 1s - loss: 0.0410 - acc: 0.992 - ETA: 1s - loss: 0.0381 - acc: 0.992 - ETA: 1s - loss: 0.0342 - acc: 0.993 - ETA: 1s - loss: 0.0345 - acc: 0.992 - ETA: 1s - loss: 0.0318 - acc: 0.993 - ETA: 0s - loss: 0.0298 - acc: 0.994 - ETA: 0s - loss: 0.0286 - acc: 0.994 - ETA: 0s - loss: 0.0288 - acc: 0.993 - ETA: 0s - loss: 0.0277 - acc: 0.993 - ETA: 0s - loss: 0.0262 - acc: 0.993 - ETA: 0s - loss: 0.0250 - acc: 0.994 - ETA: 0s - loss: 0.0239 - acc: 0.994 - ETA: 0s - loss: 0.0239 - acc: 0.993 - ETA: 0s - loss: 0.0242 - acc: 0.993 - ETA: 0s - loss: 0.0235 - acc: 0.994 - ETA: 0s - loss: 0.0235 - acc: 0.994 - ETA: 0s - loss: 0.0240 - acc: 0.993 - ETA: 0s - loss: 0.0240 - acc: 0.993 - ETA: 0s - loss: 0.0236 - acc: 0.993 - ETA: 0s - loss: 0.0231 - acc: 0.993 - ETA: 0s - loss: 0.0223 - acc: 0.993 - ETA: 0s - loss: 0.0235 - acc: 0.993 - ETA: 0s - loss: 0.0233 - acc: 0.993 - 2s 379us/sample - loss: 0.0233 - acc: 0.9938 - val_loss: 0.1101 - val_acc: 0.9721\n",
      "Epoch 3/5\n",
      "4519/4519 [==============================] - ETA: 1s - loss: 0.0034 - acc: 1.000 - ETA: 1s - loss: 0.0096 - acc: 0.994 - ETA: 1s - loss: 0.0858 - acc: 0.987 - ETA: 1s - loss: 0.0626 - acc: 0.991 - ETA: 1s - loss: 0.0508 - acc: 0.993 - ETA: 1s - loss: 0.0428 - acc: 0.994 - ETA: 1s - loss: 0.0356 - acc: 0.995 - ETA: 1s - loss: 0.0296 - acc: 0.996 - ETA: 1s - loss: 0.0259 - acc: 0.996 - ETA: 1s - loss: 0.0230 - acc: 0.997 - ETA: 1s - loss: 0.0224 - acc: 0.997 - ETA: 1s - loss: 0.0208 - acc: 0.997 - ETA: 0s - loss: 0.0197 - acc: 0.997 - ETA: 0s - loss: 0.0193 - acc: 0.997 - ETA: 0s - loss: 0.0188 - acc: 0.997 - ETA: 0s - loss: 0.0179 - acc: 0.997 - ETA: 0s - loss: 0.0186 - acc: 0.997 - ETA: 0s - loss: 0.0187 - acc: 0.996 - ETA: 0s - loss: 0.0183 - acc: 0.996 - ETA: 0s - loss: 0.0177 - acc: 0.997 - ETA: 0s - loss: 0.0170 - acc: 0.997 - ETA: 0s - loss: 0.0163 - acc: 0.997 - ETA: 0s - loss: 0.0156 - acc: 0.997 - ETA: 0s - loss: 0.0151 - acc: 0.997 - ETA: 0s - loss: 0.0152 - acc: 0.997 - ETA: 0s - loss: 0.0149 - acc: 0.997 - ETA: 0s - loss: 0.0157 - acc: 0.997 - ETA: 0s - loss: 0.0153 - acc: 0.997 - ETA: 0s - loss: 0.0151 - acc: 0.997 - 2s 390us/sample - loss: 0.0149 - acc: 0.9973 - val_loss: 0.1337 - val_acc: 0.9721\n",
      "Epoch 4/5\n",
      "4519/4519 [==============================] - ETA: 1s - loss: 0.0011 - acc: 1.000 - ETA: 1s - loss: 0.0214 - acc: 0.989 - ETA: 1s - loss: 0.0200 - acc: 0.990 - ETA: 1s - loss: 0.0158 - acc: 0.993 - ETA: 1s - loss: 0.0124 - acc: 0.995 - ETA: 1s - loss: 0.0139 - acc: 0.994 - ETA: 1s - loss: 0.0119 - acc: 0.995 - ETA: 1s - loss: 0.0115 - acc: 0.996 - ETA: 1s - loss: 0.0254 - acc: 0.994 - ETA: 1s - loss: 0.0238 - acc: 0.994 - ETA: 1s - loss: 0.0217 - acc: 0.994 - ETA: 0s - loss: 0.0208 - acc: 0.994 - ETA: 0s - loss: 0.0209 - acc: 0.994 - ETA: 0s - loss: 0.0195 - acc: 0.995 - ETA: 0s - loss: 0.0182 - acc: 0.995 - ETA: 0s - loss: 0.0176 - acc: 0.995 - ETA: 0s - loss: 0.0177 - acc: 0.995 - ETA: 0s - loss: 0.0166 - acc: 0.995 - ETA: 0s - loss: 0.0159 - acc: 0.995 - ETA: 0s - loss: 0.0161 - acc: 0.995 - ETA: 0s - loss: 0.0155 - acc: 0.995 - ETA: 0s - loss: 0.0175 - acc: 0.995 - ETA: 0s - loss: 0.0170 - acc: 0.995 - ETA: 0s - loss: 0.0167 - acc: 0.995 - ETA: 0s - loss: 0.0163 - acc: 0.996 - ETA: 0s - loss: 0.0158 - acc: 0.996 - ETA: 0s - loss: 0.0154 - acc: 0.996 - 2s 367us/sample - loss: 0.0150 - acc: 0.9965 - val_loss: 0.1565 - val_acc: 0.9708\n",
      "Epoch 5/5\n",
      "4519/4519 [==============================] - ETA: 2s - loss: 0.0066 - acc: 1.000 - ETA: 2s - loss: 0.0068 - acc: 1.000 - ETA: 1s - loss: 0.0206 - acc: 0.996 - ETA: 1s - loss: 0.0161 - acc: 0.997 - ETA: 1s - loss: 0.0126 - acc: 0.998 - ETA: 1s - loss: 0.0138 - acc: 0.996 - ETA: 1s - loss: 0.0127 - acc: 0.997 - ETA: 1s - loss: 0.0118 - acc: 0.997 - ETA: 1s - loss: 0.0114 - acc: 0.997 - ETA: 1s - loss: 0.0106 - acc: 0.997 - ETA: 1s - loss: 0.0101 - acc: 0.997 - ETA: 1s - loss: 0.0113 - acc: 0.997 - ETA: 0s - loss: 0.0111 - acc: 0.997 - ETA: 0s - loss: 0.0108 - acc: 0.997 - ETA: 0s - loss: 0.0107 - acc: 0.997 - ETA: 0s - loss: 0.0107 - acc: 0.996 - ETA: 0s - loss: 0.0117 - acc: 0.996 - ETA: 0s - loss: 0.0112 - acc: 0.996 - ETA: 0s - loss: 0.0108 - acc: 0.997 - ETA: 0s - loss: 0.0117 - acc: 0.996 - ETA: 0s - loss: 0.0113 - acc: 0.997 - ETA: 0s - loss: 0.0108 - acc: 0.997 - ETA: 0s - loss: 0.0155 - acc: 0.996 - ETA: 0s - loss: 0.0149 - acc: 0.996 - ETA: 0s - loss: 0.0145 - acc: 0.997 - ETA: 0s - loss: 0.0141 - acc: 0.997 - ETA: 0s - loss: 0.0138 - acc: 0.997 - ETA: 0s - loss: 0.0139 - acc: 0.997 - ETA: 0s - loss: 0.0145 - acc: 0.997 - 2s 389us/sample - loss: 0.0144 - acc: 0.9970 - val_loss: 0.1345 - val_acc: 0.9728\n",
      "1507/1507 [==============================] - ETA: 0s - loss: 0.0133 - acc: 1.000 - ETA: 0s - loss: 0.0774 - acc: 0.981 - ETA: 0s - loss: 0.1033 - acc: 0.977 - 0s 105us/sample - loss: 0.1345 - acc: 0.9728\n",
      "Test accuracy: 0.97279364\n"
     ]
    },
    {
     "data": {
      "image/png": "[encoded data removed]",
      "text/plain": [
       "<Figure size 432x360 with 1 Axes>"
      ]
     },
     "metadata": {
      "needs_background": "light"
     },
     "output_type": "display_data"
    }
   ],
   "source": [
    "model.compile(optimizer='adam', \n",
    "              loss='binary_crossentropy',\n",
    "              metrics=['accuracy'])\n",
    "\n",
    "history = model.fit(up_X_train,\n",
    "          pd.get_dummies(up_y_train),\n",
    "          epochs=5,\n",
    "          validation_data=(up_X_test, pd.get_dummies(up_y_test))\n",
    "         )\n",
    "plot_loss(history)\n",
    "test_loss, test_acc = model.evaluate(up_X_test, pd.get_dummies(up_y_test))\n",
    "print('Test accuracy:', test_acc)"
   ]
  },
  {
   "cell_type": "code",
   "execution_count": 59,
   "metadata": {
    "ExecuteTime": {
     "end_time": "2019-08-07T01:39:32.655677Z",
     "start_time": "2019-08-07T01:39:31.927096Z"
    }
   },
   "outputs": [
    {
     "name": "stdout",
     "output_type": "stream",
     "text": [
      "전체채팅수1507, 유해채팅수763\n"
     ]
    },
    {
     "data": {
      "text/html": [
       "<div>\n",
       "<style scoped>\n",
       "    .dataframe tbody tr th:only-of-type {\n",
       "        vertical-align: middle;\n",
       "    }\n",
       "\n",
       "    .dataframe tbody tr th {\n",
       "        vertical-align: top;\n",
       "    }\n",
       "\n",
       "    .dataframe thead th {\n",
       "        text-align: right;\n",
       "    }\n",
       "</style>\n",
       "<table border=\"1\" class=\"dataframe\">\n",
       "  <thead>\n",
       "    <tr style=\"text-align: right;\">\n",
       "      <th></th>\n",
       "      <th>0</th>\n",
       "      <th>predict</th>\n",
       "    </tr>\n",
       "  </thead>\n",
       "  <tbody>\n",
       "    <tr>\n",
       "      <th>0</th>\n",
       "      <td>개창/Noun 석/Noun 이/Josa &lt;PAD&gt; &lt;PAD&gt; &lt;PAD&gt; &lt;PAD&gt; ...</td>\n",
       "      <td>1.000000</td>\n",
       "    </tr>\n",
       "    <tr>\n",
       "      <th>1</th>\n",
       "      <td>어허/Exclamation 음란/Noun 성/Suffix 띡/Noun !/Punct...</td>\n",
       "      <td>0.999999</td>\n",
       "    </tr>\n",
       "    <tr>\n",
       "      <th>2</th>\n",
       "      <td>개창/Noun 석/Noun 아/Josa 나가/Verb 죽어줘/Verb 제발/Noun...</td>\n",
       "      <td>1.000000</td>\n",
       "    </tr>\n",
       "    <tr>\n",
       "      <th>4</th>\n",
       "      <td>응/Noun 브빡/Noun 이/Josa 브/Noun 사모/Noun 들/Verb ㄲㅈ...</td>\n",
       "      <td>0.999989</td>\n",
       "    </tr>\n",
       "    <tr>\n",
       "      <th>10</th>\n",
       "      <td>창석/Noun 이/Determiner 붕알/Noun 냄새/Noun 맞고싶다/Verb...</td>\n",
       "      <td>0.980256</td>\n",
       "    </tr>\n",
       "    <tr>\n",
       "      <th>13</th>\n",
       "      <td>창석/Noun 이/Determiner 붕알/Noun 냄새/Noun 맞고/Verb 파...</td>\n",
       "      <td>0.999984</td>\n",
       "    </tr>\n",
       "    <tr>\n",
       "      <th>14</th>\n",
       "      <td>콧털좀/Noun 짜르/Noun 자/Suffix 킁킁/Adverb 대는거/Verb 듣...</td>\n",
       "      <td>0.999997</td>\n",
       "    </tr>\n",
       "    <tr>\n",
       "      <th>15</th>\n",
       "      <td>이색기/Noun 팔로우/Noun 는/Josa 감사하다는말도/Verb 안/VerbPr...</td>\n",
       "      <td>0.999984</td>\n",
       "    </tr>\n",
       "    <tr>\n",
       "      <th>16</th>\n",
       "      <td>브베/Noun 형/Suffix 뮤직비디오/Noun 언제/Noun 만들어요/Verb ...</td>\n",
       "      <td>0.999739</td>\n",
       "    </tr>\n",
       "    <tr>\n",
       "      <th>18</th>\n",
       "      <td>취미/Noun 생활/Noun 할거면/Verb 방송/Noun 끄고하라고/Verb 씨발...</td>\n",
       "      <td>1.000000</td>\n",
       "    </tr>\n",
       "  </tbody>\n",
       "</table>\n",
       "</div>"
      ],
      "text/plain": [
       "                                                    0   predict\n",
       "0   개창/Noun 석/Noun 이/Josa <PAD> <PAD> <PAD> <PAD> ...  1.000000\n",
       "1   어허/Exclamation 음란/Noun 성/Suffix 띡/Noun !/Punct...  0.999999\n",
       "2   개창/Noun 석/Noun 아/Josa 나가/Verb 죽어줘/Verb 제발/Noun...  1.000000\n",
       "4   응/Noun 브빡/Noun 이/Josa 브/Noun 사모/Noun 들/Verb ㄲㅈ...  0.999989\n",
       "10  창석/Noun 이/Determiner 붕알/Noun 냄새/Noun 맞고싶다/Verb...  0.980256\n",
       "13  창석/Noun 이/Determiner 붕알/Noun 냄새/Noun 맞고/Verb 파...  0.999984\n",
       "14  콧털좀/Noun 짜르/Noun 자/Suffix 킁킁/Adverb 대는거/Verb 듣...  0.999997\n",
       "15  이색기/Noun 팔로우/Noun 는/Josa 감사하다는말도/Verb 안/VerbPr...  0.999984\n",
       "16  브베/Noun 형/Suffix 뮤직비디오/Noun 언제/Noun 만들어요/Verb ...  0.999739\n",
       "18  취미/Noun 생활/Noun 할거면/Verb 방송/Noun 끄고하라고/Verb 씨발...  1.000000"
      ]
     },
     "execution_count": 59,
     "metadata": {},
     "output_type": "execute_result"
    }
   ],
   "source": [
    "result = pd.DataFrame(np.apply_along_axis(index_to_text, 1, up_X_test))\n",
    "result['predict'] = model.predict_proba(up_X_test)[:,1] # 유해하다고 판별할 확률\n",
    "print('전체채팅수{}, 유해채팅수{}'.format(len(result),len(result[result.predict>0.5])))\n",
    "result[result.predict>0.5].head(10)"
   ]
  },
  {
   "cell_type": "code",
   "execution_count": 60,
   "metadata": {
    "ExecuteTime": {
     "end_time": "2019-08-07T01:39:32.703651Z",
     "start_time": "2019-08-07T01:39:32.662674Z"
    }
   },
   "outputs": [
    {
     "data": {
      "text/html": [
       "<div>\n",
       "<style scoped>\n",
       "    .dataframe tbody tr th:only-of-type {\n",
       "        vertical-align: middle;\n",
       "    }\n",
       "\n",
       "    .dataframe tbody tr th {\n",
       "        vertical-align: top;\n",
       "    }\n",
       "\n",
       "    .dataframe thead th {\n",
       "        text-align: right;\n",
       "    }\n",
       "</style>\n",
       "<table border=\"1\" class=\"dataframe\">\n",
       "  <thead>\n",
       "    <tr style=\"text-align: right;\">\n",
       "      <th></th>\n",
       "      <th>0</th>\n",
       "      <th>predict</th>\n",
       "    </tr>\n",
       "  </thead>\n",
       "  <tbody>\n",
       "    <tr>\n",
       "      <th>5</th>\n",
       "      <td>터프하/Noun 다/Josa &lt;PAD&gt; &lt;PAD&gt; &lt;PAD&gt; &lt;PAD&gt; &lt;PAD&gt; ...</td>\n",
       "      <td>0.252816</td>\n",
       "    </tr>\n",
       "    <tr>\n",
       "      <th>191</th>\n",
       "      <td>차라리/Noun 그게/Noun 낫/Noun 지/Josa &lt;PAD&gt; &lt;PAD&gt; &lt;PA...</td>\n",
       "      <td>0.120460</td>\n",
       "    </tr>\n",
       "    <tr>\n",
       "      <th>275</th>\n",
       "      <td>지/Verb &lt;PAD&gt; &lt;PAD&gt; &lt;PAD&gt; &lt;PAD&gt; &lt;PAD&gt; &lt;PAD&gt; &lt;PA...</td>\n",
       "      <td>0.760932</td>\n",
       "    </tr>\n",
       "    <tr>\n",
       "      <th>314</th>\n",
       "      <td>가슴/Noun 캠/Noun ?/Punctuation &lt;PAD&gt; &lt;PAD&gt; &lt;PAD&gt;...</td>\n",
       "      <td>0.435453</td>\n",
       "    </tr>\n",
       "    <tr>\n",
       "      <th>385</th>\n",
       "      <td>그러니/Adjective 하지마라/Verb &lt;PAD&gt; &lt;PAD&gt; &lt;PAD&gt; &lt;PAD...</td>\n",
       "      <td>0.105374</td>\n",
       "    </tr>\n",
       "    <tr>\n",
       "      <th>476</th>\n",
       "      <td>아/Noun 나/Josa &lt;PAD&gt; &lt;PAD&gt; &lt;PAD&gt; &lt;PAD&gt; &lt;PAD&gt; &lt;P...</td>\n",
       "      <td>0.545884</td>\n",
       "    </tr>\n",
       "    <tr>\n",
       "      <th>516</th>\n",
       "      <td>스마트/Noun 컴/Noun ?/Punctuation &lt;PAD&gt; &lt;PAD&gt; &lt;PAD...</td>\n",
       "      <td>0.167683</td>\n",
       "    </tr>\n",
       "    <tr>\n",
       "      <th>519</th>\n",
       "      <td>본인/Noun 의/Josa 인생/Noun 처럼/Josa ?/Punctuation &lt;...</td>\n",
       "      <td>0.557419</td>\n",
       "    </tr>\n",
       "    <tr>\n",
       "      <th>536</th>\n",
       "      <td>Squid/Alpha 1/Number &lt;PAD&gt; &lt;PAD&gt; &lt;PAD&gt; &lt;PAD&gt; &lt;...</td>\n",
       "      <td>0.540295</td>\n",
       "    </tr>\n",
       "    <tr>\n",
       "      <th>550</th>\n",
       "      <td>미팅/Noun 넘/Verb &lt;PAD&gt; &lt;PAD&gt; &lt;PAD&gt; &lt;PAD&gt; &lt;PAD&gt; &lt;...</td>\n",
       "      <td>0.680606</td>\n",
       "    </tr>\n",
       "    <tr>\n",
       "      <th>553</th>\n",
       "      <td>노잼/Noun 이다/Josa &lt;PAD&gt; &lt;PAD&gt; &lt;PAD&gt; &lt;PAD&gt; &lt;PAD&gt; ...</td>\n",
       "      <td>0.285808</td>\n",
       "    </tr>\n",
       "    <tr>\n",
       "      <th>584</th>\n",
       "      <td>일이/Modifier 무엇/Noun 인지/Josa 구체/Noun 적/Suffix 으...</td>\n",
       "      <td>0.775491</td>\n",
       "    </tr>\n",
       "    <tr>\n",
       "      <th>596</th>\n",
       "      <td>뮤비/Noun 할/Verb 수/Noun 있어/Adjective 넌/Noun 너/No...</td>\n",
       "      <td>0.856932</td>\n",
       "    </tr>\n",
       "    <tr>\n",
       "      <th>600</th>\n",
       "      <td>아웃/Noun 라/Josa 으/Adverb 트/Noun ㄱ/KoreanParticl...</td>\n",
       "      <td>0.809423</td>\n",
       "    </tr>\n",
       "    <tr>\n",
       "      <th>685</th>\n",
       "      <td>브베/Noun =/Punctuation 창석/Noun 이/Josa &lt;PAD&gt; &lt;PA...</td>\n",
       "      <td>0.232069</td>\n",
       "    </tr>\n",
       "    <tr>\n",
       "      <th>702</th>\n",
       "      <td>침묵/Noun 방송/Noun 인가요/Josa ?/Punctuation &lt;PAD&gt; &lt;...</td>\n",
       "      <td>0.186505</td>\n",
       "    </tr>\n",
       "    <tr>\n",
       "      <th>734</th>\n",
       "      <td>ㄷㄷㄷ/KoreanParticle &lt;PAD&gt; &lt;PAD&gt; &lt;PAD&gt; &lt;PAD&gt; &lt;PA...</td>\n",
       "      <td>0.141373</td>\n",
       "    </tr>\n",
       "    <tr>\n",
       "      <th>834</th>\n",
       "      <td>배게/Verb &lt;PAD&gt; &lt;PAD&gt; &lt;PAD&gt; &lt;PAD&gt; &lt;PAD&gt; &lt;PAD&gt; &lt;P...</td>\n",
       "      <td>0.373855</td>\n",
       "    </tr>\n",
       "    <tr>\n",
       "      <th>999</th>\n",
       "      <td>꺄/Noun ~~~~~~~~~~~~~~~~~~~/Punctuation &lt;PAD&gt; &lt;...</td>\n",
       "      <td>0.302206</td>\n",
       "    </tr>\n",
       "    <tr>\n",
       "      <th>1053</th>\n",
       "      <td>??/Punctuation 번/Noun 제/Modifier 능/Noun 동물/Nou...</td>\n",
       "      <td>0.882508</td>\n",
       "    </tr>\n",
       "    <tr>\n",
       "      <th>1060</th>\n",
       "      <td>오빠/Noun 왜/Noun 아무/Modifier 것/Noun 도/Josa 안/Nou...</td>\n",
       "      <td>0.378025</td>\n",
       "    </tr>\n",
       "    <tr>\n",
       "      <th>1145</th>\n",
       "      <td>가슴/Noun 캠/Noun ?/Punctuation &lt;PAD&gt; &lt;PAD&gt; &lt;PAD&gt;...</td>\n",
       "      <td>0.435453</td>\n",
       "    </tr>\n",
       "    <tr>\n",
       "      <th>1177</th>\n",
       "      <td>발성/Noun &lt;PAD&gt; &lt;PAD&gt; &lt;PAD&gt; &lt;PAD&gt; &lt;PAD&gt; &lt;PAD&gt; &lt;P...</td>\n",
       "      <td>0.342771</td>\n",
       "    </tr>\n",
       "    <tr>\n",
       "      <th>1186</th>\n",
       "      <td>모아이/Noun 석/Modifier 상이/Noun 딱이다/Adjective &lt;PAD...</td>\n",
       "      <td>0.243229</td>\n",
       "    </tr>\n",
       "    <tr>\n",
       "      <th>1326</th>\n",
       "      <td>딴거하자/Verb ~/Punctuation &lt;PAD&gt; &lt;PAD&gt; &lt;PAD&gt; &lt;PAD...</td>\n",
       "      <td>0.171752</td>\n",
       "    </tr>\n",
       "    <tr>\n",
       "      <th>1355</th>\n",
       "      <td>탈수/Noun 는/Josa 형/Noun 같은/Adjective 노인/Noun 만/J...</td>\n",
       "      <td>0.162391</td>\n",
       "    </tr>\n",
       "    <tr>\n",
       "      <th>1360</th>\n",
       "      <td>폴테/Noun 야/Josa 왔니/Verb -/Punctuation &lt;PAD&gt; &lt;PA...</td>\n",
       "      <td>0.108095</td>\n",
       "    </tr>\n",
       "    <tr>\n",
       "      <th>1370</th>\n",
       "      <td>아프리카/Noun 키/Noun 자고/Noun 나/Noun 풍/Adverb 500/N...</td>\n",
       "      <td>0.810667</td>\n",
       "    </tr>\n",
       "    <tr>\n",
       "      <th>1419</th>\n",
       "      <td>너/Noun 부터/Josa 목/Noun 매달/Noun 면/Josa 되겟네/Verb ...</td>\n",
       "      <td>0.406377</td>\n",
       "    </tr>\n",
       "    <tr>\n",
       "      <th>1450</th>\n",
       "      <td>뭐라도/Verb 말/Noun 해봐/Verb &lt;PAD&gt; &lt;PAD&gt; &lt;PAD&gt; &lt;PAD...</td>\n",
       "      <td>0.883837</td>\n",
       "    </tr>\n",
       "    <tr>\n",
       "      <th>1498</th>\n",
       "      <td>스트리머/Noun 가/Josa 되었으면/Verb 시청자/Noun 보호/Noun 해주...</td>\n",
       "      <td>0.333428</td>\n",
       "    </tr>\n",
       "    <tr>\n",
       "      <th>1505</th>\n",
       "      <td>인사/Noun 도/Josa 안/VerbPrefix 할래/Verb &lt;PAD&gt; &lt;PAD...</td>\n",
       "      <td>0.480545</td>\n",
       "    </tr>\n",
       "  </tbody>\n",
       "</table>\n",
       "</div>"
      ],
      "text/plain": [
       "                                                      0   predict\n",
       "5     터프하/Noun 다/Josa <PAD> <PAD> <PAD> <PAD> <PAD> ...  0.252816\n",
       "191   차라리/Noun 그게/Noun 낫/Noun 지/Josa <PAD> <PAD> <PA...  0.120460\n",
       "275   지/Verb <PAD> <PAD> <PAD> <PAD> <PAD> <PAD> <PA...  0.760932\n",
       "314   가슴/Noun 캠/Noun ?/Punctuation <PAD> <PAD> <PAD>...  0.435453\n",
       "385   그러니/Adjective 하지마라/Verb <PAD> <PAD> <PAD> <PAD...  0.105374\n",
       "476   아/Noun 나/Josa <PAD> <PAD> <PAD> <PAD> <PAD> <P...  0.545884\n",
       "516   스마트/Noun 컴/Noun ?/Punctuation <PAD> <PAD> <PAD...  0.167683\n",
       "519   본인/Noun 의/Josa 인생/Noun 처럼/Josa ?/Punctuation <...  0.557419\n",
       "536   Squid/Alpha 1/Number <PAD> <PAD> <PAD> <PAD> <...  0.540295\n",
       "550   미팅/Noun 넘/Verb <PAD> <PAD> <PAD> <PAD> <PAD> <...  0.680606\n",
       "553   노잼/Noun 이다/Josa <PAD> <PAD> <PAD> <PAD> <PAD> ...  0.285808\n",
       "584   일이/Modifier 무엇/Noun 인지/Josa 구체/Noun 적/Suffix 으...  0.775491\n",
       "596   뮤비/Noun 할/Verb 수/Noun 있어/Adjective 넌/Noun 너/No...  0.856932\n",
       "600   아웃/Noun 라/Josa 으/Adverb 트/Noun ㄱ/KoreanParticl...  0.809423\n",
       "685   브베/Noun =/Punctuation 창석/Noun 이/Josa <PAD> <PA...  0.232069\n",
       "702   침묵/Noun 방송/Noun 인가요/Josa ?/Punctuation <PAD> <...  0.186505\n",
       "734   ㄷㄷㄷ/KoreanParticle <PAD> <PAD> <PAD> <PAD> <PA...  0.141373\n",
       "834   배게/Verb <PAD> <PAD> <PAD> <PAD> <PAD> <PAD> <P...  0.373855\n",
       "999   꺄/Noun ~~~~~~~~~~~~~~~~~~~/Punctuation <PAD> <...  0.302206\n",
       "1053  ??/Punctuation 번/Noun 제/Modifier 능/Noun 동물/Nou...  0.882508\n",
       "1060  오빠/Noun 왜/Noun 아무/Modifier 것/Noun 도/Josa 안/Nou...  0.378025\n",
       "1145  가슴/Noun 캠/Noun ?/Punctuation <PAD> <PAD> <PAD>...  0.435453\n",
       "1177  발성/Noun <PAD> <PAD> <PAD> <PAD> <PAD> <PAD> <P...  0.342771\n",
       "1186  모아이/Noun 석/Modifier 상이/Noun 딱이다/Adjective <PAD...  0.243229\n",
       "1326  딴거하자/Verb ~/Punctuation <PAD> <PAD> <PAD> <PAD...  0.171752\n",
       "1355  탈수/Noun 는/Josa 형/Noun 같은/Adjective 노인/Noun 만/J...  0.162391\n",
       "1360  폴테/Noun 야/Josa 왔니/Verb -/Punctuation <PAD> <PA...  0.108095\n",
       "1370  아프리카/Noun 키/Noun 자고/Noun 나/Noun 풍/Adverb 500/N...  0.810667\n",
       "1419  너/Noun 부터/Josa 목/Noun 매달/Noun 면/Josa 되겟네/Verb ...  0.406377\n",
       "1450  뭐라도/Verb 말/Noun 해봐/Verb <PAD> <PAD> <PAD> <PAD...  0.883837\n",
       "1498  스트리머/Noun 가/Josa 되었으면/Verb 시청자/Noun 보호/Noun 해주...  0.333428\n",
       "1505  인사/Noun 도/Josa 안/VerbPrefix 할래/Verb <PAD> <PAD...  0.480545"
      ]
     },
     "execution_count": 60,
     "metadata": {},
     "output_type": "execute_result"
    }
   ],
   "source": [
    "result[(result.predict>0.1) & (result.predict<0.9)]"
   ]
  },
  {
   "cell_type": "code",
   "execution_count": 62,
   "metadata": {
    "ExecuteTime": {
     "end_time": "2019-08-07T01:41:21.540135Z",
     "start_time": "2019-08-07T01:41:21.418208Z"
    }
   },
   "outputs": [
    {
     "data": {
      "text/html": [
       "<div>\n",
       "<style scoped>\n",
       "    .dataframe tbody tr th:only-of-type {\n",
       "        vertical-align: middle;\n",
       "    }\n",
       "\n",
       "    .dataframe tbody tr th {\n",
       "        vertical-align: top;\n",
       "    }\n",
       "\n",
       "    .dataframe thead th {\n",
       "        text-align: right;\n",
       "    }\n",
       "</style>\n",
       "<table border=\"1\" class=\"dataframe\">\n",
       "  <thead>\n",
       "    <tr style=\"text-align: right;\">\n",
       "      <th></th>\n",
       "      <th>0</th>\n",
       "      <th>predict</th>\n",
       "      <th>label</th>\n",
       "    </tr>\n",
       "  </thead>\n",
       "  <tbody>\n",
       "    <tr>\n",
       "      <th>117</th>\n",
       "      <td>야/Exclamation 브베/Noun 야/Josa &lt;PAD&gt; &lt;PAD&gt; &lt;PAD&gt;...</td>\n",
       "      <td>0.999796</td>\n",
       "      <td>0</td>\n",
       "    </tr>\n",
       "    <tr>\n",
       "      <th>124</th>\n",
       "      <td>ㄴ/KoreanParticle ㅈ/KoreanParticle &lt;PAD&gt; &lt;PAD&gt; ...</td>\n",
       "      <td>0.999806</td>\n",
       "      <td>0</td>\n",
       "    </tr>\n",
       "    <tr>\n",
       "      <th>259</th>\n",
       "      <td>그다음/Noun 에/Josa 브베/Noun 마냥/Noun 엄마/Noun 두드려/Ve...</td>\n",
       "      <td>0.986793</td>\n",
       "      <td>0</td>\n",
       "    </tr>\n",
       "    <tr>\n",
       "      <th>275</th>\n",
       "      <td>지/Verb &lt;PAD&gt; &lt;PAD&gt; &lt;PAD&gt; &lt;PAD&gt; &lt;PAD&gt; &lt;PAD&gt; &lt;PA...</td>\n",
       "      <td>0.760932</td>\n",
       "      <td>0</td>\n",
       "    </tr>\n",
       "    <tr>\n",
       "      <th>314</th>\n",
       "      <td>가슴/Noun 캠/Noun ?/Punctuation &lt;PAD&gt; &lt;PAD&gt; &lt;PAD&gt;...</td>\n",
       "      <td>0.435453</td>\n",
       "      <td>1</td>\n",
       "    </tr>\n",
       "    <tr>\n",
       "      <th>327</th>\n",
       "      <td>브베/Noun 양/Suffix ~/Punctuation 스타/Noun 하장/Noun...</td>\n",
       "      <td>0.977673</td>\n",
       "      <td>0</td>\n",
       "    </tr>\n",
       "    <tr>\n",
       "      <th>436</th>\n",
       "      <td>진짜/Noun 500/Number 개/Noun 충전/Noun 해놨으니까/Verb 오...</td>\n",
       "      <td>0.998547</td>\n",
       "      <td>0</td>\n",
       "    </tr>\n",
       "    <tr>\n",
       "      <th>475</th>\n",
       "      <td>빨리/Adverb 하라/Noun 고/Josa &lt;PAD&gt; &lt;PAD&gt; &lt;PAD&gt; &lt;PA...</td>\n",
       "      <td>0.984778</td>\n",
       "      <td>0</td>\n",
       "    </tr>\n",
       "    <tr>\n",
       "      <th>476</th>\n",
       "      <td>아/Noun 나/Josa &lt;PAD&gt; &lt;PAD&gt; &lt;PAD&gt; &lt;PAD&gt; &lt;PAD&gt; &lt;P...</td>\n",
       "      <td>0.545884</td>\n",
       "      <td>0</td>\n",
       "    </tr>\n",
       "    <tr>\n",
       "      <th>519</th>\n",
       "      <td>본인/Noun 의/Josa 인생/Noun 처럼/Josa ?/Punctuation &lt;...</td>\n",
       "      <td>0.557419</td>\n",
       "      <td>0</td>\n",
       "    </tr>\n",
       "    <tr>\n",
       "      <th>550</th>\n",
       "      <td>미팅/Noun 넘/Verb &lt;PAD&gt; &lt;PAD&gt; &lt;PAD&gt; &lt;PAD&gt; &lt;PAD&gt; &lt;...</td>\n",
       "      <td>0.680606</td>\n",
       "      <td>0</td>\n",
       "    </tr>\n",
       "    <tr>\n",
       "      <th>584</th>\n",
       "      <td>일이/Modifier 무엇/Noun 인지/Josa 구체/Noun 적/Suffix 으...</td>\n",
       "      <td>0.775491</td>\n",
       "      <td>0</td>\n",
       "    </tr>\n",
       "    <tr>\n",
       "      <th>596</th>\n",
       "      <td>뮤비/Noun 할/Verb 수/Noun 있어/Adjective 넌/Noun 너/No...</td>\n",
       "      <td>0.856932</td>\n",
       "      <td>0</td>\n",
       "    </tr>\n",
       "    <tr>\n",
       "      <th>600</th>\n",
       "      <td>아웃/Noun 라/Josa 으/Adverb 트/Noun ㄱ/KoreanParticl...</td>\n",
       "      <td>0.809423</td>\n",
       "      <td>0</td>\n",
       "    </tr>\n",
       "    <tr>\n",
       "      <th>654</th>\n",
       "      <td>오빠/Noun 다정/Noun 이/Josa 왓/Noun 다/Adverb 근/Modif...</td>\n",
       "      <td>0.947835</td>\n",
       "      <td>0</td>\n",
       "    </tr>\n",
       "    <tr>\n",
       "      <th>752</th>\n",
       "      <td>신음/Noun 내지마/Verb &lt;PAD&gt; &lt;PAD&gt; &lt;PAD&gt; &lt;PAD&gt; &lt;PAD&gt;...</td>\n",
       "      <td>0.999990</td>\n",
       "      <td>0</td>\n",
       "    </tr>\n",
       "    <tr>\n",
       "      <th>754</th>\n",
       "      <td>30분/Number 은/Foreign 바줄/Noun 께/Josa 1시간/Number...</td>\n",
       "      <td>0.910330</td>\n",
       "      <td>0</td>\n",
       "    </tr>\n",
       "    <tr>\n",
       "      <th>758</th>\n",
       "      <td>댕/Noun 장/Suffix 꿍/Noun 먹자/Verb 창슥/Noun 아/Josa ...</td>\n",
       "      <td>0.999939</td>\n",
       "      <td>0</td>\n",
       "    </tr>\n",
       "    <tr>\n",
       "      <th>847</th>\n",
       "      <td>브라보/Noun 일베/Noun 라서/Josa &lt;PAD&gt; &lt;PAD&gt; &lt;PAD&gt; &lt;PA...</td>\n",
       "      <td>0.996995</td>\n",
       "      <td>0</td>\n",
       "    </tr>\n",
       "    <tr>\n",
       "      <th>865</th>\n",
       "      <td>시작/Noun 부터/Josa 광고/Noun 냐/Josa &lt;PAD&gt; &lt;PAD&gt; &lt;PA...</td>\n",
       "      <td>0.999751</td>\n",
       "      <td>0</td>\n",
       "    </tr>\n",
       "    <tr>\n",
       "      <th>901</th>\n",
       "      <td>몇/Modifier 시/Modifier 애/Noun 방송/Noun 켰음/Verb ?...</td>\n",
       "      <td>0.910999</td>\n",
       "      <td>0</td>\n",
       "    </tr>\n",
       "    <tr>\n",
       "      <th>961</th>\n",
       "      <td>브베/Noun 피융/Noun 신/Modifier 새끼/Noun &lt;PAD&gt; &lt;PAD&gt;...</td>\n",
       "      <td>0.992230</td>\n",
       "      <td>0</td>\n",
       "    </tr>\n",
       "    <tr>\n",
       "      <th>990</th>\n",
       "      <td>하/Exclamation 비스트/Noun 광고/Noun 하냐/Verb &lt;PAD&gt; &lt;...</td>\n",
       "      <td>0.999354</td>\n",
       "      <td>0</td>\n",
       "    </tr>\n",
       "    <tr>\n",
       "      <th>1034</th>\n",
       "      <td>브베/Noun 형/Suffix 뮤직비디오/Noun 언제/Noun 만들어요/Verb ...</td>\n",
       "      <td>0.999739</td>\n",
       "      <td>0</td>\n",
       "    </tr>\n",
       "    <tr>\n",
       "      <th>1053</th>\n",
       "      <td>??/Punctuation 번/Noun 제/Modifier 능/Noun 동물/Nou...</td>\n",
       "      <td>0.882508</td>\n",
       "      <td>0</td>\n",
       "    </tr>\n",
       "    <tr>\n",
       "      <th>1092</th>\n",
       "      <td>오늘/Noun 도/Josa 30분/Number 지각/Noun 했샤/Noun 벌받으샤...</td>\n",
       "      <td>0.999809</td>\n",
       "      <td>0</td>\n",
       "    </tr>\n",
       "    <tr>\n",
       "      <th>1108</th>\n",
       "      <td>언/Modifier 팔로우/Noun ㄱ/KoreanParticle &lt;PAD&gt; &lt;PA...</td>\n",
       "      <td>0.999966</td>\n",
       "      <td>0</td>\n",
       "    </tr>\n",
       "    <tr>\n",
       "      <th>1127</th>\n",
       "      <td>ㄵ/KoreanParticle &lt;PAD&gt; &lt;PAD&gt; &lt;PAD&gt; &lt;PAD&gt; &lt;PAD&gt;...</td>\n",
       "      <td>0.944599</td>\n",
       "      <td>0</td>\n",
       "    </tr>\n",
       "    <tr>\n",
       "      <th>1135</th>\n",
       "      <td>게임/Noun 하면/Verb 서하면/Noun 안될까/Adjective 브베/Noun...</td>\n",
       "      <td>0.999860</td>\n",
       "      <td>0</td>\n",
       "    </tr>\n",
       "    <tr>\n",
       "      <th>1145</th>\n",
       "      <td>가슴/Noun 캠/Noun ?/Punctuation &lt;PAD&gt; &lt;PAD&gt; &lt;PAD&gt;...</td>\n",
       "      <td>0.435453</td>\n",
       "      <td>1</td>\n",
       "    </tr>\n",
       "    <tr>\n",
       "      <th>1185</th>\n",
       "      <td>메이플/Noun 이랑/Josa 카트/Noun 할/Verb 때/Noun 는/Josa ...</td>\n",
       "      <td>0.992014</td>\n",
       "      <td>0</td>\n",
       "    </tr>\n",
       "    <tr>\n",
       "      <th>1243</th>\n",
       "      <td>뇌성마비/Noun &lt;PAD&gt; &lt;PAD&gt; &lt;PAD&gt; &lt;PAD&gt; &lt;PAD&gt; &lt;PAD&gt; ...</td>\n",
       "      <td>0.944844</td>\n",
       "      <td>0</td>\n",
       "    </tr>\n",
       "    <tr>\n",
       "      <th>1254</th>\n",
       "      <td>도내/Noun 가/Josa 질못/Verb 햇/Noun 네/Josa &lt;PAD&gt; &lt;PA...</td>\n",
       "      <td>0.910631</td>\n",
       "      <td>0</td>\n",
       "    </tr>\n",
       "    <tr>\n",
       "      <th>1351</th>\n",
       "      <td>야/Exclamation 덩/Noun 따라하네/Verb &lt;PAD&gt; &lt;PAD&gt; &lt;PA...</td>\n",
       "      <td>0.997868</td>\n",
       "      <td>0</td>\n",
       "    </tr>\n",
       "    <tr>\n",
       "      <th>1370</th>\n",
       "      <td>아프리카/Noun 키/Noun 자고/Noun 나/Noun 풍/Adverb 500/N...</td>\n",
       "      <td>0.810667</td>\n",
       "      <td>0</td>\n",
       "    </tr>\n",
       "    <tr>\n",
       "      <th>1381</th>\n",
       "      <td>도/Noun 네/Noun 벌써/Noun 터지네/Verb &lt;PAD&gt; &lt;PAD&gt; &lt;PA...</td>\n",
       "      <td>0.993925</td>\n",
       "      <td>0</td>\n",
       "    </tr>\n",
       "    <tr>\n",
       "      <th>1436</th>\n",
       "      <td>짱/Modifier 궐/Noun 라이/Noun 같은/Adjective 소리내지마/V...</td>\n",
       "      <td>0.999972</td>\n",
       "      <td>0</td>\n",
       "    </tr>\n",
       "    <tr>\n",
       "      <th>1450</th>\n",
       "      <td>뭐라도/Verb 말/Noun 해봐/Verb &lt;PAD&gt; &lt;PAD&gt; &lt;PAD&gt; &lt;PAD...</td>\n",
       "      <td>0.883837</td>\n",
       "      <td>0</td>\n",
       "    </tr>\n",
       "    <tr>\n",
       "      <th>1466</th>\n",
       "      <td>진짜/Noun 톰크루즈/Noun 인지/Noun 아/Josa 나/Noun ㅄ/Kore...</td>\n",
       "      <td>0.995781</td>\n",
       "      <td>0</td>\n",
       "    </tr>\n",
       "    <tr>\n",
       "      <th>1482</th>\n",
       "      <td>기분/Noun 딱/Modifier 조/Modifier 타/Noun &lt;PAD&gt; &lt;PA...</td>\n",
       "      <td>0.999451</td>\n",
       "      <td>0</td>\n",
       "    </tr>\n",
       "    <tr>\n",
       "      <th>1484</th>\n",
       "      <td>뭐/Noun 야/Josa 설마/Noun 창/Noun 우/Adverb 빚/Noun 갚...</td>\n",
       "      <td>0.971309</td>\n",
       "      <td>0</td>\n",
       "    </tr>\n",
       "  </tbody>\n",
       "</table>\n",
       "</div>"
      ],
      "text/plain": [
       "                                                      0   predict  label\n",
       "117   야/Exclamation 브베/Noun 야/Josa <PAD> <PAD> <PAD>...  0.999796      0\n",
       "124   ㄴ/KoreanParticle ㅈ/KoreanParticle <PAD> <PAD> ...  0.999806      0\n",
       "259   그다음/Noun 에/Josa 브베/Noun 마냥/Noun 엄마/Noun 두드려/Ve...  0.986793      0\n",
       "275   지/Verb <PAD> <PAD> <PAD> <PAD> <PAD> <PAD> <PA...  0.760932      0\n",
       "314   가슴/Noun 캠/Noun ?/Punctuation <PAD> <PAD> <PAD>...  0.435453      1\n",
       "327   브베/Noun 양/Suffix ~/Punctuation 스타/Noun 하장/Noun...  0.977673      0\n",
       "436   진짜/Noun 500/Number 개/Noun 충전/Noun 해놨으니까/Verb 오...  0.998547      0\n",
       "475   빨리/Adverb 하라/Noun 고/Josa <PAD> <PAD> <PAD> <PA...  0.984778      0\n",
       "476   아/Noun 나/Josa <PAD> <PAD> <PAD> <PAD> <PAD> <P...  0.545884      0\n",
       "519   본인/Noun 의/Josa 인생/Noun 처럼/Josa ?/Punctuation <...  0.557419      0\n",
       "550   미팅/Noun 넘/Verb <PAD> <PAD> <PAD> <PAD> <PAD> <...  0.680606      0\n",
       "584   일이/Modifier 무엇/Noun 인지/Josa 구체/Noun 적/Suffix 으...  0.775491      0\n",
       "596   뮤비/Noun 할/Verb 수/Noun 있어/Adjective 넌/Noun 너/No...  0.856932      0\n",
       "600   아웃/Noun 라/Josa 으/Adverb 트/Noun ㄱ/KoreanParticl...  0.809423      0\n",
       "654   오빠/Noun 다정/Noun 이/Josa 왓/Noun 다/Adverb 근/Modif...  0.947835      0\n",
       "752   신음/Noun 내지마/Verb <PAD> <PAD> <PAD> <PAD> <PAD>...  0.999990      0\n",
       "754   30분/Number 은/Foreign 바줄/Noun 께/Josa 1시간/Number...  0.910330      0\n",
       "758   댕/Noun 장/Suffix 꿍/Noun 먹자/Verb 창슥/Noun 아/Josa ...  0.999939      0\n",
       "847   브라보/Noun 일베/Noun 라서/Josa <PAD> <PAD> <PAD> <PA...  0.996995      0\n",
       "865   시작/Noun 부터/Josa 광고/Noun 냐/Josa <PAD> <PAD> <PA...  0.999751      0\n",
       "901   몇/Modifier 시/Modifier 애/Noun 방송/Noun 켰음/Verb ?...  0.910999      0\n",
       "961   브베/Noun 피융/Noun 신/Modifier 새끼/Noun <PAD> <PAD>...  0.992230      0\n",
       "990   하/Exclamation 비스트/Noun 광고/Noun 하냐/Verb <PAD> <...  0.999354      0\n",
       "1034  브베/Noun 형/Suffix 뮤직비디오/Noun 언제/Noun 만들어요/Verb ...  0.999739      0\n",
       "1053  ??/Punctuation 번/Noun 제/Modifier 능/Noun 동물/Nou...  0.882508      0\n",
       "1092  오늘/Noun 도/Josa 30분/Number 지각/Noun 했샤/Noun 벌받으샤...  0.999809      0\n",
       "1108  언/Modifier 팔로우/Noun ㄱ/KoreanParticle <PAD> <PA...  0.999966      0\n",
       "1127  ㄵ/KoreanParticle <PAD> <PAD> <PAD> <PAD> <PAD>...  0.944599      0\n",
       "1135  게임/Noun 하면/Verb 서하면/Noun 안될까/Adjective 브베/Noun...  0.999860      0\n",
       "1145  가슴/Noun 캠/Noun ?/Punctuation <PAD> <PAD> <PAD>...  0.435453      1\n",
       "1185  메이플/Noun 이랑/Josa 카트/Noun 할/Verb 때/Noun 는/Josa ...  0.992014      0\n",
       "1243  뇌성마비/Noun <PAD> <PAD> <PAD> <PAD> <PAD> <PAD> ...  0.944844      0\n",
       "1254  도내/Noun 가/Josa 질못/Verb 햇/Noun 네/Josa <PAD> <PA...  0.910631      0\n",
       "1351  야/Exclamation 덩/Noun 따라하네/Verb <PAD> <PAD> <PA...  0.997868      0\n",
       "1370  아프리카/Noun 키/Noun 자고/Noun 나/Noun 풍/Adverb 500/N...  0.810667      0\n",
       "1381  도/Noun 네/Noun 벌써/Noun 터지네/Verb <PAD> <PAD> <PA...  0.993925      0\n",
       "1436  짱/Modifier 궐/Noun 라이/Noun 같은/Adjective 소리내지마/V...  0.999972      0\n",
       "1450  뭐라도/Verb 말/Noun 해봐/Verb <PAD> <PAD> <PAD> <PAD...  0.883837      0\n",
       "1466  진짜/Noun 톰크루즈/Noun 인지/Noun 아/Josa 나/Noun ㅄ/Kore...  0.995781      0\n",
       "1482  기분/Noun 딱/Modifier 조/Modifier 타/Noun <PAD> <PA...  0.999451      0\n",
       "1484  뭐/Noun 야/Josa 설마/Noun 창/Noun 우/Adverb 빚/Noun 갚...  0.971309      0"
      ]
     },
     "execution_count": 62,
     "metadata": {},
     "output_type": "execute_result"
    }
   ],
   "source": [
    "## 잘못 예측한 경우\n",
    "result['label'] = up_y_test\n",
    "result[model.predict_classes(up_X_test) != up_y_test]"
   ]
  },
  {
   "cell_type": "markdown",
   "metadata": {},
   "source": [
    "## DownSampling"
   ]
  },
  {
   "cell_type": "code",
   "execution_count": 63,
   "metadata": {
    "ExecuteTime": {
     "end_time": "2019-08-07T01:41:21.736023Z",
     "start_time": "2019-08-07T01:41:21.723040Z"
    }
   },
   "outputs": [],
   "source": [
    "down_X, down_y = RandomUnderSampler().fit_resample(x_padded, datasets.label)\n",
    "down_X_train, down_X_test, down_y_train, down_y_test = train_test_split(down_X, down_y)"
   ]
  },
  {
   "cell_type": "code",
   "execution_count": 64,
   "metadata": {
    "ExecuteTime": {
     "end_time": "2019-08-07T01:41:21.900929Z",
     "start_time": "2019-08-07T01:41:21.891934Z"
    }
   },
   "outputs": [
    {
     "data": {
      "text/plain": [
       "(974, 487)"
      ]
     },
     "execution_count": 64,
     "metadata": {},
     "output_type": "execute_result"
    }
   ],
   "source": [
    "# 총 데이터 수 , 1 레이블 데이터 수\n",
    "len(down_y), down_y.sum()"
   ]
  },
  {
   "cell_type": "code",
   "execution_count": 65,
   "metadata": {
    "ExecuteTime": {
     "end_time": "2019-08-07T01:41:31.037679Z",
     "start_time": "2019-08-07T01:41:22.085821Z"
    }
   },
   "outputs": [
    {
     "name": "stderr",
     "output_type": "stream",
     "text": [
      "C:\\Users\\skarn\\Anaconda3\\envs\\DataAnalysis\\lib\\site-packages\\numpy\\lib\\type_check.py:546: DeprecationWarning: np.asscalar(a) is deprecated since NumPy v1.16, use a.item() instead\n",
      "  'a.item() instead', DeprecationWarning, stacklevel=1)\n"
     ]
    },
    {
     "name": "stdout",
     "output_type": "stream",
     "text": [
      "Train on 730 samples, validate on 244 samples\n",
      "Epoch 1/5\n",
      "730/730 [==============================] - ETA: 42s - loss: 0.0032 - acc: 1.00 - ETA: 4s - loss: 0.0195 - acc: 0.9955 - ETA: 2s - loss: 0.0520 - acc: 0.990 - ETA: 0s - loss: 0.0431 - acc: 0.988 - 3s 3ms/sample - loss: 0.0354 - acc: 0.9897 - val_loss: 0.0255 - val_acc: 0.9918\n",
      "Epoch 2/5\n",
      "730/730 [==============================] - ETA: 0s - loss: 2.2340e-04 - acc: 1.000 - ETA: 0s - loss: 0.0112 - acc: 0.9955    - ETA: 0s - loss: 0.0157 - acc: 0.991 - ETA: 0s - loss: 0.0260 - acc: 0.992 - 0s 327us/sample - loss: 0.0252 - acc: 0.9925 - val_loss: 0.0239 - val_acc: 0.9918\n",
      "Epoch 3/5\n",
      "730/730 [==============================] - ETA: 0s - loss: 0.0021 - acc: 1.000 - ETA: 0s - loss: 0.0160 - acc: 0.995 - ETA: 0s - loss: 0.0218 - acc: 0.994 - ETA: 0s - loss: 0.0191 - acc: 0.994 - ETA: 0s - loss: 0.0159 - acc: 0.995 - 0s 381us/sample - loss: 0.0192 - acc: 0.9945 - val_loss: 0.0247 - val_acc: 0.9877\n",
      "Epoch 4/5\n",
      "730/730 [==============================] - ETA: 0s - loss: 0.0083 - acc: 1.000 - ETA: 0s - loss: 0.0031 - acc: 1.000 - ETA: 0s - loss: 0.0082 - acc: 0.997 - ETA: 0s - loss: 0.0066 - acc: 0.998 - ETA: 0s - loss: 0.0109 - acc: 0.995 - 0s 371us/sample - loss: 0.0106 - acc: 0.9959 - val_loss: 0.0359 - val_acc: 0.9795\n",
      "Epoch 5/5\n",
      "730/730 [==============================] - ETA: 0s - loss: 7.8317e-04 - acc: 1.000 - ETA: 0s - loss: 0.0055 - acc: 1.0000    - ETA: 0s - loss: 0.0157 - acc: 0.997 - ETA: 0s - loss: 0.0137 - acc: 0.997 - ETA: 0s - loss: 0.0180 - acc: 0.992 - 0s 430us/sample - loss: 0.0188 - acc: 0.9925 - val_loss: 0.0262 - val_acc: 0.9898\n",
      "244/244 [==============================] - ETA: 0s - loss: 0.0028 - acc: 1.000 - 0s 119us/sample - loss: 0.0262 - acc: 0.9898\n",
      "Test accuracy: 0.9897541\n"
     ]
    },
    {
     "data": {
      "image/png": "[encoded data removed]",
      "text/plain": [
       "<Figure size 432x360 with 1 Axes>"
      ]
     },
     "metadata": {
      "needs_background": "light"
     },
     "output_type": "display_data"
    }
   ],
   "source": [
    "model.compile(optimizer='adam', \n",
    "              loss='binary_crossentropy',\n",
    "              metrics=['accuracy'])\n",
    "\n",
    "history = model.fit(down_X_train,\n",
    "          pd.get_dummies(down_y_train),\n",
    "          epochs=5,\n",
    "          validation_data=(down_X_test, pd.get_dummies(down_y_test))\n",
    "         )\n",
    "plot_loss(history)\n",
    "test_loss, test_acc = model.evaluate(down_X_test, pd.get_dummies(down_y_test))\n",
    "print('Test accuracy:', test_acc)"
   ]
  },
  {
   "cell_type": "code",
   "execution_count": 66,
   "metadata": {
    "ExecuteTime": {
     "end_time": "2019-08-07T01:41:31.627342Z",
     "start_time": "2019-08-07T01:41:31.049673Z"
    }
   },
   "outputs": [
    {
     "name": "stdout",
     "output_type": "stream",
     "text": [
      "전체채팅수244, 유해채팅수121\n"
     ]
    },
    {
     "data": {
      "text/html": [
       "<div>\n",
       "<style scoped>\n",
       "    .dataframe tbody tr th:only-of-type {\n",
       "        vertical-align: middle;\n",
       "    }\n",
       "\n",
       "    .dataframe tbody tr th {\n",
       "        vertical-align: top;\n",
       "    }\n",
       "\n",
       "    .dataframe thead th {\n",
       "        text-align: right;\n",
       "    }\n",
       "</style>\n",
       "<table border=\"1\" class=\"dataframe\">\n",
       "  <thead>\n",
       "    <tr style=\"text-align: right;\">\n",
       "      <th></th>\n",
       "      <th>chat</th>\n",
       "      <th>predict</th>\n",
       "    </tr>\n",
       "  </thead>\n",
       "  <tbody>\n",
       "    <tr>\n",
       "      <th>0</th>\n",
       "      <td>똥/Noun 싸고있네/Verb &lt;PAD&gt; &lt;PAD&gt; &lt;PAD&gt; &lt;PAD&gt; &lt;PAD&gt;...</td>\n",
       "      <td>0.999907</td>\n",
       "    </tr>\n",
       "    <tr>\n",
       "      <th>2</th>\n",
       "      <td>어디/Noun 건방지게/Adjective 팔/Noun 걸/Noun 치고/Josa 다...</td>\n",
       "      <td>0.999999</td>\n",
       "    </tr>\n",
       "    <tr>\n",
       "      <th>6</th>\n",
       "      <td>오빠/Noun 자세/Noun 가/Josa 왜/Noun 이렇게/Adverb 건방지/A...</td>\n",
       "      <td>0.999853</td>\n",
       "    </tr>\n",
       "    <tr>\n",
       "      <th>7</th>\n",
       "      <td>미띵/Noun &lt;PAD&gt; &lt;PAD&gt; &lt;PAD&gt; &lt;PAD&gt; &lt;PAD&gt; &lt;PAD&gt; &lt;P...</td>\n",
       "      <td>0.922935</td>\n",
       "    </tr>\n",
       "    <tr>\n",
       "      <th>9</th>\n",
       "      <td>아핡/Noun &lt;PAD&gt; &lt;PAD&gt; &lt;PAD&gt; &lt;PAD&gt; &lt;PAD&gt; &lt;PAD&gt; &lt;P...</td>\n",
       "      <td>0.997039</td>\n",
       "    </tr>\n",
       "    <tr>\n",
       "      <th>11</th>\n",
       "      <td>이/Determiner 새/Modifier 기/Noun 리액션/Noun 한결같네/A...</td>\n",
       "      <td>0.999999</td>\n",
       "    </tr>\n",
       "    <tr>\n",
       "      <th>13</th>\n",
       "      <td>브베/Noun 야/Josa 언제/Noun 자살/Noun 할래/Verb &lt;PAD&gt; &lt;...</td>\n",
       "      <td>0.999937</td>\n",
       "    </tr>\n",
       "    <tr>\n",
       "      <th>16</th>\n",
       "      <td>시발/Noun 년/Noun 이/Josa &lt;PAD&gt; &lt;PAD&gt; &lt;PAD&gt; &lt;PAD&gt; ...</td>\n",
       "      <td>1.000000</td>\n",
       "    </tr>\n",
       "    <tr>\n",
       "      <th>20</th>\n",
       "      <td>브베/Noun 형/Suffix 하루/Noun 에/Josa 딸/Noun 몇번/Noun...</td>\n",
       "      <td>0.999997</td>\n",
       "    </tr>\n",
       "    <tr>\n",
       "      <th>22</th>\n",
       "      <td>이상한/Adjective 노래/Noun 좀/Noun 꺼주세요/Verb 씌발/Noun...</td>\n",
       "      <td>0.999999</td>\n",
       "    </tr>\n",
       "  </tbody>\n",
       "</table>\n",
       "</div>"
      ],
      "text/plain": [
       "                                                 chat   predict\n",
       "0   똥/Noun 싸고있네/Verb <PAD> <PAD> <PAD> <PAD> <PAD>...  0.999907\n",
       "2   어디/Noun 건방지게/Adjective 팔/Noun 걸/Noun 치고/Josa 다...  0.999999\n",
       "6   오빠/Noun 자세/Noun 가/Josa 왜/Noun 이렇게/Adverb 건방지/A...  0.999853\n",
       "7   미띵/Noun <PAD> <PAD> <PAD> <PAD> <PAD> <PAD> <P...  0.922935\n",
       "9   아핡/Noun <PAD> <PAD> <PAD> <PAD> <PAD> <PAD> <P...  0.997039\n",
       "11  이/Determiner 새/Modifier 기/Noun 리액션/Noun 한결같네/A...  0.999999\n",
       "13  브베/Noun 야/Josa 언제/Noun 자살/Noun 할래/Verb <PAD> <...  0.999937\n",
       "16  시발/Noun 년/Noun 이/Josa <PAD> <PAD> <PAD> <PAD> ...  1.000000\n",
       "20  브베/Noun 형/Suffix 하루/Noun 에/Josa 딸/Noun 몇번/Noun...  0.999997\n",
       "22  이상한/Adjective 노래/Noun 좀/Noun 꺼주세요/Verb 씌발/Noun...  0.999999"
      ]
     },
     "execution_count": 66,
     "metadata": {},
     "output_type": "execute_result"
    }
   ],
   "source": [
    "result = pd.DataFrame(np.apply_along_axis(index_to_text, 1, down_X_test), columns=['chat'])\n",
    "result['predict'] = model.predict_proba(down_X_test)[:,1] # 유해하다고 판별할 확률\n",
    "print('전체채팅수{}, 유해채팅수{}'.format(len(result),len(result[result.predict>0.5])))\n",
    "result[result.predict>0.5].head(10)"
   ]
  },
  {
   "cell_type": "markdown",
   "metadata": {},
   "source": [
    "- 우리는 다양한 비속어 표현에 집중하고 싶고 \n",
    "- 또한 정확도가 더 높은 downsampling을 사용하자!"
   ]
  },
  {
   "cell_type": "code",
   "execution_count": 67,
   "metadata": {
    "ExecuteTime": {
     "end_time": "2019-08-07T01:41:31.660325Z",
     "start_time": "2019-08-07T01:41:31.633338Z"
    }
   },
   "outputs": [],
   "source": [
    "result.to_csv('../../data/cnn_result.csv', encoding='euc-kr')"
   ]
  },
  {
   "cell_type": "markdown",
   "metadata": {},
   "source": [
    "## 분류 애매한 채팅들"
   ]
  },
  {
   "cell_type": "code",
   "execution_count": 68,
   "metadata": {
    "ExecuteTime": {
     "end_time": "2019-08-07T01:41:31.687307Z",
     "start_time": "2019-08-07T01:41:31.665322Z"
    }
   },
   "outputs": [
    {
     "data": {
      "text/html": [
       "<div>\n",
       "<style scoped>\n",
       "    .dataframe tbody tr th:only-of-type {\n",
       "        vertical-align: middle;\n",
       "    }\n",
       "\n",
       "    .dataframe tbody tr th {\n",
       "        vertical-align: top;\n",
       "    }\n",
       "\n",
       "    .dataframe thead th {\n",
       "        text-align: right;\n",
       "    }\n",
       "</style>\n",
       "<table border=\"1\" class=\"dataframe\">\n",
       "  <thead>\n",
       "    <tr style=\"text-align: right;\">\n",
       "      <th></th>\n",
       "      <th>chat</th>\n",
       "      <th>predict</th>\n",
       "    </tr>\n",
       "  </thead>\n",
       "  <tbody>\n",
       "    <tr>\n",
       "      <th>85</th>\n",
       "      <td>ㄵ/KoreanParticle &lt;PAD&gt; &lt;PAD&gt; &lt;PAD&gt; &lt;PAD&gt; &lt;PAD&gt;...</td>\n",
       "      <td>0.500756</td>\n",
       "    </tr>\n",
       "    <tr>\n",
       "      <th>121</th>\n",
       "      <td>Squid/Alpha 1/Number &lt;PAD&gt; &lt;PAD&gt; &lt;PAD&gt; &lt;PAD&gt; &lt;...</td>\n",
       "      <td>0.549082</td>\n",
       "    </tr>\n",
       "    <tr>\n",
       "      <th>167</th>\n",
       "      <td>객기/Noun 야/Josa !/Punctuation &lt;PAD&gt; &lt;PAD&gt; &lt;PAD&gt;...</td>\n",
       "      <td>0.802125</td>\n",
       "    </tr>\n",
       "    <tr>\n",
       "      <th>173</th>\n",
       "      <td>브베/Noun 야/Josa 방송/Noun 접자/Verb &lt;PAD&gt; &lt;PAD&gt; &lt;PA...</td>\n",
       "      <td>0.499962</td>\n",
       "    </tr>\n",
       "    <tr>\n",
       "      <th>188</th>\n",
       "      <td>가슴/Noun 캠/Noun ?/Punctuation &lt;PAD&gt; &lt;PAD&gt; &lt;PAD&gt;...</td>\n",
       "      <td>0.325469</td>\n",
       "    </tr>\n",
       "    <tr>\n",
       "      <th>225</th>\n",
       "      <td>He/Alpha LOVE/Alpha pillow/Alpha He/Alpha LOVE...</td>\n",
       "      <td>0.853604</td>\n",
       "    </tr>\n",
       "  </tbody>\n",
       "</table>\n",
       "</div>"
      ],
      "text/plain": [
       "                                                  chat   predict\n",
       "85   ㄵ/KoreanParticle <PAD> <PAD> <PAD> <PAD> <PAD>...  0.500756\n",
       "121  Squid/Alpha 1/Number <PAD> <PAD> <PAD> <PAD> <...  0.549082\n",
       "167  객기/Noun 야/Josa !/Punctuation <PAD> <PAD> <PAD>...  0.802125\n",
       "173  브베/Noun 야/Josa 방송/Noun 접자/Verb <PAD> <PAD> <PA...  0.499962\n",
       "188  가슴/Noun 캠/Noun ?/Punctuation <PAD> <PAD> <PAD>...  0.325469\n",
       "225  He/Alpha LOVE/Alpha pillow/Alpha He/Alpha LOVE...  0.853604"
      ]
     },
     "execution_count": 68,
     "metadata": {},
     "output_type": "execute_result"
    }
   ],
   "source": [
    "result[(result.predict>0.1) & (result.predict<0.9)]"
   ]
  },
  {
   "cell_type": "markdown",
   "metadata": {},
   "source": [
    "### 예측 실패한 채팅들"
   ]
  },
  {
   "cell_type": "code",
   "execution_count": 69,
   "metadata": {
    "ExecuteTime": {
     "end_time": "2019-08-07T01:41:31.748271Z",
     "start_time": "2019-08-07T01:41:31.691304Z"
    }
   },
   "outputs": [
    {
     "data": {
      "text/html": [
       "<div>\n",
       "<style scoped>\n",
       "    .dataframe tbody tr th:only-of-type {\n",
       "        vertical-align: middle;\n",
       "    }\n",
       "\n",
       "    .dataframe tbody tr th {\n",
       "        vertical-align: top;\n",
       "    }\n",
       "\n",
       "    .dataframe thead th {\n",
       "        text-align: right;\n",
       "    }\n",
       "</style>\n",
       "<table border=\"1\" class=\"dataframe\">\n",
       "  <thead>\n",
       "    <tr style=\"text-align: right;\">\n",
       "      <th></th>\n",
       "      <th>chat</th>\n",
       "      <th>predict</th>\n",
       "      <th>label</th>\n",
       "    </tr>\n",
       "  </thead>\n",
       "  <tbody>\n",
       "    <tr>\n",
       "      <th>33</th>\n",
       "      <td>메이플/Noun 이랑/Josa 카트/Noun 할/Verb 때/Noun 는/Josa ...</td>\n",
       "      <td>0.919183</td>\n",
       "      <td>0</td>\n",
       "    </tr>\n",
       "    <tr>\n",
       "      <th>188</th>\n",
       "      <td>가슴/Noun 캠/Noun ?/Punctuation &lt;PAD&gt; &lt;PAD&gt; &lt;PAD&gt;...</td>\n",
       "      <td>0.325469</td>\n",
       "      <td>1</td>\n",
       "    </tr>\n",
       "  </tbody>\n",
       "</table>\n",
       "</div>"
      ],
      "text/plain": [
       "                                                  chat   predict  label\n",
       "33   메이플/Noun 이랑/Josa 카트/Noun 할/Verb 때/Noun 는/Josa ...  0.919183      0\n",
       "188  가슴/Noun 캠/Noun ?/Punctuation <PAD> <PAD> <PAD>...  0.325469      1"
      ]
     },
     "execution_count": 69,
     "metadata": {},
     "output_type": "execute_result"
    }
   ],
   "source": [
    "result['label'] = down_y_test\n",
    "result[model.predict_classes(down_X_test) != down_y_test]"
   ]
  },
  {
   "cell_type": "markdown",
   "metadata": {},
   "source": [
    "# 시11111발 의 경우"
   ]
  },
  {
   "cell_type": "code",
   "execution_count": 106,
   "metadata": {
    "ExecuteTime": {
     "end_time": "2019-08-07T01:52:57.264509Z",
     "start_time": "2019-08-07T01:52:57.241522Z"
    }
   },
   "outputs": [
    {
     "name": "stdout",
     "output_type": "stream",
     "text": [
      "['시/Noun', '1111/Number', '발/Noun']\n"
     ]
    }
   ],
   "source": [
    "test_chat = \"시1111발\"\n",
    "test_id = text_to_index(morp.pos(test_chat, norm=True, join=True))\n",
    "print(morp.pos(test_chat, norm=True, join=True))\n",
    "sentence_size = 20\n",
    "x_padded = sequence.pad_sequences([test_id],\n",
    "                                 maxlen=sentence_size,\n",
    "                                 truncating='post',\n",
    "                                 padding='post',\n",
    "                                 value=pad_id)"
   ]
  },
  {
   "cell_type": "code",
   "execution_count": 115,
   "metadata": {
    "ExecuteTime": {
     "end_time": "2019-08-07T01:54:44.160107Z",
     "start_time": "2019-08-07T01:54:44.142118Z"
    }
   },
   "outputs": [
    {
     "data": {
      "text/plain": [
       "array([[0.36088392, 0.6328617 ]], dtype=float32)"
      ]
     },
     "execution_count": 115,
     "metadata": {},
     "output_type": "execute_result"
    }
   ],
   "source": [
    "model.predict(x_padded)"
   ]
  },
  {
   "cell_type": "markdown",
   "metadata": {},
   "source": [
    "# TODO\n",
    "- 형태소별 Tokenize 말고 한글 자모별 Tokenize 하여 실험해보기\n",
    "- CNN layer / Parameter 변경시켜보기\n",
    "- 예측 결과 검정하기\n",
    "    - Attention 이용"
   ]
  }
 ],
 "metadata": {
  "kernelspec": {
   "display_name": "Python 3",
   "language": "python",
   "name": "python3"
  },
  "language_info": {
   "codemirror_mode": {
    "name": "ipython",
    "version": 3
   },
   "file_extension": ".py",
   "mimetype": "text/x-python",
   "name": "python",
   "nbconvert_exporter": "python",
   "pygments_lexer": "ipython3",
   "version": "3.7.3"
  }
 },
 "nbformat": 4,
 "nbformat_minor": 2
}
