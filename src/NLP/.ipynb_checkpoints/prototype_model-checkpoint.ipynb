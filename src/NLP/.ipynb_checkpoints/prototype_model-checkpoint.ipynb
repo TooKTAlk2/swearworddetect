{
 "cells": [
  {
   "cell_type": "code",
   "execution_count": 1,
   "metadata": {
    "ExecuteTime": {
     "end_time": "2019-08-06T18:32:26.879060Z",
     "start_time": "2019-08-06T18:32:15.732455Z"
    }
   },
   "outputs": [
    {
     "name": "stdout",
     "output_type": "stream",
     "text": [
      "Chan 2019-08-07 \n",
      "\n",
      "CPython 3.7.3\n",
      "IPython 7.6.1\n",
      "\n",
      "numpy 1.16.4\n",
      "pandas 0.24.2\n",
      "sklearn 0.21.2\n",
      "konlpy 0.5.1\n",
      "tensorflow 1.13.1\n",
      "matplotlib 3.1.0\n",
      "imblearn 0.5.0\n"
     ]
    }
   ],
   "source": [
    "%load_ext watermark\n",
    "%watermark -a Chan -d -v -p numpy,pandas,sklearn,konlpy,tensorflow,matplotlib,imblearn"
   ]
  },
  {
   "cell_type": "code",
   "execution_count": 2,
   "metadata": {
    "ExecuteTime": {
     "end_time": "2019-08-06T18:32:27.616639Z",
     "start_time": "2019-08-06T18:32:26.885057Z"
    }
   },
   "outputs": [],
   "source": [
    "import numpy as np\n",
    "import pandas as pd\n",
    "from sklearn.model_selection import train_test_split\n",
    "from konlpy.tag import Okt\n",
    "import tensorflow as tf\n",
    "from tensorflow.python.keras.preprocessing import sequence\n",
    "from tensorflow import keras\n",
    "from tqdm import tqdm\n",
    "from collections import Counter\n",
    "from matplotlib import pyplot as plt"
   ]
  },
  {
   "cell_type": "markdown",
   "metadata": {},
   "source": [
    "# Load datasets"
   ]
  },
  {
   "cell_type": "code",
   "execution_count": 3,
   "metadata": {
    "ExecuteTime": {
     "end_time": "2019-08-06T18:32:27.761556Z",
     "start_time": "2019-08-06T18:32:27.621636Z"
    }
   },
   "outputs": [
    {
     "name": "stdout",
     "output_type": "stream",
     "text": [
      "1\n",
      "2\n",
      "3\n",
      "4\n"
     ]
    },
    {
     "data": {
      "text/html": [
       "<div>\n",
       "<style scoped>\n",
       "    .dataframe tbody tr th:only-of-type {\n",
       "        vertical-align: middle;\n",
       "    }\n",
       "\n",
       "    .dataframe tbody tr th {\n",
       "        vertical-align: top;\n",
       "    }\n",
       "\n",
       "    .dataframe thead th {\n",
       "        text-align: right;\n",
       "    }\n",
       "</style>\n",
       "<table border=\"1\" class=\"dataframe\">\n",
       "  <thead>\n",
       "    <tr style=\"text-align: right;\">\n",
       "      <th></th>\n",
       "      <th>chat</th>\n",
       "      <th>label</th>\n",
       "    </tr>\n",
       "  </thead>\n",
       "  <tbody>\n",
       "    <tr>\n",
       "      <th>0</th>\n",
       "      <td>자기잘못인거알면 중고딩도 먼저사과하는걸아는데</td>\n",
       "      <td>0</td>\n",
       "    </tr>\n",
       "    <tr>\n",
       "      <th>1</th>\n",
       "      <td>싹둑이 채팅창 관리 중입니다</td>\n",
       "      <td>0</td>\n",
       "    </tr>\n",
       "    <tr>\n",
       "      <th>2</th>\n",
       "      <td>싹둑이 채팅창 관리 중입니다</td>\n",
       "      <td>0</td>\n",
       "    </tr>\n",
       "    <tr>\n",
       "      <th>3</th>\n",
       "      <td>어제 어글 아직도 가? 개인적으로 사과하셨대 그만해 칭구들앙</td>\n",
       "      <td>0</td>\n",
       "    </tr>\n",
       "    <tr>\n",
       "      <th>4</th>\n",
       "      <td>케읍이 뭔데요 무슨사건있엇음?</td>\n",
       "      <td>0</td>\n",
       "    </tr>\n",
       "  </tbody>\n",
       "</table>\n",
       "</div>"
      ],
      "text/plain": [
       "                                 chat  label\n",
       "0            자기잘못인거알면 중고딩도 먼저사과하는걸아는데      0\n",
       "1                     싹둑이 채팅창 관리 중입니다      0\n",
       "2                     싹둑이 채팅창 관리 중입니다      0\n",
       "3  어제 어글 아직도 가? 개인적으로 사과하셨대 그만해 칭구들앙       0\n",
       "4                    케읍이 뭔데요 무슨사건있엇음?      0"
      ]
     },
     "execution_count": 3,
     "metadata": {},
     "output_type": "execute_result"
    }
   ],
   "source": [
    "datasets = pd.DataFrame()\n",
    "for i in range(1,5):\n",
    "    print(i)\n",
    "    dump = pd.read_csv(\"../../data/sample ({}).csv\".format(i), engine='python',names=['chat','label'])\n",
    "    datasets = pd.concat([datasets, dump])\n",
    "datasets.head()"
   ]
  },
  {
   "cell_type": "code",
   "execution_count": 4,
   "metadata": {
    "ExecuteTime": {
     "end_time": "2019-08-06T18:32:27.773547Z",
     "start_time": "2019-08-06T18:32:27.765555Z"
    }
   },
   "outputs": [],
   "source": [
    "datasets.reset_index(drop=True,inplace=True)"
   ]
  },
  {
   "cell_type": "code",
   "execution_count": 5,
   "metadata": {
    "ExecuteTime": {
     "end_time": "2019-08-06T18:32:27.803531Z",
     "start_time": "2019-08-06T18:32:27.778545Z"
    }
   },
   "outputs": [
    {
     "name": "stdout",
     "output_type": "stream",
     "text": [
      "<class 'pandas.core.frame.DataFrame'>\n",
      "RangeIndex: 3500 entries, 0 to 3499\n",
      "Data columns (total 2 columns):\n",
      "chat     3500 non-null object\n",
      "label    3500 non-null int64\n",
      "dtypes: int64(1), object(1)\n",
      "memory usage: 54.8+ KB\n"
     ]
    }
   ],
   "source": [
    "datasets.info()"
   ]
  },
  {
   "cell_type": "code",
   "execution_count": 6,
   "metadata": {
    "ExecuteTime": {
     "end_time": "2019-08-06T18:32:27.824518Z",
     "start_time": "2019-08-06T18:32:27.808527Z"
    }
   },
   "outputs": [],
   "source": [
    "datasets.label = datasets.label.astype('int')"
   ]
  },
  {
   "cell_type": "code",
   "execution_count": 7,
   "metadata": {
    "ExecuteTime": {
     "end_time": "2019-08-06T18:32:27.852504Z",
     "start_time": "2019-08-06T18:32:27.831514Z"
    }
   },
   "outputs": [
    {
     "data": {
      "text/plain": [
       "0.16163292399601725"
      ]
     },
     "execution_count": 7,
     "metadata": {},
     "output_type": "execute_result"
    }
   ],
   "source": [
    "len(datasets[datasets.label ==1])/ len(datasets[datasets.label ==0]) # 유해한 레이블의 데이터가 많이 부족함 데이터 편향ㅠㅠ"
   ]
  },
  {
   "cell_type": "markdown",
   "metadata": {
    "ExecuteTime": {
     "end_time": "2019-08-06T15:38:19.687895Z",
     "start_time": "2019-08-06T15:38:19.677899Z"
    }
   },
   "source": [
    "# Tokenize\n",
    "## 형태소분석"
   ]
  },
  {
   "cell_type": "code",
   "execution_count": 8,
   "metadata": {
    "ExecuteTime": {
     "end_time": "2019-08-06T18:32:28.328228Z",
     "start_time": "2019-08-06T18:32:27.860500Z"
    }
   },
   "outputs": [
    {
     "name": "stderr",
     "output_type": "stream",
     "text": [
      "C:\\Users\\skarn\\Anaconda3\\envs\\DataAnalysis\\lib\\site-packages\\jpype\\_core.py:210: UserWarning: \n",
      "-------------------------------------------------------------------------------\n",
      "Deprecated: convertStrings was not specified when starting the JVM. The default\n",
      "behavior in JPype will be False starting in JPype 0.8. The recommended setting\n",
      "for new code is convertStrings=False.  The legacy value of True was assumed for\n",
      "this session. If you are a user of an application that reported this warning,\n",
      "please file a ticket with the developer.\n",
      "-------------------------------------------------------------------------------\n",
      "\n",
      "  \"\"\")\n"
     ]
    }
   ],
   "source": [
    "morp = Okt()"
   ]
  },
  {
   "cell_type": "code",
   "execution_count": 9,
   "metadata": {
    "ExecuteTime": {
     "end_time": "2019-08-06T18:32:52.428412Z",
     "start_time": "2019-08-06T18:32:28.332227Z"
    }
   },
   "outputs": [
    {
     "name": "stderr",
     "output_type": "stream",
     "text": [
      "100%|█████████████████████████████████████████████████████████████████████████████| 3500/3500 [00:24<00:00, 145.41it/s]\n"
     ]
    }
   ],
   "source": [
    "morped = [morp.pos(_, norm=True, join=True) for _ in tqdm(datasets.chat)] # Stemming은 하지 않는다."
   ]
  },
  {
   "cell_type": "code",
   "execution_count": 10,
   "metadata": {
    "ExecuteTime": {
     "end_time": "2019-08-06T18:32:52.443404Z",
     "start_time": "2019-08-06T18:32:52.432410Z"
    }
   },
   "outputs": [
    {
     "data": {
      "text/plain": [
       "[['자기/Noun',\n",
       "  '잘못/Noun',\n",
       "  '인거/Josa',\n",
       "  '알/Noun',\n",
       "  '면/Josa',\n",
       "  '중/Noun',\n",
       "  '고딩/Noun',\n",
       "  '도/Josa',\n",
       "  '먼저/Noun',\n",
       "  '사과/Noun',\n",
       "  '하/Suffix',\n",
       "  '는/Josa',\n",
       "  '걸아는데/Verb'],\n",
       " ['싹둑/Noun',\n",
       "  '이/Josa',\n",
       "  '채팅/Noun',\n",
       "  '창/Noun',\n",
       "  '관리/Noun',\n",
       "  '중/Noun',\n",
       "  '입니다/Adjective'],\n",
       " ['싹둑/Noun',\n",
       "  '이/Josa',\n",
       "  '채팅/Noun',\n",
       "  '창/Noun',\n",
       "  '관리/Noun',\n",
       "  '중/Noun',\n",
       "  '입니다/Adjective'],\n",
       " ['어제/Noun',\n",
       "  '어글/Noun',\n",
       "  '아직도/Adverb',\n",
       "  '가/Verb',\n",
       "  '?/Punctuation',\n",
       "  '개인/Noun',\n",
       "  '적/Suffix',\n",
       "  '으로/Josa',\n",
       "  '사과/Noun',\n",
       "  '하셨대/Verb',\n",
       "  '그만해/Adjective',\n",
       "  '칭구들앙/Noun'],\n",
       " ['케읍/Noun',\n",
       "  '이/Josa',\n",
       "  '뭔/Modifier',\n",
       "  '데/Noun',\n",
       "  '요/Josa',\n",
       "  '무슨/Modifier',\n",
       "  '사건/Noun',\n",
       "  '있/Adjective',\n",
       "  '엇음/Noun',\n",
       "  '?/Punctuation']]"
      ]
     },
     "execution_count": 10,
     "metadata": {},
     "output_type": "execute_result"
    }
   ],
   "source": [
    "morped[:5]"
   ]
  },
  {
   "cell_type": "markdown",
   "metadata": {},
   "source": [
    "## Dictionary\n",
    "최빈 형태소에 대한 단어사전 구성"
   ]
  },
  {
   "cell_type": "code",
   "execution_count": 11,
   "metadata": {
    "ExecuteTime": {
     "end_time": "2019-08-06T18:32:53.086036Z",
     "start_time": "2019-08-06T18:32:52.448400Z"
    }
   },
   "outputs": [
    {
     "name": "stdout",
     "output_type": "stream",
     "text": [
      "고빈도 단어:\n",
      "형/Suffix :  724\n",
      "이/Josa :  706\n",
      "샤/Noun :  587\n",
      "나왔/Verb :  562\n",
      "브베/Noun :  442\n",
      "창/Noun :  420\n",
      "채팅/Noun :  417\n",
      "중/Noun :  408\n",
      "입니다/Adjective :  408\n",
      "싹둑/Noun :  407\n",
      "\n",
      "단어 사전:\n",
      "0 <PAD>\n",
      "1 <OOV>\n",
      "2 형/Suffix\n",
      "3 이/Josa\n",
      "4 샤/Noun\n",
      "5 나왔/Verb\n",
      "6 브베/Noun\n",
      "7 창/Noun\n",
      "8 채팅/Noun\n",
      "9 중/Noun\n",
      "\n",
      "단어 사전 크기:  3421\n"
     ]
    }
   ],
   "source": [
    "vocab_size = 5000\n",
    "\n",
    "pad_id = 0\n",
    "oov_id = 1\n",
    "index_offset = 1\n",
    "\n",
    "def make_vocab(sentences):\n",
    "    word_counter = Counter()\n",
    "\n",
    "    for sent in sentences:\n",
    "        word_counter.update(sent)\n",
    "\n",
    "    most_common = word_counter.most_common()\n",
    "    print(\"고빈도 단어:\")\n",
    "    for k, v in most_common[:10]:\n",
    "        print(k, \": \", v)\n",
    "\n",
    "        vocab = {\n",
    "        '<PAD>': pad_id,\n",
    "        '<OOV>': oov_id\n",
    "        }\n",
    "    for i, (word, cnt) in enumerate(most_common, start=index_offset+1):\n",
    "        vocab[word] = i\n",
    "        if len(vocab) >= vocab_size:\n",
    "            break\n",
    "\n",
    "    return vocab\n",
    "\n",
    "word_index = make_vocab(morped)\n",
    "word_inverted_index = {v:k for k, v in word_index.items()}\n",
    "\n",
    "print(\"\\n단어 사전:\")\n",
    "for i in range(0, 10):\n",
    "    print(i, word_inverted_index[i])\n",
    "\n",
    "print(\"\\n단어 사전 크기: \", len(word_index))"
   ]
  },
  {
   "cell_type": "code",
   "execution_count": 12,
   "metadata": {
    "ExecuteTime": {
     "end_time": "2019-08-06T18:32:53.126012Z",
     "start_time": "2019-08-06T18:32:53.091033Z"
    }
   },
   "outputs": [
    {
     "name": "stdout",
     "output_type": "stream",
     "text": [
      "원본:  ['자기/Noun', '잘못/Noun', '인거/Josa', '알/Noun', '면/Josa', '중/Noun', '고딩/Noun', '도/Josa', '먼저/Noun', '사과/Noun', '하/Suffix', '는/Josa', '걸아는데/Verb']\n",
      "문자 -> 숫자:  [234, 781, 782, 381, 293, 9, 1292, 58, 1293, 235, 93, 60, 1294]\n",
      "숫자 -> 문자:  자기/Noun 잘못/Noun 인거/Josa 알/Noun 면/Josa 중/Noun 고딩/Noun 도/Josa 먼저/Noun 사과/Noun 하/Suffix 는/Josa 걸아는데/Verb\n"
     ]
    }
   ],
   "source": [
    "def index_to_text(indexes):\n",
    "    return ' '.join([word_inverted_index[i] for i in indexes])\n",
    "\n",
    "def text_to_index(tokens):\n",
    "    indexes = []\n",
    "    for tok in tokens:\n",
    "        if tok in word_index:\n",
    "            indexes.append(word_index[tok])\n",
    "        else:\n",
    "            indexes.append(oov_id)\n",
    "\n",
    "    return indexes\n",
    "\n",
    "print(\"원본: \", morped[0])\n",
    "ids = text_to_index(morped[0])\n",
    "print(\"문자 -> 숫자: \", ids)\n",
    "print(\"숫자 -> 문자: \", index_to_text(ids))"
   ]
  },
  {
   "cell_type": "markdown",
   "metadata": {},
   "source": [
    "# Padding"
   ]
  },
  {
   "cell_type": "code",
   "execution_count": 13,
   "metadata": {
    "ExecuteTime": {
     "end_time": "2019-08-06T18:32:53.261935Z",
     "start_time": "2019-08-06T18:32:53.131010Z"
    }
   },
   "outputs": [],
   "source": [
    "x_variable = [text_to_index(_) for _ in morped]\n",
    "\n",
    "sentence_size = 20\n",
    "x_padded = sequence.pad_sequences(x_variable,\n",
    "                                 maxlen=sentence_size,\n",
    "                                 truncating='post',\n",
    "                                 padding='post',\n",
    "                                 value=pad_id)"
   ]
  },
  {
   "cell_type": "markdown",
   "metadata": {},
   "source": [
    "# Data Split"
   ]
  },
  {
   "cell_type": "code",
   "execution_count": 14,
   "metadata": {
    "ExecuteTime": {
     "end_time": "2019-08-06T18:32:53.334894Z",
     "start_time": "2019-08-06T18:32:53.271930Z"
    }
   },
   "outputs": [
    {
     "name": "stdout",
     "output_type": "stream",
     "text": [
      "train_inputs shape:  (2625, 20)\n",
      "test_inputs shape:  (875, 20)\n",
      "train_labels shape:  (2625,)\n",
      "test_labels shape:  (875,)\n"
     ]
    }
   ],
   "source": [
    "X_train, X_test, y_train, y_test = train_test_split(x_padded, datasets.label)\n",
    "\n",
    "print(\"train_inputs shape: \", X_train.shape)\n",
    "print(\"test_inputs shape: \", X_test.shape)\n",
    "print(\"train_labels shape: \", y_train.shape)\n",
    "print(\"test_labels shape: \", y_test.shape)"
   ]
  },
  {
   "cell_type": "markdown",
   "metadata": {},
   "source": [
    "# Model"
   ]
  },
  {
   "cell_type": "code",
   "execution_count": 15,
   "metadata": {
    "ExecuteTime": {
     "end_time": "2019-08-06T18:32:53.345886Z",
     "start_time": "2019-08-06T18:32:53.339891Z"
    }
   },
   "outputs": [],
   "source": [
    "import warnings\n",
    "warnings.filterwarnings(action='once')"
   ]
  },
  {
   "cell_type": "code",
   "execution_count": 16,
   "metadata": {
    "ExecuteTime": {
     "end_time": "2019-08-06T18:32:53.902566Z",
     "start_time": "2019-08-06T18:32:53.350884Z"
    }
   },
   "outputs": [
    {
     "name": "stderr",
     "output_type": "stream",
     "text": [
      "C:\\Users\\skarn\\Anaconda3\\envs\\DataAnalysis\\lib\\site-packages\\numpy\\lib\\type_check.py:546: DeprecationWarning: np.asscalar(a) is deprecated since NumPy v1.16, use a.item() instead\n",
      "  'a.item() instead', DeprecationWarning, stacklevel=1)\n"
     ]
    },
    {
     "name": "stdout",
     "output_type": "stream",
     "text": [
      "WARNING:tensorflow:From C:\\Users\\skarn\\Anaconda3\\envs\\DataAnalysis\\lib\\site-packages\\tensorflow\\python\\ops\\resource_variable_ops.py:435: colocate_with (from tensorflow.python.framework.ops) is deprecated and will be removed in a future version.\n",
      "Instructions for updating:\n",
      "Colocations handled automatically by placer.\n",
      "WARNING:tensorflow:From C:\\Users\\skarn\\Anaconda3\\envs\\DataAnalysis\\lib\\site-packages\\tensorflow\\python\\keras\\layers\\core.py:143: calling dropout (from tensorflow.python.ops.nn_ops) with keep_prob is deprecated and will be removed in a future version.\n",
      "Instructions for updating:\n",
      "Please use `rate` instead of `keep_prob`. Rate should be set to `rate = 1 - keep_prob`.\n"
     ]
    }
   ],
   "source": [
    "model = keras.Sequential([\n",
    "    keras.layers.Embedding(vocab_size, 10),\n",
    "    keras.layers.Conv1D(32, 3, padding=\"same\", activation=tf.nn.relu),\n",
    "    keras.layers.Dropout(0.3),\n",
    "    keras.layers.Conv1D(32, 3, padding=\"same\", activation=tf.nn.relu),\n",
    "    keras.layers.GlobalMaxPool1D(),\n",
    "    keras.layers.Dropout(0.5),\n",
    "    keras.layers.Dense(2, activation=tf.nn.sigmoid)\n",
    "])"
   ]
  },
  {
   "cell_type": "code",
   "execution_count": 17,
   "metadata": {
    "ExecuteTime": {
     "end_time": "2019-08-06T18:32:53.923558Z",
     "start_time": "2019-08-06T18:32:53.908567Z"
    }
   },
   "outputs": [],
   "source": [
    "def plot_loss(history):\n",
    "    plt.figure(figsize=(6,5))\n",
    "    val = plt.plot(history.epoch, history.history['val_loss'],\n",
    "                 '--', label='Test')\n",
    "    plt.plot(history.epoch, history.history['loss'], color=val[0].get_color(),\n",
    "           label='Train')\n",
    "\n",
    "    plt.xlabel('Epochs')\n",
    "    plt.ylabel(\"Loss\")\n",
    "    plt.legend()\n",
    "\n",
    "    plt.xlim([0,max(history.epoch)])\n",
    "\n",
    "def eval_model(model):\n",
    "    test_loss, test_acc = model.evaluate(X_test, pd.get_dummies(y_test))\n",
    "    print('Test accuracy:', test_acc)"
   ]
  },
  {
   "cell_type": "code",
   "execution_count": 18,
   "metadata": {
    "ExecuteTime": {
     "end_time": "2019-08-06T18:33:04.974219Z",
     "start_time": "2019-08-06T18:32:53.929551Z"
    }
   },
   "outputs": [
    {
     "name": "stdout",
     "output_type": "stream",
     "text": [
      "Train on 2625 samples, validate on 875 samples\n",
      "WARNING:tensorflow:From C:\\Users\\skarn\\Anaconda3\\envs\\DataAnalysis\\lib\\site-packages\\tensorflow\\python\\ops\\math_ops.py:3066: to_int32 (from tensorflow.python.ops.math_ops) is deprecated and will be removed in a future version.\n",
      "Instructions for updating:\n",
      "Use tf.cast instead.\n",
      "WARNING:tensorflow:From C:\\Users\\skarn\\Anaconda3\\envs\\DataAnalysis\\lib\\site-packages\\tensorflow\\python\\ops\\math_grad.py:102: div (from tensorflow.python.ops.math_ops) is deprecated and will be removed in a future version.\n",
      "Instructions for updating:\n",
      "Deprecated in favor of operator or tf.math.divide.\n",
      "Epoch 1/5\n",
      "2625/2625 [==============================] - ETA: 2:31 - loss: 0.6858 - acc: 0.656 - ETA: 29s - loss: 0.6762 - acc: 0.775 - ETA: 14s - loss: 0.6670 - acc: 0.81 - ETA: 8s - loss: 0.6517 - acc: 0.8350 - ETA: 5s - loss: 0.6336 - acc: 0.843 - ETA: 4s - loss: 0.6178 - acc: 0.846 - ETA: 3s - loss: 0.6037 - acc: 0.840 - ETA: 2s - loss: 0.5944 - acc: 0.837 - ETA: 2s - loss: 0.5808 - acc: 0.840 - ETA: 1s - loss: 0.5681 - acc: 0.838 - ETA: 1s - loss: 0.5480 - acc: 0.843 - ETA: 1s - loss: 0.5337 - acc: 0.847 - ETA: 0s - loss: 0.5290 - acc: 0.847 - ETA: 0s - loss: 0.5238 - acc: 0.846 - ETA: 0s - loss: 0.5152 - acc: 0.848 - ETA: 0s - loss: 0.5084 - acc: 0.848 - 3s 1ms/sample - loss: 0.5016 - acc: 0.8505 - val_loss: 0.4128 - val_acc: 0.8663\n",
      "Epoch 2/5\n",
      "2625/2625 [==============================] - ETA: 0s - loss: 0.3481 - acc: 0.906 - ETA: 0s - loss: 0.3797 - acc: 0.875 - ETA: 0s - loss: 0.3992 - acc: 0.869 - ETA: 0s - loss: 0.4026 - acc: 0.871 - ETA: 0s - loss: 0.4052 - acc: 0.869 - ETA: 0s - loss: 0.3979 - acc: 0.872 - ETA: 0s - loss: 0.3971 - acc: 0.871 - ETA: 0s - loss: 0.3964 - acc: 0.872 - ETA: 0s - loss: 0.4062 - acc: 0.867 - ETA: 0s - loss: 0.4149 - acc: 0.860 - ETA: 0s - loss: 0.4167 - acc: 0.858 - ETA: 0s - loss: 0.4150 - acc: 0.859 - ETA: 0s - loss: 0.4165 - acc: 0.858 - ETA: 0s - loss: 0.4155 - acc: 0.859 - ETA: 0s - loss: 0.4134 - acc: 0.860 - ETA: 0s - loss: 0.4146 - acc: 0.860 - 1s 365us/sample - loss: 0.4171 - acc: 0.8589 - val_loss: 0.4054 - val_acc: 0.8663\n",
      "Epoch 3/5\n",
      "2625/2625 [==============================] - ETA: 0s - loss: 0.5118 - acc: 0.843 - ETA: 0s - loss: 0.4501 - acc: 0.843 - ETA: 0s - loss: 0.4404 - acc: 0.843 - ETA: 0s - loss: 0.4215 - acc: 0.855 - ETA: 0s - loss: 0.4191 - acc: 0.857 - ETA: 1s - loss: 0.4186 - acc: 0.858 - ETA: 1s - loss: 0.4234 - acc: 0.853 - ETA: 1s - loss: 0.4120 - acc: 0.860 - ETA: 1s - loss: 0.4043 - acc: 0.862 - ETA: 0s - loss: 0.4010 - acc: 0.865 - ETA: 0s - loss: 0.4038 - acc: 0.862 - ETA: 0s - loss: 0.4051 - acc: 0.863 - ETA: 0s - loss: 0.4122 - acc: 0.860 - ETA: 0s - loss: 0.4285 - acc: 0.852 - ETA: 0s - loss: 0.4299 - acc: 0.852 - ETA: 0s - loss: 0.4321 - acc: 0.851 - ETA: 0s - loss: 0.4343 - acc: 0.850 - ETA: 0s - loss: 0.4296 - acc: 0.853 - ETA: 0s - loss: 0.4352 - acc: 0.849 - ETA: 0s - loss: 0.4332 - acc: 0.850 - ETA: 0s - loss: 0.4296 - acc: 0.852 - ETA: 0s - loss: 0.4230 - acc: 0.855 - ETA: 0s - loss: 0.4249 - acc: 0.854 - ETA: 0s - loss: 0.4167 - acc: 0.858 - 1s 556us/sample - loss: 0.4149 - acc: 0.8590 - val_loss: 0.3905 - val_acc: 0.8663\n",
      "Epoch 4/5\n",
      "2625/2625 [==============================] - ETA: 0s - loss: 0.4214 - acc: 0.843 - ETA: 0s - loss: 0.3577 - acc: 0.885 - ETA: 0s - loss: 0.4248 - acc: 0.851 - ETA: 0s - loss: 0.4123 - acc: 0.857 - ETA: 0s - loss: 0.4008 - acc: 0.864 - ETA: 0s - loss: 0.4045 - acc: 0.860 - ETA: 0s - loss: 0.4123 - acc: 0.855 - ETA: 0s - loss: 0.4058 - acc: 0.859 - ETA: 0s - loss: 0.4068 - acc: 0.857 - ETA: 0s - loss: 0.4029 - acc: 0.858 - ETA: 0s - loss: 0.4059 - acc: 0.857 - ETA: 0s - loss: 0.4079 - acc: 0.856 - ETA: 0s - loss: 0.4021 - acc: 0.858 - ETA: 0s - loss: 0.4008 - acc: 0.856 - ETA: 0s - loss: 0.3972 - acc: 0.858 - ETA: 0s - loss: 0.3974 - acc: 0.858 - 1s 367us/sample - loss: 0.3953 - acc: 0.8590 - val_loss: 0.3490 - val_acc: 0.8663\n",
      "Epoch 5/5\n",
      "2625/2625 [==============================] - ETA: 0s - loss: 0.3576 - acc: 0.875 - ETA: 0s - loss: 0.3599 - acc: 0.866 - ETA: 0s - loss: 0.3441 - acc: 0.867 - ETA: 0s - loss: 0.3290 - acc: 0.875 - ETA: 0s - loss: 0.3400 - acc: 0.866 - ETA: 0s - loss: 0.3313 - acc: 0.867 - ETA: 0s - loss: 0.3322 - acc: 0.868 - ETA: 0s - loss: 0.3438 - acc: 0.857 - ETA: 0s - loss: 0.3347 - acc: 0.862 - ETA: 0s - loss: 0.3333 - acc: 0.862 - ETA: 0s - loss: 0.3409 - acc: 0.857 - ETA: 0s - loss: 0.3398 - acc: 0.856 - ETA: 0s - loss: 0.3380 - acc: 0.858 - ETA: 0s - loss: 0.3352 - acc: 0.859 - ETA: 0s - loss: 0.3336 - acc: 0.858 - ETA: 0s - loss: 0.3341 - acc: 0.858 - 1s 362us/sample - loss: 0.3336 - acc: 0.8590 - val_loss: 0.3201 - val_acc: 0.8663\n",
      "875/875 [==============================] - ETA: 0s - loss: 0.3166 - acc: 0.843 - ETA: 0s - loss: 0.3531 - acc: 0.853 - 0s 118us/sample - loss: 0.3201 - acc: 0.8663\n",
      "Test accuracy: 0.86628574\n"
     ]
    },
    {
     "data": {
      "image/png": "[encoded data removed]",
      "text/plain": [
       "<Figure size 432x360 with 1 Axes>"
      ]
     },
     "metadata": {
      "needs_background": "light"
     },
     "output_type": "display_data"
    }
   ],
   "source": [
    "model.compile(optimizer='adam', \n",
    "              loss='binary_crossentropy',\n",
    "              metrics=['accuracy'])\n",
    "\n",
    "history = model.fit(X_train,\n",
    "          pd.get_dummies(y_train),\n",
    "          epochs=5,\n",
    "          validation_data=(X_test, pd.get_dummies(y_test))\n",
    "         )\n",
    "plot_loss(history)\n",
    "eval_model(model)"
   ]
  },
  {
   "cell_type": "code",
   "execution_count": 19,
   "metadata": {
    "ExecuteTime": {
     "end_time": "2019-08-06T18:33:05.321022Z",
     "start_time": "2019-08-06T18:33:04.979218Z"
    }
   },
   "outputs": [
    {
     "data": {
      "text/plain": [
       "{0}"
      ]
     },
     "execution_count": 19,
     "metadata": {},
     "output_type": "execute_result"
    }
   ],
   "source": [
    "set(model.predict_classes(X_test)) ## 전부 0으로 예측을 함 . 데이터 편향 문제때문"
   ]
  },
  {
   "cell_type": "code",
   "execution_count": 20,
   "metadata": {
    "ExecuteTime": {
     "end_time": "2019-08-06T18:33:05.330018Z",
     "start_time": "2019-08-06T18:33:05.325017Z"
    }
   },
   "outputs": [],
   "source": [
    "# result = pd.DataFrame(np.apply_along_axis(index_to_text, 1, X_test))\n",
    "# result['predict'] = model.predict_proba(X_test)[:,1] # 유해하다고 판별할 확률\n",
    "# result[result.predict>0.3]"
   ]
  },
  {
   "cell_type": "markdown",
   "metadata": {},
   "source": [
    "# TODO\n",
    "- 형태소별 Tokenize 말고 한글 자모별 Tokenize 하여 실험해보기\n",
    "- CNN layer / Parameter 변경시켜보기\n",
    "- 예측 결과 검정하기\n",
    "    - Attention 이용\n",
    "\n",
    "\n",
    "# 데이터 클래스 불균형 문제 해결하자"
   ]
  },
  {
   "cell_type": "code",
   "execution_count": 21,
   "metadata": {
    "ExecuteTime": {
     "end_time": "2019-08-06T18:33:05.350005Z",
     "start_time": "2019-08-06T18:33:05.335013Z"
    }
   },
   "outputs": [],
   "source": [
    "from imblearn.under_sampling import RandomUnderSampler\n",
    "from imblearn.over_sampling import RandomOverSampler"
   ]
  },
  {
   "cell_type": "markdown",
   "metadata": {},
   "source": [
    "## upsampling"
   ]
  },
  {
   "cell_type": "code",
   "execution_count": 22,
   "metadata": {
    "ExecuteTime": {
     "end_time": "2019-08-06T18:33:05.382985Z",
     "start_time": "2019-08-06T18:33:05.358999Z"
    }
   },
   "outputs": [],
   "source": [
    "up_X, up_y = RandomOverSampler().fit_resample(x_padded, datasets.label)\n",
    "up_X_train, up_X_test, up_y_train, up_y_test = train_test_split(up_X, up_y)"
   ]
  },
  {
   "cell_type": "code",
   "execution_count": 23,
   "metadata": {
    "ExecuteTime": {
     "end_time": "2019-08-06T18:33:05.401974Z",
     "start_time": "2019-08-06T18:33:05.387985Z"
    }
   },
   "outputs": [
    {
     "data": {
      "text/plain": [
       "(6026, 3013)"
      ]
     },
     "execution_count": 23,
     "metadata": {},
     "output_type": "execute_result"
    }
   ],
   "source": [
    "# 총 데이터 수 , 1 레이블 데이터 수\n",
    "len(up_y), up_y.sum()"
   ]
  },
  {
   "cell_type": "code",
   "execution_count": 24,
   "metadata": {
    "ExecuteTime": {
     "end_time": "2019-08-06T18:33:19.068139Z",
     "start_time": "2019-08-06T18:33:05.406973Z"
    }
   },
   "outputs": [
    {
     "name": "stderr",
     "output_type": "stream",
     "text": [
      "C:\\Users\\skarn\\Anaconda3\\envs\\DataAnalysis\\lib\\site-packages\\numpy\\lib\\type_check.py:546: DeprecationWarning: np.asscalar(a) is deprecated since NumPy v1.16, use a.item() instead\n",
      "  'a.item() instead', DeprecationWarning, stacklevel=1)\n"
     ]
    },
    {
     "name": "stdout",
     "output_type": "stream",
     "text": [
      "Train on 4519 samples, validate on 1507 samples\n",
      "Epoch 1/5\n",
      "4519/4519 [==============================] - ETA: 3:56 - loss: 0.6061 - acc: 0.593 - ETA: 39s - loss: 0.6405 - acc: 0.536 - ETA: 21s - loss: 0.6451 - acc: 0.51 - ETA: 13s - loss: 0.6112 - acc: 0.53 - ETA: 10s - loss: 0.6019 - acc: 0.54 - ETA: 8s - loss: 0.5910 - acc: 0.5729 - ETA: 6s - loss: 0.5825 - acc: 0.606 - ETA: 5s - loss: 0.5751 - acc: 0.630 - ETA: 4s - loss: 0.5622 - acc: 0.658 - ETA: 4s - loss: 0.5509 - acc: 0.680 - ETA: 3s - loss: 0.5429 - acc: 0.693 - ETA: 3s - loss: 0.5375 - acc: 0.704 - ETA: 2s - loss: 0.5286 - acc: 0.718 - ETA: 2s - loss: 0.5217 - acc: 0.728 - ETA: 2s - loss: 0.5148 - acc: 0.738 - ETA: 1s - loss: 0.5075 - acc: 0.746 - ETA: 1s - loss: 0.5029 - acc: 0.751 - ETA: 1s - loss: 0.4946 - acc: 0.760 - ETA: 1s - loss: 0.4885 - acc: 0.765 - ETA: 1s - loss: 0.4840 - acc: 0.771 - ETA: 0s - loss: 0.4800 - acc: 0.774 - ETA: 0s - loss: 0.4739 - acc: 0.780 - ETA: 0s - loss: 0.4670 - acc: 0.786 - ETA: 0s - loss: 0.4602 - acc: 0.791 - ETA: 0s - loss: 0.4557 - acc: 0.793 - ETA: 0s - loss: 0.4508 - acc: 0.796 - ETA: 0s - loss: 0.4473 - acc: 0.799 - ETA: 0s - loss: 0.4412 - acc: 0.803 - 4s 846us/sample - loss: 0.4397 - acc: 0.8043 - val_loss: 0.2886 - val_acc: 0.8932\n",
      "Epoch 2/5\n",
      "4519/4519 [==============================] - ETA: 1s - loss: 0.1970 - acc: 0.921 - ETA: 1s - loss: 0.2441 - acc: 0.924 - ETA: 1s - loss: 0.2438 - acc: 0.920 - ETA: 1s - loss: 0.2393 - acc: 0.926 - ETA: 1s - loss: 0.2372 - acc: 0.927 - ETA: 1s - loss: 0.2403 - acc: 0.928 - ETA: 1s - loss: 0.2371 - acc: 0.931 - ETA: 0s - loss: 0.2331 - acc: 0.930 - ETA: 0s - loss: 0.2350 - acc: 0.927 - ETA: 0s - loss: 0.2289 - acc: 0.931 - ETA: 0s - loss: 0.2266 - acc: 0.930 - ETA: 0s - loss: 0.2241 - acc: 0.931 - ETA: 0s - loss: 0.2197 - acc: 0.933 - ETA: 0s - loss: 0.2129 - acc: 0.936 - ETA: 0s - loss: 0.2126 - acc: 0.935 - ETA: 0s - loss: 0.2132 - acc: 0.935 - ETA: 0s - loss: 0.2101 - acc: 0.935 - ETA: 0s - loss: 0.2078 - acc: 0.936 - ETA: 0s - loss: 0.2043 - acc: 0.936 - ETA: 0s - loss: 0.2016 - acc: 0.937 - ETA: 0s - loss: 0.2034 - acc: 0.937 - ETA: 0s - loss: 0.2015 - acc: 0.937 - ETA: 0s - loss: 0.2002 - acc: 0.938 - ETA: 0s - loss: 0.1974 - acc: 0.939 - ETA: 0s - loss: 0.1965 - acc: 0.940 - ETA: 0s - loss: 0.1956 - acc: 0.940 - 2s 358us/sample - loss: 0.1938 - acc: 0.9403 - val_loss: 0.1517 - val_acc: 0.9512\n",
      "Epoch 3/5\n",
      "4519/4519 [==============================] - ETA: 1s - loss: 0.2471 - acc: 0.906 - ETA: 1s - loss: 0.1634 - acc: 0.937 - ETA: 1s - loss: 0.1248 - acc: 0.955 - ETA: 1s - loss: 0.1079 - acc: 0.966 - ETA: 1s - loss: 0.1098 - acc: 0.968 - ETA: 1s - loss: 0.1075 - acc: 0.970 - ETA: 1s - loss: 0.1086 - acc: 0.970 - ETA: 1s - loss: 0.1039 - acc: 0.972 - ETA: 1s - loss: 0.1042 - acc: 0.971 - ETA: 1s - loss: 0.1046 - acc: 0.972 - ETA: 0s - loss: 0.1036 - acc: 0.972 - ETA: 0s - loss: 0.0997 - acc: 0.973 - ETA: 0s - loss: 0.0988 - acc: 0.973 - ETA: 0s - loss: 0.1000 - acc: 0.973 - ETA: 0s - loss: 0.0999 - acc: 0.972 - ETA: 0s - loss: 0.0969 - acc: 0.973 - ETA: 0s - loss: 0.0943 - acc: 0.974 - ETA: 0s - loss: 0.0921 - acc: 0.975 - ETA: 0s - loss: 0.0903 - acc: 0.975 - ETA: 0s - loss: 0.0924 - acc: 0.975 - ETA: 0s - loss: 0.0961 - acc: 0.974 - ETA: 0s - loss: 0.0982 - acc: 0.973 - ETA: 0s - loss: 0.0972 - acc: 0.974 - ETA: 0s - loss: 0.0953 - acc: 0.974 - ETA: 0s - loss: 0.0968 - acc: 0.974 - ETA: 0s - loss: 0.0971 - acc: 0.974 - ETA: 0s - loss: 0.0978 - acc: 0.974 - ETA: 0s - loss: 0.0977 - acc: 0.974 - 2s 376us/sample - loss: 0.0968 - acc: 0.9747 - val_loss: 0.1163 - val_acc: 0.9615\n",
      "Epoch 4/5\n",
      "4519/4519 [==============================] - ETA: 1s - loss: 0.0539 - acc: 1.000 - ETA: 1s - loss: 0.0760 - acc: 0.986 - ETA: 1s - loss: 0.0699 - acc: 0.987 - ETA: 1s - loss: 0.0796 - acc: 0.983 - ETA: 1s - loss: 0.0751 - acc: 0.985 - ETA: 1s - loss: 0.0737 - acc: 0.983 - ETA: 1s - loss: 0.0679 - acc: 0.985 - ETA: 1s - loss: 0.0653 - acc: 0.986 - ETA: 1s - loss: 0.0665 - acc: 0.986 - ETA: 1s - loss: 0.0674 - acc: 0.984 - ETA: 1s - loss: 0.0669 - acc: 0.983 - ETA: 0s - loss: 0.0636 - acc: 0.985 - ETA: 0s - loss: 0.0638 - acc: 0.985 - ETA: 0s - loss: 0.0628 - acc: 0.986 - ETA: 0s - loss: 0.0623 - acc: 0.986 - ETA: 0s - loss: 0.0596 - acc: 0.987 - ETA: 0s - loss: 0.0595 - acc: 0.986 - ETA: 0s - loss: 0.0590 - acc: 0.986 - ETA: 0s - loss: 0.0594 - acc: 0.986 - ETA: 0s - loss: 0.0586 - acc: 0.986 - ETA: 0s - loss: 0.0580 - acc: 0.986 - ETA: 0s - loss: 0.0570 - acc: 0.986 - ETA: 0s - loss: 0.0569 - acc: 0.986 - ETA: 0s - loss: 0.0566 - acc: 0.986 - ETA: 0s - loss: 0.0568 - acc: 0.986 - ETA: 0s - loss: 0.0557 - acc: 0.986 - ETA: 0s - loss: 0.0568 - acc: 0.986 - ETA: 0s - loss: 0.0573 - acc: 0.986 - ETA: 0s - loss: 0.0564 - acc: 0.986 - 2s 381us/sample - loss: 0.0560 - acc: 0.9867 - val_loss: 0.1215 - val_acc: 0.9652\n",
      "Epoch 5/5\n",
      "4519/4519 [==============================] - ETA: 1s - loss: 0.0252 - acc: 1.000 - ETA: 1s - loss: 0.0297 - acc: 0.993 - ETA: 1s - loss: 0.0250 - acc: 0.996 - ETA: 1s - loss: 0.0256 - acc: 0.995 - ETA: 1s - loss: 0.0225 - acc: 0.996 - ETA: 1s - loss: 0.0238 - acc: 0.995 - ETA: 1s - loss: 0.0255 - acc: 0.994 - ETA: 0s - loss: 0.0259 - acc: 0.994 - ETA: 0s - loss: 0.0262 - acc: 0.994 - ETA: 0s - loss: 0.0272 - acc: 0.993 - ETA: 0s - loss: 0.0307 - acc: 0.993 - ETA: 0s - loss: 0.0362 - acc: 0.992 - ETA: 0s - loss: 0.0352 - acc: 0.992 - ETA: 0s - loss: 0.0333 - acc: 0.993 - ETA: 0s - loss: 0.0339 - acc: 0.992 - ETA: 0s - loss: 0.0355 - acc: 0.992 - ETA: 0s - loss: 0.0345 - acc: 0.992 - ETA: 0s - loss: 0.0345 - acc: 0.992 - ETA: 0s - loss: 0.0341 - acc: 0.992 - ETA: 0s - loss: 0.0366 - acc: 0.992 - ETA: 0s - loss: 0.0355 - acc: 0.992 - ETA: 0s - loss: 0.0357 - acc: 0.992 - ETA: 0s - loss: 0.0356 - acc: 0.992 - ETA: 0s - loss: 0.0364 - acc: 0.992 - ETA: 0s - loss: 0.0359 - acc: 0.992 - ETA: 0s - loss: 0.0355 - acc: 0.992 - 2s 345us/sample - loss: 0.0353 - acc: 0.9926 - val_loss: 0.1123 - val_acc: 0.9695\n",
      "1507/1507 [==============================] - ETA: 0s - loss: 0.0044 - acc: 1.000 - ETA: 0s - loss: 0.1307 - acc: 0.971 - ETA: 0s - loss: 0.1027 - acc: 0.971 - ETA: 0s - loss: 0.1133 - acc: 0.971 - 0s 119us/sample - loss: 0.1123 - acc: 0.9695\n",
      "Test accuracy: 0.9694758\n"
     ]
    },
    {
     "data": {
      "image/png": "[encoded data removed]",
      "text/plain": [
       "<Figure size 432x360 with 1 Axes>"
      ]
     },
     "metadata": {
      "needs_background": "light"
     },
     "output_type": "display_data"
    }
   ],
   "source": [
    "model.compile(optimizer='adam', \n",
    "              loss='binary_crossentropy',\n",
    "              metrics=['accuracy'])\n",
    "\n",
    "history = model.fit(up_X_train,\n",
    "          pd.get_dummies(up_y_train),\n",
    "          epochs=5,\n",
    "          validation_data=(up_X_test, pd.get_dummies(up_y_test))\n",
    "         )\n",
    "plot_loss(history)\n",
    "test_loss, test_acc = model.evaluate(up_X_test, pd.get_dummies(up_y_test))\n",
    "print('Test accuracy:', test_acc)"
   ]
  },
  {
   "cell_type": "code",
   "execution_count": 25,
   "metadata": {
    "ExecuteTime": {
     "end_time": "2019-08-06T18:33:19.527876Z",
     "start_time": "2019-08-06T18:33:19.073137Z"
    }
   },
   "outputs": [
    {
     "name": "stdout",
     "output_type": "stream",
     "text": [
      "전체채팅수1507, 유해채팅수800\n"
     ]
    },
    {
     "data": {
      "text/html": [
       "<div>\n",
       "<style scoped>\n",
       "    .dataframe tbody tr th:only-of-type {\n",
       "        vertical-align: middle;\n",
       "    }\n",
       "\n",
       "    .dataframe tbody tr th {\n",
       "        vertical-align: top;\n",
       "    }\n",
       "\n",
       "    .dataframe thead th {\n",
       "        text-align: right;\n",
       "    }\n",
       "</style>\n",
       "<table border=\"1\" class=\"dataframe\">\n",
       "  <thead>\n",
       "    <tr style=\"text-align: right;\">\n",
       "      <th></th>\n",
       "      <th>0</th>\n",
       "      <th>predict</th>\n",
       "    </tr>\n",
       "  </thead>\n",
       "  <tbody>\n",
       "    <tr>\n",
       "      <th>1</th>\n",
       "      <td>채금/Noun 걸어서/Verb 아이디/Noun 다시/Noun 만들었다/Verb 시/...</td>\n",
       "      <td>0.999893</td>\n",
       "    </tr>\n",
       "    <tr>\n",
       "      <th>2</th>\n",
       "      <td>아/Exclamation 개패/Noun 고/Josa 싶다/Verb ㄱ/KoreanP...</td>\n",
       "      <td>0.997131</td>\n",
       "    </tr>\n",
       "    <tr>\n",
       "      <th>5</th>\n",
       "      <td>느그/Modifier 형/Noun 을/Josa 뚜/Noun 드러/Adjective ...</td>\n",
       "      <td>0.999417</td>\n",
       "    </tr>\n",
       "    <tr>\n",
       "      <th>6</th>\n",
       "      <td>창석/Noun 이/Determiner 붕알/Noun 냄새/Noun 맞고/Verb 파...</td>\n",
       "      <td>0.999965</td>\n",
       "    </tr>\n",
       "    <tr>\n",
       "      <th>7</th>\n",
       "      <td>쎅쎅쎅/Noun ?/Punctuation &lt;PAD&gt; &lt;PAD&gt; &lt;PAD&gt; &lt;PAD&gt;...</td>\n",
       "      <td>0.986789</td>\n",
       "    </tr>\n",
       "    <tr>\n",
       "      <th>13</th>\n",
       "      <td>오빠/Noun 자세/Noun 가/Josa 왜/Noun 이렇게/Adverb 건방지/A...</td>\n",
       "      <td>0.998900</td>\n",
       "    </tr>\n",
       "    <tr>\n",
       "      <th>14</th>\n",
       "      <td>머/Noun ./Punctuation 가/Verb ./Punctuation 리/No...</td>\n",
       "      <td>0.999498</td>\n",
       "    </tr>\n",
       "    <tr>\n",
       "      <th>15</th>\n",
       "      <td>브베/Noun 야/Josa 자살/Noun 언제/Noun 하냐/Verb &lt;PAD&gt; &lt;...</td>\n",
       "      <td>0.999911</td>\n",
       "    </tr>\n",
       "    <tr>\n",
       "      <th>16</th>\n",
       "      <td>창석/Noun 이부/Noun 랄/Noun 냄새/Noun 마족/Noun 시/Modif...</td>\n",
       "      <td>0.999995</td>\n",
       "    </tr>\n",
       "    <tr>\n",
       "      <th>19</th>\n",
       "      <td>느그/Modifier 형도/Noun 너/Noun 처럼/Josa 백/Modifier ...</td>\n",
       "      <td>0.999895</td>\n",
       "    </tr>\n",
       "  </tbody>\n",
       "</table>\n",
       "</div>"
      ],
      "text/plain": [
       "                                                    0   predict\n",
       "1   채금/Noun 걸어서/Verb 아이디/Noun 다시/Noun 만들었다/Verb 시/...  0.999893\n",
       "2   아/Exclamation 개패/Noun 고/Josa 싶다/Verb ㄱ/KoreanP...  0.997131\n",
       "5   느그/Modifier 형/Noun 을/Josa 뚜/Noun 드러/Adjective ...  0.999417\n",
       "6   창석/Noun 이/Determiner 붕알/Noun 냄새/Noun 맞고/Verb 파...  0.999965\n",
       "7   쎅쎅쎅/Noun ?/Punctuation <PAD> <PAD> <PAD> <PAD>...  0.986789\n",
       "13  오빠/Noun 자세/Noun 가/Josa 왜/Noun 이렇게/Adverb 건방지/A...  0.998900\n",
       "14  머/Noun ./Punctuation 가/Verb ./Punctuation 리/No...  0.999498\n",
       "15  브베/Noun 야/Josa 자살/Noun 언제/Noun 하냐/Verb <PAD> <...  0.999911\n",
       "16  창석/Noun 이부/Noun 랄/Noun 냄새/Noun 마족/Noun 시/Modif...  0.999995\n",
       "19  느그/Modifier 형도/Noun 너/Noun 처럼/Josa 백/Modifier ...  0.999895"
      ]
     },
     "execution_count": 25,
     "metadata": {},
     "output_type": "execute_result"
    }
   ],
   "source": [
    "result = pd.DataFrame(np.apply_along_axis(index_to_text, 1, up_X_test))\n",
    "result['predict'] = model.predict_proba(up_X_test)[:,1] # 유해하다고 판별할 확률\n",
    "print('전체채팅수{}, 유해채팅수{}'.format(len(result),len(result[result.predict>0.5])))\n",
    "result[result.predict>0.5].head(10)"
   ]
  },
  {
   "cell_type": "code",
   "execution_count": 26,
   "metadata": {
    "ExecuteTime": {
     "end_time": "2019-08-06T18:33:19.575848Z",
     "start_time": "2019-08-06T18:33:19.533873Z"
    }
   },
   "outputs": [
    {
     "data": {
      "text/html": [
       "<div>\n",
       "<style scoped>\n",
       "    .dataframe tbody tr th:only-of-type {\n",
       "        vertical-align: middle;\n",
       "    }\n",
       "\n",
       "    .dataframe tbody tr th {\n",
       "        vertical-align: top;\n",
       "    }\n",
       "\n",
       "    .dataframe thead th {\n",
       "        text-align: right;\n",
       "    }\n",
       "</style>\n",
       "<table border=\"1\" class=\"dataframe\">\n",
       "  <thead>\n",
       "    <tr style=\"text-align: right;\">\n",
       "      <th></th>\n",
       "      <th>0</th>\n",
       "      <th>predict</th>\n",
       "    </tr>\n",
       "  </thead>\n",
       "  <tbody>\n",
       "    <tr>\n",
       "      <th>70</th>\n",
       "      <td>후식/Noun 을/Josa 쌓아놓고/Verb 먹네/Verb ~/Punctuation...</td>\n",
       "      <td>0.808815</td>\n",
       "    </tr>\n",
       "    <tr>\n",
       "      <th>81</th>\n",
       "      <td>발성/Noun &lt;PAD&gt; &lt;PAD&gt; &lt;PAD&gt; &lt;PAD&gt; &lt;PAD&gt; &lt;PAD&gt; &lt;P...</td>\n",
       "      <td>0.426431</td>\n",
       "    </tr>\n",
       "    <tr>\n",
       "      <th>93</th>\n",
       "      <td>와/Verb 순삭/Noun 이네/Josa &lt;PAD&gt; &lt;PAD&gt; &lt;PAD&gt; &lt;PAD&gt;...</td>\n",
       "      <td>0.824400</td>\n",
       "    </tr>\n",
       "    <tr>\n",
       "      <th>130</th>\n",
       "      <td>Squid/Alpha 1/Number &lt;PAD&gt; &lt;PAD&gt; &lt;PAD&gt; &lt;PAD&gt; &lt;...</td>\n",
       "      <td>0.775266</td>\n",
       "    </tr>\n",
       "    <tr>\n",
       "      <th>151</th>\n",
       "      <td>타코야끼/Noun 야/Josa 치칠/Noun &lt;PAD&gt; &lt;PAD&gt; &lt;PAD&gt; &lt;PA...</td>\n",
       "      <td>0.222526</td>\n",
       "    </tr>\n",
       "    <tr>\n",
       "      <th>204</th>\n",
       "      <td>싹둑/Noun 아/Josa &lt;PAD&gt; &lt;PAD&gt; &lt;PAD&gt; &lt;PAD&gt; &lt;PAD&gt; &lt;...</td>\n",
       "      <td>0.892502</td>\n",
       "    </tr>\n",
       "    <tr>\n",
       "      <th>208</th>\n",
       "      <td>치질/Noun &lt;PAD&gt; &lt;PAD&gt; &lt;PAD&gt; &lt;PAD&gt; &lt;PAD&gt; &lt;PAD&gt; &lt;P...</td>\n",
       "      <td>0.833315</td>\n",
       "    </tr>\n",
       "    <tr>\n",
       "      <th>227</th>\n",
       "      <td>브베/Noun 형/Suffix 뮤직비디오/Noun 언제/Noun 만들어요/Verb ...</td>\n",
       "      <td>0.507806</td>\n",
       "    </tr>\n",
       "    <tr>\n",
       "      <th>244</th>\n",
       "      <td>바깥/Noun 에도/Josa 안/VerbPrefix 나가면서/Verb &lt;PAD&gt; &lt;...</td>\n",
       "      <td>0.501278</td>\n",
       "    </tr>\n",
       "    <tr>\n",
       "      <th>264</th>\n",
       "      <td>궁금하다/Adjective ~/Punctuation &lt;PAD&gt; &lt;PAD&gt; &lt;PAD&gt;...</td>\n",
       "      <td>0.136279</td>\n",
       "    </tr>\n",
       "    <tr>\n",
       "      <th>267</th>\n",
       "      <td>ㄵ/KoreanParticle &lt;PAD&gt; &lt;PAD&gt; &lt;PAD&gt; &lt;PAD&gt; &lt;PAD&gt;...</td>\n",
       "      <td>0.885565</td>\n",
       "    </tr>\n",
       "    <tr>\n",
       "      <th>270</th>\n",
       "      <td>지가/Verb 맞으러/Verb 가는구만/Verb ㅋㅋㅋ/KoreanParticle ...</td>\n",
       "      <td>0.433605</td>\n",
       "    </tr>\n",
       "    <tr>\n",
       "      <th>291</th>\n",
       "      <td>창석/Noun 이/Determiner 엿/Modifier 으/Noun 면/Josa ...</td>\n",
       "      <td>0.244345</td>\n",
       "    </tr>\n",
       "    <tr>\n",
       "      <th>292</th>\n",
       "      <td>한/Determiner 창석/Noun 애/Noun ㅡ/KoreanParticle 미...</td>\n",
       "      <td>0.365819</td>\n",
       "    </tr>\n",
       "    <tr>\n",
       "      <th>294</th>\n",
       "      <td>옦슬컵/Noun &lt;PAD&gt; &lt;PAD&gt; &lt;PAD&gt; &lt;PAD&gt; &lt;PAD&gt; &lt;PAD&gt; &lt;...</td>\n",
       "      <td>0.884216</td>\n",
       "    </tr>\n",
       "    <tr>\n",
       "      <th>346</th>\n",
       "      <td>싹둑/Noun 이/Josa =/Punctuation 브베/Noun 미애/Noun =...</td>\n",
       "      <td>0.894423</td>\n",
       "    </tr>\n",
       "    <tr>\n",
       "      <th>353</th>\n",
       "      <td>싹둑/Noun 이/Josa =/Punctuation 브베/Noun 미애/Noun =...</td>\n",
       "      <td>0.894423</td>\n",
       "    </tr>\n",
       "    <tr>\n",
       "      <th>354</th>\n",
       "      <td>nexon/Alpha 50/Number 님/Suffix ,/Punctuation 1...</td>\n",
       "      <td>0.123495</td>\n",
       "    </tr>\n",
       "    <tr>\n",
       "      <th>366</th>\n",
       "      <td>17/Number 에/Josa 브베/Noun 형/Suffix 이/Josa 있는거냐/...</td>\n",
       "      <td>0.209870</td>\n",
       "    </tr>\n",
       "    <tr>\n",
       "      <th>388</th>\n",
       "      <td>?/Punctuation &lt;PAD&gt; &lt;PAD&gt; &lt;PAD&gt; &lt;PAD&gt; &lt;PAD&gt; &lt;P...</td>\n",
       "      <td>0.112237</td>\n",
       "    </tr>\n",
       "    <tr>\n",
       "      <th>401</th>\n",
       "      <td>본인/Noun 의/Josa 인생/Noun 처럼/Josa ?/Punctuation &lt;...</td>\n",
       "      <td>0.712195</td>\n",
       "    </tr>\n",
       "    <tr>\n",
       "      <th>411</th>\n",
       "      <td>이럴꺼면/Adjective 영상통화/Noun 해/Verb 둘/Noun 이/Josa ...</td>\n",
       "      <td>0.411408</td>\n",
       "    </tr>\n",
       "    <tr>\n",
       "      <th>455</th>\n",
       "      <td>어어/Noun 어/Suffix 옥스/Noun 라/Josa &lt;PAD&gt; &lt;PAD&gt; &lt;P...</td>\n",
       "      <td>0.449950</td>\n",
       "    </tr>\n",
       "    <tr>\n",
       "      <th>459</th>\n",
       "      <td>침묵/Noun 방송/Noun 인가요/Josa ?/Punctuation &lt;PAD&gt; &lt;...</td>\n",
       "      <td>0.288380</td>\n",
       "    </tr>\n",
       "    <tr>\n",
       "      <th>461</th>\n",
       "      <td>허공/Noun 에다/Josa 때리지마/Verb &lt;PAD&gt; &lt;PAD&gt; &lt;PAD&gt; &lt;P...</td>\n",
       "      <td>0.156740</td>\n",
       "    </tr>\n",
       "    <tr>\n",
       "      <th>471</th>\n",
       "      <td>브베/Noun 형/Suffix 뮤직비디오/Noun 언제/Noun 만들어요/Verb ...</td>\n",
       "      <td>0.507806</td>\n",
       "    </tr>\n",
       "    <tr>\n",
       "      <th>488</th>\n",
       "      <td>?/Punctuation &lt;PAD&gt; &lt;PAD&gt; &lt;PAD&gt; &lt;PAD&gt; &lt;PAD&gt; &lt;P...</td>\n",
       "      <td>0.112237</td>\n",
       "    </tr>\n",
       "    <tr>\n",
       "      <th>498</th>\n",
       "      <td>미니멀리즘/Noun 인가요/Josa ?/Punctuation &lt;PAD&gt; &lt;PAD&gt; ...</td>\n",
       "      <td>0.769061</td>\n",
       "    </tr>\n",
       "    <tr>\n",
       "      <th>500</th>\n",
       "      <td>이런데도/Adjective 쏘고싶냐/Verb &lt;PAD&gt; &lt;PAD&gt; &lt;PAD&gt; &lt;PA...</td>\n",
       "      <td>0.101332</td>\n",
       "    </tr>\n",
       "    <tr>\n",
       "      <th>503</th>\n",
       "      <td>아/Exclamation 진짜/Noun 지루해/Adjective 죽는줄/Verb &lt;...</td>\n",
       "      <td>0.704833</td>\n",
       "    </tr>\n",
       "    <tr>\n",
       "      <th>...</th>\n",
       "      <td>...</td>\n",
       "      <td>...</td>\n",
       "    </tr>\n",
       "    <tr>\n",
       "      <th>995</th>\n",
       "      <td>?/Punctuation &lt;PAD&gt; &lt;PAD&gt; &lt;PAD&gt; &lt;PAD&gt; &lt;PAD&gt; &lt;P...</td>\n",
       "      <td>0.112237</td>\n",
       "    </tr>\n",
       "    <tr>\n",
       "      <th>1051</th>\n",
       "      <td>도/Noun 네/Josa 하면/Verb 찾아간다/Verb 하지마라/Verb 경고/N...</td>\n",
       "      <td>0.105548</td>\n",
       "    </tr>\n",
       "    <tr>\n",
       "      <th>1089</th>\n",
       "      <td>집/Noun 비하/Verb 해명/Noun 하/Suffix 라/Josa &lt;PAD&gt; &lt;...</td>\n",
       "      <td>0.404654</td>\n",
       "    </tr>\n",
       "    <tr>\n",
       "      <th>1092</th>\n",
       "      <td>누가/Noun 비/Noun 라고/Josa ?/Punctuation &lt;PAD&gt; &lt;PA...</td>\n",
       "      <td>0.598427</td>\n",
       "    </tr>\n",
       "    <tr>\n",
       "      <th>1114</th>\n",
       "      <td>노래/Noun 부르지마/Verb 시바/Noun 라/Josa &lt;PAD&gt; &lt;PAD&gt; &lt;...</td>\n",
       "      <td>0.806112</td>\n",
       "    </tr>\n",
       "    <tr>\n",
       "      <th>1116</th>\n",
       "      <td>와/Verb 다/Adverb 밴해/Verb 버리네/Verb &lt;PAD&gt; &lt;PAD&gt; &lt;...</td>\n",
       "      <td>0.422180</td>\n",
       "    </tr>\n",
       "    <tr>\n",
       "      <th>1133</th>\n",
       "      <td>브베/Noun 말투/Noun 가/Josa 역/Noun 간/Suffix 아줌마/Nou...</td>\n",
       "      <td>0.633018</td>\n",
       "    </tr>\n",
       "    <tr>\n",
       "      <th>1173</th>\n",
       "      <td>노잼/Noun 이다/Josa &lt;PAD&gt; &lt;PAD&gt; &lt;PAD&gt; &lt;PAD&gt; &lt;PAD&gt; ...</td>\n",
       "      <td>0.285209</td>\n",
       "    </tr>\n",
       "    <tr>\n",
       "      <th>1196</th>\n",
       "      <td>ㄵ/KoreanParticle &lt;PAD&gt; &lt;PAD&gt; &lt;PAD&gt; &lt;PAD&gt; &lt;PAD&gt;...</td>\n",
       "      <td>0.885565</td>\n",
       "    </tr>\n",
       "    <tr>\n",
       "      <th>1220</th>\n",
       "      <td>아이작/Noun 노잼/Noun 이야/Josa 다른/Modifier 겜/Noun 좀하...</td>\n",
       "      <td>0.379201</td>\n",
       "    </tr>\n",
       "    <tr>\n",
       "      <th>1240</th>\n",
       "      <td>저/Determiner 말/Noun 만/Josa 몇번/Noun 째/Suffix 냐/...</td>\n",
       "      <td>0.379341</td>\n",
       "    </tr>\n",
       "    <tr>\n",
       "      <th>1250</th>\n",
       "      <td>딴거/Verb 듣자/Verb &lt;PAD&gt; &lt;PAD&gt; &lt;PAD&gt; &lt;PAD&gt; &lt;PAD&gt; ...</td>\n",
       "      <td>0.114133</td>\n",
       "    </tr>\n",
       "    <tr>\n",
       "      <th>1260</th>\n",
       "      <td>누구/Noun 처럼/Josa 패진/Noun 않겠지/Verb 그렇지/Adjective...</td>\n",
       "      <td>0.183861</td>\n",
       "    </tr>\n",
       "    <tr>\n",
       "      <th>1279</th>\n",
       "      <td>?/Punctuation &lt;PAD&gt; &lt;PAD&gt; &lt;PAD&gt; &lt;PAD&gt; &lt;PAD&gt; &lt;P...</td>\n",
       "      <td>0.112237</td>\n",
       "    </tr>\n",
       "    <tr>\n",
       "      <th>1294</th>\n",
       "      <td>뇌성마비/Noun &lt;PAD&gt; &lt;PAD&gt; &lt;PAD&gt; &lt;PAD&gt; &lt;PAD&gt; &lt;PAD&gt; ...</td>\n",
       "      <td>0.878020</td>\n",
       "    </tr>\n",
       "    <tr>\n",
       "      <th>1344</th>\n",
       "      <td>정/Noun 품이아니라서/Verb &lt;PAD&gt; &lt;PAD&gt; &lt;PAD&gt; &lt;PAD&gt; &lt;PA...</td>\n",
       "      <td>0.229063</td>\n",
       "    </tr>\n",
       "    <tr>\n",
       "      <th>1357</th>\n",
       "      <td>너무/Adverb 노잼/Noun 이야/Josa 브베/Noun 야/Josa &lt;PAD&gt;...</td>\n",
       "      <td>0.556694</td>\n",
       "    </tr>\n",
       "    <tr>\n",
       "      <th>1364</th>\n",
       "      <td>?/Punctuation &lt;PAD&gt; &lt;PAD&gt; &lt;PAD&gt; &lt;PAD&gt; &lt;PAD&gt; &lt;P...</td>\n",
       "      <td>0.112237</td>\n",
       "    </tr>\n",
       "    <tr>\n",
       "      <th>1369</th>\n",
       "      <td>따랑/Verb 행/Noun &lt;PAD&gt; &lt;PAD&gt; &lt;PAD&gt; &lt;PAD&gt; &lt;PAD&gt; &lt;...</td>\n",
       "      <td>0.196630</td>\n",
       "    </tr>\n",
       "    <tr>\n",
       "      <th>1384</th>\n",
       "      <td>오늘/Noun 도/Josa 오프닝/Noun 만/Josa 듣/Verb 고갈/Noun ...</td>\n",
       "      <td>0.684302</td>\n",
       "    </tr>\n",
       "    <tr>\n",
       "      <th>1388</th>\n",
       "      <td>기호/Noun 1/Number 번/Noun 해명/Noun 해라/Verb 이기/Nou...</td>\n",
       "      <td>0.254830</td>\n",
       "    </tr>\n",
       "    <tr>\n",
       "      <th>1400</th>\n",
       "      <td>옷/Noun &lt;PAD&gt; &lt;PAD&gt; &lt;PAD&gt; &lt;PAD&gt; &lt;PAD&gt; &lt;PAD&gt; &lt;PA...</td>\n",
       "      <td>0.275731</td>\n",
       "    </tr>\n",
       "    <tr>\n",
       "      <th>1401</th>\n",
       "      <td>Squid/Alpha 1/Number &lt;PAD&gt; &lt;PAD&gt; &lt;PAD&gt; &lt;PAD&gt; &lt;...</td>\n",
       "      <td>0.775266</td>\n",
       "    </tr>\n",
       "    <tr>\n",
       "      <th>1420</th>\n",
       "      <td>복돌이/Noun 신/Noun 1/Number 고/Noun &lt;PAD&gt; &lt;PAD&gt; &lt;P...</td>\n",
       "      <td>0.739419</td>\n",
       "    </tr>\n",
       "    <tr>\n",
       "      <th>1430</th>\n",
       "      <td>할/Verb 짓/Noun 이/Josa 없냐/Adjective ?/Punctuatio...</td>\n",
       "      <td>0.118806</td>\n",
       "    </tr>\n",
       "    <tr>\n",
       "      <th>1435</th>\n",
       "      <td>야/Exclamation 티비/Noun 소리/Noun 들/Suffix 린다/Noun...</td>\n",
       "      <td>0.291339</td>\n",
       "    </tr>\n",
       "    <tr>\n",
       "      <th>1453</th>\n",
       "      <td>왜/Noun 쓸데가/Verb 없음/Adjective ?/Punctuation &lt;PA...</td>\n",
       "      <td>0.759866</td>\n",
       "    </tr>\n",
       "    <tr>\n",
       "      <th>1455</th>\n",
       "      <td>한/Determiner 창석/Noun 애/Noun ㅡ/KoreanParticle 미...</td>\n",
       "      <td>0.365819</td>\n",
       "    </tr>\n",
       "    <tr>\n",
       "      <th>1460</th>\n",
       "      <td>어꿍이/Noun 도/Josa 치킨/Noun 이/Josa 된/Verb 건가/Noun ...</td>\n",
       "      <td>0.783601</td>\n",
       "    </tr>\n",
       "    <tr>\n",
       "      <th>1497</th>\n",
       "      <td>뭔/Modifier 밀리/Noun 언/Modifier 달러/Noun 야/Josa &lt;...</td>\n",
       "      <td>0.675439</td>\n",
       "    </tr>\n",
       "  </tbody>\n",
       "</table>\n",
       "<p>79 rows × 2 columns</p>\n",
       "</div>"
      ],
      "text/plain": [
       "                                                      0   predict\n",
       "70    후식/Noun 을/Josa 쌓아놓고/Verb 먹네/Verb ~/Punctuation...  0.808815\n",
       "81    발성/Noun <PAD> <PAD> <PAD> <PAD> <PAD> <PAD> <P...  0.426431\n",
       "93    와/Verb 순삭/Noun 이네/Josa <PAD> <PAD> <PAD> <PAD>...  0.824400\n",
       "130   Squid/Alpha 1/Number <PAD> <PAD> <PAD> <PAD> <...  0.775266\n",
       "151   타코야끼/Noun 야/Josa 치칠/Noun <PAD> <PAD> <PAD> <PA...  0.222526\n",
       "204   싹둑/Noun 아/Josa <PAD> <PAD> <PAD> <PAD> <PAD> <...  0.892502\n",
       "208   치질/Noun <PAD> <PAD> <PAD> <PAD> <PAD> <PAD> <P...  0.833315\n",
       "227   브베/Noun 형/Suffix 뮤직비디오/Noun 언제/Noun 만들어요/Verb ...  0.507806\n",
       "244   바깥/Noun 에도/Josa 안/VerbPrefix 나가면서/Verb <PAD> <...  0.501278\n",
       "264   궁금하다/Adjective ~/Punctuation <PAD> <PAD> <PAD>...  0.136279\n",
       "267   ㄵ/KoreanParticle <PAD> <PAD> <PAD> <PAD> <PAD>...  0.885565\n",
       "270   지가/Verb 맞으러/Verb 가는구만/Verb ㅋㅋㅋ/KoreanParticle ...  0.433605\n",
       "291   창석/Noun 이/Determiner 엿/Modifier 으/Noun 면/Josa ...  0.244345\n",
       "292   한/Determiner 창석/Noun 애/Noun ㅡ/KoreanParticle 미...  0.365819\n",
       "294   옦슬컵/Noun <PAD> <PAD> <PAD> <PAD> <PAD> <PAD> <...  0.884216\n",
       "346   싹둑/Noun 이/Josa =/Punctuation 브베/Noun 미애/Noun =...  0.894423\n",
       "353   싹둑/Noun 이/Josa =/Punctuation 브베/Noun 미애/Noun =...  0.894423\n",
       "354   nexon/Alpha 50/Number 님/Suffix ,/Punctuation 1...  0.123495\n",
       "366   17/Number 에/Josa 브베/Noun 형/Suffix 이/Josa 있는거냐/...  0.209870\n",
       "388   ?/Punctuation <PAD> <PAD> <PAD> <PAD> <PAD> <P...  0.112237\n",
       "401   본인/Noun 의/Josa 인생/Noun 처럼/Josa ?/Punctuation <...  0.712195\n",
       "411   이럴꺼면/Adjective 영상통화/Noun 해/Verb 둘/Noun 이/Josa ...  0.411408\n",
       "455   어어/Noun 어/Suffix 옥스/Noun 라/Josa <PAD> <PAD> <P...  0.449950\n",
       "459   침묵/Noun 방송/Noun 인가요/Josa ?/Punctuation <PAD> <...  0.288380\n",
       "461   허공/Noun 에다/Josa 때리지마/Verb <PAD> <PAD> <PAD> <P...  0.156740\n",
       "471   브베/Noun 형/Suffix 뮤직비디오/Noun 언제/Noun 만들어요/Verb ...  0.507806\n",
       "488   ?/Punctuation <PAD> <PAD> <PAD> <PAD> <PAD> <P...  0.112237\n",
       "498   미니멀리즘/Noun 인가요/Josa ?/Punctuation <PAD> <PAD> ...  0.769061\n",
       "500   이런데도/Adjective 쏘고싶냐/Verb <PAD> <PAD> <PAD> <PA...  0.101332\n",
       "503   아/Exclamation 진짜/Noun 지루해/Adjective 죽는줄/Verb <...  0.704833\n",
       "...                                                 ...       ...\n",
       "995   ?/Punctuation <PAD> <PAD> <PAD> <PAD> <PAD> <P...  0.112237\n",
       "1051  도/Noun 네/Josa 하면/Verb 찾아간다/Verb 하지마라/Verb 경고/N...  0.105548\n",
       "1089  집/Noun 비하/Verb 해명/Noun 하/Suffix 라/Josa <PAD> <...  0.404654\n",
       "1092  누가/Noun 비/Noun 라고/Josa ?/Punctuation <PAD> <PA...  0.598427\n",
       "1114  노래/Noun 부르지마/Verb 시바/Noun 라/Josa <PAD> <PAD> <...  0.806112\n",
       "1116  와/Verb 다/Adverb 밴해/Verb 버리네/Verb <PAD> <PAD> <...  0.422180\n",
       "1133  브베/Noun 말투/Noun 가/Josa 역/Noun 간/Suffix 아줌마/Nou...  0.633018\n",
       "1173  노잼/Noun 이다/Josa <PAD> <PAD> <PAD> <PAD> <PAD> ...  0.285209\n",
       "1196  ㄵ/KoreanParticle <PAD> <PAD> <PAD> <PAD> <PAD>...  0.885565\n",
       "1220  아이작/Noun 노잼/Noun 이야/Josa 다른/Modifier 겜/Noun 좀하...  0.379201\n",
       "1240  저/Determiner 말/Noun 만/Josa 몇번/Noun 째/Suffix 냐/...  0.379341\n",
       "1250  딴거/Verb 듣자/Verb <PAD> <PAD> <PAD> <PAD> <PAD> ...  0.114133\n",
       "1260  누구/Noun 처럼/Josa 패진/Noun 않겠지/Verb 그렇지/Adjective...  0.183861\n",
       "1279  ?/Punctuation <PAD> <PAD> <PAD> <PAD> <PAD> <P...  0.112237\n",
       "1294  뇌성마비/Noun <PAD> <PAD> <PAD> <PAD> <PAD> <PAD> ...  0.878020\n",
       "1344  정/Noun 품이아니라서/Verb <PAD> <PAD> <PAD> <PAD> <PA...  0.229063\n",
       "1357  너무/Adverb 노잼/Noun 이야/Josa 브베/Noun 야/Josa <PAD>...  0.556694\n",
       "1364  ?/Punctuation <PAD> <PAD> <PAD> <PAD> <PAD> <P...  0.112237\n",
       "1369  따랑/Verb 행/Noun <PAD> <PAD> <PAD> <PAD> <PAD> <...  0.196630\n",
       "1384  오늘/Noun 도/Josa 오프닝/Noun 만/Josa 듣/Verb 고갈/Noun ...  0.684302\n",
       "1388  기호/Noun 1/Number 번/Noun 해명/Noun 해라/Verb 이기/Nou...  0.254830\n",
       "1400  옷/Noun <PAD> <PAD> <PAD> <PAD> <PAD> <PAD> <PA...  0.275731\n",
       "1401  Squid/Alpha 1/Number <PAD> <PAD> <PAD> <PAD> <...  0.775266\n",
       "1420  복돌이/Noun 신/Noun 1/Number 고/Noun <PAD> <PAD> <P...  0.739419\n",
       "1430  할/Verb 짓/Noun 이/Josa 없냐/Adjective ?/Punctuatio...  0.118806\n",
       "1435  야/Exclamation 티비/Noun 소리/Noun 들/Suffix 린다/Noun...  0.291339\n",
       "1453  왜/Noun 쓸데가/Verb 없음/Adjective ?/Punctuation <PA...  0.759866\n",
       "1455  한/Determiner 창석/Noun 애/Noun ㅡ/KoreanParticle 미...  0.365819\n",
       "1460  어꿍이/Noun 도/Josa 치킨/Noun 이/Josa 된/Verb 건가/Noun ...  0.783601\n",
       "1497  뭔/Modifier 밀리/Noun 언/Modifier 달러/Noun 야/Josa <...  0.675439\n",
       "\n",
       "[79 rows x 2 columns]"
      ]
     },
     "execution_count": 26,
     "metadata": {},
     "output_type": "execute_result"
    }
   ],
   "source": [
    "result[(result.predict>0.1) & (result.predict<0.9)]"
   ]
  },
  {
   "cell_type": "markdown",
   "metadata": {},
   "source": [
    "## DownSampling"
   ]
  },
  {
   "cell_type": "code",
   "execution_count": 27,
   "metadata": {
    "ExecuteTime": {
     "end_time": "2019-08-06T18:33:19.605832Z",
     "start_time": "2019-08-06T18:33:19.580846Z"
    }
   },
   "outputs": [],
   "source": [
    "down_X, down_y = RandomUnderSampler().fit_resample(x_padded, datasets.label)\n",
    "down_X_train, down_X_test, down_y_train, down_y_test = train_test_split(down_X, down_y)"
   ]
  },
  {
   "cell_type": "code",
   "execution_count": 28,
   "metadata": {
    "ExecuteTime": {
     "end_time": "2019-08-06T18:33:19.629840Z",
     "start_time": "2019-08-06T18:33:19.611828Z"
    }
   },
   "outputs": [
    {
     "data": {
      "text/plain": [
       "(974, 487)"
      ]
     },
     "execution_count": 28,
     "metadata": {},
     "output_type": "execute_result"
    }
   ],
   "source": [
    "# 총 데이터 수 , 1 레이블 데이터 수\n",
    "len(down_y), down_y.sum()"
   ]
  },
  {
   "cell_type": "code",
   "execution_count": 29,
   "metadata": {
    "ExecuteTime": {
     "end_time": "2019-08-06T18:33:26.474892Z",
     "start_time": "2019-08-06T18:33:19.635814Z"
    }
   },
   "outputs": [
    {
     "name": "stderr",
     "output_type": "stream",
     "text": [
      "C:\\Users\\skarn\\Anaconda3\\envs\\DataAnalysis\\lib\\site-packages\\numpy\\lib\\type_check.py:546: DeprecationWarning: np.asscalar(a) is deprecated since NumPy v1.16, use a.item() instead\n",
      "  'a.item() instead', DeprecationWarning, stacklevel=1)\n"
     ]
    },
    {
     "name": "stdout",
     "output_type": "stream",
     "text": [
      "Train on 730 samples, validate on 244 samples\n",
      "Epoch 1/5\n",
      "730/730 [==============================] - ETA: 34s - loss: 0.0630 - acc: 0.96 - ETA: 4s - loss: 0.0385 - acc: 0.9896 - ETA: 1s - loss: 0.0716 - acc: 0.983 - ETA: 0s - loss: 0.0710 - acc: 0.986 - ETA: 0s - loss: 0.0633 - acc: 0.987 - 2s 3ms/sample - loss: 0.0615 - acc: 0.9870 - val_loss: 0.0854 - val_acc: 0.9836\n",
      "Epoch 2/5\n",
      "730/730 [==============================] - ETA: 0s - loss: 0.0148 - acc: 1.000 - ETA: 0s - loss: 0.0645 - acc: 0.991 - ETA: 0s - loss: 0.0447 - acc: 0.994 - ETA: 0s - loss: 0.0496 - acc: 0.994 - 0s 346us/sample - loss: 0.0455 - acc: 0.9938 - val_loss: 0.0890 - val_acc: 0.9877\n",
      "Epoch 3/5\n",
      "730/730 [==============================] - ETA: 0s - loss: 0.0450 - acc: 0.968 - ETA: 0s - loss: 0.0187 - acc: 0.993 - ETA: 0s - loss: 0.0308 - acc: 0.989 - ETA: 0s - loss: 0.0417 - acc: 0.989 - 0s 349us/sample - loss: 0.0429 - acc: 0.9884 - val_loss: 0.0907 - val_acc: 0.9918\n",
      "Epoch 4/5\n",
      "730/730 [==============================] - ETA: 0s - loss: 0.0118 - acc: 1.000 - ETA: 0s - loss: 0.0202 - acc: 0.995 - ETA: 0s - loss: 0.0262 - acc: 0.994 - ETA: 0s - loss: 0.0250 - acc: 0.993 - 0s 353us/sample - loss: 0.0255 - acc: 0.9932 - val_loss: 0.0949 - val_acc: 0.9857\n",
      "Epoch 5/5\n",
      "730/730 [==============================] - ETA: 0s - loss: 0.0093 - acc: 1.000 - ETA: 0s - loss: 0.0218 - acc: 0.994 - ETA: 0s - loss: 0.0169 - acc: 0.994 - ETA: 0s - loss: 0.0224 - acc: 0.994 - 0s 364us/sample - loss: 0.0187 - acc: 0.9959 - val_loss: 0.0985 - val_acc: 0.9836\n",
      "244/244 [==============================] - ETA: 0s - loss: 0.0584 - acc: 0.968 - 0s 147us/sample - loss: 0.0985 - acc: 0.9836\n",
      "Test accuracy: 0.9836066\n"
     ]
    },
    {
     "data": {
      "image/png": "[encoded data removed]",
      "text/plain": [
       "<Figure size 432x360 with 1 Axes>"
      ]
     },
     "metadata": {
      "needs_background": "light"
     },
     "output_type": "display_data"
    }
   ],
   "source": [
    "model.compile(optimizer='adam', \n",
    "              loss='binary_crossentropy',\n",
    "              metrics=['accuracy'])\n",
    "\n",
    "history = model.fit(down_X_train,\n",
    "          pd.get_dummies(down_y_train),\n",
    "          epochs=5,\n",
    "          validation_data=(down_X_test, pd.get_dummies(down_y_test))\n",
    "         )\n",
    "plot_loss(history)\n",
    "test_loss, test_acc = model.evaluate(down_X_test, pd.get_dummies(down_y_test))\n",
    "print('Test accuracy:', test_acc)"
   ]
  },
  {
   "cell_type": "code",
   "execution_count": 30,
   "metadata": {
    "ExecuteTime": {
     "end_time": "2019-08-06T18:33:26.986600Z",
     "start_time": "2019-08-06T18:33:26.481889Z"
    }
   },
   "outputs": [
    {
     "name": "stdout",
     "output_type": "stream",
     "text": [
      "전체채팅수244, 유해채팅수120\n"
     ]
    },
    {
     "data": {
      "text/html": [
       "<div>\n",
       "<style scoped>\n",
       "    .dataframe tbody tr th:only-of-type {\n",
       "        vertical-align: middle;\n",
       "    }\n",
       "\n",
       "    .dataframe tbody tr th {\n",
       "        vertical-align: top;\n",
       "    }\n",
       "\n",
       "    .dataframe thead th {\n",
       "        text-align: right;\n",
       "    }\n",
       "</style>\n",
       "<table border=\"1\" class=\"dataframe\">\n",
       "  <thead>\n",
       "    <tr style=\"text-align: right;\">\n",
       "      <th></th>\n",
       "      <th>chat</th>\n",
       "      <th>predict</th>\n",
       "    </tr>\n",
       "  </thead>\n",
       "  <tbody>\n",
       "    <tr>\n",
       "      <th>1</th>\n",
       "      <td>미띵넝/Noun &lt;PAD&gt; &lt;PAD&gt; &lt;PAD&gt; &lt;PAD&gt; &lt;PAD&gt; &lt;PAD&gt; &lt;...</td>\n",
       "      <td>0.999236</td>\n",
       "    </tr>\n",
       "    <tr>\n",
       "      <th>2</th>\n",
       "      <td>브베/Noun 형/Suffix 게이/Noun 아님/Adjective ?/Punctu...</td>\n",
       "      <td>0.999782</td>\n",
       "    </tr>\n",
       "    <tr>\n",
       "      <th>3</th>\n",
       "      <td>왜/Noun 끈어/Verb ㄱㅅㄲ/KoreanParticle 야/Exclamatio...</td>\n",
       "      <td>0.999991</td>\n",
       "    </tr>\n",
       "    <tr>\n",
       "      <th>4</th>\n",
       "      <td>이/Determiner 새/Modifier 기/Noun 리액션/Noun 한결같네/A...</td>\n",
       "      <td>0.999969</td>\n",
       "    </tr>\n",
       "    <tr>\n",
       "      <th>5</th>\n",
       "      <td>퉤/Noun -\\/Punctuation &lt;PAD&gt; &lt;PAD&gt; &lt;PAD&gt; &lt;PAD&gt; ...</td>\n",
       "      <td>0.999297</td>\n",
       "    </tr>\n",
       "    <tr>\n",
       "      <th>6</th>\n",
       "      <td>ㅆㅂ/KoreanParticle &lt;PAD&gt; &lt;PAD&gt; &lt;PAD&gt; &lt;PAD&gt; &lt;PAD...</td>\n",
       "      <td>0.998403</td>\n",
       "    </tr>\n",
       "    <tr>\n",
       "      <th>7</th>\n",
       "      <td>옥뜰/Noun 아/Josa !/Punctuation 따당/Verb 행/Noun 억억...</td>\n",
       "      <td>0.971730</td>\n",
       "    </tr>\n",
       "    <tr>\n",
       "      <th>8</th>\n",
       "      <td>창/Noun 서/Josa 이부/Noun 랄/Noun 냄새/Noun 맞고싶다/Verb...</td>\n",
       "      <td>1.000000</td>\n",
       "    </tr>\n",
       "    <tr>\n",
       "      <th>11</th>\n",
       "      <td>말투/Noun 가/Josa 왜/Noun 이렇게/Adverb 건방져졌냐/Adjecti...</td>\n",
       "      <td>0.998185</td>\n",
       "    </tr>\n",
       "    <tr>\n",
       "      <th>14</th>\n",
       "      <td>아핡/Noun &lt;PAD&gt; &lt;PAD&gt; &lt;PAD&gt; &lt;PAD&gt; &lt;PAD&gt; &lt;PAD&gt; &lt;P...</td>\n",
       "      <td>0.925449</td>\n",
       "    </tr>\n",
       "  </tbody>\n",
       "</table>\n",
       "</div>"
      ],
      "text/plain": [
       "                                                 chat   predict\n",
       "1   미띵넝/Noun <PAD> <PAD> <PAD> <PAD> <PAD> <PAD> <...  0.999236\n",
       "2   브베/Noun 형/Suffix 게이/Noun 아님/Adjective ?/Punctu...  0.999782\n",
       "3   왜/Noun 끈어/Verb ㄱㅅㄲ/KoreanParticle 야/Exclamatio...  0.999991\n",
       "4   이/Determiner 새/Modifier 기/Noun 리액션/Noun 한결같네/A...  0.999969\n",
       "5   퉤/Noun -\\/Punctuation <PAD> <PAD> <PAD> <PAD> ...  0.999297\n",
       "6   ㅆㅂ/KoreanParticle <PAD> <PAD> <PAD> <PAD> <PAD...  0.998403\n",
       "7   옥뜰/Noun 아/Josa !/Punctuation 따당/Verb 행/Noun 억억...  0.971730\n",
       "8   창/Noun 서/Josa 이부/Noun 랄/Noun 냄새/Noun 맞고싶다/Verb...  1.000000\n",
       "11  말투/Noun 가/Josa 왜/Noun 이렇게/Adverb 건방져졌냐/Adjecti...  0.998185\n",
       "14  아핡/Noun <PAD> <PAD> <PAD> <PAD> <PAD> <PAD> <P...  0.925449"
      ]
     },
     "execution_count": 30,
     "metadata": {},
     "output_type": "execute_result"
    }
   ],
   "source": [
    "result = pd.DataFrame(np.apply_along_axis(index_to_text, 1, down_X_test), columns=['chat'])\n",
    "result['predict'] = model.predict_proba(down_X_test)[:,1] # 유해하다고 판별할 확률\n",
    "print('전체채팅수{}, 유해채팅수{}'.format(len(result),len(result[result.predict>0.5])))\n",
    "result[result.predict>0.5].head(10)"
   ]
  },
  {
   "cell_type": "markdown",
   "metadata": {},
   "source": [
    "- 우리는 다양한 비속어 표현에 집중하고 싶고 \n",
    "- 또한 정확도가 더 높은 downsampling을 사용하자!"
   ]
  },
  {
   "cell_type": "code",
   "execution_count": 31,
   "metadata": {
    "ExecuteTime": {
     "end_time": "2019-08-06T18:33:27.101532Z",
     "start_time": "2019-08-06T18:33:26.994626Z"
    }
   },
   "outputs": [],
   "source": [
    "result.to_csv('../../data/cnn_result.csv')"
   ]
  },
  {
   "cell_type": "markdown",
   "metadata": {},
   "source": [
    "## 분류 애매한 채팅들"
   ]
  },
  {
   "cell_type": "code",
   "execution_count": 32,
   "metadata": {
    "ExecuteTime": {
     "end_time": "2019-08-06T18:33:27.131517Z",
     "start_time": "2019-08-06T18:33:27.106531Z"
    }
   },
   "outputs": [
    {
     "data": {
      "text/html": [
       "<div>\n",
       "<style scoped>\n",
       "    .dataframe tbody tr th:only-of-type {\n",
       "        vertical-align: middle;\n",
       "    }\n",
       "\n",
       "    .dataframe tbody tr th {\n",
       "        vertical-align: top;\n",
       "    }\n",
       "\n",
       "    .dataframe thead th {\n",
       "        text-align: right;\n",
       "    }\n",
       "</style>\n",
       "<table border=\"1\" class=\"dataframe\">\n",
       "  <thead>\n",
       "    <tr style=\"text-align: right;\">\n",
       "      <th></th>\n",
       "      <th>chat</th>\n",
       "      <th>predict</th>\n",
       "    </tr>\n",
       "  </thead>\n",
       "  <tbody>\n",
       "    <tr>\n",
       "      <th>27</th>\n",
       "      <td>옥뜰/Noun 아/Josa 따당/Verb 행/Noun 억억/Noun 옥/Noun ....</td>\n",
       "      <td>0.189531</td>\n",
       "    </tr>\n",
       "    <tr>\n",
       "      <th>52</th>\n",
       "      <td>복돌이/Noun 신/Noun 1/Number 고/Noun &lt;PAD&gt; &lt;PAD&gt; &lt;P...</td>\n",
       "      <td>0.368344</td>\n",
       "    </tr>\n",
       "    <tr>\n",
       "      <th>85</th>\n",
       "      <td>ㅄ/KoreanParticle 아/Exclamation &lt;PAD&gt; &lt;PAD&gt; &lt;PA...</td>\n",
       "      <td>0.589605</td>\n",
       "    </tr>\n",
       "    <tr>\n",
       "      <th>118</th>\n",
       "      <td>한/Determiner 창석/Noun 애/Noun ㅡ/KoreanParticle 미...</td>\n",
       "      <td>0.780806</td>\n",
       "    </tr>\n",
       "    <tr>\n",
       "      <th>161</th>\n",
       "      <td>노잼/Noun 이다/Josa &lt;PAD&gt; &lt;PAD&gt; &lt;PAD&gt; &lt;PAD&gt; &lt;PAD&gt; ...</td>\n",
       "      <td>0.568996</td>\n",
       "    </tr>\n",
       "    <tr>\n",
       "      <th>191</th>\n",
       "      <td>인/Noun 싸/Verb 컴/Noun ㅋㅋㅋ/KoreanParticle 시바/Nou...</td>\n",
       "      <td>0.789868</td>\n",
       "    </tr>\n",
       "  </tbody>\n",
       "</table>\n",
       "</div>"
      ],
      "text/plain": [
       "                                                  chat   predict\n",
       "27   옥뜰/Noun 아/Josa 따당/Verb 행/Noun 억억/Noun 옥/Noun ....  0.189531\n",
       "52   복돌이/Noun 신/Noun 1/Number 고/Noun <PAD> <PAD> <P...  0.368344\n",
       "85   ㅄ/KoreanParticle 아/Exclamation <PAD> <PAD> <PA...  0.589605\n",
       "118  한/Determiner 창석/Noun 애/Noun ㅡ/KoreanParticle 미...  0.780806\n",
       "161  노잼/Noun 이다/Josa <PAD> <PAD> <PAD> <PAD> <PAD> ...  0.568996\n",
       "191  인/Noun 싸/Verb 컴/Noun ㅋㅋㅋ/KoreanParticle 시바/Nou...  0.789868"
      ]
     },
     "execution_count": 32,
     "metadata": {},
     "output_type": "execute_result"
    }
   ],
   "source": [
    "result[(result.predict>0.1) & (result.predict<0.9)]"
   ]
  },
  {
   "cell_type": "code",
   "execution_count": null,
   "metadata": {},
   "outputs": [],
   "source": []
  }
 ],
 "metadata": {
  "kernelspec": {
   "display_name": "Python 3",
   "language": "python",
   "name": "python3"
  },
  "language_info": {
   "codemirror_mode": {
    "name": "ipython",
    "version": 3
   },
   "file_extension": ".py",
   "mimetype": "text/x-python",
   "name": "python",
   "nbconvert_exporter": "python",
   "pygments_lexer": "ipython3",
   "version": "3.7.3"
  }
 },
 "nbformat": 4,
 "nbformat_minor": 2
}
