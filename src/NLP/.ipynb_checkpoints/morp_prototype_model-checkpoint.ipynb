{
 "cells": [
  {
   "cell_type": "code",
   "execution_count": 1,
   "metadata": {
    "ExecuteTime": {
     "end_time": "2019-08-08T09:44:32.698630Z",
     "start_time": "2019-08-08T09:43:58.312040Z"
    }
   },
   "outputs": [
    {
     "name": "stdout",
     "output_type": "stream",
     "text": [
      "Chan 2019-08-08 \n",
      "\n",
      "CPython 3.7.3\n",
      "IPython 7.6.1\n",
      "\n",
      "numpy 1.16.4\n",
      "pandas 0.24.2\n",
      "sklearn 0.21.2\n",
      "konlpy 0.5.1\n",
      "tensorflow 1.13.1\n",
      "matplotlib 3.1.0\n",
      "imblearn 0.5.0\n"
     ]
    }
   ],
   "source": [
    "%load_ext watermark\n",
    "%watermark -a Chan -d -v -p numpy,pandas,sklearn,konlpy,tensorflow,matplotlib,imblearn"
   ]
  },
  {
   "cell_type": "code",
   "execution_count": 2,
   "metadata": {
    "ExecuteTime": {
     "end_time": "2019-08-08T09:44:33.779828Z",
     "start_time": "2019-08-08T09:44:32.704624Z"
    }
   },
   "outputs": [],
   "source": [
    "import numpy as np\n",
    "import pandas as pd\n",
    "from sklearn.model_selection import train_test_split\n",
    "from konlpy.tag import Okt\n",
    "import tensorflow as tf\n",
    "from tensorflow.python.keras.preprocessing import sequence\n",
    "from tensorflow import keras\n",
    "from tqdm import tqdm\n",
    "from collections import Counter\n",
    "from matplotlib import pyplot as plt\n",
    "import pickle"
   ]
  },
  {
   "cell_type": "markdown",
   "metadata": {},
   "source": [
    "# Load datasets"
   ]
  },
  {
   "cell_type": "code",
   "execution_count": 3,
   "metadata": {
    "ExecuteTime": {
     "end_time": "2019-08-08T09:44:47.238993Z",
     "start_time": "2019-08-08T09:44:46.981140Z"
    }
   },
   "outputs": [
    {
     "name": "stdout",
     "output_type": "stream",
     "text": [
      "1\n",
      "2\n",
      "3\n",
      "4\n"
     ]
    },
    {
     "data": {
      "text/html": [
       "<div>\n",
       "<style scoped>\n",
       "    .dataframe tbody tr th:only-of-type {\n",
       "        vertical-align: middle;\n",
       "    }\n",
       "\n",
       "    .dataframe tbody tr th {\n",
       "        vertical-align: top;\n",
       "    }\n",
       "\n",
       "    .dataframe thead th {\n",
       "        text-align: right;\n",
       "    }\n",
       "</style>\n",
       "<table border=\"1\" class=\"dataframe\">\n",
       "  <thead>\n",
       "    <tr style=\"text-align: right;\">\n",
       "      <th></th>\n",
       "      <th>chat</th>\n",
       "      <th>label</th>\n",
       "    </tr>\n",
       "  </thead>\n",
       "  <tbody>\n",
       "    <tr>\n",
       "      <th>0</th>\n",
       "      <td>자기잘못인거알면 중고딩도 먼저사과하는걸아는데</td>\n",
       "      <td>0</td>\n",
       "    </tr>\n",
       "    <tr>\n",
       "      <th>1</th>\n",
       "      <td>싹둑이 채팅창 관리 중입니다</td>\n",
       "      <td>0</td>\n",
       "    </tr>\n",
       "    <tr>\n",
       "      <th>2</th>\n",
       "      <td>싹둑이 채팅창 관리 중입니다</td>\n",
       "      <td>0</td>\n",
       "    </tr>\n",
       "    <tr>\n",
       "      <th>3</th>\n",
       "      <td>어제 어글 아직도 가? 개인적으로 사과하셨대 그만해 칭구들앙</td>\n",
       "      <td>0</td>\n",
       "    </tr>\n",
       "    <tr>\n",
       "      <th>4</th>\n",
       "      <td>케읍이 뭔데요 무슨사건있엇음?</td>\n",
       "      <td>0</td>\n",
       "    </tr>\n",
       "  </tbody>\n",
       "</table>\n",
       "</div>"
      ],
      "text/plain": [
       "                                 chat  label\n",
       "0            자기잘못인거알면 중고딩도 먼저사과하는걸아는데      0\n",
       "1                     싹둑이 채팅창 관리 중입니다      0\n",
       "2                     싹둑이 채팅창 관리 중입니다      0\n",
       "3  어제 어글 아직도 가? 개인적으로 사과하셨대 그만해 칭구들앙       0\n",
       "4                    케읍이 뭔데요 무슨사건있엇음?      0"
      ]
     },
     "execution_count": 3,
     "metadata": {},
     "output_type": "execute_result"
    }
   ],
   "source": [
    "datasets = pd.DataFrame()\n",
    "for i in range(1,5):\n",
    "    print(i)\n",
    "    dump = pd.read_csv(\"../../data/sample ({}).csv\".format(i), engine='python',names=['chat','label'])\n",
    "    datasets = pd.concat([datasets, dump])\n",
    "datasets.head()"
   ]
  },
  {
   "cell_type": "code",
   "execution_count": 4,
   "metadata": {
    "ExecuteTime": {
     "end_time": "2019-08-08T09:44:51.915210Z",
     "start_time": "2019-08-08T09:44:51.909208Z"
    }
   },
   "outputs": [],
   "source": [
    "datasets.reset_index(drop=True,inplace=True)"
   ]
  },
  {
   "cell_type": "code",
   "execution_count": 5,
   "metadata": {
    "ExecuteTime": {
     "end_time": "2019-08-08T09:44:52.080111Z",
     "start_time": "2019-08-08T09:44:52.059122Z"
    }
   },
   "outputs": [
    {
     "name": "stdout",
     "output_type": "stream",
     "text": [
      "<class 'pandas.core.frame.DataFrame'>\n",
      "RangeIndex: 3500 entries, 0 to 3499\n",
      "Data columns (total 2 columns):\n",
      "chat     3500 non-null object\n",
      "label    3500 non-null int64\n",
      "dtypes: int64(1), object(1)\n",
      "memory usage: 54.8+ KB\n"
     ]
    }
   ],
   "source": [
    "datasets.info()"
   ]
  },
  {
   "cell_type": "code",
   "execution_count": 6,
   "metadata": {
    "ExecuteTime": {
     "end_time": "2019-08-08T09:44:52.259419Z",
     "start_time": "2019-08-08T09:44:52.249424Z"
    }
   },
   "outputs": [],
   "source": [
    "datasets.label = datasets.label.astype('int')"
   ]
  },
  {
   "cell_type": "code",
   "execution_count": 7,
   "metadata": {
    "ExecuteTime": {
     "end_time": "2019-08-08T09:44:52.572239Z",
     "start_time": "2019-08-08T09:44:52.555248Z"
    }
   },
   "outputs": [
    {
     "data": {
      "text/plain": [
       "0.13914285714285715"
      ]
     },
     "execution_count": 7,
     "metadata": {},
     "output_type": "execute_result"
    }
   ],
   "source": [
    "len(datasets[datasets.label ==1])/ len(datasets) # 유해한 레이블의 데이터가 많이 부족함 데이터 편향ㅠㅠ"
   ]
  },
  {
   "cell_type": "markdown",
   "metadata": {
    "ExecuteTime": {
     "end_time": "2019-08-06T15:38:19.687895Z",
     "start_time": "2019-08-06T15:38:19.677899Z"
    }
   },
   "source": [
    "# Tokenize\n",
    "## 형태소분석"
   ]
  },
  {
   "cell_type": "code",
   "execution_count": 8,
   "metadata": {
    "ExecuteTime": {
     "end_time": "2019-08-08T09:44:53.952088Z",
     "start_time": "2019-08-08T09:44:53.213997Z"
    }
   },
   "outputs": [
    {
     "name": "stderr",
     "output_type": "stream",
     "text": [
      "C:\\Users\\skarn\\Anaconda3\\envs\\DataAnalysis\\lib\\site-packages\\jpype\\_core.py:210: UserWarning: \n",
      "-------------------------------------------------------------------------------\n",
      "Deprecated: convertStrings was not specified when starting the JVM. The default\n",
      "behavior in JPype will be False starting in JPype 0.8. The recommended setting\n",
      "for new code is convertStrings=False.  The legacy value of True was assumed for\n",
      "this session. If you are a user of an application that reported this warning,\n",
      "please file a ticket with the developer.\n",
      "-------------------------------------------------------------------------------\n",
      "\n",
      "  \"\"\")\n"
     ]
    }
   ],
   "source": [
    "morp = Okt()"
   ]
  },
  {
   "cell_type": "code",
   "execution_count": 68,
   "metadata": {
    "ExecuteTime": {
     "end_time": "2019-08-08T09:57:24.440276Z",
     "start_time": "2019-08-08T09:57:17.653501Z"
    }
   },
   "outputs": [
    {
     "name": "stderr",
     "output_type": "stream",
     "text": [
      "\n",
      "\n",
      "\n",
      "  0%|                                                                                         | 0/3500 [00:00<?, ?it/s]\n",
      "\n",
      "\n",
      "  1%|▉                                                                              | 44/3500 [00:00<00:07, 435.90it/s]\n",
      "\n",
      "\n",
      "  3%|██▏                                                                            | 95/3500 [00:00<00:07, 454.61it/s]\n",
      "\n",
      "\n",
      "  4%|███                                                                           | 139/3500 [00:00<00:07, 447.46it/s]\n",
      "\n",
      "\n",
      "  6%|████▍                                                                         | 200/3500 [00:00<00:06, 484.07it/s]\n",
      "\n",
      "\n",
      "  7%|█████▎                                                                        | 239/3500 [00:00<00:07, 425.52it/s]\n",
      "\n",
      "\n",
      "  8%|██████▍                                                                       | 287/3500 [00:00<00:07, 439.38it/s]\n",
      "\n",
      "\n",
      "  9%|███████▎                                                                      | 330/3500 [00:00<00:07, 433.18it/s]\n",
      "\n",
      "\n",
      " 11%|████████▋                                                                     | 388/3500 [00:00<00:06, 466.59it/s]\n",
      "\n",
      "\n",
      " 12%|█████████▋                                                                    | 434/3500 [00:00<00:06, 455.02it/s]\n",
      "\n",
      "\n",
      " 15%|███████████▌                                                                  | 519/3500 [00:01<00:05, 527.80it/s]\n",
      "\n",
      "\n",
      " 19%|██████████████▋                                                               | 657/3500 [00:01<00:04, 646.05it/s]\n",
      "\n",
      "\n",
      " 24%|██████████████████▉                                                           | 851/3500 [00:01<00:03, 806.71it/s]\n",
      "\n",
      "\n",
      " 28%|█████████████████████▌                                                        | 965/3500 [00:01<00:02, 854.57it/s]\n",
      "\n",
      "\n",
      " 33%|████████████████████████▋                                                   | 1138/3500 [00:01<00:02, 1007.40it/s]\n",
      "\n",
      "\n",
      " 36%|███████████████████████████▌                                                | 1267/3500 [00:01<00:02, 1039.34it/s]\n",
      "\n",
      "\n",
      " 40%|██████████████████████████████▏                                             | 1391/3500 [00:01<00:01, 1064.41it/s]\n",
      "\n",
      "\n",
      " 44%|█████████████████████████████████▍                                          | 1540/3500 [00:01<00:01, 1161.61it/s]\n",
      "\n",
      "\n",
      " 48%|████████████████████████████████████▋                                        | 1669/3500 [00:01<00:01, 986.22it/s]\n",
      "\n",
      "\n",
      " 51%|███████████████████████████████████████▏                                     | 1781/3500 [00:02<00:01, 891.23it/s]\n",
      "\n",
      "\n",
      " 54%|█████████████████████████████████████████▍                                   | 1882/3500 [00:02<00:02, 800.45it/s]\n",
      "\n",
      "\n",
      " 56%|███████████████████████████████████████████▍                                 | 1972/3500 [00:02<00:02, 692.42it/s]\n",
      "\n",
      "\n",
      " 59%|█████████████████████████████████████████████                                | 2051/3500 [00:02<00:02, 713.35it/s]\n",
      "\n",
      "\n",
      " 61%|██████████████████████████████████████████████▊                              | 2129/3500 [00:02<00:02, 666.57it/s]\n",
      "\n",
      "\n",
      " 63%|████████████████████████████████████████████████▍                            | 2201/3500 [00:02<00:02, 548.03it/s]\n",
      "\n",
      "\n",
      " 65%|█████████████████████████████████████████████████▊                           | 2263/3500 [00:03<00:02, 502.97it/s]\n",
      "\n",
      "\n",
      " 66%|███████████████████████████████████████████████████                          | 2320/3500 [00:03<00:02, 490.50it/s]\n",
      "\n",
      "\n",
      " 68%|████████████████████████████████████████████████████▏                        | 2374/3500 [00:03<00:02, 394.94it/s]\n",
      "\n",
      "\n",
      " 69%|█████████████████████████████████████████████████████▏                       | 2420/3500 [00:03<00:03, 351.14it/s]\n",
      "\n",
      "\n",
      " 70%|██████████████████████████████████████████████████████▏                      | 2461/3500 [00:03<00:03, 298.83it/s]\n",
      "\n",
      "\n",
      " 72%|███████████████████████████████████████████████████████▏                     | 2506/3500 [00:03<00:02, 331.63it/s]\n",
      "\n",
      "\n",
      " 73%|███████████████████████████████████████████████████████▉                     | 2544/3500 [00:03<00:03, 268.22it/s]\n",
      "\n",
      "\n",
      " 74%|█████████████████████████████████████████████████████████▏                   | 2597/3500 [00:04<00:02, 313.24it/s]\n",
      "\n",
      "\n",
      " 75%|█████████████████████████████████████████████████████████▉                   | 2635/3500 [00:04<00:02, 291.87it/s]\n",
      "\n",
      "\n",
      " 76%|██████████████████████████████████████████████████████████▋                  | 2670/3500 [00:04<00:02, 299.34it/s]\n",
      "\n",
      "\n",
      " 77%|███████████████████████████████████████████████████████████▍                 | 2704/3500 [00:04<00:02, 271.82it/s]\n",
      "\n",
      "\n",
      " 78%|████████████████████████████████████████████████████████████▏                | 2735/3500 [00:04<00:02, 266.30it/s]\n",
      "\n",
      "\n",
      " 79%|████████████████████████████████████████████████████████████▊                | 2764/3500 [00:04<00:02, 255.04it/s]\n",
      "\n",
      "\n",
      " 80%|█████████████████████████████████████████████████████████████▊               | 2809/3500 [00:04<00:02, 292.03it/s]\n",
      "\n",
      "\n",
      " 81%|██████████████████████████████████████████████████████████████▋              | 2848/3500 [00:04<00:02, 313.59it/s]\n",
      "\n",
      "\n",
      " 83%|███████████████████████████████████████████████████████████████▌             | 2889/3500 [00:05<00:01, 336.60it/s]\n",
      "\n",
      "\n",
      " 85%|█████████████████████████████████████████████████████████████████▎           | 2968/3500 [00:05<00:01, 404.16it/s]\n",
      "\n",
      "\n",
      " 86%|██████████████████████████████████████████████████████████████████▎          | 3016/3500 [00:05<00:01, 389.25it/s]\n",
      "\n",
      "\n",
      " 88%|███████████████████████████████████████████████████████████████████▍         | 3064/3500 [00:05<00:01, 408.51it/s]\n",
      "\n",
      "\n",
      " 89%|████████████████████████████████████████████████████████████████████▍        | 3109/3500 [00:05<00:00, 419.02it/s]\n",
      "\n",
      "\n",
      " 90%|█████████████████████████████████████████████████████████████████████▍       | 3154/3500 [00:05<00:00, 409.26it/s]\n",
      "\n",
      "\n",
      " 91%|██████████████████████████████████████████████████████████████████████▎      | 3197/3500 [00:05<00:00, 319.20it/s]\n",
      "\n",
      "\n",
      " 92%|███████████████████████████████████████████████████████████████████████▏     | 3234/3500 [00:06<00:01, 256.98it/s]\n",
      "\n",
      "\n",
      " 93%|███████████████████████████████████████████████████████████████████████▊     | 3265/3500 [00:06<00:00, 240.09it/s]\n",
      "\n",
      "\n",
      " 95%|████████████████████████████████████████████████████████████████████████▉    | 3317/3500 [00:06<00:00, 284.46it/s]\n",
      "\n",
      "\n",
      " 96%|██████████████████████████████████████████████████████████████████████████   | 3366/3500 [00:06<00:00, 324.83it/s]\n",
      "\n",
      "\n",
      " 97%|██████████████████████████████████████████████████████████████████████████▉  | 3405/3500 [00:06<00:00, 331.56it/s]\n",
      "\n",
      "\n",
      " 98%|███████████████████████████████████████████████████████████████████████████▋ | 3443/3500 [00:06<00:00, 337.45it/s]\n",
      "\n",
      "\n",
      " 99%|████████████████████████████████████████████████████████████████████████████▌| 3480/3500 [00:06<00:00, 336.72it/s]\n",
      "\n",
      "\n",
      "100%|█████████████████████████████████████████████████████████████████████████████| 3500/3500 [00:06<00:00, 518.46it/s]"
     ]
    }
   ],
   "source": [
    "morped = [morp.pos(_, norm=True) for _ in tqdm(datasets.chat)] # Stemming은 하지 않는다."
   ]
  },
  {
   "cell_type": "code",
   "execution_count": 69,
   "metadata": {
    "ExecuteTime": {
     "end_time": "2019-08-08T09:57:28.142163Z",
     "start_time": "2019-08-08T09:57:28.133168Z"
    }
   },
   "outputs": [
    {
     "data": {
      "text/plain": [
       "[array(['Noun', 'Noun', 'Josa', 'Noun', 'Josa', 'Noun', 'Noun', 'Josa',\n",
       "        'Noun', 'Noun', 'Suffix', 'Josa', 'Verb'], dtype='<U6'),\n",
       " array(['Noun', 'Josa', 'Noun', 'Noun', 'Noun', 'Noun', 'Adjective'],\n",
       "       dtype='<U9'),\n",
       " array(['Noun', 'Josa', 'Noun', 'Noun', 'Noun', 'Noun', 'Adjective'],\n",
       "       dtype='<U9'),\n",
       " array(['Noun', 'Noun', 'Adverb', 'Verb', 'Punctuation', 'Noun', 'Suffix',\n",
       "        'Josa', 'Noun', 'Verb', 'Adjective', 'Noun'], dtype='<U11'),\n",
       " array(['Noun', 'Josa', 'Modifier', 'Noun', 'Josa', 'Modifier', 'Noun',\n",
       "        'Adjective', 'Noun', 'Punctuation'], dtype='<U11')]"
      ]
     },
     "execution_count": 69,
     "metadata": {},
     "output_type": "execute_result"
    }
   ],
   "source": [
    "morped[:5]"
   ]
  },
  {
   "cell_type": "markdown",
   "metadata": {},
   "source": [
    "## Dictionary\n",
    "최빈 형태소에 대한 단어사전 구성"
   ]
  },
  {
   "cell_type": "code",
   "execution_count": 70,
   "metadata": {
    "ExecuteTime": {
     "end_time": "2019-08-08T09:57:44.960488Z",
     "start_time": "2019-08-08T09:57:44.664655Z"
    }
   },
   "outputs": [
    {
     "name": "stdout",
     "output_type": "stream",
     "text": [
      "고빈도 단어:\n",
      "Noun :  9975\n",
      "Josa :  2385\n",
      "Verb :  2359\n",
      "Adjective :  1111\n",
      "Suffix :  949\n",
      "Punctuation :  911\n",
      "KoreanParticle :  472\n",
      "Modifier :  263\n",
      "Adverb :  251\n",
      "Alpha :  208\n",
      "\n",
      "단어 사전:\n",
      "0 <PAD>\n",
      "1 <OOV>\n",
      "2 Noun\n",
      "3 Josa\n",
      "4 Verb\n",
      "5 Adjective\n",
      "6 Suffix\n",
      "7 Punctuation\n",
      "8 KoreanParticle\n",
      "9 Modifier\n",
      "\n",
      "단어 사전 크기:  20\n"
     ]
    }
   ],
   "source": [
    "vocab_size = 5000\n",
    "\n",
    "pad_id = 0\n",
    "oov_id = 1\n",
    "index_offset = 1\n",
    "\n",
    "def make_vocab(sentences):\n",
    "    word_counter = Counter()\n",
    "\n",
    "    for sent in sentences:\n",
    "        word_counter.update(sent)\n",
    "\n",
    "    most_common = word_counter.most_common()\n",
    "    print(\"고빈도 단어:\")\n",
    "    for k, v in most_common[:10]:\n",
    "        print(k, \": \", v)\n",
    "\n",
    "        vocab = {\n",
    "        '<PAD>': pad_id,\n",
    "        '<OOV>': oov_id\n",
    "        }\n",
    "    for i, (word, cnt) in enumerate(most_common, start=index_offset+1):\n",
    "        vocab[word] = i\n",
    "        if len(vocab) >= vocab_size:\n",
    "            break\n",
    "\n",
    "    return vocab\n",
    "\n",
    "word_index = make_vocab(morped)\n",
    "word_inverted_index = {v:k for k, v in word_index.items()}\n",
    "\n",
    "print(\"\\n단어 사전:\")\n",
    "for i in range(0, 10):\n",
    "    print(i, word_inverted_index[i])\n",
    "\n",
    "print(\"\\n단어 사전 크기: \", len(word_index))\n",
    "\n",
    "# vocab save\n",
    "with open('./vocab/vocab_index.pickle', 'wb') as f:\n",
    "    pickle.dump(word_index, f, pickle.HIGHEST_PROTOCOL)\n",
    "with open('./vocab/vocab_inverted_index.pickle', 'wb') as f:\n",
    "    pickle.dump(word_inverted_index, f, pickle.HIGHEST_PROTOCOL)"
   ]
  },
  {
   "cell_type": "code",
   "execution_count": 71,
   "metadata": {
    "ExecuteTime": {
     "end_time": "2019-08-08T09:57:50.719830Z",
     "start_time": "2019-08-08T09:57:50.688850Z"
    }
   },
   "outputs": [
    {
     "name": "stdout",
     "output_type": "stream",
     "text": [
      "원본:  ['Noun' 'Noun' 'Josa' 'Noun' 'Josa' 'Noun' 'Noun' 'Josa' 'Noun' 'Noun'\n",
      " 'Suffix' 'Josa' 'Verb']\n",
      "문자 -> 숫자:  [2, 2, 3, 2, 3, 2, 2, 3, 2, 2, 6, 3, 4]\n",
      "숫자 -> 문자:  Noun Noun Josa Noun Josa Noun Noun Josa Noun Noun Suffix Josa Verb\n"
     ]
    }
   ],
   "source": [
    "def index_to_text(indexes):\n",
    "    return ' '.join([word_inverted_index[i] for i in indexes])\n",
    "\n",
    "def text_to_index(tokens):\n",
    "    indexes = []\n",
    "    for tok in tokens:\n",
    "        if tok in word_index:\n",
    "            indexes.append(word_index[tok])\n",
    "        else:\n",
    "            indexes.append(oov_id)\n",
    "\n",
    "    return indexes\n",
    "\n",
    "print(\"원본: \", morped[0])\n",
    "ids = text_to_index(morped[0])\n",
    "print(\"문자 -> 숫자: \", ids)\n",
    "print(\"숫자 -> 문자: \", index_to_text(ids))"
   ]
  },
  {
   "cell_type": "markdown",
   "metadata": {},
   "source": [
    "# Padding"
   ]
  },
  {
   "cell_type": "code",
   "execution_count": 72,
   "metadata": {
    "ExecuteTime": {
     "end_time": "2019-08-08T09:58:07.784418Z",
     "start_time": "2019-08-08T09:58:07.670467Z"
    }
   },
   "outputs": [],
   "source": [
    "x_variable = [text_to_index(_) for _ in morped]\n",
    "\n",
    "sentence_size = 20\n",
    "x_padded = sequence.pad_sequences(x_variable,\n",
    "                                 maxlen=sentence_size,\n",
    "                                 truncating='post',\n",
    "                                 padding='post',\n",
    "                                 value=pad_id)"
   ]
  },
  {
   "cell_type": "markdown",
   "metadata": {},
   "source": [
    "# Data Split"
   ]
  },
  {
   "cell_type": "code",
   "execution_count": 73,
   "metadata": {
    "ExecuteTime": {
     "end_time": "2019-08-08T09:58:09.199647Z",
     "start_time": "2019-08-08T09:58:09.166669Z"
    }
   },
   "outputs": [
    {
     "name": "stdout",
     "output_type": "stream",
     "text": [
      "train_inputs shape:  (2625, 20)\n",
      "test_inputs shape:  (875, 20)\n",
      "train_labels shape:  (2625,)\n",
      "test_labels shape:  (875,)\n"
     ]
    }
   ],
   "source": [
    "X_train, X_test, y_train, y_test = train_test_split(x_padded, datasets.label)\n",
    "\n",
    "print(\"train_inputs shape: \", X_train.shape)\n",
    "print(\"test_inputs shape: \", X_test.shape)\n",
    "print(\"train_labels shape: \", y_train.shape)\n",
    "print(\"test_labels shape: \", y_test.shape)"
   ]
  },
  {
   "cell_type": "markdown",
   "metadata": {},
   "source": [
    "# Model"
   ]
  },
  {
   "cell_type": "code",
   "execution_count": 74,
   "metadata": {
    "ExecuteTime": {
     "end_time": "2019-08-08T09:58:11.183136Z",
     "start_time": "2019-08-08T09:58:11.177139Z"
    }
   },
   "outputs": [],
   "source": [
    "import warnings\n",
    "warnings.filterwarnings(action='once')"
   ]
  },
  {
   "cell_type": "code",
   "execution_count": 20,
   "metadata": {
    "ExecuteTime": {
     "end_time": "2019-08-08T09:47:38.008796Z",
     "start_time": "2019-08-08T09:47:37.628467Z"
    }
   },
   "outputs": [
    {
     "data": {
      "text/plain": [
       "{0}"
      ]
     },
     "execution_count": 20,
     "metadata": {},
     "output_type": "execute_result"
    }
   ],
   "source": [
    "set(model.predict_classes(X_test)) ## 전부 0으로 예측을 함 . 데이터 불균형 문제때문"
   ]
  },
  {
   "cell_type": "markdown",
   "metadata": {},
   "source": [
    "\n",
    "# 데이터 클래스 불균형 문제 해결하자"
   ]
  },
  {
   "cell_type": "code",
   "execution_count": 75,
   "metadata": {
    "ExecuteTime": {
     "end_time": "2019-08-08T09:58:22.868698Z",
     "start_time": "2019-08-08T09:58:22.862702Z"
    }
   },
   "outputs": [],
   "source": [
    "from imblearn.under_sampling import RandomUnderSampler\n",
    "from imblearn.over_sampling import RandomOverSampler"
   ]
  },
  {
   "cell_type": "markdown",
   "metadata": {},
   "source": [
    "## upsampling\n",
    "- 딥러닝은 데이터가 많을수록 좋다.\n",
    "- 보다 많은 데이터 사용을 위해 upsampling을 사용하자!"
   ]
  },
  {
   "cell_type": "code",
   "execution_count": 82,
   "metadata": {
    "ExecuteTime": {
     "end_time": "2019-08-08T10:23:16.753152Z",
     "start_time": "2019-08-08T10:23:16.731167Z"
    }
   },
   "outputs": [
    {
     "data": {
      "text/plain": [
       "(6026, 3013)"
      ]
     },
     "execution_count": 82,
     "metadata": {},
     "output_type": "execute_result"
    }
   ],
   "source": [
    "up_X, up_y = RandomOverSampler().fit_resample(x_padded, datasets.label)\n",
    "up_X_train, up_X_test, up_y_train, up_y_test = train_test_split(up_X, up_y)\n",
    "\n",
    "# 총 데이터 수 , 1 레이블 데이터 수\n",
    "len(up_y), up_y.sum()"
   ]
  },
  {
   "cell_type": "code",
   "execution_count": 78,
   "metadata": {
    "ExecuteTime": {
     "end_time": "2019-08-08T09:58:43.925638Z",
     "start_time": "2019-08-08T09:58:28.343695Z"
    }
   },
   "outputs": [
    {
     "name": "stderr",
     "output_type": "stream",
     "text": [
      "C:\\Users\\skarn\\Anaconda3\\envs\\DataAnalysis\\lib\\site-packages\\numpy\\lib\\type_check.py:546: DeprecationWarning: np.asscalar(a) is deprecated since NumPy v1.16, use a.item() instead\n",
      "  'a.item() instead', DeprecationWarning, stacklevel=1)\n"
     ]
    },
    {
     "name": "stdout",
     "output_type": "stream",
     "text": [
      "Train on 4519 samples, validate on 1507 samples\n",
      "Epoch 1/5\n",
      "4519/4519 [==============================] - ETA: 3:50 - loss: 5.2306 - acc: 0.500 - ETA: 46s - loss: 4.6302 - acc: 0.475 - ETA: 25s - loss: 4.3251 - acc: 0.47 - ETA: 16s - loss: 4.1332 - acc: 0.45 - ETA: 13s - loss: 3.8664 - acc: 0.46 - ETA: 10s - loss: 3.5429 - acc: 0.47 - ETA: 8s - loss: 3.1669 - acc: 0.4651 - ETA: 7s - loss: 2.8620 - acc: 0.466 - ETA: 6s - loss: 2.7262 - acc: 0.455 - ETA: 5s - loss: 2.5758 - acc: 0.452 - ETA: 5s - loss: 2.4391 - acc: 0.449 - ETA: 4s - loss: 2.3140 - acc: 0.443 - ETA: 4s - loss: 2.2139 - acc: 0.441 - ETA: 3s - loss: 2.1349 - acc: 0.438 - ETA: 3s - loss: 2.0611 - acc: 0.436 - ETA: 2s - loss: 1.9698 - acc: 0.438 - ETA: 2s - loss: 1.9134 - acc: 0.435 - ETA: 2s - loss: 1.8507 - acc: 0.438 - ETA: 2s - loss: 1.7856 - acc: 0.439 - ETA: 2s - loss: 1.7359 - acc: 0.443 - ETA: 1s - loss: 1.6914 - acc: 0.443 - ETA: 1s - loss: 1.6592 - acc: 0.446 - ETA: 1s - loss: 1.6181 - acc: 0.450 - ETA: 1s - loss: 1.5827 - acc: 0.450 - ETA: 1s - loss: 1.5655 - acc: 0.453 - ETA: 1s - loss: 1.5265 - acc: 0.454 - ETA: 0s - loss: 1.4951 - acc: 0.459 - ETA: 0s - loss: 1.4599 - acc: 0.463 - ETA: 0s - loss: 1.4345 - acc: 0.468 - ETA: 0s - loss: 1.4096 - acc: 0.472 - ETA: 0s - loss: 1.3820 - acc: 0.477 - ETA: 0s - loss: 1.3566 - acc: 0.482 - ETA: 0s - loss: 1.3446 - acc: 0.484 - ETA: 0s - loss: 1.3258 - acc: 0.489 - ETA: 0s - loss: 1.3068 - acc: 0.493 - 4s 913us/sample - loss: 1.3063 - acc: 0.4930 - val_loss: 0.6849 - val_acc: 0.6510\n",
      "Epoch 2/5\n",
      "4519/4519 [==============================] - ETA: 1s - loss: 0.6232 - acc: 0.734 - ETA: 1s - loss: 0.6791 - acc: 0.649 - ETA: 1s - loss: 0.6851 - acc: 0.638 - ETA: 1s - loss: 0.6755 - acc: 0.651 - ETA: 1s - loss: 0.6733 - acc: 0.651 - ETA: 1s - loss: 0.6706 - acc: 0.654 - ETA: 1s - loss: 0.6717 - acc: 0.649 - ETA: 1s - loss: 0.6700 - acc: 0.650 - ETA: 1s - loss: 0.6693 - acc: 0.649 - ETA: 1s - loss: 0.6682 - acc: 0.651 - ETA: 0s - loss: 0.6689 - acc: 0.648 - ETA: 0s - loss: 0.6685 - acc: 0.648 - ETA: 0s - loss: 0.6656 - acc: 0.652 - ETA: 0s - loss: 0.6664 - acc: 0.653 - ETA: 0s - loss: 0.6601 - acc: 0.661 - ETA: 0s - loss: 0.6611 - acc: 0.659 - ETA: 0s - loss: 0.6589 - acc: 0.662 - ETA: 0s - loss: 0.6575 - acc: 0.664 - ETA: 0s - loss: 0.6572 - acc: 0.663 - ETA: 0s - loss: 0.6546 - acc: 0.666 - ETA: 0s - loss: 0.6559 - acc: 0.662 - ETA: 0s - loss: 0.6547 - acc: 0.664 - ETA: 0s - loss: 0.6564 - acc: 0.659 - ETA: 0s - loss: 0.6557 - acc: 0.659 - ETA: 0s - loss: 0.6554 - acc: 0.660 - ETA: 0s - loss: 0.6543 - acc: 0.661 - ETA: 0s - loss: 0.6547 - acc: 0.660 - ETA: 0s - loss: 0.6522 - acc: 0.663 - ETA: 0s - loss: 0.6518 - acc: 0.663 - ETA: 0s - loss: 0.6526 - acc: 0.663 - 2s 399us/sample - loss: 0.6528 - acc: 0.6628 - val_loss: 0.6086 - val_acc: 0.7170\n",
      "Epoch 3/5\n",
      "4519/4519 [==============================] - ETA: 1s - loss: 0.5857 - acc: 0.609 - ETA: 1s - loss: 0.5976 - acc: 0.734 - ETA: 1s - loss: 0.6078 - acc: 0.718 - ETA: 1s - loss: 0.6221 - acc: 0.698 - ETA: 1s - loss: 0.6187 - acc: 0.697 - ETA: 1s - loss: 0.6152 - acc: 0.705 - ETA: 1s - loss: 0.6166 - acc: 0.708 - ETA: 1s - loss: 0.6116 - acc: 0.711 - ETA: 1s - loss: 0.6098 - acc: 0.712 - ETA: 1s - loss: 0.6108 - acc: 0.711 - ETA: 1s - loss: 0.6138 - acc: 0.707 - ETA: 1s - loss: 0.6186 - acc: 0.701 - ETA: 1s - loss: 0.6162 - acc: 0.704 - ETA: 0s - loss: 0.6126 - acc: 0.706 - ETA: 0s - loss: 0.6136 - acc: 0.702 - ETA: 0s - loss: 0.6126 - acc: 0.702 - ETA: 0s - loss: 0.6125 - acc: 0.702 - ETA: 0s - loss: 0.6115 - acc: 0.706 - ETA: 0s - loss: 0.6095 - acc: 0.706 - ETA: 0s - loss: 0.6103 - acc: 0.706 - ETA: 0s - loss: 0.6101 - acc: 0.705 - ETA: 0s - loss: 0.6079 - acc: 0.708 - ETA: 0s - loss: 0.6076 - acc: 0.708 - ETA: 0s - loss: 0.6080 - acc: 0.708 - ETA: 0s - loss: 0.6080 - acc: 0.707 - ETA: 0s - loss: 0.6073 - acc: 0.709 - ETA: 0s - loss: 0.6077 - acc: 0.709 - ETA: 0s - loss: 0.6058 - acc: 0.709 - ETA: 0s - loss: 0.6043 - acc: 0.711 - ETA: 0s - loss: 0.6037 - acc: 0.711 - ETA: 0s - loss: 0.6031 - acc: 0.710 - 2s 420us/sample - loss: 0.6011 - acc: 0.7123 - val_loss: 0.5718 - val_acc: 0.7359\n",
      "Epoch 4/5\n",
      "4519/4519 [==============================] - ETA: 1s - loss: 0.6003 - acc: 0.718 - ETA: 2s - loss: 0.6220 - acc: 0.668 - ETA: 1s - loss: 0.6021 - acc: 0.694 - ETA: 1s - loss: 0.5942 - acc: 0.712 - ETA: 1s - loss: 0.5833 - acc: 0.714 - ETA: 1s - loss: 0.5780 - acc: 0.718 - ETA: 1s - loss: 0.5837 - acc: 0.711 - ETA: 1s - loss: 0.5799 - acc: 0.716 - ETA: 1s - loss: 0.5759 - acc: 0.717 - ETA: 1s - loss: 0.5756 - acc: 0.718 - ETA: 1s - loss: 0.5791 - acc: 0.715 - ETA: 1s - loss: 0.5812 - acc: 0.710 - ETA: 1s - loss: 0.5801 - acc: 0.710 - ETA: 0s - loss: 0.5789 - acc: 0.710 - ETA: 0s - loss: 0.5802 - acc: 0.708 - ETA: 0s - loss: 0.5825 - acc: 0.709 - ETA: 0s - loss: 0.5827 - acc: 0.708 - ETA: 0s - loss: 0.5818 - acc: 0.711 - ETA: 0s - loss: 0.5831 - acc: 0.711 - ETA: 0s - loss: 0.5815 - acc: 0.712 - ETA: 0s - loss: 0.5824 - acc: 0.712 - ETA: 0s - loss: 0.5837 - acc: 0.709 - ETA: 0s - loss: 0.5835 - acc: 0.709 - ETA: 0s - loss: 0.5822 - acc: 0.710 - ETA: 0s - loss: 0.5822 - acc: 0.709 - ETA: 0s - loss: 0.5822 - acc: 0.709 - ETA: 0s - loss: 0.5791 - acc: 0.713 - ETA: 0s - loss: 0.5789 - acc: 0.714 - ETA: 0s - loss: 0.5787 - acc: 0.714 - ETA: 0s - loss: 0.5766 - acc: 0.716 - ETA: 0s - loss: 0.5750 - acc: 0.718 - 2s 424us/sample - loss: 0.5751 - acc: 0.7202 - val_loss: 0.5506 - val_acc: 0.7502\n",
      "Epoch 5/5\n",
      "4519/4519 [==============================] - ETA: 1s - loss: 0.5437 - acc: 0.703 - ETA: 1s - loss: 0.6062 - acc: 0.662 - ETA: 1s - loss: 0.5823 - acc: 0.679 - ETA: 1s - loss: 0.5707 - acc: 0.690 - ETA: 1s - loss: 0.5777 - acc: 0.690 - ETA: 1s - loss: 0.5736 - acc: 0.699 - ETA: 1s - loss: 0.5714 - acc: 0.706 - ETA: 1s - loss: 0.5746 - acc: 0.704 - ETA: 1s - loss: 0.5750 - acc: 0.706 - ETA: 1s - loss: 0.5788 - acc: 0.705 - ETA: 1s - loss: 0.5760 - acc: 0.708 - ETA: 1s - loss: 0.5737 - acc: 0.711 - ETA: 1s - loss: 0.5730 - acc: 0.715 - ETA: 0s - loss: 0.5789 - acc: 0.708 - ETA: 0s - loss: 0.5775 - acc: 0.707 - ETA: 0s - loss: 0.5783 - acc: 0.705 - ETA: 0s - loss: 0.5767 - acc: 0.706 - ETA: 0s - loss: 0.5778 - acc: 0.704 - ETA: 0s - loss: 0.5748 - acc: 0.707 - ETA: 0s - loss: 0.5769 - acc: 0.703 - ETA: 0s - loss: 0.5750 - acc: 0.707 - ETA: 0s - loss: 0.5755 - acc: 0.707 - ETA: 0s - loss: 0.5761 - acc: 0.707 - ETA: 0s - loss: 0.5720 - acc: 0.711 - ETA: 0s - loss: 0.5701 - acc: 0.713 - ETA: 0s - loss: 0.5681 - acc: 0.714 - ETA: 0s - loss: 0.5663 - acc: 0.715 - ETA: 0s - loss: 0.5646 - acc: 0.717 - ETA: 0s - loss: 0.5649 - acc: 0.715 - ETA: 0s - loss: 0.5630 - acc: 0.717 - 2s 392us/sample - loss: 0.5621 - acc: 0.7180 - val_loss: 0.5358 - val_acc: 0.7402\n",
      "1507/1507 [==============================] - ETA: 0s - loss: 0.5975 - acc: 0.718 - ETA: 0s - loss: 0.5428 - acc: 0.734 - ETA: 0s - loss: 0.5357 - acc: 0.736 - ETA: 0s - loss: 0.5347 - acc: 0.739 - 0s 129us/sample - loss: 0.5358 - acc: 0.7402\n",
      "Test accuracy: 0.7402123\n"
     ]
    },
    {
     "data": {
      "image/png": "[encoded data removed]",
      "text/plain": [
       "<Figure size 432x360 with 1 Axes>"
      ]
     },
     "metadata": {
      "needs_background": "light"
     },
     "output_type": "display_data"
    }
   ],
   "source": [
    "model.compile(optimizer='adam', \n",
    "              loss='binary_crossentropy',\n",
    "              metrics=['accuracy'])\n",
    "\n",
    "history = model.fit(up_X_train,\n",
    "          pd.get_dummies(up_y_train),\n",
    "          epochs=5,\n",
    "          validation_data=(up_X_test, pd.get_dummies(up_y_test))\n",
    "         )\n",
    "plot_loss(history)\n",
    "test_loss, test_acc = model.evaluate(up_X_test, pd.get_dummies(up_y_test))\n",
    "print('Test accuracy:', test_acc)"
   ]
  },
  {
   "cell_type": "code",
   "execution_count": 81,
   "metadata": {
    "ExecuteTime": {
     "end_time": "2019-08-08T09:59:10.643829Z",
     "start_time": "2019-08-08T09:59:10.337994Z"
    }
   },
   "outputs": [
    {
     "name": "stdout",
     "output_type": "stream",
     "text": [
      "전체채팅수1507, 유해채팅수785\n"
     ]
    }
   ],
   "source": [
    "result = pd.DataFrame(np.apply_along_axis(index_to_text, 1, up_X_test))\n",
    "result['predict'] = model.predict_proba(up_X_test)[:,1] # 유해하다고 판별할 확률\n",
    "print('전체채팅수{}, 유해채팅수{}'.format(len(result),len(result[result.predict>0.5])))\n",
    "result[result.predict>0.5].head(10)\n",
    "result['label'] = up_y_test"
   ]
  },
  {
   "cell_type": "code",
   "execution_count": 80,
   "metadata": {
    "ExecuteTime": {
     "end_time": "2019-08-08T09:58:51.048554Z",
     "start_time": "2019-08-08T09:58:50.942613Z"
    }
   },
   "outputs": [],
   "source": [
    "result.to_csv('../../data/cnn_result.csv', encoding='utf-16')"
   ]
  },
  {
   "cell_type": "markdown",
   "metadata": {},
   "source": [
    "## 분류 애매한 채팅들"
   ]
  },
  {
   "cell_type": "code",
   "execution_count": 28,
   "metadata": {
    "ExecuteTime": {
     "end_time": "2019-08-08T09:48:23.685697Z",
     "start_time": "2019-08-08T09:48:23.653715Z"
    }
   },
   "outputs": [
    {
     "data": {
      "text/html": [
       "<div>\n",
       "<style scoped>\n",
       "    .dataframe tbody tr th:only-of-type {\n",
       "        vertical-align: middle;\n",
       "    }\n",
       "\n",
       "    .dataframe tbody tr th {\n",
       "        vertical-align: top;\n",
       "    }\n",
       "\n",
       "    .dataframe thead th {\n",
       "        text-align: right;\n",
       "    }\n",
       "</style>\n",
       "<table border=\"1\" class=\"dataframe\">\n",
       "  <thead>\n",
       "    <tr style=\"text-align: right;\">\n",
       "      <th></th>\n",
       "      <th>0</th>\n",
       "      <th>predict</th>\n",
       "      <th>label</th>\n",
       "    </tr>\n",
       "  </thead>\n",
       "  <tbody>\n",
       "    <tr>\n",
       "      <th>19</th>\n",
       "      <td>아 괜찮아 &lt;PAD&gt; &lt;PAD&gt; &lt;PAD&gt; &lt;PAD&gt; &lt;PAD&gt; &lt;PAD&gt; &lt;PAD...</td>\n",
       "      <td>0.566612</td>\n",
       "      <td>0</td>\n",
       "    </tr>\n",
       "    <tr>\n",
       "      <th>48</th>\n",
       "      <td>몰라서 물어보는건데 &lt;PAD&gt; &lt;PAD&gt; &lt;PAD&gt; &lt;PAD&gt; &lt;PAD&gt; &lt;PAD&gt;...</td>\n",
       "      <td>0.350775</td>\n",
       "      <td>0</td>\n",
       "    </tr>\n",
       "    <tr>\n",
       "      <th>208</th>\n",
       "      <td>톰크루즈 비하 해명 좀 &lt;PAD&gt; &lt;PAD&gt; &lt;PAD&gt; &lt;PAD&gt; &lt;PAD&gt; &lt;PA...</td>\n",
       "      <td>0.497207</td>\n",
       "      <td>0</td>\n",
       "    </tr>\n",
       "    <tr>\n",
       "      <th>269</th>\n",
       "      <td>시작 을 모 다 네 &lt;PAD&gt; &lt;PAD&gt; &lt;PAD&gt; &lt;PAD&gt; &lt;PAD&gt; &lt;PAD&gt;...</td>\n",
       "      <td>0.415922</td>\n",
       "      <td>0</td>\n",
       "    </tr>\n",
       "    <tr>\n",
       "      <th>288</th>\n",
       "      <td>빨리 하라 고 &lt;PAD&gt; &lt;PAD&gt; &lt;PAD&gt; &lt;PAD&gt; &lt;PAD&gt; &lt;PAD&gt; &lt;P...</td>\n",
       "      <td>0.533339</td>\n",
       "      <td>0</td>\n",
       "    </tr>\n",
       "    <tr>\n",
       "      <th>584</th>\n",
       "      <td>찔려서 웃기 만 함 &lt;PAD&gt; &lt;PAD&gt; &lt;PAD&gt; &lt;PAD&gt; &lt;PAD&gt; &lt;PAD&gt;...</td>\n",
       "      <td>0.430002</td>\n",
       "      <td>0</td>\n",
       "    </tr>\n",
       "    <tr>\n",
       "      <th>682</th>\n",
       "      <td>브베 브베 &lt;PAD&gt; &lt;PAD&gt; &lt;PAD&gt; &lt;PAD&gt; &lt;PAD&gt; &lt;PAD&gt; &lt;PAD...</td>\n",
       "      <td>0.300474</td>\n",
       "      <td>0</td>\n",
       "    </tr>\n",
       "    <tr>\n",
       "      <th>717</th>\n",
       "      <td>비제 이 아닌 뎅 &lt;PAD&gt; &lt;PAD&gt; &lt;PAD&gt; &lt;PAD&gt; &lt;PAD&gt; &lt;PAD&gt; ...</td>\n",
       "      <td>0.579940</td>\n",
       "      <td>0</td>\n",
       "    </tr>\n",
       "    <tr>\n",
       "      <th>786</th>\n",
       "      <td>어허 그런 말 하면 안 돼 ㅋㅋㅋ &lt;PAD&gt; &lt;PAD&gt; &lt;PAD&gt; &lt;PAD&gt; &lt;PA...</td>\n",
       "      <td>0.599167</td>\n",
       "      <td>0</td>\n",
       "    </tr>\n",
       "    <tr>\n",
       "      <th>850</th>\n",
       "      <td>아이작 이 스트리머 에 의해 치킨 이 되어 버렸습니다 . ! &lt;PAD&gt; &lt;PAD&gt; ...</td>\n",
       "      <td>0.395237</td>\n",
       "      <td>0</td>\n",
       "    </tr>\n",
       "    <tr>\n",
       "      <th>960</th>\n",
       "      <td>뭘 그 랫 어 야 &lt;PAD&gt; &lt;PAD&gt; &lt;PAD&gt; &lt;PAD&gt; &lt;PAD&gt; &lt;PAD&gt; ...</td>\n",
       "      <td>0.311594</td>\n",
       "      <td>0</td>\n",
       "    </tr>\n",
       "    <tr>\n",
       "      <th>966</th>\n",
       "      <td>시작 부터 광고 냐 &lt;PAD&gt; &lt;PAD&gt; &lt;PAD&gt; &lt;PAD&gt; &lt;PAD&gt; &lt;PAD&gt;...</td>\n",
       "      <td>0.468367</td>\n",
       "      <td>0</td>\n",
       "    </tr>\n",
       "    <tr>\n",
       "      <th>979</th>\n",
       "      <td>사실 임 &lt;PAD&gt; &lt;PAD&gt; &lt;PAD&gt; &lt;PAD&gt; &lt;PAD&gt; &lt;PAD&gt; &lt;PAD&gt;...</td>\n",
       "      <td>0.533600</td>\n",
       "      <td>0</td>\n",
       "    </tr>\n",
       "    <tr>\n",
       "      <th>1024</th>\n",
       "      <td>그래 브베 야 너 도 스폰 을 받아야지 언제 까지 레베 ㅋㅏ 스폰 만 할꺼야 &lt;PA...</td>\n",
       "      <td>0.592684</td>\n",
       "      <td>0</td>\n",
       "    </tr>\n",
       "    <tr>\n",
       "      <th>1218</th>\n",
       "      <td>아이작 확장 판 재밌냐 &lt;PAD&gt; &lt;PAD&gt; &lt;PAD&gt; &lt;PAD&gt; &lt;PAD&gt; &lt;PA...</td>\n",
       "      <td>0.364595</td>\n",
       "      <td>0</td>\n",
       "    </tr>\n",
       "    <tr>\n",
       "      <th>1474</th>\n",
       "      <td>오늘 레베카 결근 이라고 하네요 &lt;PAD&gt; &lt;PAD&gt; &lt;PAD&gt; &lt;PAD&gt; &lt;PAD...</td>\n",
       "      <td>0.553380</td>\n",
       "      <td>0</td>\n",
       "    </tr>\n",
       "  </tbody>\n",
       "</table>\n",
       "</div>"
      ],
      "text/plain": [
       "                                                      0   predict  label\n",
       "19    아 괜찮아 <PAD> <PAD> <PAD> <PAD> <PAD> <PAD> <PAD...  0.566612      0\n",
       "48    몰라서 물어보는건데 <PAD> <PAD> <PAD> <PAD> <PAD> <PAD>...  0.350775      0\n",
       "208   톰크루즈 비하 해명 좀 <PAD> <PAD> <PAD> <PAD> <PAD> <PA...  0.497207      0\n",
       "269   시작 을 모 다 네 <PAD> <PAD> <PAD> <PAD> <PAD> <PAD>...  0.415922      0\n",
       "288   빨리 하라 고 <PAD> <PAD> <PAD> <PAD> <PAD> <PAD> <P...  0.533339      0\n",
       "584   찔려서 웃기 만 함 <PAD> <PAD> <PAD> <PAD> <PAD> <PAD>...  0.430002      0\n",
       "682   브베 브베 <PAD> <PAD> <PAD> <PAD> <PAD> <PAD> <PAD...  0.300474      0\n",
       "717   비제 이 아닌 뎅 <PAD> <PAD> <PAD> <PAD> <PAD> <PAD> ...  0.579940      0\n",
       "786   어허 그런 말 하면 안 돼 ㅋㅋㅋ <PAD> <PAD> <PAD> <PAD> <PA...  0.599167      0\n",
       "850   아이작 이 스트리머 에 의해 치킨 이 되어 버렸습니다 . ! <PAD> <PAD> ...  0.395237      0\n",
       "960   뭘 그 랫 어 야 <PAD> <PAD> <PAD> <PAD> <PAD> <PAD> ...  0.311594      0\n",
       "966   시작 부터 광고 냐 <PAD> <PAD> <PAD> <PAD> <PAD> <PAD>...  0.468367      0\n",
       "979   사실 임 <PAD> <PAD> <PAD> <PAD> <PAD> <PAD> <PAD>...  0.533600      0\n",
       "1024  그래 브베 야 너 도 스폰 을 받아야지 언제 까지 레베 ㅋㅏ 스폰 만 할꺼야 <PA...  0.592684      0\n",
       "1218  아이작 확장 판 재밌냐 <PAD> <PAD> <PAD> <PAD> <PAD> <PA...  0.364595      0\n",
       "1474  오늘 레베카 결근 이라고 하네요 <PAD> <PAD> <PAD> <PAD> <PAD...  0.553380      0"
      ]
     },
     "execution_count": 28,
     "metadata": {},
     "output_type": "execute_result"
    }
   ],
   "source": [
    "result[(result.predict>0.3) & (result.predict<0.6)]"
   ]
  },
  {
   "cell_type": "markdown",
   "metadata": {},
   "source": [
    "### 예측 실패한 채팅들"
   ]
  },
  {
   "cell_type": "code",
   "execution_count": 29,
   "metadata": {
    "ExecuteTime": {
     "end_time": "2019-08-08T09:48:49.712822Z",
     "start_time": "2019-08-08T09:48:49.572891Z"
    }
   },
   "outputs": [
    {
     "data": {
      "text/html": [
       "<div>\n",
       "<style scoped>\n",
       "    .dataframe tbody tr th:only-of-type {\n",
       "        vertical-align: middle;\n",
       "    }\n",
       "\n",
       "    .dataframe tbody tr th {\n",
       "        vertical-align: top;\n",
       "    }\n",
       "\n",
       "    .dataframe thead th {\n",
       "        text-align: right;\n",
       "    }\n",
       "</style>\n",
       "<table border=\"1\" class=\"dataframe\">\n",
       "  <thead>\n",
       "    <tr style=\"text-align: right;\">\n",
       "      <th></th>\n",
       "      <th>0</th>\n",
       "      <th>predict</th>\n",
       "      <th>label</th>\n",
       "    </tr>\n",
       "  </thead>\n",
       "  <tbody>\n",
       "    <tr>\n",
       "      <th>19</th>\n",
       "      <td>아 괜찮아 &lt;PAD&gt; &lt;PAD&gt; &lt;PAD&gt; &lt;PAD&gt; &lt;PAD&gt; &lt;PAD&gt; &lt;PAD...</td>\n",
       "      <td>0.566612</td>\n",
       "      <td>0</td>\n",
       "    </tr>\n",
       "    <tr>\n",
       "      <th>52</th>\n",
       "      <td>브베 야 게임 하지말고 자살 하자 &lt;PAD&gt; &lt;PAD&gt; &lt;PAD&gt; &lt;PAD&gt; &lt;PA...</td>\n",
       "      <td>0.841812</td>\n",
       "      <td>0</td>\n",
       "    </tr>\n",
       "    <tr>\n",
       "      <th>129</th>\n",
       "      <td>HE LOVE Pillow He LOVE pillow He LOVE pillow H...</td>\n",
       "      <td>0.999478</td>\n",
       "      <td>0</td>\n",
       "    </tr>\n",
       "    <tr>\n",
       "      <th>196</th>\n",
       "      <td>매력 쏜 님 앵 냥 ~ &lt;PAD&gt; &lt;PAD&gt; &lt;PAD&gt; &lt;PAD&gt; &lt;PAD&gt; &lt;PA...</td>\n",
       "      <td>0.993764</td>\n",
       "      <td>0</td>\n",
       "    </tr>\n",
       "    <tr>\n",
       "      <th>198</th>\n",
       "      <td>진짜 톰크루즈 인지 아 나 ㅄ 이 &lt;PAD&gt; &lt;PAD&gt; &lt;PAD&gt; &lt;PAD&gt; &lt;PA...</td>\n",
       "      <td>0.993042</td>\n",
       "      <td>0</td>\n",
       "    </tr>\n",
       "    <tr>\n",
       "      <th>232</th>\n",
       "      <td>나 브 사모 아닌데 &lt;PAD&gt; &lt;PAD&gt; &lt;PAD&gt; &lt;PAD&gt; &lt;PAD&gt; &lt;PAD&gt;...</td>\n",
       "      <td>0.999526</td>\n",
       "      <td>0</td>\n",
       "    </tr>\n",
       "    <tr>\n",
       "      <th>260</th>\n",
       "      <td>노래 끄라 했다 시 ㅂ 발 진짜 &lt;PAD&gt; &lt;PAD&gt; &lt;PAD&gt; &lt;PAD&gt; &lt;PAD...</td>\n",
       "      <td>0.973653</td>\n",
       "      <td>0</td>\n",
       "    </tr>\n",
       "    <tr>\n",
       "      <th>288</th>\n",
       "      <td>빨리 하라 고 &lt;PAD&gt; &lt;PAD&gt; &lt;PAD&gt; &lt;PAD&gt; &lt;PAD&gt; &lt;PAD&gt; &lt;P...</td>\n",
       "      <td>0.533339</td>\n",
       "      <td>0</td>\n",
       "    </tr>\n",
       "    <tr>\n",
       "      <th>337</th>\n",
       "      <td>아니 무슨 교육과정 을 통 으로 스킵 했나 밀 리언 을 모르냐 밀 리언 을 ㅋㅋㅋ ...</td>\n",
       "      <td>0.710171</td>\n",
       "      <td>0</td>\n",
       "    </tr>\n",
       "    <tr>\n",
       "      <th>393</th>\n",
       "      <td>브베 형 JYP 연습생 진짜 야 ? &lt;PAD&gt; &lt;PAD&gt; &lt;PAD&gt; &lt;PAD&gt; &lt;P...</td>\n",
       "      <td>0.954319</td>\n",
       "      <td>0</td>\n",
       "    </tr>\n",
       "    <tr>\n",
       "      <th>398</th>\n",
       "      <td>아 별 게 다 힘드네 &lt;PAD&gt; &lt;PAD&gt; &lt;PAD&gt; &lt;PAD&gt; &lt;PAD&gt; &lt;PAD...</td>\n",
       "      <td>0.696588</td>\n",
       "      <td>0</td>\n",
       "    </tr>\n",
       "    <tr>\n",
       "      <th>557</th>\n",
       "      <td>야 브베 야 &lt;PAD&gt; &lt;PAD&gt; &lt;PAD&gt; &lt;PAD&gt; &lt;PAD&gt; &lt;PAD&gt; &lt;PA...</td>\n",
       "      <td>0.981981</td>\n",
       "      <td>0</td>\n",
       "    </tr>\n",
       "    <tr>\n",
       "      <th>579</th>\n",
       "      <td>아니 병신 아 감마 를 키라 고 &lt;PAD&gt; &lt;PAD&gt; &lt;PAD&gt; &lt;PAD&gt; &lt;PAD...</td>\n",
       "      <td>0.999269</td>\n",
       "      <td>0</td>\n",
       "    </tr>\n",
       "    <tr>\n",
       "      <th>650</th>\n",
       "      <td>진짜 500 개 충전 해놨으니까 오늘 춤오지게 출 준비 하고 &lt;PAD&gt; &lt;PAD&gt; ...</td>\n",
       "      <td>0.792172</td>\n",
       "      <td>0</td>\n",
       "    </tr>\n",
       "    <tr>\n",
       "      <th>666</th>\n",
       "      <td>무슨 톰크루즈 야 &lt;PAD&gt; &lt;PAD&gt; &lt;PAD&gt; &lt;PAD&gt; &lt;PAD&gt; &lt;PAD&gt; ...</td>\n",
       "      <td>0.824603</td>\n",
       "      <td>0</td>\n",
       "    </tr>\n",
       "    <tr>\n",
       "      <th>667</th>\n",
       "      <td>브베 야 &lt;PAD&gt; &lt;PAD&gt; &lt;PAD&gt; &lt;PAD&gt; &lt;PAD&gt; &lt;PAD&gt; &lt;PAD&gt;...</td>\n",
       "      <td>0.913183</td>\n",
       "      <td>0</td>\n",
       "    </tr>\n",
       "    <tr>\n",
       "      <th>717</th>\n",
       "      <td>비제 이 아닌 뎅 &lt;PAD&gt; &lt;PAD&gt; &lt;PAD&gt; &lt;PAD&gt; &lt;PAD&gt; &lt;PAD&gt; ...</td>\n",
       "      <td>0.579940</td>\n",
       "      <td>0</td>\n",
       "    </tr>\n",
       "    <tr>\n",
       "      <th>730</th>\n",
       "      <td>ㅄ 아 &lt;PAD&gt; &lt;PAD&gt; &lt;PAD&gt; &lt;PAD&gt; &lt;PAD&gt; &lt;PAD&gt; &lt;PAD&gt; ...</td>\n",
       "      <td>0.206116</td>\n",
       "      <td>1</td>\n",
       "    </tr>\n",
       "    <tr>\n",
       "      <th>736</th>\n",
       "      <td>미애 가 탈출 해서 잡아오느라 그랬냐 &lt;PAD&gt; &lt;PAD&gt; &lt;PAD&gt; &lt;PAD&gt; &lt;...</td>\n",
       "      <td>0.894122</td>\n",
       "      <td>0</td>\n",
       "    </tr>\n",
       "    <tr>\n",
       "      <th>786</th>\n",
       "      <td>어허 그런 말 하면 안 돼 ㅋㅋㅋ &lt;PAD&gt; &lt;PAD&gt; &lt;PAD&gt; &lt;PAD&gt; &lt;PA...</td>\n",
       "      <td>0.599167</td>\n",
       "      <td>0</td>\n",
       "    </tr>\n",
       "    <tr>\n",
       "      <th>801</th>\n",
       "      <td>노래 부르지마 시바 라 &lt;PAD&gt; &lt;PAD&gt; &lt;PAD&gt; &lt;PAD&gt; &lt;PAD&gt; &lt;PA...</td>\n",
       "      <td>0.970704</td>\n",
       "      <td>0</td>\n",
       "    </tr>\n",
       "    <tr>\n",
       "      <th>821</th>\n",
       "      <td>ㅄ 아 &lt;PAD&gt; &lt;PAD&gt; &lt;PAD&gt; &lt;PAD&gt; &lt;PAD&gt; &lt;PAD&gt; &lt;PAD&gt; ...</td>\n",
       "      <td>0.206116</td>\n",
       "      <td>1</td>\n",
       "    </tr>\n",
       "    <tr>\n",
       "      <th>851</th>\n",
       "      <td>쳐 웃는거 진짜 정박 아 새기 같다 ㅅ . ㅂ &lt;PAD&gt; &lt;PAD&gt; &lt;PAD&gt; &lt;P...</td>\n",
       "      <td>0.999993</td>\n",
       "      <td>0</td>\n",
       "    </tr>\n",
       "    <tr>\n",
       "      <th>934</th>\n",
       "      <td>이보 세 요 . 소통 좀 하세요 . &lt;PAD&gt; &lt;PAD&gt; &lt;PAD&gt; &lt;PAD&gt; &lt;P...</td>\n",
       "      <td>0.707310</td>\n",
       "      <td>0</td>\n",
       "    </tr>\n",
       "    <tr>\n",
       "      <th>979</th>\n",
       "      <td>사실 임 &lt;PAD&gt; &lt;PAD&gt; &lt;PAD&gt; &lt;PAD&gt; &lt;PAD&gt; &lt;PAD&gt; &lt;PAD&gt;...</td>\n",
       "      <td>0.533600</td>\n",
       "      <td>0</td>\n",
       "    </tr>\n",
       "    <tr>\n",
       "      <th>1024</th>\n",
       "      <td>그래 브베 야 너 도 스폰 을 받아야지 언제 까지 레베 ㅋㅏ 스폰 만 할꺼야 &lt;PA...</td>\n",
       "      <td>0.592684</td>\n",
       "      <td>0</td>\n",
       "    </tr>\n",
       "    <tr>\n",
       "      <th>1056</th>\n",
       "      <td>님 이 스트리머 에게 폭행 을 배워 뒷골목 으로 향합 니 다 . ! &lt;PAD&gt; &lt;P...</td>\n",
       "      <td>0.823746</td>\n",
       "      <td>0</td>\n",
       "    </tr>\n",
       "    <tr>\n",
       "      <th>1132</th>\n",
       "      <td>pillow &lt;PAD&gt; &lt;PAD&gt; &lt;PAD&gt; &lt;PAD&gt; &lt;PAD&gt; &lt;PAD&gt; &lt;PA...</td>\n",
       "      <td>0.644325</td>\n",
       "      <td>0</td>\n",
       "    </tr>\n",
       "    <tr>\n",
       "      <th>1161</th>\n",
       "      <td>창석 이 붕알 냄새 맞고싶다 &lt;PAD&gt; &lt;PAD&gt; &lt;PAD&gt; &lt;PAD&gt; &lt;PAD&gt; ...</td>\n",
       "      <td>0.999967</td>\n",
       "      <td>0</td>\n",
       "    </tr>\n",
       "    <tr>\n",
       "      <th>1238</th>\n",
       "      <td>ㅈ &lt;PAD&gt; &lt;PAD&gt; &lt;PAD&gt; &lt;PAD&gt; &lt;PAD&gt; &lt;PAD&gt; &lt;PAD&gt; &lt;P...</td>\n",
       "      <td>0.657282</td>\n",
       "      <td>0</td>\n",
       "    </tr>\n",
       "    <tr>\n",
       "      <th>1258</th>\n",
       "      <td>고마워가 아니라 잘 했 다라 하 네 이색기 &lt;PAD&gt; &lt;PAD&gt; &lt;PAD&gt; &lt;PAD...</td>\n",
       "      <td>0.795842</td>\n",
       "      <td>0</td>\n",
       "    </tr>\n",
       "    <tr>\n",
       "      <th>1272</th>\n",
       "      <td>아니 씨 ㅏㄹ 뮤슨 일이 냐 고 묻잖아 &lt;PAD&gt; &lt;PAD&gt; &lt;PAD&gt; &lt;PAD&gt; ...</td>\n",
       "      <td>0.998460</td>\n",
       "      <td>0</td>\n",
       "    </tr>\n",
       "    <tr>\n",
       "      <th>1347</th>\n",
       "      <td>브베 = 창석 이 &lt;PAD&gt; &lt;PAD&gt; &lt;PAD&gt; &lt;PAD&gt; &lt;PAD&gt; &lt;PAD&gt; ...</td>\n",
       "      <td>0.807490</td>\n",
       "      <td>0</td>\n",
       "    </tr>\n",
       "    <tr>\n",
       "      <th>1474</th>\n",
       "      <td>오늘 레베카 결근 이라고 하네요 &lt;PAD&gt; &lt;PAD&gt; &lt;PAD&gt; &lt;PAD&gt; &lt;PAD...</td>\n",
       "      <td>0.553380</td>\n",
       "      <td>0</td>\n",
       "    </tr>\n",
       "    <tr>\n",
       "      <th>1477</th>\n",
       "      <td>하 비스트 광고 하냐 &lt;PAD&gt; &lt;PAD&gt; &lt;PAD&gt; &lt;PAD&gt; &lt;PAD&gt; &lt;PAD...</td>\n",
       "      <td>0.918466</td>\n",
       "      <td>0</td>\n",
       "    </tr>\n",
       "  </tbody>\n",
       "</table>\n",
       "</div>"
      ],
      "text/plain": [
       "                                                      0   predict  label\n",
       "19    아 괜찮아 <PAD> <PAD> <PAD> <PAD> <PAD> <PAD> <PAD...  0.566612      0\n",
       "52    브베 야 게임 하지말고 자살 하자 <PAD> <PAD> <PAD> <PAD> <PA...  0.841812      0\n",
       "129   HE LOVE Pillow He LOVE pillow He LOVE pillow H...  0.999478      0\n",
       "196   매력 쏜 님 앵 냥 ~ <PAD> <PAD> <PAD> <PAD> <PAD> <PA...  0.993764      0\n",
       "198   진짜 톰크루즈 인지 아 나 ㅄ 이 <PAD> <PAD> <PAD> <PAD> <PA...  0.993042      0\n",
       "232   나 브 사모 아닌데 <PAD> <PAD> <PAD> <PAD> <PAD> <PAD>...  0.999526      0\n",
       "260   노래 끄라 했다 시 ㅂ 발 진짜 <PAD> <PAD> <PAD> <PAD> <PAD...  0.973653      0\n",
       "288   빨리 하라 고 <PAD> <PAD> <PAD> <PAD> <PAD> <PAD> <P...  0.533339      0\n",
       "337   아니 무슨 교육과정 을 통 으로 스킵 했나 밀 리언 을 모르냐 밀 리언 을 ㅋㅋㅋ ...  0.710171      0\n",
       "393   브베 형 JYP 연습생 진짜 야 ? <PAD> <PAD> <PAD> <PAD> <P...  0.954319      0\n",
       "398   아 별 게 다 힘드네 <PAD> <PAD> <PAD> <PAD> <PAD> <PAD...  0.696588      0\n",
       "557   야 브베 야 <PAD> <PAD> <PAD> <PAD> <PAD> <PAD> <PA...  0.981981      0\n",
       "579   아니 병신 아 감마 를 키라 고 <PAD> <PAD> <PAD> <PAD> <PAD...  0.999269      0\n",
       "650   진짜 500 개 충전 해놨으니까 오늘 춤오지게 출 준비 하고 <PAD> <PAD> ...  0.792172      0\n",
       "666   무슨 톰크루즈 야 <PAD> <PAD> <PAD> <PAD> <PAD> <PAD> ...  0.824603      0\n",
       "667   브베 야 <PAD> <PAD> <PAD> <PAD> <PAD> <PAD> <PAD>...  0.913183      0\n",
       "717   비제 이 아닌 뎅 <PAD> <PAD> <PAD> <PAD> <PAD> <PAD> ...  0.579940      0\n",
       "730   ㅄ 아 <PAD> <PAD> <PAD> <PAD> <PAD> <PAD> <PAD> ...  0.206116      1\n",
       "736   미애 가 탈출 해서 잡아오느라 그랬냐 <PAD> <PAD> <PAD> <PAD> <...  0.894122      0\n",
       "786   어허 그런 말 하면 안 돼 ㅋㅋㅋ <PAD> <PAD> <PAD> <PAD> <PA...  0.599167      0\n",
       "801   노래 부르지마 시바 라 <PAD> <PAD> <PAD> <PAD> <PAD> <PA...  0.970704      0\n",
       "821   ㅄ 아 <PAD> <PAD> <PAD> <PAD> <PAD> <PAD> <PAD> ...  0.206116      1\n",
       "851   쳐 웃는거 진짜 정박 아 새기 같다 ㅅ . ㅂ <PAD> <PAD> <PAD> <P...  0.999993      0\n",
       "934   이보 세 요 . 소통 좀 하세요 . <PAD> <PAD> <PAD> <PAD> <P...  0.707310      0\n",
       "979   사실 임 <PAD> <PAD> <PAD> <PAD> <PAD> <PAD> <PAD>...  0.533600      0\n",
       "1024  그래 브베 야 너 도 스폰 을 받아야지 언제 까지 레베 ㅋㅏ 스폰 만 할꺼야 <PA...  0.592684      0\n",
       "1056  님 이 스트리머 에게 폭행 을 배워 뒷골목 으로 향합 니 다 . ! <PAD> <P...  0.823746      0\n",
       "1132  pillow <PAD> <PAD> <PAD> <PAD> <PAD> <PAD> <PA...  0.644325      0\n",
       "1161  창석 이 붕알 냄새 맞고싶다 <PAD> <PAD> <PAD> <PAD> <PAD> ...  0.999967      0\n",
       "1238  ㅈ <PAD> <PAD> <PAD> <PAD> <PAD> <PAD> <PAD> <P...  0.657282      0\n",
       "1258  고마워가 아니라 잘 했 다라 하 네 이색기 <PAD> <PAD> <PAD> <PAD...  0.795842      0\n",
       "1272  아니 씨 ㅏㄹ 뮤슨 일이 냐 고 묻잖아 <PAD> <PAD> <PAD> <PAD> ...  0.998460      0\n",
       "1347  브베 = 창석 이 <PAD> <PAD> <PAD> <PAD> <PAD> <PAD> ...  0.807490      0\n",
       "1474  오늘 레베카 결근 이라고 하네요 <PAD> <PAD> <PAD> <PAD> <PAD...  0.553380      0\n",
       "1477  하 비스트 광고 하냐 <PAD> <PAD> <PAD> <PAD> <PAD> <PAD...  0.918466      0"
      ]
     },
     "execution_count": 29,
     "metadata": {},
     "output_type": "execute_result"
    }
   ],
   "source": [
    "result[model.predict_classes(up_X_test) != up_y_test]"
   ]
  },
  {
   "cell_type": "markdown",
   "metadata": {},
   "source": [
    "# 시11111발 의 경우"
   ]
  },
  {
   "cell_type": "code",
   "execution_count": 30,
   "metadata": {
    "ExecuteTime": {
     "end_time": "2019-08-07T11:41:31.661975Z",
     "start_time": "2019-08-07T11:41:31.428108Z"
    }
   },
   "outputs": [
    {
     "name": "stdout",
     "output_type": "stream",
     "text": [
      "['시/Noun', '1111/Number', '발/Noun']\n"
     ]
    }
   ],
   "source": [
    "test_chat = \"시1111발\"\n",
    "test_id = text_to_index(morp.pos(test_chat, norm=True, join=True))\n",
    "print(morp.pos(test_chat, norm=True, join=True))\n",
    "sentence_size = 20\n",
    "x_padded = sequence.pad_sequences([test_id],\n",
    "                                 maxlen=sentence_size,\n",
    "                                 truncating='post',\n",
    "                                 padding='post',\n",
    "                                 value=pad_id)"
   ]
  },
  {
   "cell_type": "code",
   "execution_count": 31,
   "metadata": {
    "ExecuteTime": {
     "end_time": "2019-08-07T11:41:31.714942Z",
     "start_time": "2019-08-07T11:41:31.667971Z"
    }
   },
   "outputs": [
    {
     "data": {
      "text/plain": [
       "array([[0.19393216, 0.81546557]], dtype=float32)"
      ]
     },
     "execution_count": 31,
     "metadata": {},
     "output_type": "execute_result"
    }
   ],
   "source": [
    "model.predict(x_padded)"
   ]
  },
  {
   "cell_type": "markdown",
   "metadata": {},
   "source": [
    "## 모델 체크포인트 저장"
   ]
  },
  {
   "cell_type": "code",
   "execution_count": 42,
   "metadata": {
    "ExecuteTime": {
     "end_time": "2019-08-07T12:30:11.431900Z",
     "start_time": "2019-08-07T12:30:11.362907Z"
    }
   },
   "outputs": [],
   "source": [
    "model.save('../model/cnn_oversample.h5')"
   ]
  },
  {
   "cell_type": "code",
   "execution_count": 39,
   "metadata": {
    "ExecuteTime": {
     "end_time": "2019-08-07T11:55:38.585042Z",
     "start_time": "2019-08-07T11:55:37.380731Z"
    }
   },
   "outputs": [
    {
     "name": "stdout",
     "output_type": "stream",
     "text": [
      "WARNING:tensorflow:This model was compiled with a Keras optimizer (<tensorflow.python.keras.optimizers.Adam object at 0x000001F3612DA208>) but is being saved in TensorFlow format with `save_weights`. The model's weights will be saved, but unlike with TensorFlow optimizers in the TensorFlow format the optimizer's state will not be saved.\n",
      "\n",
      "Consider using a TensorFlow optimizer from `tf.train`.\n",
      "WARNING:tensorflow:Model was compiled with an optimizer, but the optimizer is not from `tf.train` (e.g. `tf.train.AdagradOptimizer`). Only the serving graph was exported. The train and evaluate graphs were not added to the SavedModel.\n"
     ]
    },
    {
     "name": "stderr",
     "output_type": "stream",
     "text": [
      "C:\\Users\\skarn\\Anaconda3\\envs\\DataAnalysis\\lib\\site-packages\\numpy\\lib\\type_check.py:546: DeprecationWarning: np.asscalar(a) is deprecated since NumPy v1.16, use a.item() instead\n",
      "  'a.item() instead', DeprecationWarning, stacklevel=1)\n"
     ]
    },
    {
     "name": "stdout",
     "output_type": "stream",
     "text": [
      "INFO:tensorflow:Signatures INCLUDED in export for Classify: None\n",
      "INFO:tensorflow:Signatures INCLUDED in export for Regress: None\n",
      "INFO:tensorflow:Signatures INCLUDED in export for Predict: ['serving_default']\n",
      "INFO:tensorflow:Signatures INCLUDED in export for Train: None\n",
      "INFO:tensorflow:Signatures INCLUDED in export for Eval: None\n",
      "INFO:tensorflow:No assets to save.\n",
      "INFO:tensorflow:No assets to write.\n",
      "INFO:tensorflow:SavedModel written to: ../model/1565178937\\saved_model.pb\n"
     ]
    },
    {
     "data": {
      "text/plain": [
       "b'../model/1565178937'"
      ]
     },
     "execution_count": 39,
     "metadata": {},
     "output_type": "execute_result"
    }
   ],
   "source": [
    "# tf.contrib.saved_model.save_keras_model(model, '../model/')"
   ]
  },
  {
   "cell_type": "markdown",
   "metadata": {},
   "source": [
    "## Downsampling"
   ]
  },
  {
   "cell_type": "code",
   "execution_count": null,
   "metadata": {},
   "outputs": [],
   "source": [
    "up_X, up_y = RandomOverSampler().fit_resample(x_padded, datasets.label)\n",
    "up_X_train, up_X_test, up_y_train, up_y_test = train_test_split(up_X, up_y)\n",
    "\n",
    "# 총 데이터 수 , 1 레이블 데이터 수\n",
    "len(up_y), up_y.sum()"
   ]
  },
  {
   "cell_type": "code",
   "execution_count": null,
   "metadata": {},
   "outputs": [],
   "source": [
    "model.compile(optimizer='adam', \n",
    "              loss='binary_crossentropy',\n",
    "              metrics=['accuracy'])\n",
    "\n",
    "history = model.fit(up_X_train,\n",
    "          pd.get_dummies(up_y_train),\n",
    "          epochs=5,\n",
    "          validation_data=(up_X_test, pd.get_dummies(up_y_test))\n",
    "         )\n",
    "plot_loss(history)\n",
    "test_loss, test_acc = model.evaluate(up_X_test, pd.get_dummies(up_y_test))\n",
    "print('Test accuracy:', test_acc)"
   ]
  },
  {
   "cell_type": "code",
   "execution_count": null,
   "metadata": {},
   "outputs": [],
   "source": []
  },
  {
   "cell_type": "code",
   "execution_count": null,
   "metadata": {},
   "outputs": [],
   "source": []
  },
  {
   "cell_type": "markdown",
   "metadata": {},
   "source": [
    "# TODO\n",
    "- 형태소별 Tokenize 말고 한글 자모별 Tokenize 하여 실험해보기\n",
    "- CNN layer / Parameter 변경시켜보기\n",
    "- 예측 결과 검정하기\n",
    "    - Attention 이용"
   ]
  },
  {
   "cell_type": "code",
   "execution_count": null,
   "metadata": {},
   "outputs": [],
   "source": []
  }
 ],
 "metadata": {
  "kernelspec": {
   "display_name": "Python 3",
   "language": "python",
   "name": "python3"
  },
  "language_info": {
   "codemirror_mode": {
    "name": "ipython",
    "version": 3
   },
   "file_extension": ".py",
   "mimetype": "text/x-python",
   "name": "python",
   "nbconvert_exporter": "python",
   "pygments_lexer": "ipython3",
   "version": "3.7.3"
  }
 },
 "nbformat": 4,
 "nbformat_minor": 2
}
