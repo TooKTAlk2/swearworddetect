{
 "cells": [
  {
   "cell_type": "code",
   "execution_count": 1,
   "metadata": {
    "ExecuteTime": {
     "end_time": "2019-08-13T23:48:00.242035Z",
     "start_time": "2019-08-13T23:47:44.691942Z"
    }
   },
   "outputs": [
    {
     "name": "stdout",
     "output_type": "stream",
     "text": [
      "Chan 2019-08-14 \n",
      "\n",
      "CPython 3.7.3\n",
      "IPython 7.6.1\n",
      "\n",
      "numpy 1.16.4\n",
      "pandas 0.24.2\n",
      "sklearn 0.21.2\n",
      "konlpy 0.5.1\n",
      "tensorflow 1.13.1\n",
      "matplotlib 3.1.0\n",
      "imblearn 0.5.0\n"
     ]
    }
   ],
   "source": [
    "%load_ext watermark\n",
    "%watermark -a Chan -d -v -p numpy,pandas,sklearn,konlpy,tensorflow,matplotlib,imblearn"
   ]
  },
  {
   "cell_type": "code",
   "execution_count": null,
   "metadata": {
    "ExecuteTime": {
     "start_time": "2019-08-19T03:09:27.848Z"
    }
   },
   "outputs": [],
   "source": [
    "import numpy as np\n",
    "import pandas as pd\n",
    "from sklearn.model_selection import train_test_split\n",
    "from konlpy.tag import Okt\n",
    "import tensorflow as tf\n",
    "from tensorflow.python.keras.preprocessing import sequence\n",
    "from tensorflow import keras\n",
    "from tqdm import tqdm\n",
    "from collections import Counter\n",
    "from matplotlib import pyplot as plt\n",
    "import pickle\n",
    "from utils import morp_preprocessing"
   ]
  },
  {
   "cell_type": "markdown",
   "metadata": {},
   "source": [
    "# Load datasets"
   ]
  },
  {
   "cell_type": "code",
   "execution_count": null,
   "metadata": {
    "ExecuteTime": {
     "start_time": "2019-08-19T03:09:29.010Z"
    }
   },
   "outputs": [],
   "source": [
    "from utils import dataset_handling"
   ]
  },
  {
   "cell_type": "code",
   "execution_count": null,
   "metadata": {
    "ExecuteTime": {
     "start_time": "2019-08-19T03:09:39.010Z"
    }
   },
   "outputs": [],
   "source": [
    "dump1 = datasets\n",
    "dump2 = dataset_handling.merge_all_dataset('../../../data/labeled')"
   ]
  },
  {
   "cell_type": "code",
   "execution_count": 10,
   "metadata": {
    "ExecuteTime": {
     "end_time": "2019-08-19T01:51:49.522673Z",
     "start_time": "2019-08-19T01:51:49.125901Z"
    }
   },
   "outputs": [
    {
     "data": {
      "text/html": [
       "<div>\n",
       "<style scoped>\n",
       "    .dataframe tbody tr th:only-of-type {\n",
       "        vertical-align: middle;\n",
       "    }\n",
       "\n",
       "    .dataframe tbody tr th {\n",
       "        vertical-align: top;\n",
       "    }\n",
       "\n",
       "    .dataframe thead th {\n",
       "        text-align: right;\n",
       "    }\n",
       "</style>\n",
       "<table border=\"1\" class=\"dataframe\">\n",
       "  <thead>\n",
       "    <tr style=\"text-align: right;\">\n",
       "      <th></th>\n",
       "      <th>Unnamed: 0</th>\n",
       "      <th>comment</th>\n",
       "      <th>url_id</th>\n",
       "      <th>label</th>\n",
       "    </tr>\n",
       "  </thead>\n",
       "  <tbody>\n",
       "    <tr>\n",
       "      <th>0</th>\n",
       "      <td>0</td>\n",
       "      <td>ㅜㅜ</td>\n",
       "      <td>77</td>\n",
       "      <td>0</td>\n",
       "    </tr>\n",
       "    <tr>\n",
       "      <th>1</th>\n",
       "      <td>1</td>\n",
       "      <td>ㅋㅋㅋㅋㅋㅋㅋㅋㅋㅋㅋㅋㅋㅋㅋㅋㅋㅋㅋㅋㅋ</td>\n",
       "      <td>17</td>\n",
       "      <td>0</td>\n",
       "    </tr>\n",
       "    <tr>\n",
       "      <th>2</th>\n",
       "      <td>2</td>\n",
       "      <td>헐</td>\n",
       "      <td>52</td>\n",
       "      <td>0</td>\n",
       "    </tr>\n",
       "    <tr>\n",
       "      <th>3</th>\n",
       "      <td>3</td>\n",
       "      <td>제시</td>\n",
       "      <td>75</td>\n",
       "      <td>0</td>\n",
       "    </tr>\n",
       "    <tr>\n",
       "      <th>4</th>\n",
       "      <td>4</td>\n",
       "      <td>이거인 듯</td>\n",
       "      <td>18</td>\n",
       "      <td>0</td>\n",
       "    </tr>\n",
       "  </tbody>\n",
       "</table>\n",
       "</div>"
      ],
      "text/plain": [
       "   Unnamed: 0                comment  url_id  label\n",
       "0           0                     ㅜㅜ      77      0\n",
       "1           1  ㅋㅋㅋㅋㅋㅋㅋㅋㅋㅋㅋㅋㅋㅋㅋㅋㅋㅋㅋㅋㅋ      17      0\n",
       "2           2                      헐      52      0\n",
       "3           3                     제시      75      0\n",
       "4           4                  이거인 듯      18      0"
      ]
     },
     "execution_count": 10,
     "metadata": {},
     "output_type": "execute_result"
    }
   ],
   "source": [
    "datasets = pd.read_csv('../../data/train.csv', engine='python', encoding='utf-16')\n",
    "datasets.head()"
   ]
  },
  {
   "cell_type": "code",
   "execution_count": 5,
   "metadata": {
    "ExecuteTime": {
     "end_time": "2019-08-19T01:50:53.801593Z",
     "start_time": "2019-08-19T01:50:53.769619Z"
    }
   },
   "outputs": [
    {
     "name": "stdout",
     "output_type": "stream",
     "text": [
      "<class 'pandas.core.frame.DataFrame'>\n",
      "RangeIndex: 27000 entries, 0 to 26999\n",
      "Data columns (total 4 columns):\n",
      "Unnamed: 0    27000 non-null int64\n",
      "comment       27000 non-null object\n",
      "url_id        27000 non-null int64\n",
      "label         27000 non-null int64\n",
      "dtypes: int64(3), object(1)\n",
      "memory usage: 843.8+ KB\n"
     ]
    }
   ],
   "source": [
    "datasets.info()"
   ]
  },
  {
   "cell_type": "code",
   "execution_count": 6,
   "metadata": {
    "ExecuteTime": {
     "end_time": "2019-08-19T01:51:07.769592Z",
     "start_time": "2019-08-19T01:51:07.751603Z"
    }
   },
   "outputs": [
    {
     "data": {
      "text/plain": [
       "0.047518518518518515"
      ]
     },
     "execution_count": 6,
     "metadata": {},
     "output_type": "execute_result"
    }
   ],
   "source": [
    "# len(datasets[datasets.label ==1])/ len(datasets) # 유해한 레이블의 데이터가 많이 부족함 데이터 편향ㅠㅠ bb"
   ]
  },
  {
   "cell_type": "markdown",
   "metadata": {
    "ExecuteTime": {
     "end_time": "2019-08-06T15:38:19.687895Z",
     "start_time": "2019-08-06T15:38:19.677899Z"
    }
   },
   "source": [
    "# 형태소분석"
   ]
  },
  {
   "cell_type": "code",
   "execution_count": 11,
   "metadata": {
    "ExecuteTime": {
     "end_time": "2019-08-19T01:56:01.697977Z",
     "start_time": "2019-08-19T01:55:55.586483Z"
    },
    "scrolled": true
   },
   "outputs": [
    {
     "name": "stderr",
     "output_type": "stream",
     "text": [
      "C:\\Users\\skarn\\Anaconda3\\envs\\DataAnalysis\\lib\\site-packages\\jpype\\_core.py:210: UserWarning: \n",
      "-------------------------------------------------------------------------------\n",
      "Deprecated: convertStrings was not specified when starting the JVM. The default\n",
      "behavior in JPype will be False starting in JPype 0.8. The recommended setting\n",
      "for new code is convertStrings=False.  The legacy value of True was assumed for\n",
      "this session. If you are a user of an application that reported this warning,\n",
      "please file a ticket with the developer.\n",
      "-------------------------------------------------------------------------------\n",
      "\n",
      "  \"\"\")\n"
     ]
    }
   ],
   "source": [
    "morp = Okt()"
   ]
  },
  {
   "cell_type": "code",
   "execution_count": 12,
   "metadata": {
    "ExecuteTime": {
     "end_time": "2019-08-19T01:57:14.959010Z",
     "start_time": "2019-08-19T01:56:13.111440Z"
    }
   },
   "outputs": [
    {
     "name": "stderr",
     "output_type": "stream",
     "text": [
      "100%|███████████████████████████████████████████████████████████████████████████| 27000/27000 [01:01<00:00, 436.71it/s]\n"
     ]
    },
    {
     "data": {
      "text/plain": [
       "[['ㅜㅜ'], ['ㅋㅋㅋ'], ['헐다'], ['제시'], ['이', '거인', '듯']]"
      ]
     },
     "execution_count": 12,
     "metadata": {},
     "output_type": "execute_result"
    }
   ],
   "source": [
    "morped = [morp.morphs(_, norm=True, stem=True) for _ in tqdm(datasets.comment)]\n",
    "morped[:5]"
   ]
  },
  {
   "cell_type": "markdown",
   "metadata": {},
   "source": [
    "## Dictionary\n",
    "최빈 형태소에 대한 단어사전 구성"
   ]
  },
  {
   "cell_type": "markdown",
   "metadata": {},
   "source": [
    "# Padding"
   ]
  },
  {
   "cell_type": "code",
   "execution_count": 14,
   "metadata": {
    "ExecuteTime": {
     "end_time": "2019-08-19T01:57:27.926584Z",
     "start_time": "2019-08-19T01:57:27.466846Z"
    }
   },
   "outputs": [
    {
     "name": "stdout",
     "output_type": "stream",
     "text": [
      "고빈도 단어:\n",
      "ㅋㅋㅋ :  5075\n",
      "? :  2056\n",
      "이 :  1984\n",
      "하다 :  1507\n",
      "ㅋㅋ :  708\n",
      "! :  705\n",
      "가 :  666\n",
      "오다 :  620\n",
      "아 :  566\n",
      "이다 :  526\n",
      "\n",
      "단어 사전:\n",
      "0 <PAD>\n",
      "1 <OOV>\n",
      "2 ㅋㅋㅋ\n",
      "3 ?\n",
      "4 이\n",
      "5 하다\n",
      "6 ㅋㅋ\n",
      "7 !\n",
      "8 가\n",
      "9 오다\n",
      "\n",
      "단어 사전 크기:  11883\n"
     ]
    }
   ],
   "source": [
    "vocab_size = 30000\n",
    "\n",
    "pad_id = 0\n",
    "oov_id = 1\n",
    "index_offset = 1\n",
    "\n",
    "def make_vocab(sentences):\n",
    "    word_counter = Counter()\n",
    "\n",
    "    for sent in sentences:\n",
    "        word_counter.update(sent)\n",
    "\n",
    "    most_common = word_counter.most_common()\n",
    "    print(\"고빈도 단어:\")\n",
    "    for k, v in most_common[:10]:\n",
    "        print(k, \": \", v)\n",
    "\n",
    "        vocab = {\n",
    "        '<PAD>': pad_id,\n",
    "        '<OOV>': oov_id\n",
    "        }\n",
    "    for i, (word, cnt) in enumerate(most_common, start=index_offset+1):\n",
    "        vocab[word] = i\n",
    "        if len(vocab) >= vocab_size:\n",
    "            break\n",
    "\n",
    "    return vocab\n",
    "\n",
    "word_index = make_vocab(morped)\n",
    "word_inverted_index = {v:k for k, v in word_index.items()}\n",
    "\n",
    "print(\"\\n단어 사전:\")\n",
    "for i in range(0, 10):\n",
    "    print(i, word_inverted_index[i])\n",
    "\n",
    "print(\"\\n단어 사전 크기: \", len(word_index))\n",
    "\n",
    "# # vocab save\n",
    "# with open('./vocab/vocab_index.pickle', 'wb') as f:\n",
    "#     pickle.dump(word_index, f, pickle.HIGHEST_PROTOCOL)\n",
    "# with open('./vocab/vocab_inverted_index.pickle', 'wb') as f:\n",
    "#     pickle.dump(word_inverted_index, f, pickle.HIGHEST_PROTOCOL)"
   ]
  },
  {
   "cell_type": "code",
   "execution_count": 15,
   "metadata": {
    "ExecuteTime": {
     "end_time": "2019-08-19T01:58:00.868158Z",
     "start_time": "2019-08-19T01:58:00.799199Z"
    }
   },
   "outputs": [
    {
     "name": "stdout",
     "output_type": "stream",
     "text": [
      "원본:  ['ㅜㅜ']\n",
      "문자 -> 숫자:  [239]\n",
      "숫자 -> 문자:  ㅜㅜ\n"
     ]
    }
   ],
   "source": [
    "def index_to_text(indexes):\n",
    "    return ' '.join([word_inverted_index[i] for i in indexes])\n",
    "\n",
    "def text_to_index(tokens):\n",
    "    indexes = []\n",
    "    for tok in tokens:\n",
    "        if tok in word_index:\n",
    "            indexes.append(word_index[tok])\n",
    "        else:\n",
    "            indexes.append(oov_id)\n",
    "\n",
    "    return indexes\n",
    "\n",
    "print(\"원본: \", morped[0])\n",
    "ids = text_to_index(morped[0])\n",
    "print(\"문자 -> 숫자: \", ids)\n",
    "print(\"숫자 -> 문자: \", index_to_text(ids))"
   ]
  },
  {
   "cell_type": "code",
   "execution_count": 16,
   "metadata": {
    "ExecuteTime": {
     "end_time": "2019-08-19T01:58:50.470743Z",
     "start_time": "2019-08-19T01:58:50.112950Z"
    }
   },
   "outputs": [],
   "source": [
    "x_variable = [text_to_index(_) for _ in morped]\n",
    "\n",
    "sentence_size = 10\n",
    "x_padded = sequence.pad_sequences(x_variable,\n",
    "                                 maxlen=sentence_size,\n",
    "                                 truncating='post',\n",
    "                                 padding='post',\n",
    "                                 value=pad_id)"
   ]
  },
  {
   "cell_type": "code",
   "execution_count": 17,
   "metadata": {
    "ExecuteTime": {
     "end_time": "2019-08-19T01:58:52.567543Z",
     "start_time": "2019-08-19T01:58:52.554550Z"
    }
   },
   "outputs": [],
   "source": [
    "def plot_loss(history):\n",
    "    plt.figure(figsize=(6,5))\n",
    "    val = plt.plot(history.epoch, history.history['val_loss'],\n",
    "                 '--', label='Test')\n",
    "    plt.plot(history.epoch, history.history['loss'], color=val[0].get_color(),\n",
    "           label='Train')\n",
    "\n",
    "    plt.xlabel('Epochs')\n",
    "    plt.ylabel(\"Loss\")\n",
    "    plt.legend()\n",
    "\n",
    "    plt.xlim([0,max(history.epoch)])"
   ]
  },
  {
   "cell_type": "code",
   "execution_count": 18,
   "metadata": {
    "ExecuteTime": {
     "end_time": "2019-08-19T01:58:56.817109Z",
     "start_time": "2019-08-19T01:58:56.811111Z"
    }
   },
   "outputs": [],
   "source": [
    "import warnings\n",
    "warnings.filterwarnings(action='once')"
   ]
  },
  {
   "cell_type": "markdown",
   "metadata": {},
   "source": [
    "\n",
    "# 데이터 클래스 불균형 문제 해결하자"
   ]
  },
  {
   "cell_type": "code",
   "execution_count": 20,
   "metadata": {
    "ExecuteTime": {
     "end_time": "2019-08-19T02:00:31.137079Z",
     "start_time": "2019-08-19T02:00:31.125085Z"
    }
   },
   "outputs": [],
   "source": [
    "X_train, X_test, y_train, y_test = train_test_split(x_padded, datasets.label)"
   ]
  },
  {
   "cell_type": "code",
   "execution_count": 21,
   "metadata": {
    "ExecuteTime": {
     "end_time": "2019-08-19T02:00:34.153348Z",
     "start_time": "2019-08-19T02:00:33.378794Z"
    }
   },
   "outputs": [
    {
     "name": "stderr",
     "output_type": "stream",
     "text": [
      "C:\\Users\\skarn\\Anaconda3\\envs\\DataAnalysis\\lib\\importlib\\_bootstrap.py:219: RuntimeWarning: numpy.ufunc size changed, may indicate binary incompatibility. Expected 192 from C header, got 216 from PyObject\n",
      "  return f(*args, **kwds)\n"
     ]
    }
   ],
   "source": [
    "from imblearn.under_sampling import RandomUnderSampler\n",
    "from imblearn.over_sampling import RandomOverSampler"
   ]
  },
  {
   "cell_type": "code",
   "execution_count": 22,
   "metadata": {
    "ExecuteTime": {
     "end_time": "2019-08-19T02:01:10.456554Z",
     "start_time": "2019-08-19T02:01:10.421575Z"
    }
   },
   "outputs": [
    {
     "data": {
      "text/plain": [
       "(38576, 19288)"
      ]
     },
     "execution_count": 22,
     "metadata": {},
     "output_type": "execute_result"
    }
   ],
   "source": [
    "up_X, up_y = RandomOverSampler().fit_resample(X_train, y_train)\n",
    "\n",
    "# 총 데이터 수 , 1 레이블 데이터 수\n",
    "len(up_y), up_y.sum()"
   ]
  },
  {
   "cell_type": "code",
   "execution_count": 23,
   "metadata": {
    "ExecuteTime": {
     "end_time": "2019-08-19T02:01:25.416983Z",
     "start_time": "2019-08-19T02:01:24.824329Z"
    }
   },
   "outputs": [
    {
     "name": "stderr",
     "output_type": "stream",
     "text": [
      "C:\\Users\\skarn\\Anaconda3\\envs\\DataAnalysis\\lib\\site-packages\\numpy\\lib\\type_check.py:546: DeprecationWarning: np.asscalar(a) is deprecated since NumPy v1.16, use a.item() instead\n",
      "  'a.item() instead', DeprecationWarning, stacklevel=1)\n"
     ]
    },
    {
     "name": "stdout",
     "output_type": "stream",
     "text": [
      "WARNING:tensorflow:From C:\\Users\\skarn\\Anaconda3\\envs\\DataAnalysis\\lib\\site-packages\\tensorflow\\python\\ops\\resource_variable_ops.py:435: colocate_with (from tensorflow.python.framework.ops) is deprecated and will be removed in a future version.\n",
      "Instructions for updating:\n",
      "Colocations handled automatically by placer.\n",
      "WARNING:tensorflow:From C:\\Users\\skarn\\Anaconda3\\envs\\DataAnalysis\\lib\\site-packages\\tensorflow\\python\\keras\\layers\\core.py:143: calling dropout (from tensorflow.python.ops.nn_ops) with keep_prob is deprecated and will be removed in a future version.\n",
      "Instructions for updating:\n",
      "Please use `rate` instead of `keep_prob`. Rate should be set to `rate = 1 - keep_prob`.\n"
     ]
    }
   ],
   "source": [
    "model_up = keras.Sequential([\n",
    "    keras.layers.Embedding(vocab_size, 10),\n",
    "    keras.layers.Conv1D(32, 3, padding=\"same\", activation=tf.nn.relu),\n",
    "    keras.layers.Dropout(0.5),\n",
    "    keras.layers.Conv1D(32, 3, padding=\"same\", activation=tf.nn.relu),\n",
    "    keras.layers.GlobalMaxPool1D(),\n",
    "    keras.layers.Dropout(0.5),\n",
    "    keras.layers.Dense(2, activation=tf.nn.sigmoid)\n",
    "])"
   ]
  },
  {
   "cell_type": "code",
   "execution_count": 30,
   "metadata": {
    "ExecuteTime": {
     "end_time": "2019-08-19T02:06:22.614507Z",
     "start_time": "2019-08-19T02:04:46.267929Z"
    }
   },
   "outputs": [
    {
     "name": "stdout",
     "output_type": "stream",
     "text": [
      "Train on 38576 samples, validate on 6750 samples\n"
     ]
    },
    {
     "name": "stderr",
     "output_type": "stream",
     "text": [
      "C:\\Users\\skarn\\Anaconda3\\envs\\DataAnalysis\\lib\\site-packages\\google\\protobuf\\internal\\python_message.py:811: ResourceWarning: unclosed file <_io.TextIOWrapper name='../../data/train.csv' mode='r' encoding='cp949'>\n",
      "  all_fields = [item for item in self._fields.items() if _IsPresent(item)]\n",
      "ResourceWarning: Enable tracemalloc to get the object allocation traceback\n"
     ]
    },
    {
     "name": "stdout",
     "output_type": "stream",
     "text": [
      "Epoch 1/5\n"
     ]
    },
    {
     "name": "stdout",
     "output_type": "stream",
     "text": [
      "23776/38576 [=================>............] - ETA: 28:55 - loss: 0.0168 - recall_2: 1.000 - ETA: 5:59 - loss: 0.0347 - recall_2: 0.987 - ETA: 3:26 - loss: 0.0239 - recall_2: 0.99 - ETA: 2:27 - loss: 0.0257 - recall_2: 0.99 - ETA: 1:50 - loss: 0.0393 - recall_2: 0.98 - ETA: 1:32 - loss: 0.0394 - recall_2: 0.99 - ETA: 1:20 - loss: 0.0398 - recall_2: 0.98 - ETA: 1:12 - loss: 0.0470 - recall_2: 0.98 - ETA: 1:05 - loss: 0.0470 - recall_2: 0.98 - ETA: 58s - loss: 0.0498 - recall_2: 0.9872 - ETA: 54s - loss: 0.0574 - recall_2: 0.985 - ETA: 49s - loss: 0.0565 - recall_2: 0.985 - ETA: 47s - loss: 0.0545 - recall_2: 0.985 - ETA: 44s - loss: 0.0563 - recall_2: 0.985 - ETA: 42s - loss: 0.0547 - recall_2: 0.985 - ETA: 40s - loss: 0.0524 - recall_2: 0.986 - ETA: 38s - loss: 0.0497 - recall_2: 0.987 - ETA: 36s - loss: 0.0486 - recall_2: 0.987 - ETA: 35s - loss: 0.0489 - recall_2: 0.986 - ETA: 34s - loss: 0.0474 - recall_2: 0.987 - ETA: 33s - loss: 0.0474 - recall_2: 0.986 - ETA: 32s - loss: 0.0480 - recall_2: 0.986 - ETA: 32s - loss: 0.0481 - recall_2: 0.986 - ETA: 31s - loss: 0.0527 - recall_2: 0.985 - ETA: 30s - loss: 0.0534 - recall_2: 0.985 - ETA: 29s - loss: 0.0527 - recall_2: 0.985 - ETA: 29s - loss: 0.0519 - recall_2: 0.985 - ETA: 28s - loss: 0.0518 - recall_2: 0.985 - ETA: 28s - loss: 0.0509 - recall_2: 0.985 - ETA: 27s - loss: 0.0506 - recall_2: 0.985 - ETA: 27s - loss: 0.0507 - recall_2: 0.985 - ETA: 26s - loss: 0.0509 - recall_2: 0.985 - ETA: 26s - loss: 0.0516 - recall_2: 0.985 - ETA: 25s - loss: 0.0508 - recall_2: 0.985 - ETA: 25s - loss: 0.0499 - recall_2: 0.985 - ETA: 25s - loss: 0.0491 - recall_2: 0.986 - ETA: 25s - loss: 0.0487 - recall_2: 0.986 - ETA: 24s - loss: 0.0485 - recall_2: 0.986 - ETA: 24s - loss: 0.0485 - recall_2: 0.986 - ETA: 24s - loss: 0.0482 - recall_2: 0.986 - ETA: 23s - loss: 0.0473 - recall_2: 0.986 - ETA: 23s - loss: 0.0480 - recall_2: 0.986 - ETA: 23s - loss: 0.0487 - recall_2: 0.985 - ETA: 23s - loss: 0.0482 - recall_2: 0.986 - ETA: 22s - loss: 0.0491 - recall_2: 0.985 - ETA: 22s - loss: 0.0500 - recall_2: 0.985 - ETA: 22s - loss: 0.0498 - recall_2: 0.985 - ETA: 21s - loss: 0.0502 - recall_2: 0.985 - ETA: 21s - loss: 0.0503 - recall_2: 0.984 - ETA: 21s - loss: 0.0524 - recall_2: 0.984 - ETA: 21s - loss: 0.0529 - recall_2: 0.984 - ETA: 20s - loss: 0.0526 - recall_2: 0.984 - ETA: 20s - loss: 0.0522 - recall_2: 0.985 - ETA: 20s - loss: 0.0517 - recall_2: 0.985 - ETA: 20s - loss: 0.0515 - recall_2: 0.985 - ETA: 19s - loss: 0.0517 - recall_2: 0.984 - ETA: 19s - loss: 0.0514 - recall_2: 0.984 - ETA: 19s - loss: 0.0519 - recall_2: 0.984 - ETA: 19s - loss: 0.0518 - recall_2: 0.984 - ETA: 19s - loss: 0.0515 - recall_2: 0.984 - ETA: 19s - loss: 0.0509 - recall_2: 0.985 - ETA: 19s - loss: 0.0505 - recall_2: 0.985 - ETA: 18s - loss: 0.0500 - recall_2: 0.985 - ETA: 18s - loss: 0.0502 - recall_2: 0.985 - ETA: 18s - loss: 0.0497 - recall_2: 0.985 - ETA: 18s - loss: 0.0500 - recall_2: 0.985 - ETA: 18s - loss: 0.0495 - recall_2: 0.985 - ETA: 18s - loss: 0.0494 - recall_2: 0.985 - ETA: 17s - loss: 0.0492 - recall_2: 0.985 - ETA: 17s - loss: 0.0502 - recall_2: 0.985 - ETA: 17s - loss: 0.0501 - recall_2: 0.985 - ETA: 17s - loss: 0.0501 - recall_2: 0.985 - ETA: 17s - loss: 0.0497 - recall_2: 0.985 - ETA: 17s - loss: 0.0511 - recall_2: 0.985 - ETA: 17s - loss: 0.0507 - recall_2: 0.985 - ETA: 17s - loss: 0.0509 - recall_2: 0.985 - ETA: 16s - loss: 0.0510 - recall_2: 0.985 - ETA: 16s - loss: 0.0511 - recall_2: 0.985 - ETA: 16s - loss: 0.0514 - recall_2: 0.985 - ETA: 16s - loss: 0.0511 - recall_2: 0.985 - ETA: 16s - loss: 0.0506 - recall_2: 0.985 - ETA: 16s - loss: 0.0512 - recall_2: 0.985 - ETA: 16s - loss: 0.0510 - recall_2: 0.985 - ETA: 16s - loss: 0.0512 - recall_2: 0.985 - ETA: 15s - loss: 0.0508 - recall_2: 0.985 - ETA: 15s - loss: 0.0507 - recall_2: 0.985 - ETA: 15s - loss: 0.0504 - recall_2: 0.985 - ETA: 15s - loss: 0.0501 - recall_2: 0.985 - ETA: 15s - loss: 0.0505 - recall_2: 0.985 - ETA: 15s - loss: 0.0505 - recall_2: 0.985 - ETA: 15s - loss: 0.0504 - recall_2: 0.985 - ETA: 15s - loss: 0.0502 - recall_2: 0.985 - ETA: 15s - loss: 0.0504 - recall_2: 0.985 - ETA: 14s - loss: 0.0504 - recall_2: 0.985 - ETA: 14s - loss: 0.0511 - recall_2: 0.984 - ETA: 14s - loss: 0.0509 - recall_2: 0.985 - ETA: 14s - loss: 0.0506 - recall_2: 0.985 - ETA: 14s - loss: 0.0502 - recall_2: 0.985 - ETA: 14s - loss: 0.0500 - recall_2: 0.985 - ETA: 14s - loss: 0.0501 - recall_2: 0.985 - ETA: 14s - loss: 0.0500 - recall_2: 0.985 - ETA: 14s - loss: 0.0498 - recall_2: 0.985 - ETA: 14s - loss: 0.0501 - recall_2: 0.985 - ETA: 13s - loss: 0.0499 - recall_2: 0.985 - ETA: 13s - loss: 0.0497 - recall_2: 0.985 - ETA: 13s - loss: 0.0500 - recall_2: 0.985 - ETA: 13s - loss: 0.0504 - recall_2: 0.984 - ETA: 13s - loss: 0.0504 - recall_2: 0.984 - ETA: 13s - loss: 0.0502 - recall_2: 0.985 - ETA: 13s - loss: 0.0501 - recall_2: 0.985 - ETA: 13s - loss: 0.0499 - recall_2: 0.985 - ETA: 13s - loss: 0.0500 - recall_2: 0.985 - ETA: 13s - loss: 0.0497 - recall_2: 0.985 - ETA: 13s - loss: 0.0495 - recall_2: 0.985 - ETA: 12s - loss: 0.0505 - recall_2: 0.985 - ETA: 12s - loss: 0.0505 - recall_2: 0.985 - ETA: 12s - loss: 0.0505 - recall_2: 0.985 - ETA: 12s - loss: 0.0510 - recall_2: 0.984 - ETA: 12s - loss: 0.0510 - recall_2: 0.984 - ETA: 12s - loss: 0.0513 - recall_2: 0.984 - ETA: 12s - loss: 0.0512 - recall_2: 0.984 - ETA: 12s - loss: 0.0513 - recall_2: 0.984 - ETA: 12s - loss: 0.0510 - recall_2: 0.984 - ETA: 12s - loss: 0.0507 - recall_2: 0.984 - ETA: 12s - loss: 0.0506 - recall_2: 0.984 - ETA: 11s - loss: 0.0509 - recall_2: 0.984 - ETA: 11s - loss: 0.0512 - recall_2: 0.984 - ETA: 11s - loss: 0.0509 - recall_2: 0.984 - ETA: 11s - loss: 0.0507 - recall_2: 0.984 - ETA: 11s - loss: 0.0506 - recall_2: 0.984 - ETA: 11s - loss: 0.0507 - recall_2: 0.984 - ETA: 11s - loss: 0.0504 - recall_2: 0.984 - ETA: 11s - loss: 0.0505 - recall_2: 0.984 - ETA: 11s - loss: 0.0504 - recall_2: 0.984 - ETA: 11s - loss: 0.0502 - recall_2: 0.984 - ETA: 11s - loss: 0.0500 - recall_2: 0.984 - ETA: 11s - loss: 0.0499 - recall_2: 0.984 - ETA: 10s - loss: 0.0497 - recall_2: 0.984 - ETA: 10s - loss: 0.0495 - recall_2: 0.984 - ETA: 10s - loss: 0.0493 - recall_2: 0.985 - ETA: 10s - loss: 0.0491 - recall_2: 0.985 - ETA: 10s - loss: 0.0489 - recall_2: 0.985 - ETA: 10s - loss: 0.0488 - recall_2: 0.985 - ETA: 10s - loss: 0.0494 - recall_2: 0.985 - ETA: 10s - loss: 0.0494 - recall_2: 0.985 - ETA: 10s - loss: 0.0492 - recall_2: 0.985 - ETA: 10s - loss: 0.0499 - recall_2: 0.985 - ETA: 10s - loss: 0.0503 - recall_2: 0.985 - ETA: 10s - loss: 0.0509 - recall_2: 0.985 - ETA: 9s - loss: 0.0510 - recall_2: 0.985 - ETA: 9s - loss: 0.0508 - recall_2: 0.98 - ETA: 9s - loss: 0.0514 - recall_2: 0.98 - ETA: 9s - loss: 0.0517 - recall_2: 0.98 - ETA: 9s - loss: 0.0521 - recall_2: 0.98 - ETA: 9s - loss: 0.0524 - recall_2: 0.98 - ETA: 9s - loss: 0.0526 - recall_2: 0.98 - ETA: 9s - loss: 0.0528 - recall_2: 0.98 - ETA: 9s - loss: 0.0527 - recall_2: 0.98 - ETA: 9s - loss: 0.0532 - recall_2: 0.98 - ETA: 9s - loss: 0.0532 - recall_2: 0.98 - ETA: 9s - loss: 0.0532 - recall_2: 0.98 - ETA: 9s - loss: 0.0531 - recall_2: 0.98 - ETA: 9s - loss: 0.0534 - recall_2: 0.98 - ETA: 8s - loss: 0.0533 - recall_2: 0.98 - ETA: 8s - loss: 0.0536 - recall_2: 0.98 - ETA: 8s - loss: 0.0540 - recall_2: 0.98 - ETA: 8s - loss: 0.0539 - recall_2: 0.98 - ETA: 8s - loss: 0.0538 - recall_2: 0.98 - ETA: 8s - loss: 0.0541 - recall_2: 0.98 - ETA: 8s - loss: 0.0539 - recall_2: 0.98 - ETA: 8s - loss: 0.0537 - recall_2: 0.98 - ETA: 8s - loss: 0.0538 - recall_2: 0.98 - ETA: 8s - loss: 0.0538 - recall_2: 0.98 - ETA: 8s - loss: 0.0539 - recall_2: 0.98 - ETA: 8s - loss: 0.0542 - recall_2: 0.98 - ETA: 8s - loss: 0.0540 - recall_2: 0.98 - ETA: 8s - loss: 0.0543 - recall_2: 0.98 - ETA: 8s - loss: 0.0542 - recall_2: 0.98 - ETA: 7s - loss: 0.0542 - recall_2: 0.98 - ETA: 7s - loss: 0.0542 - recall_2: 0.98 - ETA: 7s - loss: 0.0541 - recall_2: 0.98 - ETA: 7s - loss: 0.0544 - recall_2: 0.98 - ETA: 7s - loss: 0.0547 - recall_2: 0.98 - ETA: 7s - loss: 0.0548 - recall_2: 0.98 - ETA: 7s - loss: 0.0552 - recall_2: 0.98 - ETA: 7s - loss: 0.0551 - recall_2: 0.98 - ETA: 7s - loss: 0.0549 - recall_2: 0.9838\b\b\b\b\b\b\b\b\b\b\b\b\b\b\b\b\b\b\b\b\b\b\b\b\b\b\b\b\b\b\b\b\b\b\b\b\b\b\b\b\b\b\b\b\b\b\b\b\b\b\b\b\b\b\b\b\b\b\b\b\b\b\b\b\b\b\b\b\b\b\b\b\b\b\b\b\b\b\b\b\b\b\b\b\b\b\b\b"
     ]
    },
    {
     "name": "stdout",
     "output_type": "stream",
     "text": [
      "38576/38576 [==============================] - ETA: 7s - loss: 0.0550 - recall_2: 0.98 - ETA: 7s - loss: 0.0551 - recall_2: 0.98 - ETA: 7s - loss: 0.0550 - recall_2: 0.98 - ETA: 7s - loss: 0.0551 - recall_2: 0.98 - ETA: 7s - loss: 0.0551 - recall_2: 0.98 - ETA: 7s - loss: 0.0551 - recall_2: 0.98 - ETA: 7s - loss: 0.0550 - recall_2: 0.98 - ETA: 7s - loss: 0.0552 - recall_2: 0.98 - ETA: 7s - loss: 0.0552 - recall_2: 0.98 - ETA: 7s - loss: 0.0551 - recall_2: 0.98 - ETA: 7s - loss: 0.0551 - recall_2: 0.98 - ETA: 7s - loss: 0.0550 - recall_2: 0.98 - ETA: 7s - loss: 0.0550 - recall_2: 0.98 - ETA: 7s - loss: 0.0549 - recall_2: 0.98 - ETA: 7s - loss: 0.0548 - recall_2: 0.98 - ETA: 7s - loss: 0.0551 - recall_2: 0.98 - ETA: 7s - loss: 0.0550 - recall_2: 0.98 - ETA: 6s - loss: 0.0547 - recall_2: 0.98 - ETA: 6s - loss: 0.0546 - recall_2: 0.98 - ETA: 6s - loss: 0.0548 - recall_2: 0.98 - ETA: 6s - loss: 0.0546 - recall_2: 0.98 - ETA: 6s - loss: 0.0551 - recall_2: 0.98 - ETA: 6s - loss: 0.0549 - recall_2: 0.98 - ETA: 6s - loss: 0.0549 - recall_2: 0.98 - ETA: 6s - loss: 0.0549 - recall_2: 0.98 - ETA: 6s - loss: 0.0550 - recall_2: 0.98 - ETA: 6s - loss: 0.0551 - recall_2: 0.98 - ETA: 6s - loss: 0.0550 - recall_2: 0.98 - ETA: 6s - loss: 0.0549 - recall_2: 0.98 - ETA: 6s - loss: 0.0547 - recall_2: 0.98 - ETA: 5s - loss: 0.0545 - recall_2: 0.98 - ETA: 5s - loss: 0.0546 - recall_2: 0.98 - ETA: 5s - loss: 0.0546 - recall_2: 0.98 - ETA: 5s - loss: 0.0545 - recall_2: 0.98 - ETA: 5s - loss: 0.0543 - recall_2: 0.98 - ETA: 5s - loss: 0.0545 - recall_2: 0.98 - ETA: 5s - loss: 0.0546 - recall_2: 0.98 - ETA: 5s - loss: 0.0545 - recall_2: 0.98 - ETA: 5s - loss: 0.0548 - recall_2: 0.98 - ETA: 5s - loss: 0.0547 - recall_2: 0.98 - ETA: 5s - loss: 0.0546 - recall_2: 0.98 - ETA: 5s - loss: 0.0546 - recall_2: 0.98 - ETA: 5s - loss: 0.0544 - recall_2: 0.98 - ETA: 5s - loss: 0.0548 - recall_2: 0.98 - ETA: 5s - loss: 0.0547 - recall_2: 0.98 - ETA: 5s - loss: 0.0546 - recall_2: 0.98 - ETA: 4s - loss: 0.0544 - recall_2: 0.98 - ETA: 4s - loss: 0.0545 - recall_2: 0.98 - ETA: 4s - loss: 0.0544 - recall_2: 0.98 - ETA: 4s - loss: 0.0543 - recall_2: 0.98 - ETA: 4s - loss: 0.0541 - recall_2: 0.98 - ETA: 4s - loss: 0.0541 - recall_2: 0.98 - ETA: 4s - loss: 0.0540 - recall_2: 0.98 - ETA: 4s - loss: 0.0539 - recall_2: 0.98 - ETA: 4s - loss: 0.0539 - recall_2: 0.98 - ETA: 4s - loss: 0.0540 - recall_2: 0.98 - ETA: 4s - loss: 0.0538 - recall_2: 0.98 - ETA: 4s - loss: 0.0540 - recall_2: 0.98 - ETA: 4s - loss: 0.0540 - recall_2: 0.98 - ETA: 4s - loss: 0.0538 - recall_2: 0.98 - ETA: 3s - loss: 0.0538 - recall_2: 0.98 - ETA: 3s - loss: 0.0537 - recall_2: 0.98 - ETA: 3s - loss: 0.0537 - recall_2: 0.98 - ETA: 3s - loss: 0.0537 - recall_2: 0.98 - ETA: 3s - loss: 0.0536 - recall_2: 0.98 - ETA: 3s - loss: 0.0535 - recall_2: 0.98 - ETA: 3s - loss: 0.0539 - recall_2: 0.98 - ETA: 3s - loss: 0.0537 - recall_2: 0.98 - ETA: 3s - loss: 0.0536 - recall_2: 0.98 - ETA: 3s - loss: 0.0536 - recall_2: 0.98 - ETA: 3s - loss: 0.0535 - recall_2: 0.98 - ETA: 3s - loss: 0.0537 - recall_2: 0.98 - ETA: 3s - loss: 0.0537 - recall_2: 0.98 - ETA: 3s - loss: 0.0536 - recall_2: 0.98 - ETA: 3s - loss: 0.0534 - recall_2: 0.98 - ETA: 2s - loss: 0.0533 - recall_2: 0.98 - ETA: 2s - loss: 0.0532 - recall_2: 0.98 - ETA: 2s - loss: 0.0534 - recall_2: 0.98 - ETA: 2s - loss: 0.0534 - recall_2: 0.98 - ETA: 2s - loss: 0.0533 - recall_2: 0.98 - ETA: 2s - loss: 0.0532 - recall_2: 0.98 - ETA: 2s - loss: 0.0531 - recall_2: 0.98 - ETA: 2s - loss: 0.0530 - recall_2: 0.98 - ETA: 2s - loss: 0.0531 - recall_2: 0.98 - ETA: 2s - loss: 0.0534 - recall_2: 0.98 - ETA: 2s - loss: 0.0532 - recall_2: 0.98 - ETA: 2s - loss: 0.0532 - recall_2: 0.98 - ETA: 2s - loss: 0.0532 - recall_2: 0.98 - ETA: 2s - loss: 0.0531 - recall_2: 0.98 - ETA: 2s - loss: 0.0531 - recall_2: 0.98 - ETA: 1s - loss: 0.0530 - recall_2: 0.98 - ETA: 1s - loss: 0.0530 - recall_2: 0.98 - ETA: 1s - loss: 0.0529 - recall_2: 0.98 - ETA: 1s - loss: 0.0528 - recall_2: 0.98 - ETA: 1s - loss: 0.0526 - recall_2: 0.98 - ETA: 1s - loss: 0.0525 - recall_2: 0.98 - ETA: 1s - loss: 0.0525 - recall_2: 0.98 - ETA: 1s - loss: 0.0527 - recall_2: 0.98 - ETA: 1s - loss: 0.0527 - recall_2: 0.98 - ETA: 1s - loss: 0.0526 - recall_2: 0.98 - ETA: 1s - loss: 0.0530 - recall_2: 0.98 - ETA: 1s - loss: 0.0529 - recall_2: 0.98 - ETA: 1s - loss: 0.0528 - recall_2: 0.98 - ETA: 1s - loss: 0.0528 - recall_2: 0.98 - ETA: 1s - loss: 0.0527 - recall_2: 0.98 - ETA: 1s - loss: 0.0526 - recall_2: 0.98 - ETA: 0s - loss: 0.0524 - recall_2: 0.98 - ETA: 0s - loss: 0.0524 - recall_2: 0.98 - ETA: 0s - loss: 0.0526 - recall_2: 0.98 - ETA: 0s - loss: 0.0527 - recall_2: 0.98 - ETA: 0s - loss: 0.0525 - recall_2: 0.98 - ETA: 0s - loss: 0.0524 - recall_2: 0.98 - ETA: 0s - loss: 0.0523 - recall_2: 0.98 - ETA: 0s - loss: 0.0523 - recall_2: 0.98 - ETA: 0s - loss: 0.0522 - recall_2: 0.98 - ETA: 0s - loss: 0.0521 - recall_2: 0.98 - ETA: 0s - loss: 0.0524 - recall_2: 0.98 - ETA: 0s - loss: 0.0523 - recall_2: 0.98 - ETA: 0s - loss: 0.0523 - recall_2: 0.98 - ETA: 0s - loss: 0.0526 - recall_2: 0.98 - ETA: 0s - loss: 0.0525 - recall_2: 0.98 - 20s 517us/sample - loss: 0.0528 - recall_2: 0.9848 - val_loss: 0.4410 - val_recall_2: 0.9413\n",
      "Epoch 2/5\n"
     ]
    },
    {
     "name": "stdout",
     "output_type": "stream",
     "text": [
      "24512/38576 [==================>...........] - ETA: 24s - loss: 0.0277 - recall_2: 1.000 - ETA: 17s - loss: 0.0674 - recall_2: 0.993 - ETA: 15s - loss: 0.0671 - recall_2: 0.987 - ETA: 15s - loss: 0.0670 - recall_2: 0.984 - ETA: 15s - loss: 0.0582 - recall_2: 0.985 - ETA: 15s - loss: 0.0698 - recall_2: 0.981 - ETA: 15s - loss: 0.0648 - recall_2: 0.983 - ETA: 15s - loss: 0.0697 - recall_2: 0.981 - ETA: 15s - loss: 0.0630 - recall_2: 0.983 - ETA: 15s - loss: 0.0571 - recall_2: 0.985 - ETA: 14s - loss: 0.0599 - recall_2: 0.982 - ETA: 14s - loss: 0.0565 - recall_2: 0.983 - ETA: 15s - loss: 0.0538 - recall_2: 0.985 - ETA: 15s - loss: 0.0517 - recall_2: 0.985 - ETA: 14s - loss: 0.0511 - recall_2: 0.985 - ETA: 14s - loss: 0.0494 - recall_2: 0.986 - ETA: 14s - loss: 0.0507 - recall_2: 0.986 - ETA: 14s - loss: 0.0489 - recall_2: 0.987 - ETA: 14s - loss: 0.0487 - recall_2: 0.986 - ETA: 14s - loss: 0.0485 - recall_2: 0.986 - ETA: 14s - loss: 0.0483 - recall_2: 0.986 - ETA: 14s - loss: 0.0481 - recall_2: 0.986 - ETA: 14s - loss: 0.0482 - recall_2: 0.985 - ETA: 14s - loss: 0.0479 - recall_2: 0.985 - ETA: 14s - loss: 0.0487 - recall_2: 0.985 - ETA: 14s - loss: 0.0486 - recall_2: 0.985 - ETA: 14s - loss: 0.0482 - recall_2: 0.985 - ETA: 14s - loss: 0.0475 - recall_2: 0.985 - ETA: 14s - loss: 0.0467 - recall_2: 0.985 - ETA: 14s - loss: 0.0475 - recall_2: 0.985 - ETA: 14s - loss: 0.0480 - recall_2: 0.985 - ETA: 14s - loss: 0.0486 - recall_2: 0.985 - ETA: 14s - loss: 0.0485 - recall_2: 0.985 - ETA: 13s - loss: 0.0491 - recall_2: 0.985 - ETA: 13s - loss: 0.0483 - recall_2: 0.985 - ETA: 13s - loss: 0.0480 - recall_2: 0.985 - ETA: 13s - loss: 0.0478 - recall_2: 0.985 - ETA: 13s - loss: 0.0478 - recall_2: 0.985 - ETA: 13s - loss: 0.0477 - recall_2: 0.985 - ETA: 13s - loss: 0.0468 - recall_2: 0.985 - ETA: 13s - loss: 0.0460 - recall_2: 0.986 - ETA: 13s - loss: 0.0460 - recall_2: 0.986 - ETA: 13s - loss: 0.0460 - recall_2: 0.986 - ETA: 13s - loss: 0.0479 - recall_2: 0.985 - ETA: 13s - loss: 0.0485 - recall_2: 0.985 - ETA: 13s - loss: 0.0481 - recall_2: 0.985 - ETA: 13s - loss: 0.0473 - recall_2: 0.985 - ETA: 13s - loss: 0.0483 - recall_2: 0.985 - ETA: 13s - loss: 0.0477 - recall_2: 0.985 - ETA: 13s - loss: 0.0473 - recall_2: 0.985 - ETA: 13s - loss: 0.0477 - recall_2: 0.985 - ETA: 13s - loss: 0.0474 - recall_2: 0.985 - ETA: 13s - loss: 0.0471 - recall_2: 0.985 - ETA: 13s - loss: 0.0473 - recall_2: 0.985 - ETA: 13s - loss: 0.0469 - recall_2: 0.986 - ETA: 13s - loss: 0.0464 - recall_2: 0.985 - ETA: 13s - loss: 0.0459 - recall_2: 0.986 - ETA: 12s - loss: 0.0460 - recall_2: 0.986 - ETA: 12s - loss: 0.0461 - recall_2: 0.986 - ETA: 12s - loss: 0.0458 - recall_2: 0.986 - ETA: 12s - loss: 0.0453 - recall_2: 0.986 - ETA: 12s - loss: 0.0455 - recall_2: 0.986 - ETA: 12s - loss: 0.0451 - recall_2: 0.987 - ETA: 12s - loss: 0.0447 - recall_2: 0.987 - ETA: 12s - loss: 0.0448 - recall_2: 0.987 - ETA: 12s - loss: 0.0448 - recall_2: 0.986 - ETA: 12s - loss: 0.0444 - recall_2: 0.987 - ETA: 12s - loss: 0.0447 - recall_2: 0.987 - ETA: 12s - loss: 0.0447 - recall_2: 0.986 - ETA: 12s - loss: 0.0444 - recall_2: 0.986 - ETA: 12s - loss: 0.0445 - recall_2: 0.986 - ETA: 12s - loss: 0.0450 - recall_2: 0.986 - ETA: 12s - loss: 0.0447 - recall_2: 0.986 - ETA: 12s - loss: 0.0445 - recall_2: 0.986 - ETA: 12s - loss: 0.0454 - recall_2: 0.986 - ETA: 11s - loss: 0.0452 - recall_2: 0.986 - ETA: 11s - loss: 0.0462 - recall_2: 0.986 - ETA: 11s - loss: 0.0467 - recall_2: 0.986 - ETA: 11s - loss: 0.0462 - recall_2: 0.986 - ETA: 11s - loss: 0.0461 - recall_2: 0.986 - ETA: 11s - loss: 0.0458 - recall_2: 0.986 - ETA: 11s - loss: 0.0469 - recall_2: 0.986 - ETA: 11s - loss: 0.0465 - recall_2: 0.986 - ETA: 11s - loss: 0.0462 - recall_2: 0.986 - ETA: 11s - loss: 0.0461 - recall_2: 0.986 - ETA: 11s - loss: 0.0459 - recall_2: 0.986 - ETA: 11s - loss: 0.0456 - recall_2: 0.986 - ETA: 11s - loss: 0.0454 - recall_2: 0.986 - ETA: 11s - loss: 0.0454 - recall_2: 0.986 - ETA: 11s - loss: 0.0455 - recall_2: 0.986 - ETA: 11s - loss: 0.0452 - recall_2: 0.986 - ETA: 11s - loss: 0.0456 - recall_2: 0.986 - ETA: 11s - loss: 0.0452 - recall_2: 0.986 - ETA: 11s - loss: 0.0448 - recall_2: 0.986 - ETA: 11s - loss: 0.0446 - recall_2: 0.987 - ETA: 11s - loss: 0.0447 - recall_2: 0.987 - ETA: 10s - loss: 0.0444 - recall_2: 0.987 - ETA: 10s - loss: 0.0442 - recall_2: 0.987 - ETA: 10s - loss: 0.0445 - recall_2: 0.987 - ETA: 10s - loss: 0.0443 - recall_2: 0.987 - ETA: 10s - loss: 0.0440 - recall_2: 0.987 - ETA: 10s - loss: 0.0438 - recall_2: 0.987 - ETA: 10s - loss: 0.0436 - recall_2: 0.987 - ETA: 10s - loss: 0.0437 - recall_2: 0.987 - ETA: 10s - loss: 0.0436 - recall_2: 0.987 - ETA: 10s - loss: 0.0433 - recall_2: 0.987 - ETA: 10s - loss: 0.0436 - recall_2: 0.987 - ETA: 10s - loss: 0.0447 - recall_2: 0.987 - ETA: 10s - loss: 0.0445 - recall_2: 0.987 - ETA: 10s - loss: 0.0452 - recall_2: 0.986 - ETA: 10s - loss: 0.0450 - recall_2: 0.986 - ETA: 10s - loss: 0.0453 - recall_2: 0.986 - ETA: 10s - loss: 0.0451 - recall_2: 0.986 - ETA: 10s - loss: 0.0453 - recall_2: 0.986 - ETA: 10s - loss: 0.0451 - recall_2: 0.986 - ETA: 9s - loss: 0.0449 - recall_2: 0.986 - ETA: 9s - loss: 0.0449 - recall_2: 0.98 - ETA: 9s - loss: 0.0449 - recall_2: 0.98 - ETA: 9s - loss: 0.0454 - recall_2: 0.98 - ETA: 9s - loss: 0.0453 - recall_2: 0.98 - ETA: 9s - loss: 0.0451 - recall_2: 0.98 - ETA: 9s - loss: 0.0449 - recall_2: 0.98 - ETA: 9s - loss: 0.0446 - recall_2: 0.98 - ETA: 9s - loss: 0.0444 - recall_2: 0.98 - ETA: 9s - loss: 0.0441 - recall_2: 0.98 - ETA: 9s - loss: 0.0438 - recall_2: 0.98 - ETA: 9s - loss: 0.0436 - recall_2: 0.98 - ETA: 9s - loss: 0.0437 - recall_2: 0.98 - ETA: 9s - loss: 0.0440 - recall_2: 0.98 - ETA: 9s - loss: 0.0443 - recall_2: 0.98 - ETA: 9s - loss: 0.0441 - recall_2: 0.98 - ETA: 9s - loss: 0.0440 - recall_2: 0.98 - ETA: 9s - loss: 0.0441 - recall_2: 0.98 - ETA: 8s - loss: 0.0441 - recall_2: 0.98 - ETA: 8s - loss: 0.0439 - recall_2: 0.98 - ETA: 8s - loss: 0.0443 - recall_2: 0.98 - ETA: 8s - loss: 0.0442 - recall_2: 0.98 - ETA: 8s - loss: 0.0443 - recall_2: 0.98 - ETA: 8s - loss: 0.0441 - recall_2: 0.98 - ETA: 8s - loss: 0.0441 - recall_2: 0.98 - ETA: 8s - loss: 0.0439 - recall_2: 0.98 - ETA: 8s - loss: 0.0440 - recall_2: 0.98 - ETA: 8s - loss: 0.0439 - recall_2: 0.98 - ETA: 8s - loss: 0.0437 - recall_2: 0.98 - ETA: 8s - loss: 0.0436 - recall_2: 0.98 - ETA: 8s - loss: 0.0435 - recall_2: 0.98 - ETA: 8s - loss: 0.0436 - recall_2: 0.98 - ETA: 8s - loss: 0.0437 - recall_2: 0.98 - ETA: 8s - loss: 0.0440 - recall_2: 0.98 - ETA: 8s - loss: 0.0439 - recall_2: 0.98 - ETA: 8s - loss: 0.0439 - recall_2: 0.98 - ETA: 8s - loss: 0.0440 - recall_2: 0.98 - ETA: 7s - loss: 0.0440 - recall_2: 0.98 - ETA: 7s - loss: 0.0440 - recall_2: 0.98 - ETA: 7s - loss: 0.0438 - recall_2: 0.98 - ETA: 7s - loss: 0.0437 - recall_2: 0.98 - ETA: 7s - loss: 0.0435 - recall_2: 0.98 - ETA: 7s - loss: 0.0437 - recall_2: 0.98 - ETA: 7s - loss: 0.0435 - recall_2: 0.98 - ETA: 7s - loss: 0.0437 - recall_2: 0.98 - ETA: 7s - loss: 0.0436 - recall_2: 0.98 - ETA: 7s - loss: 0.0434 - recall_2: 0.98 - ETA: 7s - loss: 0.0433 - recall_2: 0.98 - ETA: 7s - loss: 0.0436 - recall_2: 0.98 - ETA: 7s - loss: 0.0436 - recall_2: 0.98 - ETA: 7s - loss: 0.0434 - recall_2: 0.98 - ETA: 7s - loss: 0.0434 - recall_2: 0.98 - ETA: 7s - loss: 0.0434 - recall_2: 0.98 - ETA: 7s - loss: 0.0433 - recall_2: 0.98 - ETA: 7s - loss: 0.0433 - recall_2: 0.98 - ETA: 6s - loss: 0.0433 - recall_2: 0.98 - ETA: 6s - loss: 0.0435 - recall_2: 0.98 - ETA: 6s - loss: 0.0433 - recall_2: 0.98 - ETA: 6s - loss: 0.0432 - recall_2: 0.98 - ETA: 6s - loss: 0.0431 - recall_2: 0.98 - ETA: 6s - loss: 0.0431 - recall_2: 0.98 - ETA: 6s - loss: 0.0431 - recall_2: 0.98 - ETA: 6s - loss: 0.0430 - recall_2: 0.98 - ETA: 6s - loss: 0.0430 - recall_2: 0.98 - ETA: 6s - loss: 0.0430 - recall_2: 0.98 - ETA: 6s - loss: 0.0432 - recall_2: 0.98 - ETA: 6s - loss: 0.0433 - recall_2: 0.98 - ETA: 6s - loss: 0.0437 - recall_2: 0.98 - ETA: 6s - loss: 0.0436 - recall_2: 0.98 - ETA: 6s - loss: 0.0438 - recall_2: 0.98 - ETA: 6s - loss: 0.0437 - recall_2: 0.98 - ETA: 6s - loss: 0.0436 - recall_2: 0.98 - ETA: 6s - loss: 0.0434 - recall_2: 0.98 - ETA: 5s - loss: 0.0434 - recall_2: 0.9868"
     ]
    },
    {
     "name": "stdout",
     "output_type": "stream",
     "text": [
      "38576/38576 [==============================] - ETA: 5s - loss: 0.0434 - recall_2: 0.98 - ETA: 5s - loss: 0.0433 - recall_2: 0.98 - ETA: 5s - loss: 0.0431 - recall_2: 0.98 - ETA: 5s - loss: 0.0432 - recall_2: 0.98 - ETA: 5s - loss: 0.0431 - recall_2: 0.98 - ETA: 5s - loss: 0.0431 - recall_2: 0.98 - ETA: 5s - loss: 0.0432 - recall_2: 0.98 - ETA: 5s - loss: 0.0431 - recall_2: 0.98 - ETA: 5s - loss: 0.0433 - recall_2: 0.98 - ETA: 5s - loss: 0.0432 - recall_2: 0.98 - ETA: 5s - loss: 0.0432 - recall_2: 0.98 - ETA: 5s - loss: 0.0430 - recall_2: 0.98 - ETA: 5s - loss: 0.0430 - recall_2: 0.98 - ETA: 5s - loss: 0.0431 - recall_2: 0.98 - ETA: 5s - loss: 0.0432 - recall_2: 0.98 - ETA: 5s - loss: 0.0432 - recall_2: 0.98 - ETA: 5s - loss: 0.0434 - recall_2: 0.98 - ETA: 5s - loss: 0.0433 - recall_2: 0.98 - ETA: 5s - loss: 0.0431 - recall_2: 0.98 - ETA: 4s - loss: 0.0430 - recall_2: 0.98 - ETA: 4s - loss: 0.0429 - recall_2: 0.98 - ETA: 4s - loss: 0.0430 - recall_2: 0.98 - ETA: 4s - loss: 0.0431 - recall_2: 0.98 - ETA: 4s - loss: 0.0429 - recall_2: 0.98 - ETA: 4s - loss: 0.0429 - recall_2: 0.98 - ETA: 4s - loss: 0.0428 - recall_2: 0.98 - ETA: 4s - loss: 0.0429 - recall_2: 0.98 - ETA: 4s - loss: 0.0429 - recall_2: 0.98 - ETA: 4s - loss: 0.0430 - recall_2: 0.98 - ETA: 4s - loss: 0.0428 - recall_2: 0.98 - ETA: 4s - loss: 0.0428 - recall_2: 0.98 - ETA: 4s - loss: 0.0428 - recall_2: 0.98 - ETA: 4s - loss: 0.0429 - recall_2: 0.98 - ETA: 4s - loss: 0.0433 - recall_2: 0.98 - ETA: 4s - loss: 0.0434 - recall_2: 0.98 - ETA: 4s - loss: 0.0434 - recall_2: 0.98 - ETA: 3s - loss: 0.0433 - recall_2: 0.98 - ETA: 3s - loss: 0.0433 - recall_2: 0.98 - ETA: 3s - loss: 0.0439 - recall_2: 0.98 - ETA: 3s - loss: 0.0439 - recall_2: 0.98 - ETA: 3s - loss: 0.0439 - recall_2: 0.98 - ETA: 3s - loss: 0.0438 - recall_2: 0.98 - ETA: 3s - loss: 0.0439 - recall_2: 0.98 - ETA: 3s - loss: 0.0442 - recall_2: 0.98 - ETA: 3s - loss: 0.0441 - recall_2: 0.98 - ETA: 3s - loss: 0.0441 - recall_2: 0.98 - ETA: 3s - loss: 0.0440 - recall_2: 0.98 - ETA: 3s - loss: 0.0439 - recall_2: 0.98 - ETA: 3s - loss: 0.0438 - recall_2: 0.98 - ETA: 3s - loss: 0.0437 - recall_2: 0.98 - ETA: 3s - loss: 0.0437 - recall_2: 0.98 - ETA: 3s - loss: 0.0436 - recall_2: 0.98 - ETA: 3s - loss: 0.0436 - recall_2: 0.98 - ETA: 3s - loss: 0.0436 - recall_2: 0.98 - ETA: 2s - loss: 0.0435 - recall_2: 0.98 - ETA: 2s - loss: 0.0435 - recall_2: 0.98 - ETA: 2s - loss: 0.0434 - recall_2: 0.98 - ETA: 2s - loss: 0.0437 - recall_2: 0.98 - ETA: 2s - loss: 0.0436 - recall_2: 0.98 - ETA: 2s - loss: 0.0435 - recall_2: 0.98 - ETA: 2s - loss: 0.0436 - recall_2: 0.98 - ETA: 2s - loss: 0.0435 - recall_2: 0.98 - ETA: 2s - loss: 0.0435 - recall_2: 0.98 - ETA: 2s - loss: 0.0434 - recall_2: 0.98 - ETA: 2s - loss: 0.0433 - recall_2: 0.98 - ETA: 2s - loss: 0.0432 - recall_2: 0.98 - ETA: 2s - loss: 0.0433 - recall_2: 0.98 - ETA: 2s - loss: 0.0433 - recall_2: 0.98 - ETA: 2s - loss: 0.0433 - recall_2: 0.98 - ETA: 2s - loss: 0.0432 - recall_2: 0.98 - ETA: 2s - loss: 0.0431 - recall_2: 0.98 - ETA: 2s - loss: 0.0430 - recall_2: 0.98 - ETA: 1s - loss: 0.0430 - recall_2: 0.98 - ETA: 1s - loss: 0.0429 - recall_2: 0.98 - ETA: 1s - loss: 0.0428 - recall_2: 0.98 - ETA: 1s - loss: 0.0432 - recall_2: 0.98 - ETA: 1s - loss: 0.0432 - recall_2: 0.98 - ETA: 1s - loss: 0.0431 - recall_2: 0.98 - ETA: 1s - loss: 0.0430 - recall_2: 0.98 - ETA: 1s - loss: 0.0430 - recall_2: 0.98 - ETA: 1s - loss: 0.0429 - recall_2: 0.98 - ETA: 1s - loss: 0.0429 - recall_2: 0.98 - ETA: 1s - loss: 0.0428 - recall_2: 0.98 - ETA: 1s - loss: 0.0429 - recall_2: 0.98 - ETA: 1s - loss: 0.0430 - recall_2: 0.98 - ETA: 1s - loss: 0.0429 - recall_2: 0.98 - ETA: 1s - loss: 0.0429 - recall_2: 0.98 - ETA: 1s - loss: 0.0428 - recall_2: 0.98 - ETA: 1s - loss: 0.0428 - recall_2: 0.98 - ETA: 1s - loss: 0.0428 - recall_2: 0.98 - ETA: 0s - loss: 0.0427 - recall_2: 0.98 - ETA: 0s - loss: 0.0430 - recall_2: 0.98 - ETA: 0s - loss: 0.0430 - recall_2: 0.98 - ETA: 0s - loss: 0.0429 - recall_2: 0.98 - ETA: 0s - loss: 0.0431 - recall_2: 0.98 - ETA: 0s - loss: 0.0430 - recall_2: 0.98 - ETA: 0s - loss: 0.0429 - recall_2: 0.98 - ETA: 0s - loss: 0.0430 - recall_2: 0.98 - ETA: 0s - loss: 0.0429 - recall_2: 0.98 - ETA: 0s - loss: 0.0429 - recall_2: 0.98 - ETA: 0s - loss: 0.0429 - recall_2: 0.98 - ETA: 0s - loss: 0.0428 - recall_2: 0.98 - ETA: 0s - loss: 0.0428 - recall_2: 0.98 - ETA: 0s - loss: 0.0429 - recall_2: 0.98 - ETA: 0s - loss: 0.0428 - recall_2: 0.98 - ETA: 0s - loss: 0.0427 - recall_2: 0.98 - ETA: 0s - loss: 0.0427 - recall_2: 0.98 - ETA: 0s - loss: 0.0428 - recall_2: 0.98 - 17s 439us/sample - loss: 0.0429 - recall_2: 0.9869 - val_loss: 0.4936 - val_recall_2: 0.9372\n",
      "Epoch 3/5\n"
     ]
    },
    {
     "name": "stdout",
     "output_type": "stream",
     "text": [
      "24512/38576 [==================>...........] - ETA: 33s - loss: 0.1050 - recall_2: 0.968 - ETA: 18s - loss: 0.1673 - recall_2: 0.956 - ETA: 16s - loss: 0.0959 - recall_2: 0.975 - ETA: 15s - loss: 0.0755 - recall_2: 0.981 - ETA: 16s - loss: 0.0644 - recall_2: 0.985 - ETA: 15s - loss: 0.0531 - recall_2: 0.988 - ETA: 15s - loss: 0.0584 - recall_2: 0.987 - ETA: 15s - loss: 0.0524 - recall_2: 0.989 - ETA: 15s - loss: 0.0501 - recall_2: 0.989 - ETA: 15s - loss: 0.0488 - recall_2: 0.990 - ETA: 15s - loss: 0.0474 - recall_2: 0.990 - ETA: 15s - loss: 0.0459 - recall_2: 0.990 - ETA: 15s - loss: 0.0474 - recall_2: 0.990 - ETA: 15s - loss: 0.0458 - recall_2: 0.990 - ETA: 15s - loss: 0.0442 - recall_2: 0.990 - ETA: 15s - loss: 0.0446 - recall_2: 0.989 - ETA: 15s - loss: 0.0426 - recall_2: 0.990 - ETA: 15s - loss: 0.0422 - recall_2: 0.990 - ETA: 15s - loss: 0.0414 - recall_2: 0.990 - ETA: 14s - loss: 0.0429 - recall_2: 0.990 - ETA: 15s - loss: 0.0421 - recall_2: 0.990 - ETA: 14s - loss: 0.0421 - recall_2: 0.989 - ETA: 14s - loss: 0.0429 - recall_2: 0.989 - ETA: 14s - loss: 0.0436 - recall_2: 0.988 - ETA: 14s - loss: 0.0429 - recall_2: 0.989 - ETA: 14s - loss: 0.0424 - recall_2: 0.989 - ETA: 14s - loss: 0.0421 - recall_2: 0.989 - ETA: 14s - loss: 0.0421 - recall_2: 0.988 - ETA: 14s - loss: 0.0418 - recall_2: 0.988 - ETA: 14s - loss: 0.0409 - recall_2: 0.989 - ETA: 14s - loss: 0.0400 - recall_2: 0.989 - ETA: 14s - loss: 0.0408 - recall_2: 0.989 - ETA: 14s - loss: 0.0414 - recall_2: 0.988 - ETA: 14s - loss: 0.0404 - recall_2: 0.989 - ETA: 14s - loss: 0.0403 - recall_2: 0.989 - ETA: 14s - loss: 0.0397 - recall_2: 0.989 - ETA: 14s - loss: 0.0404 - recall_2: 0.989 - ETA: 14s - loss: 0.0396 - recall_2: 0.989 - ETA: 14s - loss: 0.0396 - recall_2: 0.989 - ETA: 14s - loss: 0.0399 - recall_2: 0.989 - ETA: 14s - loss: 0.0394 - recall_2: 0.989 - ETA: 13s - loss: 0.0393 - recall_2: 0.989 - ETA: 13s - loss: 0.0388 - recall_2: 0.989 - ETA: 13s - loss: 0.0389 - recall_2: 0.989 - ETA: 13s - loss: 0.0383 - recall_2: 0.989 - ETA: 13s - loss: 0.0382 - recall_2: 0.989 - ETA: 13s - loss: 0.0383 - recall_2: 0.989 - ETA: 13s - loss: 0.0381 - recall_2: 0.989 - ETA: 13s - loss: 0.0378 - recall_2: 0.989 - ETA: 13s - loss: 0.0375 - recall_2: 0.989 - ETA: 13s - loss: 0.0372 - recall_2: 0.989 - ETA: 13s - loss: 0.0372 - recall_2: 0.989 - ETA: 13s - loss: 0.0372 - recall_2: 0.989 - ETA: 13s - loss: 0.0374 - recall_2: 0.989 - ETA: 13s - loss: 0.0376 - recall_2: 0.989 - ETA: 13s - loss: 0.0382 - recall_2: 0.989 - ETA: 13s - loss: 0.0386 - recall_2: 0.989 - ETA: 13s - loss: 0.0403 - recall_2: 0.988 - ETA: 13s - loss: 0.0400 - recall_2: 0.988 - ETA: 13s - loss: 0.0397 - recall_2: 0.988 - ETA: 12s - loss: 0.0404 - recall_2: 0.988 - ETA: 12s - loss: 0.0400 - recall_2: 0.988 - ETA: 12s - loss: 0.0397 - recall_2: 0.988 - ETA: 12s - loss: 0.0396 - recall_2: 0.988 - ETA: 12s - loss: 0.0393 - recall_2: 0.989 - ETA: 12s - loss: 0.0396 - recall_2: 0.989 - ETA: 12s - loss: 0.0392 - recall_2: 0.989 - ETA: 12s - loss: 0.0396 - recall_2: 0.989 - ETA: 12s - loss: 0.0406 - recall_2: 0.988 - ETA: 12s - loss: 0.0406 - recall_2: 0.988 - ETA: 12s - loss: 0.0402 - recall_2: 0.988 - ETA: 12s - loss: 0.0398 - recall_2: 0.989 - ETA: 12s - loss: 0.0395 - recall_2: 0.989 - ETA: 12s - loss: 0.0392 - recall_2: 0.989 - ETA: 12s - loss: 0.0389 - recall_2: 0.989 - ETA: 12s - loss: 0.0385 - recall_2: 0.989 - ETA: 12s - loss: 0.0384 - recall_2: 0.989 - ETA: 12s - loss: 0.0381 - recall_2: 0.989 - ETA: 12s - loss: 0.0379 - recall_2: 0.989 - ETA: 11s - loss: 0.0376 - recall_2: 0.989 - ETA: 11s - loss: 0.0374 - recall_2: 0.989 - ETA: 11s - loss: 0.0373 - recall_2: 0.989 - ETA: 11s - loss: 0.0370 - recall_2: 0.989 - ETA: 11s - loss: 0.0366 - recall_2: 0.989 - ETA: 11s - loss: 0.0362 - recall_2: 0.990 - ETA: 11s - loss: 0.0368 - recall_2: 0.989 - ETA: 11s - loss: 0.0367 - recall_2: 0.989 - ETA: 11s - loss: 0.0368 - recall_2: 0.989 - ETA: 11s - loss: 0.0365 - recall_2: 0.990 - ETA: 11s - loss: 0.0365 - recall_2: 0.989 - ETA: 11s - loss: 0.0365 - recall_2: 0.990 - ETA: 11s - loss: 0.0369 - recall_2: 0.989 - ETA: 11s - loss: 0.0371 - recall_2: 0.989 - ETA: 11s - loss: 0.0370 - recall_2: 0.989 - ETA: 11s - loss: 0.0370 - recall_2: 0.989 - ETA: 11s - loss: 0.0370 - recall_2: 0.989 - ETA: 10s - loss: 0.0367 - recall_2: 0.989 - ETA: 10s - loss: 0.0372 - recall_2: 0.989 - ETA: 10s - loss: 0.0370 - recall_2: 0.989 - ETA: 10s - loss: 0.0369 - recall_2: 0.989 - ETA: 10s - loss: 0.0368 - recall_2: 0.989 - ETA: 10s - loss: 0.0367 - recall_2: 0.989 - ETA: 10s - loss: 0.0367 - recall_2: 0.989 - ETA: 10s - loss: 0.0366 - recall_2: 0.989 - ETA: 10s - loss: 0.0365 - recall_2: 0.989 - ETA: 10s - loss: 0.0362 - recall_2: 0.989 - ETA: 10s - loss: 0.0362 - recall_2: 0.989 - ETA: 10s - loss: 0.0361 - recall_2: 0.989 - ETA: 10s - loss: 0.0368 - recall_2: 0.989 - ETA: 10s - loss: 0.0367 - recall_2: 0.989 - ETA: 10s - loss: 0.0371 - recall_2: 0.989 - ETA: 10s - loss: 0.0369 - recall_2: 0.989 - ETA: 10s - loss: 0.0367 - recall_2: 0.989 - ETA: 10s - loss: 0.0367 - recall_2: 0.989 - ETA: 9s - loss: 0.0366 - recall_2: 0.989 - ETA: 9s - loss: 0.0363 - recall_2: 0.98 - ETA: 9s - loss: 0.0361 - recall_2: 0.98 - ETA: 9s - loss: 0.0371 - recall_2: 0.98 - ETA: 9s - loss: 0.0373 - recall_2: 0.98 - ETA: 9s - loss: 0.0376 - recall_2: 0.98 - ETA: 9s - loss: 0.0374 - recall_2: 0.98 - ETA: 9s - loss: 0.0375 - recall_2: 0.98 - ETA: 9s - loss: 0.0377 - recall_2: 0.98 - ETA: 9s - loss: 0.0375 - recall_2: 0.98 - ETA: 9s - loss: 0.0378 - recall_2: 0.98 - ETA: 9s - loss: 0.0378 - recall_2: 0.98 - ETA: 9s - loss: 0.0380 - recall_2: 0.98 - ETA: 9s - loss: 0.0382 - recall_2: 0.98 - ETA: 9s - loss: 0.0382 - recall_2: 0.98 - ETA: 9s - loss: 0.0379 - recall_2: 0.98 - ETA: 9s - loss: 0.0379 - recall_2: 0.98 - ETA: 9s - loss: 0.0378 - recall_2: 0.98 - ETA: 8s - loss: 0.0377 - recall_2: 0.98 - ETA: 8s - loss: 0.0376 - recall_2: 0.98 - ETA: 8s - loss: 0.0380 - recall_2: 0.98 - ETA: 8s - loss: 0.0380 - recall_2: 0.98 - ETA: 8s - loss: 0.0378 - recall_2: 0.98 - ETA: 8s - loss: 0.0377 - recall_2: 0.98 - ETA: 8s - loss: 0.0378 - recall_2: 0.98 - ETA: 8s - loss: 0.0377 - recall_2: 0.98 - ETA: 8s - loss: 0.0379 - recall_2: 0.98 - ETA: 8s - loss: 0.0379 - recall_2: 0.98 - ETA: 8s - loss: 0.0378 - recall_2: 0.98 - ETA: 8s - loss: 0.0378 - recall_2: 0.98 - ETA: 8s - loss: 0.0380 - recall_2: 0.98 - ETA: 8s - loss: 0.0383 - recall_2: 0.98 - ETA: 8s - loss: 0.0382 - recall_2: 0.98 - ETA: 8s - loss: 0.0382 - recall_2: 0.98 - ETA: 8s - loss: 0.0382 - recall_2: 0.98 - ETA: 8s - loss: 0.0382 - recall_2: 0.98 - ETA: 8s - loss: 0.0383 - recall_2: 0.98 - ETA: 8s - loss: 0.0385 - recall_2: 0.98 - ETA: 7s - loss: 0.0384 - recall_2: 0.98 - ETA: 7s - loss: 0.0384 - recall_2: 0.98 - ETA: 7s - loss: 0.0389 - recall_2: 0.98 - ETA: 7s - loss: 0.0389 - recall_2: 0.98 - ETA: 7s - loss: 0.0390 - recall_2: 0.98 - ETA: 7s - loss: 0.0389 - recall_2: 0.98 - ETA: 7s - loss: 0.0388 - recall_2: 0.98 - ETA: 7s - loss: 0.0393 - recall_2: 0.98 - ETA: 7s - loss: 0.0394 - recall_2: 0.98 - ETA: 7s - loss: 0.0395 - recall_2: 0.98 - ETA: 7s - loss: 0.0395 - recall_2: 0.98 - ETA: 7s - loss: 0.0394 - recall_2: 0.98 - ETA: 7s - loss: 0.0393 - recall_2: 0.98 - ETA: 7s - loss: 0.0393 - recall_2: 0.98 - ETA: 7s - loss: 0.0391 - recall_2: 0.98 - ETA: 7s - loss: 0.0389 - recall_2: 0.98 - ETA: 7s - loss: 0.0389 - recall_2: 0.98 - ETA: 7s - loss: 0.0393 - recall_2: 0.98 - ETA: 7s - loss: 0.0391 - recall_2: 0.98 - ETA: 6s - loss: 0.0389 - recall_2: 0.98 - ETA: 6s - loss: 0.0389 - recall_2: 0.98 - ETA: 6s - loss: 0.0388 - recall_2: 0.98 - ETA: 6s - loss: 0.0387 - recall_2: 0.98 - ETA: 6s - loss: 0.0387 - recall_2: 0.98 - ETA: 6s - loss: 0.0385 - recall_2: 0.98 - ETA: 6s - loss: 0.0385 - recall_2: 0.98 - ETA: 6s - loss: 0.0387 - recall_2: 0.98 - ETA: 6s - loss: 0.0386 - recall_2: 0.98 - ETA: 6s - loss: 0.0386 - recall_2: 0.98 - ETA: 6s - loss: 0.0385 - recall_2: 0.98 - ETA: 6s - loss: 0.0387 - recall_2: 0.98 - ETA: 6s - loss: 0.0388 - recall_2: 0.98 - ETA: 6s - loss: 0.0388 - recall_2: 0.98 - ETA: 6s - loss: 0.0387 - recall_2: 0.98 - ETA: 6s - loss: 0.0387 - recall_2: 0.98 - ETA: 6s - loss: 0.0386 - recall_2: 0.98 - ETA: 6s - loss: 0.0385 - recall_2: 0.9890"
     ]
    },
    {
     "name": "stdout",
     "output_type": "stream",
     "text": [
      "38576/38576 [==============================] - ETA: 5s - loss: 0.0385 - recall_2: 0.98 - ETA: 5s - loss: 0.0385 - recall_2: 0.98 - ETA: 5s - loss: 0.0384 - recall_2: 0.98 - ETA: 5s - loss: 0.0382 - recall_2: 0.98 - ETA: 5s - loss: 0.0381 - recall_2: 0.98 - ETA: 5s - loss: 0.0380 - recall_2: 0.98 - ETA: 5s - loss: 0.0382 - recall_2: 0.98 - ETA: 5s - loss: 0.0381 - recall_2: 0.98 - ETA: 5s - loss: 0.0380 - recall_2: 0.98 - ETA: 5s - loss: 0.0381 - recall_2: 0.98 - ETA: 5s - loss: 0.0382 - recall_2: 0.98 - ETA: 5s - loss: 0.0382 - recall_2: 0.98 - ETA: 5s - loss: 0.0383 - recall_2: 0.98 - ETA: 5s - loss: 0.0382 - recall_2: 0.98 - ETA: 5s - loss: 0.0381 - recall_2: 0.98 - ETA: 5s - loss: 0.0381 - recall_2: 0.98 - ETA: 5s - loss: 0.0380 - recall_2: 0.98 - ETA: 4s - loss: 0.0379 - recall_2: 0.98 - ETA: 4s - loss: 0.0377 - recall_2: 0.98 - ETA: 4s - loss: 0.0377 - recall_2: 0.98 - ETA: 4s - loss: 0.0376 - recall_2: 0.98 - ETA: 4s - loss: 0.0374 - recall_2: 0.98 - ETA: 4s - loss: 0.0376 - recall_2: 0.98 - ETA: 4s - loss: 0.0376 - recall_2: 0.98 - ETA: 4s - loss: 0.0377 - recall_2: 0.98 - ETA: 4s - loss: 0.0376 - recall_2: 0.98 - ETA: 4s - loss: 0.0382 - recall_2: 0.98 - ETA: 4s - loss: 0.0383 - recall_2: 0.98 - ETA: 4s - loss: 0.0384 - recall_2: 0.98 - ETA: 4s - loss: 0.0384 - recall_2: 0.98 - ETA: 4s - loss: 0.0383 - recall_2: 0.98 - ETA: 4s - loss: 0.0385 - recall_2: 0.98 - ETA: 4s - loss: 0.0385 - recall_2: 0.98 - ETA: 4s - loss: 0.0390 - recall_2: 0.98 - ETA: 3s - loss: 0.0390 - recall_2: 0.98 - ETA: 3s - loss: 0.0391 - recall_2: 0.98 - ETA: 3s - loss: 0.0391 - recall_2: 0.98 - ETA: 3s - loss: 0.0391 - recall_2: 0.98 - ETA: 3s - loss: 0.0393 - recall_2: 0.98 - ETA: 3s - loss: 0.0392 - recall_2: 0.98 - ETA: 3s - loss: 0.0393 - recall_2: 0.98 - ETA: 3s - loss: 0.0392 - recall_2: 0.98 - ETA: 3s - loss: 0.0393 - recall_2: 0.98 - ETA: 3s - loss: 0.0393 - recall_2: 0.98 - ETA: 3s - loss: 0.0392 - recall_2: 0.98 - ETA: 3s - loss: 0.0391 - recall_2: 0.98 - ETA: 3s - loss: 0.0393 - recall_2: 0.98 - ETA: 3s - loss: 0.0392 - recall_2: 0.98 - ETA: 3s - loss: 0.0394 - recall_2: 0.98 - ETA: 3s - loss: 0.0393 - recall_2: 0.98 - ETA: 3s - loss: 0.0393 - recall_2: 0.98 - ETA: 2s - loss: 0.0392 - recall_2: 0.98 - ETA: 2s - loss: 0.0392 - recall_2: 0.98 - ETA: 2s - loss: 0.0394 - recall_2: 0.98 - ETA: 2s - loss: 0.0394 - recall_2: 0.98 - ETA: 2s - loss: 0.0394 - recall_2: 0.98 - ETA: 2s - loss: 0.0395 - recall_2: 0.98 - ETA: 2s - loss: 0.0394 - recall_2: 0.98 - ETA: 2s - loss: 0.0394 - recall_2: 0.98 - ETA: 2s - loss: 0.0393 - recall_2: 0.98 - ETA: 2s - loss: 0.0393 - recall_2: 0.98 - ETA: 2s - loss: 0.0392 - recall_2: 0.98 - ETA: 2s - loss: 0.0392 - recall_2: 0.98 - ETA: 2s - loss: 0.0391 - recall_2: 0.98 - ETA: 2s - loss: 0.0390 - recall_2: 0.98 - ETA: 2s - loss: 0.0391 - recall_2: 0.98 - ETA: 2s - loss: 0.0391 - recall_2: 0.98 - ETA: 2s - loss: 0.0390 - recall_2: 0.98 - ETA: 2s - loss: 0.0391 - recall_2: 0.98 - ETA: 2s - loss: 0.0391 - recall_2: 0.98 - ETA: 2s - loss: 0.0390 - recall_2: 0.98 - ETA: 2s - loss: 0.0390 - recall_2: 0.98 - ETA: 2s - loss: 0.0389 - recall_2: 0.98 - ETA: 2s - loss: 0.0389 - recall_2: 0.98 - ETA: 2s - loss: 0.0388 - recall_2: 0.98 - ETA: 2s - loss: 0.0387 - recall_2: 0.98 - ETA: 1s - loss: 0.0387 - recall_2: 0.98 - ETA: 1s - loss: 0.0388 - recall_2: 0.98 - ETA: 1s - loss: 0.0387 - recall_2: 0.98 - ETA: 1s - loss: 0.0388 - recall_2: 0.98 - ETA: 1s - loss: 0.0389 - recall_2: 0.98 - ETA: 1s - loss: 0.0392 - recall_2: 0.98 - ETA: 1s - loss: 0.0391 - recall_2: 0.98 - ETA: 1s - loss: 0.0390 - recall_2: 0.98 - ETA: 1s - loss: 0.0391 - recall_2: 0.98 - ETA: 1s - loss: 0.0390 - recall_2: 0.98 - ETA: 1s - loss: 0.0392 - recall_2: 0.98 - ETA: 1s - loss: 0.0391 - recall_2: 0.98 - ETA: 1s - loss: 0.0393 - recall_2: 0.98 - ETA: 1s - loss: 0.0393 - recall_2: 0.98 - ETA: 1s - loss: 0.0392 - recall_2: 0.98 - ETA: 1s - loss: 0.0392 - recall_2: 0.98 - ETA: 1s - loss: 0.0392 - recall_2: 0.98 - ETA: 1s - loss: 0.0391 - recall_2: 0.98 - ETA: 1s - loss: 0.0392 - recall_2: 0.98 - ETA: 1s - loss: 0.0391 - recall_2: 0.98 - ETA: 0s - loss: 0.0391 - recall_2: 0.98 - ETA: 0s - loss: 0.0390 - recall_2: 0.98 - ETA: 0s - loss: 0.0389 - recall_2: 0.98 - ETA: 0s - loss: 0.0389 - recall_2: 0.98 - ETA: 0s - loss: 0.0390 - recall_2: 0.98 - ETA: 0s - loss: 0.0389 - recall_2: 0.98 - ETA: 0s - loss: 0.0389 - recall_2: 0.98 - ETA: 0s - loss: 0.0388 - recall_2: 0.98 - ETA: 0s - loss: 0.0388 - recall_2: 0.98 - ETA: 0s - loss: 0.0387 - recall_2: 0.98 - ETA: 0s - loss: 0.0387 - recall_2: 0.98 - ETA: 0s - loss: 0.0386 - recall_2: 0.98 - ETA: 0s - loss: 0.0387 - recall_2: 0.98 - ETA: 0s - loss: 0.0388 - recall_2: 0.98 - ETA: 0s - loss: 0.0388 - recall_2: 0.98 - ETA: 0s - loss: 0.0389 - recall_2: 0.98 - ETA: 0s - loss: 0.0388 - recall_2: 0.98 - ETA: 0s - loss: 0.0388 - recall_2: 0.98 - ETA: 0s - loss: 0.0387 - recall_2: 0.98 - ETA: 0s - loss: 0.0387 - recall_2: 0.98 - ETA: 0s - loss: 0.0386 - recall_2: 0.98 - ETA: 0s - loss: 0.0385 - recall_2: 0.98 - ETA: 0s - loss: 0.0385 - recall_2: 0.98 - ETA: 0s - loss: 0.0384 - recall_2: 0.98 - 18s 467us/sample - loss: 0.0384 - recall_2: 0.9887 - val_loss: 0.5100 - val_recall_2: 0.9379\n",
      "Epoch 4/5\n"
     ]
    },
    {
     "name": "stdout",
     "output_type": "stream",
     "text": [
      "22144/38576 [================>.............] - ETA: 21s - loss: 6.3144e-04 - recall_2: 1.000 - ETA: 17s - loss: 0.0188 - recall_2: 0.9875    - ETA: 17s - loss: 0.0212 - recall_2: 0.986 - ETA: 16s - loss: 0.0202 - recall_2: 0.988 - ETA: 16s - loss: 0.0271 - recall_2: 0.989 - ETA: 17s - loss: 0.0315 - recall_2: 0.987 - ETA: 17s - loss: 0.0303 - recall_2: 0.988 - ETA: 17s - loss: 0.0384 - recall_2: 0.986 - ETA: 18s - loss: 0.0386 - recall_2: 0.986 - ETA: 19s - loss: 0.0387 - recall_2: 0.985 - ETA: 21s - loss: 0.0379 - recall_2: 0.986 - ETA: 21s - loss: 0.0366 - recall_2: 0.986 - ETA: 22s - loss: 0.0352 - recall_2: 0.987 - ETA: 21s - loss: 0.0407 - recall_2: 0.985 - ETA: 22s - loss: 0.0390 - recall_2: 0.985 - ETA: 22s - loss: 0.0369 - recall_2: 0.986 - ETA: 22s - loss: 0.0359 - recall_2: 0.986 - ETA: 21s - loss: 0.0373 - recall_2: 0.986 - ETA: 21s - loss: 0.0367 - recall_2: 0.986 - ETA: 21s - loss: 0.0361 - recall_2: 0.986 - ETA: 21s - loss: 0.0356 - recall_2: 0.986 - ETA: 21s - loss: 0.0361 - recall_2: 0.987 - ETA: 21s - loss: 0.0353 - recall_2: 0.987 - ETA: 21s - loss: 0.0347 - recall_2: 0.987 - ETA: 20s - loss: 0.0335 - recall_2: 0.988 - ETA: 20s - loss: 0.0332 - recall_2: 0.988 - ETA: 20s - loss: 0.0327 - recall_2: 0.988 - ETA: 20s - loss: 0.0325 - recall_2: 0.988 - ETA: 20s - loss: 0.0336 - recall_2: 0.987 - ETA: 20s - loss: 0.0332 - recall_2: 0.987 - ETA: 19s - loss: 0.0365 - recall_2: 0.986 - ETA: 19s - loss: 0.0357 - recall_2: 0.987 - ETA: 19s - loss: 0.0365 - recall_2: 0.987 - ETA: 19s - loss: 0.0363 - recall_2: 0.987 - ETA: 19s - loss: 0.0368 - recall_2: 0.987 - ETA: 19s - loss: 0.0388 - recall_2: 0.986 - ETA: 19s - loss: 0.0385 - recall_2: 0.986 - ETA: 18s - loss: 0.0374 - recall_2: 0.986 - ETA: 18s - loss: 0.0387 - recall_2: 0.986 - ETA: 18s - loss: 0.0385 - recall_2: 0.986 - ETA: 18s - loss: 0.0378 - recall_2: 0.986 - ETA: 18s - loss: 0.0372 - recall_2: 0.987 - ETA: 18s - loss: 0.0364 - recall_2: 0.987 - ETA: 17s - loss: 0.0361 - recall_2: 0.987 - ETA: 17s - loss: 0.0361 - recall_2: 0.987 - ETA: 17s - loss: 0.0361 - recall_2: 0.987 - ETA: 17s - loss: 0.0355 - recall_2: 0.987 - ETA: 17s - loss: 0.0348 - recall_2: 0.988 - ETA: 17s - loss: 0.0344 - recall_2: 0.988 - ETA: 17s - loss: 0.0339 - recall_2: 0.988 - ETA: 17s - loss: 0.0332 - recall_2: 0.988 - ETA: 17s - loss: 0.0356 - recall_2: 0.988 - ETA: 16s - loss: 0.0369 - recall_2: 0.988 - ETA: 16s - loss: 0.0382 - recall_2: 0.987 - ETA: 16s - loss: 0.0382 - recall_2: 0.988 - ETA: 16s - loss: 0.0379 - recall_2: 0.987 - ETA: 16s - loss: 0.0374 - recall_2: 0.988 - ETA: 16s - loss: 0.0374 - recall_2: 0.988 - ETA: 16s - loss: 0.0371 - recall_2: 0.988 - ETA: 16s - loss: 0.0367 - recall_2: 0.988 - ETA: 16s - loss: 0.0362 - recall_2: 0.988 - ETA: 16s - loss: 0.0371 - recall_2: 0.988 - ETA: 15s - loss: 0.0366 - recall_2: 0.988 - ETA: 15s - loss: 0.0367 - recall_2: 0.988 - ETA: 15s - loss: 0.0366 - recall_2: 0.988 - ETA: 15s - loss: 0.0365 - recall_2: 0.988 - ETA: 15s - loss: 0.0370 - recall_2: 0.988 - ETA: 15s - loss: 0.0374 - recall_2: 0.988 - ETA: 15s - loss: 0.0374 - recall_2: 0.988 - ETA: 15s - loss: 0.0371 - recall_2: 0.988 - ETA: 15s - loss: 0.0369 - recall_2: 0.988 - ETA: 15s - loss: 0.0368 - recall_2: 0.988 - ETA: 15s - loss: 0.0365 - recall_2: 0.988 - ETA: 15s - loss: 0.0366 - recall_2: 0.988 - ETA: 15s - loss: 0.0364 - recall_2: 0.988 - ETA: 14s - loss: 0.0364 - recall_2: 0.988 - ETA: 14s - loss: 0.0364 - recall_2: 0.988 - ETA: 14s - loss: 0.0360 - recall_2: 0.988 - ETA: 14s - loss: 0.0366 - recall_2: 0.988 - ETA: 14s - loss: 0.0370 - recall_2: 0.988 - ETA: 14s - loss: 0.0369 - recall_2: 0.988 - ETA: 14s - loss: 0.0374 - recall_2: 0.988 - ETA: 14s - loss: 0.0376 - recall_2: 0.988 - ETA: 14s - loss: 0.0377 - recall_2: 0.988 - ETA: 14s - loss: 0.0374 - recall_2: 0.988 - ETA: 14s - loss: 0.0373 - recall_2: 0.988 - ETA: 14s - loss: 0.0376 - recall_2: 0.988 - ETA: 14s - loss: 0.0378 - recall_2: 0.988 - ETA: 14s - loss: 0.0384 - recall_2: 0.988 - ETA: 14s - loss: 0.0386 - recall_2: 0.988 - ETA: 14s - loss: 0.0393 - recall_2: 0.988 - ETA: 14s - loss: 0.0391 - recall_2: 0.988 - ETA: 14s - loss: 0.0389 - recall_2: 0.988 - ETA: 14s - loss: 0.0389 - recall_2: 0.988 - ETA: 14s - loss: 0.0387 - recall_2: 0.988 - ETA: 14s - loss: 0.0395 - recall_2: 0.988 - ETA: 14s - loss: 0.0394 - recall_2: 0.988 - ETA: 14s - loss: 0.0393 - recall_2: 0.988 - ETA: 14s - loss: 0.0391 - recall_2: 0.988 - ETA: 13s - loss: 0.0391 - recall_2: 0.988 - ETA: 13s - loss: 0.0390 - recall_2: 0.988 - ETA: 13s - loss: 0.0388 - recall_2: 0.988 - ETA: 13s - loss: 0.0389 - recall_2: 0.988 - ETA: 13s - loss: 0.0386 - recall_2: 0.988 - ETA: 13s - loss: 0.0383 - recall_2: 0.988 - ETA: 13s - loss: 0.0385 - recall_2: 0.988 - ETA: 13s - loss: 0.0386 - recall_2: 0.988 - ETA: 13s - loss: 0.0386 - recall_2: 0.988 - ETA: 13s - loss: 0.0389 - recall_2: 0.988 - ETA: 13s - loss: 0.0393 - recall_2: 0.988 - ETA: 13s - loss: 0.0394 - recall_2: 0.988 - ETA: 13s - loss: 0.0392 - recall_2: 0.988 - ETA: 12s - loss: 0.0391 - recall_2: 0.988 - ETA: 12s - loss: 0.0391 - recall_2: 0.988 - ETA: 12s - loss: 0.0395 - recall_2: 0.988 - ETA: 12s - loss: 0.0394 - recall_2: 0.988 - ETA: 12s - loss: 0.0391 - recall_2: 0.988 - ETA: 12s - loss: 0.0393 - recall_2: 0.988 - ETA: 12s - loss: 0.0392 - recall_2: 0.988 - ETA: 12s - loss: 0.0391 - recall_2: 0.988 - ETA: 12s - loss: 0.0390 - recall_2: 0.988 - ETA: 12s - loss: 0.0390 - recall_2: 0.988 - ETA: 12s - loss: 0.0388 - recall_2: 0.988 - ETA: 12s - loss: 0.0388 - recall_2: 0.988 - ETA: 12s - loss: 0.0386 - recall_2: 0.988 - ETA: 11s - loss: 0.0385 - recall_2: 0.988 - ETA: 11s - loss: 0.0391 - recall_2: 0.988 - ETA: 11s - loss: 0.0389 - recall_2: 0.988 - ETA: 11s - loss: 0.0387 - recall_2: 0.988 - ETA: 11s - loss: 0.0391 - recall_2: 0.988 - ETA: 11s - loss: 0.0388 - recall_2: 0.988 - ETA: 11s - loss: 0.0387 - recall_2: 0.988 - ETA: 11s - loss: 0.0390 - recall_2: 0.988 - ETA: 11s - loss: 0.0393 - recall_2: 0.988 - ETA: 11s - loss: 0.0392 - recall_2: 0.988 - ETA: 11s - loss: 0.0394 - recall_2: 0.988 - ETA: 11s - loss: 0.0395 - recall_2: 0.988 - ETA: 11s - loss: 0.0396 - recall_2: 0.988 - ETA: 10s - loss: 0.0394 - recall_2: 0.988 - ETA: 10s - loss: 0.0392 - recall_2: 0.988 - ETA: 10s - loss: 0.0390 - recall_2: 0.988 - ETA: 10s - loss: 0.0389 - recall_2: 0.988 - ETA: 10s - loss: 0.0390 - recall_2: 0.988 - ETA: 10s - loss: 0.0389 - recall_2: 0.988 - ETA: 10s - loss: 0.0388 - recall_2: 0.988 - ETA: 10s - loss: 0.0394 - recall_2: 0.988 - ETA: 10s - loss: 0.0394 - recall_2: 0.988 - ETA: 10s - loss: 0.0392 - recall_2: 0.988 - ETA: 10s - loss: 0.0391 - recall_2: 0.988 - ETA: 10s - loss: 0.0390 - recall_2: 0.988 - ETA: 10s - loss: 0.0388 - recall_2: 0.988 - ETA: 10s - loss: 0.0389 - recall_2: 0.988 - ETA: 9s - loss: 0.0388 - recall_2: 0.988 - ETA: 9s - loss: 0.0389 - recall_2: 0.98 - ETA: 9s - loss: 0.0389 - recall_2: 0.98 - ETA: 9s - loss: 0.0387 - recall_2: 0.98 - ETA: 9s - loss: 0.0387 - recall_2: 0.98 - ETA: 9s - loss: 0.0389 - recall_2: 0.98 - ETA: 9s - loss: 0.0388 - recall_2: 0.98 - ETA: 9s - loss: 0.0386 - recall_2: 0.98 - ETA: 9s - loss: 0.0385 - recall_2: 0.98 - ETA: 9s - loss: 0.0384 - recall_2: 0.98 - ETA: 9s - loss: 0.0382 - recall_2: 0.98 - ETA: 9s - loss: 0.0381 - recall_2: 0.98 - ETA: 9s - loss: 0.0381 - recall_2: 0.98 - ETA: 9s - loss: 0.0379 - recall_2: 0.98 - ETA: 9s - loss: 0.0378 - recall_2: 0.98 - ETA: 9s - loss: 0.0376 - recall_2: 0.98 - ETA: 8s - loss: 0.0377 - recall_2: 0.98 - ETA: 8s - loss: 0.0375 - recall_2: 0.98 - ETA: 8s - loss: 0.0374 - recall_2: 0.98 - ETA: 8s - loss: 0.0374 - recall_2: 0.98 - ETA: 8s - loss: 0.0374 - recall_2: 0.98 - ETA: 8s - loss: 0.0373 - recall_2: 0.98 - ETA: 8s - loss: 0.0377 - recall_2: 0.98 - ETA: 8s - loss: 0.0378 - recall_2: 0.98 - ETA: 8s - loss: 0.0379 - recall_2: 0.98 - ETA: 8s - loss: 0.0378 - recall_2: 0.98 - ETA: 8s - loss: 0.0383 - recall_2: 0.98 - ETA: 8s - loss: 0.0386 - recall_2: 0.98 - ETA: 8s - loss: 0.0386 - recall_2: 0.98 - ETA: 8s - loss: 0.0387 - recall_2: 0.98 - ETA: 8s - loss: 0.0388 - recall_2: 0.98 - ETA: 7s - loss: 0.0390 - recall_2: 0.98 - ETA: 7s - loss: 0.0389 - recall_2: 0.98 - ETA: 7s - loss: 0.0389 - recall_2: 0.98 - ETA: 7s - loss: 0.0392 - recall_2: 0.9880"
     ]
    },
    {
     "name": "stdout",
     "output_type": "stream",
     "text": [
      "38576/38576 [==============================] - ETA: 7s - loss: 0.0395 - recall_2: 0.98 - ETA: 7s - loss: 0.0395 - recall_2: 0.98 - ETA: 7s - loss: 0.0397 - recall_2: 0.98 - ETA: 7s - loss: 0.0405 - recall_2: 0.98 - ETA: 7s - loss: 0.0404 - recall_2: 0.98 - ETA: 7s - loss: 0.0407 - recall_2: 0.98 - ETA: 7s - loss: 0.0408 - recall_2: 0.98 - ETA: 7s - loss: 0.0407 - recall_2: 0.98 - ETA: 7s - loss: 0.0406 - recall_2: 0.98 - ETA: 7s - loss: 0.0406 - recall_2: 0.98 - ETA: 7s - loss: 0.0405 - recall_2: 0.98 - ETA: 6s - loss: 0.0405 - recall_2: 0.98 - ETA: 6s - loss: 0.0405 - recall_2: 0.98 - ETA: 6s - loss: 0.0405 - recall_2: 0.98 - ETA: 6s - loss: 0.0404 - recall_2: 0.98 - ETA: 6s - loss: 0.0403 - recall_2: 0.98 - ETA: 6s - loss: 0.0402 - recall_2: 0.98 - ETA: 6s - loss: 0.0401 - recall_2: 0.98 - ETA: 6s - loss: 0.0400 - recall_2: 0.98 - ETA: 6s - loss: 0.0398 - recall_2: 0.98 - ETA: 6s - loss: 0.0399 - recall_2: 0.98 - ETA: 6s - loss: 0.0398 - recall_2: 0.98 - ETA: 6s - loss: 0.0397 - recall_2: 0.98 - ETA: 6s - loss: 0.0398 - recall_2: 0.98 - ETA: 6s - loss: 0.0396 - recall_2: 0.98 - ETA: 6s - loss: 0.0396 - recall_2: 0.98 - ETA: 5s - loss: 0.0396 - recall_2: 0.98 - ETA: 5s - loss: 0.0395 - recall_2: 0.98 - ETA: 5s - loss: 0.0396 - recall_2: 0.98 - ETA: 5s - loss: 0.0396 - recall_2: 0.98 - ETA: 5s - loss: 0.0395 - recall_2: 0.98 - ETA: 5s - loss: 0.0396 - recall_2: 0.98 - ETA: 5s - loss: 0.0395 - recall_2: 0.98 - ETA: 5s - loss: 0.0396 - recall_2: 0.98 - ETA: 5s - loss: 0.0395 - recall_2: 0.98 - ETA: 5s - loss: 0.0396 - recall_2: 0.98 - ETA: 5s - loss: 0.0395 - recall_2: 0.98 - ETA: 5s - loss: 0.0393 - recall_2: 0.98 - ETA: 5s - loss: 0.0393 - recall_2: 0.98 - ETA: 5s - loss: 0.0392 - recall_2: 0.98 - ETA: 5s - loss: 0.0393 - recall_2: 0.98 - ETA: 5s - loss: 0.0391 - recall_2: 0.98 - ETA: 4s - loss: 0.0394 - recall_2: 0.98 - ETA: 4s - loss: 0.0393 - recall_2: 0.98 - ETA: 4s - loss: 0.0393 - recall_2: 0.98 - ETA: 4s - loss: 0.0393 - recall_2: 0.98 - ETA: 4s - loss: 0.0395 - recall_2: 0.98 - ETA: 4s - loss: 0.0394 - recall_2: 0.98 - ETA: 4s - loss: 0.0395 - recall_2: 0.98 - ETA: 4s - loss: 0.0394 - recall_2: 0.98 - ETA: 4s - loss: 0.0394 - recall_2: 0.98 - ETA: 4s - loss: 0.0396 - recall_2: 0.98 - ETA: 4s - loss: 0.0396 - recall_2: 0.98 - ETA: 4s - loss: 0.0395 - recall_2: 0.98 - ETA: 4s - loss: 0.0396 - recall_2: 0.98 - ETA: 4s - loss: 0.0395 - recall_2: 0.98 - ETA: 4s - loss: 0.0396 - recall_2: 0.98 - ETA: 4s - loss: 0.0395 - recall_2: 0.98 - ETA: 3s - loss: 0.0395 - recall_2: 0.98 - ETA: 3s - loss: 0.0394 - recall_2: 0.98 - ETA: 3s - loss: 0.0396 - recall_2: 0.98 - ETA: 3s - loss: 0.0396 - recall_2: 0.98 - ETA: 3s - loss: 0.0396 - recall_2: 0.98 - ETA: 3s - loss: 0.0397 - recall_2: 0.98 - ETA: 3s - loss: 0.0397 - recall_2: 0.98 - ETA: 3s - loss: 0.0399 - recall_2: 0.98 - ETA: 3s - loss: 0.0398 - recall_2: 0.98 - ETA: 3s - loss: 0.0401 - recall_2: 0.98 - ETA: 3s - loss: 0.0401 - recall_2: 0.98 - ETA: 3s - loss: 0.0401 - recall_2: 0.98 - ETA: 3s - loss: 0.0401 - recall_2: 0.98 - ETA: 3s - loss: 0.0401 - recall_2: 0.98 - ETA: 3s - loss: 0.0401 - recall_2: 0.98 - ETA: 3s - loss: 0.0400 - recall_2: 0.98 - ETA: 2s - loss: 0.0399 - recall_2: 0.98 - ETA: 2s - loss: 0.0398 - recall_2: 0.98 - ETA: 2s - loss: 0.0397 - recall_2: 0.98 - ETA: 2s - loss: 0.0399 - recall_2: 0.98 - ETA: 2s - loss: 0.0398 - recall_2: 0.98 - ETA: 2s - loss: 0.0398 - recall_2: 0.98 - ETA: 2s - loss: 0.0400 - recall_2: 0.98 - ETA: 2s - loss: 0.0401 - recall_2: 0.98 - ETA: 2s - loss: 0.0402 - recall_2: 0.98 - ETA: 2s - loss: 0.0401 - recall_2: 0.98 - ETA: 2s - loss: 0.0402 - recall_2: 0.98 - ETA: 2s - loss: 0.0402 - recall_2: 0.98 - ETA: 2s - loss: 0.0403 - recall_2: 0.98 - ETA: 2s - loss: 0.0402 - recall_2: 0.98 - ETA: 2s - loss: 0.0401 - recall_2: 0.98 - ETA: 2s - loss: 0.0402 - recall_2: 0.98 - ETA: 2s - loss: 0.0401 - recall_2: 0.98 - ETA: 1s - loss: 0.0404 - recall_2: 0.98 - ETA: 1s - loss: 0.0403 - recall_2: 0.98 - ETA: 1s - loss: 0.0401 - recall_2: 0.98 - ETA: 1s - loss: 0.0400 - recall_2: 0.98 - ETA: 1s - loss: 0.0402 - recall_2: 0.98 - ETA: 1s - loss: 0.0402 - recall_2: 0.98 - ETA: 1s - loss: 0.0401 - recall_2: 0.98 - ETA: 1s - loss: 0.0401 - recall_2: 0.98 - ETA: 1s - loss: 0.0402 - recall_2: 0.98 - ETA: 1s - loss: 0.0401 - recall_2: 0.98 - ETA: 1s - loss: 0.0403 - recall_2: 0.98 - ETA: 1s - loss: 0.0403 - recall_2: 0.98 - ETA: 1s - loss: 0.0404 - recall_2: 0.98 - ETA: 1s - loss: 0.0403 - recall_2: 0.98 - ETA: 1s - loss: 0.0403 - recall_2: 0.98 - ETA: 1s - loss: 0.0401 - recall_2: 0.98 - ETA: 1s - loss: 0.0401 - recall_2: 0.98 - ETA: 1s - loss: 0.0400 - recall_2: 0.98 - ETA: 0s - loss: 0.0400 - recall_2: 0.98 - ETA: 0s - loss: 0.0400 - recall_2: 0.98 - ETA: 0s - loss: 0.0399 - recall_2: 0.98 - ETA: 0s - loss: 0.0398 - recall_2: 0.98 - ETA: 0s - loss: 0.0398 - recall_2: 0.98 - ETA: 0s - loss: 0.0397 - recall_2: 0.98 - ETA: 0s - loss: 0.0397 - recall_2: 0.98 - ETA: 0s - loss: 0.0397 - recall_2: 0.98 - ETA: 0s - loss: 0.0396 - recall_2: 0.98 - ETA: 0s - loss: 0.0395 - recall_2: 0.98 - ETA: 0s - loss: 0.0395 - recall_2: 0.98 - ETA: 0s - loss: 0.0394 - recall_2: 0.98 - ETA: 0s - loss: 0.0393 - recall_2: 0.98 - ETA: 0s - loss: 0.0393 - recall_2: 0.98 - ETA: 0s - loss: 0.0393 - recall_2: 0.98 - ETA: 0s - loss: 0.0393 - recall_2: 0.98 - ETA: 0s - loss: 0.0393 - recall_2: 0.98 - ETA: 0s - loss: 0.0392 - recall_2: 0.98 - ETA: 0s - loss: 0.0394 - recall_2: 0.98 - ETA: 0s - loss: 0.0395 - recall_2: 0.98 - ETA: 0s - loss: 0.0395 - recall_2: 0.98 - ETA: 0s - loss: 0.0396 - recall_2: 0.98 - ETA: 0s - loss: 0.0395 - recall_2: 0.98 - ETA: 0s - loss: 0.0396 - recall_2: 0.98 - 19s 481us/sample - loss: 0.0396 - recall_2: 0.9882 - val_loss: 0.5097 - val_recall_2: 0.9394\n",
      "Epoch 5/5\n"
     ]
    },
    {
     "name": "stdout",
     "output_type": "stream",
     "text": [
      "24928/38576 [==================>...........] - ETA: 22s - loss: 0.0082 - recall_2: 1.000 - ETA: 18s - loss: 0.0370 - recall_2: 0.981 - ETA: 17s - loss: 0.0634 - recall_2: 0.975 - ETA: 17s - loss: 0.0488 - recall_2: 0.980 - ETA: 16s - loss: 0.0431 - recall_2: 0.980 - ETA: 15s - loss: 0.0404 - recall_2: 0.982 - ETA: 15s - loss: 0.0375 - recall_2: 0.983 - ETA: 15s - loss: 0.0384 - recall_2: 0.982 - ETA: 15s - loss: 0.0368 - recall_2: 0.983 - ETA: 15s - loss: 0.0349 - recall_2: 0.984 - ETA: 15s - loss: 0.0348 - recall_2: 0.984 - ETA: 15s - loss: 0.0364 - recall_2: 0.985 - ETA: 15s - loss: 0.0461 - recall_2: 0.983 - ETA: 15s - loss: 0.0435 - recall_2: 0.984 - ETA: 15s - loss: 0.0419 - recall_2: 0.985 - ETA: 15s - loss: 0.0425 - recall_2: 0.985 - ETA: 15s - loss: 0.0434 - recall_2: 0.985 - ETA: 15s - loss: 0.0453 - recall_2: 0.985 - ETA: 14s - loss: 0.0453 - recall_2: 0.984 - ETA: 14s - loss: 0.0445 - recall_2: 0.984 - ETA: 14s - loss: 0.0436 - recall_2: 0.985 - ETA: 14s - loss: 0.0419 - recall_2: 0.985 - ETA: 14s - loss: 0.0415 - recall_2: 0.985 - ETA: 14s - loss: 0.0412 - recall_2: 0.985 - ETA: 14s - loss: 0.0408 - recall_2: 0.985 - ETA: 14s - loss: 0.0396 - recall_2: 0.986 - ETA: 14s - loss: 0.0396 - recall_2: 0.986 - ETA: 14s - loss: 0.0386 - recall_2: 0.986 - ETA: 14s - loss: 0.0386 - recall_2: 0.986 - ETA: 14s - loss: 0.0390 - recall_2: 0.986 - ETA: 14s - loss: 0.0423 - recall_2: 0.986 - ETA: 13s - loss: 0.0444 - recall_2: 0.985 - ETA: 13s - loss: 0.0437 - recall_2: 0.985 - ETA: 13s - loss: 0.0431 - recall_2: 0.986 - ETA: 13s - loss: 0.0424 - recall_2: 0.986 - ETA: 13s - loss: 0.0428 - recall_2: 0.986 - ETA: 13s - loss: 0.0420 - recall_2: 0.986 - ETA: 13s - loss: 0.0421 - recall_2: 0.986 - ETA: 13s - loss: 0.0414 - recall_2: 0.986 - ETA: 13s - loss: 0.0410 - recall_2: 0.986 - ETA: 13s - loss: 0.0410 - recall_2: 0.986 - ETA: 13s - loss: 0.0406 - recall_2: 0.986 - ETA: 13s - loss: 0.0415 - recall_2: 0.986 - ETA: 13s - loss: 0.0408 - recall_2: 0.987 - ETA: 13s - loss: 0.0403 - recall_2: 0.987 - ETA: 13s - loss: 0.0401 - recall_2: 0.987 - ETA: 13s - loss: 0.0395 - recall_2: 0.987 - ETA: 13s - loss: 0.0395 - recall_2: 0.987 - ETA: 13s - loss: 0.0393 - recall_2: 0.987 - ETA: 13s - loss: 0.0397 - recall_2: 0.987 - ETA: 12s - loss: 0.0399 - recall_2: 0.987 - ETA: 12s - loss: 0.0395 - recall_2: 0.987 - ETA: 12s - loss: 0.0393 - recall_2: 0.987 - ETA: 12s - loss: 0.0393 - recall_2: 0.987 - ETA: 12s - loss: 0.0387 - recall_2: 0.987 - ETA: 12s - loss: 0.0383 - recall_2: 0.987 - ETA: 12s - loss: 0.0385 - recall_2: 0.987 - ETA: 12s - loss: 0.0382 - recall_2: 0.987 - ETA: 12s - loss: 0.0404 - recall_2: 0.987 - ETA: 12s - loss: 0.0399 - recall_2: 0.987 - ETA: 12s - loss: 0.0397 - recall_2: 0.987 - ETA: 12s - loss: 0.0392 - recall_2: 0.987 - ETA: 12s - loss: 0.0390 - recall_2: 0.987 - ETA: 12s - loss: 0.0386 - recall_2: 0.987 - ETA: 12s - loss: 0.0382 - recall_2: 0.987 - ETA: 12s - loss: 0.0379 - recall_2: 0.987 - ETA: 12s - loss: 0.0375 - recall_2: 0.988 - ETA: 12s - loss: 0.0375 - recall_2: 0.988 - ETA: 12s - loss: 0.0374 - recall_2: 0.988 - ETA: 12s - loss: 0.0373 - recall_2: 0.988 - ETA: 12s - loss: 0.0370 - recall_2: 0.988 - ETA: 11s - loss: 0.0366 - recall_2: 0.988 - ETA: 11s - loss: 0.0367 - recall_2: 0.988 - ETA: 11s - loss: 0.0364 - recall_2: 0.988 - ETA: 11s - loss: 0.0371 - recall_2: 0.988 - ETA: 11s - loss: 0.0370 - recall_2: 0.988 - ETA: 11s - loss: 0.0366 - recall_2: 0.988 - ETA: 11s - loss: 0.0365 - recall_2: 0.988 - ETA: 11s - loss: 0.0361 - recall_2: 0.988 - ETA: 11s - loss: 0.0364 - recall_2: 0.988 - ETA: 11s - loss: 0.0364 - recall_2: 0.988 - ETA: 11s - loss: 0.0363 - recall_2: 0.988 - ETA: 11s - loss: 0.0361 - recall_2: 0.989 - ETA: 11s - loss: 0.0360 - recall_2: 0.989 - ETA: 11s - loss: 0.0360 - recall_2: 0.988 - ETA: 11s - loss: 0.0358 - recall_2: 0.988 - ETA: 11s - loss: 0.0355 - recall_2: 0.989 - ETA: 11s - loss: 0.0361 - recall_2: 0.988 - ETA: 11s - loss: 0.0361 - recall_2: 0.988 - ETA: 11s - loss: 0.0361 - recall_2: 0.988 - ETA: 11s - loss: 0.0360 - recall_2: 0.988 - ETA: 10s - loss: 0.0363 - recall_2: 0.988 - ETA: 10s - loss: 0.0362 - recall_2: 0.988 - ETA: 10s - loss: 0.0359 - recall_2: 0.988 - ETA: 10s - loss: 0.0362 - recall_2: 0.988 - ETA: 10s - loss: 0.0362 - recall_2: 0.988 - ETA: 10s - loss: 0.0364 - recall_2: 0.988 - ETA: 10s - loss: 0.0361 - recall_2: 0.988 - ETA: 10s - loss: 0.0359 - recall_2: 0.988 - ETA: 10s - loss: 0.0368 - recall_2: 0.988 - ETA: 10s - loss: 0.0367 - recall_2: 0.988 - ETA: 10s - loss: 0.0369 - recall_2: 0.988 - ETA: 10s - loss: 0.0367 - recall_2: 0.988 - ETA: 10s - loss: 0.0367 - recall_2: 0.988 - ETA: 10s - loss: 0.0366 - recall_2: 0.988 - ETA: 10s - loss: 0.0364 - recall_2: 0.988 - ETA: 10s - loss: 0.0364 - recall_2: 0.988 - ETA: 10s - loss: 0.0364 - recall_2: 0.988 - ETA: 10s - loss: 0.0362 - recall_2: 0.988 - ETA: 10s - loss: 0.0366 - recall_2: 0.988 - ETA: 10s - loss: 0.0369 - recall_2: 0.988 - ETA: 9s - loss: 0.0367 - recall_2: 0.988 - ETA: 9s - loss: 0.0365 - recall_2: 0.98 - ETA: 9s - loss: 0.0363 - recall_2: 0.98 - ETA: 9s - loss: 0.0360 - recall_2: 0.98 - ETA: 9s - loss: 0.0361 - recall_2: 0.98 - ETA: 9s - loss: 0.0358 - recall_2: 0.98 - ETA: 9s - loss: 0.0356 - recall_2: 0.98 - ETA: 9s - loss: 0.0358 - recall_2: 0.98 - ETA: 9s - loss: 0.0356 - recall_2: 0.98 - ETA: 9s - loss: 0.0354 - recall_2: 0.98 - ETA: 9s - loss: 0.0352 - recall_2: 0.98 - ETA: 9s - loss: 0.0355 - recall_2: 0.98 - ETA: 9s - loss: 0.0363 - recall_2: 0.98 - ETA: 9s - loss: 0.0364 - recall_2: 0.98 - ETA: 9s - loss: 0.0362 - recall_2: 0.98 - ETA: 9s - loss: 0.0366 - recall_2: 0.98 - ETA: 9s - loss: 0.0370 - recall_2: 0.98 - ETA: 9s - loss: 0.0369 - recall_2: 0.98 - ETA: 9s - loss: 0.0370 - recall_2: 0.98 - ETA: 8s - loss: 0.0373 - recall_2: 0.98 - ETA: 8s - loss: 0.0374 - recall_2: 0.98 - ETA: 8s - loss: 0.0374 - recall_2: 0.98 - ETA: 8s - loss: 0.0372 - recall_2: 0.98 - ETA: 8s - loss: 0.0372 - recall_2: 0.98 - ETA: 8s - loss: 0.0369 - recall_2: 0.98 - ETA: 8s - loss: 0.0369 - recall_2: 0.98 - ETA: 8s - loss: 0.0368 - recall_2: 0.98 - ETA: 8s - loss: 0.0373 - recall_2: 0.98 - ETA: 8s - loss: 0.0374 - recall_2: 0.98 - ETA: 8s - loss: 0.0373 - recall_2: 0.98 - ETA: 8s - loss: 0.0375 - recall_2: 0.98 - ETA: 8s - loss: 0.0375 - recall_2: 0.98 - ETA: 8s - loss: 0.0374 - recall_2: 0.98 - ETA: 8s - loss: 0.0372 - recall_2: 0.98 - ETA: 8s - loss: 0.0371 - recall_2: 0.98 - ETA: 8s - loss: 0.0371 - recall_2: 0.98 - ETA: 8s - loss: 0.0369 - recall_2: 0.98 - ETA: 7s - loss: 0.0368 - recall_2: 0.98 - ETA: 7s - loss: 0.0370 - recall_2: 0.98 - ETA: 7s - loss: 0.0367 - recall_2: 0.98 - ETA: 7s - loss: 0.0365 - recall_2: 0.98 - ETA: 7s - loss: 0.0371 - recall_2: 0.98 - ETA: 7s - loss: 0.0372 - recall_2: 0.98 - ETA: 7s - loss: 0.0370 - recall_2: 0.98 - ETA: 7s - loss: 0.0372 - recall_2: 0.98 - ETA: 7s - loss: 0.0372 - recall_2: 0.98 - ETA: 7s - loss: 0.0371 - recall_2: 0.98 - ETA: 7s - loss: 0.0371 - recall_2: 0.98 - ETA: 7s - loss: 0.0371 - recall_2: 0.98 - ETA: 7s - loss: 0.0371 - recall_2: 0.98 - ETA: 7s - loss: 0.0370 - recall_2: 0.98 - ETA: 7s - loss: 0.0370 - recall_2: 0.98 - ETA: 7s - loss: 0.0372 - recall_2: 0.98 - ETA: 7s - loss: 0.0371 - recall_2: 0.98 - ETA: 6s - loss: 0.0372 - recall_2: 0.98 - ETA: 6s - loss: 0.0371 - recall_2: 0.98 - ETA: 6s - loss: 0.0372 - recall_2: 0.98 - ETA: 6s - loss: 0.0371 - recall_2: 0.98 - ETA: 6s - loss: 0.0370 - recall_2: 0.98 - ETA: 6s - loss: 0.0371 - recall_2: 0.98 - ETA: 6s - loss: 0.0373 - recall_2: 0.98 - ETA: 6s - loss: 0.0372 - recall_2: 0.98 - ETA: 6s - loss: 0.0373 - recall_2: 0.98 - ETA: 6s - loss: 0.0371 - recall_2: 0.98 - ETA: 6s - loss: 0.0371 - recall_2: 0.98 - ETA: 6s - loss: 0.0370 - recall_2: 0.98 - ETA: 6s - loss: 0.0373 - recall_2: 0.98 - ETA: 6s - loss: 0.0375 - recall_2: 0.98 - ETA: 6s - loss: 0.0374 - recall_2: 0.98 - ETA: 6s - loss: 0.0373 - recall_2: 0.98 - ETA: 6s - loss: 0.0372 - recall_2: 0.98 - ETA: 6s - loss: 0.0373 - recall_2: 0.98 - ETA: 5s - loss: 0.0374 - recall_2: 0.98 - ETA: 5s - loss: 0.0374 - recall_2: 0.98 - ETA: 5s - loss: 0.0372 - recall_2: 0.98 - ETA: 5s - loss: 0.0371 - recall_2: 0.98 - ETA: 5s - loss: 0.0372 - recall_2: 0.98 - ETA: 5s - loss: 0.0373 - recall_2: 0.9885"
     ]
    },
    {
     "name": "stdout",
     "output_type": "stream",
     "text": [
      "38576/38576 [==============================] - ETA: 5s - loss: 0.0371 - recall_2: 0.98 - ETA: 5s - loss: 0.0371 - recall_2: 0.98 - ETA: 5s - loss: 0.0371 - recall_2: 0.98 - ETA: 5s - loss: 0.0372 - recall_2: 0.98 - ETA: 5s - loss: 0.0371 - recall_2: 0.98 - ETA: 5s - loss: 0.0370 - recall_2: 0.98 - ETA: 5s - loss: 0.0369 - recall_2: 0.98 - ETA: 5s - loss: 0.0369 - recall_2: 0.98 - ETA: 5s - loss: 0.0372 - recall_2: 0.98 - ETA: 5s - loss: 0.0372 - recall_2: 0.98 - ETA: 5s - loss: 0.0372 - recall_2: 0.98 - ETA: 5s - loss: 0.0371 - recall_2: 0.98 - ETA: 4s - loss: 0.0375 - recall_2: 0.98 - ETA: 4s - loss: 0.0376 - recall_2: 0.98 - ETA: 4s - loss: 0.0375 - recall_2: 0.98 - ETA: 4s - loss: 0.0375 - recall_2: 0.98 - ETA: 4s - loss: 0.0378 - recall_2: 0.98 - ETA: 4s - loss: 0.0378 - recall_2: 0.98 - ETA: 4s - loss: 0.0377 - recall_2: 0.98 - ETA: 4s - loss: 0.0376 - recall_2: 0.98 - ETA: 4s - loss: 0.0377 - recall_2: 0.98 - ETA: 4s - loss: 0.0376 - recall_2: 0.98 - ETA: 4s - loss: 0.0375 - recall_2: 0.98 - ETA: 4s - loss: 0.0374 - recall_2: 0.98 - ETA: 4s - loss: 0.0374 - recall_2: 0.98 - ETA: 4s - loss: 0.0377 - recall_2: 0.98 - ETA: 4s - loss: 0.0377 - recall_2: 0.98 - ETA: 4s - loss: 0.0376 - recall_2: 0.98 - ETA: 4s - loss: 0.0375 - recall_2: 0.98 - ETA: 4s - loss: 0.0375 - recall_2: 0.98 - ETA: 4s - loss: 0.0374 - recall_2: 0.98 - ETA: 4s - loss: 0.0373 - recall_2: 0.98 - ETA: 3s - loss: 0.0373 - recall_2: 0.98 - ETA: 3s - loss: 0.0373 - recall_2: 0.98 - ETA: 3s - loss: 0.0373 - recall_2: 0.98 - ETA: 3s - loss: 0.0376 - recall_2: 0.98 - ETA: 3s - loss: 0.0376 - recall_2: 0.98 - ETA: 3s - loss: 0.0377 - recall_2: 0.98 - ETA: 3s - loss: 0.0376 - recall_2: 0.98 - ETA: 3s - loss: 0.0376 - recall_2: 0.98 - ETA: 3s - loss: 0.0376 - recall_2: 0.98 - ETA: 3s - loss: 0.0377 - recall_2: 0.98 - ETA: 3s - loss: 0.0376 - recall_2: 0.98 - ETA: 3s - loss: 0.0376 - recall_2: 0.98 - ETA: 3s - loss: 0.0376 - recall_2: 0.98 - ETA: 3s - loss: 0.0376 - recall_2: 0.98 - ETA: 3s - loss: 0.0375 - recall_2: 0.98 - ETA: 3s - loss: 0.0375 - recall_2: 0.98 - ETA: 3s - loss: 0.0374 - recall_2: 0.98 - ETA: 3s - loss: 0.0375 - recall_2: 0.98 - ETA: 3s - loss: 0.0374 - recall_2: 0.98 - ETA: 3s - loss: 0.0374 - recall_2: 0.98 - ETA: 2s - loss: 0.0373 - recall_2: 0.98 - ETA: 2s - loss: 0.0373 - recall_2: 0.98 - ETA: 2s - loss: 0.0374 - recall_2: 0.98 - ETA: 2s - loss: 0.0373 - recall_2: 0.98 - ETA: 2s - loss: 0.0372 - recall_2: 0.98 - ETA: 2s - loss: 0.0371 - recall_2: 0.98 - ETA: 2s - loss: 0.0370 - recall_2: 0.98 - ETA: 2s - loss: 0.0370 - recall_2: 0.98 - ETA: 2s - loss: 0.0371 - recall_2: 0.98 - ETA: 2s - loss: 0.0371 - recall_2: 0.98 - ETA: 2s - loss: 0.0374 - recall_2: 0.98 - ETA: 2s - loss: 0.0373 - recall_2: 0.98 - ETA: 2s - loss: 0.0373 - recall_2: 0.98 - ETA: 2s - loss: 0.0372 - recall_2: 0.98 - ETA: 2s - loss: 0.0371 - recall_2: 0.98 - ETA: 2s - loss: 0.0370 - recall_2: 0.98 - ETA: 2s - loss: 0.0369 - recall_2: 0.98 - ETA: 2s - loss: 0.0369 - recall_2: 0.98 - ETA: 2s - loss: 0.0369 - recall_2: 0.98 - ETA: 2s - loss: 0.0369 - recall_2: 0.98 - ETA: 2s - loss: 0.0369 - recall_2: 0.98 - ETA: 2s - loss: 0.0368 - recall_2: 0.98 - ETA: 1s - loss: 0.0367 - recall_2: 0.98 - ETA: 1s - loss: 0.0366 - recall_2: 0.98 - ETA: 1s - loss: 0.0367 - recall_2: 0.98 - ETA: 1s - loss: 0.0367 - recall_2: 0.98 - ETA: 1s - loss: 0.0366 - recall_2: 0.98 - ETA: 1s - loss: 0.0366 - recall_2: 0.98 - ETA: 1s - loss: 0.0365 - recall_2: 0.98 - ETA: 1s - loss: 0.0365 - recall_2: 0.98 - ETA: 1s - loss: 0.0366 - recall_2: 0.98 - ETA: 1s - loss: 0.0365 - recall_2: 0.98 - ETA: 1s - loss: 0.0365 - recall_2: 0.98 - ETA: 1s - loss: 0.0364 - recall_2: 0.98 - ETA: 1s - loss: 0.0366 - recall_2: 0.98 - ETA: 1s - loss: 0.0366 - recall_2: 0.98 - ETA: 1s - loss: 0.0365 - recall_2: 0.98 - ETA: 1s - loss: 0.0365 - recall_2: 0.98 - ETA: 1s - loss: 0.0365 - recall_2: 0.98 - ETA: 1s - loss: 0.0366 - recall_2: 0.98 - ETA: 1s - loss: 0.0365 - recall_2: 0.98 - ETA: 1s - loss: 0.0364 - recall_2: 0.98 - ETA: 1s - loss: 0.0363 - recall_2: 0.98 - ETA: 1s - loss: 0.0363 - recall_2: 0.98 - ETA: 1s - loss: 0.0362 - recall_2: 0.98 - ETA: 1s - loss: 0.0362 - recall_2: 0.98 - ETA: 1s - loss: 0.0362 - recall_2: 0.98 - ETA: 1s - loss: 0.0361 - recall_2: 0.98 - ETA: 1s - loss: 0.0360 - recall_2: 0.98 - ETA: 1s - loss: 0.0359 - recall_2: 0.98 - ETA: 1s - loss: 0.0359 - recall_2: 0.98 - ETA: 0s - loss: 0.0359 - recall_2: 0.98 - ETA: 0s - loss: 0.0359 - recall_2: 0.98 - ETA: 0s - loss: 0.0359 - recall_2: 0.98 - ETA: 0s - loss: 0.0360 - recall_2: 0.98 - ETA: 0s - loss: 0.0359 - recall_2: 0.98 - ETA: 0s - loss: 0.0359 - recall_2: 0.98 - ETA: 0s - loss: 0.0360 - recall_2: 0.98 - ETA: 0s - loss: 0.0360 - recall_2: 0.98 - ETA: 0s - loss: 0.0359 - recall_2: 0.98 - ETA: 0s - loss: 0.0358 - recall_2: 0.98 - ETA: 0s - loss: 0.0357 - recall_2: 0.98 - ETA: 0s - loss: 0.0357 - recall_2: 0.98 - ETA: 0s - loss: 0.0357 - recall_2: 0.98 - ETA: 0s - loss: 0.0356 - recall_2: 0.98 - ETA: 0s - loss: 0.0357 - recall_2: 0.98 - ETA: 0s - loss: 0.0356 - recall_2: 0.98 - ETA: 0s - loss: 0.0355 - recall_2: 0.98 - ETA: 0s - loss: 0.0355 - recall_2: 0.98 - ETA: 0s - loss: 0.0354 - recall_2: 0.98 - ETA: 0s - loss: 0.0353 - recall_2: 0.98 - ETA: 0s - loss: 0.0352 - recall_2: 0.98 - ETA: 0s - loss: 0.0351 - recall_2: 0.98 - ETA: 0s - loss: 0.0350 - recall_2: 0.98 - 18s 474us/sample - loss: 0.0350 - recall_2: 0.9895 - val_loss: 0.5614 - val_recall_2: 0.9359\n",
      "6750/6750 [==============================] - ETA: 0s - loss: 0.8026 - recall_2: 0.93 - ETA: 0s - loss: 0.2556 - recall_2: 0.96 - ETA: 0s - loss: 0.4527 - recall_2: 0.94 - ETA: 0s - loss: 0.5082 - recall_2: 0.93 - ETA: 0s - loss: 0.5079 - recall_2: 0.93 - ETA: 0s - loss: 0.5141 - recall_2: 0.93 - ETA: 0s - loss: 0.5112 - recall_2: 0.93 - ETA: 0s - loss: 0.5237 - recall_2: 0.93 - ETA: 0s - loss: 0.5241 - recall_2: 0.93 - ETA: 0s - loss: 0.5221 - recall_2: 0.93 - ETA: 0s - loss: 0.5569 - recall_2: 0.93 - ETA: 0s - loss: 0.5688 - recall_2: 0.93 - ETA: 0s - loss: 0.5612 - recall_2: 0.93 - ETA: 0s - loss: 0.5584 - recall_2: 0.93 - ETA: 0s - loss: 0.5556 - recall_2: 0.93 - 1s 111us/sample - loss: 0.5614 - recall_2: 0.9359\n",
      "Test accuracy: 0.9358519\n"
     ]
    },
    {
     "data": {
      "image/png": "[encoded data removed]",
      "text/plain": [
       "<Figure size 432x360 with 1 Axes>"
      ]
     },
     "metadata": {
      "needs_background": "light"
     },
     "output_type": "display_data"
    }
   ],
   "source": [
    "model_up.compile(optimizer='adam', \n",
    "              loss='binary_crossentropy',\n",
    "              metrics=[tf.keras.metrics.Recall()])\n",
    "\n",
    "history = model_up.fit(up_X,\n",
    "          pd.get_dummies(up_y),\n",
    "          epochs=5,\n",
    "          validation_data=(X_test, pd.get_dummies(y_test))\n",
    "         )\n",
    "plot_loss(history)\n",
    "test_loss, test_acc = model_up.evaluate(X_test, pd.get_dummies(y_test))\n",
    "print('Test accuracy:', test_acc)"
   ]
  },
  {
   "cell_type": "code",
   "execution_count": 32,
   "metadata": {
    "ExecuteTime": {
     "end_time": "2019-08-19T02:07:33.827712Z",
     "start_time": "2019-08-19T02:07:33.186079Z"
    }
   },
   "outputs": [
    {
     "name": "stdout",
     "output_type": "stream",
     "text": [
      "전체채팅수6750, 유해채팅수316\n"
     ]
    }
   ],
   "source": [
    "result = pd.DataFrame(np.apply_along_axis(index_to_text, 1, X_test))\n",
    "result['predict'] = model_up.predict_proba(X_test)[:,1] # 유해하다고 판별할 확률\n",
    "print('전체채팅수{}, 유해채팅수{}'.format(len(result),len(result[result.predict>0.5])))\n",
    "result[result.predict>0.5].head(10)\n",
    "result['label'] = y_test"
   ]
  },
  {
   "cell_type": "markdown",
   "metadata": {},
   "source": [
    "Recall"
   ]
  },
  {
   "cell_type": "code",
   "execution_count": 28,
   "metadata": {
    "ExecuteTime": {
     "end_time": "2019-08-19T02:04:18.328934Z",
     "start_time": "2019-08-19T02:04:18.321938Z"
    }
   },
   "outputs": [],
   "source": [
    "from sklearn.metrics import recall_score, accuracy_score"
   ]
  },
  {
   "cell_type": "code",
   "execution_count": 31,
   "metadata": {
    "ExecuteTime": {
     "end_time": "2019-08-19T02:06:40.567220Z",
     "start_time": "2019-08-19T02:06:39.560798Z"
    }
   },
   "outputs": [
    {
     "data": {
      "text/plain": [
       "(0.3177570093457944, 0.9358518518518518)"
      ]
     },
     "execution_count": 31,
     "metadata": {},
     "output_type": "execute_result"
    }
   ],
   "source": [
    "recall_score(y_test, model_up.predict_classes(X_test)),\\\n",
    "accuracy_score(y_test, model_up.predict_classes(X_test))"
   ]
  },
  {
   "cell_type": "code",
   "execution_count": 52,
   "metadata": {
    "ExecuteTime": {
     "end_time": "2019-08-19T02:26:33.205721Z",
     "start_time": "2019-08-19T02:26:32.019399Z"
    }
   },
   "outputs": [],
   "source": [
    "model_up.save('../model/cnn_oversample.h5')"
   ]
  },
  {
   "cell_type": "markdown",
   "metadata": {},
   "source": [
    "## Downsampling"
   ]
  },
  {
   "cell_type": "code",
   "execution_count": 33,
   "metadata": {
    "ExecuteTime": {
     "end_time": "2019-08-19T02:08:22.772674Z",
     "start_time": "2019-08-19T02:08:22.739692Z"
    }
   },
   "outputs": [
    {
     "data": {
      "text/plain": [
       "(2566, 1283)"
      ]
     },
     "execution_count": 33,
     "metadata": {},
     "output_type": "execute_result"
    }
   ],
   "source": [
    "down_X, down_y = RandomUnderSampler().fit_resample(x_padded, datasets.label)\n",
    "\n",
    "# 총 데이터 수 , 1 레이블 데이터 수\n",
    "len(down_y), down_y.sum()"
   ]
  },
  {
   "cell_type": "code",
   "execution_count": 35,
   "metadata": {
    "ExecuteTime": {
     "end_time": "2019-08-19T02:09:04.522759Z",
     "start_time": "2019-08-19T02:09:04.104000Z"
    }
   },
   "outputs": [
    {
     "name": "stderr",
     "output_type": "stream",
     "text": [
      "C:\\Users\\skarn\\Anaconda3\\envs\\DataAnalysis\\lib\\site-packages\\numpy\\lib\\type_check.py:546: DeprecationWarning: np.asscalar(a) is deprecated since NumPy v1.16, use a.item() instead\n",
      "  'a.item() instead', DeprecationWarning, stacklevel=1)\n"
     ]
    }
   ],
   "source": [
    "model_down = keras.Sequential([\n",
    "    keras.layers.Embedding(vocab_size, 10),\n",
    "    keras.layers.Conv1D(32, 3, padding=\"same\", activation=tf.nn.relu,),\n",
    "    keras.layers.Dropout(0.5),\n",
    "    keras.layers.Conv1D(32, 3, padding=\"same\", activation=tf.nn.relu),\n",
    "    keras.layers.GlobalMaxPool1D(),\n",
    "    keras.layers.Dropout(0.5),\n",
    "    keras.layers.Dense(2, activation=tf.nn.sigmoid)\n",
    "])"
   ]
  },
  {
   "cell_type": "code",
   "execution_count": 36,
   "metadata": {
    "ExecuteTime": {
     "end_time": "2019-08-19T02:09:19.864969Z",
     "start_time": "2019-08-19T02:09:04.528754Z"
    }
   },
   "outputs": [
    {
     "name": "stdout",
     "output_type": "stream",
     "text": [
      "Train on 2566 samples, validate on 6750 samples\n",
      "Epoch 1/5\n",
      "2566/2566 [==============================] - ETA: 1:43 - loss: 0.6946 - recall_3: 0.59 - ETA: 25s - loss: 0.6941 - recall_3: 0.6406 - ETA: 12s - loss: 0.6947 - recall_3: 0.660 - ETA: 8s - loss: 0.6946 - recall_3: 0.653 - ETA: 6s - loss: 0.6944 - recall_3: 0.65 - ETA: 4s - loss: 0.6940 - recall_3: 0.63 - ETA: 4s - loss: 0.6939 - recall_3: 0.62 - ETA: 3s - loss: 0.6936 - recall_3: 0.60 - ETA: 2s - loss: 0.6937 - recall_3: 0.58 - ETA: 2s - loss: 0.6934 - recall_3: 0.58 - ETA: 2s - loss: 0.6932 - recall_3: 0.57 - ETA: 1s - loss: 0.6931 - recall_3: 0.58 - ETA: 1s - loss: 0.6927 - recall_3: 0.58 - ETA: 1s - loss: 0.6926 - recall_3: 0.58 - ETA: 1s - loss: 0.6920 - recall_3: 0.59 - ETA: 0s - loss: 0.6923 - recall_3: 0.59 - ETA: 0s - loss: 0.6923 - recall_3: 0.59 - ETA: 0s - loss: 0.6921 - recall_3: 0.59 - ETA: 0s - loss: 0.6918 - recall_3: 0.59 - ETA: 0s - loss: 0.6918 - recall_3: 0.59 - ETA: 0s - loss: 0.6918 - recall_3: 0.59 - ETA: 0s - loss: 0.6920 - recall_3: 0.58 - 4s 2ms/sample - loss: 0.6920 - recall_3: 0.5857 - val_loss: 0.6837 - val_recall_3: 0.7585\n",
      "Epoch 2/5\n",
      "2566/2566 [==============================] - ETA: 1s - loss: 0.6997 - recall_3: 0.53 - ETA: 1s - loss: 0.6862 - recall_3: 0.64 - ETA: 1s - loss: 0.6864 - recall_3: 0.61 - ETA: 1s - loss: 0.6850 - recall_3: 0.63 - ETA: 0s - loss: 0.6852 - recall_3: 0.64 - ETA: 0s - loss: 0.6845 - recall_3: 0.64 - ETA: 0s - loss: 0.6846 - recall_3: 0.63 - ETA: 0s - loss: 0.6834 - recall_3: 0.63 - ETA: 0s - loss: 0.6833 - recall_3: 0.63 - ETA: 0s - loss: 0.6828 - recall_3: 0.63 - ETA: 0s - loss: 0.6830 - recall_3: 0.63 - ETA: 0s - loss: 0.6820 - recall_3: 0.63 - ETA: 0s - loss: 0.6814 - recall_3: 0.63 - ETA: 0s - loss: 0.6803 - recall_3: 0.63 - ETA: 0s - loss: 0.6796 - recall_3: 0.62 - ETA: 0s - loss: 0.6786 - recall_3: 0.62 - ETA: 0s - loss: 0.6780 - recall_3: 0.62 - ETA: 0s - loss: 0.6766 - recall_3: 0.62 - ETA: 0s - loss: 0.6759 - recall_3: 0.63 - ETA: 0s - loss: 0.6755 - recall_3: 0.63 - ETA: 0s - loss: 0.6747 - recall_3: 0.63 - ETA: 0s - loss: 0.6732 - recall_3: 0.63 - 2s 688us/sample - loss: 0.6733 - recall_3: 0.6372 - val_loss: 0.6939 - val_recall_3: 0.5593\n",
      "Epoch 3/5\n",
      "2566/2566 [==============================] - ETA: 1s - loss: 0.6451 - recall_3: 0.78 - ETA: 1s - loss: 0.6369 - recall_3: 0.68 - ETA: 1s - loss: 0.6376 - recall_3: 0.67 - ETA: 1s - loss: 0.6311 - recall_3: 0.69 - ETA: 1s - loss: 0.6233 - recall_3: 0.71 - ETA: 1s - loss: 0.6254 - recall_3: 0.71 - ETA: 0s - loss: 0.6226 - recall_3: 0.72 - ETA: 0s - loss: 0.6169 - recall_3: 0.72 - ETA: 0s - loss: 0.6169 - recall_3: 0.72 - ETA: 0s - loss: 0.6138 - recall_3: 0.72 - ETA: 0s - loss: 0.6053 - recall_3: 0.73 - ETA: 0s - loss: 0.6005 - recall_3: 0.73 - ETA: 0s - loss: 0.5942 - recall_3: 0.74 - ETA: 0s - loss: 0.5870 - recall_3: 0.74 - ETA: 0s - loss: 0.5849 - recall_3: 0.74 - ETA: 0s - loss: 0.5837 - recall_3: 0.73 - ETA: 0s - loss: 0.5784 - recall_3: 0.73 - ETA: 0s - loss: 0.5780 - recall_3: 0.73 - ETA: 0s - loss: 0.5747 - recall_3: 0.73 - ETA: 0s - loss: 0.5715 - recall_3: 0.73 - ETA: 0s - loss: 0.5677 - recall_3: 0.74 - ETA: 0s - loss: 0.5631 - recall_3: 0.74 - ETA: 0s - loss: 0.5598 - recall_3: 0.74 - 2s 751us/sample - loss: 0.5591 - recall_3: 0.7443 - val_loss: 0.6582 - val_recall_3: 0.7135\n",
      "Epoch 4/5\n",
      "2566/2566 [==============================] - ETA: 1s - loss: 0.4052 - recall_3: 0.87 - ETA: 1s - loss: 0.4878 - recall_3: 0.84 - ETA: 1s - loss: 0.4440 - recall_3: 0.87 - ETA: 1s - loss: 0.4494 - recall_3: 0.86 - ETA: 1s - loss: 0.4511 - recall_3: 0.86 - ETA: 1s - loss: 0.4323 - recall_3: 0.86 - ETA: 0s - loss: 0.4364 - recall_3: 0.85 - ETA: 0s - loss: 0.4280 - recall_3: 0.86 - ETA: 0s - loss: 0.4225 - recall_3: 0.86 - ETA: 0s - loss: 0.4205 - recall_3: 0.86 - ETA: 0s - loss: 0.4239 - recall_3: 0.86 - ETA: 0s - loss: 0.4174 - recall_3: 0.86 - ETA: 0s - loss: 0.4174 - recall_3: 0.86 - ETA: 0s - loss: 0.4154 - recall_3: 0.86 - ETA: 0s - loss: 0.4136 - recall_3: 0.86 - ETA: 0s - loss: 0.4077 - recall_3: 0.86 - ETA: 0s - loss: 0.4029 - recall_3: 0.86 - ETA: 0s - loss: 0.4041 - recall_3: 0.86 - ETA: 0s - loss: 0.4034 - recall_3: 0.86 - ETA: 0s - loss: 0.3992 - recall_3: 0.86 - ETA: 0s - loss: 0.3984 - recall_3: 0.86 - ETA: 0s - loss: 0.4004 - recall_3: 0.86 - ETA: 0s - loss: 0.4024 - recall_3: 0.86 - 2s 729us/sample - loss: 0.4006 - recall_3: 0.8628 - val_loss: 0.6369 - val_recall_3: 0.7572\n",
      "Epoch 5/5\n",
      "2566/2566 [==============================] - ETA: 0s - loss: 0.3733 - recall_3: 0.84 - ETA: 0s - loss: 0.2950 - recall_3: 0.90 - ETA: 1s - loss: 0.2897 - recall_3: 0.90 - ETA: 0s - loss: 0.2933 - recall_3: 0.89 - ETA: 0s - loss: 0.2880 - recall_3: 0.90 - ETA: 0s - loss: 0.2889 - recall_3: 0.90 - ETA: 0s - loss: 0.2937 - recall_3: 0.90 - ETA: 0s - loss: 0.3026 - recall_3: 0.90 - ETA: 0s - loss: 0.3070 - recall_3: 0.90 - ETA: 0s - loss: 0.3044 - recall_3: 0.90 - ETA: 0s - loss: 0.3049 - recall_3: 0.90 - ETA: 0s - loss: 0.3025 - recall_3: 0.90 - ETA: 0s - loss: 0.3017 - recall_3: 0.90 - ETA: 0s - loss: 0.2995 - recall_3: 0.90 - ETA: 0s - loss: 0.2976 - recall_3: 0.90 - ETA: 0s - loss: 0.2962 - recall_3: 0.90 - ETA: 0s - loss: 0.2953 - recall_3: 0.90 - ETA: 0s - loss: 0.2919 - recall_3: 0.90 - ETA: 0s - loss: 0.2889 - recall_3: 0.90 - ETA: 0s - loss: 0.2865 - recall_3: 0.90 - ETA: 0s - loss: 0.2815 - recall_3: 0.91 - 2s 646us/sample - loss: 0.2801 - recall_3: 0.9108 - val_loss: 0.7075 - val_recall_3: 0.7563\n",
      "6750/6750 [==============================] - ETA: 0s - loss: 0.3650 - recall_3: 0.87 - ETA: 0s - loss: 0.6431 - recall_3: 0.76 - ETA: 0s - loss: 0.6715 - recall_3: 0.74 - ETA: 0s - loss: 0.6955 - recall_3: 0.74 - ETA: 0s - loss: 0.6918 - recall_3: 0.74 - ETA: 0s - loss: 0.6864 - recall_3: 0.75 - ETA: 0s - loss: 0.6888 - recall_3: 0.75 - ETA: 0s - loss: 0.6982 - recall_3: 0.75 - ETA: 0s - loss: 0.7016 - recall_3: 0.75 - ETA: 0s - loss: 0.6996 - recall_3: 0.75 - ETA: 0s - loss: 0.6975 - recall_3: 0.75 - ETA: 0s - loss: 0.7003 - recall_3: 0.75 - ETA: 0s - loss: 0.7045 - recall_3: 0.75 - 1s 99us/sample - loss: 0.7075 - recall_3: 0.7563\n",
      "Test Recall: 0.7562963\n"
     ]
    },
    {
     "data": {
      "image/png": "[encoded data removed]",
      "text/plain": [
       "<Figure size 432x360 with 1 Axes>"
      ]
     },
     "metadata": {
      "needs_background": "light"
     },
     "output_type": "display_data"
    }
   ],
   "source": [
    "model_down.compile(optimizer='adam', \n",
    "              loss='binary_crossentropy',\n",
    "              metrics=[tf.keras.metrics.Recall()])\n",
    "\n",
    "history = model_down.fit(down_X,\n",
    "          pd.get_dummies(down_y),\n",
    "          epochs=5,\n",
    "          validation_data=(X_test, pd.get_dummies(y_test))\n",
    "         )\n",
    "plot_loss(history)\n",
    "test_loss, test_acc = model_down.evaluate(X_test, pd.get_dummies(y_test))\n",
    "print('Test Recall:', test_acc)"
   ]
  },
  {
   "cell_type": "code",
   "execution_count": 37,
   "metadata": {
    "ExecuteTime": {
     "end_time": "2019-08-19T02:09:44.181040Z",
     "start_time": "2019-08-19T02:09:43.289567Z"
    }
   },
   "outputs": [
    {
     "data": {
      "text/plain": [
       "(0.9657320872274143, 0.7579259259259259)"
      ]
     },
     "execution_count": 37,
     "metadata": {},
     "output_type": "execute_result"
    }
   ],
   "source": [
    "#recall\n",
    "recall_score(y_test, model_down.predict_classes(X_test)), \\\n",
    "accuracy_score(y_test, model_down.predict_classes(X_test))"
   ]
  },
  {
   "cell_type": "code",
   "execution_count": 39,
   "metadata": {
    "ExecuteTime": {
     "end_time": "2019-08-19T02:18:55.888690Z",
     "start_time": "2019-08-19T02:18:55.260052Z"
    }
   },
   "outputs": [
    {
     "name": "stdout",
     "output_type": "stream",
     "text": [
      "전체채팅수6750, 유해채팅수1915\n"
     ]
    }
   ],
   "source": [
    "result = pd.DataFrame(np.apply_along_axis(index_to_text, 1, X_test))\n",
    "result['predict'] = model_down.predict_proba(X_test)[:,1] # 유해하다고 판별할 확률\n",
    "print('전체채팅수{}, 유해채팅수{}'.format(len(result),len(result[result.predict>0.5])))\n",
    "result[result.predict>0.5].head(10)\n",
    "result['label'] = y_test"
   ]
  },
  {
   "cell_type": "markdown",
   "metadata": {},
   "source": [
    "## 모델 체크포인트 저장"
   ]
  },
  {
   "cell_type": "code",
   "execution_count": 53,
   "metadata": {
    "ExecuteTime": {
     "end_time": "2019-08-19T02:26:36.693721Z",
     "start_time": "2019-08-19T02:26:35.857202Z"
    }
   },
   "outputs": [],
   "source": [
    "model_down.save('../model/cnn_undersample.h5')"
   ]
  },
  {
   "cell_type": "markdown",
   "metadata": {},
   "source": [
    "# TODO\n",
    "- 형태소별 Tokenize 말고 한글 자모별 Tokenize 하여 실험해보기\n",
    "- CNN layer / Parameter 변경시켜보기\n",
    "- 예측 결과 검정하기\n",
    "    - Attention 이용"
   ]
  }
 ],
 "metadata": {
  "kernelspec": {
   "display_name": "Python 3",
   "language": "python",
   "name": "python3"
  },
  "language_info": {
   "codemirror_mode": {
    "name": "ipython",
    "version": 3
   },
   "file_extension": ".py",
   "mimetype": "text/x-python",
   "name": "python",
   "nbconvert_exporter": "python",
   "pygments_lexer": "ipython3",
   "version": "3.7.3"
  }
 },
 "nbformat": 4,
 "nbformat_minor": 2
}
