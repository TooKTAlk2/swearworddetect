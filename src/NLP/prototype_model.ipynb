{
 "cells": [
  {
   "cell_type": "code",
   "execution_count": 1,
   "metadata": {
    "ExecuteTime": {
     "end_time": "2019-08-06T18:43:29.255243Z",
     "start_time": "2019-08-06T18:43:19.901605Z"
    }
   },
   "outputs": [
    {
     "name": "stdout",
     "output_type": "stream",
     "text": [
      "Chan 2019-08-07 \n",
      "\n",
      "CPython 3.7.3\n",
      "IPython 7.6.1\n",
      "\n",
      "numpy 1.16.4\n",
      "pandas 0.24.2\n",
      "sklearn 0.21.2\n",
      "konlpy 0.5.1\n",
      "tensorflow 1.13.1\n",
      "matplotlib 3.1.0\n",
      "imblearn 0.5.0\n"
     ]
    }
   ],
   "source": [
    "%load_ext watermark\n",
    "%watermark -a Chan -d -v -p numpy,pandas,sklearn,konlpy,tensorflow,matplotlib,imblearn"
   ]
  },
  {
   "cell_type": "code",
   "execution_count": 2,
   "metadata": {
    "ExecuteTime": {
     "end_time": "2019-08-06T18:43:29.905887Z",
     "start_time": "2019-08-06T18:43:29.260240Z"
    }
   },
   "outputs": [],
   "source": [
    "import numpy as np\n",
    "import pandas as pd\n",
    "from sklearn.model_selection import train_test_split\n",
    "from konlpy.tag import Okt\n",
    "import tensorflow as tf\n",
    "from tensorflow.python.keras.preprocessing import sequence\n",
    "from tensorflow import keras\n",
    "from tqdm import tqdm\n",
    "from collections import Counter\n",
    "from matplotlib import pyplot as plt"
   ]
  },
  {
   "cell_type": "markdown",
   "metadata": {},
   "source": [
    "# Load datasets"
   ]
  },
  {
   "cell_type": "code",
   "execution_count": 3,
   "metadata": {
    "ExecuteTime": {
     "end_time": "2019-08-06T18:43:30.037796Z",
     "start_time": "2019-08-06T18:43:29.910868Z"
    }
   },
   "outputs": [
    {
     "name": "stdout",
     "output_type": "stream",
     "text": [
      "1\n",
      "2\n",
      "3\n",
      "4\n"
     ]
    },
    {
     "data": {
      "text/html": [
       "<div>\n",
       "<style scoped>\n",
       "    .dataframe tbody tr th:only-of-type {\n",
       "        vertical-align: middle;\n",
       "    }\n",
       "\n",
       "    .dataframe tbody tr th {\n",
       "        vertical-align: top;\n",
       "    }\n",
       "\n",
       "    .dataframe thead th {\n",
       "        text-align: right;\n",
       "    }\n",
       "</style>\n",
       "<table border=\"1\" class=\"dataframe\">\n",
       "  <thead>\n",
       "    <tr style=\"text-align: right;\">\n",
       "      <th></th>\n",
       "      <th>chat</th>\n",
       "      <th>label</th>\n",
       "    </tr>\n",
       "  </thead>\n",
       "  <tbody>\n",
       "    <tr>\n",
       "      <th>0</th>\n",
       "      <td>자기잘못인거알면 중고딩도 먼저사과하는걸아는데</td>\n",
       "      <td>0</td>\n",
       "    </tr>\n",
       "    <tr>\n",
       "      <th>1</th>\n",
       "      <td>싹둑이 채팅창 관리 중입니다</td>\n",
       "      <td>0</td>\n",
       "    </tr>\n",
       "    <tr>\n",
       "      <th>2</th>\n",
       "      <td>싹둑이 채팅창 관리 중입니다</td>\n",
       "      <td>0</td>\n",
       "    </tr>\n",
       "    <tr>\n",
       "      <th>3</th>\n",
       "      <td>어제 어글 아직도 가? 개인적으로 사과하셨대 그만해 칭구들앙</td>\n",
       "      <td>0</td>\n",
       "    </tr>\n",
       "    <tr>\n",
       "      <th>4</th>\n",
       "      <td>케읍이 뭔데요 무슨사건있엇음?</td>\n",
       "      <td>0</td>\n",
       "    </tr>\n",
       "  </tbody>\n",
       "</table>\n",
       "</div>"
      ],
      "text/plain": [
       "                                 chat  label\n",
       "0            자기잘못인거알면 중고딩도 먼저사과하는걸아는데      0\n",
       "1                     싹둑이 채팅창 관리 중입니다      0\n",
       "2                     싹둑이 채팅창 관리 중입니다      0\n",
       "3  어제 어글 아직도 가? 개인적으로 사과하셨대 그만해 칭구들앙       0\n",
       "4                    케읍이 뭔데요 무슨사건있엇음?      0"
      ]
     },
     "execution_count": 3,
     "metadata": {},
     "output_type": "execute_result"
    }
   ],
   "source": [
    "datasets = pd.DataFrame()\n",
    "for i in range(1,5):\n",
    "    print(i)\n",
    "    dump = pd.read_csv(\"../../data/sample ({}).csv\".format(i), engine='python',names=['chat','label'])\n",
    "    datasets = pd.concat([datasets, dump])\n",
    "datasets.head()"
   ]
  },
  {
   "cell_type": "code",
   "execution_count": 4,
   "metadata": {
    "ExecuteTime": {
     "end_time": "2019-08-06T18:43:30.051785Z",
     "start_time": "2019-08-06T18:43:30.042792Z"
    }
   },
   "outputs": [],
   "source": [
    "datasets.reset_index(drop=True,inplace=True)"
   ]
  },
  {
   "cell_type": "code",
   "execution_count": 5,
   "metadata": {
    "ExecuteTime": {
     "end_time": "2019-08-06T18:43:30.084768Z",
     "start_time": "2019-08-06T18:43:30.055784Z"
    }
   },
   "outputs": [
    {
     "name": "stdout",
     "output_type": "stream",
     "text": [
      "<class 'pandas.core.frame.DataFrame'>\n",
      "RangeIndex: 3500 entries, 0 to 3499\n",
      "Data columns (total 2 columns):\n",
      "chat     3500 non-null object\n",
      "label    3500 non-null int64\n",
      "dtypes: int64(1), object(1)\n",
      "memory usage: 54.8+ KB\n"
     ]
    }
   ],
   "source": [
    "datasets.info()"
   ]
  },
  {
   "cell_type": "code",
   "execution_count": 6,
   "metadata": {
    "ExecuteTime": {
     "end_time": "2019-08-06T18:43:30.104755Z",
     "start_time": "2019-08-06T18:43:30.089766Z"
    }
   },
   "outputs": [],
   "source": [
    "datasets.label = datasets.label.astype('int')"
   ]
  },
  {
   "cell_type": "code",
   "execution_count": 7,
   "metadata": {
    "ExecuteTime": {
     "end_time": "2019-08-06T18:43:30.133739Z",
     "start_time": "2019-08-06T18:43:30.108754Z"
    }
   },
   "outputs": [
    {
     "data": {
      "text/plain": [
       "0.16163292399601725"
      ]
     },
     "execution_count": 7,
     "metadata": {},
     "output_type": "execute_result"
    }
   ],
   "source": [
    "len(datasets[datasets.label ==1])/ len(datasets[datasets.label ==0]) # 유해한 레이블의 데이터가 많이 부족함 데이터 편향ㅠㅠ"
   ]
  },
  {
   "cell_type": "markdown",
   "metadata": {
    "ExecuteTime": {
     "end_time": "2019-08-06T15:38:19.687895Z",
     "start_time": "2019-08-06T15:38:19.677899Z"
    }
   },
   "source": [
    "# Tokenize\n",
    "## 형태소분석"
   ]
  },
  {
   "cell_type": "code",
   "execution_count": 8,
   "metadata": {
    "ExecuteTime": {
     "end_time": "2019-08-06T18:43:30.754386Z",
     "start_time": "2019-08-06T18:43:30.142733Z"
    }
   },
   "outputs": [
    {
     "name": "stderr",
     "output_type": "stream",
     "text": [
      "C:\\Users\\skarn\\Anaconda3\\envs\\DataAnalysis\\lib\\site-packages\\jpype\\_core.py:210: UserWarning: \n",
      "-------------------------------------------------------------------------------\n",
      "Deprecated: convertStrings was not specified when starting the JVM. The default\n",
      "behavior in JPype will be False starting in JPype 0.8. The recommended setting\n",
      "for new code is convertStrings=False.  The legacy value of True was assumed for\n",
      "this session. If you are a user of an application that reported this warning,\n",
      "please file a ticket with the developer.\n",
      "-------------------------------------------------------------------------------\n",
      "\n",
      "  \"\"\")\n"
     ]
    }
   ],
   "source": [
    "morp = Okt()"
   ]
  },
  {
   "cell_type": "code",
   "execution_count": 9,
   "metadata": {
    "ExecuteTime": {
     "end_time": "2019-08-06T18:43:53.683241Z",
     "start_time": "2019-08-06T18:43:30.758384Z"
    }
   },
   "outputs": [
    {
     "name": "stderr",
     "output_type": "stream",
     "text": [
      "100%|█████████████████████████████████████████████████████████████████████████████| 3500/3500 [00:22<00:00, 152.80it/s]\n"
     ]
    }
   ],
   "source": [
    "morped = [morp.pos(_, norm=True, join=True) for _ in tqdm(datasets.chat)] # Stemming은 하지 않는다."
   ]
  },
  {
   "cell_type": "code",
   "execution_count": 10,
   "metadata": {
    "ExecuteTime": {
     "end_time": "2019-08-06T18:43:53.702226Z",
     "start_time": "2019-08-06T18:43:53.688236Z"
    }
   },
   "outputs": [
    {
     "data": {
      "text/plain": [
       "[['자기/Noun',\n",
       "  '잘못/Noun',\n",
       "  '인거/Josa',\n",
       "  '알/Noun',\n",
       "  '면/Josa',\n",
       "  '중/Noun',\n",
       "  '고딩/Noun',\n",
       "  '도/Josa',\n",
       "  '먼저/Noun',\n",
       "  '사과/Noun',\n",
       "  '하/Suffix',\n",
       "  '는/Josa',\n",
       "  '걸아는데/Verb'],\n",
       " ['싹둑/Noun',\n",
       "  '이/Josa',\n",
       "  '채팅/Noun',\n",
       "  '창/Noun',\n",
       "  '관리/Noun',\n",
       "  '중/Noun',\n",
       "  '입니다/Adjective'],\n",
       " ['싹둑/Noun',\n",
       "  '이/Josa',\n",
       "  '채팅/Noun',\n",
       "  '창/Noun',\n",
       "  '관리/Noun',\n",
       "  '중/Noun',\n",
       "  '입니다/Adjective'],\n",
       " ['어제/Noun',\n",
       "  '어글/Noun',\n",
       "  '아직도/Adverb',\n",
       "  '가/Verb',\n",
       "  '?/Punctuation',\n",
       "  '개인/Noun',\n",
       "  '적/Suffix',\n",
       "  '으로/Josa',\n",
       "  '사과/Noun',\n",
       "  '하셨대/Verb',\n",
       "  '그만해/Adjective',\n",
       "  '칭구들앙/Noun'],\n",
       " ['케읍/Noun',\n",
       "  '이/Josa',\n",
       "  '뭔/Modifier',\n",
       "  '데/Noun',\n",
       "  '요/Josa',\n",
       "  '무슨/Modifier',\n",
       "  '사건/Noun',\n",
       "  '있/Adjective',\n",
       "  '엇음/Noun',\n",
       "  '?/Punctuation']]"
      ]
     },
     "execution_count": 10,
     "metadata": {},
     "output_type": "execute_result"
    }
   ],
   "source": [
    "morped[:5]"
   ]
  },
  {
   "cell_type": "markdown",
   "metadata": {},
   "source": [
    "## Dictionary\n",
    "최빈 형태소에 대한 단어사전 구성"
   ]
  },
  {
   "cell_type": "code",
   "execution_count": 11,
   "metadata": {
    "ExecuteTime": {
     "end_time": "2019-08-06T18:43:54.186948Z",
     "start_time": "2019-08-06T18:43:53.707225Z"
    }
   },
   "outputs": [
    {
     "name": "stdout",
     "output_type": "stream",
     "text": [
      "고빈도 단어:\n",
      "형/Suffix :  724\n",
      "이/Josa :  706\n",
      "샤/Noun :  587\n",
      "나왔/Verb :  562\n",
      "브베/Noun :  442\n",
      "창/Noun :  420\n",
      "채팅/Noun :  417\n",
      "중/Noun :  408\n",
      "입니다/Adjective :  408\n",
      "싹둑/Noun :  407\n",
      "\n",
      "단어 사전:\n",
      "0 <PAD>\n",
      "1 <OOV>\n",
      "2 형/Suffix\n",
      "3 이/Josa\n",
      "4 샤/Noun\n",
      "5 나왔/Verb\n",
      "6 브베/Noun\n",
      "7 창/Noun\n",
      "8 채팅/Noun\n",
      "9 중/Noun\n",
      "\n",
      "단어 사전 크기:  3421\n"
     ]
    }
   ],
   "source": [
    "vocab_size = 5000\n",
    "\n",
    "pad_id = 0\n",
    "oov_id = 1\n",
    "index_offset = 1\n",
    "\n",
    "def make_vocab(sentences):\n",
    "    word_counter = Counter()\n",
    "\n",
    "    for sent in sentences:\n",
    "        word_counter.update(sent)\n",
    "\n",
    "    most_common = word_counter.most_common()\n",
    "    print(\"고빈도 단어:\")\n",
    "    for k, v in most_common[:10]:\n",
    "        print(k, \": \", v)\n",
    "\n",
    "        vocab = {\n",
    "        '<PAD>': pad_id,\n",
    "        '<OOV>': oov_id\n",
    "        }\n",
    "    for i, (word, cnt) in enumerate(most_common, start=index_offset+1):\n",
    "        vocab[word] = i\n",
    "        if len(vocab) >= vocab_size:\n",
    "            break\n",
    "\n",
    "    return vocab\n",
    "\n",
    "word_index = make_vocab(morped)\n",
    "word_inverted_index = {v:k for k, v in word_index.items()}\n",
    "\n",
    "print(\"\\n단어 사전:\")\n",
    "for i in range(0, 10):\n",
    "    print(i, word_inverted_index[i])\n",
    "\n",
    "print(\"\\n단어 사전 크기: \", len(word_index))"
   ]
  },
  {
   "cell_type": "code",
   "execution_count": 12,
   "metadata": {
    "ExecuteTime": {
     "end_time": "2019-08-06T18:43:54.227927Z",
     "start_time": "2019-08-06T18:43:54.191946Z"
    }
   },
   "outputs": [
    {
     "name": "stdout",
     "output_type": "stream",
     "text": [
      "원본:  ['자기/Noun', '잘못/Noun', '인거/Josa', '알/Noun', '면/Josa', '중/Noun', '고딩/Noun', '도/Josa', '먼저/Noun', '사과/Noun', '하/Suffix', '는/Josa', '걸아는데/Verb']\n",
      "문자 -> 숫자:  [234, 781, 782, 381, 293, 9, 1292, 58, 1293, 235, 93, 60, 1294]\n",
      "숫자 -> 문자:  자기/Noun 잘못/Noun 인거/Josa 알/Noun 면/Josa 중/Noun 고딩/Noun 도/Josa 먼저/Noun 사과/Noun 하/Suffix 는/Josa 걸아는데/Verb\n"
     ]
    }
   ],
   "source": [
    "def index_to_text(indexes):\n",
    "    return ' '.join([word_inverted_index[i] for i in indexes])\n",
    "\n",
    "def text_to_index(tokens):\n",
    "    indexes = []\n",
    "    for tok in tokens:\n",
    "        if tok in word_index:\n",
    "            indexes.append(word_index[tok])\n",
    "        else:\n",
    "            indexes.append(oov_id)\n",
    "\n",
    "    return indexes\n",
    "\n",
    "print(\"원본: \", morped[0])\n",
    "ids = text_to_index(morped[0])\n",
    "print(\"문자 -> 숫자: \", ids)\n",
    "print(\"숫자 -> 문자: \", index_to_text(ids))"
   ]
  },
  {
   "cell_type": "markdown",
   "metadata": {},
   "source": [
    "# Padding"
   ]
  },
  {
   "cell_type": "code",
   "execution_count": 13,
   "metadata": {
    "ExecuteTime": {
     "end_time": "2019-08-06T18:43:54.402827Z",
     "start_time": "2019-08-06T18:43:54.240918Z"
    }
   },
   "outputs": [],
   "source": [
    "x_variable = [text_to_index(_) for _ in morped]\n",
    "\n",
    "sentence_size = 20\n",
    "x_padded = sequence.pad_sequences(x_variable,\n",
    "                                 maxlen=sentence_size,\n",
    "                                 truncating='post',\n",
    "                                 padding='post',\n",
    "                                 value=pad_id)"
   ]
  },
  {
   "cell_type": "markdown",
   "metadata": {},
   "source": [
    "# Data Split"
   ]
  },
  {
   "cell_type": "code",
   "execution_count": 14,
   "metadata": {
    "ExecuteTime": {
     "end_time": "2019-08-06T18:43:54.478785Z",
     "start_time": "2019-08-06T18:43:54.410822Z"
    }
   },
   "outputs": [
    {
     "name": "stdout",
     "output_type": "stream",
     "text": [
      "train_inputs shape:  (2625, 20)\n",
      "test_inputs shape:  (875, 20)\n",
      "train_labels shape:  (2625,)\n",
      "test_labels shape:  (875,)\n"
     ]
    }
   ],
   "source": [
    "X_train, X_test, y_train, y_test = train_test_split(x_padded, datasets.label)\n",
    "\n",
    "print(\"train_inputs shape: \", X_train.shape)\n",
    "print(\"test_inputs shape: \", X_test.shape)\n",
    "print(\"train_labels shape: \", y_train.shape)\n",
    "print(\"test_labels shape: \", y_test.shape)"
   ]
  },
  {
   "cell_type": "markdown",
   "metadata": {},
   "source": [
    "# Model"
   ]
  },
  {
   "cell_type": "code",
   "execution_count": 15,
   "metadata": {
    "ExecuteTime": {
     "end_time": "2019-08-06T18:43:54.498772Z",
     "start_time": "2019-08-06T18:43:54.485778Z"
    }
   },
   "outputs": [],
   "source": [
    "import warnings\n",
    "warnings.filterwarnings(action='once')"
   ]
  },
  {
   "cell_type": "code",
   "execution_count": 16,
   "metadata": {
    "ExecuteTime": {
     "end_time": "2019-08-06T18:43:55.246342Z",
     "start_time": "2019-08-06T18:43:54.506765Z"
    }
   },
   "outputs": [
    {
     "name": "stderr",
     "output_type": "stream",
     "text": [
      "C:\\Users\\skarn\\Anaconda3\\envs\\DataAnalysis\\lib\\site-packages\\numpy\\lib\\type_check.py:546: DeprecationWarning: np.asscalar(a) is deprecated since NumPy v1.16, use a.item() instead\n",
      "  'a.item() instead', DeprecationWarning, stacklevel=1)\n"
     ]
    },
    {
     "name": "stdout",
     "output_type": "stream",
     "text": [
      "WARNING:tensorflow:From C:\\Users\\skarn\\Anaconda3\\envs\\DataAnalysis\\lib\\site-packages\\tensorflow\\python\\ops\\resource_variable_ops.py:435: colocate_with (from tensorflow.python.framework.ops) is deprecated and will be removed in a future version.\n",
      "Instructions for updating:\n",
      "Colocations handled automatically by placer.\n",
      "WARNING:tensorflow:From C:\\Users\\skarn\\Anaconda3\\envs\\DataAnalysis\\lib\\site-packages\\tensorflow\\python\\keras\\layers\\core.py:143: calling dropout (from tensorflow.python.ops.nn_ops) with keep_prob is deprecated and will be removed in a future version.\n",
      "Instructions for updating:\n",
      "Please use `rate` instead of `keep_prob`. Rate should be set to `rate = 1 - keep_prob`.\n"
     ]
    }
   ],
   "source": [
    "model = keras.Sequential([\n",
    "    keras.layers.Embedding(vocab_size, 10),\n",
    "    keras.layers.Conv1D(32, 3, padding=\"same\", activation=tf.nn.relu),\n",
    "    keras.layers.Dropout(0.3),\n",
    "    keras.layers.Conv1D(32, 3, padding=\"same\", activation=tf.nn.relu),\n",
    "    keras.layers.GlobalMaxPool1D(),\n",
    "    keras.layers.Dropout(0.5),\n",
    "    keras.layers.Dense(2, activation=tf.nn.sigmoid)\n",
    "])"
   ]
  },
  {
   "cell_type": "code",
   "execution_count": 17,
   "metadata": {
    "ExecuteTime": {
     "end_time": "2019-08-06T18:43:55.264332Z",
     "start_time": "2019-08-06T18:43:55.250340Z"
    }
   },
   "outputs": [],
   "source": [
    "def plot_loss(history):\n",
    "    plt.figure(figsize=(6,5))\n",
    "    val = plt.plot(history.epoch, history.history['val_loss'],\n",
    "                 '--', label='Test')\n",
    "    plt.plot(history.epoch, history.history['loss'], color=val[0].get_color(),\n",
    "           label='Train')\n",
    "\n",
    "    plt.xlabel('Epochs')\n",
    "    plt.ylabel(\"Loss\")\n",
    "    plt.legend()\n",
    "\n",
    "    plt.xlim([0,max(history.epoch)])\n",
    "\n",
    "def eval_model(model):\n",
    "    test_loss, test_acc = model.evaluate(X_test, pd.get_dummies(y_test))\n",
    "    print('Test accuracy:', test_acc)"
   ]
  },
  {
   "cell_type": "code",
   "execution_count": 18,
   "metadata": {
    "ExecuteTime": {
     "end_time": "2019-08-06T18:44:07.215481Z",
     "start_time": "2019-08-06T18:43:55.275325Z"
    }
   },
   "outputs": [
    {
     "name": "stdout",
     "output_type": "stream",
     "text": [
      "Train on 2625 samples, validate on 875 samples\n",
      "WARNING:tensorflow:From C:\\Users\\skarn\\Anaconda3\\envs\\DataAnalysis\\lib\\site-packages\\tensorflow\\python\\ops\\math_ops.py:3066: to_int32 (from tensorflow.python.ops.math_ops) is deprecated and will be removed in a future version.\n",
      "Instructions for updating:\n",
      "Use tf.cast instead.\n",
      "WARNING:tensorflow:From C:\\Users\\skarn\\Anaconda3\\envs\\DataAnalysis\\lib\\site-packages\\tensorflow\\python\\ops\\math_grad.py:102: div (from tensorflow.python.ops.math_ops) is deprecated and will be removed in a future version.\n",
      "Instructions for updating:\n",
      "Deprecated in favor of operator or tf.math.divide.\n",
      "Epoch 1/5\n",
      "2625/2625 [==============================] - ETA: 2:53 - loss: 0.6927 - acc: 0.500 - ETA: 33s - loss: 0.6846 - acc: 0.653 - ETA: 20s - loss: 0.6804 - acc: 0.67 - ETA: 14s - loss: 0.6747 - acc: 0.70 - ETA: 11s - loss: 0.6718 - acc: 0.71 - ETA: 9s - loss: 0.6670 - acc: 0.7252 - ETA: 7s - loss: 0.6606 - acc: 0.737 - ETA: 6s - loss: 0.6516 - acc: 0.754 - ETA: 5s - loss: 0.6407 - acc: 0.766 - ETA: 4s - loss: 0.6301 - acc: 0.772 - ETA: 4s - loss: 0.6242 - acc: 0.776 - ETA: 3s - loss: 0.6156 - acc: 0.782 - ETA: 3s - loss: 0.6027 - acc: 0.790 - ETA: 2s - loss: 0.5833 - acc: 0.800 - ETA: 2s - loss: 0.5797 - acc: 0.801 - ETA: 1s - loss: 0.5766 - acc: 0.799 - ETA: 1s - loss: 0.5585 - acc: 0.807 - ETA: 1s - loss: 0.5512 - acc: 0.810 - ETA: 1s - loss: 0.5404 - acc: 0.814 - ETA: 0s - loss: 0.5350 - acc: 0.816 - ETA: 0s - loss: 0.5238 - acc: 0.821 - ETA: 0s - loss: 0.5137 - acc: 0.826 - ETA: 0s - loss: 0.5079 - acc: 0.829 - 4s 2ms/sample - loss: 0.5083 - acc: 0.8290 - val_loss: 0.4102 - val_acc: 0.8617\n",
      "Epoch 2/5\n",
      "2625/2625 [==============================] - ETA: 0s - loss: 0.4790 - acc: 0.828 - ETA: 0s - loss: 0.3954 - acc: 0.873 - ETA: 0s - loss: 0.4294 - acc: 0.856 - ETA: 0s - loss: 0.4321 - acc: 0.857 - ETA: 0s - loss: 0.4153 - acc: 0.867 - ETA: 0s - loss: 0.4290 - acc: 0.857 - ETA: 0s - loss: 0.4266 - acc: 0.859 - ETA: 0s - loss: 0.4261 - acc: 0.859 - ETA: 0s - loss: 0.4275 - acc: 0.857 - ETA: 0s - loss: 0.4309 - acc: 0.855 - ETA: 0s - loss: 0.4256 - acc: 0.858 - ETA: 0s - loss: 0.4219 - acc: 0.861 - ETA: 0s - loss: 0.4226 - acc: 0.860 - ETA: 0s - loss: 0.4195 - acc: 0.862 - ETA: 0s - loss: 0.4213 - acc: 0.860 - 1s 338us/sample - loss: 0.4212 - acc: 0.8608 - val_loss: 0.4094 - val_acc: 0.8617\n",
      "Epoch 3/5\n",
      "2625/2625 [==============================] - ETA: 0s - loss: 0.4925 - acc: 0.812 - ETA: 0s - loss: 0.4262 - acc: 0.857 - ETA: 0s - loss: 0.4324 - acc: 0.855 - ETA: 0s - loss: 0.4317 - acc: 0.856 - ETA: 0s - loss: 0.4156 - acc: 0.866 - ETA: 0s - loss: 0.4129 - acc: 0.866 - ETA: 0s - loss: 0.4094 - acc: 0.866 - ETA: 0s - loss: 0.4012 - acc: 0.868 - ETA: 0s - loss: 0.3947 - acc: 0.872 - ETA: 0s - loss: 0.3979 - acc: 0.870 - ETA: 0s - loss: 0.3972 - acc: 0.871 - ETA: 0s - loss: 0.3996 - acc: 0.870 - ETA: 0s - loss: 0.4047 - acc: 0.867 - ETA: 0s - loss: 0.4062 - acc: 0.865 - ETA: 0s - loss: 0.4069 - acc: 0.865 - ETA: 0s - loss: 0.4139 - acc: 0.860 - 1s 363us/sample - loss: 0.4134 - acc: 0.8606 - val_loss: 0.4191 - val_acc: 0.8617\n",
      "Epoch 4/5\n",
      "2625/2625 [==============================] - ETA: 0s - loss: 0.4647 - acc: 0.812 - ETA: 0s - loss: 0.3574 - acc: 0.892 - ETA: 0s - loss: 0.3878 - acc: 0.875 - ETA: 0s - loss: 0.4169 - acc: 0.860 - ETA: 0s - loss: 0.4375 - acc: 0.847 - ETA: 0s - loss: 0.4197 - acc: 0.856 - ETA: 0s - loss: 0.4033 - acc: 0.866 - ETA: 0s - loss: 0.4177 - acc: 0.857 - ETA: 0s - loss: 0.3989 - acc: 0.867 - ETA: 0s - loss: 0.4117 - acc: 0.859 - ETA: 0s - loss: 0.4165 - acc: 0.855 - ETA: 0s - loss: 0.4087 - acc: 0.859 - ETA: 0s - loss: 0.4038 - acc: 0.861 - ETA: 0s - loss: 0.4048 - acc: 0.860 - ETA: 0s - loss: 0.4018 - acc: 0.860 - 1s 342us/sample - loss: 0.4015 - acc: 0.8606 - val_loss: 0.3542 - val_acc: 0.8617\n",
      "Epoch 5/5\n",
      "2625/2625 [==============================] - ETA: 0s - loss: 0.2605 - acc: 0.906 - ETA: 1s - loss: 0.2684 - acc: 0.914 - ETA: 0s - loss: 0.3423 - acc: 0.868 - ETA: 0s - loss: 0.3428 - acc: 0.868 - ETA: 0s - loss: 0.3362 - acc: 0.873 - ETA: 0s - loss: 0.3512 - acc: 0.860 - ETA: 0s - loss: 0.3513 - acc: 0.858 - ETA: 0s - loss: 0.3401 - acc: 0.864 - ETA: 0s - loss: 0.3452 - acc: 0.860 - ETA: 0s - loss: 0.3469 - acc: 0.858 - ETA: 0s - loss: 0.3442 - acc: 0.858 - ETA: 0s - loss: 0.3382 - acc: 0.860 - ETA: 0s - loss: 0.3417 - acc: 0.860 - ETA: 0s - loss: 0.3392 - acc: 0.861 - ETA: 0s - loss: 0.3369 - acc: 0.863 - ETA: 0s - loss: 0.3355 - acc: 0.863 - ETA: 0s - loss: 0.3376 - acc: 0.861 - ETA: 0s - loss: 0.3403 - acc: 0.860 - 1s 401us/sample - loss: 0.3397 - acc: 0.8606 - val_loss: 0.3140 - val_acc: 0.8617\n",
      "875/875 [==============================] - ETA: 0s - loss: 0.3982 - acc: 0.812 - ETA: 0s - loss: 0.2960 - acc: 0.868 - 0s 105us/sample - loss: 0.3140 - acc: 0.8617\n",
      "Test accuracy: 0.8617143\n"
     ]
    },
    {
     "data": {
      "image/png": "[encoded data removed]",
      "text/plain": [
       "<Figure size 432x360 with 1 Axes>"
      ]
     },
     "metadata": {
      "needs_background": "light"
     },
     "output_type": "display_data"
    }
   ],
   "source": [
    "model.compile(optimizer='adam', \n",
    "              loss='binary_crossentropy',\n",
    "              metrics=['accuracy'])\n",
    "\n",
    "history = model.fit(X_train,\n",
    "          pd.get_dummies(y_train),\n",
    "          epochs=5,\n",
    "          validation_data=(X_test, pd.get_dummies(y_test))\n",
    "         )\n",
    "plot_loss(history)\n",
    "eval_model(model)"
   ]
  },
  {
   "cell_type": "code",
   "execution_count": 19,
   "metadata": {
    "ExecuteTime": {
     "end_time": "2019-08-06T18:44:07.678214Z",
     "start_time": "2019-08-06T18:44:07.221479Z"
    }
   },
   "outputs": [
    {
     "data": {
      "text/plain": [
       "{0}"
      ]
     },
     "execution_count": 19,
     "metadata": {},
     "output_type": "execute_result"
    }
   ],
   "source": [
    "set(model.predict_classes(X_test)) ## 전부 0으로 예측을 함 . 데이터 편향 문제때문"
   ]
  },
  {
   "cell_type": "code",
   "execution_count": 20,
   "metadata": {
    "ExecuteTime": {
     "end_time": "2019-08-06T18:44:07.688208Z",
     "start_time": "2019-08-06T18:44:07.682213Z"
    }
   },
   "outputs": [],
   "source": [
    "# result = pd.DataFrame(np.apply_along_axis(index_to_text, 1, X_test))\n",
    "# result['predict'] = model.predict_proba(X_test)[:,1] # 유해하다고 판별할 확률\n",
    "# result[result.predict>0.3]"
   ]
  },
  {
   "cell_type": "markdown",
   "metadata": {},
   "source": [
    "\n",
    "# 데이터 클래스 불균형 문제 해결하자"
   ]
  },
  {
   "cell_type": "code",
   "execution_count": 21,
   "metadata": {
    "ExecuteTime": {
     "end_time": "2019-08-06T18:44:07.726187Z",
     "start_time": "2019-08-06T18:44:07.693205Z"
    }
   },
   "outputs": [],
   "source": [
    "from imblearn.under_sampling import RandomUnderSampler\n",
    "from imblearn.over_sampling import RandomOverSampler"
   ]
  },
  {
   "cell_type": "markdown",
   "metadata": {},
   "source": [
    "## upsampling"
   ]
  },
  {
   "cell_type": "code",
   "execution_count": 22,
   "metadata": {
    "ExecuteTime": {
     "end_time": "2019-08-06T18:44:07.760183Z",
     "start_time": "2019-08-06T18:44:07.734183Z"
    }
   },
   "outputs": [],
   "source": [
    "up_X, up_y = RandomOverSampler().fit_resample(x_padded, datasets.label)\n",
    "up_X_train, up_X_test, up_y_train, up_y_test = train_test_split(up_X, up_y)"
   ]
  },
  {
   "cell_type": "code",
   "execution_count": 23,
   "metadata": {
    "ExecuteTime": {
     "end_time": "2019-08-06T18:44:07.788151Z",
     "start_time": "2019-08-06T18:44:07.774159Z"
    }
   },
   "outputs": [
    {
     "data": {
      "text/plain": [
       "(6026, 3013)"
      ]
     },
     "execution_count": 23,
     "metadata": {},
     "output_type": "execute_result"
    }
   ],
   "source": [
    "# 총 데이터 수 , 1 레이블 데이터 수\n",
    "len(up_y), up_y.sum()"
   ]
  },
  {
   "cell_type": "code",
   "execution_count": 24,
   "metadata": {
    "ExecuteTime": {
     "end_time": "2019-08-06T18:44:21.403345Z",
     "start_time": "2019-08-06T18:44:07.794149Z"
    }
   },
   "outputs": [
    {
     "name": "stderr",
     "output_type": "stream",
     "text": [
      "C:\\Users\\skarn\\Anaconda3\\envs\\DataAnalysis\\lib\\site-packages\\numpy\\lib\\type_check.py:546: DeprecationWarning: np.asscalar(a) is deprecated since NumPy v1.16, use a.item() instead\n",
      "  'a.item() instead', DeprecationWarning, stacklevel=1)\n"
     ]
    },
    {
     "name": "stdout",
     "output_type": "stream",
     "text": [
      "Train on 4519 samples, validate on 1507 samples\n",
      "Epoch 1/5\n",
      "4519/4519 [==============================] - ETA: 3:39 - loss: 0.7382 - acc: 0.531 - ETA: 30s - loss: 0.7253 - acc: 0.491 - ETA: 18s - loss: 0.6773 - acc: 0.48 - ETA: 11s - loss: 0.6568 - acc: 0.50 - ETA: 8s - loss: 0.6452 - acc: 0.4909 - ETA: 7s - loss: 0.6219 - acc: 0.508 - ETA: 6s - loss: 0.6177 - acc: 0.505 - ETA: 5s - loss: 0.6131 - acc: 0.500 - ETA: 4s - loss: 0.6046 - acc: 0.500 - ETA: 3s - loss: 0.6010 - acc: 0.497 - ETA: 3s - loss: 0.5979 - acc: 0.503 - ETA: 3s - loss: 0.5928 - acc: 0.512 - ETA: 2s - loss: 0.5898 - acc: 0.521 - ETA: 2s - loss: 0.5855 - acc: 0.536 - ETA: 2s - loss: 0.5805 - acc: 0.547 - ETA: 1s - loss: 0.5766 - acc: 0.562 - ETA: 1s - loss: 0.5731 - acc: 0.572 - ETA: 1s - loss: 0.5690 - acc: 0.585 - ETA: 1s - loss: 0.5668 - acc: 0.596 - ETA: 1s - loss: 0.5623 - acc: 0.605 - ETA: 0s - loss: 0.5596 - acc: 0.614 - ETA: 0s - loss: 0.5562 - acc: 0.624 - ETA: 0s - loss: 0.5528 - acc: 0.631 - ETA: 0s - loss: 0.5486 - acc: 0.641 - ETA: 0s - loss: 0.5450 - acc: 0.651 - ETA: 0s - loss: 0.5437 - acc: 0.656 - ETA: 0s - loss: 0.5395 - acc: 0.665 - 4s 807us/sample - loss: 0.5385 - acc: 0.6665 - val_loss: 0.4468 - val_acc: 0.9018\n",
      "Epoch 2/5\n",
      "4519/4519 [==============================] - ETA: 1s - loss: 0.4042 - acc: 0.843 - ETA: 1s - loss: 0.4108 - acc: 0.872 - ETA: 1s - loss: 0.4139 - acc: 0.883 - ETA: 1s - loss: 0.4089 - acc: 0.881 - ETA: 1s - loss: 0.4100 - acc: 0.884 - ETA: 1s - loss: 0.4013 - acc: 0.889 - ETA: 0s - loss: 0.3930 - acc: 0.892 - ETA: 0s - loss: 0.3861 - acc: 0.895 - ETA: 0s - loss: 0.3798 - acc: 0.896 - ETA: 0s - loss: 0.3746 - acc: 0.895 - ETA: 0s - loss: 0.3678 - acc: 0.896 - ETA: 0s - loss: 0.3637 - acc: 0.899 - ETA: 0s - loss: 0.3576 - acc: 0.899 - ETA: 0s - loss: 0.3544 - acc: 0.900 - ETA: 0s - loss: 0.3497 - acc: 0.901 - ETA: 0s - loss: 0.3416 - acc: 0.901 - ETA: 0s - loss: 0.3365 - acc: 0.902 - ETA: 0s - loss: 0.3347 - acc: 0.902 - ETA: 0s - loss: 0.3277 - acc: 0.905 - ETA: 0s - loss: 0.3228 - acc: 0.905 - ETA: 0s - loss: 0.3232 - acc: 0.903 - ETA: 0s - loss: 0.3172 - acc: 0.905 - ETA: 0s - loss: 0.3126 - acc: 0.905 - ETA: 0s - loss: 0.3100 - acc: 0.906 - ETA: 0s - loss: 0.3083 - acc: 0.906 - 2s 337us/sample - loss: 0.3060 - acc: 0.9069 - val_loss: 0.1808 - val_acc: 0.9539\n",
      "Epoch 3/5\n",
      "4519/4519 [==============================] - ETA: 1s - loss: 0.2140 - acc: 0.968 - ETA: 1s - loss: 0.2103 - acc: 0.942 - ETA: 1s - loss: 0.2132 - acc: 0.945 - ETA: 1s - loss: 0.1887 - acc: 0.948 - ETA: 1s - loss: 0.1827 - acc: 0.950 - ETA: 1s - loss: 0.1797 - acc: 0.952 - ETA: 1s - loss: 0.1767 - acc: 0.956 - ETA: 1s - loss: 0.1747 - acc: 0.957 - ETA: 0s - loss: 0.1711 - acc: 0.959 - ETA: 0s - loss: 0.1653 - acc: 0.961 - ETA: 0s - loss: 0.1622 - acc: 0.962 - ETA: 0s - loss: 0.1584 - acc: 0.963 - ETA: 0s - loss: 0.1562 - acc: 0.962 - ETA: 0s - loss: 0.1589 - acc: 0.962 - ETA: 0s - loss: 0.1566 - acc: 0.962 - ETA: 0s - loss: 0.1558 - acc: 0.961 - ETA: 0s - loss: 0.1514 - acc: 0.962 - ETA: 0s - loss: 0.1473 - acc: 0.963 - ETA: 0s - loss: 0.1440 - acc: 0.964 - ETA: 0s - loss: 0.1426 - acc: 0.964 - ETA: 0s - loss: 0.1413 - acc: 0.964 - ETA: 0s - loss: 0.1401 - acc: 0.964 - ETA: 0s - loss: 0.1383 - acc: 0.964 - ETA: 0s - loss: 0.1364 - acc: 0.964 - ETA: 0s - loss: 0.1343 - acc: 0.965 - 2s 339us/sample - loss: 0.1339 - acc: 0.9654 - val_loss: 0.1271 - val_acc: 0.9652\n",
      "Epoch 4/5\n",
      "4519/4519 [==============================] - ETA: 1s - loss: 0.0472 - acc: 1.000 - ETA: 1s - loss: 0.0655 - acc: 0.986 - ETA: 1s - loss: 0.0679 - acc: 0.984 - ETA: 1s - loss: 0.0636 - acc: 0.987 - ETA: 1s - loss: 0.0642 - acc: 0.985 - ETA: 1s - loss: 0.0644 - acc: 0.986 - ETA: 1s - loss: 0.0665 - acc: 0.986 - ETA: 1s - loss: 0.0707 - acc: 0.986 - ETA: 1s - loss: 0.0685 - acc: 0.985 - ETA: 1s - loss: 0.0730 - acc: 0.983 - ETA: 1s - loss: 0.0719 - acc: 0.983 - ETA: 0s - loss: 0.0808 - acc: 0.983 - ETA: 0s - loss: 0.0782 - acc: 0.984 - ETA: 0s - loss: 0.0748 - acc: 0.986 - ETA: 0s - loss: 0.0719 - acc: 0.985 - ETA: 0s - loss: 0.0698 - acc: 0.987 - ETA: 0s - loss: 0.0709 - acc: 0.986 - ETA: 0s - loss: 0.0716 - acc: 0.985 - ETA: 0s - loss: 0.0736 - acc: 0.984 - ETA: 0s - loss: 0.0713 - acc: 0.985 - ETA: 0s - loss: 0.0697 - acc: 0.985 - ETA: 0s - loss: 0.0702 - acc: 0.985 - ETA: 0s - loss: 0.0691 - acc: 0.984 - ETA: 0s - loss: 0.0683 - acc: 0.985 - ETA: 0s - loss: 0.0684 - acc: 0.985 - ETA: 0s - loss: 0.0714 - acc: 0.985 - ETA: 0s - loss: 0.0706 - acc: 0.985 - ETA: 0s - loss: 0.0691 - acc: 0.985 - ETA: 0s - loss: 0.0690 - acc: 0.985 - 2s 382us/sample - loss: 0.0689 - acc: 0.9855 - val_loss: 0.1308 - val_acc: 0.9642\n",
      "Epoch 5/5\n",
      "4519/4519 [==============================] - ETA: 1s - loss: 0.1301 - acc: 0.968 - ETA: 1s - loss: 0.0508 - acc: 0.990 - ETA: 1s - loss: 0.0420 - acc: 0.991 - ETA: 1s - loss: 0.0361 - acc: 0.993 - ETA: 1s - loss: 0.0363 - acc: 0.993 - ETA: 1s - loss: 0.0374 - acc: 0.993 - ETA: 1s - loss: 0.0376 - acc: 0.992 - ETA: 0s - loss: 0.0451 - acc: 0.992 - ETA: 0s - loss: 0.0515 - acc: 0.992 - ETA: 0s - loss: 0.0502 - acc: 0.992 - ETA: 0s - loss: 0.0475 - acc: 0.992 - ETA: 0s - loss: 0.0472 - acc: 0.991 - ETA: 0s - loss: 0.0451 - acc: 0.991 - ETA: 0s - loss: 0.0464 - acc: 0.991 - ETA: 0s - loss: 0.0442 - acc: 0.992 - ETA: 0s - loss: 0.0428 - acc: 0.992 - ETA: 0s - loss: 0.0417 - acc: 0.992 - ETA: 0s - loss: 0.0422 - acc: 0.991 - ETA: 0s - loss: 0.0449 - acc: 0.992 - ETA: 0s - loss: 0.0443 - acc: 0.992 - ETA: 0s - loss: 0.0458 - acc: 0.991 - ETA: 0s - loss: 0.0459 - acc: 0.992 - ETA: 0s - loss: 0.0456 - acc: 0.992 - ETA: 0s - loss: 0.0455 - acc: 0.992 - ETA: 0s - loss: 0.0471 - acc: 0.991 - ETA: 0s - loss: 0.0460 - acc: 0.992 - 2s 341us/sample - loss: 0.0459 - acc: 0.9920 - val_loss: 0.1132 - val_acc: 0.9708\n",
      "1507/1507 [==============================] - ETA: 0s - loss: 0.3991 - acc: 0.906 - ETA: 0s - loss: 0.1323 - acc: 0.972 - ETA: 0s - loss: 0.1138 - acc: 0.971 - 0s 103us/sample - loss: 0.1132 - acc: 0.9708\n",
      "Test accuracy: 0.9708029\n"
     ]
    },
    {
     "data": {
      "image/png": "[encoded data removed]",
      "text/plain": [
       "<Figure size 432x360 with 1 Axes>"
      ]
     },
     "metadata": {
      "needs_background": "light"
     },
     "output_type": "display_data"
    }
   ],
   "source": [
    "model.compile(optimizer='adam', \n",
    "              loss='binary_crossentropy',\n",
    "              metrics=['accuracy'])\n",
    "\n",
    "history = model.fit(up_X_train,\n",
    "          pd.get_dummies(up_y_train),\n",
    "          epochs=5,\n",
    "          validation_data=(up_X_test, pd.get_dummies(up_y_test))\n",
    "         )\n",
    "plot_loss(history)\n",
    "test_loss, test_acc = model.evaluate(up_X_test, pd.get_dummies(up_y_test))\n",
    "print('Test accuracy:', test_acc)"
   ]
  },
  {
   "cell_type": "code",
   "execution_count": 25,
   "metadata": {
    "ExecuteTime": {
     "end_time": "2019-08-06T18:44:22.041980Z",
     "start_time": "2019-08-06T18:44:21.408343Z"
    }
   },
   "outputs": [
    {
     "name": "stdout",
     "output_type": "stream",
     "text": [
      "전체채팅수1507, 유해채팅수809\n"
     ]
    },
    {
     "data": {
      "text/html": [
       "<div>\n",
       "<style scoped>\n",
       "    .dataframe tbody tr th:only-of-type {\n",
       "        vertical-align: middle;\n",
       "    }\n",
       "\n",
       "    .dataframe tbody tr th {\n",
       "        vertical-align: top;\n",
       "    }\n",
       "\n",
       "    .dataframe thead th {\n",
       "        text-align: right;\n",
       "    }\n",
       "</style>\n",
       "<table border=\"1\" class=\"dataframe\">\n",
       "  <thead>\n",
       "    <tr style=\"text-align: right;\">\n",
       "      <th></th>\n",
       "      <th>0</th>\n",
       "      <th>predict</th>\n",
       "    </tr>\n",
       "  </thead>\n",
       "  <tbody>\n",
       "    <tr>\n",
       "      <th>1</th>\n",
       "      <td>하/Exclamation 비스트/Noun 좀/Noun 그만/Adverb 쳐/Verb...</td>\n",
       "      <td>0.999835</td>\n",
       "    </tr>\n",
       "    <tr>\n",
       "      <th>2</th>\n",
       "      <td>정신병/Noun 자/Suffix 새끼/Noun &lt;PAD&gt; &lt;PAD&gt; &lt;PAD&gt; &lt;P...</td>\n",
       "      <td>0.998871</td>\n",
       "    </tr>\n",
       "    <tr>\n",
       "      <th>3</th>\n",
       "      <td>핡/Noun &lt;PAD&gt; &lt;PAD&gt; &lt;PAD&gt; &lt;PAD&gt; &lt;PAD&gt; &lt;PAD&gt; &lt;PA...</td>\n",
       "      <td>0.944404</td>\n",
       "    </tr>\n",
       "    <tr>\n",
       "      <th>5</th>\n",
       "      <td>아이작/Noun 확장/Noun 판/Noun 재밌냐/Adjective &lt;PAD&gt; &lt;P...</td>\n",
       "      <td>0.819586</td>\n",
       "    </tr>\n",
       "    <tr>\n",
       "      <th>6</th>\n",
       "      <td>창석/Noun 이부/Noun 랄/Noun 냄새/Noun 맞고/Verb 싣/Verb ...</td>\n",
       "      <td>0.999873</td>\n",
       "    </tr>\n",
       "    <tr>\n",
       "      <th>10</th>\n",
       "      <td>아/Exclamation 개패/Noun 고/Josa 싶다/Verb ㄱ/KoreanP...</td>\n",
       "      <td>0.998358</td>\n",
       "    </tr>\n",
       "    <tr>\n",
       "      <th>11</th>\n",
       "      <td>창석/Noun 이/Determiner 붕알/Noun 냄새/Noun 맞고/Verb 파...</td>\n",
       "      <td>0.999441</td>\n",
       "    </tr>\n",
       "    <tr>\n",
       "      <th>12</th>\n",
       "      <td>미애/Noun 가/Josa 치워주나/Verb 보지/Noun 씨발/Noun 년/Nou...</td>\n",
       "      <td>0.999990</td>\n",
       "    </tr>\n",
       "    <tr>\n",
       "      <th>16</th>\n",
       "      <td>ㄴ/KoreanParticle ㅈ/KoreanParticle &lt;PAD&gt; &lt;PAD&gt; ...</td>\n",
       "      <td>0.982392</td>\n",
       "    </tr>\n",
       "    <tr>\n",
       "      <th>17</th>\n",
       "      <td>목소리/Noun 가/Josa 게이/Noun 같은데/Adjective &lt;PAD&gt; &lt;P...</td>\n",
       "      <td>0.999419</td>\n",
       "    </tr>\n",
       "  </tbody>\n",
       "</table>\n",
       "</div>"
      ],
      "text/plain": [
       "                                                    0   predict\n",
       "1   하/Exclamation 비스트/Noun 좀/Noun 그만/Adverb 쳐/Verb...  0.999835\n",
       "2   정신병/Noun 자/Suffix 새끼/Noun <PAD> <PAD> <PAD> <P...  0.998871\n",
       "3   핡/Noun <PAD> <PAD> <PAD> <PAD> <PAD> <PAD> <PA...  0.944404\n",
       "5   아이작/Noun 확장/Noun 판/Noun 재밌냐/Adjective <PAD> <P...  0.819586\n",
       "6   창석/Noun 이부/Noun 랄/Noun 냄새/Noun 맞고/Verb 싣/Verb ...  0.999873\n",
       "10  아/Exclamation 개패/Noun 고/Josa 싶다/Verb ㄱ/KoreanP...  0.998358\n",
       "11  창석/Noun 이/Determiner 붕알/Noun 냄새/Noun 맞고/Verb 파...  0.999441\n",
       "12  미애/Noun 가/Josa 치워주나/Verb 보지/Noun 씨발/Noun 년/Nou...  0.999990\n",
       "16  ㄴ/KoreanParticle ㅈ/KoreanParticle <PAD> <PAD> ...  0.982392\n",
       "17  목소리/Noun 가/Josa 게이/Noun 같은데/Adjective <PAD> <P...  0.999419"
      ]
     },
     "execution_count": 25,
     "metadata": {},
     "output_type": "execute_result"
    }
   ],
   "source": [
    "result = pd.DataFrame(np.apply_along_axis(index_to_text, 1, up_X_test))\n",
    "result['predict'] = model.predict_proba(up_X_test)[:,1] # 유해하다고 판별할 확률\n",
    "print('전체채팅수{}, 유해채팅수{}'.format(len(result),len(result[result.predict>0.5])))\n",
    "result[result.predict>0.5].head(10)"
   ]
  },
  {
   "cell_type": "code",
   "execution_count": 26,
   "metadata": {
    "ExecuteTime": {
     "end_time": "2019-08-06T18:44:22.099946Z",
     "start_time": "2019-08-06T18:44:22.047976Z"
    }
   },
   "outputs": [
    {
     "data": {
      "text/html": [
       "<div>\n",
       "<style scoped>\n",
       "    .dataframe tbody tr th:only-of-type {\n",
       "        vertical-align: middle;\n",
       "    }\n",
       "\n",
       "    .dataframe tbody tr th {\n",
       "        vertical-align: top;\n",
       "    }\n",
       "\n",
       "    .dataframe thead th {\n",
       "        text-align: right;\n",
       "    }\n",
       "</style>\n",
       "<table border=\"1\" class=\"dataframe\">\n",
       "  <thead>\n",
       "    <tr style=\"text-align: right;\">\n",
       "      <th></th>\n",
       "      <th>0</th>\n",
       "      <th>predict</th>\n",
       "    </tr>\n",
       "  </thead>\n",
       "  <tbody>\n",
       "    <tr>\n",
       "      <th>5</th>\n",
       "      <td>아이작/Noun 확장/Noun 판/Noun 재밌냐/Adjective &lt;PAD&gt; &lt;P...</td>\n",
       "      <td>0.819586</td>\n",
       "    </tr>\n",
       "    <tr>\n",
       "      <th>51</th>\n",
       "      <td>슬슬/Noun ?/Punctuation &lt;PAD&gt; &lt;PAD&gt; &lt;PAD&gt; &lt;PAD&gt; ...</td>\n",
       "      <td>0.182021</td>\n",
       "    </tr>\n",
       "    <tr>\n",
       "      <th>54</th>\n",
       "      <td>님/Noun 이/Josa 스트리머/Noun 에게/Josa 폭행/Noun 을/Josa...</td>\n",
       "      <td>0.861528</td>\n",
       "    </tr>\n",
       "    <tr>\n",
       "      <th>62</th>\n",
       "      <td>?/Punctuation &lt;PAD&gt; &lt;PAD&gt; &lt;PAD&gt; &lt;PAD&gt; &lt;PAD&gt; &lt;P...</td>\n",
       "      <td>0.135297</td>\n",
       "    </tr>\n",
       "    <tr>\n",
       "      <th>89</th>\n",
       "      <td>폐륜/Noun 스토리/Noun 지리구요/Verb &lt;PAD&gt; &lt;PAD&gt; &lt;PAD&gt; &lt;...</td>\n",
       "      <td>0.896439</td>\n",
       "    </tr>\n",
       "    <tr>\n",
       "      <th>92</th>\n",
       "      <td>브베/Noun 형/Suffix 뮤직비디오/Noun 언제/Noun 만들어요/Verb ...</td>\n",
       "      <td>0.806357</td>\n",
       "    </tr>\n",
       "    <tr>\n",
       "      <th>138</th>\n",
       "      <td>도넛/Noun 없으니/Adjective 클린/Noun 하네/Verb &lt;PAD&gt; &lt;P...</td>\n",
       "      <td>0.841736</td>\n",
       "    </tr>\n",
       "    <tr>\n",
       "      <th>198</th>\n",
       "      <td>또/Noun 자리/Suffix 비우네/Verb ./Punctuation &lt;PAD&gt; ...</td>\n",
       "      <td>0.351927</td>\n",
       "    </tr>\n",
       "    <tr>\n",
       "      <th>215</th>\n",
       "      <td>이보/Noun 세/Noun 요/Josa ./Punctuation 소통/Noun 좀/...</td>\n",
       "      <td>0.514499</td>\n",
       "    </tr>\n",
       "    <tr>\n",
       "      <th>232</th>\n",
       "      <td>저리/Noun 가/Josa ~/Punctuation &lt;PAD&gt; &lt;PAD&gt; &lt;PAD&gt;...</td>\n",
       "      <td>0.348055</td>\n",
       "    </tr>\n",
       "    <tr>\n",
       "      <th>235</th>\n",
       "      <td>인/Noun 싸/Verb 컴/Noun 죽어도/Verb 안/VerbPrefix 삼/V...</td>\n",
       "      <td>0.425746</td>\n",
       "    </tr>\n",
       "    <tr>\n",
       "      <th>236</th>\n",
       "      <td>Squid/Alpha 1/Number &lt;PAD&gt; &lt;PAD&gt; &lt;PAD&gt; &lt;PAD&gt; &lt;...</td>\n",
       "      <td>0.761169</td>\n",
       "    </tr>\n",
       "    <tr>\n",
       "      <th>239</th>\n",
       "      <td>?/Punctuation &lt;PAD&gt; &lt;PAD&gt; &lt;PAD&gt; &lt;PAD&gt; &lt;PAD&gt; &lt;P...</td>\n",
       "      <td>0.135297</td>\n",
       "    </tr>\n",
       "    <tr>\n",
       "      <th>329</th>\n",
       "      <td>30분/Number 은/Foreign 바줄/Noun 께/Josa 1시간/Number...</td>\n",
       "      <td>0.474931</td>\n",
       "    </tr>\n",
       "    <tr>\n",
       "      <th>362</th>\n",
       "      <td>Squid/Alpha 1/Number &lt;PAD&gt; &lt;PAD&gt; &lt;PAD&gt; &lt;PAD&gt; &lt;...</td>\n",
       "      <td>0.761169</td>\n",
       "    </tr>\n",
       "    <tr>\n",
       "      <th>514</th>\n",
       "      <td>아니야/Adjective ./Punctuation 꺼/Verb 놔/Verb &lt;PAD...</td>\n",
       "      <td>0.490637</td>\n",
       "    </tr>\n",
       "    <tr>\n",
       "      <th>534</th>\n",
       "      <td>아프리카/Noun 에서/Josa 넘어오신거/Verb 임/Noun ?/Punctuat...</td>\n",
       "      <td>0.236596</td>\n",
       "    </tr>\n",
       "    <tr>\n",
       "      <th>574</th>\n",
       "      <td>너/Noun 부터/Josa 목/Noun 매달/Noun 면/Josa 되겟네/Verb ...</td>\n",
       "      <td>0.346671</td>\n",
       "    </tr>\n",
       "    <tr>\n",
       "      <th>579</th>\n",
       "      <td>이/Determiner 새끼/Noun 오/Modifier 자마자/Noun 왜/Nou...</td>\n",
       "      <td>0.798323</td>\n",
       "    </tr>\n",
       "    <tr>\n",
       "      <th>617</th>\n",
       "      <td>문어/Noun 대가리/Noun &lt;PAD&gt; &lt;PAD&gt; &lt;PAD&gt; &lt;PAD&gt; &lt;PAD&gt;...</td>\n",
       "      <td>0.109925</td>\n",
       "    </tr>\n",
       "    <tr>\n",
       "      <th>629</th>\n",
       "      <td>ㄵ/KoreanParticle &lt;PAD&gt; &lt;PAD&gt; &lt;PAD&gt; &lt;PAD&gt; &lt;PAD&gt;...</td>\n",
       "      <td>0.894005</td>\n",
       "    </tr>\n",
       "    <tr>\n",
       "      <th>638</th>\n",
       "      <td>노잼/Noun 이다/Josa &lt;PAD&gt; &lt;PAD&gt; &lt;PAD&gt; &lt;PAD&gt; &lt;PAD&gt; ...</td>\n",
       "      <td>0.106086</td>\n",
       "    </tr>\n",
       "    <tr>\n",
       "      <th>639</th>\n",
       "      <td>?/Punctuation &lt;PAD&gt; &lt;PAD&gt; &lt;PAD&gt; &lt;PAD&gt; &lt;PAD&gt; &lt;P...</td>\n",
       "      <td>0.135297</td>\n",
       "    </tr>\n",
       "    <tr>\n",
       "      <th>642</th>\n",
       "      <td>동네/Noun 에서/Josa 왜/Noun 싸워/Verb ?/Punctuation &lt;...</td>\n",
       "      <td>0.658371</td>\n",
       "    </tr>\n",
       "    <tr>\n",
       "      <th>644</th>\n",
       "      <td>창석/Noun 이/Noun 님/Suffix xxxtention/Alpha 아/Exc...</td>\n",
       "      <td>0.859656</td>\n",
       "    </tr>\n",
       "    <tr>\n",
       "      <th>647</th>\n",
       "      <td>아/Exclamation 미안해요/Adjective &lt;PAD&gt; &lt;PAD&gt; &lt;PAD&gt;...</td>\n",
       "      <td>0.316183</td>\n",
       "    </tr>\n",
       "    <tr>\n",
       "      <th>664</th>\n",
       "      <td>ㄵ/KoreanParticle &lt;PAD&gt; &lt;PAD&gt; &lt;PAD&gt; &lt;PAD&gt; &lt;PAD&gt;...</td>\n",
       "      <td>0.894005</td>\n",
       "    </tr>\n",
       "    <tr>\n",
       "      <th>667</th>\n",
       "      <td>인사/Noun 도/Josa 안/VerbPrefix 할래/Verb &lt;PAD&gt; &lt;PAD...</td>\n",
       "      <td>0.552896</td>\n",
       "    </tr>\n",
       "    <tr>\n",
       "      <th>668</th>\n",
       "      <td>브베/Noun 님/Suffix 아/Josa 그리고/Conjunction 아이작/No...</td>\n",
       "      <td>0.334374</td>\n",
       "    </tr>\n",
       "    <tr>\n",
       "      <th>671</th>\n",
       "      <td>ㄵ/KoreanParticle &lt;PAD&gt; &lt;PAD&gt; &lt;PAD&gt; &lt;PAD&gt; &lt;PAD&gt;...</td>\n",
       "      <td>0.894005</td>\n",
       "    </tr>\n",
       "    <tr>\n",
       "      <th>...</th>\n",
       "      <td>...</td>\n",
       "      <td>...</td>\n",
       "    </tr>\n",
       "    <tr>\n",
       "      <th>788</th>\n",
       "      <td>웃는거/Verb 봐/Verb ......................../Punct...</td>\n",
       "      <td>0.878255</td>\n",
       "    </tr>\n",
       "    <tr>\n",
       "      <th>805</th>\n",
       "      <td>폐륜/Noun 스토리/Noun 지리구요/Verb &lt;PAD&gt; &lt;PAD&gt; &lt;PAD&gt; &lt;...</td>\n",
       "      <td>0.896439</td>\n",
       "    </tr>\n",
       "    <tr>\n",
       "      <th>813</th>\n",
       "      <td>그럼/Adjective 거울/Noun 봐/Verb &lt;PAD&gt; &lt;PAD&gt; &lt;PAD&gt; ...</td>\n",
       "      <td>0.392547</td>\n",
       "    </tr>\n",
       "    <tr>\n",
       "      <th>830</th>\n",
       "      <td>브베/Noun 배/Noun 빵빵/Noun 미애/Noun 발/Noun 로/Josa 빵...</td>\n",
       "      <td>0.194326</td>\n",
       "    </tr>\n",
       "    <tr>\n",
       "      <th>881</th>\n",
       "      <td>Squid/Alpha 1/Number &lt;PAD&gt; &lt;PAD&gt; &lt;PAD&gt; &lt;PAD&gt; &lt;...</td>\n",
       "      <td>0.761169</td>\n",
       "    </tr>\n",
       "    <tr>\n",
       "      <th>893</th>\n",
       "      <td>브베/Noun 진짜/Noun 목소리/Noun 보다/Josa 못/VerbPrefix ...</td>\n",
       "      <td>0.419543</td>\n",
       "    </tr>\n",
       "    <tr>\n",
       "      <th>929</th>\n",
       "      <td>브베/Noun 야/Josa 약속/Noun 은/Josa 어기/Noun 라고/Josa ...</td>\n",
       "      <td>0.239390</td>\n",
       "    </tr>\n",
       "    <tr>\n",
       "      <th>944</th>\n",
       "      <td>통/Noun 아/Josa 저/Determiner 시씨/Noun 닮았다고/Verb &lt;...</td>\n",
       "      <td>0.808972</td>\n",
       "    </tr>\n",
       "    <tr>\n",
       "      <th>978</th>\n",
       "      <td>니/Noun 머리/Noun 에는/Josa 수분/Noun 섭취/Noun 안/VerbP...</td>\n",
       "      <td>0.113508</td>\n",
       "    </tr>\n",
       "    <tr>\n",
       "      <th>1000</th>\n",
       "      <td>뎀/Noun 지/Josa 실화/Noun 냐/Josa ㅕ/KoreanParticle ...</td>\n",
       "      <td>0.114085</td>\n",
       "    </tr>\n",
       "    <tr>\n",
       "      <th>1036</th>\n",
       "      <td>폐륜/Noun 스토리/Noun 지리구요/Verb &lt;PAD&gt; &lt;PAD&gt; &lt;PAD&gt; &lt;...</td>\n",
       "      <td>0.896439</td>\n",
       "    </tr>\n",
       "    <tr>\n",
       "      <th>1066</th>\n",
       "      <td>nexon/Alpha 50/Number 님/Suffix ,/Punctuation 1...</td>\n",
       "      <td>0.875293</td>\n",
       "    </tr>\n",
       "    <tr>\n",
       "      <th>1087</th>\n",
       "      <td>내배커님/Noun ,/Punctuation 1,000원/Number 그라샤/Noun...</td>\n",
       "      <td>0.175559</td>\n",
       "    </tr>\n",
       "    <tr>\n",
       "      <th>1101</th>\n",
       "      <td>브베/Noun 뚝/Noun 베기/Verb 3/Number 렙/Noun &lt;PAD&gt; &lt;...</td>\n",
       "      <td>0.168242</td>\n",
       "    </tr>\n",
       "    <tr>\n",
       "      <th>1145</th>\n",
       "      <td>?/Punctuation &lt;PAD&gt; &lt;PAD&gt; &lt;PAD&gt; &lt;PAD&gt; &lt;PAD&gt; &lt;P...</td>\n",
       "      <td>0.135297</td>\n",
       "    </tr>\n",
       "    <tr>\n",
       "      <th>1181</th>\n",
       "      <td>표정/Noun 봐/Verb ㅋㅋ/KoreanParticle &lt;PAD&gt; &lt;PAD&gt; &lt;...</td>\n",
       "      <td>0.832237</td>\n",
       "    </tr>\n",
       "    <tr>\n",
       "      <th>1188</th>\n",
       "      <td>ㅂ/KoreanParticle 2/Number &lt;PAD&gt; &lt;PAD&gt; &lt;PAD&gt; &lt;P...</td>\n",
       "      <td>0.302325</td>\n",
       "    </tr>\n",
       "    <tr>\n",
       "      <th>1247</th>\n",
       "      <td>뇌성마비/Noun 발성/Noun &lt;PAD&gt; &lt;PAD&gt; &lt;PAD&gt; &lt;PAD&gt; &lt;PAD...</td>\n",
       "      <td>0.789901</td>\n",
       "    </tr>\n",
       "    <tr>\n",
       "      <th>1271</th>\n",
       "      <td>?/Punctuation &lt;PAD&gt; &lt;PAD&gt; &lt;PAD&gt; &lt;PAD&gt; &lt;PAD&gt; &lt;P...</td>\n",
       "      <td>0.135297</td>\n",
       "    </tr>\n",
       "    <tr>\n",
       "      <th>1284</th>\n",
       "      <td>6/Number &lt;PAD&gt; &lt;PAD&gt; &lt;PAD&gt; &lt;PAD&gt; &lt;PAD&gt; &lt;PAD&gt; &lt;...</td>\n",
       "      <td>0.896231</td>\n",
       "    </tr>\n",
       "    <tr>\n",
       "      <th>1318</th>\n",
       "      <td>ㄵ/KoreanParticle &lt;PAD&gt; &lt;PAD&gt; &lt;PAD&gt; &lt;PAD&gt; &lt;PAD&gt;...</td>\n",
       "      <td>0.894005</td>\n",
       "    </tr>\n",
       "    <tr>\n",
       "      <th>1374</th>\n",
       "      <td>?/Punctuation &lt;PAD&gt; &lt;PAD&gt; &lt;PAD&gt; &lt;PAD&gt; &lt;PAD&gt; &lt;P...</td>\n",
       "      <td>0.135297</td>\n",
       "    </tr>\n",
       "    <tr>\n",
       "      <th>1376</th>\n",
       "      <td>뭐/Noun 야/Josa 나/Noun 밴/Verb 당한거냐/Adjective ㄷㄷㄷ...</td>\n",
       "      <td>0.441151</td>\n",
       "    </tr>\n",
       "    <tr>\n",
       "      <th>1399</th>\n",
       "      <td>뇌성마비/Noun 발성/Noun &lt;PAD&gt; &lt;PAD&gt; &lt;PAD&gt; &lt;PAD&gt; &lt;PAD...</td>\n",
       "      <td>0.789901</td>\n",
       "    </tr>\n",
       "    <tr>\n",
       "      <th>1400</th>\n",
       "      <td>ㄵ/KoreanParticle &lt;PAD&gt; &lt;PAD&gt; &lt;PAD&gt; &lt;PAD&gt; &lt;PAD&gt;...</td>\n",
       "      <td>0.894005</td>\n",
       "    </tr>\n",
       "    <tr>\n",
       "      <th>1403</th>\n",
       "      <td>치질/Noun &lt;PAD&gt; &lt;PAD&gt; &lt;PAD&gt; &lt;PAD&gt; &lt;PAD&gt; &lt;PAD&gt; &lt;P...</td>\n",
       "      <td>0.207729</td>\n",
       "    </tr>\n",
       "    <tr>\n",
       "      <th>1406</th>\n",
       "      <td>저러다가/Verb 옥쑳/Noun 아/Josa 사랑/Noun 해/Verb 나오면/Ve...</td>\n",
       "      <td>0.646839</td>\n",
       "    </tr>\n",
       "    <tr>\n",
       "      <th>1410</th>\n",
       "      <td>참회/Noun 해라/Verb 창석/Noun 아/Josa &lt;PAD&gt; &lt;PAD&gt; &lt;PA...</td>\n",
       "      <td>0.873150</td>\n",
       "    </tr>\n",
       "    <tr>\n",
       "      <th>1419</th>\n",
       "      <td>?/Punctuation &lt;PAD&gt; &lt;PAD&gt; &lt;PAD&gt; &lt;PAD&gt; &lt;PAD&gt; &lt;P...</td>\n",
       "      <td>0.135297</td>\n",
       "    </tr>\n",
       "    <tr>\n",
       "      <th>1481</th>\n",
       "      <td>너무/Adverb 노잼/Noun 이야/Josa 브베/Noun 야/Josa &lt;PAD&gt;...</td>\n",
       "      <td>0.467503</td>\n",
       "    </tr>\n",
       "  </tbody>\n",
       "</table>\n",
       "<p>65 rows × 2 columns</p>\n",
       "</div>"
      ],
      "text/plain": [
       "                                                      0   predict\n",
       "5     아이작/Noun 확장/Noun 판/Noun 재밌냐/Adjective <PAD> <P...  0.819586\n",
       "51    슬슬/Noun ?/Punctuation <PAD> <PAD> <PAD> <PAD> ...  0.182021\n",
       "54    님/Noun 이/Josa 스트리머/Noun 에게/Josa 폭행/Noun 을/Josa...  0.861528\n",
       "62    ?/Punctuation <PAD> <PAD> <PAD> <PAD> <PAD> <P...  0.135297\n",
       "89    폐륜/Noun 스토리/Noun 지리구요/Verb <PAD> <PAD> <PAD> <...  0.896439\n",
       "92    브베/Noun 형/Suffix 뮤직비디오/Noun 언제/Noun 만들어요/Verb ...  0.806357\n",
       "138   도넛/Noun 없으니/Adjective 클린/Noun 하네/Verb <PAD> <P...  0.841736\n",
       "198   또/Noun 자리/Suffix 비우네/Verb ./Punctuation <PAD> ...  0.351927\n",
       "215   이보/Noun 세/Noun 요/Josa ./Punctuation 소통/Noun 좀/...  0.514499\n",
       "232   저리/Noun 가/Josa ~/Punctuation <PAD> <PAD> <PAD>...  0.348055\n",
       "235   인/Noun 싸/Verb 컴/Noun 죽어도/Verb 안/VerbPrefix 삼/V...  0.425746\n",
       "236   Squid/Alpha 1/Number <PAD> <PAD> <PAD> <PAD> <...  0.761169\n",
       "239   ?/Punctuation <PAD> <PAD> <PAD> <PAD> <PAD> <P...  0.135297\n",
       "329   30분/Number 은/Foreign 바줄/Noun 께/Josa 1시간/Number...  0.474931\n",
       "362   Squid/Alpha 1/Number <PAD> <PAD> <PAD> <PAD> <...  0.761169\n",
       "514   아니야/Adjective ./Punctuation 꺼/Verb 놔/Verb <PAD...  0.490637\n",
       "534   아프리카/Noun 에서/Josa 넘어오신거/Verb 임/Noun ?/Punctuat...  0.236596\n",
       "574   너/Noun 부터/Josa 목/Noun 매달/Noun 면/Josa 되겟네/Verb ...  0.346671\n",
       "579   이/Determiner 새끼/Noun 오/Modifier 자마자/Noun 왜/Nou...  0.798323\n",
       "617   문어/Noun 대가리/Noun <PAD> <PAD> <PAD> <PAD> <PAD>...  0.109925\n",
       "629   ㄵ/KoreanParticle <PAD> <PAD> <PAD> <PAD> <PAD>...  0.894005\n",
       "638   노잼/Noun 이다/Josa <PAD> <PAD> <PAD> <PAD> <PAD> ...  0.106086\n",
       "639   ?/Punctuation <PAD> <PAD> <PAD> <PAD> <PAD> <P...  0.135297\n",
       "642   동네/Noun 에서/Josa 왜/Noun 싸워/Verb ?/Punctuation <...  0.658371\n",
       "644   창석/Noun 이/Noun 님/Suffix xxxtention/Alpha 아/Exc...  0.859656\n",
       "647   아/Exclamation 미안해요/Adjective <PAD> <PAD> <PAD>...  0.316183\n",
       "664   ㄵ/KoreanParticle <PAD> <PAD> <PAD> <PAD> <PAD>...  0.894005\n",
       "667   인사/Noun 도/Josa 안/VerbPrefix 할래/Verb <PAD> <PAD...  0.552896\n",
       "668   브베/Noun 님/Suffix 아/Josa 그리고/Conjunction 아이작/No...  0.334374\n",
       "671   ㄵ/KoreanParticle <PAD> <PAD> <PAD> <PAD> <PAD>...  0.894005\n",
       "...                                                 ...       ...\n",
       "788   웃는거/Verb 봐/Verb ......................../Punct...  0.878255\n",
       "805   폐륜/Noun 스토리/Noun 지리구요/Verb <PAD> <PAD> <PAD> <...  0.896439\n",
       "813   그럼/Adjective 거울/Noun 봐/Verb <PAD> <PAD> <PAD> ...  0.392547\n",
       "830   브베/Noun 배/Noun 빵빵/Noun 미애/Noun 발/Noun 로/Josa 빵...  0.194326\n",
       "881   Squid/Alpha 1/Number <PAD> <PAD> <PAD> <PAD> <...  0.761169\n",
       "893   브베/Noun 진짜/Noun 목소리/Noun 보다/Josa 못/VerbPrefix ...  0.419543\n",
       "929   브베/Noun 야/Josa 약속/Noun 은/Josa 어기/Noun 라고/Josa ...  0.239390\n",
       "944   통/Noun 아/Josa 저/Determiner 시씨/Noun 닮았다고/Verb <...  0.808972\n",
       "978   니/Noun 머리/Noun 에는/Josa 수분/Noun 섭취/Noun 안/VerbP...  0.113508\n",
       "1000  뎀/Noun 지/Josa 실화/Noun 냐/Josa ㅕ/KoreanParticle ...  0.114085\n",
       "1036  폐륜/Noun 스토리/Noun 지리구요/Verb <PAD> <PAD> <PAD> <...  0.896439\n",
       "1066  nexon/Alpha 50/Number 님/Suffix ,/Punctuation 1...  0.875293\n",
       "1087  내배커님/Noun ,/Punctuation 1,000원/Number 그라샤/Noun...  0.175559\n",
       "1101  브베/Noun 뚝/Noun 베기/Verb 3/Number 렙/Noun <PAD> <...  0.168242\n",
       "1145  ?/Punctuation <PAD> <PAD> <PAD> <PAD> <PAD> <P...  0.135297\n",
       "1181  표정/Noun 봐/Verb ㅋㅋ/KoreanParticle <PAD> <PAD> <...  0.832237\n",
       "1188  ㅂ/KoreanParticle 2/Number <PAD> <PAD> <PAD> <P...  0.302325\n",
       "1247  뇌성마비/Noun 발성/Noun <PAD> <PAD> <PAD> <PAD> <PAD...  0.789901\n",
       "1271  ?/Punctuation <PAD> <PAD> <PAD> <PAD> <PAD> <P...  0.135297\n",
       "1284  6/Number <PAD> <PAD> <PAD> <PAD> <PAD> <PAD> <...  0.896231\n",
       "1318  ㄵ/KoreanParticle <PAD> <PAD> <PAD> <PAD> <PAD>...  0.894005\n",
       "1374  ?/Punctuation <PAD> <PAD> <PAD> <PAD> <PAD> <P...  0.135297\n",
       "1376  뭐/Noun 야/Josa 나/Noun 밴/Verb 당한거냐/Adjective ㄷㄷㄷ...  0.441151\n",
       "1399  뇌성마비/Noun 발성/Noun <PAD> <PAD> <PAD> <PAD> <PAD...  0.789901\n",
       "1400  ㄵ/KoreanParticle <PAD> <PAD> <PAD> <PAD> <PAD>...  0.894005\n",
       "1403  치질/Noun <PAD> <PAD> <PAD> <PAD> <PAD> <PAD> <P...  0.207729\n",
       "1406  저러다가/Verb 옥쑳/Noun 아/Josa 사랑/Noun 해/Verb 나오면/Ve...  0.646839\n",
       "1410  참회/Noun 해라/Verb 창석/Noun 아/Josa <PAD> <PAD> <PA...  0.873150\n",
       "1419  ?/Punctuation <PAD> <PAD> <PAD> <PAD> <PAD> <P...  0.135297\n",
       "1481  너무/Adverb 노잼/Noun 이야/Josa 브베/Noun 야/Josa <PAD>...  0.467503\n",
       "\n",
       "[65 rows x 2 columns]"
      ]
     },
     "execution_count": 26,
     "metadata": {},
     "output_type": "execute_result"
    }
   ],
   "source": [
    "result[(result.predict>0.1) & (result.predict<0.9)]"
   ]
  },
  {
   "cell_type": "markdown",
   "metadata": {},
   "source": [
    "## DownSampling"
   ]
  },
  {
   "cell_type": "code",
   "execution_count": 27,
   "metadata": {
    "ExecuteTime": {
     "end_time": "2019-08-06T18:44:22.119935Z",
     "start_time": "2019-08-06T18:44:22.104944Z"
    }
   },
   "outputs": [],
   "source": [
    "down_X, down_y = RandomUnderSampler().fit_resample(x_padded, datasets.label)\n",
    "down_X_train, down_X_test, down_y_train, down_y_test = train_test_split(down_X, down_y)"
   ]
  },
  {
   "cell_type": "code",
   "execution_count": 28,
   "metadata": {
    "ExecuteTime": {
     "end_time": "2019-08-06T18:44:22.139923Z",
     "start_time": "2019-08-06T18:44:22.124934Z"
    }
   },
   "outputs": [
    {
     "data": {
      "text/plain": [
       "(974, 487)"
      ]
     },
     "execution_count": 28,
     "metadata": {},
     "output_type": "execute_result"
    }
   ],
   "source": [
    "# 총 데이터 수 , 1 레이블 데이터 수\n",
    "len(down_y), down_y.sum()"
   ]
  },
  {
   "cell_type": "code",
   "execution_count": 29,
   "metadata": {
    "ExecuteTime": {
     "end_time": "2019-08-06T18:44:29.768548Z",
     "start_time": "2019-08-06T18:44:22.144921Z"
    }
   },
   "outputs": [
    {
     "name": "stderr",
     "output_type": "stream",
     "text": [
      "C:\\Users\\skarn\\Anaconda3\\envs\\DataAnalysis\\lib\\site-packages\\numpy\\lib\\type_check.py:546: DeprecationWarning: np.asscalar(a) is deprecated since NumPy v1.16, use a.item() instead\n",
      "  'a.item() instead', DeprecationWarning, stacklevel=1)\n"
     ]
    },
    {
     "name": "stdout",
     "output_type": "stream",
     "text": [
      "Train on 730 samples, validate on 244 samples\n",
      "Epoch 1/5\n",
      "730/730 [==============================] - ETA: 36s - loss: 0.0158 - acc: 1.00 - ETA: 3s - loss: 0.0202 - acc: 0.9978 - ETA: 1s - loss: 0.0337 - acc: 0.990 - ETA: 0s - loss: 0.0445 - acc: 0.989 - ETA: 0s - loss: 0.0402 - acc: 0.989 - 3s 3ms/sample - loss: 0.0402 - acc: 0.9897 - val_loss: 0.0453 - val_acc: 0.9877\n",
      "Epoch 2/5\n",
      "730/730 [==============================] - ETA: 0s - loss: 0.0735 - acc: 0.968 - ETA: 0s - loss: 0.0288 - acc: 0.993 - ETA: 0s - loss: 0.0239 - acc: 0.994 - ETA: 0s - loss: 0.0191 - acc: 0.995 - 0s 330us/sample - loss: 0.0185 - acc: 0.9966 - val_loss: 0.0469 - val_acc: 0.9877\n",
      "Epoch 3/5\n",
      "730/730 [==============================] - ETA: 0s - loss: 0.0308 - acc: 1.000 - ETA: 0s - loss: 0.0292 - acc: 0.994 - ETA: 0s - loss: 0.0207 - acc: 0.996 - ETA: 0s - loss: 0.0176 - acc: 0.997 - 0s 345us/sample - loss: 0.0179 - acc: 0.9966 - val_loss: 0.0470 - val_acc: 0.9877\n",
      "Epoch 4/5\n",
      "730/730 [==============================] - ETA: 0s - loss: 0.0161 - acc: 1.000 - ETA: 0s - loss: 0.0148 - acc: 0.997 - ETA: 0s - loss: 0.0154 - acc: 0.998 - ETA: 0s - loss: 0.0131 - acc: 0.999 - 0s 337us/sample - loss: 0.0189 - acc: 0.9979 - val_loss: 0.0474 - val_acc: 0.9877\n",
      "Epoch 5/5\n",
      "730/730 [==============================] - ETA: 0s - loss: 0.0029 - acc: 1.000 - ETA: 0s - loss: 0.0093 - acc: 1.000 - ETA: 0s - loss: 0.0150 - acc: 0.995 - ETA: 0s - loss: 0.0134 - acc: 0.996 - 0s 353us/sample - loss: 0.0123 - acc: 0.9973 - val_loss: 0.0501 - val_acc: 0.9877\n",
      "244/244 [==============================] - ETA: 0s - loss: 0.0645 - acc: 0.968 - 0s 123us/sample - loss: 0.0501 - acc: 0.9877\n",
      "Test accuracy: 0.98770493\n"
     ]
    },
    {
     "data": {
      "image/png": "[encoded data removed]",
      "text/plain": [
       "<Figure size 432x360 with 1 Axes>"
      ]
     },
     "metadata": {
      "needs_background": "light"
     },
     "output_type": "display_data"
    }
   ],
   "source": [
    "model.compile(optimizer='adam', \n",
    "              loss='binary_crossentropy',\n",
    "              metrics=['accuracy'])\n",
    "\n",
    "history = model.fit(down_X_train,\n",
    "          pd.get_dummies(down_y_train),\n",
    "          epochs=5,\n",
    "          validation_data=(down_X_test, pd.get_dummies(down_y_test))\n",
    "         )\n",
    "plot_loss(history)\n",
    "test_loss, test_acc = model.evaluate(down_X_test, pd.get_dummies(down_y_test))\n",
    "print('Test accuracy:', test_acc)"
   ]
  },
  {
   "cell_type": "code",
   "execution_count": 30,
   "metadata": {
    "ExecuteTime": {
     "end_time": "2019-08-06T18:44:30.252272Z",
     "start_time": "2019-08-06T18:44:29.773547Z"
    }
   },
   "outputs": [
    {
     "name": "stdout",
     "output_type": "stream",
     "text": [
      "전체채팅수244, 유해채팅수124\n"
     ]
    },
    {
     "data": {
      "text/html": [
       "<div>\n",
       "<style scoped>\n",
       "    .dataframe tbody tr th:only-of-type {\n",
       "        vertical-align: middle;\n",
       "    }\n",
       "\n",
       "    .dataframe tbody tr th {\n",
       "        vertical-align: top;\n",
       "    }\n",
       "\n",
       "    .dataframe thead th {\n",
       "        text-align: right;\n",
       "    }\n",
       "</style>\n",
       "<table border=\"1\" class=\"dataframe\">\n",
       "  <thead>\n",
       "    <tr style=\"text-align: right;\">\n",
       "      <th></th>\n",
       "      <th>chat</th>\n",
       "      <th>predict</th>\n",
       "    </tr>\n",
       "  </thead>\n",
       "  <tbody>\n",
       "    <tr>\n",
       "      <th>0</th>\n",
       "      <td>싹둑/Noun 이/Josa =/Punctuation 브베/Noun 미애/Noun =...</td>\n",
       "      <td>0.959285</td>\n",
       "    </tr>\n",
       "    <tr>\n",
       "      <th>1</th>\n",
       "      <td>창석/Noun 이/Determiner 붕알/Noun 냄새/Noun 맞고/Verb 파...</td>\n",
       "      <td>0.999989</td>\n",
       "    </tr>\n",
       "    <tr>\n",
       "      <th>2</th>\n",
       "      <td>브베/Noun 허/Verb 벌/Noun 창년/Noun &lt;PAD&gt; &lt;PAD&gt; &lt;PAD...</td>\n",
       "      <td>0.999787</td>\n",
       "    </tr>\n",
       "    <tr>\n",
       "      <th>3</th>\n",
       "      <td>김영철/Noun 명예훼손/Noun 흑인/Noun 비하/Verb 공무원/Noun 준비...</td>\n",
       "      <td>0.999447</td>\n",
       "    </tr>\n",
       "    <tr>\n",
       "      <th>5</th>\n",
       "      <td>이슈/Noun 발년/Noun 아/Josa !/Punctuation 제대로/Noun ...</td>\n",
       "      <td>0.999992</td>\n",
       "    </tr>\n",
       "    <tr>\n",
       "      <th>7</th>\n",
       "      <td>오빠/Noun 과자/Noun 를/Josa 몇/Modifier 십분/Noun 을/Jo...</td>\n",
       "      <td>0.999959</td>\n",
       "    </tr>\n",
       "    <tr>\n",
       "      <th>10</th>\n",
       "      <td>브베/Noun 야/Josa 차라리/Noun 오락실/Noun 게임/Noun 을/Jos...</td>\n",
       "      <td>0.999986</td>\n",
       "    </tr>\n",
       "    <tr>\n",
       "      <th>11</th>\n",
       "      <td>리름/Noun 타는거/Verb 제일/Noun ㅈ/KoreanParticle 같다/A...</td>\n",
       "      <td>0.999242</td>\n",
       "    </tr>\n",
       "    <tr>\n",
       "      <th>12</th>\n",
       "      <td>예/Modifier 달/Noun 아/Josa &lt;PAD&gt; &lt;PAD&gt; &lt;PAD&gt; &lt;PA...</td>\n",
       "      <td>0.869845</td>\n",
       "    </tr>\n",
       "    <tr>\n",
       "      <th>13</th>\n",
       "      <td>검열/Noun ㅁㅊ/KoreanParticle &lt;PAD&gt; &lt;PAD&gt; &lt;PAD&gt; &lt;P...</td>\n",
       "      <td>0.999883</td>\n",
       "    </tr>\n",
       "  </tbody>\n",
       "</table>\n",
       "</div>"
      ],
      "text/plain": [
       "                                                 chat   predict\n",
       "0   싹둑/Noun 이/Josa =/Punctuation 브베/Noun 미애/Noun =...  0.959285\n",
       "1   창석/Noun 이/Determiner 붕알/Noun 냄새/Noun 맞고/Verb 파...  0.999989\n",
       "2   브베/Noun 허/Verb 벌/Noun 창년/Noun <PAD> <PAD> <PAD...  0.999787\n",
       "3   김영철/Noun 명예훼손/Noun 흑인/Noun 비하/Verb 공무원/Noun 준비...  0.999447\n",
       "5   이슈/Noun 발년/Noun 아/Josa !/Punctuation 제대로/Noun ...  0.999992\n",
       "7   오빠/Noun 과자/Noun 를/Josa 몇/Modifier 십분/Noun 을/Jo...  0.999959\n",
       "10  브베/Noun 야/Josa 차라리/Noun 오락실/Noun 게임/Noun 을/Jos...  0.999986\n",
       "11  리름/Noun 타는거/Verb 제일/Noun ㅈ/KoreanParticle 같다/A...  0.999242\n",
       "12  예/Modifier 달/Noun 아/Josa <PAD> <PAD> <PAD> <PA...  0.869845\n",
       "13  검열/Noun ㅁㅊ/KoreanParticle <PAD> <PAD> <PAD> <P...  0.999883"
      ]
     },
     "execution_count": 30,
     "metadata": {},
     "output_type": "execute_result"
    }
   ],
   "source": [
    "result = pd.DataFrame(np.apply_along_axis(index_to_text, 1, down_X_test), columns=['chat'])\n",
    "result['predict'] = model.predict_proba(down_X_test)[:,1] # 유해하다고 판별할 확률\n",
    "print('전체채팅수{}, 유해채팅수{}'.format(len(result),len(result[result.predict>0.5])))\n",
    "result[result.predict>0.5].head(10)"
   ]
  },
  {
   "cell_type": "markdown",
   "metadata": {},
   "source": [
    "- 우리는 다양한 비속어 표현에 집중하고 싶고 \n",
    "- 또한 정확도가 더 높은 downsampling을 사용하자!"
   ]
  },
  {
   "cell_type": "code",
   "execution_count": 38,
   "metadata": {
    "ExecuteTime": {
     "end_time": "2019-08-06T18:48:17.972136Z",
     "start_time": "2019-08-06T18:48:17.951148Z"
    }
   },
   "outputs": [],
   "source": [
    "result.to_csv('../../data/cnn_result.csv', encoding='euc-kr')"
   ]
  },
  {
   "cell_type": "markdown",
   "metadata": {},
   "source": [
    "## 분류 애매한 채팅들"
   ]
  },
  {
   "cell_type": "code",
   "execution_count": 35,
   "metadata": {
    "ExecuteTime": {
     "end_time": "2019-08-06T18:46:11.792477Z",
     "start_time": "2019-08-06T18:46:11.769493Z"
    }
   },
   "outputs": [
    {
     "data": {
      "text/html": [
       "<div>\n",
       "<style scoped>\n",
       "    .dataframe tbody tr th:only-of-type {\n",
       "        vertical-align: middle;\n",
       "    }\n",
       "\n",
       "    .dataframe tbody tr th {\n",
       "        vertical-align: top;\n",
       "    }\n",
       "\n",
       "    .dataframe thead th {\n",
       "        text-align: right;\n",
       "    }\n",
       "</style>\n",
       "<table border=\"1\" class=\"dataframe\">\n",
       "  <thead>\n",
       "    <tr style=\"text-align: right;\">\n",
       "      <th></th>\n",
       "      <th>chat</th>\n",
       "      <th>predict</th>\n",
       "    </tr>\n",
       "  </thead>\n",
       "  <tbody>\n",
       "    <tr>\n",
       "      <th>12</th>\n",
       "      <td>예/Modifier 달/Noun 아/Josa &lt;PAD&gt; &lt;PAD&gt; &lt;PAD&gt; &lt;PA...</td>\n",
       "      <td>0.869845</td>\n",
       "    </tr>\n",
       "    <tr>\n",
       "      <th>80</th>\n",
       "      <td>He/Alpha LOVE/Alpha pillow/Alpha He/Alpha LOVE...</td>\n",
       "      <td>0.871644</td>\n",
       "    </tr>\n",
       "  </tbody>\n",
       "</table>\n",
       "</div>"
      ],
      "text/plain": [
       "                                                 chat   predict\n",
       "12  예/Modifier 달/Noun 아/Josa <PAD> <PAD> <PAD> <PA...  0.869845\n",
       "80  He/Alpha LOVE/Alpha pillow/Alpha He/Alpha LOVE...  0.871644"
      ]
     },
     "execution_count": 35,
     "metadata": {},
     "output_type": "execute_result"
    }
   ],
   "source": [
    "result[(result.predict>0.1) & (result.predict<0.9)]"
   ]
  },
  {
   "cell_type": "markdown",
   "metadata": {},
   "source": [
    "# TODO\n",
    "- 형태소별 Tokenize 말고 한글 자모별 Tokenize 하여 실험해보기\n",
    "- CNN layer / Parameter 변경시켜보기\n",
    "- 예측 결과 검정하기\n",
    "    - Attention 이용"
   ]
  }
 ],
 "metadata": {
  "kernelspec": {
   "display_name": "Python 3",
   "language": "python",
   "name": "python3"
  },
  "language_info": {
   "codemirror_mode": {
    "name": "ipython",
    "version": 3
   },
   "file_extension": ".py",
   "mimetype": "text/x-python",
   "name": "python",
   "nbconvert_exporter": "python",
   "pygments_lexer": "ipython3",
   "version": "3.7.3"
  }
 },
 "nbformat": 4,
 "nbformat_minor": 2
}
