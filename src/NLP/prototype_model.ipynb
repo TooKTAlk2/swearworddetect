{
 "cells": [
  {
   "cell_type": "code",
   "execution_count": 208,
   "metadata": {
    "ExecuteTime": {
     "end_time": "2019-08-06T16:27:34.218818Z",
     "start_time": "2019-08-06T16:27:34.204824Z"
    }
   },
   "outputs": [
    {
     "name": "stdout",
     "output_type": "stream",
     "text": [
      "Chan 2019-08-07 \n",
      "\n",
      "CPython 3.7.3\n",
      "IPython 7.6.1\n",
      "\n",
      "numpy 1.16.4\n",
      "pandas 0.24.2\n",
      "sklearn 0.21.2\n",
      "konlpy 0.5.1\n",
      "tensorflow 1.13.1\n",
      "matplotlib 3.1.0\n"
     ]
    }
   ],
   "source": [
    "# %load_ext watermark\n",
    "%watermark -a Chan -d -v -p numpy,pandas,sklearn,konlpy,tensorflow,matplotlib"
   ]
  },
  {
   "cell_type": "code",
   "execution_count": 210,
   "metadata": {
    "ExecuteTime": {
     "end_time": "2019-08-06T16:27:53.997476Z",
     "start_time": "2019-08-06T16:27:52.757190Z"
    }
   },
   "outputs": [],
   "source": [
    "import numpy as np\n",
    "import pandas as pd\n",
    "from sklearn.model_selection import train_test_split\n",
    "from konlpy.tag import Okt\n",
    "import tensorflow as tf\n",
    "from tensorflow.python.keras.preprocessing import sequence\n",
    "from tensorflow import keras\n",
    "from tqdm import tqdm\n",
    "from collections import Counter\n",
    "from matplotlib import pyplot as plt"
   ]
  },
  {
   "cell_type": "markdown",
   "metadata": {},
   "source": [
    "# Load datasets"
   ]
  },
  {
   "cell_type": "code",
   "execution_count": 188,
   "metadata": {
    "ExecuteTime": {
     "end_time": "2019-08-06T16:17:42.139266Z",
     "start_time": "2019-08-06T16:17:42.013338Z"
    }
   },
   "outputs": [
    {
     "name": "stdout",
     "output_type": "stream",
     "text": [
      "1\n",
      "2\n",
      "3\n",
      "4\n"
     ]
    },
    {
     "data": {
      "text/html": [
       "<div>\n",
       "<style scoped>\n",
       "    .dataframe tbody tr th:only-of-type {\n",
       "        vertical-align: middle;\n",
       "    }\n",
       "\n",
       "    .dataframe tbody tr th {\n",
       "        vertical-align: top;\n",
       "    }\n",
       "\n",
       "    .dataframe thead th {\n",
       "        text-align: right;\n",
       "    }\n",
       "</style>\n",
       "<table border=\"1\" class=\"dataframe\">\n",
       "  <thead>\n",
       "    <tr style=\"text-align: right;\">\n",
       "      <th></th>\n",
       "      <th>chat</th>\n",
       "      <th>label</th>\n",
       "    </tr>\n",
       "  </thead>\n",
       "  <tbody>\n",
       "    <tr>\n",
       "      <th>0</th>\n",
       "      <td>자기잘못인거알면 중고딩도 먼저사과하는걸아는데</td>\n",
       "      <td>0</td>\n",
       "    </tr>\n",
       "    <tr>\n",
       "      <th>1</th>\n",
       "      <td>싹둑이 채팅창 관리 중입니다</td>\n",
       "      <td>0</td>\n",
       "    </tr>\n",
       "    <tr>\n",
       "      <th>2</th>\n",
       "      <td>싹둑이 채팅창 관리 중입니다</td>\n",
       "      <td>0</td>\n",
       "    </tr>\n",
       "    <tr>\n",
       "      <th>3</th>\n",
       "      <td>어제 어글 아직도 가? 개인적으로 사과하셨대 그만해 칭구들앙</td>\n",
       "      <td>0</td>\n",
       "    </tr>\n",
       "    <tr>\n",
       "      <th>4</th>\n",
       "      <td>케읍이 뭔데요 무슨사건있엇음?</td>\n",
       "      <td>0</td>\n",
       "    </tr>\n",
       "  </tbody>\n",
       "</table>\n",
       "</div>"
      ],
      "text/plain": [
       "                                 chat  label\n",
       "0            자기잘못인거알면 중고딩도 먼저사과하는걸아는데      0\n",
       "1                     싹둑이 채팅창 관리 중입니다      0\n",
       "2                     싹둑이 채팅창 관리 중입니다      0\n",
       "3  어제 어글 아직도 가? 개인적으로 사과하셨대 그만해 칭구들앙       0\n",
       "4                    케읍이 뭔데요 무슨사건있엇음?      0"
      ]
     },
     "execution_count": 188,
     "metadata": {},
     "output_type": "execute_result"
    }
   ],
   "source": [
    "datasets = pd.DataFrame()\n",
    "for i in range(1,5):\n",
    "    print(i)\n",
    "    dump = pd.read_csv(\"../../data/sample ({}).csv\".format(i), engine='python',names=['chat','label'])\n",
    "    datasets = pd.concat([datasets, dump])\n",
    "datasets.head()"
   ]
  },
  {
   "cell_type": "code",
   "execution_count": 189,
   "metadata": {
    "ExecuteTime": {
     "end_time": "2019-08-06T16:17:42.696948Z",
     "start_time": "2019-08-06T16:17:42.691948Z"
    }
   },
   "outputs": [],
   "source": [
    "datasets.reset_index(drop=True,inplace=True)"
   ]
  },
  {
   "cell_type": "code",
   "execution_count": 190,
   "metadata": {
    "ExecuteTime": {
     "end_time": "2019-08-06T16:17:43.421530Z",
     "start_time": "2019-08-06T16:17:43.404542Z"
    }
   },
   "outputs": [
    {
     "name": "stdout",
     "output_type": "stream",
     "text": [
      "<class 'pandas.core.frame.DataFrame'>\n",
      "RangeIndex: 3500 entries, 0 to 3499\n",
      "Data columns (total 2 columns):\n",
      "chat     3500 non-null object\n",
      "label    3500 non-null int64\n",
      "dtypes: int64(1), object(1)\n",
      "memory usage: 54.8+ KB\n"
     ]
    }
   ],
   "source": [
    "datasets.info()"
   ]
  },
  {
   "cell_type": "code",
   "execution_count": 191,
   "metadata": {
    "ExecuteTime": {
     "end_time": "2019-08-06T16:17:43.931239Z",
     "start_time": "2019-08-06T16:17:43.924242Z"
    }
   },
   "outputs": [],
   "source": [
    "datasets.label = datasets.label.astype('int')"
   ]
  },
  {
   "cell_type": "code",
   "execution_count": 333,
   "metadata": {
    "ExecuteTime": {
     "end_time": "2019-08-06T17:37:17.482343Z",
     "start_time": "2019-08-06T17:37:17.465352Z"
    }
   },
   "outputs": [
    {
     "data": {
      "text/plain": [
       "0.16163292399601725"
      ]
     },
     "execution_count": 333,
     "metadata": {},
     "output_type": "execute_result"
    }
   ],
   "source": [
    "len(datasets[datasets.label ==1])/ len(datasets[datasets.label ==0]) # 유해한 레이블의 데이터가 많이 부족함 데이터 편향"
   ]
  },
  {
   "cell_type": "markdown",
   "metadata": {
    "ExecuteTime": {
     "end_time": "2019-08-06T15:38:19.687895Z",
     "start_time": "2019-08-06T15:38:19.677899Z"
    }
   },
   "source": [
    "# Tokenize\n",
    "## 형태소분석"
   ]
  },
  {
   "cell_type": "code",
   "execution_count": 192,
   "metadata": {
    "ExecuteTime": {
     "end_time": "2019-08-06T16:17:46.193941Z",
     "start_time": "2019-08-06T16:17:46.187949Z"
    }
   },
   "outputs": [],
   "source": [
    "morp = Okt()"
   ]
  },
  {
   "cell_type": "code",
   "execution_count": 194,
   "metadata": {
    "ExecuteTime": {
     "end_time": "2019-08-06T16:18:01.709046Z",
     "start_time": "2019-08-06T16:17:49.490052Z"
    }
   },
   "outputs": [
    {
     "name": "stderr",
     "output_type": "stream",
     "text": [
      "\n",
      "\n",
      "\n",
      "\n",
      "\n",
      "  0%|                                                                                         | 0/3500 [00:00<?, ?it/s]\n",
      "\n",
      "\n",
      "\n",
      "\n",
      "  1%|▋                                                                              | 33/3500 [00:00<00:10, 320.57it/s]\n",
      "\n",
      "\n",
      "\n",
      "\n",
      "  2%|█▍                                                                             | 61/3500 [00:00<00:11, 306.27it/s]\n",
      "\n",
      "\n",
      "\n",
      "\n",
      "  2%|█▉                                                                             | 86/3500 [00:00<00:12, 283.06it/s]\n",
      "\n",
      "\n",
      "\n",
      "\n",
      "  3%|██▍                                                                           | 109/3500 [00:00<00:14, 229.88it/s]\n",
      "\n",
      "\n",
      "\n",
      "\n",
      "  5%|███▋                                                                          | 166/3500 [00:00<00:11, 279.20it/s]\n",
      "\n",
      "\n",
      "\n",
      "\n",
      "  6%|████▌                                                                         | 204/3500 [00:00<00:11, 295.60it/s]\n",
      "\n",
      "\n",
      "\n",
      "\n",
      "  7%|█████▏                                                                        | 235/3500 [00:00<00:12, 270.06it/s]\n",
      "\n",
      "\n",
      "\n",
      "\n",
      "  8%|█████▉                                                                        | 264/3500 [00:00<00:12, 267.41it/s]\n",
      "\n",
      "\n",
      "\n",
      "\n",
      "  8%|██████▌                                                                       | 292/3500 [00:01<00:12, 250.73it/s]\n",
      "\n",
      "\n",
      "\n",
      "\n",
      "  9%|███████                                                                       | 318/3500 [00:01<00:16, 194.39it/s]\n",
      "\n",
      "\n",
      "\n",
      "\n",
      " 10%|███████▌                                                                      | 340/3500 [00:01<00:19, 165.18it/s]\n",
      "\n",
      "\n",
      "\n",
      "\n",
      " 10%|████████                                                                      | 359/3500 [00:01<00:19, 160.20it/s]\n",
      "\n",
      "\n",
      "\n",
      "\n",
      " 11%|████████▋                                                                     | 390/3500 [00:01<00:17, 182.10it/s]\n",
      "\n",
      "\n",
      "\n",
      "\n",
      " 12%|█████████▏                                                                    | 414/3500 [00:01<00:16, 182.05it/s]\n",
      "\n",
      "\n",
      "\n",
      "\n",
      " 13%|█████████▊                                                                    | 440/3500 [00:01<00:15, 198.24it/s]\n",
      "\n",
      "\n",
      "\n",
      "\n",
      " 13%|██████████▌                                                                   | 472/3500 [00:02<00:13, 218.76it/s]\n",
      "\n",
      "\n",
      "\n",
      "\n",
      " 15%|███████████▌                                                                  | 518/3500 [00:02<00:11, 259.20it/s]\n",
      "\n",
      "\n",
      "\n",
      "\n",
      " 16%|████████████▋                                                                 | 567/3500 [00:02<00:09, 298.57it/s]\n",
      "\n",
      "\n",
      "\n",
      "\n",
      " 19%|██████████████▍                                                               | 649/3500 [00:02<00:07, 368.49it/s]\n",
      "\n",
      "\n",
      "\n",
      "\n",
      " 22%|████████████████▉                                                             | 761/3500 [00:02<00:05, 460.82it/s]\n",
      "\n",
      "\n",
      "\n",
      "\n",
      " 24%|██████████████████▋                                                           | 839/3500 [00:02<00:05, 522.20it/s]\n",
      "\n",
      "\n",
      "\n",
      "\n",
      " 26%|████████████████████▎                                                         | 909/3500 [00:02<00:04, 521.18it/s]\n",
      "\n",
      "\n",
      "\n",
      "\n",
      " 28%|█████████████████████▋                                                        | 974/3500 [00:02<00:05, 499.32it/s]\n",
      "\n",
      "\n",
      "\n",
      "\n",
      " 30%|██████████████████████▊                                                      | 1038/3500 [00:02<00:04, 533.31it/s]\n",
      "\n",
      "\n",
      "\n",
      "\n",
      " 32%|████████████████████████▊                                                    | 1126/3500 [00:03<00:03, 601.15it/s]\n",
      "\n",
      "\n",
      "\n",
      "\n",
      " 34%|██████████████████████████▎                                                  | 1195/3500 [00:03<00:03, 596.24it/s]\n",
      "\n",
      "\n",
      "\n",
      "\n",
      " 36%|███████████████████████████▋                                                 | 1261/3500 [00:03<00:04, 495.29it/s]\n",
      "\n",
      "\n",
      "\n",
      "\n",
      " 38%|█████████████████████████████▍                                               | 1339/3500 [00:03<00:03, 553.90it/s]\n",
      "\n",
      "\n",
      "\n",
      "\n",
      " 40%|██████████████████████████████▊                                              | 1402/3500 [00:03<00:03, 552.16it/s]\n",
      "\n",
      "\n",
      "\n",
      "\n",
      " 42%|████████████████████████████████▍                                            | 1473/3500 [00:03<00:03, 590.22it/s]\n",
      "\n",
      "\n",
      "\n",
      "\n",
      " 44%|█████████████████████████████████▊                                           | 1537/3500 [00:03<00:03, 522.98it/s]\n",
      "\n",
      "\n",
      "\n",
      "\n",
      " 46%|███████████████████████████████████                                          | 1594/3500 [00:04<00:05, 372.43it/s]\n",
      "\n",
      "\n",
      "\n",
      "\n",
      " 47%|████████████████████████████████████                                         | 1641/3500 [00:04<00:04, 375.35it/s]\n",
      "\n",
      "\n",
      "\n",
      "\n",
      " 48%|█████████████████████████████████████                                        | 1685/3500 [00:04<00:04, 375.63it/s]\n",
      "\n",
      "\n",
      "\n",
      "\n",
      " 50%|██████████████████████████████████████▏                                      | 1733/3500 [00:04<00:04, 400.89it/s]\n",
      "\n",
      "\n",
      "\n",
      "\n",
      " 51%|███████████████████████████████████████                                      | 1777/3500 [00:04<00:04, 406.24it/s]\n",
      "\n",
      "\n",
      "\n",
      "\n",
      " 52%|████████████████████████████████████████                                     | 1821/3500 [00:04<00:04, 384.29it/s]\n",
      "\n",
      "\n",
      "\n",
      "\n",
      " 53%|████████████████████████████████████████▉                                    | 1862/3500 [00:04<00:04, 371.51it/s]\n",
      "\n",
      "\n",
      "\n",
      "\n",
      " 54%|█████████████████████████████████████████▊                                   | 1903/3500 [00:04<00:04, 381.27it/s]\n",
      "\n",
      "\n",
      "\n",
      "\n",
      " 56%|██████████████████████████████████████████▋                                  | 1943/3500 [00:04<00:04, 372.72it/s]\n",
      "\n",
      "\n",
      "\n",
      "\n",
      " 57%|███████████████████████████████████████████▌                                 | 1982/3500 [00:05<00:05, 255.90it/s]\n",
      "\n",
      "\n",
      "\n",
      "\n",
      " 58%|████████████████████████████████████████████▎                                | 2014/3500 [00:05<00:05, 257.21it/s]\n",
      "\n",
      "\n",
      "\n",
      "\n",
      " 58%|█████████████████████████████████████████████                                | 2046/3500 [00:05<00:05, 272.64it/s]\n",
      "\n",
      "\n",
      "\n",
      "\n",
      " 60%|█████████████████████████████████████████████▉                               | 2090/3500 [00:05<00:04, 306.51it/s]\n",
      "\n",
      "\n",
      "\n",
      "\n",
      " 61%|██████████████████████████████████████████████▊                              | 2129/3500 [00:05<00:04, 314.90it/s]\n",
      "\n",
      "\n",
      "\n",
      "\n",
      " 62%|███████████████████████████████████████████████▌                             | 2164/3500 [00:05<00:04, 323.82it/s]\n",
      "\n",
      "\n",
      "\n",
      "\n",
      " 63%|████████████████████████████████████████████████▍                            | 2199/3500 [00:05<00:04, 299.82it/s]\n",
      "\n",
      "\n",
      "\n",
      "\n",
      " 64%|█████████████████████████████████████████████████                            | 2231/3500 [00:06<00:04, 300.49it/s]\n",
      "\n",
      "\n",
      "\n",
      "\n",
      " 65%|██████████████████████████████████████████████████                           | 2276/3500 [00:06<00:03, 333.06it/s]\n",
      "\n",
      "\n",
      "\n",
      "\n",
      " 66%|██████████████████████████████████████████████████▊                          | 2312/3500 [00:06<00:03, 331.36it/s]\n",
      "\n",
      "\n",
      "\n",
      "\n",
      " 67%|███████████████████████████████████████████████████▋                         | 2347/3500 [00:06<00:03, 302.73it/s]\n",
      "\n",
      "\n",
      "\n",
      "\n",
      " 68%|████████████████████████████████████████████████████▎                        | 2379/3500 [00:06<00:04, 266.30it/s]\n",
      "\n",
      "\n",
      "\n",
      "\n",
      " 69%|████████████████████████████████████████████████████▉                        | 2408/3500 [00:06<00:04, 252.38it/s]\n",
      "\n",
      "\n",
      "\n",
      "\n",
      " 70%|█████████████████████████████████████████████████████▌                       | 2435/3500 [00:06<00:04, 224.14it/s]\n",
      "\n",
      "\n",
      "\n",
      "\n",
      " 70%|██████████████████████████████████████████████████████                       | 2459/3500 [00:06<00:05, 191.96it/s]\n",
      "\n",
      "\n",
      "\n",
      "\n",
      " 71%|██████████████████████████████████████████████████████▊                      | 2492/3500 [00:07<00:04, 218.22it/s]\n",
      "\n",
      "\n",
      "\n",
      "\n",
      " 73%|███████████████████████████████████████████████████████▉                     | 2544/3500 [00:07<00:03, 261.46it/s]\n",
      "\n",
      "\n",
      "\n",
      "\n",
      " 74%|████████████████████████████████████████████████████████▋                    | 2576/3500 [00:07<00:03, 269.01it/s]\n",
      "\n",
      "\n",
      "\n",
      "\n",
      " 74%|█████████████████████████████████████████████████████████▎                   | 2607/3500 [00:07<00:03, 243.26it/s]\n",
      "\n",
      "\n",
      "\n",
      "\n",
      " 75%|█████████████████████████████████████████████████████████▉                   | 2635/3500 [00:07<00:04, 212.37it/s]\n",
      "\n",
      "\n",
      "\n",
      "\n",
      " 76%|██████████████████████████████████████████████████████████▌                  | 2660/3500 [00:07<00:04, 200.03it/s]\n",
      "\n",
      "\n",
      "\n",
      "\n",
      " 77%|███████████████████████████████████████████████████████████                  | 2683/3500 [00:07<00:05, 162.37it/s]\n",
      "\n",
      "\n",
      "\n",
      "\n",
      " 77%|███████████████████████████████████████████████████████████▍                 | 2702/3500 [00:08<00:04, 166.24it/s]\n",
      "\n",
      "\n",
      "\n",
      "\n",
      " 78%|███████████████████████████████████████████████████████████▊                 | 2721/3500 [00:08<00:05, 147.77it/s]\n",
      "\n",
      "\n",
      "\n",
      "\n",
      " 78%|████████████████████████████████████████████████████████████▏                | 2738/3500 [00:08<00:05, 149.37it/s]\n",
      "\n",
      "\n",
      "\n",
      "\n"
     ]
    },
    {
     "name": "stderr",
     "output_type": "stream",
     "text": [
      " 79%|████████████████████████████████████████████████████████████▌                | 2755/3500 [00:08<00:05, 127.78it/s]\n",
      "\n",
      "\n",
      "\n",
      "\n",
      " 80%|█████████████████████████████████████████████████████████████▏               | 2784/3500 [00:08<00:04, 152.36it/s]\n",
      "\n",
      "\n",
      "\n",
      "\n",
      " 81%|██████████████████████████████████████████████████████████████▏              | 2826/3500 [00:08<00:03, 187.37it/s]\n",
      "\n",
      "\n",
      "\n",
      "\n",
      " 81%|██████████████████████████████████████████████████████████████▋              | 2851/3500 [00:08<00:03, 199.24it/s]\n",
      "\n",
      "\n",
      "\n",
      "\n",
      " 82%|███████████████████████████████████████████████████████████████▎             | 2876/3500 [00:08<00:02, 211.12it/s]\n",
      "\n",
      "\n",
      "\n",
      "\n",
      " 83%|████████████████████████████████████████████████████████████████▏            | 2919/3500 [00:09<00:02, 248.76it/s]\n",
      "\n",
      "\n",
      "\n",
      "\n",
      " 85%|█████████████████████████████████████████████████████████████████            | 2959/3500 [00:09<00:01, 279.45it/s]\n",
      "\n",
      "\n",
      "\n",
      "\n",
      " 85%|█████████████████████████████████████████████████████████████████▊           | 2992/3500 [00:09<00:02, 228.49it/s]\n",
      "\n",
      "\n",
      "\n",
      "\n",
      " 86%|██████████████████████████████████████████████████████████████████▍          | 3020/3500 [00:09<00:02, 235.76it/s]\n",
      "\n",
      "\n",
      "\n",
      "\n",
      " 87%|███████████████████████████████████████████████████████████████████          | 3050/3500 [00:09<00:01, 247.01it/s]\n",
      "\n",
      "\n",
      "\n",
      "\n",
      " 88%|███████████████████████████████████████████████████████████████████▋         | 3078/3500 [00:09<00:01, 249.93it/s]\n",
      "\n",
      "\n",
      "\n",
      "\n",
      " 89%|████████████████████████████████████████████████████████████████████▎        | 3105/3500 [00:09<00:01, 245.23it/s]\n",
      "\n",
      "\n",
      "\n",
      "\n",
      " 89%|████████████████████████████████████████████████████████████████████▉        | 3131/3500 [00:09<00:01, 229.69it/s]\n",
      "\n",
      "\n",
      "\n",
      "\n",
      " 90%|█████████████████████████████████████████████████████████████████████▍       | 3159/3500 [00:10<00:01, 241.56it/s]\n",
      "\n",
      "\n",
      "\n",
      "\n",
      " 91%|██████████████████████████████████████████████████████████████████████       | 3185/3500 [00:10<00:01, 207.31it/s]\n",
      "\n",
      "\n",
      "\n",
      "\n",
      " 92%|██████████████████████████████████████████████████████████████████████▌      | 3208/3500 [00:10<00:01, 168.22it/s]\n",
      "\n",
      "\n",
      "\n",
      "\n",
      " 92%|███████████████████████████████████████████████████████████████████████      | 3228/3500 [00:10<00:01, 142.05it/s]\n",
      "\n",
      "\n",
      "\n",
      "\n",
      " 93%|███████████████████████████████████████████████████████████████████████▍     | 3245/3500 [00:10<00:01, 129.04it/s]\n",
      "\n",
      "\n",
      "\n",
      "\n",
      " 93%|███████████████████████████████████████████████████████████████████████▋     | 3260/3500 [00:10<00:01, 128.81it/s]\n",
      "\n",
      "\n",
      "\n",
      "\n",
      " 94%|████████████████████████████████████████████████████████████████████████▍    | 3292/3500 [00:10<00:01, 155.81it/s]\n",
      "\n",
      "\n",
      "\n",
      "\n",
      " 95%|████████████████████████████████████████████████████████████████████████▉    | 3314/3500 [00:11<00:01, 170.38it/s]\n",
      "\n",
      "\n",
      "\n",
      "\n",
      " 95%|█████████████████████████████████████████████████████████████████████████▎   | 3334/3500 [00:11<00:01, 147.56it/s]\n",
      "\n",
      "\n",
      "\n",
      "\n",
      " 96%|█████████████████████████████████████████████████████████████████████████▋   | 3352/3500 [00:11<00:00, 153.62it/s]\n",
      "\n",
      "\n",
      "\n",
      "\n",
      " 97%|██████████████████████████████████████████████████████████████████████████▍  | 3386/3500 [00:11<00:00, 183.58it/s]\n",
      "\n",
      "\n",
      "\n",
      "\n",
      " 97%|██████████████████████████████████████████████████████████████████████████▉  | 3409/3500 [00:11<00:00, 143.51it/s]\n",
      "\n",
      "\n",
      "\n",
      "\n",
      " 98%|███████████████████████████████████████████████████████████████████████████▍ | 3430/3500 [00:11<00:00, 155.09it/s]\n",
      "\n",
      "\n",
      "\n",
      "\n",
      " 99%|███████████████████████████████████████████████████████████████████████████▉ | 3449/3500 [00:12<00:00, 122.57it/s]\n",
      "\n",
      "\n",
      "\n",
      "\n",
      " 99%|████████████████████████████████████████████████████████████████████████████▌| 3478/3500 [00:12<00:00, 148.03it/s]\n",
      "\n",
      "\n",
      "\n",
      "\n",
      "100%|█████████████████████████████████████████████████████████████████████████████| 3500/3500 [00:12<00:00, 287.07it/s]"
     ]
    }
   ],
   "source": [
    "morped = [morp.pos(_, norm=True, join=True) for _ in tqdm(datasets.chat)] # Stemming은 하지 않는다."
   ]
  },
  {
   "cell_type": "code",
   "execution_count": 342,
   "metadata": {
    "ExecuteTime": {
     "end_time": "2019-08-06T17:41:24.561692Z",
     "start_time": "2019-08-06T17:41:24.548696Z"
    }
   },
   "outputs": [
    {
     "data": {
      "text/plain": [
       "[['자기/Noun',\n",
       "  '잘못/Noun',\n",
       "  '인거/Josa',\n",
       "  '알/Noun',\n",
       "  '면/Josa',\n",
       "  '중/Noun',\n",
       "  '고딩/Noun',\n",
       "  '도/Josa',\n",
       "  '먼저/Noun',\n",
       "  '사과/Noun',\n",
       "  '하/Suffix',\n",
       "  '는/Josa',\n",
       "  '걸아는데/Verb'],\n",
       " ['싹둑/Noun',\n",
       "  '이/Josa',\n",
       "  '채팅/Noun',\n",
       "  '창/Noun',\n",
       "  '관리/Noun',\n",
       "  '중/Noun',\n",
       "  '입니다/Adjective'],\n",
       " ['싹둑/Noun',\n",
       "  '이/Josa',\n",
       "  '채팅/Noun',\n",
       "  '창/Noun',\n",
       "  '관리/Noun',\n",
       "  '중/Noun',\n",
       "  '입니다/Adjective'],\n",
       " ['어제/Noun',\n",
       "  '어글/Noun',\n",
       "  '아직도/Adverb',\n",
       "  '가/Verb',\n",
       "  '?/Punctuation',\n",
       "  '개인/Noun',\n",
       "  '적/Suffix',\n",
       "  '으로/Josa',\n",
       "  '사과/Noun',\n",
       "  '하셨대/Verb',\n",
       "  '그만해/Adjective',\n",
       "  '칭구들앙/Noun'],\n",
       " ['케읍/Noun',\n",
       "  '이/Josa',\n",
       "  '뭔/Modifier',\n",
       "  '데/Noun',\n",
       "  '요/Josa',\n",
       "  '무슨/Modifier',\n",
       "  '사건/Noun',\n",
       "  '있/Adjective',\n",
       "  '엇음/Noun',\n",
       "  '?/Punctuation']]"
      ]
     },
     "execution_count": 342,
     "metadata": {},
     "output_type": "execute_result"
    }
   ],
   "source": [
    "morped[:5]"
   ]
  },
  {
   "cell_type": "markdown",
   "metadata": {},
   "source": [
    "## Dictionary\n",
    "최빈 형태소에 대한 단어사전 구성"
   ]
  },
  {
   "cell_type": "code",
   "execution_count": 196,
   "metadata": {
    "ExecuteTime": {
     "end_time": "2019-08-06T16:18:02.255732Z",
     "start_time": "2019-08-06T16:18:02.000890Z"
    }
   },
   "outputs": [
    {
     "name": "stdout",
     "output_type": "stream",
     "text": [
      "고빈도 단어:\n",
      "형/Suffix :  724\n",
      "이/Josa :  706\n",
      "샤/Noun :  587\n",
      "나왔/Verb :  562\n",
      "브베/Noun :  442\n",
      "창/Noun :  420\n",
      "채팅/Noun :  417\n",
      "중/Noun :  408\n",
      "입니다/Adjective :  408\n",
      "싹둑/Noun :  407\n",
      "\n",
      "단어 사전:\n",
      "0 <PAD>\n",
      "1 <OOV>\n",
      "2 형/Suffix\n",
      "3 이/Josa\n",
      "4 샤/Noun\n",
      "5 나왔/Verb\n",
      "6 브베/Noun\n",
      "7 창/Noun\n",
      "8 채팅/Noun\n",
      "9 중/Noun\n",
      "\n",
      "단어 사전 크기:  3421\n"
     ]
    }
   ],
   "source": [
    "vocab_size = 5000\n",
    "\n",
    "pad_id = 0\n",
    "oov_id = 1\n",
    "index_offset = 1\n",
    "\n",
    "def make_vocab(sentences):\n",
    "    word_counter = Counter()\n",
    "\n",
    "    for sent in sentences:\n",
    "        word_counter.update(sent)\n",
    "\n",
    "    most_common = word_counter.most_common()\n",
    "    print(\"고빈도 단어:\")\n",
    "    for k, v in most_common[:10]:\n",
    "        print(k, \": \", v)\n",
    "\n",
    "        vocab = {\n",
    "        '<PAD>': pad_id,\n",
    "        '<OOV>': oov_id\n",
    "        }\n",
    "    for i, (word, cnt) in enumerate(most_common, start=index_offset+1):\n",
    "        vocab[word] = i\n",
    "        if len(vocab) >= vocab_size:\n",
    "            break\n",
    "\n",
    "    return vocab\n",
    "\n",
    "word_index = make_vocab(morped)\n",
    "word_inverted_index = {v:k for k, v in word_index.items()}\n",
    "\n",
    "print(\"\\n단어 사전:\")\n",
    "for i in range(0, 10):\n",
    "    print(i, word_inverted_index[i])\n",
    "\n",
    "print(\"\\n단어 사전 크기: \", len(word_index))"
   ]
  },
  {
   "cell_type": "code",
   "execution_count": 197,
   "metadata": {
    "ExecuteTime": {
     "end_time": "2019-08-06T16:18:02.291711Z",
     "start_time": "2019-08-06T16:18:02.261728Z"
    }
   },
   "outputs": [
    {
     "name": "stdout",
     "output_type": "stream",
     "text": [
      "원본:  ['자기/Noun', '잘못/Noun', '인거/Josa', '알/Noun', '면/Josa', '중/Noun', '고딩/Noun', '도/Josa', '먼저/Noun', '사과/Noun', '하/Suffix', '는/Josa', '걸아는데/Verb']\n",
      "문자 -> 숫자:  [234, 781, 782, 381, 293, 9, 1292, 58, 1293, 235, 93, 60, 1294]\n",
      "숫자 -> 문자:  자기/Noun 잘못/Noun 인거/Josa 알/Noun 면/Josa 중/Noun 고딩/Noun 도/Josa 먼저/Noun 사과/Noun 하/Suffix 는/Josa 걸아는데/Verb\n"
     ]
    }
   ],
   "source": [
    "def index_to_text(indexes):\n",
    "    return ' '.join([word_inverted_index[i] for i in indexes])\n",
    "\n",
    "def text_to_index(tokens):\n",
    "    indexes = []\n",
    "    for tok in tokens:\n",
    "        if tok in word_index:\n",
    "            indexes.append(word_index[tok])\n",
    "        else:\n",
    "            indexes.append(oov_id)\n",
    "\n",
    "    return indexes\n",
    "\n",
    "print(\"원본: \", morped[0])\n",
    "ids = text_to_index(morped[0])\n",
    "print(\"문자 -> 숫자: \", ids)\n",
    "print(\"숫자 -> 문자: \", index_to_text(ids))"
   ]
  },
  {
   "cell_type": "markdown",
   "metadata": {},
   "source": [
    "# Padding"
   ]
  },
  {
   "cell_type": "code",
   "execution_count": 199,
   "metadata": {
    "ExecuteTime": {
     "end_time": "2019-08-06T16:22:21.449131Z",
     "start_time": "2019-08-06T16:22:21.378175Z"
    }
   },
   "outputs": [],
   "source": [
    "x_variable = [text_to_index(_) for _ in morped]\n",
    "\n",
    "sentence_size = 20\n",
    "x_padded = sequence.pad_sequences(x_variable,\n",
    "                                 maxlen=sentence_size,\n",
    "                                 truncating='post',\n",
    "                                 padding='post',\n",
    "                                 value=pad_id)"
   ]
  },
  {
   "cell_type": "markdown",
   "metadata": {},
   "source": [
    "# Data Split"
   ]
  },
  {
   "cell_type": "code",
   "execution_count": 200,
   "metadata": {
    "ExecuteTime": {
     "end_time": "2019-08-06T16:22:25.238960Z",
     "start_time": "2019-08-06T16:22:25.202981Z"
    }
   },
   "outputs": [
    {
     "name": "stdout",
     "output_type": "stream",
     "text": [
      "train_inputs shape:  (2625, 20)\n",
      "test_inputs shape:  (875, 20)\n",
      "train_labels shape:  (2625,)\n",
      "test_labels shape:  (875,)\n"
     ]
    }
   ],
   "source": [
    "X_train, X_test, y_train, y_test = train_test_split(x_padded, datasets.label)\n",
    "\n",
    "print(\"train_inputs shape: \", X_train.shape)\n",
    "print(\"test_inputs shape: \", X_test.shape)\n",
    "print(\"train_labels shape: \", y_train.shape)\n",
    "print(\"test_labels shape: \", y_test.shape)"
   ]
  },
  {
   "cell_type": "markdown",
   "metadata": {},
   "source": [
    "# Model"
   ]
  },
  {
   "cell_type": "code",
   "execution_count": 213,
   "metadata": {
    "ExecuteTime": {
     "end_time": "2019-08-06T16:29:41.964901Z",
     "start_time": "2019-08-06T16:29:41.958905Z"
    }
   },
   "outputs": [],
   "source": [
    "import warnings\n",
    "warnings.filterwarnings(action='once')"
   ]
  },
  {
   "cell_type": "code",
   "execution_count": 285,
   "metadata": {
    "ExecuteTime": {
     "end_time": "2019-08-06T17:10:52.845570Z",
     "start_time": "2019-08-06T17:10:52.282893Z"
    }
   },
   "outputs": [],
   "source": [
    "model = keras.Sequential([\n",
    "    keras.layers.Embedding(vocab_size, 10),\n",
    "    keras.layers.Conv1D(32, 3, padding=\"same\", activation=tf.nn.relu),\n",
    "    keras.layers.Dropout(0.3),\n",
    "    keras.layers.Conv1D(32, 3, padding=\"same\", activation=tf.nn.relu),\n",
    "    keras.layers.GlobalMaxPool1D(),\n",
    "    keras.layers.Dropout(0.5),\n",
    "    keras.layers.Dense(2, activation=tf.nn.sigmoid)\n",
    "])"
   ]
  },
  {
   "cell_type": "code",
   "execution_count": 286,
   "metadata": {
    "ExecuteTime": {
     "end_time": "2019-08-06T17:10:52.875553Z",
     "start_time": "2019-08-06T17:10:52.854567Z"
    }
   },
   "outputs": [],
   "source": [
    "def plot_loss(history):\n",
    "    plt.figure(figsize=(6,5))\n",
    "    val = plt.plot(history.epoch, history.history['val_loss'],\n",
    "                 '--', label='Test')\n",
    "    plt.plot(history.epoch, history.history['loss'], color=val[0].get_color(),\n",
    "           label='Train')\n",
    "\n",
    "    plt.xlabel('Epochs')\n",
    "    plt.ylabel(\"Loss\")\n",
    "    plt.legend()\n",
    "\n",
    "    plt.xlim([0,max(history.epoch)])\n",
    "\n",
    "def eval_model(model):\n",
    "    test_loss, test_acc = model.evaluate(X_test, pd.get_dummies(y_test))\n",
    "    print('Test accuracy:', test_acc)"
   ]
  },
  {
   "cell_type": "code",
   "execution_count": 287,
   "metadata": {
    "ExecuteTime": {
     "end_time": "2019-08-06T17:11:08.877379Z",
     "start_time": "2019-08-06T17:10:52.897540Z"
    }
   },
   "outputs": [
    {
     "name": "stdout",
     "output_type": "stream",
     "text": [
      "Train on 2625 samples, validate on 875 samples\n",
      "Epoch 1/5\n",
      "2625/2625 [==============================] - ETA: 2:20 - loss: 0.6896 - acc: 0.531 - ETA: 34s - loss: 0.6815 - acc: 0.648 - ETA: 19s - loss: 0.6755 - acc: 0.69 - ETA: 12s - loss: 0.6667 - acc: 0.73 - ETA: 10s - loss: 0.6640 - acc: 0.74 - ETA: 8s - loss: 0.6591 - acc: 0.7542 - ETA: 7s - loss: 0.6544 - acc: 0.762 - ETA: 6s - loss: 0.6420 - acc: 0.780 - ETA: 5s - loss: 0.6377 - acc: 0.782 - ETA: 5s - loss: 0.6314 - acc: 0.788 - ETA: 4s - loss: 0.6222 - acc: 0.797 - ETA: 4s - loss: 0.6127 - acc: 0.803 - ETA: 3s - loss: 0.5984 - acc: 0.812 - ETA: 3s - loss: 0.5886 - acc: 0.816 - ETA: 2s - loss: 0.5797 - acc: 0.819 - ETA: 2s - loss: 0.5669 - acc: 0.825 - ETA: 2s - loss: 0.5588 - acc: 0.827 - ETA: 2s - loss: 0.5518 - acc: 0.828 - ETA: 2s - loss: 0.5482 - acc: 0.828 - ETA: 1s - loss: 0.5399 - acc: 0.830 - ETA: 1s - loss: 0.5347 - acc: 0.831 - ETA: 1s - loss: 0.5183 - acc: 0.837 - ETA: 0s - loss: 0.5107 - acc: 0.841 - ETA: 0s - loss: 0.5023 - acc: 0.843 - ETA: 0s - loss: 0.4972 - acc: 0.844 - ETA: 0s - loss: 0.4968 - acc: 0.842 - ETA: 0s - loss: 0.4921 - acc: 0.844 - 4s 2ms/sample - loss: 0.4920 - acc: 0.8446 - val_loss: 0.4203 - val_acc: 0.8629\n",
      "Epoch 2/5\n",
      "2625/2625 [==============================] - ETA: 1s - loss: 0.3744 - acc: 0.875 - ETA: 1s - loss: 0.4328 - acc: 0.850 - ETA: 0s - loss: 0.4366 - acc: 0.850 - ETA: 0s - loss: 0.4349 - acc: 0.854 - ETA: 0s - loss: 0.4141 - acc: 0.866 - ETA: 0s - loss: 0.4154 - acc: 0.867 - ETA: 0s - loss: 0.4170 - acc: 0.865 - ETA: 0s - loss: 0.4200 - acc: 0.861 - ETA: 0s - loss: 0.4205 - acc: 0.859 - ETA: 0s - loss: 0.4216 - acc: 0.860 - ETA: 0s - loss: 0.4217 - acc: 0.861 - ETA: 0s - loss: 0.4172 - acc: 0.862 - ETA: 0s - loss: 0.4200 - acc: 0.859 - ETA: 0s - loss: 0.4213 - acc: 0.858 - ETA: 0s - loss: 0.4237 - acc: 0.857 - ETA: 0s - loss: 0.4202 - acc: 0.858 - ETA: 0s - loss: 0.4180 - acc: 0.859 - ETA: 0s - loss: 0.4154 - acc: 0.860 - ETA: 0s - loss: 0.4176 - acc: 0.859 - 1s 453us/sample - loss: 0.4166 - acc: 0.8602 - val_loss: 0.4109 - val_acc: 0.8629\n",
      "Epoch 3/5\n",
      "2625/2625 [==============================] - ETA: 0s - loss: 0.4180 - acc: 0.843 - ETA: 0s - loss: 0.4323 - acc: 0.849 - ETA: 0s - loss: 0.4606 - acc: 0.835 - ETA: 0s - loss: 0.4683 - acc: 0.829 - ETA: 0s - loss: 0.4480 - acc: 0.839 - ETA: 0s - loss: 0.4242 - acc: 0.851 - ETA: 0s - loss: 0.4186 - acc: 0.856 - ETA: 0s - loss: 0.4161 - acc: 0.856 - ETA: 0s - loss: 0.4103 - acc: 0.859 - ETA: 0s - loss: 0.4070 - acc: 0.861 - ETA: 0s - loss: 0.4081 - acc: 0.861 - ETA: 0s - loss: 0.4120 - acc: 0.860 - ETA: 0s - loss: 0.4108 - acc: 0.861 - ETA: 0s - loss: 0.4125 - acc: 0.860 - ETA: 0s - loss: 0.4085 - acc: 0.861 - ETA: 0s - loss: 0.4122 - acc: 0.859 - ETA: 0s - loss: 0.4091 - acc: 0.861 - ETA: 0s - loss: 0.4114 - acc: 0.860 - ETA: 0s - loss: 0.4090 - acc: 0.861 - ETA: 0s - loss: 0.4116 - acc: 0.860 - 1s 482us/sample - loss: 0.4122 - acc: 0.8602 - val_loss: 0.4180 - val_acc: 0.8629\n",
      "Epoch 4/5\n",
      "2625/2625 [==============================] - ETA: 0s - loss: 0.2982 - acc: 0.906 - ETA: 1s - loss: 0.4282 - acc: 0.859 - ETA: 1s - loss: 0.3944 - acc: 0.881 - ETA: 0s - loss: 0.4095 - acc: 0.872 - ETA: 0s - loss: 0.4188 - acc: 0.861 - ETA: 0s - loss: 0.4214 - acc: 0.860 - ETA: 0s - loss: 0.4358 - acc: 0.851 - ETA: 0s - loss: 0.4359 - acc: 0.851 - ETA: 0s - loss: 0.4397 - acc: 0.847 - ETA: 0s - loss: 0.4344 - acc: 0.850 - ETA: 0s - loss: 0.4346 - acc: 0.849 - ETA: 0s - loss: 0.4287 - acc: 0.851 - ETA: 0s - loss: 0.4224 - acc: 0.855 - ETA: 0s - loss: 0.4162 - acc: 0.857 - ETA: 0s - loss: 0.4059 - acc: 0.863 - ETA: 0s - loss: 0.4141 - acc: 0.858 - ETA: 0s - loss: 0.4123 - acc: 0.858 - ETA: 0s - loss: 0.4105 - acc: 0.859 - ETA: 0s - loss: 0.4085 - acc: 0.860 - ETA: 0s - loss: 0.4109 - acc: 0.858 - ETA: 0s - loss: 0.4062 - acc: 0.860 - ETA: 0s - loss: 0.4059 - acc: 0.860 - 1s 522us/sample - loss: 0.4058 - acc: 0.8602 - val_loss: 0.3600 - val_acc: 0.8629\n",
      "Epoch 5/5\n",
      "2625/2625 [==============================] - ETA: 0s - loss: 0.2584 - acc: 0.937 - ETA: 1s - loss: 0.3592 - acc: 0.856 - ETA: 0s - loss: 0.3561 - acc: 0.856 - ETA: 0s - loss: 0.3940 - acc: 0.834 - ETA: 0s - loss: 0.3666 - acc: 0.856 - ETA: 0s - loss: 0.3596 - acc: 0.860 - ETA: 0s - loss: 0.3533 - acc: 0.862 - ETA: 0s - loss: 0.3477 - acc: 0.863 - ETA: 0s - loss: 0.3459 - acc: 0.862 - ETA: 0s - loss: 0.3358 - acc: 0.867 - ETA: 0s - loss: 0.3412 - acc: 0.863 - ETA: 0s - loss: 0.3352 - acc: 0.866 - ETA: 0s - loss: 0.3359 - acc: 0.864 - ETA: 0s - loss: 0.3316 - acc: 0.865 - ETA: 0s - loss: 0.3381 - acc: 0.860 - ETA: 0s - loss: 0.3330 - acc: 0.862 - ETA: 0s - loss: 0.3297 - acc: 0.862 - ETA: 0s - loss: 0.3310 - acc: 0.860 - ETA: 0s - loss: 0.3285 - acc: 0.861 - 1s 449us/sample - loss: 0.3301 - acc: 0.8602 - val_loss: 0.3150 - val_acc: 0.8629\n",
      "875/875 [==============================] - ETA: 0s - loss: 0.4258 - acc: 0.843 - ETA: 0s - loss: 0.3192 - acc: 0.859 - ETA: 0s - loss: 0.3106 - acc: 0.870 - 0s 171us/sample - loss: 0.3150 - acc: 0.8629\n",
      "Test accuracy: 0.86285716\n"
     ]
    },
    {
     "data": {
      "image/png": "[encoded data removed]",
      "text/plain": [
       "<Figure size 432x360 with 1 Axes>"
      ]
     },
     "metadata": {
      "needs_background": "light"
     },
     "output_type": "display_data"
    }
   ],
   "source": [
    "model.compile(optimizer='adam', \n",
    "              loss='binary_crossentropy',\n",
    "              metrics=['accuracy'])\n",
    "\n",
    "history = model.fit(X_train,\n",
    "          pd.get_dummies(y_train),\n",
    "          epochs=5,\n",
    "          validation_data=(X_test, pd.get_dummies(y_test))\n",
    "         )\n",
    "plot_loss(history)\n",
    "eval_model(model)"
   ]
  },
  {
   "cell_type": "code",
   "execution_count": 340,
   "metadata": {
    "ExecuteTime": {
     "end_time": "2019-08-06T17:39:27.413853Z",
     "start_time": "2019-08-06T17:39:27.297917Z"
    }
   },
   "outputs": [
    {
     "data": {
      "text/plain": [
       "{0}"
      ]
     },
     "execution_count": 340,
     "metadata": {},
     "output_type": "execute_result"
    }
   ],
   "source": [
    "set(model.predict_classes(X_test)) ## 전부 0으로 예측을 함 . 데이터 편향 문제때문"
   ]
  },
  {
   "cell_type": "code",
   "execution_count": 341,
   "metadata": {
    "ExecuteTime": {
     "end_time": "2019-08-06T17:41:01.130122Z",
     "start_time": "2019-08-06T17:41:01.125125Z"
    }
   },
   "outputs": [],
   "source": [
    "# result = pd.DataFrame(np.apply_along_axis(index_to_text, 1, X_test))\n",
    "# result['predict'] = model.predict_proba(X_test)[:,1] # 유해하다고 판별할 확률\n",
    "# result[result.predict>0.3]"
   ]
  },
  {
   "cell_type": "markdown",
   "metadata": {},
   "source": [
    "# TODO\n",
    "- 형태소별 Tokenize 말고 한글 자모별 Tokenize 하여 실험해보기\n",
    "- CNN layer / Parameter 변경시켜보기\n",
    "- 예측 결과 검정하기\n",
    "    - Attention 이용\n",
    "\n",
    "# 데이터 편향 문제 해결하자"
   ]
  },
  {
   "cell_type": "code",
   "execution_count": null,
   "metadata": {},
   "outputs": [],
   "source": []
  }
 ],
 "metadata": {
  "kernelspec": {
   "display_name": "Python 3",
   "language": "python",
   "name": "python3"
  },
  "language_info": {
   "codemirror_mode": {
    "name": "ipython",
    "version": 3
   },
   "file_extension": ".py",
   "mimetype": "text/x-python",
   "name": "python",
   "nbconvert_exporter": "python",
   "pygments_lexer": "ipython3",
   "version": "3.7.3"
  }
 },
 "nbformat": 4,
 "nbformat_minor": 2
}
