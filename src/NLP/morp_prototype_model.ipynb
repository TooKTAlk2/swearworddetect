{
 "cells": [
  {
   "cell_type": "code",
   "execution_count": 1,
   "metadata": {
    "ExecuteTime": {
     "end_time": "2019-08-07T05:55:40.703278Z",
     "start_time": "2019-08-07T05:55:28.277612Z"
    }
   },
   "outputs": [
    {
     "name": "stdout",
     "output_type": "stream",
     "text": [
      "Chan 2019-08-07 \n",
      "\n",
      "CPython 3.7.3\n",
      "IPython 7.6.1\n",
      "\n",
      "numpy 1.16.4\n",
      "pandas 0.24.2\n",
      "sklearn 0.21.2\n",
      "konlpy 0.5.1\n",
      "tensorflow 1.13.1\n",
      "matplotlib 3.1.0\n",
      "imblearn 0.5.0\n"
     ]
    }
   ],
   "source": [
    "%load_ext watermark\n",
    "%watermark -a Chan -d -v -p numpy,pandas,sklearn,konlpy,tensorflow,matplotlib,imblearn"
   ]
  },
  {
   "cell_type": "code",
   "execution_count": 2,
   "metadata": {
    "ExecuteTime": {
     "end_time": "2019-08-07T05:55:41.525446Z",
     "start_time": "2019-08-07T05:55:40.709275Z"
    }
   },
   "outputs": [],
   "source": [
    "import numpy as np\n",
    "import pandas as pd\n",
    "from sklearn.model_selection import train_test_split\n",
    "from konlpy.tag import Okt\n",
    "import tensorflow as tf\n",
    "from tensorflow.python.keras.preprocessing import sequence\n",
    "from tensorflow import keras\n",
    "from tqdm import tqdm\n",
    "from collections import Counter\n",
    "from matplotlib import pyplot as plt"
   ]
  },
  {
   "cell_type": "markdown",
   "metadata": {},
   "source": [
    "# Load datasets"
   ]
  },
  {
   "cell_type": "code",
   "execution_count": 3,
   "metadata": {
    "ExecuteTime": {
     "end_time": "2019-08-07T05:55:41.715339Z",
     "start_time": "2019-08-07T05:55:41.530445Z"
    }
   },
   "outputs": [
    {
     "name": "stdout",
     "output_type": "stream",
     "text": [
      "1\n",
      "2\n",
      "3\n",
      "4\n"
     ]
    },
    {
     "data": {
      "text/html": [
       "<div>\n",
       "<style scoped>\n",
       "    .dataframe tbody tr th:only-of-type {\n",
       "        vertical-align: middle;\n",
       "    }\n",
       "\n",
       "    .dataframe tbody tr th {\n",
       "        vertical-align: top;\n",
       "    }\n",
       "\n",
       "    .dataframe thead th {\n",
       "        text-align: right;\n",
       "    }\n",
       "</style>\n",
       "<table border=\"1\" class=\"dataframe\">\n",
       "  <thead>\n",
       "    <tr style=\"text-align: right;\">\n",
       "      <th></th>\n",
       "      <th>chat</th>\n",
       "      <th>label</th>\n",
       "    </tr>\n",
       "  </thead>\n",
       "  <tbody>\n",
       "    <tr>\n",
       "      <th>0</th>\n",
       "      <td>자기잘못인거알면 중고딩도 먼저사과하는걸아는데</td>\n",
       "      <td>0</td>\n",
       "    </tr>\n",
       "    <tr>\n",
       "      <th>1</th>\n",
       "      <td>싹둑이 채팅창 관리 중입니다</td>\n",
       "      <td>0</td>\n",
       "    </tr>\n",
       "    <tr>\n",
       "      <th>2</th>\n",
       "      <td>싹둑이 채팅창 관리 중입니다</td>\n",
       "      <td>0</td>\n",
       "    </tr>\n",
       "    <tr>\n",
       "      <th>3</th>\n",
       "      <td>어제 어글 아직도 가? 개인적으로 사과하셨대 그만해 칭구들앙</td>\n",
       "      <td>0</td>\n",
       "    </tr>\n",
       "    <tr>\n",
       "      <th>4</th>\n",
       "      <td>케읍이 뭔데요 무슨사건있엇음?</td>\n",
       "      <td>0</td>\n",
       "    </tr>\n",
       "  </tbody>\n",
       "</table>\n",
       "</div>"
      ],
      "text/plain": [
       "                                 chat  label\n",
       "0            자기잘못인거알면 중고딩도 먼저사과하는걸아는데      0\n",
       "1                     싹둑이 채팅창 관리 중입니다      0\n",
       "2                     싹둑이 채팅창 관리 중입니다      0\n",
       "3  어제 어글 아직도 가? 개인적으로 사과하셨대 그만해 칭구들앙       0\n",
       "4                    케읍이 뭔데요 무슨사건있엇음?      0"
      ]
     },
     "execution_count": 3,
     "metadata": {},
     "output_type": "execute_result"
    }
   ],
   "source": [
    "datasets = pd.DataFrame()\n",
    "for i in range(1,5):\n",
    "    print(i)\n",
    "    dump = pd.read_csv(\"../../data/sample ({}).csv\".format(i), engine='python',names=['chat','label'])\n",
    "    datasets = pd.concat([datasets, dump])\n",
    "datasets.head()"
   ]
  },
  {
   "cell_type": "code",
   "execution_count": 4,
   "metadata": {
    "ExecuteTime": {
     "end_time": "2019-08-07T05:55:41.731334Z",
     "start_time": "2019-08-07T05:55:41.723335Z"
    }
   },
   "outputs": [],
   "source": [
    "datasets.reset_index(drop=True,inplace=True)"
   ]
  },
  {
   "cell_type": "code",
   "execution_count": 5,
   "metadata": {
    "ExecuteTime": {
     "end_time": "2019-08-07T05:55:41.774305Z",
     "start_time": "2019-08-07T05:55:41.739328Z"
    }
   },
   "outputs": [
    {
     "name": "stdout",
     "output_type": "stream",
     "text": [
      "<class 'pandas.core.frame.DataFrame'>\n",
      "RangeIndex: 3500 entries, 0 to 3499\n",
      "Data columns (total 2 columns):\n",
      "chat     3500 non-null object\n",
      "label    3500 non-null int64\n",
      "dtypes: int64(1), object(1)\n",
      "memory usage: 54.8+ KB\n"
     ]
    }
   ],
   "source": [
    "datasets.info()"
   ]
  },
  {
   "cell_type": "code",
   "execution_count": 6,
   "metadata": {
    "ExecuteTime": {
     "end_time": "2019-08-07T05:55:41.799291Z",
     "start_time": "2019-08-07T05:55:41.779303Z"
    }
   },
   "outputs": [],
   "source": [
    "datasets.label = datasets.label.astype('int')"
   ]
  },
  {
   "cell_type": "code",
   "execution_count": 7,
   "metadata": {
    "ExecuteTime": {
     "end_time": "2019-08-07T05:55:41.834271Z",
     "start_time": "2019-08-07T05:55:41.805289Z"
    }
   },
   "outputs": [
    {
     "data": {
      "text/plain": [
       "0.16163292399601725"
      ]
     },
     "execution_count": 7,
     "metadata": {},
     "output_type": "execute_result"
    }
   ],
   "source": [
    "len(datasets[datasets.label ==1])/ len(datasets[datasets.label ==0]) # 유해한 레이블의 데이터가 많이 부족함 데이터 편향ㅠㅠ"
   ]
  },
  {
   "cell_type": "markdown",
   "metadata": {
    "ExecuteTime": {
     "end_time": "2019-08-06T15:38:19.687895Z",
     "start_time": "2019-08-06T15:38:19.677899Z"
    }
   },
   "source": [
    "# Tokenize\n",
    "## 형태소분석"
   ]
  },
  {
   "cell_type": "code",
   "execution_count": 8,
   "metadata": {
    "ExecuteTime": {
     "end_time": "2019-08-07T05:55:42.671439Z",
     "start_time": "2019-08-07T05:55:41.843268Z"
    }
   },
   "outputs": [
    {
     "name": "stderr",
     "output_type": "stream",
     "text": [
      "C:\\Users\\skarn\\Anaconda3\\envs\\DataAnalysis\\lib\\site-packages\\jpype\\_core.py:210: UserWarning: \n",
      "-------------------------------------------------------------------------------\n",
      "Deprecated: convertStrings was not specified when starting the JVM. The default\n",
      "behavior in JPype will be False starting in JPype 0.8. The recommended setting\n",
      "for new code is convertStrings=False.  The legacy value of True was assumed for\n",
      "this session. If you are a user of an application that reported this warning,\n",
      "please file a ticket with the developer.\n",
      "-------------------------------------------------------------------------------\n",
      "\n",
      "  \"\"\")\n"
     ]
    }
   ],
   "source": [
    "morp = Okt()"
   ]
  },
  {
   "cell_type": "code",
   "execution_count": 9,
   "metadata": {
    "ExecuteTime": {
     "end_time": "2019-08-07T05:56:08.364765Z",
     "start_time": "2019-08-07T05:55:42.676433Z"
    }
   },
   "outputs": [
    {
     "name": "stderr",
     "output_type": "stream",
     "text": [
      "100%|████████████████████████████████████████████████████████████████████████████████████████████████████████████████████████████████████████████████████████████████████████| 3500/3500 [00:25<00:00, 136.33it/s]\n"
     ]
    }
   ],
   "source": [
    "morped = [morp.pos(_, norm=True, join=True) for _ in tqdm(datasets.chat)] # Stemming은 하지 않는다."
   ]
  },
  {
   "cell_type": "code",
   "execution_count": 10,
   "metadata": {
    "ExecuteTime": {
     "end_time": "2019-08-07T05:56:08.388752Z",
     "start_time": "2019-08-07T05:56:08.369764Z"
    }
   },
   "outputs": [
    {
     "data": {
      "text/plain": [
       "[['자기/Noun',\n",
       "  '잘못/Noun',\n",
       "  '인거/Josa',\n",
       "  '알/Noun',\n",
       "  '면/Josa',\n",
       "  '중/Noun',\n",
       "  '고딩/Noun',\n",
       "  '도/Josa',\n",
       "  '먼저/Noun',\n",
       "  '사과/Noun',\n",
       "  '하/Suffix',\n",
       "  '는/Josa',\n",
       "  '걸아는데/Verb'],\n",
       " ['싹둑/Noun',\n",
       "  '이/Josa',\n",
       "  '채팅/Noun',\n",
       "  '창/Noun',\n",
       "  '관리/Noun',\n",
       "  '중/Noun',\n",
       "  '입니다/Adjective'],\n",
       " ['싹둑/Noun',\n",
       "  '이/Josa',\n",
       "  '채팅/Noun',\n",
       "  '창/Noun',\n",
       "  '관리/Noun',\n",
       "  '중/Noun',\n",
       "  '입니다/Adjective'],\n",
       " ['어제/Noun',\n",
       "  '어글/Noun',\n",
       "  '아직도/Adverb',\n",
       "  '가/Verb',\n",
       "  '?/Punctuation',\n",
       "  '개인/Noun',\n",
       "  '적/Suffix',\n",
       "  '으로/Josa',\n",
       "  '사과/Noun',\n",
       "  '하셨대/Verb',\n",
       "  '그만해/Adjective',\n",
       "  '칭구들앙/Noun'],\n",
       " ['케읍/Noun',\n",
       "  '이/Josa',\n",
       "  '뭔/Modifier',\n",
       "  '데/Noun',\n",
       "  '요/Josa',\n",
       "  '무슨/Modifier',\n",
       "  '사건/Noun',\n",
       "  '있/Adjective',\n",
       "  '엇음/Noun',\n",
       "  '?/Punctuation']]"
      ]
     },
     "execution_count": 10,
     "metadata": {},
     "output_type": "execute_result"
    }
   ],
   "source": [
    "morped[:5]"
   ]
  },
  {
   "cell_type": "markdown",
   "metadata": {},
   "source": [
    "## Dictionary\n",
    "최빈 형태소에 대한 단어사전 구성"
   ]
  },
  {
   "cell_type": "code",
   "execution_count": 11,
   "metadata": {
    "ExecuteTime": {
     "end_time": "2019-08-07T05:56:08.826501Z",
     "start_time": "2019-08-07T05:56:08.393749Z"
    }
   },
   "outputs": [
    {
     "name": "stdout",
     "output_type": "stream",
     "text": [
      "고빈도 단어:\n",
      "형/Suffix :  724\n",
      "이/Josa :  706\n",
      "샤/Noun :  587\n",
      "나왔/Verb :  562\n",
      "브베/Noun :  442\n",
      "창/Noun :  420\n",
      "채팅/Noun :  417\n",
      "중/Noun :  408\n",
      "입니다/Adjective :  408\n",
      "싹둑/Noun :  407\n",
      "\n",
      "단어 사전:\n",
      "0 <PAD>\n",
      "1 <OOV>\n",
      "2 형/Suffix\n",
      "3 이/Josa\n",
      "4 샤/Noun\n",
      "5 나왔/Verb\n",
      "6 브베/Noun\n",
      "7 창/Noun\n",
      "8 채팅/Noun\n",
      "9 중/Noun\n",
      "\n",
      "단어 사전 크기:  3421\n"
     ]
    }
   ],
   "source": [
    "vocab_size = 5000\n",
    "\n",
    "pad_id = 0\n",
    "oov_id = 1\n",
    "index_offset = 1\n",
    "\n",
    "def make_vocab(sentences):\n",
    "    word_counter = Counter()\n",
    "\n",
    "    for sent in sentences:\n",
    "        word_counter.update(sent)\n",
    "\n",
    "    most_common = word_counter.most_common()\n",
    "    print(\"고빈도 단어:\")\n",
    "    for k, v in most_common[:10]:\n",
    "        print(k, \": \", v)\n",
    "\n",
    "        vocab = {\n",
    "        '<PAD>': pad_id,\n",
    "        '<OOV>': oov_id\n",
    "        }\n",
    "    for i, (word, cnt) in enumerate(most_common, start=index_offset+1):\n",
    "        vocab[word] = i\n",
    "        if len(vocab) >= vocab_size:\n",
    "            break\n",
    "\n",
    "    return vocab\n",
    "\n",
    "word_index = make_vocab(morped)\n",
    "word_inverted_index = {v:k for k, v in word_index.items()}\n",
    "\n",
    "print(\"\\n단어 사전:\")\n",
    "for i in range(0, 10):\n",
    "    print(i, word_inverted_index[i])\n",
    "\n",
    "print(\"\\n단어 사전 크기: \", len(word_index))"
   ]
  },
  {
   "cell_type": "code",
   "execution_count": 12,
   "metadata": {
    "ExecuteTime": {
     "end_time": "2019-08-07T05:56:08.866477Z",
     "start_time": "2019-08-07T05:56:08.831497Z"
    }
   },
   "outputs": [
    {
     "name": "stdout",
     "output_type": "stream",
     "text": [
      "원본:  ['자기/Noun', '잘못/Noun', '인거/Josa', '알/Noun', '면/Josa', '중/Noun', '고딩/Noun', '도/Josa', '먼저/Noun', '사과/Noun', '하/Suffix', '는/Josa', '걸아는데/Verb']\n",
      "문자 -> 숫자:  [234, 781, 782, 381, 293, 9, 1292, 58, 1293, 235, 93, 60, 1294]\n",
      "숫자 -> 문자:  자기/Noun 잘못/Noun 인거/Josa 알/Noun 면/Josa 중/Noun 고딩/Noun 도/Josa 먼저/Noun 사과/Noun 하/Suffix 는/Josa 걸아는데/Verb\n"
     ]
    }
   ],
   "source": [
    "def index_to_text(indexes):\n",
    "    return ' '.join([word_inverted_index[i] for i in indexes])\n",
    "\n",
    "def text_to_index(tokens):\n",
    "    indexes = []\n",
    "    for tok in tokens:\n",
    "        if tok in word_index:\n",
    "            indexes.append(word_index[tok])\n",
    "        else:\n",
    "            indexes.append(oov_id)\n",
    "\n",
    "    return indexes\n",
    "\n",
    "print(\"원본: \", morped[0])\n",
    "ids = text_to_index(morped[0])\n",
    "print(\"문자 -> 숫자: \", ids)\n",
    "print(\"숫자 -> 문자: \", index_to_text(ids))"
   ]
  },
  {
   "cell_type": "markdown",
   "metadata": {},
   "source": [
    "# Padding"
   ]
  },
  {
   "cell_type": "code",
   "execution_count": 13,
   "metadata": {
    "ExecuteTime": {
     "end_time": "2019-08-07T05:56:08.991405Z",
     "start_time": "2019-08-07T05:56:08.871474Z"
    }
   },
   "outputs": [],
   "source": [
    "x_variable = [text_to_index(_) for _ in morped]\n",
    "\n",
    "sentence_size = 20\n",
    "x_padded = sequence.pad_sequences(x_variable,\n",
    "                                 maxlen=sentence_size,\n",
    "                                 truncating='post',\n",
    "                                 padding='post',\n",
    "                                 value=pad_id)"
   ]
  },
  {
   "cell_type": "markdown",
   "metadata": {},
   "source": [
    "# Data Split"
   ]
  },
  {
   "cell_type": "code",
   "execution_count": 14,
   "metadata": {
    "ExecuteTime": {
     "end_time": "2019-08-07T05:56:09.045375Z",
     "start_time": "2019-08-07T05:56:08.997402Z"
    }
   },
   "outputs": [
    {
     "name": "stdout",
     "output_type": "stream",
     "text": [
      "train_inputs shape:  (2625, 20)\n",
      "test_inputs shape:  (875, 20)\n",
      "train_labels shape:  (2625,)\n",
      "test_labels shape:  (875,)\n"
     ]
    }
   ],
   "source": [
    "X_train, X_test, y_train, y_test = train_test_split(x_padded, datasets.label)\n",
    "\n",
    "print(\"train_inputs shape: \", X_train.shape)\n",
    "print(\"test_inputs shape: \", X_test.shape)\n",
    "print(\"train_labels shape: \", y_train.shape)\n",
    "print(\"test_labels shape: \", y_test.shape)"
   ]
  },
  {
   "cell_type": "markdown",
   "metadata": {},
   "source": [
    "# Model"
   ]
  },
  {
   "cell_type": "code",
   "execution_count": 15,
   "metadata": {
    "ExecuteTime": {
     "end_time": "2019-08-07T05:56:09.058366Z",
     "start_time": "2019-08-07T05:56:09.051372Z"
    }
   },
   "outputs": [],
   "source": [
    "import warnings\n",
    "warnings.filterwarnings(action='once')"
   ]
  },
  {
   "cell_type": "code",
   "execution_count": 16,
   "metadata": {
    "ExecuteTime": {
     "end_time": "2019-08-07T05:56:10.009113Z",
     "start_time": "2019-08-07T05:56:09.063366Z"
    }
   },
   "outputs": [
    {
     "name": "stderr",
     "output_type": "stream",
     "text": [
      "C:\\Users\\skarn\\Anaconda3\\envs\\DataAnalysis\\lib\\site-packages\\numpy\\lib\\type_check.py:546: DeprecationWarning: np.asscalar(a) is deprecated since NumPy v1.16, use a.item() instead\n",
      "  'a.item() instead', DeprecationWarning, stacklevel=1)\n"
     ]
    },
    {
     "name": "stdout",
     "output_type": "stream",
     "text": [
      "WARNING:tensorflow:From C:\\Users\\skarn\\Anaconda3\\envs\\DataAnalysis\\lib\\site-packages\\tensorflow\\python\\ops\\resource_variable_ops.py:435: colocate_with (from tensorflow.python.framework.ops) is deprecated and will be removed in a future version.\n",
      "Instructions for updating:\n",
      "Colocations handled automatically by placer.\n",
      "WARNING:tensorflow:From C:\\Users\\skarn\\Anaconda3\\envs\\DataAnalysis\\lib\\site-packages\\tensorflow\\python\\keras\\layers\\core.py:143: calling dropout (from tensorflow.python.ops.nn_ops) with keep_prob is deprecated and will be removed in a future version.\n",
      "Instructions for updating:\n",
      "Please use `rate` instead of `keep_prob`. Rate should be set to `rate = 1 - keep_prob`.\n"
     ]
    }
   ],
   "source": [
    "model = keras.Sequential([\n",
    "    keras.layers.Embedding(vocab_size, 10),\n",
    "    keras.layers.Conv1D(32, 3, padding=\"same\", activation=tf.nn.relu),\n",
    "    keras.layers.Dropout(0.3),\n",
    "    keras.layers.Conv1D(32, 3, padding=\"same\", activation=tf.nn.relu),\n",
    "    keras.layers.GlobalMaxPool1D(),\n",
    "    keras.layers.Dropout(0.5),\n",
    "    keras.layers.Dense(2, activation=tf.nn.sigmoid)\n",
    "])"
   ]
  },
  {
   "cell_type": "code",
   "execution_count": 17,
   "metadata": {
    "ExecuteTime": {
     "end_time": "2019-08-07T05:56:10.052088Z",
     "start_time": "2019-08-07T05:56:10.019108Z"
    }
   },
   "outputs": [],
   "source": [
    "def plot_loss(history):\n",
    "    plt.figure(figsize=(6,5))\n",
    "    val = plt.plot(history.epoch, history.history['val_loss'],\n",
    "                 '--', label='Test')\n",
    "    plt.plot(history.epoch, history.history['loss'], color=val[0].get_color(),\n",
    "           label='Train')\n",
    "\n",
    "    plt.xlabel('Epochs')\n",
    "    plt.ylabel(\"Loss\")\n",
    "    plt.legend()\n",
    "\n",
    "    plt.xlim([0,max(history.epoch)])\n",
    "\n",
    "def eval_model(model):\n",
    "    test_loss, test_acc = model.evaluate(X_test, pd.get_dummies(y_test))\n",
    "    print('Test accuracy:', test_acc)"
   ]
  },
  {
   "cell_type": "code",
   "execution_count": 18,
   "metadata": {
    "ExecuteTime": {
     "end_time": "2019-08-07T05:56:20.794976Z",
     "start_time": "2019-08-07T05:56:10.091067Z"
    }
   },
   "outputs": [
    {
     "name": "stdout",
     "output_type": "stream",
     "text": [
      "Train on 2625 samples, validate on 875 samples\n",
      "WARNING:tensorflow:From C:\\Users\\skarn\\Anaconda3\\envs\\DataAnalysis\\lib\\site-packages\\tensorflow\\python\\ops\\math_ops.py:3066: to_int32 (from tensorflow.python.ops.math_ops) is deprecated and will be removed in a future version.\n",
      "Instructions for updating:\n",
      "Use tf.cast instead.\n",
      "WARNING:tensorflow:From C:\\Users\\skarn\\Anaconda3\\envs\\DataAnalysis\\lib\\site-packages\\tensorflow\\python\\ops\\math_grad.py:102: div (from tensorflow.python.ops.math_ops) is deprecated and will be removed in a future version.\n",
      "Instructions for updating:\n",
      "Deprecated in favor of operator or tf.math.divide.\n",
      "Epoch 1/5\n",
      "2625/2625 [==============================] - ETA: 2:25 - loss: 0.6907 - acc: 0.531 - ETA: 28s - loss: 0.6855 - acc: 0.628 - ETA: 12s - loss: 0.6726 - acc: 0.74 - ETA: 7s - loss: 0.6617 - acc: 0.7721 - ETA: 5s - loss: 0.6494 - acc: 0.789 - ETA: 3s - loss: 0.6339 - acc: 0.797 - ETA: 2s - loss: 0.6126 - acc: 0.810 - ETA: 2s - loss: 0.5962 - acc: 0.812 - ETA: 1s - loss: 0.5817 - acc: 0.815 - ETA: 1s - loss: 0.5656 - acc: 0.819 - ETA: 1s - loss: 0.5468 - acc: 0.826 - ETA: 0s - loss: 0.5349 - acc: 0.828 - ETA: 0s - loss: 0.5254 - acc: 0.831 - ETA: 0s - loss: 0.5147 - acc: 0.834 - ETA: 0s - loss: 0.5077 - acc: 0.837 - 3s 1ms/sample - loss: 0.5053 - acc: 0.8373 - val_loss: 0.4056 - val_acc: 0.8651\n",
      "Epoch 2/5\n",
      "2625/2625 [==============================] - ETA: 0s - loss: 0.2368 - acc: 0.968 - ETA: 0s - loss: 0.4755 - acc: 0.817 - ETA: 0s - loss: 0.4410 - acc: 0.838 - ETA: 0s - loss: 0.4433 - acc: 0.840 - ETA: 0s - loss: 0.4273 - acc: 0.851 - ETA: 0s - loss: 0.4211 - acc: 0.852 - ETA: 0s - loss: 0.4209 - acc: 0.854 - ETA: 0s - loss: 0.4257 - acc: 0.852 - ETA: 0s - loss: 0.4302 - acc: 0.851 - ETA: 0s - loss: 0.4265 - acc: 0.852 - ETA: 0s - loss: 0.4227 - acc: 0.856 - ETA: 0s - loss: 0.4216 - acc: 0.856 - ETA: 0s - loss: 0.4181 - acc: 0.858 - ETA: 0s - loss: 0.4183 - acc: 0.858 - ETA: 0s - loss: 0.4171 - acc: 0.859 - 1s 343us/sample - loss: 0.4175 - acc: 0.8594 - val_loss: 0.4034 - val_acc: 0.8651\n",
      "Epoch 3/5\n",
      "2625/2625 [==============================] - ETA: 0s - loss: 0.3259 - acc: 0.906 - ETA: 0s - loss: 0.3870 - acc: 0.877 - ETA: 0s - loss: 0.4183 - acc: 0.860 - ETA: 0s - loss: 0.4476 - acc: 0.849 - ETA: 0s - loss: 0.4371 - acc: 0.855 - ETA: 0s - loss: 0.4400 - acc: 0.852 - ETA: 0s - loss: 0.4258 - acc: 0.859 - ETA: 0s - loss: 0.4178 - acc: 0.863 - ETA: 0s - loss: 0.4216 - acc: 0.861 - ETA: 0s - loss: 0.4199 - acc: 0.860 - ETA: 0s - loss: 0.4196 - acc: 0.860 - ETA: 0s - loss: 0.4252 - acc: 0.857 - ETA: 0s - loss: 0.4237 - acc: 0.858 - ETA: 0s - loss: 0.4213 - acc: 0.859 - ETA: 0s - loss: 0.4202 - acc: 0.859 - 1s 343us/sample - loss: 0.4205 - acc: 0.8590 - val_loss: 0.3906 - val_acc: 0.8651\n",
      "Epoch 4/5\n",
      "2625/2625 [==============================] - ETA: 0s - loss: 0.4670 - acc: 0.812 - ETA: 0s - loss: 0.4032 - acc: 0.856 - ETA: 0s - loss: 0.4183 - acc: 0.849 - ETA: 0s - loss: 0.4125 - acc: 0.854 - ETA: 0s - loss: 0.4115 - acc: 0.857 - ETA: 0s - loss: 0.4092 - acc: 0.855 - ETA: 0s - loss: 0.4095 - acc: 0.853 - ETA: 0s - loss: 0.4091 - acc: 0.854 - ETA: 0s - loss: 0.4122 - acc: 0.853 - ETA: 0s - loss: 0.4084 - acc: 0.855 - ETA: 0s - loss: 0.4044 - acc: 0.856 - ETA: 0s - loss: 0.4016 - acc: 0.858 - ETA: 0s - loss: 0.4042 - acc: 0.857 - ETA: 0s - loss: 0.3964 - acc: 0.860 - ETA: 0s - loss: 0.3942 - acc: 0.861 - ETA: 0s - loss: 0.3971 - acc: 0.859 - 1s 353us/sample - loss: 0.3970 - acc: 0.8594 - val_loss: 0.3583 - val_acc: 0.8651\n",
      "Epoch 5/5\n",
      "2625/2625 [==============================] - ETA: 0s - loss: 0.4526 - acc: 0.812 - ETA: 0s - loss: 0.3403 - acc: 0.879 - ETA: 0s - loss: 0.3601 - acc: 0.872 - ETA: 0s - loss: 0.3319 - acc: 0.886 - ETA: 0s - loss: 0.3406 - acc: 0.879 - ETA: 0s - loss: 0.3463 - acc: 0.875 - ETA: 0s - loss: 0.3387 - acc: 0.878 - ETA: 0s - loss: 0.3499 - acc: 0.868 - ETA: 0s - loss: 0.3540 - acc: 0.865 - ETA: 0s - loss: 0.3526 - acc: 0.866 - ETA: 0s - loss: 0.3563 - acc: 0.865 - ETA: 0s - loss: 0.3599 - acc: 0.862 - ETA: 0s - loss: 0.3604 - acc: 0.861 - ETA: 0s - loss: 0.3566 - acc: 0.861 - ETA: 0s - loss: 0.3570 - acc: 0.860 - 1s 340us/sample - loss: 0.3569 - acc: 0.8594 - val_loss: 0.3168 - val_acc: 0.8651\n",
      "875/875 [==============================] - ETA: 0s - loss: 0.2572 - acc: 0.906 - ETA: 0s - loss: 0.3172 - acc: 0.864 - 0s 103us/sample - loss: 0.3168 - acc: 0.8651\n",
      "Test accuracy: 0.8651429\n"
     ]
    },
    {
     "data": {
      "image/png": "[encoded data removed]",
      "text/plain": [
       "<Figure size 432x360 with 1 Axes>"
      ]
     },
     "metadata": {
      "needs_background": "light"
     },
     "output_type": "display_data"
    }
   ],
   "source": [
    "model.compile(optimizer='adam', \n",
    "              loss='binary_crossentropy',\n",
    "              metrics=['accuracy'])\n",
    "\n",
    "history = model.fit(X_train,\n",
    "          pd.get_dummies(y_train),\n",
    "          epochs=5,\n",
    "          validation_data=(X_test, pd.get_dummies(y_test))\n",
    "         )\n",
    "plot_loss(history)\n",
    "eval_model(model)"
   ]
  },
  {
   "cell_type": "code",
   "execution_count": 19,
   "metadata": {
    "ExecuteTime": {
     "end_time": "2019-08-07T05:56:21.182685Z",
     "start_time": "2019-08-07T05:56:20.801974Z"
    }
   },
   "outputs": [
    {
     "data": {
      "text/plain": [
       "{0}"
      ]
     },
     "execution_count": 19,
     "metadata": {},
     "output_type": "execute_result"
    }
   ],
   "source": [
    "set(model.predict_classes(X_test)) ## 전부 0으로 예측을 함 . 데이터 불균형 문제때문"
   ]
  },
  {
   "cell_type": "code",
   "execution_count": 20,
   "metadata": {
    "ExecuteTime": {
     "end_time": "2019-08-07T05:56:21.194683Z",
     "start_time": "2019-08-07T05:56:21.188684Z"
    }
   },
   "outputs": [],
   "source": [
    "# result = pd.DataFrame(np.apply_along_axis(index_to_text, 1, X_test))\n",
    "# result['predict'] = model.predict_proba(X_test)[:,1] # 유해하다고 판별할 확률\n",
    "# result[result.predict>0.3]"
   ]
  },
  {
   "cell_type": "markdown",
   "metadata": {},
   "source": [
    "\n",
    "# 데이터 클래스 불균형 문제 해결하자"
   ]
  },
  {
   "cell_type": "code",
   "execution_count": 21,
   "metadata": {
    "ExecuteTime": {
     "end_time": "2019-08-07T05:56:21.219665Z",
     "start_time": "2019-08-07T05:56:21.206671Z"
    }
   },
   "outputs": [],
   "source": [
    "from imblearn.under_sampling import RandomUnderSampler\n",
    "from imblearn.over_sampling import RandomOverSampler"
   ]
  },
  {
   "cell_type": "markdown",
   "metadata": {},
   "source": [
    "## upsampling\n",
    "- 딥러닝은 데이터가 많을수록 좋다.\n",
    "- 보다 많은 데이터 사용을 위해 upsampling을 사용하자!"
   ]
  },
  {
   "cell_type": "code",
   "execution_count": 22,
   "metadata": {
    "ExecuteTime": {
     "end_time": "2019-08-07T05:56:21.263742Z",
     "start_time": "2019-08-07T05:56:21.228705Z"
    }
   },
   "outputs": [],
   "source": [
    "up_X, up_y = RandomOverSampler().fit_resample(x_padded, datasets.label)\n",
    "up_X_train, up_X_test, up_y_train, up_y_test = train_test_split(up_X, up_y)"
   ]
  },
  {
   "cell_type": "code",
   "execution_count": 23,
   "metadata": {
    "ExecuteTime": {
     "end_time": "2019-08-07T05:56:21.286727Z",
     "start_time": "2019-08-07T05:56:21.277733Z"
    }
   },
   "outputs": [
    {
     "data": {
      "text/plain": [
       "(6026, 3013)"
      ]
     },
     "execution_count": 23,
     "metadata": {},
     "output_type": "execute_result"
    }
   ],
   "source": [
    "# 총 데이터 수 , 1 레이블 데이터 수\n",
    "len(up_y), up_y.sum()"
   ]
  },
  {
   "cell_type": "code",
   "execution_count": 24,
   "metadata": {
    "ExecuteTime": {
     "end_time": "2019-08-07T05:56:34.251737Z",
     "start_time": "2019-08-07T05:56:21.293724Z"
    }
   },
   "outputs": [
    {
     "name": "stderr",
     "output_type": "stream",
     "text": [
      "C:\\Users\\skarn\\Anaconda3\\envs\\DataAnalysis\\lib\\site-packages\\numpy\\lib\\type_check.py:546: DeprecationWarning: np.asscalar(a) is deprecated since NumPy v1.16, use a.item() instead\n",
      "  'a.item() instead', DeprecationWarning, stacklevel=1)\n"
     ]
    },
    {
     "name": "stdout",
     "output_type": "stream",
     "text": [
      "Train on 4519 samples, validate on 1507 samples\n",
      "Epoch 1/5\n",
      "4519/4519 [==============================] - ETA: 3:24 - loss: 0.5502 - acc: 0.656 - ETA: 34s - loss: 0.6330 - acc: 0.601 - ETA: 16s - loss: 0.6360 - acc: 0.56 - ETA: 11s - loss: 0.6061 - acc: 0.58 - ETA: 8s - loss: 0.5925 - acc: 0.6005 - ETA: 6s - loss: 0.5843 - acc: 0.619 - ETA: 5s - loss: 0.5729 - acc: 0.641 - ETA: 4s - loss: 0.5625 - acc: 0.663 - ETA: 3s - loss: 0.5572 - acc: 0.670 - ETA: 3s - loss: 0.5501 - acc: 0.682 - ETA: 2s - loss: 0.5417 - acc: 0.693 - ETA: 2s - loss: 0.5364 - acc: 0.701 - ETA: 2s - loss: 0.5287 - acc: 0.714 - ETA: 1s - loss: 0.5214 - acc: 0.724 - ETA: 1s - loss: 0.5137 - acc: 0.732 - ETA: 1s - loss: 0.5083 - acc: 0.737 - ETA: 1s - loss: 0.5011 - acc: 0.743 - ETA: 1s - loss: 0.4962 - acc: 0.747 - ETA: 0s - loss: 0.4926 - acc: 0.750 - ETA: 0s - loss: 0.4860 - acc: 0.756 - ETA: 0s - loss: 0.4779 - acc: 0.763 - ETA: 0s - loss: 0.4743 - acc: 0.766 - ETA: 0s - loss: 0.4682 - acc: 0.770 - ETA: 0s - loss: 0.4646 - acc: 0.772 - ETA: 0s - loss: 0.4585 - acc: 0.777 - 3s 727us/sample - loss: 0.4574 - acc: 0.7777 - val_loss: 0.3079 - val_acc: 0.9025\n",
      "Epoch 2/5\n",
      "4519/4519 [==============================] - ETA: 2s - loss: 0.3061 - acc: 0.890 - ETA: 1s - loss: 0.2970 - acc: 0.904 - ETA: 1s - loss: 0.2821 - acc: 0.912 - ETA: 1s - loss: 0.2732 - acc: 0.916 - ETA: 1s - loss: 0.2609 - acc: 0.918 - ETA: 1s - loss: 0.2708 - acc: 0.910 - ETA: 0s - loss: 0.2727 - acc: 0.907 - ETA: 0s - loss: 0.2761 - acc: 0.909 - ETA: 0s - loss: 0.2685 - acc: 0.913 - ETA: 0s - loss: 0.2618 - acc: 0.916 - ETA: 0s - loss: 0.2558 - acc: 0.918 - ETA: 0s - loss: 0.2562 - acc: 0.918 - ETA: 0s - loss: 0.2493 - acc: 0.921 - ETA: 0s - loss: 0.2484 - acc: 0.922 - ETA: 0s - loss: 0.2463 - acc: 0.924 - ETA: 0s - loss: 0.2433 - acc: 0.925 - ETA: 0s - loss: 0.2379 - acc: 0.927 - ETA: 0s - loss: 0.2363 - acc: 0.927 - ETA: 0s - loss: 0.2300 - acc: 0.930 - ETA: 0s - loss: 0.2313 - acc: 0.931 - ETA: 0s - loss: 0.2256 - acc: 0.933 - ETA: 0s - loss: 0.2209 - acc: 0.935 - ETA: 0s - loss: 0.2194 - acc: 0.935 - ETA: 0s - loss: 0.2166 - acc: 0.936 - ETA: 0s - loss: 0.2135 - acc: 0.937 - ETA: 0s - loss: 0.2087 - acc: 0.939 - 2s 343us/sample - loss: 0.2073 - acc: 0.9397 - val_loss: 0.1512 - val_acc: 0.9463\n",
      "Epoch 3/5\n",
      "4519/4519 [==============================] - ETA: 1s - loss: 0.0724 - acc: 1.000 - ETA: 1s - loss: 0.0900 - acc: 0.988 - ETA: 1s - loss: 0.1079 - acc: 0.983 - ETA: 1s - loss: 0.1039 - acc: 0.981 - ETA: 1s - loss: 0.1084 - acc: 0.976 - ETA: 1s - loss: 0.1258 - acc: 0.969 - ETA: 1s - loss: 0.1301 - acc: 0.970 - ETA: 1s - loss: 0.1252 - acc: 0.970 - ETA: 0s - loss: 0.1248 - acc: 0.971 - ETA: 0s - loss: 0.1264 - acc: 0.968 - ETA: 0s - loss: 0.1207 - acc: 0.969 - ETA: 0s - loss: 0.1188 - acc: 0.969 - ETA: 0s - loss: 0.1192 - acc: 0.969 - ETA: 0s - loss: 0.1177 - acc: 0.969 - ETA: 0s - loss: 0.1157 - acc: 0.968 - ETA: 0s - loss: 0.1132 - acc: 0.969 - ETA: 0s - loss: 0.1099 - acc: 0.970 - ETA: 0s - loss: 0.1081 - acc: 0.971 - ETA: 0s - loss: 0.1063 - acc: 0.972 - ETA: 0s - loss: 0.1035 - acc: 0.972 - ETA: 0s - loss: 0.1033 - acc: 0.973 - ETA: 0s - loss: 0.1030 - acc: 0.972 - ETA: 0s - loss: 0.1050 - acc: 0.972 - ETA: 0s - loss: 0.1046 - acc: 0.972 - ETA: 0s - loss: 0.1049 - acc: 0.971 - ETA: 0s - loss: 0.1028 - acc: 0.972 - ETA: 0s - loss: 0.1020 - acc: 0.973 - 2s 359us/sample - loss: 0.1010 - acc: 0.9732 - val_loss: 0.1005 - val_acc: 0.9642\n",
      "Epoch 4/5\n",
      "4519/4519 [==============================] - ETA: 1s - loss: 0.0191 - acc: 1.000 - ETA: 1s - loss: 0.0554 - acc: 0.984 - ETA: 1s - loss: 0.0450 - acc: 0.988 - ETA: 1s - loss: 0.0500 - acc: 0.985 - ETA: 1s - loss: 0.0512 - acc: 0.985 - ETA: 1s - loss: 0.0495 - acc: 0.985 - ETA: 1s - loss: 0.0472 - acc: 0.986 - ETA: 1s - loss: 0.0471 - acc: 0.987 - ETA: 1s - loss: 0.0463 - acc: 0.987 - ETA: 0s - loss: 0.0602 - acc: 0.987 - ETA: 0s - loss: 0.0637 - acc: 0.985 - ETA: 0s - loss: 0.0607 - acc: 0.986 - ETA: 0s - loss: 0.0599 - acc: 0.986 - ETA: 0s - loss: 0.0571 - acc: 0.987 - ETA: 0s - loss: 0.0574 - acc: 0.986 - ETA: 0s - loss: 0.0578 - acc: 0.986 - ETA: 0s - loss: 0.0597 - acc: 0.986 - ETA: 0s - loss: 0.0593 - acc: 0.986 - ETA: 0s - loss: 0.0597 - acc: 0.986 - ETA: 0s - loss: 0.0581 - acc: 0.986 - ETA: 0s - loss: 0.0586 - acc: 0.987 - ETA: 0s - loss: 0.0576 - acc: 0.986 - ETA: 0s - loss: 0.0560 - acc: 0.987 - ETA: 0s - loss: 0.0570 - acc: 0.986 - ETA: 0s - loss: 0.0565 - acc: 0.986 - ETA: 0s - loss: 0.0568 - acc: 0.986 - 2s 350us/sample - loss: 0.0565 - acc: 0.9869 - val_loss: 0.0957 - val_acc: 0.9672\n",
      "Epoch 5/5\n",
      "4519/4519 [==============================] - ETA: 1s - loss: 0.1313 - acc: 0.968 - ETA: 1s - loss: 0.0415 - acc: 0.991 - ETA: 1s - loss: 0.0395 - acc: 0.988 - ETA: 1s - loss: 0.0352 - acc: 0.992 - ETA: 1s - loss: 0.0364 - acc: 0.990 - ETA: 1s - loss: 0.0352 - acc: 0.991 - ETA: 1s - loss: 0.0342 - acc: 0.991 - ETA: 0s - loss: 0.0331 - acc: 0.991 - ETA: 0s - loss: 0.0311 - acc: 0.992 - ETA: 0s - loss: 0.0315 - acc: 0.992 - ETA: 0s - loss: 0.0306 - acc: 0.993 - ETA: 0s - loss: 0.0321 - acc: 0.992 - ETA: 0s - loss: 0.0310 - acc: 0.992 - ETA: 0s - loss: 0.0315 - acc: 0.992 - ETA: 0s - loss: 0.0332 - acc: 0.991 - ETA: 0s - loss: 0.0323 - acc: 0.991 - ETA: 0s - loss: 0.0327 - acc: 0.991 - ETA: 0s - loss: 0.0322 - acc: 0.991 - ETA: 0s - loss: 0.0333 - acc: 0.991 - ETA: 0s - loss: 0.0323 - acc: 0.991 - ETA: 0s - loss: 0.0316 - acc: 0.991 - ETA: 0s - loss: 0.0319 - acc: 0.992 - ETA: 0s - loss: 0.0319 - acc: 0.991 - ETA: 0s - loss: 0.0378 - acc: 0.991 - ETA: 0s - loss: 0.0373 - acc: 0.991 - ETA: 0s - loss: 0.0372 - acc: 0.991 - 2s 342us/sample - loss: 0.0368 - acc: 0.9919 - val_loss: 0.0880 - val_acc: 0.9715\n",
      "1507/1507 [==============================] - ETA: 0s - loss: 0.2585 - acc: 0.968 - ETA: 0s - loss: 0.1392 - acc: 0.961 - ETA: 0s - loss: 0.1073 - acc: 0.967 - ETA: 0s - loss: 0.0885 - acc: 0.971 - 0s 120us/sample - loss: 0.0880 - acc: 0.9715\n",
      "Test accuracy: 0.9714665\n"
     ]
    },
    {
     "data": {
      "image/png": "[encoded data removed]",
      "text/plain": [
       "<Figure size 432x360 with 1 Axes>"
      ]
     },
     "metadata": {
      "needs_background": "light"
     },
     "output_type": "display_data"
    }
   ],
   "source": [
    "model.compile(optimizer='adam', \n",
    "              loss='binary_crossentropy',\n",
    "              metrics=['accuracy'])\n",
    "\n",
    "history = model.fit(up_X_train,\n",
    "          pd.get_dummies(up_y_train),\n",
    "          epochs=5,\n",
    "          validation_data=(up_X_test, pd.get_dummies(up_y_test))\n",
    "         )\n",
    "plot_loss(history)\n",
    "test_loss, test_acc = model.evaluate(up_X_test, pd.get_dummies(up_y_test))\n",
    "print('Test accuracy:', test_acc)"
   ]
  },
  {
   "cell_type": "code",
   "execution_count": 25,
   "metadata": {
    "ExecuteTime": {
     "end_time": "2019-08-07T05:56:34.818571Z",
     "start_time": "2019-08-07T05:56:34.256774Z"
    }
   },
   "outputs": [
    {
     "name": "stdout",
     "output_type": "stream",
     "text": [
      "전체채팅수1507, 유해채팅수792\n"
     ]
    },
    {
     "data": {
      "text/html": [
       "<div>\n",
       "<style scoped>\n",
       "    .dataframe tbody tr th:only-of-type {\n",
       "        vertical-align: middle;\n",
       "    }\n",
       "\n",
       "    .dataframe tbody tr th {\n",
       "        vertical-align: top;\n",
       "    }\n",
       "\n",
       "    .dataframe thead th {\n",
       "        text-align: right;\n",
       "    }\n",
       "</style>\n",
       "<table border=\"1\" class=\"dataframe\">\n",
       "  <thead>\n",
       "    <tr style=\"text-align: right;\">\n",
       "      <th></th>\n",
       "      <th>0</th>\n",
       "      <th>predict</th>\n",
       "    </tr>\n",
       "  </thead>\n",
       "  <tbody>\n",
       "    <tr>\n",
       "      <th>2</th>\n",
       "      <td>목소리/Noun 레알/Noun 극/Modifier 혐/Noun 이네/Josa &lt;PA...</td>\n",
       "      <td>0.995990</td>\n",
       "    </tr>\n",
       "    <tr>\n",
       "      <th>5</th>\n",
       "      <td>ㅄ/KoreanParticle 아/Exclamation &lt;PAD&gt; &lt;PAD&gt; &lt;PA...</td>\n",
       "      <td>0.965248</td>\n",
       "    </tr>\n",
       "    <tr>\n",
       "      <th>6</th>\n",
       "      <td>딸/Noun 휴지/Noun 도/Josa 안/VerbPrefix 버리지/Verb 씹힐...</td>\n",
       "      <td>0.999542</td>\n",
       "    </tr>\n",
       "    <tr>\n",
       "      <th>12</th>\n",
       "      <td>강간/Noun ?/Punctuation &lt;PAD&gt; &lt;PAD&gt; &lt;PAD&gt; &lt;PAD&gt; ...</td>\n",
       "      <td>0.994901</td>\n",
       "    </tr>\n",
       "    <tr>\n",
       "      <th>14</th>\n",
       "      <td>야/Exclamation &lt;PAD&gt; &lt;PAD&gt; &lt;PAD&gt; &lt;PAD&gt; &lt;PAD&gt; &lt;P...</td>\n",
       "      <td>0.969343</td>\n",
       "    </tr>\n",
       "    <tr>\n",
       "      <th>15</th>\n",
       "      <td>브베/Noun 오빠/Suffix 로리콘/Noun 이라는/Josa 게/Noun 사실/...</td>\n",
       "      <td>0.996561</td>\n",
       "    </tr>\n",
       "    <tr>\n",
       "      <th>17</th>\n",
       "      <td>언/Modifier 팔로우/Noun ㄱ/KoreanParticle &lt;PAD&gt; &lt;PA...</td>\n",
       "      <td>0.998938</td>\n",
       "    </tr>\n",
       "    <tr>\n",
       "      <th>22</th>\n",
       "      <td>창석/Noun 이/Determiner 붕알/Noun 냄새/Noun 맞고/Verb 파...</td>\n",
       "      <td>0.999427</td>\n",
       "    </tr>\n",
       "    <tr>\n",
       "      <th>26</th>\n",
       "      <td>어/Noun 아/Josa &lt;PAD&gt; &lt;PAD&gt; &lt;PAD&gt; &lt;PAD&gt; &lt;PAD&gt; &lt;P...</td>\n",
       "      <td>0.996996</td>\n",
       "    </tr>\n",
       "    <tr>\n",
       "      <th>27</th>\n",
       "      <td>600초/Number 고맙다/Adjective 이/Noun 빡/Noun 대가리/No...</td>\n",
       "      <td>0.999657</td>\n",
       "    </tr>\n",
       "  </tbody>\n",
       "</table>\n",
       "</div>"
      ],
      "text/plain": [
       "                                                    0   predict\n",
       "2   목소리/Noun 레알/Noun 극/Modifier 혐/Noun 이네/Josa <PA...  0.995990\n",
       "5   ㅄ/KoreanParticle 아/Exclamation <PAD> <PAD> <PA...  0.965248\n",
       "6   딸/Noun 휴지/Noun 도/Josa 안/VerbPrefix 버리지/Verb 씹힐...  0.999542\n",
       "12  강간/Noun ?/Punctuation <PAD> <PAD> <PAD> <PAD> ...  0.994901\n",
       "14  야/Exclamation <PAD> <PAD> <PAD> <PAD> <PAD> <P...  0.969343\n",
       "15  브베/Noun 오빠/Suffix 로리콘/Noun 이라는/Josa 게/Noun 사실/...  0.996561\n",
       "17  언/Modifier 팔로우/Noun ㄱ/KoreanParticle <PAD> <PA...  0.998938\n",
       "22  창석/Noun 이/Determiner 붕알/Noun 냄새/Noun 맞고/Verb 파...  0.999427\n",
       "26  어/Noun 아/Josa <PAD> <PAD> <PAD> <PAD> <PAD> <P...  0.996996\n",
       "27  600초/Number 고맙다/Adjective 이/Noun 빡/Noun 대가리/No...  0.999657"
      ]
     },
     "execution_count": 25,
     "metadata": {},
     "output_type": "execute_result"
    }
   ],
   "source": [
    "result = pd.DataFrame(np.apply_along_axis(index_to_text, 1, up_X_test))\n",
    "result['predict'] = model.predict_proba(up_X_test)[:,1] # 유해하다고 판별할 확률\n",
    "print('전체채팅수{}, 유해채팅수{}'.format(len(result),len(result[result.predict>0.5])))\n",
    "result[result.predict>0.5].head(10)"
   ]
  },
  {
   "cell_type": "code",
   "execution_count": 26,
   "metadata": {
    "ExecuteTime": {
     "end_time": "2019-08-07T05:56:34.890528Z",
     "start_time": "2019-08-07T05:56:34.827565Z"
    }
   },
   "outputs": [],
   "source": [
    "result.to_csv('../../data/cnn_result.csv', encoding='utf-16')"
   ]
  },
  {
   "cell_type": "markdown",
   "metadata": {},
   "source": [
    "## 분류 애매한 채팅들"
   ]
  },
  {
   "cell_type": "code",
   "execution_count": 31,
   "metadata": {
    "ExecuteTime": {
     "end_time": "2019-08-07T05:57:38.258303Z",
     "start_time": "2019-08-07T05:57:38.224322Z"
    }
   },
   "outputs": [
    {
     "data": {
      "text/html": [
       "<div>\n",
       "<style scoped>\n",
       "    .dataframe tbody tr th:only-of-type {\n",
       "        vertical-align: middle;\n",
       "    }\n",
       "\n",
       "    .dataframe tbody tr th {\n",
       "        vertical-align: top;\n",
       "    }\n",
       "\n",
       "    .dataframe thead th {\n",
       "        text-align: right;\n",
       "    }\n",
       "</style>\n",
       "<table border=\"1\" class=\"dataframe\">\n",
       "  <thead>\n",
       "    <tr style=\"text-align: right;\">\n",
       "      <th></th>\n",
       "      <th>0</th>\n",
       "      <th>predict</th>\n",
       "      <th>label</th>\n",
       "    </tr>\n",
       "  </thead>\n",
       "  <tbody>\n",
       "    <tr>\n",
       "      <th>19</th>\n",
       "      <td>넘어가지마라/Verb 애/Noun 들/Suffix 아/Josa &lt;PAD&gt; &lt;PAD&gt;...</td>\n",
       "      <td>0.346811</td>\n",
       "      <td>0</td>\n",
       "    </tr>\n",
       "    <tr>\n",
       "      <th>85</th>\n",
       "      <td>브베/Noun 야/Josa 너/Noun 는/Josa 돈/Noun 을/Josa 밝히지...</td>\n",
       "      <td>0.537450</td>\n",
       "      <td>0</td>\n",
       "    </tr>\n",
       "    <tr>\n",
       "      <th>94</th>\n",
       "      <td>자꾸/Noun 귀/Modifier 신/Modifier 귀/Modifier 신/Mod...</td>\n",
       "      <td>0.336370</td>\n",
       "      <td>0</td>\n",
       "    </tr>\n",
       "    <tr>\n",
       "      <th>96</th>\n",
       "      <td>쉰/Noun 고/Josa 한번/Noun 씩/Suffix 해/Noun 라/Josa 얘...</td>\n",
       "      <td>0.389529</td>\n",
       "      <td>0</td>\n",
       "    </tr>\n",
       "    <tr>\n",
       "      <th>161</th>\n",
       "      <td>예/Modifier 달/Noun 아/Josa &lt;PAD&gt; &lt;PAD&gt; &lt;PAD&gt; &lt;PA...</td>\n",
       "      <td>0.491893</td>\n",
       "      <td>0</td>\n",
       "    </tr>\n",
       "    <tr>\n",
       "      <th>299</th>\n",
       "      <td>후식/Noun 을/Josa 쌓아놓고/Verb 먹네/Verb ~/Punctuation...</td>\n",
       "      <td>0.505588</td>\n",
       "      <td>0</td>\n",
       "    </tr>\n",
       "    <tr>\n",
       "      <th>342</th>\n",
       "      <td>이/Determiner 거/Noun 브베/Noun 이야/Josa 기아니냐/Verb ...</td>\n",
       "      <td>0.430702</td>\n",
       "      <td>0</td>\n",
       "    </tr>\n",
       "    <tr>\n",
       "      <th>356</th>\n",
       "      <td>그저/Adverb 미애/Noun 작/Noun &lt;PAD&gt; &lt;PAD&gt; &lt;PAD&gt; &lt;PA...</td>\n",
       "      <td>0.421763</td>\n",
       "      <td>0</td>\n",
       "    </tr>\n",
       "    <tr>\n",
       "      <th>454</th>\n",
       "      <td>-/Punctuation _-/Punctuation &lt;PAD&gt; &lt;PAD&gt; &lt;PAD&gt;...</td>\n",
       "      <td>0.346352</td>\n",
       "      <td>0</td>\n",
       "    </tr>\n",
       "    <tr>\n",
       "      <th>533</th>\n",
       "      <td>저/Noun 게/Josa 뭔/Modifier 이상한말이야/Adjective &lt;PAD...</td>\n",
       "      <td>0.324425</td>\n",
       "      <td>0</td>\n",
       "    </tr>\n",
       "    <tr>\n",
       "      <th>549</th>\n",
       "      <td>He/Alpha LOVE/Alpha pillow/Alpha He/Alpha LOVE...</td>\n",
       "      <td>0.500389</td>\n",
       "      <td>1</td>\n",
       "    </tr>\n",
       "    <tr>\n",
       "      <th>670</th>\n",
       "      <td>애/Noun 들/Suffix 아/Josa 좌표/Noun 찍었다/Verb &lt;PAD&gt; ...</td>\n",
       "      <td>0.458664</td>\n",
       "      <td>0</td>\n",
       "    </tr>\n",
       "    <tr>\n",
       "      <th>683</th>\n",
       "      <td>응/Noun 구라/Noun 야/Josa &lt;PAD&gt; &lt;PAD&gt; &lt;PAD&gt; &lt;PAD&gt; ...</td>\n",
       "      <td>0.305583</td>\n",
       "      <td>0</td>\n",
       "    </tr>\n",
       "    <tr>\n",
       "      <th>695</th>\n",
       "      <td>애/Noun 들/Suffix 아/Josa &lt;PAD&gt; &lt;PAD&gt; &lt;PAD&gt; &lt;PAD&gt;...</td>\n",
       "      <td>0.571082</td>\n",
       "      <td>0</td>\n",
       "    </tr>\n",
       "    <tr>\n",
       "      <th>987</th>\n",
       "      <td>오늘/Noun 도/Josa 아이작/Noun ?/Punctuation &lt;PAD&gt; &lt;P...</td>\n",
       "      <td>0.496578</td>\n",
       "      <td>0</td>\n",
       "    </tr>\n",
       "    <tr>\n",
       "      <th>1007</th>\n",
       "      <td>아웃/Noun 라/Josa 으/Adverb 트/Noun ㄱ/KoreanParticl...</td>\n",
       "      <td>0.406733</td>\n",
       "      <td>0</td>\n",
       "    </tr>\n",
       "    <tr>\n",
       "      <th>1013</th>\n",
       "      <td>나이/Noun 샤/Noun &lt;PAD&gt; &lt;PAD&gt; &lt;PAD&gt; &lt;PAD&gt; &lt;PAD&gt; &lt;...</td>\n",
       "      <td>0.352478</td>\n",
       "      <td>0</td>\n",
       "    </tr>\n",
       "    <tr>\n",
       "      <th>1113</th>\n",
       "      <td>He/Alpha LOVE/Alpha pillow/Alpha He/Alpha LOVE...</td>\n",
       "      <td>0.500389</td>\n",
       "      <td>1</td>\n",
       "    </tr>\n",
       "    <tr>\n",
       "      <th>1131</th>\n",
       "      <td>요술/Noun 가루/Noun &lt;PAD&gt; &lt;PAD&gt; &lt;PAD&gt; &lt;PAD&gt; &lt;PAD&gt; ...</td>\n",
       "      <td>0.312250</td>\n",
       "      <td>0</td>\n",
       "    </tr>\n",
       "    <tr>\n",
       "      <th>1139</th>\n",
       "      <td>아이작/Noun 노잼/Noun 이야/Josa 다른/Modifier 겜/Noun 좀하...</td>\n",
       "      <td>0.534371</td>\n",
       "      <td>0</td>\n",
       "    </tr>\n",
       "    <tr>\n",
       "      <th>1288</th>\n",
       "      <td>와/Verb 다/Adverb 밴해/Verb 버리네/Verb &lt;PAD&gt; &lt;PAD&gt; &lt;...</td>\n",
       "      <td>0.463497</td>\n",
       "      <td>0</td>\n",
       "    </tr>\n",
       "    <tr>\n",
       "      <th>1345</th>\n",
       "      <td>He/Alpha LOVE/Alpha pillow/Alpha He/Alpha LOVE...</td>\n",
       "      <td>0.500389</td>\n",
       "      <td>1</td>\n",
       "    </tr>\n",
       "    <tr>\n",
       "      <th>1354</th>\n",
       "      <td>눈빛/Noun 살벌하다/Adjective &lt;PAD&gt; &lt;PAD&gt; &lt;PAD&gt; &lt;PAD&gt;...</td>\n",
       "      <td>0.347638</td>\n",
       "      <td>0</td>\n",
       "    </tr>\n",
       "    <tr>\n",
       "      <th>1419</th>\n",
       "      <td>욕/Noun 하/Suffix 지미/Noun &lt;PAD&gt; &lt;PAD&gt; &lt;PAD&gt; &lt;PAD...</td>\n",
       "      <td>0.359876</td>\n",
       "      <td>0</td>\n",
       "    </tr>\n",
       "    <tr>\n",
       "      <th>1423</th>\n",
       "      <td>애/Noun 들/Suffix 아/Josa &lt;PAD&gt; &lt;PAD&gt; &lt;PAD&gt; &lt;PAD&gt;...</td>\n",
       "      <td>0.571082</td>\n",
       "      <td>0</td>\n",
       "    </tr>\n",
       "  </tbody>\n",
       "</table>\n",
       "</div>"
      ],
      "text/plain": [
       "                                                      0   predict  label\n",
       "19    넘어가지마라/Verb 애/Noun 들/Suffix 아/Josa <PAD> <PAD>...  0.346811      0\n",
       "85    브베/Noun 야/Josa 너/Noun 는/Josa 돈/Noun 을/Josa 밝히지...  0.537450      0\n",
       "94    자꾸/Noun 귀/Modifier 신/Modifier 귀/Modifier 신/Mod...  0.336370      0\n",
       "96    쉰/Noun 고/Josa 한번/Noun 씩/Suffix 해/Noun 라/Josa 얘...  0.389529      0\n",
       "161   예/Modifier 달/Noun 아/Josa <PAD> <PAD> <PAD> <PA...  0.491893      0\n",
       "299   후식/Noun 을/Josa 쌓아놓고/Verb 먹네/Verb ~/Punctuation...  0.505588      0\n",
       "342   이/Determiner 거/Noun 브베/Noun 이야/Josa 기아니냐/Verb ...  0.430702      0\n",
       "356   그저/Adverb 미애/Noun 작/Noun <PAD> <PAD> <PAD> <PA...  0.421763      0\n",
       "454   -/Punctuation _-/Punctuation <PAD> <PAD> <PAD>...  0.346352      0\n",
       "533   저/Noun 게/Josa 뭔/Modifier 이상한말이야/Adjective <PAD...  0.324425      0\n",
       "549   He/Alpha LOVE/Alpha pillow/Alpha He/Alpha LOVE...  0.500389      1\n",
       "670   애/Noun 들/Suffix 아/Josa 좌표/Noun 찍었다/Verb <PAD> ...  0.458664      0\n",
       "683   응/Noun 구라/Noun 야/Josa <PAD> <PAD> <PAD> <PAD> ...  0.305583      0\n",
       "695   애/Noun 들/Suffix 아/Josa <PAD> <PAD> <PAD> <PAD>...  0.571082      0\n",
       "987   오늘/Noun 도/Josa 아이작/Noun ?/Punctuation <PAD> <P...  0.496578      0\n",
       "1007  아웃/Noun 라/Josa 으/Adverb 트/Noun ㄱ/KoreanParticl...  0.406733      0\n",
       "1013  나이/Noun 샤/Noun <PAD> <PAD> <PAD> <PAD> <PAD> <...  0.352478      0\n",
       "1113  He/Alpha LOVE/Alpha pillow/Alpha He/Alpha LOVE...  0.500389      1\n",
       "1131  요술/Noun 가루/Noun <PAD> <PAD> <PAD> <PAD> <PAD> ...  0.312250      0\n",
       "1139  아이작/Noun 노잼/Noun 이야/Josa 다른/Modifier 겜/Noun 좀하...  0.534371      0\n",
       "1288  와/Verb 다/Adverb 밴해/Verb 버리네/Verb <PAD> <PAD> <...  0.463497      0\n",
       "1345  He/Alpha LOVE/Alpha pillow/Alpha He/Alpha LOVE...  0.500389      1\n",
       "1354  눈빛/Noun 살벌하다/Adjective <PAD> <PAD> <PAD> <PAD>...  0.347638      0\n",
       "1419  욕/Noun 하/Suffix 지미/Noun <PAD> <PAD> <PAD> <PAD...  0.359876      0\n",
       "1423  애/Noun 들/Suffix 아/Josa <PAD> <PAD> <PAD> <PAD>...  0.571082      0"
      ]
     },
     "execution_count": 31,
     "metadata": {},
     "output_type": "execute_result"
    }
   ],
   "source": [
    "result[(result.predict>0.3) & (result.predict<0.6)]"
   ]
  },
  {
   "cell_type": "markdown",
   "metadata": {},
   "source": [
    "### 예측 실패한 채팅들"
   ]
  },
  {
   "cell_type": "code",
   "execution_count": 28,
   "metadata": {
    "ExecuteTime": {
     "end_time": "2019-08-07T05:56:35.112436Z",
     "start_time": "2019-08-07T05:56:34.966503Z"
    }
   },
   "outputs": [
    {
     "data": {
      "text/html": [
       "<div>\n",
       "<style scoped>\n",
       "    .dataframe tbody tr th:only-of-type {\n",
       "        vertical-align: middle;\n",
       "    }\n",
       "\n",
       "    .dataframe tbody tr th {\n",
       "        vertical-align: top;\n",
       "    }\n",
       "\n",
       "    .dataframe thead th {\n",
       "        text-align: right;\n",
       "    }\n",
       "</style>\n",
       "<table border=\"1\" class=\"dataframe\">\n",
       "  <thead>\n",
       "    <tr style=\"text-align: right;\">\n",
       "      <th></th>\n",
       "      <th>0</th>\n",
       "      <th>predict</th>\n",
       "      <th>label</th>\n",
       "    </tr>\n",
       "  </thead>\n",
       "  <tbody>\n",
       "    <tr>\n",
       "      <th>17</th>\n",
       "      <td>언/Modifier 팔로우/Noun ㄱ/KoreanParticle &lt;PAD&gt; &lt;PA...</td>\n",
       "      <td>0.998938</td>\n",
       "      <td>0</td>\n",
       "    </tr>\n",
       "    <tr>\n",
       "      <th>39</th>\n",
       "      <td>요술/Noun 요술/Noun &lt;PAD&gt; &lt;PAD&gt; &lt;PAD&gt; &lt;PAD&gt; &lt;PAD&gt; ...</td>\n",
       "      <td>0.920191</td>\n",
       "      <td>0</td>\n",
       "    </tr>\n",
       "    <tr>\n",
       "      <th>52</th>\n",
       "      <td>브베/Noun 배/Noun 빵빵/Noun 미애/Noun 발/Noun 로/Josa 빵...</td>\n",
       "      <td>0.967821</td>\n",
       "      <td>0</td>\n",
       "    </tr>\n",
       "    <tr>\n",
       "      <th>69</th>\n",
       "      <td>뎀/Noun 지/Josa 실화/Noun 냐/Josa ㅕ/KoreanParticle ...</td>\n",
       "      <td>0.654488</td>\n",
       "      <td>0</td>\n",
       "    </tr>\n",
       "    <tr>\n",
       "      <th>85</th>\n",
       "      <td>브베/Noun 야/Josa 너/Noun 는/Josa 돈/Noun 을/Josa 밝히지...</td>\n",
       "      <td>0.537450</td>\n",
       "      <td>0</td>\n",
       "    </tr>\n",
       "    <tr>\n",
       "      <th>111</th>\n",
       "      <td>진짜/Noun 톰크루즈/Noun 인지/Noun 아/Josa 나/Noun ㅄ/Kore...</td>\n",
       "      <td>0.993719</td>\n",
       "      <td>0</td>\n",
       "    </tr>\n",
       "    <tr>\n",
       "      <th>161</th>\n",
       "      <td>예/Modifier 달/Noun 아/Josa &lt;PAD&gt; &lt;PAD&gt; &lt;PAD&gt; &lt;PA...</td>\n",
       "      <td>0.491893</td>\n",
       "      <td>0</td>\n",
       "    </tr>\n",
       "    <tr>\n",
       "      <th>268</th>\n",
       "      <td>통/Noun 아/Josa 저/Determiner 시씨/Noun 닮았다고/Verb &lt;...</td>\n",
       "      <td>0.946934</td>\n",
       "      <td>0</td>\n",
       "    </tr>\n",
       "    <tr>\n",
       "      <th>269</th>\n",
       "      <td>야/Exclamation 브베/Noun 야/Josa &lt;PAD&gt; &lt;PAD&gt; &lt;PAD&gt;...</td>\n",
       "      <td>0.992179</td>\n",
       "      <td>0</td>\n",
       "    </tr>\n",
       "    <tr>\n",
       "      <th>285</th>\n",
       "      <td>참회/Noun 해라/Verb 창석/Noun 아/Josa &lt;PAD&gt; &lt;PAD&gt; &lt;PA...</td>\n",
       "      <td>0.798551</td>\n",
       "      <td>0</td>\n",
       "    </tr>\n",
       "    <tr>\n",
       "      <th>299</th>\n",
       "      <td>후식/Noun 을/Josa 쌓아놓고/Verb 먹네/Verb ~/Punctuation...</td>\n",
       "      <td>0.505588</td>\n",
       "      <td>0</td>\n",
       "    </tr>\n",
       "    <tr>\n",
       "      <th>335</th>\n",
       "      <td>브베/Noun 야/Josa 또/Noun 속/Noun 니/Josa &lt;PAD&gt; &lt;PAD...</td>\n",
       "      <td>0.834968</td>\n",
       "      <td>0</td>\n",
       "    </tr>\n",
       "    <tr>\n",
       "      <th>346</th>\n",
       "      <td>자꾸/Noun 서버/Noun 시카고/Noun 로/Josa 잡히네/Verb 짜증나/A...</td>\n",
       "      <td>0.950497</td>\n",
       "      <td>0</td>\n",
       "    </tr>\n",
       "    <tr>\n",
       "      <th>368</th>\n",
       "      <td>돈/Noun 벌어서/Verb 머리/Noun 좀/Noun 심자/Verb 흥건/Noun...</td>\n",
       "      <td>0.863631</td>\n",
       "      <td>0</td>\n",
       "    </tr>\n",
       "    <tr>\n",
       "      <th>430</th>\n",
       "      <td>방송/Noun 이/Josa 하는건/Verb 없는데/Adjective 묘/Noun 하...</td>\n",
       "      <td>0.911556</td>\n",
       "      <td>0</td>\n",
       "    </tr>\n",
       "    <tr>\n",
       "      <th>433</th>\n",
       "      <td>정신병/Noun 자/Suffix 새끼/Noun &lt;PAD&gt; &lt;PAD&gt; &lt;PAD&gt; &lt;P...</td>\n",
       "      <td>0.997602</td>\n",
       "      <td>0</td>\n",
       "    </tr>\n",
       "    <tr>\n",
       "      <th>446</th>\n",
       "      <td>브베/Noun 야/Josa 너/Noun 친구/Noun 있냐/Adjective ?/P...</td>\n",
       "      <td>0.887767</td>\n",
       "      <td>0</td>\n",
       "    </tr>\n",
       "    <tr>\n",
       "      <th>452</th>\n",
       "      <td>창석/Noun 이/Determiner 붕알/Noun 냄새/Noun 맞고시/Verb ...</td>\n",
       "      <td>0.999444</td>\n",
       "      <td>0</td>\n",
       "    </tr>\n",
       "    <tr>\n",
       "      <th>473</th>\n",
       "      <td>바쁘시다면/Adjective 나중/Noun 에/Josa 다시/Noun 연락/Noun...</td>\n",
       "      <td>0.735845</td>\n",
       "      <td>0</td>\n",
       "    </tr>\n",
       "    <tr>\n",
       "      <th>508</th>\n",
       "      <td>6/Number &lt;PAD&gt; &lt;PAD&gt; &lt;PAD&gt; &lt;PAD&gt; &lt;PAD&gt; &lt;PAD&gt; &lt;...</td>\n",
       "      <td>0.898703</td>\n",
       "      <td>0</td>\n",
       "    </tr>\n",
       "    <tr>\n",
       "      <th>511</th>\n",
       "      <td>치질/Noun &lt;PAD&gt; &lt;PAD&gt; &lt;PAD&gt; &lt;PAD&gt; &lt;PAD&gt; &lt;PAD&gt; &lt;P...</td>\n",
       "      <td>0.933657</td>\n",
       "      <td>0</td>\n",
       "    </tr>\n",
       "    <tr>\n",
       "      <th>549</th>\n",
       "      <td>He/Alpha LOVE/Alpha pillow/Alpha He/Alpha LOVE...</td>\n",
       "      <td>0.500389</td>\n",
       "      <td>1</td>\n",
       "    </tr>\n",
       "    <tr>\n",
       "      <th>569</th>\n",
       "      <td>너무/Adverb 노잼/Noun 이야/Josa 브베/Noun 야/Josa &lt;PAD&gt;...</td>\n",
       "      <td>0.979602</td>\n",
       "      <td>0</td>\n",
       "    </tr>\n",
       "    <tr>\n",
       "      <th>695</th>\n",
       "      <td>애/Noun 들/Suffix 아/Josa &lt;PAD&gt; &lt;PAD&gt; &lt;PAD&gt; &lt;PAD&gt;...</td>\n",
       "      <td>0.571082</td>\n",
       "      <td>0</td>\n",
       "    </tr>\n",
       "    <tr>\n",
       "      <th>723</th>\n",
       "      <td>브베/Noun 님/Suffix 자녀/Noun 가/Josa 몇/Modifier 살이/...</td>\n",
       "      <td>0.659399</td>\n",
       "      <td>0</td>\n",
       "    </tr>\n",
       "    <tr>\n",
       "      <th>771</th>\n",
       "      <td>애/Noun 들/Suffix 아/Josa 사칭/Noun 조지/Noun 자/Suffi...</td>\n",
       "      <td>0.681654</td>\n",
       "      <td>0</td>\n",
       "    </tr>\n",
       "    <tr>\n",
       "      <th>804</th>\n",
       "      <td>브베/Noun 야/Josa 너/Noun 친구/Noun 있냐/Adjective &lt;PA...</td>\n",
       "      <td>0.886950</td>\n",
       "      <td>0</td>\n",
       "    </tr>\n",
       "    <tr>\n",
       "      <th>839</th>\n",
       "      <td>터프하/Noun 다/Josa &lt;PAD&gt; &lt;PAD&gt; &lt;PAD&gt; &lt;PAD&gt; &lt;PAD&gt; ...</td>\n",
       "      <td>0.875642</td>\n",
       "      <td>0</td>\n",
       "    </tr>\n",
       "    <tr>\n",
       "      <th>859</th>\n",
       "      <td>발/Noun &lt;PAD&gt; &lt;PAD&gt; &lt;PAD&gt; &lt;PAD&gt; &lt;PAD&gt; &lt;PAD&gt; &lt;PA...</td>\n",
       "      <td>0.752374</td>\n",
       "      <td>0</td>\n",
       "    </tr>\n",
       "    <tr>\n",
       "      <th>885</th>\n",
       "      <td>창석/Noun 이/Noun 님/Suffix xxxtention/Alpha 아/Exc...</td>\n",
       "      <td>0.781190</td>\n",
       "      <td>0</td>\n",
       "    </tr>\n",
       "    <tr>\n",
       "      <th>890</th>\n",
       "      <td>기호/Noun 1/Number 번/Noun 해명/Noun 해라/Verb 이기/Nou...</td>\n",
       "      <td>0.974273</td>\n",
       "      <td>0</td>\n",
       "    </tr>\n",
       "    <tr>\n",
       "      <th>926</th>\n",
       "      <td>기분/Noun 딱/Modifier 조/Modifier 타/Noun &lt;PAD&gt; &lt;PA...</td>\n",
       "      <td>0.995367</td>\n",
       "      <td>0</td>\n",
       "    </tr>\n",
       "    <tr>\n",
       "      <th>938</th>\n",
       "      <td>인사/Noun 도/Josa 안/VerbPrefix 할래/Verb &lt;PAD&gt; &lt;PAD...</td>\n",
       "      <td>0.931726</td>\n",
       "      <td>0</td>\n",
       "    </tr>\n",
       "    <tr>\n",
       "      <th>1099</th>\n",
       "      <td>욕먹는건/Verb 기분/Noun 안좋/Adjective 자/Noun 나/Josa &lt;...</td>\n",
       "      <td>0.662830</td>\n",
       "      <td>0</td>\n",
       "    </tr>\n",
       "    <tr>\n",
       "      <th>1104</th>\n",
       "      <td>미/Adjective &lt;PAD&gt; &lt;PAD&gt; &lt;PAD&gt; &lt;PAD&gt; &lt;PAD&gt; &lt;PAD...</td>\n",
       "      <td>0.637538</td>\n",
       "      <td>0</td>\n",
       "    </tr>\n",
       "    <tr>\n",
       "      <th>1113</th>\n",
       "      <td>He/Alpha LOVE/Alpha pillow/Alpha He/Alpha LOVE...</td>\n",
       "      <td>0.500389</td>\n",
       "      <td>1</td>\n",
       "    </tr>\n",
       "    <tr>\n",
       "      <th>1139</th>\n",
       "      <td>아이작/Noun 노잼/Noun 이야/Josa 다른/Modifier 겜/Noun 좀하...</td>\n",
       "      <td>0.534371</td>\n",
       "      <td>0</td>\n",
       "    </tr>\n",
       "    <tr>\n",
       "      <th>1235</th>\n",
       "      <td>브베/Noun 야/Josa 내/Determiner 말/Noun 들리니/Verb &lt;P...</td>\n",
       "      <td>0.962032</td>\n",
       "      <td>0</td>\n",
       "    </tr>\n",
       "    <tr>\n",
       "      <th>1271</th>\n",
       "      <td>호구/Noun 조사/Noun 들어가는/Verb 날/Noun 이다/Josa &lt;PAD&gt;...</td>\n",
       "      <td>0.660178</td>\n",
       "      <td>0</td>\n",
       "    </tr>\n",
       "    <tr>\n",
       "      <th>1345</th>\n",
       "      <td>He/Alpha LOVE/Alpha pillow/Alpha He/Alpha LOVE...</td>\n",
       "      <td>0.500389</td>\n",
       "      <td>1</td>\n",
       "    </tr>\n",
       "    <tr>\n",
       "      <th>1423</th>\n",
       "      <td>애/Noun 들/Suffix 아/Josa &lt;PAD&gt; &lt;PAD&gt; &lt;PAD&gt; &lt;PAD&gt;...</td>\n",
       "      <td>0.571082</td>\n",
       "      <td>0</td>\n",
       "    </tr>\n",
       "    <tr>\n",
       "      <th>1437</th>\n",
       "      <td>창석/Noun 아/Josa &lt;PAD&gt; &lt;PAD&gt; &lt;PAD&gt; &lt;PAD&gt; &lt;PAD&gt; &lt;...</td>\n",
       "      <td>0.708203</td>\n",
       "      <td>0</td>\n",
       "    </tr>\n",
       "    <tr>\n",
       "      <th>1438</th>\n",
       "      <td>스마트/Noun 컴/Noun ?/Punctuation &lt;PAD&gt; &lt;PAD&gt; &lt;PAD...</td>\n",
       "      <td>0.843495</td>\n",
       "      <td>0</td>\n",
       "    </tr>\n",
       "    <tr>\n",
       "      <th>1449</th>\n",
       "      <td>그럼/Adjective 거울/Noun 봐/Verb &lt;PAD&gt; &lt;PAD&gt; &lt;PAD&gt; ...</td>\n",
       "      <td>0.896041</td>\n",
       "      <td>0</td>\n",
       "    </tr>\n",
       "    <tr>\n",
       "      <th>1501</th>\n",
       "      <td>아니이/Adjective 새긴/Verb 충고/Noun 해줘도/Verb 쳐/Verb ...</td>\n",
       "      <td>0.919631</td>\n",
       "      <td>0</td>\n",
       "    </tr>\n",
       "  </tbody>\n",
       "</table>\n",
       "</div>"
      ],
      "text/plain": [
       "                                                      0   predict  label\n",
       "17    언/Modifier 팔로우/Noun ㄱ/KoreanParticle <PAD> <PA...  0.998938      0\n",
       "39    요술/Noun 요술/Noun <PAD> <PAD> <PAD> <PAD> <PAD> ...  0.920191      0\n",
       "52    브베/Noun 배/Noun 빵빵/Noun 미애/Noun 발/Noun 로/Josa 빵...  0.967821      0\n",
       "69    뎀/Noun 지/Josa 실화/Noun 냐/Josa ㅕ/KoreanParticle ...  0.654488      0\n",
       "85    브베/Noun 야/Josa 너/Noun 는/Josa 돈/Noun 을/Josa 밝히지...  0.537450      0\n",
       "111   진짜/Noun 톰크루즈/Noun 인지/Noun 아/Josa 나/Noun ㅄ/Kore...  0.993719      0\n",
       "161   예/Modifier 달/Noun 아/Josa <PAD> <PAD> <PAD> <PA...  0.491893      0\n",
       "268   통/Noun 아/Josa 저/Determiner 시씨/Noun 닮았다고/Verb <...  0.946934      0\n",
       "269   야/Exclamation 브베/Noun 야/Josa <PAD> <PAD> <PAD>...  0.992179      0\n",
       "285   참회/Noun 해라/Verb 창석/Noun 아/Josa <PAD> <PAD> <PA...  0.798551      0\n",
       "299   후식/Noun 을/Josa 쌓아놓고/Verb 먹네/Verb ~/Punctuation...  0.505588      0\n",
       "335   브베/Noun 야/Josa 또/Noun 속/Noun 니/Josa <PAD> <PAD...  0.834968      0\n",
       "346   자꾸/Noun 서버/Noun 시카고/Noun 로/Josa 잡히네/Verb 짜증나/A...  0.950497      0\n",
       "368   돈/Noun 벌어서/Verb 머리/Noun 좀/Noun 심자/Verb 흥건/Noun...  0.863631      0\n",
       "430   방송/Noun 이/Josa 하는건/Verb 없는데/Adjective 묘/Noun 하...  0.911556      0\n",
       "433   정신병/Noun 자/Suffix 새끼/Noun <PAD> <PAD> <PAD> <P...  0.997602      0\n",
       "446   브베/Noun 야/Josa 너/Noun 친구/Noun 있냐/Adjective ?/P...  0.887767      0\n",
       "452   창석/Noun 이/Determiner 붕알/Noun 냄새/Noun 맞고시/Verb ...  0.999444      0\n",
       "473   바쁘시다면/Adjective 나중/Noun 에/Josa 다시/Noun 연락/Noun...  0.735845      0\n",
       "508   6/Number <PAD> <PAD> <PAD> <PAD> <PAD> <PAD> <...  0.898703      0\n",
       "511   치질/Noun <PAD> <PAD> <PAD> <PAD> <PAD> <PAD> <P...  0.933657      0\n",
       "549   He/Alpha LOVE/Alpha pillow/Alpha He/Alpha LOVE...  0.500389      1\n",
       "569   너무/Adverb 노잼/Noun 이야/Josa 브베/Noun 야/Josa <PAD>...  0.979602      0\n",
       "695   애/Noun 들/Suffix 아/Josa <PAD> <PAD> <PAD> <PAD>...  0.571082      0\n",
       "723   브베/Noun 님/Suffix 자녀/Noun 가/Josa 몇/Modifier 살이/...  0.659399      0\n",
       "771   애/Noun 들/Suffix 아/Josa 사칭/Noun 조지/Noun 자/Suffi...  0.681654      0\n",
       "804   브베/Noun 야/Josa 너/Noun 친구/Noun 있냐/Adjective <PA...  0.886950      0\n",
       "839   터프하/Noun 다/Josa <PAD> <PAD> <PAD> <PAD> <PAD> ...  0.875642      0\n",
       "859   발/Noun <PAD> <PAD> <PAD> <PAD> <PAD> <PAD> <PA...  0.752374      0\n",
       "885   창석/Noun 이/Noun 님/Suffix xxxtention/Alpha 아/Exc...  0.781190      0\n",
       "890   기호/Noun 1/Number 번/Noun 해명/Noun 해라/Verb 이기/Nou...  0.974273      0\n",
       "926   기분/Noun 딱/Modifier 조/Modifier 타/Noun <PAD> <PA...  0.995367      0\n",
       "938   인사/Noun 도/Josa 안/VerbPrefix 할래/Verb <PAD> <PAD...  0.931726      0\n",
       "1099  욕먹는건/Verb 기분/Noun 안좋/Adjective 자/Noun 나/Josa <...  0.662830      0\n",
       "1104  미/Adjective <PAD> <PAD> <PAD> <PAD> <PAD> <PAD...  0.637538      0\n",
       "1113  He/Alpha LOVE/Alpha pillow/Alpha He/Alpha LOVE...  0.500389      1\n",
       "1139  아이작/Noun 노잼/Noun 이야/Josa 다른/Modifier 겜/Noun 좀하...  0.534371      0\n",
       "1235  브베/Noun 야/Josa 내/Determiner 말/Noun 들리니/Verb <P...  0.962032      0\n",
       "1271  호구/Noun 조사/Noun 들어가는/Verb 날/Noun 이다/Josa <PAD>...  0.660178      0\n",
       "1345  He/Alpha LOVE/Alpha pillow/Alpha He/Alpha LOVE...  0.500389      1\n",
       "1423  애/Noun 들/Suffix 아/Josa <PAD> <PAD> <PAD> <PAD>...  0.571082      0\n",
       "1437  창석/Noun 아/Josa <PAD> <PAD> <PAD> <PAD> <PAD> <...  0.708203      0\n",
       "1438  스마트/Noun 컴/Noun ?/Punctuation <PAD> <PAD> <PAD...  0.843495      0\n",
       "1449  그럼/Adjective 거울/Noun 봐/Verb <PAD> <PAD> <PAD> ...  0.896041      0\n",
       "1501  아니이/Adjective 새긴/Verb 충고/Noun 해줘도/Verb 쳐/Verb ...  0.919631      0"
      ]
     },
     "execution_count": 28,
     "metadata": {},
     "output_type": "execute_result"
    }
   ],
   "source": [
    "result['label'] = up_y_test\n",
    "result[model.predict_classes(up_X_test) != up_y_test]"
   ]
  },
  {
   "cell_type": "markdown",
   "metadata": {},
   "source": [
    "# 시11111발 의 경우"
   ]
  },
  {
   "cell_type": "code",
   "execution_count": 29,
   "metadata": {
    "ExecuteTime": {
     "end_time": "2019-08-07T05:56:35.150415Z",
     "start_time": "2019-08-07T05:56:35.117434Z"
    }
   },
   "outputs": [
    {
     "name": "stdout",
     "output_type": "stream",
     "text": [
      "['시/Noun', '1111/Number', '발/Noun']\n"
     ]
    }
   ],
   "source": [
    "test_chat = \"시1111발\"\n",
    "test_id = text_to_index(morp.pos(test_chat, norm=True, join=True))\n",
    "print(morp.pos(test_chat, norm=True, join=True))\n",
    "sentence_size = 20\n",
    "x_padded = sequence.pad_sequences([test_id],\n",
    "                                 maxlen=sentence_size,\n",
    "                                 truncating='post',\n",
    "                                 padding='post',\n",
    "                                 value=pad_id)"
   ]
  },
  {
   "cell_type": "code",
   "execution_count": 30,
   "metadata": {
    "ExecuteTime": {
     "end_time": "2019-08-07T05:56:35.179545Z",
     "start_time": "2019-08-07T05:56:35.157558Z"
    }
   },
   "outputs": [
    {
     "data": {
      "text/plain": [
       "array([[0.26347563, 0.718801  ]], dtype=float32)"
      ]
     },
     "execution_count": 30,
     "metadata": {},
     "output_type": "execute_result"
    }
   ],
   "source": [
    "model.predict(x_padded)"
   ]
  },
  {
   "cell_type": "markdown",
   "metadata": {},
   "source": [
    "# TODO\n",
    "- 형태소별 Tokenize 말고 한글 자모별 Tokenize 하여 실험해보기\n",
    "- CNN layer / Parameter 변경시켜보기\n",
    "- 예측 결과 검정하기\n",
    "    - Attention 이용"
   ]
  }
 ],
 "metadata": {
  "kernelspec": {
   "display_name": "Python 3",
   "language": "python",
   "name": "python3"
  },
  "language_info": {
   "codemirror_mode": {
    "name": "ipython",
    "version": 3
   },
   "file_extension": ".py",
   "mimetype": "text/x-python",
   "name": "python",
   "nbconvert_exporter": "python",
   "pygments_lexer": "ipython3",
   "version": "3.7.3"
  }
 },
 "nbformat": 4,
 "nbformat_minor": 2
}
