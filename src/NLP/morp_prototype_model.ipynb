{
 "cells": [
  {
   "cell_type": "code",
   "execution_count": 1,
   "metadata": {
    "ExecuteTime": {
     "end_time": "2019-08-08T10:48:45.699693Z",
     "start_time": "2019-08-08T10:48:35.824288Z"
    }
   },
   "outputs": [
    {
     "name": "stdout",
     "output_type": "stream",
     "text": [
      "Chan 2019-08-08 \n",
      "\n",
      "CPython 3.7.3\n",
      "IPython 7.6.1\n",
      "\n",
      "numpy 1.16.4\n",
      "pandas 0.24.2\n",
      "sklearn 0.21.2\n",
      "konlpy 0.5.1\n",
      "tensorflow 1.13.1\n",
      "matplotlib 3.1.0\n",
      "imblearn 0.5.0\n"
     ]
    }
   ],
   "source": [
    "%load_ext watermark\n",
    "%watermark -a Chan -d -v -p numpy,pandas,sklearn,konlpy,tensorflow,matplotlib,imblearn"
   ]
  },
  {
   "cell_type": "code",
   "execution_count": 2,
   "metadata": {
    "ExecuteTime": {
     "end_time": "2019-08-08T10:48:46.231390Z",
     "start_time": "2019-08-08T10:48:45.705673Z"
    }
   },
   "outputs": [],
   "source": [
    "import numpy as np\n",
    "import pandas as pd\n",
    "from sklearn.model_selection import train_test_split\n",
    "from konlpy.tag import Okt\n",
    "import tensorflow as tf\n",
    "from tensorflow.python.keras.preprocessing import sequence\n",
    "from tensorflow import keras\n",
    "from tqdm import tqdm\n",
    "from collections import Counter\n",
    "from matplotlib import pyplot as plt\n",
    "import pickle"
   ]
  },
  {
   "cell_type": "markdown",
   "metadata": {},
   "source": [
    "# Load datasets"
   ]
  },
  {
   "cell_type": "code",
   "execution_count": 3,
   "metadata": {
    "ExecuteTime": {
     "end_time": "2019-08-08T10:48:46.447256Z",
     "start_time": "2019-08-08T10:48:46.237368Z"
    }
   },
   "outputs": [
    {
     "name": "stdout",
     "output_type": "stream",
     "text": [
      "1\n",
      "2\n",
      "3\n",
      "4\n"
     ]
    },
    {
     "data": {
      "text/html": [
       "<div>\n",
       "<style scoped>\n",
       "    .dataframe tbody tr th:only-of-type {\n",
       "        vertical-align: middle;\n",
       "    }\n",
       "\n",
       "    .dataframe tbody tr th {\n",
       "        vertical-align: top;\n",
       "    }\n",
       "\n",
       "    .dataframe thead th {\n",
       "        text-align: right;\n",
       "    }\n",
       "</style>\n",
       "<table border=\"1\" class=\"dataframe\">\n",
       "  <thead>\n",
       "    <tr style=\"text-align: right;\">\n",
       "      <th></th>\n",
       "      <th>chat</th>\n",
       "      <th>label</th>\n",
       "    </tr>\n",
       "  </thead>\n",
       "  <tbody>\n",
       "    <tr>\n",
       "      <th>0</th>\n",
       "      <td>자기잘못인거알면 중고딩도 먼저사과하는걸아는데</td>\n",
       "      <td>0</td>\n",
       "    </tr>\n",
       "    <tr>\n",
       "      <th>1</th>\n",
       "      <td>싹둑이 채팅창 관리 중입니다</td>\n",
       "      <td>0</td>\n",
       "    </tr>\n",
       "    <tr>\n",
       "      <th>2</th>\n",
       "      <td>싹둑이 채팅창 관리 중입니다</td>\n",
       "      <td>0</td>\n",
       "    </tr>\n",
       "    <tr>\n",
       "      <th>3</th>\n",
       "      <td>어제 어글 아직도 가? 개인적으로 사과하셨대 그만해 칭구들앙</td>\n",
       "      <td>0</td>\n",
       "    </tr>\n",
       "    <tr>\n",
       "      <th>4</th>\n",
       "      <td>케읍이 뭔데요 무슨사건있엇음?</td>\n",
       "      <td>0</td>\n",
       "    </tr>\n",
       "  </tbody>\n",
       "</table>\n",
       "</div>"
      ],
      "text/plain": [
       "                                 chat  label\n",
       "0            자기잘못인거알면 중고딩도 먼저사과하는걸아는데      0\n",
       "1                     싹둑이 채팅창 관리 중입니다      0\n",
       "2                     싹둑이 채팅창 관리 중입니다      0\n",
       "3  어제 어글 아직도 가? 개인적으로 사과하셨대 그만해 칭구들앙       0\n",
       "4                    케읍이 뭔데요 무슨사건있엇음?      0"
      ]
     },
     "execution_count": 3,
     "metadata": {},
     "output_type": "execute_result"
    }
   ],
   "source": [
    "datasets = pd.DataFrame()\n",
    "for i in range(1,5):\n",
    "    print(i)\n",
    "    dump = pd.read_csv(\"../../data/sample ({}).csv\".format(i), engine='python',names=['chat','label'])\n",
    "    datasets = pd.concat([datasets, dump])\n",
    "datasets.head()"
   ]
  },
  {
   "cell_type": "code",
   "execution_count": 4,
   "metadata": {
    "ExecuteTime": {
     "end_time": "2019-08-08T10:48:46.468237Z",
     "start_time": "2019-08-08T10:48:46.461240Z"
    }
   },
   "outputs": [],
   "source": [
    "datasets.reset_index(drop=True,inplace=True)"
   ]
  },
  {
   "cell_type": "code",
   "execution_count": 5,
   "metadata": {
    "ExecuteTime": {
     "end_time": "2019-08-08T10:48:46.505215Z",
     "start_time": "2019-08-08T10:48:46.475233Z"
    }
   },
   "outputs": [
    {
     "name": "stdout",
     "output_type": "stream",
     "text": [
      "<class 'pandas.core.frame.DataFrame'>\n",
      "RangeIndex: 3500 entries, 0 to 3499\n",
      "Data columns (total 2 columns):\n",
      "chat     3500 non-null object\n",
      "label    3500 non-null int64\n",
      "dtypes: int64(1), object(1)\n",
      "memory usage: 54.8+ KB\n"
     ]
    }
   ],
   "source": [
    "datasets.info()"
   ]
  },
  {
   "cell_type": "code",
   "execution_count": 6,
   "metadata": {
    "ExecuteTime": {
     "end_time": "2019-08-08T10:48:46.525205Z",
     "start_time": "2019-08-08T10:48:46.511211Z"
    }
   },
   "outputs": [],
   "source": [
    "datasets.label = datasets.label.astype('int')"
   ]
  },
  {
   "cell_type": "code",
   "execution_count": 7,
   "metadata": {
    "ExecuteTime": {
     "end_time": "2019-08-08T10:48:46.564183Z",
     "start_time": "2019-08-08T10:48:46.530203Z"
    }
   },
   "outputs": [],
   "source": [
    "# len(datasets[datasets.label ==1])/ len(datasets) # 유해한 레이블의 데이터가 많이 부족함 데이터 편향ㅠㅠ"
   ]
  },
  {
   "cell_type": "markdown",
   "metadata": {
    "ExecuteTime": {
     "end_time": "2019-08-06T15:38:19.687895Z",
     "start_time": "2019-08-06T15:38:19.677899Z"
    }
   },
   "source": [
    "# Tokenize\n",
    "## 형태소분석"
   ]
  },
  {
   "cell_type": "code",
   "execution_count": 8,
   "metadata": {
    "ExecuteTime": {
     "end_time": "2019-08-08T10:48:47.084044Z",
     "start_time": "2019-08-08T10:48:46.576176Z"
    }
   },
   "outputs": [
    {
     "name": "stderr",
     "output_type": "stream",
     "text": [
      "C:\\Users\\skarn\\Anaconda3\\envs\\DataAnalysis\\lib\\site-packages\\jpype\\_core.py:210: UserWarning: \n",
      "-------------------------------------------------------------------------------\n",
      "Deprecated: convertStrings was not specified when starting the JVM. The default\n",
      "behavior in JPype will be False starting in JPype 0.8. The recommended setting\n",
      "for new code is convertStrings=False.  The legacy value of True was assumed for\n",
      "this session. If you are a user of an application that reported this warning,\n",
      "please file a ticket with the developer.\n",
      "-------------------------------------------------------------------------------\n",
      "\n",
      "  \"\"\")\n"
     ]
    }
   ],
   "source": [
    "morp = Okt()"
   ]
  },
  {
   "cell_type": "code",
   "execution_count": 9,
   "metadata": {
    "ExecuteTime": {
     "end_time": "2019-08-08T10:49:10.578488Z",
     "start_time": "2019-08-08T10:48:47.090043Z"
    }
   },
   "outputs": [
    {
     "name": "stderr",
     "output_type": "stream",
     "text": [
      "100%|█████████████████████████████████████████████████████████████████████████████| 3500/3500 [00:23<00:00, 149.21it/s]\n"
     ]
    }
   ],
   "source": [
    "morped = [morp.morphs(_, norm=True) for _ in tqdm(datasets.chat)] # Stemming은 하지 않는다."
   ]
  },
  {
   "cell_type": "code",
   "execution_count": 10,
   "metadata": {
    "ExecuteTime": {
     "end_time": "2019-08-08T10:49:10.602474Z",
     "start_time": "2019-08-08T10:49:10.584487Z"
    }
   },
   "outputs": [
    {
     "data": {
      "text/plain": [
       "[['자기', '잘못', '인거', '알', '면', '중', '고딩', '도', '먼저', '사과', '하', '는', '걸아는데'],\n",
       " ['싹둑', '이', '채팅', '창', '관리', '중', '입니다'],\n",
       " ['싹둑', '이', '채팅', '창', '관리', '중', '입니다'],\n",
       " ['어제', '어글', '아직도', '가', '?', '개인', '적', '으로', '사과', '하셨대', '그만해', '칭구들앙'],\n",
       " ['케읍', '이', '뭔', '데', '요', '무슨', '사건', '있', '엇음', '?']]"
      ]
     },
     "execution_count": 10,
     "metadata": {},
     "output_type": "execute_result"
    }
   ],
   "source": [
    "morped[:5]"
   ]
  },
  {
   "cell_type": "markdown",
   "metadata": {},
   "source": [
    "## Dictionary\n",
    "최빈 형태소에 대한 단어사전 구성"
   ]
  },
  {
   "cell_type": "code",
   "execution_count": 11,
   "metadata": {
    "ExecuteTime": {
     "end_time": "2019-08-08T10:49:11.450989Z",
     "start_time": "2019-08-08T10:49:10.608474Z"
    }
   },
   "outputs": [
    {
     "name": "stdout",
     "output_type": "stream",
     "text": [
      "고빈도 단어:\n",
      "형 :  897\n",
      "이 :  801\n",
      "샤 :  587\n",
      "나왔 :  562\n",
      "브베 :  442\n",
      "창 :  420\n",
      "채팅 :  417\n",
      "중 :  416\n",
      "입니다 :  408\n",
      "싹둑 :  407\n",
      "\n",
      "단어 사전:\n",
      "0 <PAD>\n",
      "1 <OOV>\n",
      "2 형\n",
      "3 이\n",
      "4 샤\n",
      "5 나왔\n",
      "6 브베\n",
      "7 창\n",
      "8 채팅\n",
      "9 중\n",
      "\n",
      "단어 사전 크기:  3291\n"
     ]
    }
   ],
   "source": [
    "vocab_size = 5000\n",
    "\n",
    "pad_id = 0\n",
    "oov_id = 1\n",
    "index_offset = 1\n",
    "\n",
    "def make_vocab(sentences):\n",
    "    word_counter = Counter()\n",
    "\n",
    "    for sent in sentences:\n",
    "        word_counter.update(sent)\n",
    "\n",
    "    most_common = word_counter.most_common()\n",
    "    print(\"고빈도 단어:\")\n",
    "    for k, v in most_common[:10]:\n",
    "        print(k, \": \", v)\n",
    "\n",
    "        vocab = {\n",
    "        '<PAD>': pad_id,\n",
    "        '<OOV>': oov_id\n",
    "        }\n",
    "    for i, (word, cnt) in enumerate(most_common, start=index_offset+1):\n",
    "        vocab[word] = i\n",
    "        if len(vocab) >= vocab_size:\n",
    "            break\n",
    "\n",
    "    return vocab\n",
    "\n",
    "word_index = make_vocab(morped)\n",
    "word_inverted_index = {v:k for k, v in word_index.items()}\n",
    "\n",
    "print(\"\\n단어 사전:\")\n",
    "for i in range(0, 10):\n",
    "    print(i, word_inverted_index[i])\n",
    "\n",
    "print(\"\\n단어 사전 크기: \", len(word_index))\n",
    "\n",
    "# vocab save\n",
    "with open('./vocab/vocab_index.pickle', 'wb') as f:\n",
    "    pickle.dump(word_index, f, pickle.HIGHEST_PROTOCOL)\n",
    "with open('./vocab/vocab_inverted_index.pickle', 'wb') as f:\n",
    "    pickle.dump(word_inverted_index, f, pickle.HIGHEST_PROTOCOL)"
   ]
  },
  {
   "cell_type": "code",
   "execution_count": 12,
   "metadata": {
    "ExecuteTime": {
     "end_time": "2019-08-08T10:49:11.498961Z",
     "start_time": "2019-08-08T10:49:11.457986Z"
    }
   },
   "outputs": [
    {
     "name": "stdout",
     "output_type": "stream",
     "text": [
      "원본:  ['자기', '잘못', '인거', '알', '면', '중', '고딩', '도', '먼저', '사과', '하', '는', '걸아는데']\n",
      "문자 -> 숫자:  [230, 738, 739, 361, 278, 9, 1225, 40, 1226, 231, 69, 56, 1227]\n",
      "숫자 -> 문자:  자기 잘못 인거 알 면 중 고딩 도 먼저 사과 하 는 걸아는데\n"
     ]
    }
   ],
   "source": [
    "def index_to_text(indexes):\n",
    "    return ' '.join([word_inverted_index[i] for i in indexes])\n",
    "\n",
    "def text_to_index(tokens):\n",
    "    indexes = []\n",
    "    for tok in tokens:\n",
    "        if tok in word_index:\n",
    "            indexes.append(word_index[tok])\n",
    "        else:\n",
    "            indexes.append(oov_id)\n",
    "\n",
    "    return indexes\n",
    "\n",
    "print(\"원본: \", morped[0])\n",
    "ids = text_to_index(morped[0])\n",
    "print(\"문자 -> 숫자: \", ids)\n",
    "print(\"숫자 -> 문자: \", index_to_text(ids))"
   ]
  },
  {
   "cell_type": "markdown",
   "metadata": {},
   "source": [
    "# Padding"
   ]
  },
  {
   "cell_type": "code",
   "execution_count": 13,
   "metadata": {
    "ExecuteTime": {
     "end_time": "2019-08-08T10:49:11.617893Z",
     "start_time": "2019-08-08T10:49:11.509960Z"
    }
   },
   "outputs": [],
   "source": [
    "x_variable = [text_to_index(_) for _ in morped]\n",
    "\n",
    "sentence_size = 20\n",
    "x_padded = sequence.pad_sequences(x_variable,\n",
    "                                 maxlen=sentence_size,\n",
    "                                 truncating='post',\n",
    "                                 padding='post',\n",
    "                                 value=pad_id)"
   ]
  },
  {
   "cell_type": "markdown",
   "metadata": {},
   "source": [
    "# Data Split"
   ]
  },
  {
   "cell_type": "code",
   "execution_count": 14,
   "metadata": {
    "ExecuteTime": {
     "end_time": "2019-08-08T10:49:11.626888Z",
     "start_time": "2019-08-08T10:49:11.622889Z"
    }
   },
   "outputs": [],
   "source": [
    "# X_train, X_test, y_train, y_test = train_test_split(x_padded, datasets.label)\n",
    "\n",
    "# print(\"train_inputs shape: \", X_train.shape)\n",
    "# print(\"test_inputs shape: \", X_test.shape)\n",
    "# print(\"train_labels shape: \", y_train.shape)\n",
    "# print(\"test_labels shape: \", y_test.shape)"
   ]
  },
  {
   "cell_type": "markdown",
   "metadata": {},
   "source": [
    "# Model"
   ]
  },
  {
   "cell_type": "code",
   "execution_count": 15,
   "metadata": {
    "ExecuteTime": {
     "end_time": "2019-08-08T10:49:11.656870Z",
     "start_time": "2019-08-08T10:49:11.635882Z"
    }
   },
   "outputs": [],
   "source": [
    "def plot_loss(history):\n",
    "    plt.figure(figsize=(6,5))\n",
    "    val = plt.plot(history.epoch, history.history['val_loss'],\n",
    "                 '--', label='Test')\n",
    "    plt.plot(history.epoch, history.history['loss'], color=val[0].get_color(),\n",
    "           label='Train')\n",
    "\n",
    "    plt.xlabel('Epochs')\n",
    "    plt.ylabel(\"Loss\")\n",
    "    plt.legend()\n",
    "\n",
    "    plt.xlim([0,max(history.epoch)])"
   ]
  },
  {
   "cell_type": "code",
   "execution_count": 16,
   "metadata": {
    "ExecuteTime": {
     "end_time": "2019-08-08T10:49:11.679856Z",
     "start_time": "2019-08-08T10:49:11.662869Z"
    }
   },
   "outputs": [],
   "source": [
    "import warnings\n",
    "warnings.filterwarnings(action='once')"
   ]
  },
  {
   "cell_type": "code",
   "execution_count": 17,
   "metadata": {
    "ExecuteTime": {
     "end_time": "2019-08-08T10:49:11.699845Z",
     "start_time": "2019-08-08T10:49:11.685854Z"
    }
   },
   "outputs": [],
   "source": [
    "# set(model.predict_classes(X_test)) ## 전부 0으로 예측을 함 . 데이터 불균형 문제때문"
   ]
  },
  {
   "cell_type": "markdown",
   "metadata": {},
   "source": [
    "\n",
    "# 데이터 클래스 불균형 문제 해결하자"
   ]
  },
  {
   "cell_type": "code",
   "execution_count": 18,
   "metadata": {
    "ExecuteTime": {
     "end_time": "2019-08-08T10:49:11.729829Z",
     "start_time": "2019-08-08T10:49:11.721834Z"
    }
   },
   "outputs": [],
   "source": [
    "from imblearn.under_sampling import RandomUnderSampler\n",
    "from imblearn.over_sampling import RandomOverSampler"
   ]
  },
  {
   "cell_type": "markdown",
   "metadata": {},
   "source": [
    "## upsampling\n",
    "- 딥러닝은 데이터가 많을수록 좋다.\n",
    "- 보다 많은 데이터 사용을 위해 upsampling을 사용하자!"
   ]
  },
  {
   "cell_type": "code",
   "execution_count": 19,
   "metadata": {
    "ExecuteTime": {
     "end_time": "2019-08-08T10:49:11.778801Z",
     "start_time": "2019-08-08T10:49:11.737824Z"
    }
   },
   "outputs": [
    {
     "data": {
      "text/plain": [
       "(6026, 3013)"
      ]
     },
     "execution_count": 19,
     "metadata": {},
     "output_type": "execute_result"
    }
   ],
   "source": [
    "up_X, up_y = RandomOverSampler().fit_resample(x_padded, datasets.label)\n",
    "up_X_train, up_X_test, up_y_train, up_y_test = train_test_split(up_X, up_y)\n",
    "\n",
    "# 총 데이터 수 , 1 레이블 데이터 수\n",
    "len(up_y), up_y.sum()"
   ]
  },
  {
   "cell_type": "code",
   "execution_count": 20,
   "metadata": {
    "ExecuteTime": {
     "end_time": "2019-08-08T10:49:12.396445Z",
     "start_time": "2019-08-08T10:49:11.785797Z"
    }
   },
   "outputs": [
    {
     "name": "stderr",
     "output_type": "stream",
     "text": [
      "C:\\Users\\skarn\\Anaconda3\\envs\\DataAnalysis\\lib\\site-packages\\numpy\\lib\\type_check.py:546: DeprecationWarning: np.asscalar(a) is deprecated since NumPy v1.16, use a.item() instead\n",
      "  'a.item() instead', DeprecationWarning, stacklevel=1)\n"
     ]
    },
    {
     "name": "stdout",
     "output_type": "stream",
     "text": [
      "WARNING:tensorflow:From C:\\Users\\skarn\\Anaconda3\\envs\\DataAnalysis\\lib\\site-packages\\tensorflow\\python\\ops\\resource_variable_ops.py:435: colocate_with (from tensorflow.python.framework.ops) is deprecated and will be removed in a future version.\n",
      "Instructions for updating:\n",
      "Colocations handled automatically by placer.\n",
      "WARNING:tensorflow:From C:\\Users\\skarn\\Anaconda3\\envs\\DataAnalysis\\lib\\site-packages\\tensorflow\\python\\keras\\layers\\core.py:143: calling dropout (from tensorflow.python.ops.nn_ops) with keep_prob is deprecated and will be removed in a future version.\n",
      "Instructions for updating:\n",
      "Please use `rate` instead of `keep_prob`. Rate should be set to `rate = 1 - keep_prob`.\n"
     ]
    }
   ],
   "source": [
    "model_up = keras.Sequential([\n",
    "    keras.layers.Embedding(vocab_size, 10),\n",
    "    keras.layers.Conv1D(32, 3, padding=\"same\", activation=tf.nn.relu),\n",
    "    keras.layers.Dropout(0.5),\n",
    "    keras.layers.Conv1D(32, 3, padding=\"same\", activation=tf.nn.relu),\n",
    "    keras.layers.GlobalMaxPool1D(),\n",
    "    keras.layers.Dropout(0.5),\n",
    "    keras.layers.Dense(2, activation=tf.nn.sigmoid)\n",
    "])"
   ]
  },
  {
   "cell_type": "code",
   "execution_count": 21,
   "metadata": {
    "ExecuteTime": {
     "end_time": "2019-08-08T10:49:27.049629Z",
     "start_time": "2019-08-08T10:49:12.401445Z"
    }
   },
   "outputs": [
    {
     "name": "stdout",
     "output_type": "stream",
     "text": [
      "Train on 4519 samples, validate on 1507 samples\n",
      "WARNING:tensorflow:From C:\\Users\\skarn\\Anaconda3\\envs\\DataAnalysis\\lib\\site-packages\\tensorflow\\python\\ops\\math_ops.py:3066: to_int32 (from tensorflow.python.ops.math_ops) is deprecated and will be removed in a future version.\n",
      "Instructions for updating:\n",
      "Use tf.cast instead.\n",
      "WARNING:tensorflow:From C:\\Users\\skarn\\Anaconda3\\envs\\DataAnalysis\\lib\\site-packages\\tensorflow\\python\\ops\\math_grad.py:102: div (from tensorflow.python.ops.math_ops) is deprecated and will be removed in a future version.\n",
      "Instructions for updating:\n",
      "Deprecated in favor of operator or tf.math.divide.\n",
      "Epoch 1/5\n",
      "4519/4519 [==============================] - ETA: 3:01 - loss: 0.6928 - acc: 0.484 - ETA: 36s - loss: 0.6910 - acc: 0.556 - ETA: 20s - loss: 0.6924 - acc: 0.54 - ETA: 15s - loss: 0.6917 - acc: 0.54 - ETA: 11s - loss: 0.6921 - acc: 0.54 - ETA: 8s - loss: 0.6919 - acc: 0.5350 - ETA: 7s - loss: 0.6924 - acc: 0.523 - ETA: 6s - loss: 0.6927 - acc: 0.518 - ETA: 5s - loss: 0.6923 - acc: 0.523 - ETA: 4s - loss: 0.6917 - acc: 0.528 - ETA: 4s - loss: 0.6917 - acc: 0.523 - ETA: 3s - loss: 0.6916 - acc: 0.524 - ETA: 3s - loss: 0.6913 - acc: 0.526 - ETA: 2s - loss: 0.6911 - acc: 0.533 - ETA: 2s - loss: 0.6906 - acc: 0.543 - ETA: 2s - loss: 0.6899 - acc: 0.554 - ETA: 2s - loss: 0.6888 - acc: 0.566 - ETA: 1s - loss: 0.6880 - acc: 0.573 - ETA: 1s - loss: 0.6872 - acc: 0.579 - ETA: 1s - loss: 0.6865 - acc: 0.581 - ETA: 1s - loss: 0.6854 - acc: 0.588 - ETA: 1s - loss: 0.6832 - acc: 0.596 - ETA: 1s - loss: 0.6805 - acc: 0.604 - ETA: 0s - loss: 0.6776 - acc: 0.612 - ETA: 0s - loss: 0.6751 - acc: 0.618 - ETA: 0s - loss: 0.6738 - acc: 0.621 - ETA: 0s - loss: 0.6705 - acc: 0.629 - ETA: 0s - loss: 0.6675 - acc: 0.634 - ETA: 0s - loss: 0.6622 - acc: 0.643 - ETA: 0s - loss: 0.6601 - acc: 0.645 - ETA: 0s - loss: 0.6570 - acc: 0.649 - ETA: 0s - loss: 0.6531 - acc: 0.653 - 4s 794us/sample - loss: 0.6521 - acc: 0.6546 - val_loss: 0.5230 - val_acc: 0.8172\n",
      "Epoch 2/5\n",
      "4519/4519 [==============================] - ETA: 1s - loss: 0.5357 - acc: 0.781 - ETA: 1s - loss: 0.5197 - acc: 0.790 - ETA: 1s - loss: 0.5038 - acc: 0.801 - ETA: 1s - loss: 0.5119 - acc: 0.790 - ETA: 1s - loss: 0.5065 - acc: 0.795 - ETA: 1s - loss: 0.5019 - acc: 0.796 - ETA: 1s - loss: 0.4844 - acc: 0.806 - ETA: 1s - loss: 0.4850 - acc: 0.805 - ETA: 1s - loss: 0.4788 - acc: 0.808 - ETA: 1s - loss: 0.4637 - acc: 0.817 - ETA: 1s - loss: 0.4553 - acc: 0.820 - ETA: 1s - loss: 0.4488 - acc: 0.826 - ETA: 1s - loss: 0.4419 - acc: 0.830 - ETA: 1s - loss: 0.4326 - acc: 0.834 - ETA: 0s - loss: 0.4262 - acc: 0.836 - ETA: 0s - loss: 0.4192 - acc: 0.840 - ETA: 0s - loss: 0.4112 - acc: 0.844 - ETA: 0s - loss: 0.4061 - acc: 0.847 - ETA: 0s - loss: 0.4056 - acc: 0.846 - ETA: 0s - loss: 0.4014 - acc: 0.849 - ETA: 0s - loss: 0.3959 - acc: 0.852 - ETA: 0s - loss: 0.3910 - acc: 0.854 - ETA: 0s - loss: 0.3866 - acc: 0.856 - ETA: 0s - loss: 0.3807 - acc: 0.858 - ETA: 0s - loss: 0.3781 - acc: 0.860 - ETA: 0s - loss: 0.3768 - acc: 0.860 - ETA: 0s - loss: 0.3684 - acc: 0.863 - ETA: 0s - loss: 0.3665 - acc: 0.865 - ETA: 0s - loss: 0.3637 - acc: 0.867 - ETA: 0s - loss: 0.3614 - acc: 0.867 - ETA: 0s - loss: 0.3584 - acc: 0.868 - ETA: 0s - loss: 0.3545 - acc: 0.870 - ETA: 0s - loss: 0.3533 - acc: 0.870 - 2s 439us/sample - loss: 0.3494 - acc: 0.8719 - val_loss: 0.2329 - val_acc: 0.9353\n",
      "Epoch 3/5\n",
      "4519/4519 [==============================] - ETA: 1s - loss: 0.2080 - acc: 0.968 - ETA: 1s - loss: 0.2019 - acc: 0.947 - ETA: 1s - loss: 0.1916 - acc: 0.956 - ETA: 1s - loss: 0.1842 - acc: 0.954 - ETA: 1s - loss: 0.1776 - acc: 0.951 - ETA: 1s - loss: 0.1753 - acc: 0.950 - ETA: 1s - loss: 0.1736 - acc: 0.950 - ETA: 1s - loss: 0.1709 - acc: 0.950 - ETA: 1s - loss: 0.1651 - acc: 0.951 - ETA: 1s - loss: 0.1685 - acc: 0.953 - ETA: 1s - loss: 0.1616 - acc: 0.956 - ETA: 1s - loss: 0.1680 - acc: 0.953 - ETA: 0s - loss: 0.1715 - acc: 0.951 - ETA: 0s - loss: 0.1717 - acc: 0.951 - ETA: 0s - loss: 0.1718 - acc: 0.952 - ETA: 0s - loss: 0.1678 - acc: 0.954 - ETA: 0s - loss: 0.1684 - acc: 0.952 - ETA: 0s - loss: 0.1647 - acc: 0.953 - ETA: 0s - loss: 0.1603 - acc: 0.954 - ETA: 0s - loss: 0.1569 - acc: 0.955 - ETA: 0s - loss: 0.1536 - acc: 0.956 - ETA: 0s - loss: 0.1501 - acc: 0.958 - ETA: 0s - loss: 0.1524 - acc: 0.959 - ETA: 0s - loss: 0.1530 - acc: 0.959 - ETA: 0s - loss: 0.1515 - acc: 0.959 - ETA: 0s - loss: 0.1505 - acc: 0.959 - ETA: 0s - loss: 0.1482 - acc: 0.960 - ETA: 0s - loss: 0.1478 - acc: 0.959 - ETA: 0s - loss: 0.1475 - acc: 0.959 - ETA: 0s - loss: 0.1460 - acc: 0.960 - 2s 393us/sample - loss: 0.1451 - acc: 0.9608 - val_loss: 0.1803 - val_acc: 0.9569\n",
      "Epoch 4/5\n",
      "4519/4519 [==============================] - ETA: 1s - loss: 0.0975 - acc: 0.937 - ETA: 1s - loss: 0.1828 - acc: 0.955 - ETA: 1s - loss: 0.1291 - acc: 0.967 - ETA: 1s - loss: 0.1203 - acc: 0.967 - ETA: 1s - loss: 0.1132 - acc: 0.971 - ETA: 1s - loss: 0.0992 - acc: 0.976 - ETA: 1s - loss: 0.0946 - acc: 0.977 - ETA: 1s - loss: 0.0945 - acc: 0.977 - ETA: 1s - loss: 0.1001 - acc: 0.977 - ETA: 1s - loss: 0.0970 - acc: 0.977 - ETA: 1s - loss: 0.1004 - acc: 0.977 - ETA: 0s - loss: 0.0960 - acc: 0.978 - ETA: 0s - loss: 0.0912 - acc: 0.980 - ETA: 0s - loss: 0.0910 - acc: 0.980 - ETA: 0s - loss: 0.0886 - acc: 0.980 - ETA: 0s - loss: 0.0936 - acc: 0.979 - ETA: 0s - loss: 0.0930 - acc: 0.980 - ETA: 0s - loss: 0.0910 - acc: 0.980 - ETA: 0s - loss: 0.0929 - acc: 0.980 - ETA: 0s - loss: 0.0914 - acc: 0.979 - ETA: 0s - loss: 0.0906 - acc: 0.979 - ETA: 0s - loss: 0.0903 - acc: 0.979 - ETA: 0s - loss: 0.0913 - acc: 0.978 - ETA: 0s - loss: 0.0900 - acc: 0.978 - ETA: 0s - loss: 0.0905 - acc: 0.977 - ETA: 0s - loss: 0.0885 - acc: 0.978 - ETA: 0s - loss: 0.0885 - acc: 0.978 - ETA: 0s - loss: 0.0878 - acc: 0.978 - ETA: 0s - loss: 0.0863 - acc: 0.979 - 2s 386us/sample - loss: 0.0859 - acc: 0.9793 - val_loss: 0.1707 - val_acc: 0.9615\n",
      "Epoch 5/5\n",
      "4519/4519 [==============================] - ETA: 1s - loss: 0.1221 - acc: 0.937 - ETA: 1s - loss: 0.0403 - acc: 0.988 - ETA: 1s - loss: 0.0456 - acc: 0.984 - ETA: 1s - loss: 0.0498 - acc: 0.986 - ETA: 1s - loss: 0.0533 - acc: 0.985 - ETA: 1s - loss: 0.0644 - acc: 0.984 - ETA: 1s - loss: 0.0691 - acc: 0.982 - ETA: 1s - loss: 0.0668 - acc: 0.983 - ETA: 1s - loss: 0.0644 - acc: 0.984 - ETA: 1s - loss: 0.0634 - acc: 0.984 - ETA: 1s - loss: 0.0598 - acc: 0.985 - ETA: 0s - loss: 0.0659 - acc: 0.985 - ETA: 0s - loss: 0.0666 - acc: 0.985 - ETA: 0s - loss: 0.0659 - acc: 0.985 - ETA: 0s - loss: 0.0641 - acc: 0.985 - ETA: 0s - loss: 0.0644 - acc: 0.985 - ETA: 0s - loss: 0.0628 - acc: 0.985 - ETA: 0s - loss: 0.0625 - acc: 0.984 - ETA: 0s - loss: 0.0618 - acc: 0.984 - ETA: 0s - loss: 0.0617 - acc: 0.984 - ETA: 0s - loss: 0.0593 - acc: 0.985 - ETA: 0s - loss: 0.0589 - acc: 0.985 - ETA: 0s - loss: 0.0603 - acc: 0.985 - ETA: 0s - loss: 0.0615 - acc: 0.984 - ETA: 0s - loss: 0.0619 - acc: 0.983 - ETA: 0s - loss: 0.0619 - acc: 0.983 - ETA: 0s - loss: 0.0645 - acc: 0.982 - ETA: 0s - loss: 0.0641 - acc: 0.982 - ETA: 0s - loss: 0.0631 - acc: 0.983 - ETA: 0s - loss: 0.0620 - acc: 0.983 - 2s 390us/sample - loss: 0.0626 - acc: 0.9833 - val_loss: 0.1713 - val_acc: 0.9668\n",
      "1507/1507 [==============================] - ETA: 0s - loss: 0.0381 - acc: 1.000 - ETA: 0s - loss: 0.1453 - acc: 0.974 - ETA: 0s - loss: 0.1841 - acc: 0.967 - ETA: 0s - loss: 0.1676 - acc: 0.968 - 0s 129us/sample - loss: 0.1713 - acc: 0.9668\n",
      "Test accuracy: 0.9668215\n"
     ]
    },
    {
     "data": {
      "image/png": "[encoded data removed]",
      "text/plain": [
       "<Figure size 432x360 with 1 Axes>"
      ]
     },
     "metadata": {
      "needs_background": "light"
     },
     "output_type": "display_data"
    }
   ],
   "source": [
    "model_up.compile(optimizer='adam', \n",
    "              loss='binary_crossentropy',\n",
    "              metrics=['accuracy'])\n",
    "\n",
    "history = model_up.fit(up_X_train,\n",
    "          pd.get_dummies(up_y_train),\n",
    "          epochs=5,\n",
    "          validation_data=(up_X_test, pd.get_dummies(up_y_test))\n",
    "         )\n",
    "plot_loss(history)\n",
    "test_loss, test_acc = model_up.evaluate(up_X_test, pd.get_dummies(up_y_test))\n",
    "print('Test accuracy:', test_acc)"
   ]
  },
  {
   "cell_type": "code",
   "execution_count": 22,
   "metadata": {
    "ExecuteTime": {
     "end_time": "2019-08-08T10:49:27.466102Z",
     "start_time": "2019-08-08T10:49:27.054629Z"
    }
   },
   "outputs": [
    {
     "name": "stdout",
     "output_type": "stream",
     "text": [
      "전체채팅수1507, 유해채팅수815\n"
     ]
    }
   ],
   "source": [
    "result = pd.DataFrame(np.apply_along_axis(index_to_text, 1, up_X_test))\n",
    "result['predict'] = model_up.predict_proba(up_X_test)[:,1] # 유해하다고 판별할 확률\n",
    "print('전체채팅수{}, 유해채팅수{}'.format(len(result),len(result[result.predict>0.5])))\n",
    "result[result.predict>0.5].head(10)\n",
    "result['label'] = up_y_test"
   ]
  },
  {
   "cell_type": "code",
   "execution_count": 23,
   "metadata": {
    "ExecuteTime": {
     "end_time": "2019-08-08T10:49:27.483094Z",
     "start_time": "2019-08-08T10:49:27.478095Z"
    }
   },
   "outputs": [],
   "source": [
    "# result.to_csv('../../data/cnn_result.csv', encoding='utf-16')"
   ]
  },
  {
   "cell_type": "markdown",
   "metadata": {},
   "source": [
    "## 분류 애매한 채팅들"
   ]
  },
  {
   "cell_type": "code",
   "execution_count": 24,
   "metadata": {
    "ExecuteTime": {
     "end_time": "2019-08-08T10:49:27.551052Z",
     "start_time": "2019-08-08T10:49:27.490089Z"
    }
   },
   "outputs": [
    {
     "data": {
      "text/html": [
       "<div>\n",
       "<style scoped>\n",
       "    .dataframe tbody tr th:only-of-type {\n",
       "        vertical-align: middle;\n",
       "    }\n",
       "\n",
       "    .dataframe tbody tr th {\n",
       "        vertical-align: top;\n",
       "    }\n",
       "\n",
       "    .dataframe thead th {\n",
       "        text-align: right;\n",
       "    }\n",
       "</style>\n",
       "<table border=\"1\" class=\"dataframe\">\n",
       "  <thead>\n",
       "    <tr style=\"text-align: right;\">\n",
       "      <th></th>\n",
       "      <th>0</th>\n",
       "      <th>predict</th>\n",
       "      <th>label</th>\n",
       "    </tr>\n",
       "  </thead>\n",
       "  <tbody>\n",
       "    <tr>\n",
       "      <th>27</th>\n",
       "      <td>영차 &lt;PAD&gt; &lt;PAD&gt; &lt;PAD&gt; &lt;PAD&gt; &lt;PAD&gt; &lt;PAD&gt; &lt;PAD&gt; &lt;...</td>\n",
       "      <td>0.367598</td>\n",
       "      <td>0</td>\n",
       "    </tr>\n",
       "    <tr>\n",
       "      <th>359</th>\n",
       "      <td>니 이야기 야 창석 아 ~ &lt;PAD&gt; &lt;PAD&gt; &lt;PAD&gt; &lt;PAD&gt; &lt;PAD&gt; &lt;...</td>\n",
       "      <td>0.397600</td>\n",
       "      <td>0</td>\n",
       "    </tr>\n",
       "    <tr>\n",
       "      <th>422</th>\n",
       "      <td>폭탄 좀꺼 폭탄 좀 써 폭탄 좀꺼 폭탄 좀 써 폭탄 좀꺼 폭탄 좀 써 폭탄 좀꺼 폭...</td>\n",
       "      <td>0.300742</td>\n",
       "      <td>0</td>\n",
       "    </tr>\n",
       "    <tr>\n",
       "      <th>577</th>\n",
       "      <td>야 아프리카 방송 해 라야 아프리카 방송 해 라야 아프리카 방송 해 라야 아프리카 ...</td>\n",
       "      <td>0.359133</td>\n",
       "      <td>0</td>\n",
       "    </tr>\n",
       "    <tr>\n",
       "      <th>678</th>\n",
       "      <td>아 괜찮아 &lt;PAD&gt; &lt;PAD&gt; &lt;PAD&gt; &lt;PAD&gt; &lt;PAD&gt; &lt;PAD&gt; &lt;PAD...</td>\n",
       "      <td>0.431356</td>\n",
       "      <td>0</td>\n",
       "    </tr>\n",
       "    <tr>\n",
       "      <th>707</th>\n",
       "      <td>지 &lt;PAD&gt; &lt;PAD&gt; &lt;PAD&gt; &lt;PAD&gt; &lt;PAD&gt; &lt;PAD&gt; &lt;PAD&gt; &lt;P...</td>\n",
       "      <td>0.529805</td>\n",
       "      <td>0</td>\n",
       "    </tr>\n",
       "    <tr>\n",
       "      <th>791</th>\n",
       "      <td>옥뜰 아 따당 행 억억 옥 . 떨 . 옥 떨 . 옥 . 떨 &lt;PAD&gt; &lt;PAD&gt; &lt;...</td>\n",
       "      <td>0.311491</td>\n",
       "      <td>1</td>\n",
       "    </tr>\n",
       "    <tr>\n",
       "      <th>805</th>\n",
       "      <td>옥뜰 아 따당 행 억억 옥 . 떨 . 옥 떨 . 옥 . 떨 &lt;PAD&gt; &lt;PAD&gt; &lt;...</td>\n",
       "      <td>0.311491</td>\n",
       "      <td>1</td>\n",
       "    </tr>\n",
       "    <tr>\n",
       "      <th>849</th>\n",
       "      <td>옥뜰 아 따당 행 억억 옥 . 떨 . 옥 떨 . 옥 . 떨 &lt;PAD&gt; &lt;PAD&gt; &lt;...</td>\n",
       "      <td>0.311491</td>\n",
       "      <td>1</td>\n",
       "    </tr>\n",
       "    <tr>\n",
       "      <th>853</th>\n",
       "      <td>브베 야 너 친구 있냐 &lt;PAD&gt; &lt;PAD&gt; &lt;PAD&gt; &lt;PAD&gt; &lt;PAD&gt; &lt;PA...</td>\n",
       "      <td>0.366255</td>\n",
       "      <td>0</td>\n",
       "    </tr>\n",
       "    <tr>\n",
       "      <th>876</th>\n",
       "      <td>캬 연극 보는거 같어 &lt;PAD&gt; &lt;PAD&gt; &lt;PAD&gt; &lt;PAD&gt; &lt;PAD&gt; &lt;PAD...</td>\n",
       "      <td>0.462632</td>\n",
       "      <td>0</td>\n",
       "    </tr>\n",
       "    <tr>\n",
       "      <th>940</th>\n",
       "      <td>옥뜰 아 따당 행 억억 옥 . 떨 . 옥 떨 . 옥 . 떨 &lt;PAD&gt; &lt;PAD&gt; &lt;...</td>\n",
       "      <td>0.311491</td>\n",
       "      <td>1</td>\n",
       "    </tr>\n",
       "    <tr>\n",
       "      <th>1010</th>\n",
       "      <td>무슨 톰크루즈 야 &lt;PAD&gt; &lt;PAD&gt; &lt;PAD&gt; &lt;PAD&gt; &lt;PAD&gt; &lt;PAD&gt; ...</td>\n",
       "      <td>0.422789</td>\n",
       "      <td>0</td>\n",
       "    </tr>\n",
       "    <tr>\n",
       "      <th>1038</th>\n",
       "      <td>스폰서 한테 반말 ㅋㅋ &lt;PAD&gt; &lt;PAD&gt; &lt;PAD&gt; &lt;PAD&gt; &lt;PAD&gt; &lt;PA...</td>\n",
       "      <td>0.341795</td>\n",
       "      <td>0</td>\n",
       "    </tr>\n",
       "    <tr>\n",
       "      <th>1057</th>\n",
       "      <td>오빠 과자 봉지 는 쓰레기통 에 버리샤 &lt;PAD&gt; &lt;PAD&gt; &lt;PAD&gt; &lt;PAD&gt; ...</td>\n",
       "      <td>0.315948</td>\n",
       "      <td>0</td>\n",
       "    </tr>\n",
       "    <tr>\n",
       "      <th>1386</th>\n",
       "      <td>아이작 플레이 타임 몇 시간 이에요 형 &lt;PAD&gt; &lt;PAD&gt; &lt;PAD&gt; &lt;PAD&gt; ...</td>\n",
       "      <td>0.560731</td>\n",
       "      <td>0</td>\n",
       "    </tr>\n",
       "  </tbody>\n",
       "</table>\n",
       "</div>"
      ],
      "text/plain": [
       "                                                      0   predict  label\n",
       "27    영차 <PAD> <PAD> <PAD> <PAD> <PAD> <PAD> <PAD> <...  0.367598      0\n",
       "359   니 이야기 야 창석 아 ~ <PAD> <PAD> <PAD> <PAD> <PAD> <...  0.397600      0\n",
       "422   폭탄 좀꺼 폭탄 좀 써 폭탄 좀꺼 폭탄 좀 써 폭탄 좀꺼 폭탄 좀 써 폭탄 좀꺼 폭...  0.300742      0\n",
       "577   야 아프리카 방송 해 라야 아프리카 방송 해 라야 아프리카 방송 해 라야 아프리카 ...  0.359133      0\n",
       "678   아 괜찮아 <PAD> <PAD> <PAD> <PAD> <PAD> <PAD> <PAD...  0.431356      0\n",
       "707   지 <PAD> <PAD> <PAD> <PAD> <PAD> <PAD> <PAD> <P...  0.529805      0\n",
       "791   옥뜰 아 따당 행 억억 옥 . 떨 . 옥 떨 . 옥 . 떨 <PAD> <PAD> <...  0.311491      1\n",
       "805   옥뜰 아 따당 행 억억 옥 . 떨 . 옥 떨 . 옥 . 떨 <PAD> <PAD> <...  0.311491      1\n",
       "849   옥뜰 아 따당 행 억억 옥 . 떨 . 옥 떨 . 옥 . 떨 <PAD> <PAD> <...  0.311491      1\n",
       "853   브베 야 너 친구 있냐 <PAD> <PAD> <PAD> <PAD> <PAD> <PA...  0.366255      0\n",
       "876   캬 연극 보는거 같어 <PAD> <PAD> <PAD> <PAD> <PAD> <PAD...  0.462632      0\n",
       "940   옥뜰 아 따당 행 억억 옥 . 떨 . 옥 떨 . 옥 . 떨 <PAD> <PAD> <...  0.311491      1\n",
       "1010  무슨 톰크루즈 야 <PAD> <PAD> <PAD> <PAD> <PAD> <PAD> ...  0.422789      0\n",
       "1038  스폰서 한테 반말 ㅋㅋ <PAD> <PAD> <PAD> <PAD> <PAD> <PA...  0.341795      0\n",
       "1057  오빠 과자 봉지 는 쓰레기통 에 버리샤 <PAD> <PAD> <PAD> <PAD> ...  0.315948      0\n",
       "1386  아이작 플레이 타임 몇 시간 이에요 형 <PAD> <PAD> <PAD> <PAD> ...  0.560731      0"
      ]
     },
     "execution_count": 24,
     "metadata": {},
     "output_type": "execute_result"
    }
   ],
   "source": [
    "result[(result.predict>0.3) & (result.predict<0.6)]"
   ]
  },
  {
   "cell_type": "markdown",
   "metadata": {},
   "source": [
    "### 예측 실패한 채팅들"
   ]
  },
  {
   "cell_type": "code",
   "execution_count": 25,
   "metadata": {
    "ExecuteTime": {
     "end_time": "2019-08-08T10:49:27.702967Z",
     "start_time": "2019-08-08T10:49:27.559051Z"
    }
   },
   "outputs": [
    {
     "data": {
      "text/html": [
       "<div>\n",
       "<style scoped>\n",
       "    .dataframe tbody tr th:only-of-type {\n",
       "        vertical-align: middle;\n",
       "    }\n",
       "\n",
       "    .dataframe tbody tr th {\n",
       "        vertical-align: top;\n",
       "    }\n",
       "\n",
       "    .dataframe thead th {\n",
       "        text-align: right;\n",
       "    }\n",
       "</style>\n",
       "<table border=\"1\" class=\"dataframe\">\n",
       "  <thead>\n",
       "    <tr style=\"text-align: right;\">\n",
       "      <th></th>\n",
       "      <th>0</th>\n",
       "      <th>predict</th>\n",
       "      <th>label</th>\n",
       "    </tr>\n",
       "  </thead>\n",
       "  <tbody>\n",
       "    <tr>\n",
       "      <th>52</th>\n",
       "      <td>브베 야 밥 묵자 어서 밥상 차려오라 고해 라 니 먹방 하 는걸 봐야 속이 편할거 ...</td>\n",
       "      <td>0.992783</td>\n",
       "      <td>0</td>\n",
       "    </tr>\n",
       "    <tr>\n",
       "      <th>147</th>\n",
       "      <td>근데 왜 여기 에선 하는거야 근데 왜 여기 에선 하는거야 근데 왜 여기 에선 하는거...</td>\n",
       "      <td>0.721746</td>\n",
       "      <td>0</td>\n",
       "    </tr>\n",
       "    <tr>\n",
       "      <th>148</th>\n",
       "      <td>어허 허허 = 할말 없으니까 가짜 웃음 &lt;PAD&gt; &lt;PAD&gt; &lt;PAD&gt; &lt;PAD&gt; ...</td>\n",
       "      <td>0.878579</td>\n",
       "      <td>0</td>\n",
       "    </tr>\n",
       "    <tr>\n",
       "      <th>156</th>\n",
       "      <td>진짜 톰크루즈 인지 아 나 ㅄ 이 &lt;PAD&gt; &lt;PAD&gt; &lt;PAD&gt; &lt;PAD&gt; &lt;PA...</td>\n",
       "      <td>0.864513</td>\n",
       "      <td>0</td>\n",
       "    </tr>\n",
       "    <tr>\n",
       "      <th>212</th>\n",
       "      <td>브베 야 방송 접자 &lt;PAD&gt; &lt;PAD&gt; &lt;PAD&gt; &lt;PAD&gt; &lt;PAD&gt; &lt;PAD&gt;...</td>\n",
       "      <td>0.999990</td>\n",
       "      <td>0</td>\n",
       "    </tr>\n",
       "    <tr>\n",
       "      <th>261</th>\n",
       "      <td>브베 형 뮤직비디오 언제 만들어요 현기증 나 요 브베 형 뮤직비디오 언제 만들어요 ...</td>\n",
       "      <td>0.999923</td>\n",
       "      <td>0</td>\n",
       "    </tr>\n",
       "    <tr>\n",
       "      <th>301</th>\n",
       "      <td>대머리 타코야끼 새끼 야 어제 불렀던 노래 제목 뭐 냐 고 &lt;PAD&gt; &lt;PAD&gt; &lt;...</td>\n",
       "      <td>0.998394</td>\n",
       "      <td>0</td>\n",
       "    </tr>\n",
       "    <tr>\n",
       "      <th>305</th>\n",
       "      <td>정 품이아니라서 &lt;PAD&gt; &lt;PAD&gt; &lt;PAD&gt; &lt;PAD&gt; &lt;PAD&gt; &lt;PAD&gt; &lt;...</td>\n",
       "      <td>0.848384</td>\n",
       "      <td>0</td>\n",
       "    </tr>\n",
       "    <tr>\n",
       "      <th>366</th>\n",
       "      <td>하루 지나면 없었던 일 되는거냐 ? 어제 일 언급 하지말라고 ? ㅋㅋㅋ 리셋 임 ,...</td>\n",
       "      <td>0.724809</td>\n",
       "      <td>0</td>\n",
       "    </tr>\n",
       "    <tr>\n",
       "      <th>381</th>\n",
       "      <td>무기 개 사기 에 뭐 야 이 거 &lt;PAD&gt; &lt;PAD&gt; &lt;PAD&gt; &lt;PAD&gt; &lt;PAD...</td>\n",
       "      <td>0.990117</td>\n",
       "      <td>0</td>\n",
       "    </tr>\n",
       "    <tr>\n",
       "      <th>393</th>\n",
       "      <td>더 채팅 을 편식 하네 &lt;PAD&gt; &lt;PAD&gt; &lt;PAD&gt; &lt;PAD&gt; &lt;PAD&gt; &lt;PA...</td>\n",
       "      <td>0.882404</td>\n",
       "      <td>0</td>\n",
       "    </tr>\n",
       "    <tr>\n",
       "      <th>429</th>\n",
       "      <td>브베 야 어떤 유튜버 에게 들었는데 너 빚 많이 쌓었다며 ... &lt;PAD&gt; &lt;PAD...</td>\n",
       "      <td>0.731207</td>\n",
       "      <td>0</td>\n",
       "    </tr>\n",
       "    <tr>\n",
       "      <th>442</th>\n",
       "      <td>5 데이샌드 야 &lt;PAD&gt; &lt;PAD&gt; &lt;PAD&gt; &lt;PAD&gt; &lt;PAD&gt; &lt;PAD&gt; &lt;...</td>\n",
       "      <td>0.692990</td>\n",
       "      <td>0</td>\n",
       "    </tr>\n",
       "    <tr>\n",
       "      <th>443</th>\n",
       "      <td>노래 끄라고 ㅡ &lt;PAD&gt; &lt;PAD&gt; &lt;PAD&gt; &lt;PAD&gt; &lt;PAD&gt; &lt;PAD&gt; &lt;...</td>\n",
       "      <td>0.999993</td>\n",
       "      <td>0</td>\n",
       "    </tr>\n",
       "    <tr>\n",
       "      <th>475</th>\n",
       "      <td>예전 엔 아무리 욕 들 어도 금강 멘탈 유지 했는데 요즘 돈맛 을 보더 니 일부러 ...</td>\n",
       "      <td>0.999957</td>\n",
       "      <td>0</td>\n",
       "    </tr>\n",
       "    <tr>\n",
       "      <th>498</th>\n",
       "      <td>진짜 듸진다 먼 탐 크루즈 야 &lt;PAD&gt; &lt;PAD&gt; &lt;PAD&gt; &lt;PAD&gt; &lt;PAD&gt;...</td>\n",
       "      <td>0.994415</td>\n",
       "      <td>0</td>\n",
       "    </tr>\n",
       "    <tr>\n",
       "      <th>524</th>\n",
       "      <td>위장 도 약 한 사람 이 저렇게 과자 많이 먹고 짠거 많이 먹는거 첨 봐 &lt;PAD&gt;...</td>\n",
       "      <td>0.978645</td>\n",
       "      <td>0</td>\n",
       "    </tr>\n",
       "    <tr>\n",
       "      <th>550</th>\n",
       "      <td>욕 하 지미 &lt;PAD&gt; &lt;PAD&gt; &lt;PAD&gt; &lt;PAD&gt; &lt;PAD&gt; &lt;PAD&gt; &lt;PA...</td>\n",
       "      <td>0.992062</td>\n",
       "      <td>0</td>\n",
       "    </tr>\n",
       "    <tr>\n",
       "      <th>570</th>\n",
       "      <td>웃는거 봐 ........................ &lt;PAD&gt; &lt;PAD&gt; &lt;PA...</td>\n",
       "      <td>0.978304</td>\n",
       "      <td>0</td>\n",
       "    </tr>\n",
       "    <tr>\n",
       "      <th>575</th>\n",
       "      <td>표정 봐 ㅋㅋ &lt;PAD&gt; &lt;PAD&gt; &lt;PAD&gt; &lt;PAD&gt; &lt;PAD&gt; &lt;PAD&gt; &lt;P...</td>\n",
       "      <td>0.989581</td>\n",
       "      <td>0</td>\n",
       "    </tr>\n",
       "    <tr>\n",
       "      <th>707</th>\n",
       "      <td>지 &lt;PAD&gt; &lt;PAD&gt; &lt;PAD&gt; &lt;PAD&gt; &lt;PAD&gt; &lt;PAD&gt; &lt;PAD&gt; &lt;P...</td>\n",
       "      <td>0.529805</td>\n",
       "      <td>0</td>\n",
       "    </tr>\n",
       "    <tr>\n",
       "      <th>761</th>\n",
       "      <td>신음 내지마 &lt;PAD&gt; &lt;PAD&gt; &lt;PAD&gt; &lt;PAD&gt; &lt;PAD&gt; &lt;PAD&gt; &lt;PA...</td>\n",
       "      <td>0.999995</td>\n",
       "      <td>0</td>\n",
       "    </tr>\n",
       "    <tr>\n",
       "      <th>791</th>\n",
       "      <td>옥뜰 아 따당 행 억억 옥 . 떨 . 옥 떨 . 옥 . 떨 &lt;PAD&gt; &lt;PAD&gt; &lt;...</td>\n",
       "      <td>0.311491</td>\n",
       "      <td>1</td>\n",
       "    </tr>\n",
       "    <tr>\n",
       "      <th>793</th>\n",
       "      <td>나 브 사모 아닌데 &lt;PAD&gt; &lt;PAD&gt; &lt;PAD&gt; &lt;PAD&gt; &lt;PAD&gt; &lt;PAD&gt;...</td>\n",
       "      <td>0.999999</td>\n",
       "      <td>0</td>\n",
       "    </tr>\n",
       "    <tr>\n",
       "      <th>805</th>\n",
       "      <td>옥뜰 아 따당 행 억억 옥 . 떨 . 옥 떨 . 옥 . 떨 &lt;PAD&gt; &lt;PAD&gt; &lt;...</td>\n",
       "      <td>0.311491</td>\n",
       "      <td>1</td>\n",
       "    </tr>\n",
       "    <tr>\n",
       "      <th>810</th>\n",
       "      <td>느그 작 좀 그만해라 ... &lt;PAD&gt; &lt;PAD&gt; &lt;PAD&gt; &lt;PAD&gt; &lt;PAD&gt; ...</td>\n",
       "      <td>0.990137</td>\n",
       "      <td>0</td>\n",
       "    </tr>\n",
       "    <tr>\n",
       "      <th>819</th>\n",
       "      <td>기호 1 번 해명 해라 이기 &lt;PAD&gt; &lt;PAD&gt; &lt;PAD&gt; &lt;PAD&gt; &lt;PAD&gt; ...</td>\n",
       "      <td>0.997758</td>\n",
       "      <td>0</td>\n",
       "    </tr>\n",
       "    <tr>\n",
       "      <th>849</th>\n",
       "      <td>옥뜰 아 따당 행 억억 옥 . 떨 . 옥 떨 . 옥 . 떨 &lt;PAD&gt; &lt;PAD&gt; &lt;...</td>\n",
       "      <td>0.311491</td>\n",
       "      <td>1</td>\n",
       "    </tr>\n",
       "    <tr>\n",
       "      <th>881</th>\n",
       "      <td>어휴 얼마나 투자 를 안 했으면 저 거가 지고 투자 했다고 잘 했다고 그러냐 &lt;PA...</td>\n",
       "      <td>0.999934</td>\n",
       "      <td>0</td>\n",
       "    </tr>\n",
       "    <tr>\n",
       "      <th>890</th>\n",
       "      <td>HE LOVE Pillow &lt;PAD&gt; &lt;PAD&gt; &lt;PAD&gt; &lt;PAD&gt; &lt;PAD&gt; &lt;...</td>\n",
       "      <td>0.927481</td>\n",
       "      <td>0</td>\n",
       "    </tr>\n",
       "    <tr>\n",
       "      <th>938</th>\n",
       "      <td>뭘 그 랫 어 야 &lt;PAD&gt; &lt;PAD&gt; &lt;PAD&gt; &lt;PAD&gt; &lt;PAD&gt; &lt;PAD&gt; ...</td>\n",
       "      <td>0.994552</td>\n",
       "      <td>0</td>\n",
       "    </tr>\n",
       "    <tr>\n",
       "      <th>940</th>\n",
       "      <td>옥뜰 아 따당 행 억억 옥 . 떨 . 옥 떨 . 옥 . 떨 &lt;PAD&gt; &lt;PAD&gt; &lt;...</td>\n",
       "      <td>0.311491</td>\n",
       "      <td>1</td>\n",
       "    </tr>\n",
       "    <tr>\n",
       "      <th>945</th>\n",
       "      <td>너 맨 처음 엔 스폰 안 받는다고 하지 않았냐 ?? &lt;PAD&gt; &lt;PAD&gt; &lt;PAD&gt;...</td>\n",
       "      <td>0.989485</td>\n",
       "      <td>0</td>\n",
       "    </tr>\n",
       "    <tr>\n",
       "      <th>953</th>\n",
       "      <td>아니 씨 ㅏㄹ 뮤슨 일이 냐 고 묻잖아 &lt;PAD&gt; &lt;PAD&gt; &lt;PAD&gt; &lt;PAD&gt; ...</td>\n",
       "      <td>0.881610</td>\n",
       "      <td>0</td>\n",
       "    </tr>\n",
       "    <tr>\n",
       "      <th>1006</th>\n",
       "      <td>오오 한국어 설명 좋다 &lt;PAD&gt; &lt;PAD&gt; &lt;PAD&gt; &lt;PAD&gt; &lt;PAD&gt; &lt;PA...</td>\n",
       "      <td>0.777472</td>\n",
       "      <td>0</td>\n",
       "    </tr>\n",
       "    <tr>\n",
       "      <th>1025</th>\n",
       "      <td>얘 들 아 난 이제 부터 브베 욕 안하기로 했다 유신 그 쓰래 기 새끼 에 비 하면...</td>\n",
       "      <td>0.946746</td>\n",
       "      <td>0</td>\n",
       "    </tr>\n",
       "    <tr>\n",
       "      <th>1056</th>\n",
       "      <td>브베 야 내 가 김영철 인스타 에 너 언급 했는데 김영철 이 상관 안 한대 &lt;PAD...</td>\n",
       "      <td>0.995206</td>\n",
       "      <td>0</td>\n",
       "    </tr>\n",
       "    <tr>\n",
       "      <th>1094</th>\n",
       "      <td>야 브베 야 &lt;PAD&gt; &lt;PAD&gt; &lt;PAD&gt; &lt;PAD&gt; &lt;PAD&gt; &lt;PAD&gt; &lt;PA...</td>\n",
       "      <td>0.971060</td>\n",
       "      <td>0</td>\n",
       "    </tr>\n",
       "    <tr>\n",
       "      <th>1182</th>\n",
       "      <td>뭐 야 브베 여기 서하 냐 &lt;PAD&gt; &lt;PAD&gt; &lt;PAD&gt; &lt;PAD&gt; &lt;PAD&gt; &lt;...</td>\n",
       "      <td>0.944095</td>\n",
       "      <td>0</td>\n",
       "    </tr>\n",
       "    <tr>\n",
       "      <th>1212</th>\n",
       "      <td>이보 세 요 . 소통 좀 하세요 . &lt;PAD&gt; &lt;PAD&gt; &lt;PAD&gt; &lt;PAD&gt; &lt;P...</td>\n",
       "      <td>0.969865</td>\n",
       "      <td>0</td>\n",
       "    </tr>\n",
       "    <tr>\n",
       "      <th>1335</th>\n",
       "      <td>어 먹다가 말 하 니까 &lt;PAD&gt; &lt;PAD&gt; &lt;PAD&gt; &lt;PAD&gt; &lt;PAD&gt; &lt;PA...</td>\n",
       "      <td>0.999962</td>\n",
       "      <td>0</td>\n",
       "    </tr>\n",
       "    <tr>\n",
       "      <th>1338</th>\n",
       "      <td>뎀 지 실화 냐 ㅕ ? &lt;PAD&gt; &lt;PAD&gt; &lt;PAD&gt; &lt;PAD&gt; &lt;PAD&gt; &lt;PA...</td>\n",
       "      <td>0.680701</td>\n",
       "      <td>0</td>\n",
       "    </tr>\n",
       "    <tr>\n",
       "      <th>1355</th>\n",
       "      <td>옥뜰 아 영차 영차 옥 뜰 옥 뜰 &lt;PAD&gt; &lt;PAD&gt; &lt;PAD&gt; &lt;PAD&gt; &lt;PA...</td>\n",
       "      <td>0.973975</td>\n",
       "      <td>0</td>\n",
       "    </tr>\n",
       "    <tr>\n",
       "      <th>1358</th>\n",
       "      <td>집 비하 해명 하 라 &lt;PAD&gt; &lt;PAD&gt; &lt;PAD&gt; &lt;PAD&gt; &lt;PAD&gt; &lt;PAD...</td>\n",
       "      <td>0.803201</td>\n",
       "      <td>0</td>\n",
       "    </tr>\n",
       "    <tr>\n",
       "      <th>1378</th>\n",
       "      <td>목소리 봐 &lt;PAD&gt; &lt;PAD&gt; &lt;PAD&gt; &lt;PAD&gt; &lt;PAD&gt; &lt;PAD&gt; &lt;PAD...</td>\n",
       "      <td>0.949612</td>\n",
       "      <td>0</td>\n",
       "    </tr>\n",
       "    <tr>\n",
       "      <th>1386</th>\n",
       "      <td>아이작 플레이 타임 몇 시간 이에요 형 &lt;PAD&gt; &lt;PAD&gt; &lt;PAD&gt; &lt;PAD&gt; ...</td>\n",
       "      <td>0.560731</td>\n",
       "      <td>0</td>\n",
       "    </tr>\n",
       "    <tr>\n",
       "      <th>1430</th>\n",
       "      <td>정신병 자 새끼 &lt;PAD&gt; &lt;PAD&gt; &lt;PAD&gt; &lt;PAD&gt; &lt;PAD&gt; &lt;PAD&gt; &lt;...</td>\n",
       "      <td>0.999664</td>\n",
       "      <td>0</td>\n",
       "    </tr>\n",
       "    <tr>\n",
       "      <th>1437</th>\n",
       "      <td>배 개 &lt;PAD&gt; &lt;PAD&gt; &lt;PAD&gt; &lt;PAD&gt; &lt;PAD&gt; &lt;PAD&gt; &lt;PAD&gt; ...</td>\n",
       "      <td>0.814357</td>\n",
       "      <td>0</td>\n",
       "    </tr>\n",
       "    <tr>\n",
       "      <th>1468</th>\n",
       "      <td>브베 오빠 다단계 전적 있을듯 &lt;PAD&gt; &lt;PAD&gt; &lt;PAD&gt; &lt;PAD&gt; &lt;PAD&gt;...</td>\n",
       "      <td>0.999067</td>\n",
       "      <td>0</td>\n",
       "    </tr>\n",
       "    <tr>\n",
       "      <th>1499</th>\n",
       "      <td>브베 형 지금 고추 만져 ? 왜 손 책상 아래 에 잇어 ? &lt;PAD&gt; &lt;PAD&gt; &lt;...</td>\n",
       "      <td>0.966155</td>\n",
       "      <td>0</td>\n",
       "    </tr>\n",
       "  </tbody>\n",
       "</table>\n",
       "</div>"
      ],
      "text/plain": [
       "                                                      0   predict  label\n",
       "52    브베 야 밥 묵자 어서 밥상 차려오라 고해 라 니 먹방 하 는걸 봐야 속이 편할거 ...  0.992783      0\n",
       "147   근데 왜 여기 에선 하는거야 근데 왜 여기 에선 하는거야 근데 왜 여기 에선 하는거...  0.721746      0\n",
       "148   어허 허허 = 할말 없으니까 가짜 웃음 <PAD> <PAD> <PAD> <PAD> ...  0.878579      0\n",
       "156   진짜 톰크루즈 인지 아 나 ㅄ 이 <PAD> <PAD> <PAD> <PAD> <PA...  0.864513      0\n",
       "212   브베 야 방송 접자 <PAD> <PAD> <PAD> <PAD> <PAD> <PAD>...  0.999990      0\n",
       "261   브베 형 뮤직비디오 언제 만들어요 현기증 나 요 브베 형 뮤직비디오 언제 만들어요 ...  0.999923      0\n",
       "301   대머리 타코야끼 새끼 야 어제 불렀던 노래 제목 뭐 냐 고 <PAD> <PAD> <...  0.998394      0\n",
       "305   정 품이아니라서 <PAD> <PAD> <PAD> <PAD> <PAD> <PAD> <...  0.848384      0\n",
       "366   하루 지나면 없었던 일 되는거냐 ? 어제 일 언급 하지말라고 ? ㅋㅋㅋ 리셋 임 ,...  0.724809      0\n",
       "381   무기 개 사기 에 뭐 야 이 거 <PAD> <PAD> <PAD> <PAD> <PAD...  0.990117      0\n",
       "393   더 채팅 을 편식 하네 <PAD> <PAD> <PAD> <PAD> <PAD> <PA...  0.882404      0\n",
       "429   브베 야 어떤 유튜버 에게 들었는데 너 빚 많이 쌓었다며 ... <PAD> <PAD...  0.731207      0\n",
       "442   5 데이샌드 야 <PAD> <PAD> <PAD> <PAD> <PAD> <PAD> <...  0.692990      0\n",
       "443   노래 끄라고 ㅡ <PAD> <PAD> <PAD> <PAD> <PAD> <PAD> <...  0.999993      0\n",
       "475   예전 엔 아무리 욕 들 어도 금강 멘탈 유지 했는데 요즘 돈맛 을 보더 니 일부러 ...  0.999957      0\n",
       "498   진짜 듸진다 먼 탐 크루즈 야 <PAD> <PAD> <PAD> <PAD> <PAD>...  0.994415      0\n",
       "524   위장 도 약 한 사람 이 저렇게 과자 많이 먹고 짠거 많이 먹는거 첨 봐 <PAD>...  0.978645      0\n",
       "550   욕 하 지미 <PAD> <PAD> <PAD> <PAD> <PAD> <PAD> <PA...  0.992062      0\n",
       "570   웃는거 봐 ........................ <PAD> <PAD> <PA...  0.978304      0\n",
       "575   표정 봐 ㅋㅋ <PAD> <PAD> <PAD> <PAD> <PAD> <PAD> <P...  0.989581      0\n",
       "707   지 <PAD> <PAD> <PAD> <PAD> <PAD> <PAD> <PAD> <P...  0.529805      0\n",
       "761   신음 내지마 <PAD> <PAD> <PAD> <PAD> <PAD> <PAD> <PA...  0.999995      0\n",
       "791   옥뜰 아 따당 행 억억 옥 . 떨 . 옥 떨 . 옥 . 떨 <PAD> <PAD> <...  0.311491      1\n",
       "793   나 브 사모 아닌데 <PAD> <PAD> <PAD> <PAD> <PAD> <PAD>...  0.999999      0\n",
       "805   옥뜰 아 따당 행 억억 옥 . 떨 . 옥 떨 . 옥 . 떨 <PAD> <PAD> <...  0.311491      1\n",
       "810   느그 작 좀 그만해라 ... <PAD> <PAD> <PAD> <PAD> <PAD> ...  0.990137      0\n",
       "819   기호 1 번 해명 해라 이기 <PAD> <PAD> <PAD> <PAD> <PAD> ...  0.997758      0\n",
       "849   옥뜰 아 따당 행 억억 옥 . 떨 . 옥 떨 . 옥 . 떨 <PAD> <PAD> <...  0.311491      1\n",
       "881   어휴 얼마나 투자 를 안 했으면 저 거가 지고 투자 했다고 잘 했다고 그러냐 <PA...  0.999934      0\n",
       "890   HE LOVE Pillow <PAD> <PAD> <PAD> <PAD> <PAD> <...  0.927481      0\n",
       "938   뭘 그 랫 어 야 <PAD> <PAD> <PAD> <PAD> <PAD> <PAD> ...  0.994552      0\n",
       "940   옥뜰 아 따당 행 억억 옥 . 떨 . 옥 떨 . 옥 . 떨 <PAD> <PAD> <...  0.311491      1\n",
       "945   너 맨 처음 엔 스폰 안 받는다고 하지 않았냐 ?? <PAD> <PAD> <PAD>...  0.989485      0\n",
       "953   아니 씨 ㅏㄹ 뮤슨 일이 냐 고 묻잖아 <PAD> <PAD> <PAD> <PAD> ...  0.881610      0\n",
       "1006  오오 한국어 설명 좋다 <PAD> <PAD> <PAD> <PAD> <PAD> <PA...  0.777472      0\n",
       "1025  얘 들 아 난 이제 부터 브베 욕 안하기로 했다 유신 그 쓰래 기 새끼 에 비 하면...  0.946746      0\n",
       "1056  브베 야 내 가 김영철 인스타 에 너 언급 했는데 김영철 이 상관 안 한대 <PAD...  0.995206      0\n",
       "1094  야 브베 야 <PAD> <PAD> <PAD> <PAD> <PAD> <PAD> <PA...  0.971060      0\n",
       "1182  뭐 야 브베 여기 서하 냐 <PAD> <PAD> <PAD> <PAD> <PAD> <...  0.944095      0\n",
       "1212  이보 세 요 . 소통 좀 하세요 . <PAD> <PAD> <PAD> <PAD> <P...  0.969865      0\n",
       "1335  어 먹다가 말 하 니까 <PAD> <PAD> <PAD> <PAD> <PAD> <PA...  0.999962      0\n",
       "1338  뎀 지 실화 냐 ㅕ ? <PAD> <PAD> <PAD> <PAD> <PAD> <PA...  0.680701      0\n",
       "1355  옥뜰 아 영차 영차 옥 뜰 옥 뜰 <PAD> <PAD> <PAD> <PAD> <PA...  0.973975      0\n",
       "1358  집 비하 해명 하 라 <PAD> <PAD> <PAD> <PAD> <PAD> <PAD...  0.803201      0\n",
       "1378  목소리 봐 <PAD> <PAD> <PAD> <PAD> <PAD> <PAD> <PAD...  0.949612      0\n",
       "1386  아이작 플레이 타임 몇 시간 이에요 형 <PAD> <PAD> <PAD> <PAD> ...  0.560731      0\n",
       "1430  정신병 자 새끼 <PAD> <PAD> <PAD> <PAD> <PAD> <PAD> <...  0.999664      0\n",
       "1437  배 개 <PAD> <PAD> <PAD> <PAD> <PAD> <PAD> <PAD> ...  0.814357      0\n",
       "1468  브베 오빠 다단계 전적 있을듯 <PAD> <PAD> <PAD> <PAD> <PAD>...  0.999067      0\n",
       "1499  브베 형 지금 고추 만져 ? 왜 손 책상 아래 에 잇어 ? <PAD> <PAD> <...  0.966155      0"
      ]
     },
     "execution_count": 25,
     "metadata": {},
     "output_type": "execute_result"
    }
   ],
   "source": [
    "result[model_up.predict_classes(up_X_test) != up_y_test]"
   ]
  },
  {
   "cell_type": "markdown",
   "metadata": {},
   "source": [
    "# 시11111발 의 경우"
   ]
  },
  {
   "cell_type": "code",
   "execution_count": 26,
   "metadata": {
    "ExecuteTime": {
     "end_time": "2019-08-08T10:49:27.725953Z",
     "start_time": "2019-08-08T10:49:27.707967Z"
    }
   },
   "outputs": [
    {
     "name": "stdout",
     "output_type": "stream",
     "text": [
      "['시/Noun', '1111/Number', '발/Noun']\n"
     ]
    }
   ],
   "source": [
    "test_chat = \"시1111발\"\n",
    "test_id = text_to_index(morp.pos(test_chat, norm=True, join=True))\n",
    "print(morp.pos(test_chat, norm=True, join=True))\n",
    "sentence_size = 20\n",
    "x_padded_temp = sequence.pad_sequences([test_id],\n",
    "                                 maxlen=sentence_size,\n",
    "                                 truncating='post',\n",
    "                                 padding='post',\n",
    "                                 value=pad_id)"
   ]
  },
  {
   "cell_type": "code",
   "execution_count": 27,
   "metadata": {
    "ExecuteTime": {
     "end_time": "2019-08-08T10:49:27.754936Z",
     "start_time": "2019-08-08T10:49:27.731950Z"
    }
   },
   "outputs": [
    {
     "data": {
      "text/plain": [
       "array([[0.9384633 , 0.06383304]], dtype=float32)"
      ]
     },
     "execution_count": 27,
     "metadata": {},
     "output_type": "execute_result"
    }
   ],
   "source": [
    "model_up.predict(x_padded_temp)"
   ]
  },
  {
   "cell_type": "markdown",
   "metadata": {},
   "source": [
    "## 모델 체크포인트 저장"
   ]
  },
  {
   "cell_type": "code",
   "execution_count": 28,
   "metadata": {
    "ExecuteTime": {
     "end_time": "2019-08-08T10:49:27.772925Z",
     "start_time": "2019-08-08T10:49:27.760934Z"
    }
   },
   "outputs": [],
   "source": [
    "# model_up.save('../model/cnn_oversample.h5')"
   ]
  },
  {
   "cell_type": "markdown",
   "metadata": {},
   "source": [
    "## Downsampling"
   ]
  },
  {
   "cell_type": "code",
   "execution_count": 29,
   "metadata": {
    "ExecuteTime": {
     "end_time": "2019-08-08T10:49:27.812912Z",
     "start_time": "2019-08-08T10:49:27.777923Z"
    }
   },
   "outputs": [
    {
     "data": {
      "text/plain": [
       "(974, 487)"
      ]
     },
     "execution_count": 29,
     "metadata": {},
     "output_type": "execute_result"
    }
   ],
   "source": [
    "down_X, down_y = RandomUnderSampler().fit_resample(x_padded, datasets.label)\n",
    "down_X_train, down_X_test, down_y_train, down_y_test = train_test_split(down_X, down_y)\n",
    "\n",
    "# 총 데이터 수 , 1 레이블 데이터 수\n",
    "len(down_y), down_y.sum()"
   ]
  },
  {
   "cell_type": "code",
   "execution_count": 40,
   "metadata": {
    "ExecuteTime": {
     "end_time": "2019-08-08T10:51:47.968887Z",
     "start_time": "2019-08-08T10:51:47.622038Z"
    }
   },
   "outputs": [],
   "source": [
    "model_down = keras.Sequential([\n",
    "    keras.layers.Embedding(vocab_size, 10),\n",
    "    keras.layers.Conv1D(32, 3, padding=\"same\", activation=tf.nn.relu),\n",
    "    keras.layers.Dropout(0.5),\n",
    "    keras.layers.Conv1D(32, 3, padding=\"same\", activation=tf.nn.relu),\n",
    "    keras.layers.GlobalMaxPool1D(),\n",
    "    keras.layers.Dropout(0.5),\n",
    "    keras.layers.Dense(2, activation=tf.nn.sigmoid)\n",
    "])"
   ]
  },
  {
   "cell_type": "code",
   "execution_count": 41,
   "metadata": {
    "ExecuteTime": {
     "end_time": "2019-08-08T10:51:58.617395Z",
     "start_time": "2019-08-08T10:51:47.972840Z"
    }
   },
   "outputs": [
    {
     "name": "stdout",
     "output_type": "stream",
     "text": [
      "Train on 730 samples, validate on 244 samples\n",
      "Epoch 1/10\n",
      "730/730 [==============================] - ETA: 40s - loss: 0.6910 - acc: 0.50 - ETA: 6s - loss: 0.6931 - acc: 0.5156 - ETA: 2s - loss: 0.6914 - acc: 0.526 - ETA: 1s - loss: 0.6935 - acc: 0.504 - ETA: 0s - loss: 0.6939 - acc: 0.502 - ETA: 0s - loss: 0.6954 - acc: 0.490 - 3s 4ms/sample - loss: 0.6947 - acc: 0.4959 - val_loss: 0.6924 - val_acc: 0.5041\n",
      "Epoch 2/10\n",
      "730/730 [==============================] - ETA: 0s - loss: 0.6876 - acc: 0.546 - ETA: 0s - loss: 0.6907 - acc: 0.553 - ETA: 0s - loss: 0.6911 - acc: 0.556 - ETA: 0s - loss: 0.6926 - acc: 0.544 - ETA: 0s - loss: 0.6933 - acc: 0.526 - ETA: 0s - loss: 0.6925 - acc: 0.527 - ETA: 0s - loss: 0.6925 - acc: 0.526 - 0s 574us/sample - loss: 0.6925 - acc: 0.5253 - val_loss: 0.6912 - val_acc: 0.5061\n",
      "Epoch 3/10\n",
      "730/730 [==============================] - ETA: 0s - loss: 0.6920 - acc: 0.546 - ETA: 0s - loss: 0.6892 - acc: 0.552 - ETA: 0s - loss: 0.6904 - acc: 0.529 - ETA: 0s - loss: 0.6899 - acc: 0.551 - ETA: 0s - loss: 0.6904 - acc: 0.542 - ETA: 0s - loss: 0.6905 - acc: 0.540 - 0s 527us/sample - loss: 0.6907 - acc: 0.5356 - val_loss: 0.6881 - val_acc: 0.6578\n",
      "Epoch 4/10\n",
      "730/730 [==============================] - ETA: 0s - loss: 0.6877 - acc: 0.593 - ETA: 0s - loss: 0.6902 - acc: 0.559 - ETA: 0s - loss: 0.6893 - acc: 0.571 - ETA: 0s - loss: 0.6888 - acc: 0.580 - ETA: 0s - loss: 0.6893 - acc: 0.574 - ETA: 0s - loss: 0.6880 - acc: 0.584 - 0s 498us/sample - loss: 0.6876 - acc: 0.5842 - val_loss: 0.6813 - val_acc: 0.7459\n",
      "Epoch 5/10\n",
      "730/730 [==============================] - ETA: 0s - loss: 0.6817 - acc: 0.671 - ETA: 0s - loss: 0.6847 - acc: 0.621 - ETA: 0s - loss: 0.6819 - acc: 0.625 - ETA: 0s - loss: 0.6804 - acc: 0.630 - ETA: 0s - loss: 0.6788 - acc: 0.623 - ETA: 0s - loss: 0.6768 - acc: 0.628 - 0s 481us/sample - loss: 0.6761 - acc: 0.6322 - val_loss: 0.6641 - val_acc: 0.7295\n",
      "Epoch 6/10\n",
      "730/730 [==============================] - ETA: 0s - loss: 0.6662 - acc: 0.625 - ETA: 0s - loss: 0.6560 - acc: 0.696 - ETA: 0s - loss: 0.6542 - acc: 0.703 - ETA: 0s - loss: 0.6519 - acc: 0.719 - ETA: 0s - loss: 0.6496 - acc: 0.727 - 0s 441us/sample - loss: 0.6413 - acc: 0.7274 - val_loss: 0.6141 - val_acc: 0.7684\n",
      "Epoch 7/10\n",
      "730/730 [==============================] - ETA: 0s - loss: 0.6296 - acc: 0.671 - ETA: 0s - loss: 0.5912 - acc: 0.781 - ETA: 0s - loss: 0.5792 - acc: 0.806 - ETA: 0s - loss: 0.5611 - acc: 0.816 - ETA: 0s - loss: 0.5549 - acc: 0.811 - 0s 442us/sample - loss: 0.5446 - acc: 0.8144 - val_loss: 0.5259 - val_acc: 0.7807\n",
      "Epoch 8/10\n",
      "730/730 [==============================] - ETA: 0s - loss: 0.4163 - acc: 0.890 - ETA: 0s - loss: 0.4536 - acc: 0.885 - ETA: 0s - loss: 0.4358 - acc: 0.879 - ETA: 0s - loss: 0.4222 - acc: 0.885 - ETA: 0s - loss: 0.4208 - acc: 0.879 - 0s 423us/sample - loss: 0.4157 - acc: 0.8801 - val_loss: 0.4626 - val_acc: 0.8176\n",
      "Epoch 9/10\n",
      "730/730 [==============================] - ETA: 0s - loss: 0.3535 - acc: 0.859 - ETA: 0s - loss: 0.3508 - acc: 0.890 - ETA: 0s - loss: 0.3318 - acc: 0.903 - ETA: 0s - loss: 0.3179 - acc: 0.910 - ETA: 0s - loss: 0.3103 - acc: 0.906 - 0s 435us/sample - loss: 0.2986 - acc: 0.9089 - val_loss: 0.4571 - val_acc: 0.8176\n",
      "Epoch 10/10\n",
      "730/730 [==============================] - ETA: 0s - loss: 0.2689 - acc: 0.921 - ETA: 0s - loss: 0.2313 - acc: 0.940 - ETA: 0s - loss: 0.2115 - acc: 0.947 - ETA: 0s - loss: 0.2165 - acc: 0.945 - ETA: 0s - loss: 0.1980 - acc: 0.954 - 0s 479us/sample - loss: 0.1996 - acc: 0.9493 - val_loss: 0.4584 - val_acc: 0.8135\n",
      "244/244 [==============================] - ETA: 0s - loss: 0.5058 - acc: 0.812 - 0s 176us/sample - loss: 0.4584 - acc: 0.8135\n",
      "Test accuracy: 0.8135246\n"
     ]
    },
    {
     "data": {
      "image/png": "[encoded data removed]",
      "text/plain": [
       "<Figure size 432x360 with 1 Axes>"
      ]
     },
     "metadata": {
      "needs_background": "light"
     },
     "output_type": "display_data"
    }
   ],
   "source": [
    "model_down.compile(optimizer='adam', \n",
    "              loss='binary_crossentropy',\n",
    "              metrics=['accuracy'])\n",
    "\n",
    "history = model_down.fit(down_X_train,\n",
    "          pd.get_dummies(down_y_train),\n",
    "          epochs=10,\n",
    "          validation_data=(down_X_test, pd.get_dummies(down_y_test))\n",
    "         )\n",
    "plot_loss(history)\n",
    "test_loss, test_acc = model_down.evaluate(down_X_test, pd.get_dummies(down_y_test))\n",
    "print('Test accuracy:', test_acc)"
   ]
  },
  {
   "cell_type": "code",
   "execution_count": null,
   "metadata": {},
   "outputs": [],
   "source": []
  },
  {
   "cell_type": "code",
   "execution_count": null,
   "metadata": {},
   "outputs": [],
   "source": []
  },
  {
   "cell_type": "markdown",
   "metadata": {},
   "source": [
    "# TODO\n",
    "- 형태소별 Tokenize 말고 한글 자모별 Tokenize 하여 실험해보기\n",
    "- CNN layer / Parameter 변경시켜보기\n",
    "- 예측 결과 검정하기\n",
    "    - Attention 이용"
   ]
  },
  {
   "cell_type": "code",
   "execution_count": null,
   "metadata": {},
   "outputs": [],
   "source": []
  }
 ],
 "metadata": {
  "kernelspec": {
   "display_name": "Python 3",
   "language": "python",
   "name": "python3"
  },
  "language_info": {
   "codemirror_mode": {
    "name": "ipython",
    "version": 3
   },
   "file_extension": ".py",
   "mimetype": "text/x-python",
   "name": "python",
   "nbconvert_exporter": "python",
   "pygments_lexer": "ipython3",
   "version": "3.7.3"
  }
 },
 "nbformat": 4,
 "nbformat_minor": 2
}
