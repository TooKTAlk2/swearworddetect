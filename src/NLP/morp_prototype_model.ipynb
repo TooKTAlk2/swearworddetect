{
 "cells": [
  {
   "cell_type": "code",
   "execution_count": 2,
   "metadata": {
    "ExecuteTime": {
     "end_time": "2019-08-07T11:40:12.041755Z",
     "start_time": "2019-08-07T11:39:50.647971Z"
    }
   },
   "outputs": [
    {
     "name": "stdout",
     "output_type": "stream",
     "text": [
      "Chan 2019-08-07 \n",
      "\n",
      "CPython 3.7.3\n",
      "IPython 7.6.1\n",
      "\n",
      "numpy 1.16.4\n",
      "pandas 0.24.2\n",
      "sklearn 0.21.2\n",
      "konlpy 0.5.1\n",
      "tensorflow 1.13.1\n",
      "matplotlib 3.1.0\n",
      "imblearn 0.5.0\n"
     ]
    }
   ],
   "source": [
    "%load_ext watermark\n",
    "%watermark -a Chan -d -v -p numpy,pandas,sklearn,konlpy,tensorflow,matplotlib,imblearn"
   ]
  },
  {
   "cell_type": "code",
   "execution_count": 46,
   "metadata": {
    "ExecuteTime": {
     "end_time": "2019-08-07T12:40:12.023972Z",
     "start_time": "2019-08-07T12:40:11.998984Z"
    }
   },
   "outputs": [],
   "source": [
    "import numpy as np\n",
    "import pandas as pd\n",
    "from sklearn.model_selection import train_test_split\n",
    "from konlpy.tag import Okt\n",
    "import tensorflow as tf\n",
    "from tensorflow.python.keras.preprocessing import sequence\n",
    "from tensorflow import keras\n",
    "from tqdm import tqdm\n",
    "from collections import Counter\n",
    "from matplotlib import pyplot as plt\n",
    "import pickle"
   ]
  },
  {
   "cell_type": "markdown",
   "metadata": {},
   "source": [
    "# Load datasets"
   ]
  },
  {
   "cell_type": "code",
   "execution_count": 4,
   "metadata": {
    "ExecuteTime": {
     "end_time": "2019-08-07T11:40:14.088565Z",
     "start_time": "2019-08-07T11:40:13.763753Z"
    }
   },
   "outputs": [
    {
     "name": "stdout",
     "output_type": "stream",
     "text": [
      "1\n",
      "2\n",
      "3\n",
      "4\n"
     ]
    },
    {
     "data": {
      "text/html": [
       "<div>\n",
       "<style scoped>\n",
       "    .dataframe tbody tr th:only-of-type {\n",
       "        vertical-align: middle;\n",
       "    }\n",
       "\n",
       "    .dataframe tbody tr th {\n",
       "        vertical-align: top;\n",
       "    }\n",
       "\n",
       "    .dataframe thead th {\n",
       "        text-align: right;\n",
       "    }\n",
       "</style>\n",
       "<table border=\"1\" class=\"dataframe\">\n",
       "  <thead>\n",
       "    <tr style=\"text-align: right;\">\n",
       "      <th></th>\n",
       "      <th>chat</th>\n",
       "      <th>label</th>\n",
       "    </tr>\n",
       "  </thead>\n",
       "  <tbody>\n",
       "    <tr>\n",
       "      <th>0</th>\n",
       "      <td>자기잘못인거알면 중고딩도 먼저사과하는걸아는데</td>\n",
       "      <td>0</td>\n",
       "    </tr>\n",
       "    <tr>\n",
       "      <th>1</th>\n",
       "      <td>싹둑이 채팅창 관리 중입니다</td>\n",
       "      <td>0</td>\n",
       "    </tr>\n",
       "    <tr>\n",
       "      <th>2</th>\n",
       "      <td>싹둑이 채팅창 관리 중입니다</td>\n",
       "      <td>0</td>\n",
       "    </tr>\n",
       "    <tr>\n",
       "      <th>3</th>\n",
       "      <td>어제 어글 아직도 가? 개인적으로 사과하셨대 그만해 칭구들앙</td>\n",
       "      <td>0</td>\n",
       "    </tr>\n",
       "    <tr>\n",
       "      <th>4</th>\n",
       "      <td>케읍이 뭔데요 무슨사건있엇음?</td>\n",
       "      <td>0</td>\n",
       "    </tr>\n",
       "  </tbody>\n",
       "</table>\n",
       "</div>"
      ],
      "text/plain": [
       "                                 chat  label\n",
       "0            자기잘못인거알면 중고딩도 먼저사과하는걸아는데      0\n",
       "1                     싹둑이 채팅창 관리 중입니다      0\n",
       "2                     싹둑이 채팅창 관리 중입니다      0\n",
       "3  어제 어글 아직도 가? 개인적으로 사과하셨대 그만해 칭구들앙       0\n",
       "4                    케읍이 뭔데요 무슨사건있엇음?      0"
      ]
     },
     "execution_count": 4,
     "metadata": {},
     "output_type": "execute_result"
    }
   ],
   "source": [
    "datasets = pd.DataFrame()\n",
    "for i in range(1,5):\n",
    "    print(i)\n",
    "    dump = pd.read_csv(\"../../data/sample ({}).csv\".format(i), engine='python',names=['chat','label'])\n",
    "    datasets = pd.concat([datasets, dump])\n",
    "datasets.head()"
   ]
  },
  {
   "cell_type": "code",
   "execution_count": 5,
   "metadata": {
    "ExecuteTime": {
     "end_time": "2019-08-07T11:40:14.105557Z",
     "start_time": "2019-08-07T11:40:14.097562Z"
    }
   },
   "outputs": [],
   "source": [
    "datasets.reset_index(drop=True,inplace=True)"
   ]
  },
  {
   "cell_type": "code",
   "execution_count": 6,
   "metadata": {
    "ExecuteTime": {
     "end_time": "2019-08-07T11:40:14.157531Z",
     "start_time": "2019-08-07T11:40:14.113554Z"
    }
   },
   "outputs": [
    {
     "name": "stdout",
     "output_type": "stream",
     "text": [
      "<class 'pandas.core.frame.DataFrame'>\n",
      "RangeIndex: 3500 entries, 0 to 3499\n",
      "Data columns (total 2 columns):\n",
      "chat     3500 non-null object\n",
      "label    3500 non-null int64\n",
      "dtypes: int64(1), object(1)\n",
      "memory usage: 54.8+ KB\n"
     ]
    }
   ],
   "source": [
    "datasets.info()"
   ]
  },
  {
   "cell_type": "code",
   "execution_count": 7,
   "metadata": {
    "ExecuteTime": {
     "end_time": "2019-08-07T11:40:14.177515Z",
     "start_time": "2019-08-07T11:40:14.162525Z"
    }
   },
   "outputs": [],
   "source": [
    "datasets.label = datasets.label.astype('int')"
   ]
  },
  {
   "cell_type": "code",
   "execution_count": 50,
   "metadata": {
    "ExecuteTime": {
     "end_time": "2019-08-07T13:01:57.682711Z",
     "start_time": "2019-08-07T13:01:57.555785Z"
    }
   },
   "outputs": [
    {
     "data": {
      "text/plain": [
       "0.13914285714285715"
      ]
     },
     "execution_count": 50,
     "metadata": {},
     "output_type": "execute_result"
    }
   ],
   "source": [
    "len(datasets[datasets.label ==1])/ len(datasets) # 유해한 레이블의 데이터가 많이 부족함 데이터 편향ㅠㅠ"
   ]
  },
  {
   "cell_type": "markdown",
   "metadata": {
    "ExecuteTime": {
     "end_time": "2019-08-06T15:38:19.687895Z",
     "start_time": "2019-08-06T15:38:19.677899Z"
    }
   },
   "source": [
    "# Tokenize\n",
    "## 형태소분석"
   ]
  },
  {
   "cell_type": "code",
   "execution_count": 9,
   "metadata": {
    "ExecuteTime": {
     "end_time": "2019-08-07T11:40:26.505464Z",
     "start_time": "2019-08-07T11:40:14.259476Z"
    }
   },
   "outputs": [
    {
     "name": "stderr",
     "output_type": "stream",
     "text": [
      "C:\\Users\\skarn\\Anaconda3\\envs\\DataAnalysis\\lib\\site-packages\\jpype\\_core.py:210: UserWarning: \n",
      "-------------------------------------------------------------------------------\n",
      "Deprecated: convertStrings was not specified when starting the JVM. The default\n",
      "behavior in JPype will be False starting in JPype 0.8. The recommended setting\n",
      "for new code is convertStrings=False.  The legacy value of True was assumed for\n",
      "this session. If you are a user of an application that reported this warning,\n",
      "please file a ticket with the developer.\n",
      "-------------------------------------------------------------------------------\n",
      "\n",
      "  \"\"\")\n"
     ]
    }
   ],
   "source": [
    "morp = Okt()"
   ]
  },
  {
   "cell_type": "code",
   "execution_count": 10,
   "metadata": {
    "ExecuteTime": {
     "end_time": "2019-08-07T11:40:57.576874Z",
     "start_time": "2019-08-07T11:40:26.510462Z"
    }
   },
   "outputs": [
    {
     "name": "stderr",
     "output_type": "stream",
     "text": [
      "100%|█████████████████████████████████████████████████████████████████████████████| 3500/3500 [00:31<00:00, 112.83it/s]\n"
     ]
    }
   ],
   "source": [
    "morped = [morp.pos(_, norm=True, join=True) for _ in tqdm(datasets.chat)] # Stemming은 하지 않는다."
   ]
  },
  {
   "cell_type": "code",
   "execution_count": 11,
   "metadata": {
    "ExecuteTime": {
     "end_time": "2019-08-07T11:40:57.599864Z",
     "start_time": "2019-08-07T11:40:57.582871Z"
    }
   },
   "outputs": [
    {
     "data": {
      "text/plain": [
       "[['자기/Noun',\n",
       "  '잘못/Noun',\n",
       "  '인거/Josa',\n",
       "  '알/Noun',\n",
       "  '면/Josa',\n",
       "  '중/Noun',\n",
       "  '고딩/Noun',\n",
       "  '도/Josa',\n",
       "  '먼저/Noun',\n",
       "  '사과/Noun',\n",
       "  '하/Suffix',\n",
       "  '는/Josa',\n",
       "  '걸아는데/Verb'],\n",
       " ['싹둑/Noun',\n",
       "  '이/Josa',\n",
       "  '채팅/Noun',\n",
       "  '창/Noun',\n",
       "  '관리/Noun',\n",
       "  '중/Noun',\n",
       "  '입니다/Adjective'],\n",
       " ['싹둑/Noun',\n",
       "  '이/Josa',\n",
       "  '채팅/Noun',\n",
       "  '창/Noun',\n",
       "  '관리/Noun',\n",
       "  '중/Noun',\n",
       "  '입니다/Adjective'],\n",
       " ['어제/Noun',\n",
       "  '어글/Noun',\n",
       "  '아직도/Adverb',\n",
       "  '가/Verb',\n",
       "  '?/Punctuation',\n",
       "  '개인/Noun',\n",
       "  '적/Suffix',\n",
       "  '으로/Josa',\n",
       "  '사과/Noun',\n",
       "  '하셨대/Verb',\n",
       "  '그만해/Adjective',\n",
       "  '칭구들앙/Noun'],\n",
       " ['케읍/Noun',\n",
       "  '이/Josa',\n",
       "  '뭔/Modifier',\n",
       "  '데/Noun',\n",
       "  '요/Josa',\n",
       "  '무슨/Modifier',\n",
       "  '사건/Noun',\n",
       "  '있/Adjective',\n",
       "  '엇음/Noun',\n",
       "  '?/Punctuation']]"
      ]
     },
     "execution_count": 11,
     "metadata": {},
     "output_type": "execute_result"
    }
   ],
   "source": [
    "morped[:5]"
   ]
  },
  {
   "cell_type": "markdown",
   "metadata": {},
   "source": [
    "## Dictionary\n",
    "최빈 형태소에 대한 단어사전 구성"
   ]
  },
  {
   "cell_type": "code",
   "execution_count": 48,
   "metadata": {
    "ExecuteTime": {
     "end_time": "2019-08-07T12:40:52.496826Z",
     "start_time": "2019-08-07T12:40:52.210993Z"
    }
   },
   "outputs": [
    {
     "name": "stdout",
     "output_type": "stream",
     "text": [
      "고빈도 단어:\n",
      "형/Suffix :  724\n",
      "이/Josa :  706\n",
      "샤/Noun :  587\n",
      "나왔/Verb :  562\n",
      "브베/Noun :  442\n",
      "창/Noun :  420\n",
      "채팅/Noun :  417\n",
      "중/Noun :  408\n",
      "입니다/Adjective :  408\n",
      "싹둑/Noun :  407\n",
      "\n",
      "단어 사전:\n",
      "0 <PAD>\n",
      "1 <OOV>\n",
      "2 형/Suffix\n",
      "3 이/Josa\n",
      "4 샤/Noun\n",
      "5 나왔/Verb\n",
      "6 브베/Noun\n",
      "7 창/Noun\n",
      "8 채팅/Noun\n",
      "9 중/Noun\n",
      "\n",
      "단어 사전 크기:  3421\n"
     ]
    }
   ],
   "source": [
    "vocab_size = 5000\n",
    "\n",
    "pad_id = 0\n",
    "oov_id = 1\n",
    "index_offset = 1\n",
    "\n",
    "def make_vocab(sentences):\n",
    "    word_counter = Counter()\n",
    "\n",
    "    for sent in sentences:\n",
    "        word_counter.update(sent)\n",
    "\n",
    "    most_common = word_counter.most_common()\n",
    "    print(\"고빈도 단어:\")\n",
    "    for k, v in most_common[:10]:\n",
    "        print(k, \": \", v)\n",
    "\n",
    "        vocab = {\n",
    "        '<PAD>': pad_id,\n",
    "        '<OOV>': oov_id\n",
    "        }\n",
    "    for i, (word, cnt) in enumerate(most_common, start=index_offset+1):\n",
    "        vocab[word] = i\n",
    "        if len(vocab) >= vocab_size:\n",
    "            break\n",
    "\n",
    "    return vocab\n",
    "\n",
    "word_index = make_vocab(morped)\n",
    "word_inverted_index = {v:k for k, v in word_index.items()}\n",
    "\n",
    "print(\"\\n단어 사전:\")\n",
    "for i in range(0, 10):\n",
    "    print(i, word_inverted_index[i])\n",
    "\n",
    "print(\"\\n단어 사전 크기: \", len(word_index))\n",
    "\n",
    "# vocab save\n",
    "with open('./vocab/vocab_index.pickle', 'wb') as f:\n",
    "    pickle.dump(word_index, f, pickle.HIGHEST_PROTOCOL)\n",
    "with open('./vocab/vocab_inverted_index.pickle', 'wb') as f:\n",
    "    pickle.dump(word_inverted_index, f, pickle.HIGHEST_PROTOCOL)"
   ]
  },
  {
   "cell_type": "code",
   "execution_count": 13,
   "metadata": {
    "ExecuteTime": {
     "end_time": "2019-08-07T11:40:58.108570Z",
     "start_time": "2019-08-07T11:40:58.040608Z"
    }
   },
   "outputs": [
    {
     "name": "stdout",
     "output_type": "stream",
     "text": [
      "원본:  ['자기/Noun', '잘못/Noun', '인거/Josa', '알/Noun', '면/Josa', '중/Noun', '고딩/Noun', '도/Josa', '먼저/Noun', '사과/Noun', '하/Suffix', '는/Josa', '걸아는데/Verb']\n",
      "문자 -> 숫자:  [234, 781, 782, 381, 293, 9, 1292, 58, 1293, 235, 93, 60, 1294]\n",
      "숫자 -> 문자:  자기/Noun 잘못/Noun 인거/Josa 알/Noun 면/Josa 중/Noun 고딩/Noun 도/Josa 먼저/Noun 사과/Noun 하/Suffix 는/Josa 걸아는데/Verb\n"
     ]
    }
   ],
   "source": [
    "def index_to_text(indexes):\n",
    "    return ' '.join([word_inverted_index[i] for i in indexes])\n",
    "\n",
    "def text_to_index(tokens):\n",
    "    indexes = []\n",
    "    for tok in tokens:\n",
    "        if tok in word_index:\n",
    "            indexes.append(word_index[tok])\n",
    "        else:\n",
    "            indexes.append(oov_id)\n",
    "\n",
    "    return indexes\n",
    "\n",
    "print(\"원본: \", morped[0])\n",
    "ids = text_to_index(morped[0])\n",
    "print(\"문자 -> 숫자: \", ids)\n",
    "print(\"숫자 -> 문자: \", index_to_text(ids))"
   ]
  },
  {
   "cell_type": "markdown",
   "metadata": {},
   "source": [
    "# Padding"
   ]
  },
  {
   "cell_type": "code",
   "execution_count": 14,
   "metadata": {
    "ExecuteTime": {
     "end_time": "2019-08-07T11:40:58.288470Z",
     "start_time": "2019-08-07T11:40:58.114567Z"
    }
   },
   "outputs": [],
   "source": [
    "x_variable = [text_to_index(_) for _ in morped]\n",
    "\n",
    "sentence_size = 20\n",
    "x_padded = sequence.pad_sequences(x_variable,\n",
    "                                 maxlen=sentence_size,\n",
    "                                 truncating='post',\n",
    "                                 padding='post',\n",
    "                                 value=pad_id)"
   ]
  },
  {
   "cell_type": "markdown",
   "metadata": {},
   "source": [
    "# Data Split"
   ]
  },
  {
   "cell_type": "code",
   "execution_count": 15,
   "metadata": {
    "ExecuteTime": {
     "end_time": "2019-08-07T11:40:58.377416Z",
     "start_time": "2019-08-07T11:40:58.328444Z"
    }
   },
   "outputs": [
    {
     "name": "stdout",
     "output_type": "stream",
     "text": [
      "train_inputs shape:  (2625, 20)\n",
      "test_inputs shape:  (875, 20)\n",
      "train_labels shape:  (2625,)\n",
      "test_labels shape:  (875,)\n"
     ]
    }
   ],
   "source": [
    "X_train, X_test, y_train, y_test = train_test_split(x_padded, datasets.label)\n",
    "\n",
    "print(\"train_inputs shape: \", X_train.shape)\n",
    "print(\"test_inputs shape: \", X_test.shape)\n",
    "print(\"train_labels shape: \", y_train.shape)\n",
    "print(\"test_labels shape: \", y_test.shape)"
   ]
  },
  {
   "cell_type": "markdown",
   "metadata": {},
   "source": [
    "# Model"
   ]
  },
  {
   "cell_type": "code",
   "execution_count": 16,
   "metadata": {
    "ExecuteTime": {
     "end_time": "2019-08-07T11:40:58.426387Z",
     "start_time": "2019-08-07T11:40:58.385411Z"
    }
   },
   "outputs": [],
   "source": [
    "import warnings\n",
    "warnings.filterwarnings(action='once')"
   ]
  },
  {
   "cell_type": "code",
   "execution_count": 17,
   "metadata": {
    "ExecuteTime": {
     "end_time": "2019-08-07T11:41:00.019614Z",
     "start_time": "2019-08-07T11:40:58.432384Z"
    }
   },
   "outputs": [
    {
     "name": "stderr",
     "output_type": "stream",
     "text": [
      "C:\\Users\\skarn\\Anaconda3\\envs\\DataAnalysis\\lib\\site-packages\\numpy\\lib\\type_check.py:546: DeprecationWarning: np.asscalar(a) is deprecated since NumPy v1.16, use a.item() instead\n",
      "  'a.item() instead', DeprecationWarning, stacklevel=1)\n"
     ]
    },
    {
     "name": "stdout",
     "output_type": "stream",
     "text": [
      "WARNING:tensorflow:From C:\\Users\\skarn\\Anaconda3\\envs\\DataAnalysis\\lib\\site-packages\\tensorflow\\python\\ops\\resource_variable_ops.py:435: colocate_with (from tensorflow.python.framework.ops) is deprecated and will be removed in a future version.\n",
      "Instructions for updating:\n",
      "Colocations handled automatically by placer.\n",
      "WARNING:tensorflow:From C:\\Users\\skarn\\Anaconda3\\envs\\DataAnalysis\\lib\\site-packages\\tensorflow\\python\\keras\\layers\\core.py:143: calling dropout (from tensorflow.python.ops.nn_ops) with keep_prob is deprecated and will be removed in a future version.\n",
      "Instructions for updating:\n",
      "Please use `rate` instead of `keep_prob`. Rate should be set to `rate = 1 - keep_prob`.\n"
     ]
    }
   ],
   "source": [
    "model = keras.Sequential([\n",
    "    keras.layers.Embedding(vocab_size, 10),\n",
    "    keras.layers.Conv1D(32, 3, padding=\"same\", activation=tf.nn.relu),\n",
    "    keras.layers.Dropout(0.5),\n",
    "    keras.layers.Conv1D(32, 3, padding=\"same\", activation=tf.nn.relu),\n",
    "    keras.layers.GlobalMaxPool1D(),\n",
    "    keras.layers.Dropout(0.5),\n",
    "    keras.layers.Dense(2, activation=tf.nn.sigmoid)\n",
    "])"
   ]
  },
  {
   "cell_type": "code",
   "execution_count": 18,
   "metadata": {
    "ExecuteTime": {
     "end_time": "2019-08-07T11:41:00.074655Z",
     "start_time": "2019-08-07T11:41:00.049596Z"
    }
   },
   "outputs": [],
   "source": [
    "def plot_loss(history):\n",
    "    plt.figure(figsize=(6,5))\n",
    "    val = plt.plot(history.epoch, history.history['val_loss'],\n",
    "                 '--', label='Test')\n",
    "    plt.plot(history.epoch, history.history['loss'], color=val[0].get_color(),\n",
    "           label='Train')\n",
    "\n",
    "    plt.xlabel('Epochs')\n",
    "    plt.ylabel(\"Loss\")\n",
    "    plt.legend()\n",
    "\n",
    "    plt.xlim([0,max(history.epoch)])\n",
    "\n",
    "def eval_model(model):\n",
    "    test_loss, test_acc = model.evaluate(X_test, pd.get_dummies(y_test))\n",
    "    print('Test accuracy:', test_acc)"
   ]
  },
  {
   "cell_type": "code",
   "execution_count": 19,
   "metadata": {
    "ExecuteTime": {
     "end_time": "2019-08-07T11:41:15.093447Z",
     "start_time": "2019-08-07T11:41:00.082640Z"
    }
   },
   "outputs": [
    {
     "name": "stdout",
     "output_type": "stream",
     "text": [
      "Train on 2625 samples, validate on 875 samples\n",
      "WARNING:tensorflow:From C:\\Users\\skarn\\Anaconda3\\envs\\DataAnalysis\\lib\\site-packages\\tensorflow\\python\\ops\\math_ops.py:3066: to_int32 (from tensorflow.python.ops.math_ops) is deprecated and will be removed in a future version.\n",
      "Instructions for updating:\n",
      "Use tf.cast instead.\n",
      "WARNING:tensorflow:From C:\\Users\\skarn\\Anaconda3\\envs\\DataAnalysis\\lib\\site-packages\\tensorflow\\python\\ops\\math_grad.py:102: div (from tensorflow.python.ops.math_ops) is deprecated and will be removed in a future version.\n",
      "Instructions for updating:\n",
      "Deprecated in favor of operator or tf.math.divide.\n",
      "Epoch 1/5\n",
      "2625/2625 [==============================] - ETA: 3:08 - loss: 0.7088 - acc: 0.218 - ETA: 46s - loss: 0.7020 - acc: 0.359 - ETA: 19s - loss: 0.6925 - acc: 0.50 - ETA: 14s - loss: 0.6872 - acc: 0.55 - ETA: 10s - loss: 0.6817 - acc: 0.60 - ETA: 8s - loss: 0.6732 - acc: 0.6414 - ETA: 6s - loss: 0.6682 - acc: 0.662 - ETA: 5s - loss: 0.6577 - acc: 0.695 - ETA: 4s - loss: 0.6445 - acc: 0.722 - ETA: 3s - loss: 0.6387 - acc: 0.725 - ETA: 2s - loss: 0.6275 - acc: 0.737 - ETA: 2s - loss: 0.6126 - acc: 0.749 - ETA: 1s - loss: 0.6025 - acc: 0.756 - ETA: 1s - loss: 0.5851 - acc: 0.768 - ETA: 1s - loss: 0.5813 - acc: 0.770 - ETA: 0s - loss: 0.5730 - acc: 0.775 - ETA: 0s - loss: 0.5681 - acc: 0.778 - ETA: 0s - loss: 0.5570 - acc: 0.784 - ETA: 0s - loss: 0.5530 - acc: 0.787 - ETA: 0s - loss: 0.5474 - acc: 0.790 - 4s 2ms/sample - loss: 0.5429 - acc: 0.7922 - val_loss: 0.4206 - val_acc: 0.8663\n",
      "Epoch 2/5\n",
      "2625/2625 [==============================] - ETA: 0s - loss: 0.6843 - acc: 0.734 - ETA: 1s - loss: 0.5558 - acc: 0.800 - ETA: 1s - loss: 0.4891 - acc: 0.838 - ETA: 0s - loss: 0.5068 - acc: 0.825 - ETA: 0s - loss: 0.4957 - acc: 0.833 - ETA: 0s - loss: 0.4744 - acc: 0.840 - ETA: 0s - loss: 0.4653 - acc: 0.843 - ETA: 0s - loss: 0.4565 - acc: 0.848 - ETA: 0s - loss: 0.4513 - acc: 0.851 - ETA: 0s - loss: 0.4472 - acc: 0.854 - ETA: 0s - loss: 0.4490 - acc: 0.852 - ETA: 0s - loss: 0.4519 - acc: 0.852 - ETA: 0s - loss: 0.4469 - acc: 0.854 - ETA: 0s - loss: 0.4500 - acc: 0.852 - ETA: 0s - loss: 0.4523 - acc: 0.851 - ETA: 0s - loss: 0.4503 - acc: 0.853 - ETA: 0s - loss: 0.4453 - acc: 0.855 - ETA: 0s - loss: 0.4418 - acc: 0.856 - ETA: 0s - loss: 0.4432 - acc: 0.855 - ETA: 0s - loss: 0.4448 - acc: 0.854 - ETA: 0s - loss: 0.4424 - acc: 0.856 - 1s 489us/sample - loss: 0.4424 - acc: 0.8566 - val_loss: 0.4205 - val_acc: 0.8663\n",
      "Epoch 3/5\n",
      "2625/2625 [==============================] - ETA: 1s - loss: 0.4413 - acc: 0.875 - ETA: 0s - loss: 0.3647 - acc: 0.898 - ETA: 0s - loss: 0.3961 - acc: 0.879 - ETA: 0s - loss: 0.3871 - acc: 0.881 - ETA: 0s - loss: 0.4138 - acc: 0.869 - ETA: 0s - loss: 0.4369 - acc: 0.856 - ETA: 0s - loss: 0.4312 - acc: 0.859 - ETA: 0s - loss: 0.4284 - acc: 0.860 - ETA: 0s - loss: 0.4339 - acc: 0.858 - ETA: 0s - loss: 0.4446 - acc: 0.850 - ETA: 0s - loss: 0.4418 - acc: 0.852 - ETA: 0s - loss: 0.4421 - acc: 0.851 - ETA: 0s - loss: 0.4415 - acc: 0.852 - ETA: 0s - loss: 0.4327 - acc: 0.858 - ETA: 0s - loss: 0.4406 - acc: 0.852 - ETA: 0s - loss: 0.4403 - acc: 0.853 - ETA: 0s - loss: 0.4296 - acc: 0.858 - ETA: 0s - loss: 0.4303 - acc: 0.857 - ETA: 0s - loss: 0.4301 - acc: 0.858 - 1s 447us/sample - loss: 0.4310 - acc: 0.8581 - val_loss: 0.4007 - val_acc: 0.8663\n",
      "Epoch 4/5\n",
      "2625/2625 [==============================] - ETA: 0s - loss: 0.3804 - acc: 0.875 - ETA: 0s - loss: 0.4140 - acc: 0.851 - ETA: 0s - loss: 0.3833 - acc: 0.870 - ETA: 0s - loss: 0.3669 - acc: 0.882 - ETA: 0s - loss: 0.3675 - acc: 0.879 - ETA: 0s - loss: 0.3830 - acc: 0.872 - ETA: 0s - loss: 0.3865 - acc: 0.870 - ETA: 0s - loss: 0.3944 - acc: 0.865 - ETA: 0s - loss: 0.4070 - acc: 0.859 - ETA: 0s - loss: 0.4033 - acc: 0.863 - ETA: 0s - loss: 0.4036 - acc: 0.864 - ETA: 0s - loss: 0.4018 - acc: 0.866 - ETA: 0s - loss: 0.4061 - acc: 0.861 - ETA: 0s - loss: 0.4122 - acc: 0.858 - ETA: 0s - loss: 0.4060 - acc: 0.862 - ETA: 0s - loss: 0.4068 - acc: 0.861 - ETA: 0s - loss: 0.4079 - acc: 0.861 - ETA: 0s - loss: 0.4066 - acc: 0.861 - 1s 423us/sample - loss: 0.4103 - acc: 0.8585 - val_loss: 0.4010 - val_acc: 0.8663\n",
      "Epoch 5/5\n",
      "2625/2625 [==============================] - ETA: 0s - loss: 0.2228 - acc: 0.968 - ETA: 0s - loss: 0.3317 - acc: 0.906 - ETA: 0s - loss: 0.3765 - acc: 0.881 - ETA: 0s - loss: 0.3678 - acc: 0.881 - ETA: 0s - loss: 0.3957 - acc: 0.864 - ETA: 0s - loss: 0.3850 - acc: 0.870 - ETA: 0s - loss: 0.3860 - acc: 0.871 - ETA: 0s - loss: 0.3883 - acc: 0.869 - ETA: 0s - loss: 0.3858 - acc: 0.869 - ETA: 0s - loss: 0.3905 - acc: 0.867 - ETA: 0s - loss: 0.3912 - acc: 0.866 - ETA: 0s - loss: 0.3954 - acc: 0.862 - ETA: 0s - loss: 0.3940 - acc: 0.862 - ETA: 0s - loss: 0.3925 - acc: 0.862 - ETA: 0s - loss: 0.3907 - acc: 0.863 - ETA: 0s - loss: 0.3902 - acc: 0.862 - ETA: 0s - loss: 0.3911 - acc: 0.862 - ETA: 0s - loss: 0.3909 - acc: 0.860 - 1s 407us/sample - loss: 0.3936 - acc: 0.8590 - val_loss: 0.3556 - val_acc: 0.8663\n",
      "875/875 [==============================] - ETA: 0s - loss: 0.4749 - acc: 0.781 - ETA: 0s - loss: 0.3789 - acc: 0.851 - 0s 120us/sample - loss: 0.3556 - acc: 0.8663\n",
      "Test accuracy: 0.86628574\n"
     ]
    },
    {
     "data": {
      "image/png": "[encoded data removed]",
      "text/plain": [
       "<Figure size 432x360 with 1 Axes>"
      ]
     },
     "metadata": {
      "needs_background": "light"
     },
     "output_type": "display_data"
    }
   ],
   "source": [
    "model.compile(optimizer='adam', \n",
    "              loss='binary_crossentropy',\n",
    "              metrics=['accuracy'])\n",
    "\n",
    "history = model.fit(X_train,\n",
    "          pd.get_dummies(y_train),\n",
    "          epochs=5,\n",
    "          validation_data=(X_test, pd.get_dummies(y_test))\n",
    "         )\n",
    "plot_loss(history)\n",
    "eval_model(model)"
   ]
  },
  {
   "cell_type": "code",
   "execution_count": 20,
   "metadata": {
    "ExecuteTime": {
     "end_time": "2019-08-07T11:41:15.479227Z",
     "start_time": "2019-08-07T11:41:15.098445Z"
    }
   },
   "outputs": [
    {
     "data": {
      "text/plain": [
       "{0}"
      ]
     },
     "execution_count": 20,
     "metadata": {},
     "output_type": "execute_result"
    }
   ],
   "source": [
    "set(model.predict_classes(X_test)) ## 전부 0으로 예측을 함 . 데이터 불균형 문제때문"
   ]
  },
  {
   "cell_type": "code",
   "execution_count": 21,
   "metadata": {
    "ExecuteTime": {
     "end_time": "2019-08-07T11:41:15.489223Z",
     "start_time": "2019-08-07T11:41:15.484228Z"
    }
   },
   "outputs": [],
   "source": [
    "# result = pd.DataFrame(np.apply_along_axis(index_to_text, 1, X_test))\n",
    "# result['predict'] = model.predict_proba(X_test)[:,1] # 유해하다고 판별할 확률\n",
    "# result[result.predict>0.3]"
   ]
  },
  {
   "cell_type": "markdown",
   "metadata": {},
   "source": [
    "\n",
    "# 데이터 클래스 불균형 문제 해결하자"
   ]
  },
  {
   "cell_type": "code",
   "execution_count": 22,
   "metadata": {
    "ExecuteTime": {
     "end_time": "2019-08-07T11:41:15.520213Z",
     "start_time": "2019-08-07T11:41:15.497219Z"
    }
   },
   "outputs": [],
   "source": [
    "from imblearn.under_sampling import RandomUnderSampler\n",
    "from imblearn.over_sampling import RandomOverSampler"
   ]
  },
  {
   "cell_type": "markdown",
   "metadata": {},
   "source": [
    "## upsampling\n",
    "- 딥러닝은 데이터가 많을수록 좋다.\n",
    "- 보다 많은 데이터 사용을 위해 upsampling을 사용하자!"
   ]
  },
  {
   "cell_type": "code",
   "execution_count": 23,
   "metadata": {
    "ExecuteTime": {
     "end_time": "2019-08-07T11:41:15.580170Z",
     "start_time": "2019-08-07T11:41:15.532199Z"
    }
   },
   "outputs": [],
   "source": [
    "up_X, up_y = RandomOverSampler().fit_resample(x_padded, datasets.label)\n",
    "up_X_train, up_X_test, up_y_train, up_y_test = train_test_split(up_X, up_y)"
   ]
  },
  {
   "cell_type": "code",
   "execution_count": 24,
   "metadata": {
    "ExecuteTime": {
     "end_time": "2019-08-07T11:41:15.611151Z",
     "start_time": "2019-08-07T11:41:15.592171Z"
    }
   },
   "outputs": [
    {
     "data": {
      "text/plain": [
       "(6026, 3013)"
      ]
     },
     "execution_count": 24,
     "metadata": {},
     "output_type": "execute_result"
    }
   ],
   "source": [
    "# 총 데이터 수 , 1 레이블 데이터 수\n",
    "len(up_y), up_y.sum()"
   ]
  },
  {
   "cell_type": "code",
   "execution_count": 25,
   "metadata": {
    "ExecuteTime": {
     "end_time": "2019-08-07T11:41:30.497638Z",
     "start_time": "2019-08-07T11:41:15.618148Z"
    }
   },
   "outputs": [
    {
     "name": "stderr",
     "output_type": "stream",
     "text": [
      "C:\\Users\\skarn\\Anaconda3\\envs\\DataAnalysis\\lib\\site-packages\\numpy\\lib\\type_check.py:546: DeprecationWarning: np.asscalar(a) is deprecated since NumPy v1.16, use a.item() instead\n",
      "  'a.item() instead', DeprecationWarning, stacklevel=1)\n"
     ]
    },
    {
     "name": "stdout",
     "output_type": "stream",
     "text": [
      "Train on 4519 samples, validate on 1507 samples\n",
      "Epoch 1/5\n",
      "4519/4519 [==============================] - ETA: 4:22 - loss: 0.9109 - acc: 0.562 - ETA: 43s - loss: 0.7663 - acc: 0.541 - ETA: 23s - loss: 0.7211 - acc: 0.52 - ETA: 17s - loss: 0.7021 - acc: 0.52 - ETA: 13s - loss: 0.6978 - acc: 0.51 - ETA: 10s - loss: 0.6852 - acc: 0.50 - ETA: 8s - loss: 0.6763 - acc: 0.5043 - ETA: 7s - loss: 0.6715 - acc: 0.508 - ETA: 6s - loss: 0.6641 - acc: 0.506 - ETA: 5s - loss: 0.6583 - acc: 0.508 - ETA: 4s - loss: 0.6517 - acc: 0.516 - ETA: 4s - loss: 0.6502 - acc: 0.521 - ETA: 3s - loss: 0.6452 - acc: 0.531 - ETA: 3s - loss: 0.6418 - acc: 0.542 - ETA: 2s - loss: 0.6352 - acc: 0.554 - ETA: 2s - loss: 0.6311 - acc: 0.563 - ETA: 2s - loss: 0.6252 - acc: 0.578 - ETA: 2s - loss: 0.6201 - acc: 0.589 - ETA: 1s - loss: 0.6173 - acc: 0.595 - ETA: 1s - loss: 0.6133 - acc: 0.605 - ETA: 1s - loss: 0.6104 - acc: 0.611 - ETA: 1s - loss: 0.6059 - acc: 0.617 - ETA: 1s - loss: 0.6017 - acc: 0.624 - ETA: 0s - loss: 0.5982 - acc: 0.630 - ETA: 0s - loss: 0.5933 - acc: 0.637 - ETA: 0s - loss: 0.5893 - acc: 0.643 - ETA: 0s - loss: 0.5864 - acc: 0.646 - ETA: 0s - loss: 0.5818 - acc: 0.652 - ETA: 0s - loss: 0.5770 - acc: 0.659 - ETA: 0s - loss: 0.5719 - acc: 0.664 - 4s 903us/sample - loss: 0.5686 - acc: 0.6682 - val_loss: 0.4105 - val_acc: 0.8447\n",
      "Epoch 2/5\n",
      "4519/4519 [==============================] - ETA: 2s - loss: 0.4097 - acc: 0.796 - ETA: 1s - loss: 0.4283 - acc: 0.859 - ETA: 1s - loss: 0.4345 - acc: 0.854 - ETA: 1s - loss: 0.4224 - acc: 0.845 - ETA: 1s - loss: 0.4183 - acc: 0.851 - ETA: 1s - loss: 0.4100 - acc: 0.848 - ETA: 1s - loss: 0.3964 - acc: 0.853 - ETA: 1s - loss: 0.3861 - acc: 0.853 - ETA: 1s - loss: 0.3768 - acc: 0.857 - ETA: 1s - loss: 0.3676 - acc: 0.861 - ETA: 1s - loss: 0.3670 - acc: 0.861 - ETA: 1s - loss: 0.3650 - acc: 0.864 - ETA: 1s - loss: 0.3595 - acc: 0.868 - ETA: 1s - loss: 0.3530 - acc: 0.871 - ETA: 1s - loss: 0.3488 - acc: 0.873 - ETA: 0s - loss: 0.3433 - acc: 0.875 - ETA: 0s - loss: 0.3361 - acc: 0.877 - ETA: 0s - loss: 0.3324 - acc: 0.878 - ETA: 0s - loss: 0.3255 - acc: 0.882 - ETA: 0s - loss: 0.3198 - acc: 0.885 - ETA: 0s - loss: 0.3153 - acc: 0.886 - ETA: 0s - loss: 0.3128 - acc: 0.887 - ETA: 0s - loss: 0.3071 - acc: 0.890 - ETA: 0s - loss: 0.3052 - acc: 0.891 - ETA: 0s - loss: 0.3012 - acc: 0.894 - ETA: 0s - loss: 0.2971 - acc: 0.895 - ETA: 0s - loss: 0.2943 - acc: 0.897 - ETA: 0s - loss: 0.2900 - acc: 0.899 - ETA: 0s - loss: 0.2869 - acc: 0.901 - ETA: 0s - loss: 0.2826 - acc: 0.902 - ETA: 0s - loss: 0.2805 - acc: 0.903 - 2s 411us/sample - loss: 0.2784 - acc: 0.9046 - val_loss: 0.1687 - val_acc: 0.9423\n",
      "Epoch 3/5\n",
      "4519/4519 [==============================] - ETA: 2s - loss: 0.1292 - acc: 0.968 - ETA: 1s - loss: 0.1539 - acc: 0.955 - ETA: 1s - loss: 0.1546 - acc: 0.954 - ETA: 1s - loss: 0.1645 - acc: 0.951 - ETA: 1s - loss: 0.1547 - acc: 0.956 - ETA: 1s - loss: 0.1553 - acc: 0.959 - ETA: 1s - loss: 0.1506 - acc: 0.960 - ETA: 1s - loss: 0.1494 - acc: 0.962 - ETA: 1s - loss: 0.1444 - acc: 0.963 - ETA: 1s - loss: 0.1464 - acc: 0.963 - ETA: 1s - loss: 0.1435 - acc: 0.964 - ETA: 0s - loss: 0.1385 - acc: 0.966 - ETA: 0s - loss: 0.1371 - acc: 0.966 - ETA: 0s - loss: 0.1355 - acc: 0.966 - ETA: 0s - loss: 0.1321 - acc: 0.967 - ETA: 0s - loss: 0.1280 - acc: 0.968 - ETA: 0s - loss: 0.1280 - acc: 0.968 - ETA: 0s - loss: 0.1243 - acc: 0.969 - ETA: 0s - loss: 0.1242 - acc: 0.968 - ETA: 0s - loss: 0.1238 - acc: 0.968 - ETA: 0s - loss: 0.1243 - acc: 0.968 - ETA: 0s - loss: 0.1226 - acc: 0.968 - ETA: 0s - loss: 0.1208 - acc: 0.969 - ETA: 0s - loss: 0.1205 - acc: 0.968 - ETA: 0s - loss: 0.1241 - acc: 0.968 - ETA: 0s - loss: 0.1242 - acc: 0.967 - ETA: 0s - loss: 0.1235 - acc: 0.968 - ETA: 0s - loss: 0.1221 - acc: 0.968 - ETA: 0s - loss: 0.1203 - acc: 0.969 - ETA: 0s - loss: 0.1221 - acc: 0.969 - 2s 401us/sample - loss: 0.1213 - acc: 0.9691 - val_loss: 0.1013 - val_acc: 0.9701\n",
      "Epoch 4/5\n",
      "4519/4519 [==============================] - ETA: 3s - loss: 0.0338 - acc: 1.000 - ETA: 1s - loss: 0.0852 - acc: 0.984 - ETA: 1s - loss: 0.0717 - acc: 0.987 - ETA: 1s - loss: 0.0642 - acc: 0.989 - ETA: 1s - loss: 0.0602 - acc: 0.990 - ETA: 1s - loss: 0.0583 - acc: 0.990 - ETA: 1s - loss: 0.0687 - acc: 0.987 - ETA: 1s - loss: 0.0690 - acc: 0.987 - ETA: 1s - loss: 0.0722 - acc: 0.986 - ETA: 1s - loss: 0.0694 - acc: 0.987 - ETA: 1s - loss: 0.0744 - acc: 0.985 - ETA: 0s - loss: 0.0710 - acc: 0.986 - ETA: 0s - loss: 0.0695 - acc: 0.986 - ETA: 0s - loss: 0.0701 - acc: 0.986 - ETA: 0s - loss: 0.0706 - acc: 0.986 - ETA: 0s - loss: 0.0689 - acc: 0.986 - ETA: 0s - loss: 0.0669 - acc: 0.987 - ETA: 0s - loss: 0.0671 - acc: 0.987 - ETA: 0s - loss: 0.0648 - acc: 0.987 - ETA: 0s - loss: 0.0635 - acc: 0.987 - ETA: 0s - loss: 0.0628 - acc: 0.987 - ETA: 0s - loss: 0.0630 - acc: 0.987 - ETA: 0s - loss: 0.0628 - acc: 0.987 - ETA: 0s - loss: 0.0624 - acc: 0.987 - ETA: 0s - loss: 0.0635 - acc: 0.986 - ETA: 0s - loss: 0.0645 - acc: 0.986 - ETA: 0s - loss: 0.0630 - acc: 0.987 - ETA: 0s - loss: 0.0621 - acc: 0.987 - ETA: 0s - loss: 0.0617 - acc: 0.987 - 2s 392us/sample - loss: 0.0609 - acc: 0.9877 - val_loss: 0.1050 - val_acc: 0.9675\n",
      "Epoch 5/5\n",
      "4519/4519 [==============================] - ETA: 1s - loss: 0.0154 - acc: 1.000 - ETA: 1s - loss: 0.0559 - acc: 0.984 - ETA: 1s - loss: 0.0435 - acc: 0.988 - ETA: 1s - loss: 0.0381 - acc: 0.990 - ETA: 1s - loss: 0.0436 - acc: 0.987 - ETA: 1s - loss: 0.0418 - acc: 0.989 - ETA: 1s - loss: 0.0399 - acc: 0.990 - ETA: 1s - loss: 0.0416 - acc: 0.989 - ETA: 1s - loss: 0.0405 - acc: 0.990 - ETA: 1s - loss: 0.0387 - acc: 0.990 - ETA: 1s - loss: 0.0373 - acc: 0.990 - ETA: 0s - loss: 0.0421 - acc: 0.989 - ETA: 0s - loss: 0.0398 - acc: 0.990 - ETA: 0s - loss: 0.0379 - acc: 0.990 - ETA: 0s - loss: 0.0363 - acc: 0.991 - ETA: 0s - loss: 0.0369 - acc: 0.991 - ETA: 0s - loss: 0.0402 - acc: 0.990 - ETA: 0s - loss: 0.0391 - acc: 0.990 - ETA: 0s - loss: 0.0416 - acc: 0.990 - ETA: 0s - loss: 0.0455 - acc: 0.989 - ETA: 0s - loss: 0.0477 - acc: 0.989 - ETA: 0s - loss: 0.0466 - acc: 0.989 - ETA: 0s - loss: 0.0462 - acc: 0.989 - ETA: 0s - loss: 0.0459 - acc: 0.989 - ETA: 0s - loss: 0.0457 - acc: 0.989 - ETA: 0s - loss: 0.0449 - acc: 0.990 - ETA: 0s - loss: 0.0438 - acc: 0.990 - ETA: 0s - loss: 0.0439 - acc: 0.990 - ETA: 0s - loss: 0.0461 - acc: 0.989 - 2s 390us/sample - loss: 0.0456 - acc: 0.9897 - val_loss: 0.0763 - val_acc: 0.9741\n",
      "1507/1507 [==============================] - ETA: 0s - loss: 0.0268 - acc: 1.000 - ETA: 0s - loss: 0.0841 - acc: 0.972 - ETA: 0s - loss: 0.0926 - acc: 0.967 - 0s 105us/sample - loss: 0.0763 - acc: 0.9741\n",
      "Test accuracy: 0.9741208\n"
     ]
    },
    {
     "data": {
      "image/png": "[encoded data removed]",
      "text/plain": [
       "<Figure size 432x360 with 1 Axes>"
      ]
     },
     "metadata": {
      "needs_background": "light"
     },
     "output_type": "display_data"
    }
   ],
   "source": [
    "model.compile(optimizer='adam', \n",
    "              loss='binary_crossentropy',\n",
    "              metrics=['accuracy'])\n",
    "\n",
    "history = model.fit(up_X_train,\n",
    "          pd.get_dummies(up_y_train),\n",
    "          epochs=5,\n",
    "          validation_data=(up_X_test, pd.get_dummies(up_y_test))\n",
    "         )\n",
    "plot_loss(history)\n",
    "test_loss, test_acc = model.evaluate(up_X_test, pd.get_dummies(up_y_test))\n",
    "print('Test accuracy:', test_acc)"
   ]
  },
  {
   "cell_type": "code",
   "execution_count": 26,
   "metadata": {
    "ExecuteTime": {
     "end_time": "2019-08-07T11:41:31.071309Z",
     "start_time": "2019-08-07T11:41:30.501636Z"
    }
   },
   "outputs": [
    {
     "name": "stdout",
     "output_type": "stream",
     "text": [
      "전체채팅수1507, 유해채팅수785\n"
     ]
    }
   ],
   "source": [
    "result = pd.DataFrame(np.apply_along_axis(index_to_text, 1, up_X_test))\n",
    "result['predict'] = model.predict_proba(up_X_test)[:,1] # 유해하다고 판별할 확률\n",
    "print('전체채팅수{}, 유해채팅수{}'.format(len(result),len(result[result.predict>0.5])))\n",
    "result[result.predict>0.5].head(10)\n",
    "result['label'] = up_y_test"
   ]
  },
  {
   "cell_type": "code",
   "execution_count": 27,
   "metadata": {
    "ExecuteTime": {
     "end_time": "2019-08-07T11:41:31.200235Z",
     "start_time": "2019-08-07T11:41:31.077308Z"
    }
   },
   "outputs": [],
   "source": [
    "result.to_csv('../../data/cnn_result.csv', encoding='utf-16')"
   ]
  },
  {
   "cell_type": "markdown",
   "metadata": {},
   "source": [
    "## 분류 애매한 채팅들"
   ]
  },
  {
   "cell_type": "code",
   "execution_count": 28,
   "metadata": {
    "ExecuteTime": {
     "end_time": "2019-08-07T11:41:31.245211Z",
     "start_time": "2019-08-07T11:41:31.205234Z"
    }
   },
   "outputs": [
    {
     "data": {
      "text/html": [
       "<div>\n",
       "<style scoped>\n",
       "    .dataframe tbody tr th:only-of-type {\n",
       "        vertical-align: middle;\n",
       "    }\n",
       "\n",
       "    .dataframe tbody tr th {\n",
       "        vertical-align: top;\n",
       "    }\n",
       "\n",
       "    .dataframe thead th {\n",
       "        text-align: right;\n",
       "    }\n",
       "</style>\n",
       "<table border=\"1\" class=\"dataframe\">\n",
       "  <thead>\n",
       "    <tr style=\"text-align: right;\">\n",
       "      <th></th>\n",
       "      <th>0</th>\n",
       "      <th>predict</th>\n",
       "      <th>label</th>\n",
       "    </tr>\n",
       "  </thead>\n",
       "  <tbody>\n",
       "    <tr>\n",
       "      <th>6</th>\n",
       "      <td>카톡/Noun 닉/Noun 인/Noun 싸/Verb 컴/Noun 으로/Josa 바꾸...</td>\n",
       "      <td>0.393249</td>\n",
       "      <td>0</td>\n",
       "    </tr>\n",
       "    <tr>\n",
       "      <th>70</th>\n",
       "      <td>몰라서/Verb 물어보는건데/Verb &lt;PAD&gt; &lt;PAD&gt; &lt;PAD&gt; &lt;PAD&gt; &lt;...</td>\n",
       "      <td>0.544840</td>\n",
       "      <td>0</td>\n",
       "    </tr>\n",
       "    <tr>\n",
       "      <th>143</th>\n",
       "      <td>도/Noun 네/Josa 하시면/Verb 브베/Noun 가/Josa 신고/Noun ...</td>\n",
       "      <td>0.530026</td>\n",
       "      <td>0</td>\n",
       "    </tr>\n",
       "    <tr>\n",
       "      <th>170</th>\n",
       "      <td>도내/Noun 가/Josa 질못/Verb 햇/Noun 네/Josa &lt;PAD&gt; &lt;PA...</td>\n",
       "      <td>0.448002</td>\n",
       "      <td>0</td>\n",
       "    </tr>\n",
       "    <tr>\n",
       "      <th>209</th>\n",
       "      <td>아/Exclamation 시/Noun 크러/Verb &lt;PAD&gt; &lt;PAD&gt; &lt;PAD&gt;...</td>\n",
       "      <td>0.418018</td>\n",
       "      <td>0</td>\n",
       "    </tr>\n",
       "    <tr>\n",
       "      <th>448</th>\n",
       "      <td>이/Determiner 새끼/Noun 오/Modifier 자마자/Noun 왜/Nou...</td>\n",
       "      <td>0.517955</td>\n",
       "      <td>0</td>\n",
       "    </tr>\n",
       "    <tr>\n",
       "      <th>587</th>\n",
       "      <td>인사/Noun 도/Josa 안/VerbPrefix 할래/Verb &lt;PAD&gt; &lt;PAD...</td>\n",
       "      <td>0.423173</td>\n",
       "      <td>0</td>\n",
       "    </tr>\n",
       "    <tr>\n",
       "      <th>809</th>\n",
       "      <td>ㅄ/KoreanParticle 아/Exclamation &lt;PAD&gt; &lt;PAD&gt; &lt;PA...</td>\n",
       "      <td>0.327777</td>\n",
       "      <td>1</td>\n",
       "    </tr>\n",
       "    <tr>\n",
       "      <th>826</th>\n",
       "      <td>도/Noun 네/Noun 벌써/Noun 터지네/Verb &lt;PAD&gt; &lt;PAD&gt; &lt;PA...</td>\n",
       "      <td>0.371224</td>\n",
       "      <td>0</td>\n",
       "    </tr>\n",
       "    <tr>\n",
       "      <th>962</th>\n",
       "      <td>ㅋㅋㅋ/KoreanParticle 어디서/Adverb 가르쳐/Verb ?/Punct...</td>\n",
       "      <td>0.473200</td>\n",
       "      <td>0</td>\n",
       "    </tr>\n",
       "    <tr>\n",
       "      <th>1097</th>\n",
       "      <td>브베/Noun 야/Josa 너/Noun 는/Josa 돈/Noun 을/Josa 밝히지...</td>\n",
       "      <td>0.300579</td>\n",
       "      <td>0</td>\n",
       "    </tr>\n",
       "  </tbody>\n",
       "</table>\n",
       "</div>"
      ],
      "text/plain": [
       "                                                      0   predict  label\n",
       "6     카톡/Noun 닉/Noun 인/Noun 싸/Verb 컴/Noun 으로/Josa 바꾸...  0.393249      0\n",
       "70    몰라서/Verb 물어보는건데/Verb <PAD> <PAD> <PAD> <PAD> <...  0.544840      0\n",
       "143   도/Noun 네/Josa 하시면/Verb 브베/Noun 가/Josa 신고/Noun ...  0.530026      0\n",
       "170   도내/Noun 가/Josa 질못/Verb 햇/Noun 네/Josa <PAD> <PA...  0.448002      0\n",
       "209   아/Exclamation 시/Noun 크러/Verb <PAD> <PAD> <PAD>...  0.418018      0\n",
       "448   이/Determiner 새끼/Noun 오/Modifier 자마자/Noun 왜/Nou...  0.517955      0\n",
       "587   인사/Noun 도/Josa 안/VerbPrefix 할래/Verb <PAD> <PAD...  0.423173      0\n",
       "809   ㅄ/KoreanParticle 아/Exclamation <PAD> <PAD> <PA...  0.327777      1\n",
       "826   도/Noun 네/Noun 벌써/Noun 터지네/Verb <PAD> <PAD> <PA...  0.371224      0\n",
       "962   ㅋㅋㅋ/KoreanParticle 어디서/Adverb 가르쳐/Verb ?/Punct...  0.473200      0\n",
       "1097  브베/Noun 야/Josa 너/Noun 는/Josa 돈/Noun 을/Josa 밝히지...  0.300579      0"
      ]
     },
     "execution_count": 28,
     "metadata": {},
     "output_type": "execute_result"
    }
   ],
   "source": [
    "result[(result.predict>0.3) & (result.predict<0.6)]"
   ]
  },
  {
   "cell_type": "markdown",
   "metadata": {},
   "source": [
    "### 예측 실패한 채팅들"
   ]
  },
  {
   "cell_type": "code",
   "execution_count": 29,
   "metadata": {
    "ExecuteTime": {
     "end_time": "2019-08-07T11:41:31.422110Z",
     "start_time": "2019-08-07T11:41:31.259203Z"
    }
   },
   "outputs": [
    {
     "data": {
      "text/html": [
       "<div>\n",
       "<style scoped>\n",
       "    .dataframe tbody tr th:only-of-type {\n",
       "        vertical-align: middle;\n",
       "    }\n",
       "\n",
       "    .dataframe tbody tr th {\n",
       "        vertical-align: top;\n",
       "    }\n",
       "\n",
       "    .dataframe thead th {\n",
       "        text-align: right;\n",
       "    }\n",
       "</style>\n",
       "<table border=\"1\" class=\"dataframe\">\n",
       "  <thead>\n",
       "    <tr style=\"text-align: right;\">\n",
       "      <th></th>\n",
       "      <th>0</th>\n",
       "      <th>predict</th>\n",
       "      <th>label</th>\n",
       "    </tr>\n",
       "  </thead>\n",
       "  <tbody>\n",
       "    <tr>\n",
       "      <th>70</th>\n",
       "      <td>몰라서/Verb 물어보는건데/Verb &lt;PAD&gt; &lt;PAD&gt; &lt;PAD&gt; &lt;PAD&gt; &lt;...</td>\n",
       "      <td>0.544840</td>\n",
       "      <td>0</td>\n",
       "    </tr>\n",
       "    <tr>\n",
       "      <th>112</th>\n",
       "      <td>다/Adverb 읽어놓고/Verb 당황/Noun 한/Josa 척/Noun 하네/Ve...</td>\n",
       "      <td>0.870334</td>\n",
       "      <td>0</td>\n",
       "    </tr>\n",
       "    <tr>\n",
       "      <th>116</th>\n",
       "      <td>아니/Adjective 병신/Noun 아/Josa 감마/Noun 를/Josa 키라/...</td>\n",
       "      <td>0.996563</td>\n",
       "      <td>0</td>\n",
       "    </tr>\n",
       "    <tr>\n",
       "      <th>143</th>\n",
       "      <td>도/Noun 네/Josa 하시면/Verb 브베/Noun 가/Josa 신고/Noun ...</td>\n",
       "      <td>0.530026</td>\n",
       "      <td>0</td>\n",
       "    </tr>\n",
       "    <tr>\n",
       "      <th>174</th>\n",
       "      <td>뮤비/Noun 할/Verb 수/Noun 있어/Adjective 넌/Noun 너/No...</td>\n",
       "      <td>0.648723</td>\n",
       "      <td>0</td>\n",
       "    </tr>\n",
       "    <tr>\n",
       "      <th>234</th>\n",
       "      <td>브베/Noun 야/Josa 내/Determiner 말/Noun 들리니/Verb &lt;P...</td>\n",
       "      <td>0.963139</td>\n",
       "      <td>0</td>\n",
       "    </tr>\n",
       "    <tr>\n",
       "      <th>292</th>\n",
       "      <td>Squid/Alpha 1/Number &lt;PAD&gt; &lt;PAD&gt; &lt;PAD&gt; &lt;PAD&gt; &lt;...</td>\n",
       "      <td>0.068937</td>\n",
       "      <td>1</td>\n",
       "    </tr>\n",
       "    <tr>\n",
       "      <th>315</th>\n",
       "      <td>매력/Noun 쏜/Noun 님/Suffix 앵/Noun 냥/Josa ~/Punctu...</td>\n",
       "      <td>0.955559</td>\n",
       "      <td>0</td>\n",
       "    </tr>\n",
       "    <tr>\n",
       "      <th>322</th>\n",
       "      <td>건물/Noun 에/Josa 깔려/Verb 뒤져라/Verb &lt;PAD&gt; &lt;PAD&gt; &lt;P...</td>\n",
       "      <td>0.009652</td>\n",
       "      <td>1</td>\n",
       "    </tr>\n",
       "    <tr>\n",
       "      <th>326</th>\n",
       "      <td>오늘/Noun 도/Josa 30분/Number 지각/Noun 했샤/Noun 벌받으샤...</td>\n",
       "      <td>0.895348</td>\n",
       "      <td>0</td>\n",
       "    </tr>\n",
       "    <tr>\n",
       "      <th>374</th>\n",
       "      <td>너/Noun 부터/Josa 목/Noun 매달/Noun 면/Josa 되겟네/Verb ...</td>\n",
       "      <td>0.815292</td>\n",
       "      <td>0</td>\n",
       "    </tr>\n",
       "    <tr>\n",
       "      <th>382</th>\n",
       "      <td>귀신/Noun 안/VerbPrefix 믿으면/Verb 폐가/Noun 방송/Noun ...</td>\n",
       "      <td>0.682843</td>\n",
       "      <td>0</td>\n",
       "    </tr>\n",
       "    <tr>\n",
       "      <th>448</th>\n",
       "      <td>이/Determiner 새끼/Noun 오/Modifier 자마자/Noun 왜/Nou...</td>\n",
       "      <td>0.517955</td>\n",
       "      <td>0</td>\n",
       "    </tr>\n",
       "    <tr>\n",
       "      <th>470</th>\n",
       "      <td>브라보/Noun 일베/Noun 라서/Josa &lt;PAD&gt; &lt;PAD&gt; &lt;PAD&gt; &lt;PA...</td>\n",
       "      <td>0.994488</td>\n",
       "      <td>0</td>\n",
       "    </tr>\n",
       "    <tr>\n",
       "      <th>509</th>\n",
       "      <td>옥/Noun ./Punctuation 떨/Verb 옥/Noun ./Punctuati...</td>\n",
       "      <td>0.621359</td>\n",
       "      <td>0</td>\n",
       "    </tr>\n",
       "    <tr>\n",
       "      <th>549</th>\n",
       "      <td>자/Noun 래/Josa 땅/Noun &lt;PAD&gt; &lt;PAD&gt; &lt;PAD&gt; &lt;PAD&gt; &lt;...</td>\n",
       "      <td>0.821469</td>\n",
       "      <td>0</td>\n",
       "    </tr>\n",
       "    <tr>\n",
       "      <th>603</th>\n",
       "      <td>아/Exclamation 진짜/Noun 오늘/Noun ㅈ/KoreanParticle...</td>\n",
       "      <td>0.235700</td>\n",
       "      <td>1</td>\n",
       "    </tr>\n",
       "    <tr>\n",
       "      <th>644</th>\n",
       "      <td>아니이/Adjective 새긴/Verb 충고/Noun 해줘도/Verb 쳐/Verb ...</td>\n",
       "      <td>0.622138</td>\n",
       "      <td>0</td>\n",
       "    </tr>\n",
       "    <tr>\n",
       "      <th>660</th>\n",
       "      <td>따랑/Verb 행/Noun &lt;PAD&gt; &lt;PAD&gt; &lt;PAD&gt; &lt;PAD&gt; &lt;PAD&gt; &lt;...</td>\n",
       "      <td>0.960924</td>\n",
       "      <td>0</td>\n",
       "    </tr>\n",
       "    <tr>\n",
       "      <th>714</th>\n",
       "      <td>Squid/Alpha 1/Number &lt;PAD&gt; &lt;PAD&gt; &lt;PAD&gt; &lt;PAD&gt; &lt;...</td>\n",
       "      <td>0.068937</td>\n",
       "      <td>1</td>\n",
       "    </tr>\n",
       "    <tr>\n",
       "      <th>735</th>\n",
       "      <td>미애/Noun 가/Josa 밥안/Noun 하고/Josa 도망가서/Verb &lt;PAD&gt;...</td>\n",
       "      <td>0.607813</td>\n",
       "      <td>0</td>\n",
       "    </tr>\n",
       "    <tr>\n",
       "      <th>748</th>\n",
       "      <td>미애/Noun 와/Josa 브/Noun 베레/Noun 기/Noun 스토리/Noun ...</td>\n",
       "      <td>0.991887</td>\n",
       "      <td>0</td>\n",
       "    </tr>\n",
       "    <tr>\n",
       "      <th>758</th>\n",
       "      <td>아프리카/Noun 키/Noun 자고/Noun 나/Noun 풍/Adverb 500/N...</td>\n",
       "      <td>0.707650</td>\n",
       "      <td>0</td>\n",
       "    </tr>\n",
       "    <tr>\n",
       "      <th>769</th>\n",
       "      <td>오/Modifier 양/Modifier 맛살옷/Noun 이야/Josa ~/Punct...</td>\n",
       "      <td>0.911405</td>\n",
       "      <td>0</td>\n",
       "    </tr>\n",
       "    <tr>\n",
       "      <th>794</th>\n",
       "      <td>스트리머/Noun 가/Josa 되었으면/Verb 시청자/Noun 보호/Noun 해주...</td>\n",
       "      <td>0.668606</td>\n",
       "      <td>0</td>\n",
       "    </tr>\n",
       "    <tr>\n",
       "      <th>809</th>\n",
       "      <td>ㅄ/KoreanParticle 아/Exclamation &lt;PAD&gt; &lt;PAD&gt; &lt;PA...</td>\n",
       "      <td>0.327777</td>\n",
       "      <td>1</td>\n",
       "    </tr>\n",
       "    <tr>\n",
       "      <th>842</th>\n",
       "      <td>캬/Noun 연극/Noun 보는거/Verb 같어/Adjective &lt;PAD&gt; &lt;PA...</td>\n",
       "      <td>0.961999</td>\n",
       "      <td>0</td>\n",
       "    </tr>\n",
       "    <tr>\n",
       "      <th>900</th>\n",
       "      <td>사실/Noun 임/Noun &lt;PAD&gt; &lt;PAD&gt; &lt;PAD&gt; &lt;PAD&gt; &lt;PAD&gt; &lt;...</td>\n",
       "      <td>0.772635</td>\n",
       "      <td>0</td>\n",
       "    </tr>\n",
       "    <tr>\n",
       "      <th>921</th>\n",
       "      <td>ㄵ/KoreanParticle &lt;PAD&gt; &lt;PAD&gt; &lt;PAD&gt; &lt;PAD&gt; &lt;PAD&gt;...</td>\n",
       "      <td>0.878653</td>\n",
       "      <td>0</td>\n",
       "    </tr>\n",
       "    <tr>\n",
       "      <th>946</th>\n",
       "      <td>돈/Noun 받을/Verb 생각/Noun 에/Josa 텐션/Noun 업/Noun &lt;...</td>\n",
       "      <td>0.687937</td>\n",
       "      <td>0</td>\n",
       "    </tr>\n",
       "    <tr>\n",
       "      <th>950</th>\n",
       "      <td>니/Noun 가/Josa 머/Noun 하는데/Verb ?/Punctuation &lt;P...</td>\n",
       "      <td>0.979217</td>\n",
       "      <td>0</td>\n",
       "    </tr>\n",
       "    <tr>\n",
       "      <th>951</th>\n",
       "      <td>HE/Alpha LOVE/Alpha Pillow/Alpha He/Alpha LOVE...</td>\n",
       "      <td>0.970585</td>\n",
       "      <td>0</td>\n",
       "    </tr>\n",
       "    <tr>\n",
       "      <th>987</th>\n",
       "      <td>Squid/Alpha 1/Number &lt;PAD&gt; &lt;PAD&gt; &lt;PAD&gt; &lt;PAD&gt; &lt;...</td>\n",
       "      <td>0.068937</td>\n",
       "      <td>1</td>\n",
       "    </tr>\n",
       "    <tr>\n",
       "      <th>1069</th>\n",
       "      <td>따랑/Verb 행/Noun &lt;PAD&gt; &lt;PAD&gt; &lt;PAD&gt; &lt;PAD&gt; &lt;PAD&gt; &lt;...</td>\n",
       "      <td>0.960924</td>\n",
       "      <td>0</td>\n",
       "    </tr>\n",
       "    <tr>\n",
       "      <th>1235</th>\n",
       "      <td>일이/Modifier 무엇/Noun 인지/Josa 구체/Noun 적/Suffix 으...</td>\n",
       "      <td>0.902096</td>\n",
       "      <td>0</td>\n",
       "    </tr>\n",
       "    <tr>\n",
       "      <th>1262</th>\n",
       "      <td>아/Exclamation 진짜/Noun 오늘/Noun ㅈ/KoreanParticle...</td>\n",
       "      <td>0.235700</td>\n",
       "      <td>1</td>\n",
       "    </tr>\n",
       "    <tr>\n",
       "      <th>1276</th>\n",
       "      <td>아/Exclamation 진짜/Noun 오늘/Noun ㅈ/KoreanParticle...</td>\n",
       "      <td>0.235700</td>\n",
       "      <td>1</td>\n",
       "    </tr>\n",
       "    <tr>\n",
       "      <th>1384</th>\n",
       "      <td>이/Noun 새기는/Verb 지가/Verb 잘/VerbPrefix 부르는줄/Verb...</td>\n",
       "      <td>0.901191</td>\n",
       "      <td>0</td>\n",
       "    </tr>\n",
       "    <tr>\n",
       "      <th>1403</th>\n",
       "      <td>호구/Noun 조사/Noun 들어가는/Verb 날/Noun 이다/Josa &lt;PAD&gt;...</td>\n",
       "      <td>0.698230</td>\n",
       "      <td>0</td>\n",
       "    </tr>\n",
       "  </tbody>\n",
       "</table>\n",
       "</div>"
      ],
      "text/plain": [
       "                                                      0   predict  label\n",
       "70    몰라서/Verb 물어보는건데/Verb <PAD> <PAD> <PAD> <PAD> <...  0.544840      0\n",
       "112   다/Adverb 읽어놓고/Verb 당황/Noun 한/Josa 척/Noun 하네/Ve...  0.870334      0\n",
       "116   아니/Adjective 병신/Noun 아/Josa 감마/Noun 를/Josa 키라/...  0.996563      0\n",
       "143   도/Noun 네/Josa 하시면/Verb 브베/Noun 가/Josa 신고/Noun ...  0.530026      0\n",
       "174   뮤비/Noun 할/Verb 수/Noun 있어/Adjective 넌/Noun 너/No...  0.648723      0\n",
       "234   브베/Noun 야/Josa 내/Determiner 말/Noun 들리니/Verb <P...  0.963139      0\n",
       "292   Squid/Alpha 1/Number <PAD> <PAD> <PAD> <PAD> <...  0.068937      1\n",
       "315   매력/Noun 쏜/Noun 님/Suffix 앵/Noun 냥/Josa ~/Punctu...  0.955559      0\n",
       "322   건물/Noun 에/Josa 깔려/Verb 뒤져라/Verb <PAD> <PAD> <P...  0.009652      1\n",
       "326   오늘/Noun 도/Josa 30분/Number 지각/Noun 했샤/Noun 벌받으샤...  0.895348      0\n",
       "374   너/Noun 부터/Josa 목/Noun 매달/Noun 면/Josa 되겟네/Verb ...  0.815292      0\n",
       "382   귀신/Noun 안/VerbPrefix 믿으면/Verb 폐가/Noun 방송/Noun ...  0.682843      0\n",
       "448   이/Determiner 새끼/Noun 오/Modifier 자마자/Noun 왜/Nou...  0.517955      0\n",
       "470   브라보/Noun 일베/Noun 라서/Josa <PAD> <PAD> <PAD> <PA...  0.994488      0\n",
       "509   옥/Noun ./Punctuation 떨/Verb 옥/Noun ./Punctuati...  0.621359      0\n",
       "549   자/Noun 래/Josa 땅/Noun <PAD> <PAD> <PAD> <PAD> <...  0.821469      0\n",
       "603   아/Exclamation 진짜/Noun 오늘/Noun ㅈ/KoreanParticle...  0.235700      1\n",
       "644   아니이/Adjective 새긴/Verb 충고/Noun 해줘도/Verb 쳐/Verb ...  0.622138      0\n",
       "660   따랑/Verb 행/Noun <PAD> <PAD> <PAD> <PAD> <PAD> <...  0.960924      0\n",
       "714   Squid/Alpha 1/Number <PAD> <PAD> <PAD> <PAD> <...  0.068937      1\n",
       "735   미애/Noun 가/Josa 밥안/Noun 하고/Josa 도망가서/Verb <PAD>...  0.607813      0\n",
       "748   미애/Noun 와/Josa 브/Noun 베레/Noun 기/Noun 스토리/Noun ...  0.991887      0\n",
       "758   아프리카/Noun 키/Noun 자고/Noun 나/Noun 풍/Adverb 500/N...  0.707650      0\n",
       "769   오/Modifier 양/Modifier 맛살옷/Noun 이야/Josa ~/Punct...  0.911405      0\n",
       "794   스트리머/Noun 가/Josa 되었으면/Verb 시청자/Noun 보호/Noun 해주...  0.668606      0\n",
       "809   ㅄ/KoreanParticle 아/Exclamation <PAD> <PAD> <PA...  0.327777      1\n",
       "842   캬/Noun 연극/Noun 보는거/Verb 같어/Adjective <PAD> <PA...  0.961999      0\n",
       "900   사실/Noun 임/Noun <PAD> <PAD> <PAD> <PAD> <PAD> <...  0.772635      0\n",
       "921   ㄵ/KoreanParticle <PAD> <PAD> <PAD> <PAD> <PAD>...  0.878653      0\n",
       "946   돈/Noun 받을/Verb 생각/Noun 에/Josa 텐션/Noun 업/Noun <...  0.687937      0\n",
       "950   니/Noun 가/Josa 머/Noun 하는데/Verb ?/Punctuation <P...  0.979217      0\n",
       "951   HE/Alpha LOVE/Alpha Pillow/Alpha He/Alpha LOVE...  0.970585      0\n",
       "987   Squid/Alpha 1/Number <PAD> <PAD> <PAD> <PAD> <...  0.068937      1\n",
       "1069  따랑/Verb 행/Noun <PAD> <PAD> <PAD> <PAD> <PAD> <...  0.960924      0\n",
       "1235  일이/Modifier 무엇/Noun 인지/Josa 구체/Noun 적/Suffix 으...  0.902096      0\n",
       "1262  아/Exclamation 진짜/Noun 오늘/Noun ㅈ/KoreanParticle...  0.235700      1\n",
       "1276  아/Exclamation 진짜/Noun 오늘/Noun ㅈ/KoreanParticle...  0.235700      1\n",
       "1384  이/Noun 새기는/Verb 지가/Verb 잘/VerbPrefix 부르는줄/Verb...  0.901191      0\n",
       "1403  호구/Noun 조사/Noun 들어가는/Verb 날/Noun 이다/Josa <PAD>...  0.698230      0"
      ]
     },
     "execution_count": 29,
     "metadata": {},
     "output_type": "execute_result"
    }
   ],
   "source": [
    "result[model.predict_classes(up_X_test) != up_y_test]"
   ]
  },
  {
   "cell_type": "markdown",
   "metadata": {},
   "source": [
    "# 시11111발 의 경우"
   ]
  },
  {
   "cell_type": "code",
   "execution_count": 30,
   "metadata": {
    "ExecuteTime": {
     "end_time": "2019-08-07T11:41:31.661975Z",
     "start_time": "2019-08-07T11:41:31.428108Z"
    }
   },
   "outputs": [
    {
     "name": "stdout",
     "output_type": "stream",
     "text": [
      "['시/Noun', '1111/Number', '발/Noun']\n"
     ]
    }
   ],
   "source": [
    "test_chat = \"시1111발\"\n",
    "test_id = text_to_index(morp.pos(test_chat, norm=True, join=True))\n",
    "print(morp.pos(test_chat, norm=True, join=True))\n",
    "sentence_size = 20\n",
    "x_padded = sequence.pad_sequences([test_id],\n",
    "                                 maxlen=sentence_size,\n",
    "                                 truncating='post',\n",
    "                                 padding='post',\n",
    "                                 value=pad_id)"
   ]
  },
  {
   "cell_type": "code",
   "execution_count": 31,
   "metadata": {
    "ExecuteTime": {
     "end_time": "2019-08-07T11:41:31.714942Z",
     "start_time": "2019-08-07T11:41:31.667971Z"
    }
   },
   "outputs": [
    {
     "data": {
      "text/plain": [
       "array([[0.19393216, 0.81546557]], dtype=float32)"
      ]
     },
     "execution_count": 31,
     "metadata": {},
     "output_type": "execute_result"
    }
   ],
   "source": [
    "model.predict(x_padded)"
   ]
  },
  {
   "cell_type": "markdown",
   "metadata": {},
   "source": [
    "## 모델 체크포인트 저장"
   ]
  },
  {
   "cell_type": "code",
   "execution_count": 42,
   "metadata": {
    "ExecuteTime": {
     "end_time": "2019-08-07T12:30:11.431900Z",
     "start_time": "2019-08-07T12:30:11.362907Z"
    }
   },
   "outputs": [],
   "source": [
    "model.save('../model/cnn_oversample.h5')"
   ]
  },
  {
   "cell_type": "code",
   "execution_count": 39,
   "metadata": {
    "ExecuteTime": {
     "end_time": "2019-08-07T11:55:38.585042Z",
     "start_time": "2019-08-07T11:55:37.380731Z"
    }
   },
   "outputs": [
    {
     "name": "stdout",
     "output_type": "stream",
     "text": [
      "WARNING:tensorflow:This model was compiled with a Keras optimizer (<tensorflow.python.keras.optimizers.Adam object at 0x000001F3612DA208>) but is being saved in TensorFlow format with `save_weights`. The model's weights will be saved, but unlike with TensorFlow optimizers in the TensorFlow format the optimizer's state will not be saved.\n",
      "\n",
      "Consider using a TensorFlow optimizer from `tf.train`.\n",
      "WARNING:tensorflow:Model was compiled with an optimizer, but the optimizer is not from `tf.train` (e.g. `tf.train.AdagradOptimizer`). Only the serving graph was exported. The train and evaluate graphs were not added to the SavedModel.\n"
     ]
    },
    {
     "name": "stderr",
     "output_type": "stream",
     "text": [
      "C:\\Users\\skarn\\Anaconda3\\envs\\DataAnalysis\\lib\\site-packages\\numpy\\lib\\type_check.py:546: DeprecationWarning: np.asscalar(a) is deprecated since NumPy v1.16, use a.item() instead\n",
      "  'a.item() instead', DeprecationWarning, stacklevel=1)\n"
     ]
    },
    {
     "name": "stdout",
     "output_type": "stream",
     "text": [
      "INFO:tensorflow:Signatures INCLUDED in export for Classify: None\n",
      "INFO:tensorflow:Signatures INCLUDED in export for Regress: None\n",
      "INFO:tensorflow:Signatures INCLUDED in export for Predict: ['serving_default']\n",
      "INFO:tensorflow:Signatures INCLUDED in export for Train: None\n",
      "INFO:tensorflow:Signatures INCLUDED in export for Eval: None\n",
      "INFO:tensorflow:No assets to save.\n",
      "INFO:tensorflow:No assets to write.\n",
      "INFO:tensorflow:SavedModel written to: ../model/1565178937\\saved_model.pb\n"
     ]
    },
    {
     "data": {
      "text/plain": [
       "b'../model/1565178937'"
      ]
     },
     "execution_count": 39,
     "metadata": {},
     "output_type": "execute_result"
    }
   ],
   "source": [
    "# tf.contrib.saved_model.save_keras_model(model, '../model/')"
   ]
  },
  {
   "cell_type": "markdown",
   "metadata": {},
   "source": [
    "# TODO\n",
    "- 형태소별 Tokenize 말고 한글 자모별 Tokenize 하여 실험해보기\n",
    "- CNN layer / Parameter 변경시켜보기\n",
    "- 예측 결과 검정하기\n",
    "    - Attention 이용"
   ]
  },
  {
   "cell_type": "code",
   "execution_count": null,
   "metadata": {},
   "outputs": [],
   "source": []
  }
 ],
 "metadata": {
  "kernelspec": {
   "display_name": "Python 3",
   "language": "python",
   "name": "python3"
  },
  "language_info": {
   "codemirror_mode": {
    "name": "ipython",
    "version": 3
   },
   "file_extension": ".py",
   "mimetype": "text/x-python",
   "name": "python",
   "nbconvert_exporter": "python",
   "pygments_lexer": "ipython3",
   "version": "3.7.3"
  }
 },
 "nbformat": 4,
 "nbformat_minor": 2
}
