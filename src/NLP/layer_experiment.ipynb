{
 "cells": [
  {
   "cell_type": "code",
   "execution_count": 2,
   "metadata": {
    "ExecuteTime": {
     "end_time": "2019-08-20T11:13:51.556273Z",
     "start_time": "2019-08-20T11:13:40.347697Z"
    }
   },
   "outputs": [
    {
     "name": "stdout",
     "output_type": "stream",
     "text": [
      "Chan 2019-08-20 \n",
      "\n",
      "CPython 3.7.3\n",
      "IPython 7.6.1\n",
      "\n",
      "numpy 1.16.4\n",
      "pandas 0.24.2\n",
      "sklearn 0.21.2\n",
      "konlpy 0.5.1\n",
      "tensorflow 1.14.0\n",
      "matplotlib 3.1.0\n",
      "imblearn 0.5.0\n"
     ]
    },
    {
     "name": "stderr",
     "output_type": "stream",
     "text": [
      "Using TensorFlow backend.\n"
     ]
    }
   ],
   "source": [
    "%load_ext watermark\n",
    "%watermark -a Chan -d -v -p numpy,pandas,sklearn,konlpy,tensorflow,matplotlib,imblearn"
   ]
  },
  {
   "cell_type": "code",
   "execution_count": 3,
   "metadata": {
    "ExecuteTime": {
     "end_time": "2019-08-20T11:13:52.438766Z",
     "start_time": "2019-08-20T11:13:51.562272Z"
    }
   },
   "outputs": [],
   "source": [
    "import numpy as np\n",
    "import pandas as pd\n",
    "from sklearn.model_selection import train_test_split\n",
    "from konlpy.tag import Okt\n",
    "import tensorflow as tf\n",
    "from tensorflow.python.keras.preprocessing import sequence\n",
    "from tensorflow import keras\n",
    "from tqdm import tqdm\n",
    "from collections import Counter\n",
    "from matplotlib import pyplot as plt\n",
    "import pickle\n",
    "from utils import morp_preprocessing"
   ]
  },
  {
   "cell_type": "markdown",
   "metadata": {},
   "source": [
    "# Load datasets"
   ]
  },
  {
   "cell_type": "code",
   "execution_count": 4,
   "metadata": {
    "ExecuteTime": {
     "end_time": "2019-08-20T11:13:53.061415Z",
     "start_time": "2019-08-20T11:13:52.443764Z"
    }
   },
   "outputs": [
    {
     "data": {
      "text/html": [
       "<div>\n",
       "<style scoped>\n",
       "    .dataframe tbody tr th:only-of-type {\n",
       "        vertical-align: middle;\n",
       "    }\n",
       "\n",
       "    .dataframe tbody tr th {\n",
       "        vertical-align: top;\n",
       "    }\n",
       "\n",
       "    .dataframe thead th {\n",
       "        text-align: right;\n",
       "    }\n",
       "</style>\n",
       "<table border=\"1\" class=\"dataframe\">\n",
       "  <thead>\n",
       "    <tr style=\"text-align: right;\">\n",
       "      <th></th>\n",
       "      <th>Unnamed: 0</th>\n",
       "      <th>comment</th>\n",
       "      <th>url_id</th>\n",
       "      <th>label</th>\n",
       "    </tr>\n",
       "  </thead>\n",
       "  <tbody>\n",
       "    <tr>\n",
       "      <th>0</th>\n",
       "      <td>0</td>\n",
       "      <td>ㅜㅜ</td>\n",
       "      <td>77</td>\n",
       "      <td>0</td>\n",
       "    </tr>\n",
       "    <tr>\n",
       "      <th>1</th>\n",
       "      <td>1</td>\n",
       "      <td>ㅋㅋㅋㅋㅋㅋㅋㅋㅋㅋㅋㅋㅋㅋㅋㅋㅋㅋㅋㅋㅋ</td>\n",
       "      <td>17</td>\n",
       "      <td>0</td>\n",
       "    </tr>\n",
       "    <tr>\n",
       "      <th>2</th>\n",
       "      <td>2</td>\n",
       "      <td>헐</td>\n",
       "      <td>52</td>\n",
       "      <td>0</td>\n",
       "    </tr>\n",
       "    <tr>\n",
       "      <th>3</th>\n",
       "      <td>3</td>\n",
       "      <td>제시</td>\n",
       "      <td>75</td>\n",
       "      <td>0</td>\n",
       "    </tr>\n",
       "    <tr>\n",
       "      <th>4</th>\n",
       "      <td>4</td>\n",
       "      <td>이거인 듯</td>\n",
       "      <td>18</td>\n",
       "      <td>0</td>\n",
       "    </tr>\n",
       "  </tbody>\n",
       "</table>\n",
       "</div>"
      ],
      "text/plain": [
       "   Unnamed: 0                comment  url_id  label\n",
       "0           0                     ㅜㅜ      77      0\n",
       "1           1  ㅋㅋㅋㅋㅋㅋㅋㅋㅋㅋㅋㅋㅋㅋㅋㅋㅋㅋㅋㅋㅋ      17      0\n",
       "2           2                      헐      52      0\n",
       "3           3                     제시      75      0\n",
       "4           4                  이거인 듯      18      0"
      ]
     },
     "execution_count": 4,
     "metadata": {},
     "output_type": "execute_result"
    }
   ],
   "source": [
    "datasets = pd.read_csv('../../data/train.csv', engine='python', encoding='utf-16')\n",
    "datasets.head()"
   ]
  },
  {
   "cell_type": "code",
   "execution_count": 5,
   "metadata": {
    "ExecuteTime": {
     "end_time": "2019-08-20T11:13:53.098391Z",
     "start_time": "2019-08-20T11:13:53.068407Z"
    }
   },
   "outputs": [
    {
     "name": "stdout",
     "output_type": "stream",
     "text": [
      "<class 'pandas.core.frame.DataFrame'>\n",
      "RangeIndex: 42000 entries, 0 to 41999\n",
      "Data columns (total 4 columns):\n",
      "Unnamed: 0    42000 non-null int64\n",
      "comment       42000 non-null object\n",
      "url_id        42000 non-null int64\n",
      "label         42000 non-null int64\n",
      "dtypes: int64(3), object(1)\n",
      "memory usage: 1.3+ MB\n"
     ]
    }
   ],
   "source": [
    "datasets.info()"
   ]
  },
  {
   "cell_type": "markdown",
   "metadata": {
    "ExecuteTime": {
     "end_time": "2019-08-06T15:38:19.687895Z",
     "start_time": "2019-08-06T15:38:19.677899Z"
    }
   },
   "source": [
    "# 형태소분석"
   ]
  },
  {
   "cell_type": "code",
   "execution_count": 6,
   "metadata": {
    "ExecuteTime": {
     "end_time": "2019-08-20T11:15:03.709952Z",
     "start_time": "2019-08-20T11:13:53.117380Z"
    }
   },
   "outputs": [
    {
     "name": "stderr",
     "output_type": "stream",
     "text": [
      "C:\\Users\\skarn\\Anaconda3\\envs\\DataAnalysis\\lib\\site-packages\\jpype\\_core.py:210: UserWarning: \n",
      "-------------------------------------------------------------------------------\n",
      "Deprecated: convertStrings was not specified when starting the JVM. The default\n",
      "behavior in JPype will be False starting in JPype 0.8. The recommended setting\n",
      "for new code is convertStrings=False.  The legacy value of True was assumed for\n",
      "this session. If you are a user of an application that reported this warning,\n",
      "please file a ticket with the developer.\n",
      "-------------------------------------------------------------------------------\n",
      "\n",
      "  \"\"\")\n",
      "100%|███████████████████████████████████████████████████████████████████████████| 42000/42000 [01:09<00:00, 605.36it/s]\n"
     ]
    }
   ],
   "source": [
    "chat = morp_preprocessing.chat_to_morp(datasets.comment)"
   ]
  },
  {
   "cell_type": "code",
   "execution_count": 7,
   "metadata": {
    "ExecuteTime": {
     "end_time": "2019-08-20T11:15:03.738917Z",
     "start_time": "2019-08-20T11:15:03.712931Z"
    }
   },
   "outputs": [
    {
     "data": {
      "text/plain": [
       "array([[239,   0,   0, ...,   0,   0,   0],\n",
       "       [  2,   0,   0, ...,   0,   0,   0],\n",
       "       [271,   0,   0, ...,   0,   0,   0],\n",
       "       ...,\n",
       "       [612,   5, 200, ...,  15,   2,   0],\n",
       "       [  2,   0,   0, ...,   0,   0,   0],\n",
       "       [ 61,  27,  61, ...,  95,   0,   0]])"
      ]
     },
     "execution_count": 7,
     "metadata": {},
     "output_type": "execute_result"
    }
   ],
   "source": [
    "chat"
   ]
  },
  {
   "cell_type": "code",
   "execution_count": 8,
   "metadata": {
    "ExecuteTime": {
     "end_time": "2019-08-20T11:15:03.775901Z",
     "start_time": "2019-08-20T11:15:03.745913Z"
    }
   },
   "outputs": [],
   "source": [
    "def plot_loss(history):\n",
    "    plt.figure(figsize=(6,5))\n",
    "    val = plt.plot(history.epoch, history.history['val_loss'],\n",
    "                 '--', label='Test')\n",
    "    plt.plot(history.epoch, history.history['loss'], color=val[0].get_color(),\n",
    "           label='Train')\n",
    "\n",
    "    plt.xlabel('Epochs')\n",
    "    plt.ylabel(\"Loss\")\n",
    "    plt.legend()\n",
    "\n",
    "    plt.xlim([0,max(history.epoch)])"
   ]
  },
  {
   "cell_type": "code",
   "execution_count": 9,
   "metadata": {
    "ExecuteTime": {
     "end_time": "2019-08-20T11:15:03.798881Z",
     "start_time": "2019-08-20T11:15:03.782892Z"
    }
   },
   "outputs": [],
   "source": [
    "import warnings\n",
    "warnings.filterwarnings(action='once')"
   ]
  },
  {
   "cell_type": "markdown",
   "metadata": {},
   "source": [
    "\n",
    "# 데이터 클래스 불균형 문제 해결하자"
   ]
  },
  {
   "cell_type": "code",
   "execution_count": 10,
   "metadata": {
    "ExecuteTime": {
     "end_time": "2019-08-20T11:15:03.845853Z",
     "start_time": "2019-08-20T11:15:03.805878Z"
    }
   },
   "outputs": [],
   "source": [
    "X_train, X_test, y_train, y_test = train_test_split(chat, datasets.label)"
   ]
  },
  {
   "cell_type": "code",
   "execution_count": 11,
   "metadata": {
    "ExecuteTime": {
     "end_time": "2019-08-20T11:15:03.895827Z",
     "start_time": "2019-08-20T11:15:03.850851Z"
    }
   },
   "outputs": [],
   "source": [
    "from imblearn.under_sampling import RandomUnderSampler\n",
    "from imblearn.over_sampling import RandomOverSampler,SMOTE"
   ]
  },
  {
   "cell_type": "code",
   "execution_count": 19,
   "metadata": {
    "ExecuteTime": {
     "end_time": "2019-08-20T11:20:00.790460Z",
     "start_time": "2019-08-20T11:20:00.701507Z"
    }
   },
   "outputs": [
    {
     "data": {
      "text/plain": [
       "(59884, 29942)"
      ]
     },
     "execution_count": 19,
     "metadata": {},
     "output_type": "execute_result"
    }
   ],
   "source": [
    "up_X, up_y = RandomOverSampler().fit_resample(X_train, y_train)\n",
    "\n",
    "# 총 데이터 수 , 1 레이블 데이터 수\n",
    "len(up_y), up_y.sum()"
   ]
  },
  {
   "cell_type": "code",
   "execution_count": 20,
   "metadata": {
    "ExecuteTime": {
     "end_time": "2019-08-20T11:21:01.757524Z",
     "start_time": "2019-08-20T11:21:00.522233Z"
    }
   },
   "outputs": [],
   "source": [
    "model_up = keras.Sequential([\n",
    "    keras.layers.Embedding(30000, 10),\n",
    "    keras.layers.Conv1D(64, 4, padding=\"same\", activation=tf.nn.relu),\n",
    "    keras.layers.Dropout(0.5),\n",
    "    keras.layers.Conv1D(32, 2, padding=\"same\", activation=tf.nn.relu),\n",
    "    keras.layers.Dropout(0.5),\n",
    "    keras.layers.Conv1D(32, 2, padding=\"same\", activation=tf.nn.relu),\n",
    "    keras.layers.Dropout(0.5),\n",
    "    keras.layers.Conv1D(32, 2, padding=\"same\", activation=tf.nn.relu),\n",
    "    keras.layers.Dropout(0.5),\n",
    "    keras.layers.Conv1D(32, 2, padding=\"same\", activation=tf.nn.relu),\n",
    "    keras.layers.Dropout(0.5),\n",
    "    keras.layers.Conv1D(32, 2, padding=\"same\", activation=tf.nn.relu),\n",
    "    keras.layers.Dropout(0.5),\n",
    "    keras.layers.Conv1D(32, 2, padding=\"same\", activation=tf.nn.relu),\n",
    "    keras.layers.GlobalMaxPool1D(),\n",
    "    keras.layers.Dropout(0.5),\n",
    "    keras.layers.Dense(2, activation=tf.nn.sigmoid)\n",
    "])"
   ]
  },
  {
   "cell_type": "code",
   "execution_count": 26,
   "metadata": {
    "ExecuteTime": {
     "end_time": "2019-08-20T11:39:45.134626Z",
     "start_time": "2019-08-20T11:37:47.511020Z"
    }
   },
   "outputs": [
    {
     "name": "stdout",
     "output_type": "stream",
     "text": [
      "Train on 59884 samples, validate on 10500 samples\n",
      "Epoch 1/2\n"
     ]
    },
    {
     "name": "stdout",
     "output_type": "stream",
     "text": [
      "12640/59884 [=====>........................] - ETA: 1:38:28 - loss: 0.6570 - recall_3: 0.937 - ETA: 33:23 - loss: 0.3293 - recall_3: 0.9479  - ETA: 20:21 - loss: 0.2307 - recall_3: 0.962 - ETA: 14:45 - loss: 0.2199 - recall_3: 0.955 - ETA: 10:31 - loss: 0.2267 - recall_3: 0.940 - ETA: 8:15 - loss: 0.2085 - recall_3: 0.947 - ETA: 7:15 - loss: 0.2112 - recall_3: 0.94 - ETA: 6:29 - loss: 0.2024 - recall_3: 0.94 - ETA: 5:53 - loss: 0.2142 - recall_3: 0.94 - ETA: 5:24 - loss: 0.2035 - recall_3: 0.94 - ETA: 5:01 - loss: 0.1941 - recall_3: 0.94 - ETA: 4:31 - loss: 0.2061 - recall_3: 0.94 - ETA: 4:15 - loss: 0.2049 - recall_3: 0.94 - ETA: 3:54 - loss: 0.2044 - recall_3: 0.94 - ETA: 3:36 - loss: 0.2073 - recall_3: 0.94 - ETA: 3:27 - loss: 0.2115 - recall_3: 0.93 - ETA: 3:18 - loss: 0.2113 - recall_3: 0.93 - ETA: 3:11 - loss: 0.2085 - recall_3: 0.93 - ETA: 3:00 - loss: 0.2009 - recall_3: 0.94 - ETA: 2:54 - loss: 0.2005 - recall_3: 0.94 - ETA: 2:50 - loss: 0.1999 - recall_3: 0.94 - ETA: 2:45 - loss: 0.1991 - recall_3: 0.94 - ETA: 2:40 - loss: 0.2027 - recall_3: 0.93 - ETA: 2:33 - loss: 0.2001 - recall_3: 0.93 - ETA: 2:29 - loss: 0.2005 - recall_3: 0.93 - ETA: 2:26 - loss: 0.1969 - recall_3: 0.94 - ETA: 2:20 - loss: 0.1997 - recall_3: 0.94 - ETA: 2:17 - loss: 0.1973 - recall_3: 0.94 - ETA: 2:14 - loss: 0.1993 - recall_3: 0.94 - ETA: 2:10 - loss: 0.2042 - recall_3: 0.93 - ETA: 2:06 - loss: 0.2021 - recall_3: 0.93 - ETA: 2:02 - loss: 0.2048 - recall_3: 0.93 - ETA: 1:58 - loss: 0.1994 - recall_3: 0.94 - ETA: 1:55 - loss: 0.2001 - recall_3: 0.93 - ETA: 1:52 - loss: 0.1987 - recall_3: 0.93 - ETA: 1:49 - loss: 0.1991 - recall_3: 0.93 - ETA: 1:47 - loss: 0.1986 - recall_3: 0.93 - ETA: 1:45 - loss: 0.1995 - recall_3: 0.93 - ETA: 1:43 - loss: 0.2000 - recall_3: 0.93 - ETA: 1:42 - loss: 0.1987 - recall_3: 0.93 - ETA: 1:40 - loss: 0.1996 - recall_3: 0.93 - ETA: 1:38 - loss: 0.1989 - recall_3: 0.93 - ETA: 1:37 - loss: 0.2036 - recall_3: 0.93 - ETA: 1:36 - loss: 0.2038 - recall_3: 0.93 - ETA: 1:35 - loss: 0.2069 - recall_3: 0.93 - ETA: 1:34 - loss: 0.2067 - recall_3: 0.93 - ETA: 1:33 - loss: 0.2052 - recall_3: 0.93 - ETA: 1:32 - loss: 0.2035 - recall_3: 0.93 - ETA: 1:31 - loss: 0.2033 - recall_3: 0.93 - ETA: 1:30 - loss: 0.2025 - recall_3: 0.93 - ETA: 1:30 - loss: 0.2005 - recall_3: 0.93 - ETA: 1:29 - loss: 0.1990 - recall_3: 0.93 - ETA: 1:29 - loss: 0.1987 - recall_3: 0.93 - ETA: 1:29 - loss: 0.1978 - recall_3: 0.93 - ETA: 1:28 - loss: 0.1975 - recall_3: 0.93 - ETA: 1:28 - loss: 0.1982 - recall_3: 0.93 - ETA: 1:27 - loss: 0.1971 - recall_3: 0.93 - ETA: 1:26 - loss: 0.1958 - recall_3: 0.93 - ETA: 1:26 - loss: 0.1949 - recall_3: 0.94 - ETA: 1:25 - loss: 0.1938 - recall_3: 0.94 - ETA: 1:24 - loss: 0.1924 - recall_3: 0.94 - ETA: 1:24 - loss: 0.1923 - recall_3: 0.94 - ETA: 1:23 - loss: 0.1924 - recall_3: 0.94 - ETA: 1:23 - loss: 0.1920 - recall_3: 0.94 - ETA: 1:22 - loss: 0.1925 - recall_3: 0.93 - ETA: 1:22 - loss: 0.1918 - recall_3: 0.94 - ETA: 1:21 - loss: 0.1917 - recall_3: 0.94 - ETA: 1:21 - loss: 0.1901 - recall_3: 0.94 - ETA: 1:20 - loss: 0.1905 - recall_3: 0.94 - ETA: 1:20 - loss: 0.1944 - recall_3: 0.93 - ETA: 1:19 - loss: 0.1950 - recall_3: 0.93 - ETA: 1:19 - loss: 0.1948 - recall_3: 0.94 - ETA: 1:18 - loss: 0.1974 - recall_3: 0.93 - ETA: 1:18 - loss: 0.1967 - recall_3: 0.93 - ETA: 1:18 - loss: 0.1975 - recall_3: 0.93 - ETA: 1:18 - loss: 0.1972 - recall_3: 0.93 - ETA: 1:17 - loss: 0.1978 - recall_3: 0.93 - ETA: 1:17 - loss: 0.1973 - recall_3: 0.93 - ETA: 1:17 - loss: 0.1969 - recall_3: 0.93 - ETA: 1:16 - loss: 0.1964 - recall_3: 0.93 - ETA: 1:16 - loss: 0.1961 - recall_3: 0.93 - ETA: 1:15 - loss: 0.1966 - recall_3: 0.93 - ETA: 1:14 - loss: 0.1958 - recall_3: 0.94 - ETA: 1:14 - loss: 0.1963 - recall_3: 0.93 - ETA: 1:14 - loss: 0.1961 - recall_3: 0.93 - ETA: 1:13 - loss: 0.1955 - recall_3: 0.94 - ETA: 1:13 - loss: 0.1949 - recall_3: 0.94 - ETA: 1:12 - loss: 0.1945 - recall_3: 0.94 - ETA: 1:12 - loss: 0.1937 - recall_3: 0.94 - ETA: 1:11 - loss: 0.1935 - recall_3: 0.94 - ETA: 1:10 - loss: 0.1931 - recall_3: 0.94 - ETA: 1:10 - loss: 0.1953 - recall_3: 0.93 - ETA: 1:09 - loss: 0.1953 - recall_3: 0.93 - ETA: 1:08 - loss: 0.1985 - recall_3: 0.93 - ETA: 1:08 - loss: 0.1985 - recall_3: 0.93 - ETA: 1:07 - loss: 0.1989 - recall_3: 0.93 - ETA: 1:07 - loss: 0.2001 - recall_3: 0.93 - ETA: 1:06 - loss: 0.2002 - recall_3: 0.93 - ETA: 1:06 - loss: 0.1992 - recall_3: 0.93 - ETA: 1:06 - loss: 0.1983 - recall_3: 0.93 - ETA: 1:06 - loss: 0.1986 - recall_3: 0.93 - ETA: 1:05 - loss: 0.1993 - recall_3: 0.93 - ETA: 1:05 - loss: 0.1994 - recall_3: 0.93 - ETA: 1:04 - loss: 0.1987 - recall_3: 0.93 - ETA: 1:04 - loss: 0.1978 - recall_3: 0.93 - ETA: 1:04 - loss: 0.1974 - recall_3: 0.93 - ETA: 1:04 - loss: 0.2007 - recall_3: 0.93 - ETA: 1:03 - loss: 0.2011 - recall_3: 0.93 - ETA: 1:03 - loss: 0.2009 - recall_3: 0.93 - ETA: 1:03 - loss: 0.2008 - recall_3: 0.93 - ETA: 1:03 - loss: 0.1999 - recall_3: 0.93 - ETA: 1:03 - loss: 0.1999 - recall_3: 0.93 - ETA: 1:03 - loss: 0.1994 - recall_3: 0.93 - ETA: 1:03 - loss: 0.1996 - recall_3: 0.93 - ETA: 1:03 - loss: 0.1990 - recall_3: 0.93 - ETA: 1:03 - loss: 0.1984 - recall_3: 0.93 - ETA: 1:03 - loss: 0.2011 - recall_3: 0.93 - ETA: 1:03 - loss: 0.2012 - recall_3: 0.93 - ETA: 1:03 - loss: 0.2009 - recall_3: 0.93 - ETA: 1:04 - loss: 0.2003 - recall_3: 0.93 - ETA: 1:04 - loss: 0.2001 - recall_3: 0.93 - ETA: 1:04 - loss: 0.1999 - recall_3: 0.93 - ETA: 1:04 - loss: 0.1993 - recall_3: 0.94 - ETA: 1:04 - loss: 0.1996 - recall_3: 0.93 - ETA: 1:04 - loss: 0.1994 - recall_3: 0.93 - ETA: 1:04 - loss: 0.1994 - recall_3: 0.93 - ETA: 1:03 - loss: 0.1992 - recall_3: 0.93 - ETA: 1:03 - loss: 0.1998 - recall_3: 0.93 - ETA: 1:03 - loss: 0.2007 - recall_3: 0.93 - ETA: 1:03 - loss: 0.1998 - recall_3: 0.93 - ETA: 1:03 - loss: 0.1998 - recall_3: 0.93 - ETA: 1:02 - loss: 0.1989 - recall_3: 0.93 - ETA: 1:02 - loss: 0.1992 - recall_3: 0.93 - ETA: 1:02 - loss: 0.2000 - recall_3: 0.93 - ETA: 1:02 - loss: 0.1998 - recall_3: 0.93 - ETA: 1:02 - loss: 0.1989 - recall_3: 0.94 - ETA: 1:01 - loss: 0.1992 - recall_3: 0.93 - ETA: 1:01 - loss: 0.1983 - recall_3: 0.94 - ETA: 1:01 - loss: 0.1977 - recall_3: 0.94 - ETA: 1:01 - loss: 0.1970 - recall_3: 0.94 - ETA: 1:01 - loss: 0.1972 - recall_3: 0.94 - ETA: 1:00 - loss: 0.1968 - recall_3: 0.94 - ETA: 1:00 - loss: 0.1965 - recall_3: 0.94 - ETA: 1:00 - loss: 0.1960 - recall_3: 0.94 - ETA: 1:00 - loss: 0.1958 - recall_3: 0.94 - ETA: 1:00 - loss: 0.1954 - recall_3: 0.94 - ETA: 59s - loss: 0.1952 - recall_3: 0.9412 - ETA: 59s - loss: 0.1951 - recall_3: 0.941 - ETA: 59s - loss: 0.1947 - recall_3: 0.941 - ETA: 59s - loss: 0.1947 - recall_3: 0.941 - ETA: 59s - loss: 0.1951 - recall_3: 0.941 - ETA: 59s - loss: 0.1943 - recall_3: 0.941 - ETA: 59s - loss: 0.1941 - recall_3: 0.941 - ETA: 58s - loss: 0.1933 - recall_3: 0.941 - ETA: 58s - loss: 0.1930 - recall_3: 0.941 - ETA: 58s - loss: 0.1929 - recall_3: 0.941 - ETA: 58s - loss: 0.1931 - recall_3: 0.941 - ETA: 58s - loss: 0.1928 - recall_3: 0.942 - ETA: 57s - loss: 0.1924 - recall_3: 0.942 - ETA: 57s - loss: 0.1926 - recall_3: 0.942 - ETA: 57s - loss: 0.1923 - recall_3: 0.942 - ETA: 57s - loss: 0.1927 - recall_3: 0.941 - ETA: 57s - loss: 0.1924 - recall_3: 0.942 - ETA: 57s - loss: 0.1918 - recall_3: 0.942 - ETA: 57s - loss: 0.1920 - recall_3: 0.942 - ETA: 56s - loss: 0.1926 - recall_3: 0.942 - ETA: 56s - loss: 0.1933 - recall_3: 0.941 - ETA: 56s - loss: 0.1929 - recall_3: 0.941 - ETA: 56s - loss: 0.1941 - recall_3: 0.942 - ETA: 56s - loss: 0.1940 - recall_3: 0.942 - ETA: 55s - loss: 0.1936 - recall_3: 0.942 - ETA: 55s - loss: 0.1958 - recall_3: 0.941 - ETA: 55s - loss: 0.1963 - recall_3: 0.941 - ETA: 54s - loss: 0.1986 - recall_3: 0.941 - ETA: 54s - loss: 0.1990 - recall_3: 0.941 - ETA: 54s - loss: 0.1986 - recall_3: 0.941 - ETA: 54s - loss: 0.1982 - recall_3: 0.941 - ETA: 54s - loss: 0.1981 - recall_3: 0.941 - ETA: 53s - loss: 0.1983 - recall_3: 0.941 - ETA: 53s - loss: 0.1983 - recall_3: 0.941 - ETA: 53s - loss: 0.1985 - recall_3: 0.940 - ETA: 53s - loss: 0.1982 - recall_3: 0.940 - ETA: 53s - loss: 0.1977 - recall_3: 0.941 - ETA: 53s - loss: 0.1979 - recall_3: 0.9409\b\b\b\b\b\b\b\b\b\b\b\b\b\b\b\b\b\b\b\b\b\b\b\b\b\b\b\b\b\b\b\b\b\b\b\b\b\b\b\b\b\b\b\b\b\b\b\b\b\b\b\b\b\b\b\b\b\b\b\b\b\b\b\b\b\b\b\b\b\b\b\b\b\b\b\b\b\b\b\b\b\b\b\b\b\b\b\b\b"
     ]
    },
    {
     "name": "stdout",
     "output_type": "stream",
     "text": [
      "26016/59884 [============>.................] - ETA: 53s - loss: 0.1980 - recall_3: 0.940 - ETA: 52s - loss: 0.1998 - recall_3: 0.940 - ETA: 52s - loss: 0.1999 - recall_3: 0.940 - ETA: 52s - loss: 0.2001 - recall_3: 0.940 - ETA: 52s - loss: 0.2003 - recall_3: 0.940 - ETA: 52s - loss: 0.2006 - recall_3: 0.940 - ETA: 52s - loss: 0.2016 - recall_3: 0.939 - ETA: 52s - loss: 0.2012 - recall_3: 0.939 - ETA: 51s - loss: 0.2009 - recall_3: 0.939 - ETA: 51s - loss: 0.2019 - recall_3: 0.939 - ETA: 51s - loss: 0.2016 - recall_3: 0.939 - ETA: 51s - loss: 0.2024 - recall_3: 0.939 - ETA: 51s - loss: 0.2024 - recall_3: 0.939 - ETA: 51s - loss: 0.2024 - recall_3: 0.939 - ETA: 51s - loss: 0.2024 - recall_3: 0.939 - ETA: 50s - loss: 0.2023 - recall_3: 0.939 - ETA: 50s - loss: 0.2018 - recall_3: 0.939 - ETA: 50s - loss: 0.2016 - recall_3: 0.939 - ETA: 50s - loss: 0.2021 - recall_3: 0.938 - ETA: 50s - loss: 0.2021 - recall_3: 0.938 - ETA: 50s - loss: 0.2024 - recall_3: 0.938 - ETA: 50s - loss: 0.2024 - recall_3: 0.938 - ETA: 50s - loss: 0.2022 - recall_3: 0.938 - ETA: 49s - loss: 0.2023 - recall_3: 0.938 - ETA: 49s - loss: 0.2024 - recall_3: 0.938 - ETA: 49s - loss: 0.2023 - recall_3: 0.938 - ETA: 49s - loss: 0.2020 - recall_3: 0.939 - ETA: 49s - loss: 0.2028 - recall_3: 0.938 - ETA: 49s - loss: 0.2026 - recall_3: 0.938 - ETA: 49s - loss: 0.2026 - recall_3: 0.938 - ETA: 49s - loss: 0.2026 - recall_3: 0.938 - ETA: 49s - loss: 0.2022 - recall_3: 0.939 - ETA: 49s - loss: 0.2021 - recall_3: 0.938 - ETA: 49s - loss: 0.2022 - recall_3: 0.938 - ETA: 48s - loss: 0.2019 - recall_3: 0.938 - ETA: 48s - loss: 0.2020 - recall_3: 0.938 - ETA: 48s - loss: 0.2017 - recall_3: 0.938 - ETA: 48s - loss: 0.2013 - recall_3: 0.939 - ETA: 48s - loss: 0.2012 - recall_3: 0.939 - ETA: 48s - loss: 0.2010 - recall_3: 0.939 - ETA: 48s - loss: 0.2012 - recall_3: 0.939 - ETA: 48s - loss: 0.2012 - recall_3: 0.939 - ETA: 48s - loss: 0.2011 - recall_3: 0.939 - ETA: 48s - loss: 0.2012 - recall_3: 0.939 - ETA: 48s - loss: 0.2012 - recall_3: 0.939 - ETA: 48s - loss: 0.2009 - recall_3: 0.939 - ETA: 48s - loss: 0.2013 - recall_3: 0.939 - ETA: 47s - loss: 0.2011 - recall_3: 0.939 - ETA: 47s - loss: 0.2014 - recall_3: 0.939 - ETA: 47s - loss: 0.2012 - recall_3: 0.939 - ETA: 47s - loss: 0.2014 - recall_3: 0.939 - ETA: 47s - loss: 0.2008 - recall_3: 0.939 - ETA: 47s - loss: 0.2006 - recall_3: 0.939 - ETA: 47s - loss: 0.2002 - recall_3: 0.939 - ETA: 47s - loss: 0.2000 - recall_3: 0.939 - ETA: 46s - loss: 0.1999 - recall_3: 0.939 - ETA: 46s - loss: 0.1996 - recall_3: 0.939 - ETA: 46s - loss: 0.1994 - recall_3: 0.939 - ETA: 46s - loss: 0.1990 - recall_3: 0.940 - ETA: 46s - loss: 0.1987 - recall_3: 0.940 - ETA: 46s - loss: 0.1983 - recall_3: 0.940 - ETA: 46s - loss: 0.1980 - recall_3: 0.940 - ETA: 45s - loss: 0.1978 - recall_3: 0.940 - ETA: 45s - loss: 0.1974 - recall_3: 0.940 - ETA: 45s - loss: 0.1976 - recall_3: 0.940 - ETA: 45s - loss: 0.1976 - recall_3: 0.940 - ETA: 45s - loss: 0.1978 - recall_3: 0.940 - ETA: 45s - loss: 0.1977 - recall_3: 0.940 - ETA: 45s - loss: 0.1980 - recall_3: 0.940 - ETA: 45s - loss: 0.1978 - recall_3: 0.940 - ETA: 44s - loss: 0.1974 - recall_3: 0.940 - ETA: 44s - loss: 0.1972 - recall_3: 0.940 - ETA: 44s - loss: 0.1969 - recall_3: 0.941 - ETA: 44s - loss: 0.1969 - recall_3: 0.941 - ETA: 44s - loss: 0.1964 - recall_3: 0.941 - ETA: 44s - loss: 0.1960 - recall_3: 0.941 - ETA: 44s - loss: 0.1958 - recall_3: 0.941 - ETA: 44s - loss: 0.1958 - recall_3: 0.941 - ETA: 44s - loss: 0.1956 - recall_3: 0.941 - ETA: 44s - loss: 0.1957 - recall_3: 0.941 - ETA: 43s - loss: 0.1957 - recall_3: 0.941 - ETA: 43s - loss: 0.1957 - recall_3: 0.941 - ETA: 43s - loss: 0.1954 - recall_3: 0.941 - ETA: 43s - loss: 0.1957 - recall_3: 0.941 - ETA: 43s - loss: 0.1958 - recall_3: 0.941 - ETA: 43s - loss: 0.1956 - recall_3: 0.941 - ETA: 43s - loss: 0.1954 - recall_3: 0.941 - ETA: 42s - loss: 0.1953 - recall_3: 0.941 - ETA: 42s - loss: 0.1950 - recall_3: 0.941 - ETA: 42s - loss: 0.1949 - recall_3: 0.941 - ETA: 42s - loss: 0.1958 - recall_3: 0.941 - ETA: 42s - loss: 0.1961 - recall_3: 0.941 - ETA: 42s - loss: 0.1956 - recall_3: 0.941 - ETA: 42s - loss: 0.1951 - recall_3: 0.941 - ETA: 41s - loss: 0.1958 - recall_3: 0.941 - ETA: 41s - loss: 0.1961 - recall_3: 0.941 - ETA: 41s - loss: 0.1965 - recall_3: 0.940 - ETA: 41s - loss: 0.1967 - recall_3: 0.940 - ETA: 41s - loss: 0.1967 - recall_3: 0.940 - ETA: 41s - loss: 0.1967 - recall_3: 0.940 - ETA: 41s - loss: 0.1965 - recall_3: 0.940 - ETA: 40s - loss: 0.1967 - recall_3: 0.940 - ETA: 40s - loss: 0.1968 - recall_3: 0.940 - ETA: 40s - loss: 0.1967 - recall_3: 0.940 - ETA: 40s - loss: 0.1970 - recall_3: 0.940 - ETA: 40s - loss: 0.1967 - recall_3: 0.940 - ETA: 40s - loss: 0.1970 - recall_3: 0.940 - ETA: 40s - loss: 0.1967 - recall_3: 0.940 - ETA: 39s - loss: 0.1965 - recall_3: 0.941 - ETA: 39s - loss: 0.1965 - recall_3: 0.941 - ETA: 39s - loss: 0.1960 - recall_3: 0.941 - ETA: 39s - loss: 0.1962 - recall_3: 0.941 - ETA: 39s - loss: 0.1965 - recall_3: 0.941 - ETA: 39s - loss: 0.1964 - recall_3: 0.941 - ETA: 39s - loss: 0.1962 - recall_3: 0.941 - ETA: 38s - loss: 0.1968 - recall_3: 0.941 - ETA: 38s - loss: 0.1977 - recall_3: 0.940 - ETA: 38s - loss: 0.1975 - recall_3: 0.940 - ETA: 38s - loss: 0.1978 - recall_3: 0.940 - ETA: 38s - loss: 0.1980 - recall_3: 0.940 - ETA: 38s - loss: 0.1981 - recall_3: 0.940 - ETA: 38s - loss: 0.1980 - recall_3: 0.940 - ETA: 37s - loss: 0.1982 - recall_3: 0.940 - ETA: 37s - loss: 0.1982 - recall_3: 0.940 - ETA: 37s - loss: 0.1982 - recall_3: 0.940 - ETA: 37s - loss: 0.1984 - recall_3: 0.940 - ETA: 37s - loss: 0.1987 - recall_3: 0.940 - ETA: 37s - loss: 0.1986 - recall_3: 0.940 - ETA: 37s - loss: 0.1985 - recall_3: 0.940 - ETA: 37s - loss: 0.1984 - recall_3: 0.940 - ETA: 37s - loss: 0.1983 - recall_3: 0.940 - ETA: 37s - loss: 0.1983 - recall_3: 0.940 - ETA: 36s - loss: 0.1982 - recall_3: 0.940 - ETA: 36s - loss: 0.1982 - recall_3: 0.940 - ETA: 36s - loss: 0.1985 - recall_3: 0.940 - ETA: 36s - loss: 0.1983 - recall_3: 0.940 - ETA: 36s - loss: 0.1984 - recall_3: 0.940 - ETA: 36s - loss: 0.1988 - recall_3: 0.940 - ETA: 36s - loss: 0.1987 - recall_3: 0.940 - ETA: 36s - loss: 0.1988 - recall_3: 0.940 - ETA: 36s - loss: 0.1989 - recall_3: 0.940 - ETA: 36s - loss: 0.1988 - recall_3: 0.940 - ETA: 36s - loss: 0.1986 - recall_3: 0.940 - ETA: 36s - loss: 0.1986 - recall_3: 0.940 - ETA: 36s - loss: 0.1987 - recall_3: 0.940 - ETA: 35s - loss: 0.1985 - recall_3: 0.940 - ETA: 35s - loss: 0.1987 - recall_3: 0.940 - ETA: 35s - loss: 0.1989 - recall_3: 0.940 - ETA: 35s - loss: 0.1988 - recall_3: 0.940 - ETA: 35s - loss: 0.1985 - recall_3: 0.940 - ETA: 35s - loss: 0.1985 - recall_3: 0.940 - ETA: 35s - loss: 0.1984 - recall_3: 0.940 - ETA: 35s - loss: 0.1984 - recall_3: 0.940 - ETA: 35s - loss: 0.1983 - recall_3: 0.940 - ETA: 35s - loss: 0.1982 - recall_3: 0.940 - ETA: 35s - loss: 0.1985 - recall_3: 0.940 - ETA: 35s - loss: 0.1984 - recall_3: 0.940 - ETA: 35s - loss: 0.1981 - recall_3: 0.940 - ETA: 35s - loss: 0.1982 - recall_3: 0.940 - ETA: 34s - loss: 0.1982 - recall_3: 0.940 - ETA: 34s - loss: 0.1979 - recall_3: 0.940 - ETA: 34s - loss: 0.1977 - recall_3: 0.940 - ETA: 34s - loss: 0.1975 - recall_3: 0.940 - ETA: 34s - loss: 0.1973 - recall_3: 0.940 - ETA: 34s - loss: 0.1971 - recall_3: 0.940 - ETA: 34s - loss: 0.1970 - recall_3: 0.940 - ETA: 34s - loss: 0.1969 - recall_3: 0.940 - ETA: 34s - loss: 0.1966 - recall_3: 0.940 - ETA: 34s - loss: 0.1963 - recall_3: 0.940 - ETA: 34s - loss: 0.1966 - recall_3: 0.940 - ETA: 34s - loss: 0.1973 - recall_3: 0.940 - ETA: 34s - loss: 0.1972 - recall_3: 0.940 - ETA: 34s - loss: 0.1979 - recall_3: 0.940 - ETA: 34s - loss: 0.1977 - recall_3: 0.940 - ETA: 33s - loss: 0.1979 - recall_3: 0.940 - ETA: 33s - loss: 0.1979 - recall_3: 0.940 - ETA: 33s - loss: 0.1983 - recall_3: 0.940 - ETA: 33s - loss: 0.1983 - recall_3: 0.940 - ETA: 33s - loss: 0.1981 - recall_3: 0.940 - ETA: 33s - loss: 0.1980 - recall_3: 0.940 - ETA: 33s - loss: 0.1981 - recall_3: 0.940 - ETA: 33s - loss: 0.1978 - recall_3: 0.940 - ETA: 33s - loss: 0.1979 - recall_3: 0.940 - ETA: 33s - loss: 0.1984 - recall_3: 0.940 - ETA: 33s - loss: 0.1982 - recall_3: 0.940 - ETA: 33s - loss: 0.1982 - recall_3: 0.9402"
     ]
    },
    {
     "name": "stdout",
     "output_type": "stream",
     "text": [
      "38784/59884 [==================>...........] - ETA: 33s - loss: 0.1982 - recall_3: 0.940 - ETA: 33s - loss: 0.1980 - recall_3: 0.940 - ETA: 32s - loss: 0.1980 - recall_3: 0.940 - ETA: 32s - loss: 0.1979 - recall_3: 0.940 - ETA: 32s - loss: 0.1979 - recall_3: 0.940 - ETA: 32s - loss: 0.1989 - recall_3: 0.940 - ETA: 32s - loss: 0.1988 - recall_3: 0.940 - ETA: 32s - loss: 0.1985 - recall_3: 0.940 - ETA: 32s - loss: 0.1986 - recall_3: 0.940 - ETA: 32s - loss: 0.1984 - recall_3: 0.940 - ETA: 32s - loss: 0.1984 - recall_3: 0.940 - ETA: 32s - loss: 0.1983 - recall_3: 0.940 - ETA: 32s - loss: 0.1982 - recall_3: 0.940 - ETA: 32s - loss: 0.1984 - recall_3: 0.940 - ETA: 32s - loss: 0.1982 - recall_3: 0.940 - ETA: 32s - loss: 0.1981 - recall_3: 0.940 - ETA: 31s - loss: 0.1982 - recall_3: 0.940 - ETA: 31s - loss: 0.1981 - recall_3: 0.940 - ETA: 31s - loss: 0.1980 - recall_3: 0.940 - ETA: 31s - loss: 0.1978 - recall_3: 0.940 - ETA: 31s - loss: 0.1978 - recall_3: 0.940 - ETA: 31s - loss: 0.1977 - recall_3: 0.940 - ETA: 31s - loss: 0.1977 - recall_3: 0.940 - ETA: 31s - loss: 0.1979 - recall_3: 0.940 - ETA: 31s - loss: 0.1977 - recall_3: 0.940 - ETA: 31s - loss: 0.1983 - recall_3: 0.940 - ETA: 31s - loss: 0.1982 - recall_3: 0.940 - ETA: 31s - loss: 0.1983 - recall_3: 0.940 - ETA: 31s - loss: 0.1982 - recall_3: 0.940 - ETA: 31s - loss: 0.1981 - recall_3: 0.940 - ETA: 30s - loss: 0.1980 - recall_3: 0.940 - ETA: 30s - loss: 0.1979 - recall_3: 0.940 - ETA: 30s - loss: 0.1978 - recall_3: 0.940 - ETA: 30s - loss: 0.1977 - recall_3: 0.940 - ETA: 30s - loss: 0.1976 - recall_3: 0.940 - ETA: 30s - loss: 0.1976 - recall_3: 0.940 - ETA: 30s - loss: 0.1977 - recall_3: 0.940 - ETA: 30s - loss: 0.1976 - recall_3: 0.940 - ETA: 30s - loss: 0.1973 - recall_3: 0.940 - ETA: 30s - loss: 0.1976 - recall_3: 0.940 - ETA: 30s - loss: 0.1976 - recall_3: 0.940 - ETA: 30s - loss: 0.1977 - recall_3: 0.940 - ETA: 30s - loss: 0.1975 - recall_3: 0.940 - ETA: 30s - loss: 0.1973 - recall_3: 0.940 - ETA: 29s - loss: 0.1973 - recall_3: 0.940 - ETA: 29s - loss: 0.1972 - recall_3: 0.940 - ETA: 29s - loss: 0.1972 - recall_3: 0.940 - ETA: 29s - loss: 0.1974 - recall_3: 0.940 - ETA: 29s - loss: 0.1973 - recall_3: 0.940 - ETA: 29s - loss: 0.1973 - recall_3: 0.940 - ETA: 29s - loss: 0.1976 - recall_3: 0.940 - ETA: 29s - loss: 0.1976 - recall_3: 0.940 - ETA: 29s - loss: 0.1977 - recall_3: 0.940 - ETA: 29s - loss: 0.1975 - recall_3: 0.940 - ETA: 29s - loss: 0.1974 - recall_3: 0.940 - ETA: 29s - loss: 0.1973 - recall_3: 0.940 - ETA: 29s - loss: 0.1975 - recall_3: 0.940 - ETA: 29s - loss: 0.1975 - recall_3: 0.940 - ETA: 29s - loss: 0.1972 - recall_3: 0.940 - ETA: 28s - loss: 0.1972 - recall_3: 0.940 - ETA: 28s - loss: 0.1970 - recall_3: 0.940 - ETA: 28s - loss: 0.1971 - recall_3: 0.940 - ETA: 28s - loss: 0.1971 - recall_3: 0.940 - ETA: 28s - loss: 0.1969 - recall_3: 0.940 - ETA: 28s - loss: 0.1967 - recall_3: 0.940 - ETA: 28s - loss: 0.1969 - recall_3: 0.940 - ETA: 28s - loss: 0.1970 - recall_3: 0.940 - ETA: 28s - loss: 0.1970 - recall_3: 0.940 - ETA: 28s - loss: 0.1971 - recall_3: 0.940 - ETA: 28s - loss: 0.1970 - recall_3: 0.940 - ETA: 28s - loss: 0.1971 - recall_3: 0.940 - ETA: 28s - loss: 0.1974 - recall_3: 0.940 - ETA: 28s - loss: 0.1974 - recall_3: 0.940 - ETA: 28s - loss: 0.1972 - recall_3: 0.940 - ETA: 27s - loss: 0.1971 - recall_3: 0.940 - ETA: 27s - loss: 0.1971 - recall_3: 0.940 - ETA: 27s - loss: 0.1970 - recall_3: 0.940 - ETA: 27s - loss: 0.1970 - recall_3: 0.940 - ETA: 27s - loss: 0.1974 - recall_3: 0.940 - ETA: 27s - loss: 0.1974 - recall_3: 0.940 - ETA: 27s - loss: 0.1973 - recall_3: 0.940 - ETA: 27s - loss: 0.1971 - recall_3: 0.940 - ETA: 27s - loss: 0.1972 - recall_3: 0.940 - ETA: 27s - loss: 0.1973 - recall_3: 0.940 - ETA: 27s - loss: 0.1978 - recall_3: 0.940 - ETA: 27s - loss: 0.1980 - recall_3: 0.940 - ETA: 27s - loss: 0.1981 - recall_3: 0.940 - ETA: 27s - loss: 0.1983 - recall_3: 0.940 - ETA: 26s - loss: 0.1981 - recall_3: 0.940 - ETA: 26s - loss: 0.1979 - recall_3: 0.940 - ETA: 26s - loss: 0.1977 - recall_3: 0.940 - ETA: 26s - loss: 0.1976 - recall_3: 0.940 - ETA: 26s - loss: 0.1975 - recall_3: 0.940 - ETA: 26s - loss: 0.1973 - recall_3: 0.940 - ETA: 26s - loss: 0.1972 - recall_3: 0.940 - ETA: 26s - loss: 0.1972 - recall_3: 0.940 - ETA: 26s - loss: 0.1973 - recall_3: 0.940 - ETA: 26s - loss: 0.1972 - recall_3: 0.940 - ETA: 26s - loss: 0.1979 - recall_3: 0.940 - ETA: 26s - loss: 0.1987 - recall_3: 0.940 - ETA: 26s - loss: 0.1986 - recall_3: 0.940 - ETA: 25s - loss: 0.1986 - recall_3: 0.940 - ETA: 25s - loss: 0.1987 - recall_3: 0.940 - ETA: 25s - loss: 0.1986 - recall_3: 0.940 - ETA: 25s - loss: 0.1984 - recall_3: 0.940 - ETA: 25s - loss: 0.1984 - recall_3: 0.940 - ETA: 25s - loss: 0.1981 - recall_3: 0.940 - ETA: 25s - loss: 0.1980 - recall_3: 0.940 - ETA: 25s - loss: 0.1980 - recall_3: 0.940 - ETA: 25s - loss: 0.1979 - recall_3: 0.940 - ETA: 25s - loss: 0.1979 - recall_3: 0.940 - ETA: 25s - loss: 0.1978 - recall_3: 0.940 - ETA: 24s - loss: 0.1978 - recall_3: 0.940 - ETA: 24s - loss: 0.1976 - recall_3: 0.940 - ETA: 24s - loss: 0.1976 - recall_3: 0.940 - ETA: 24s - loss: 0.1973 - recall_3: 0.940 - ETA: 24s - loss: 0.1973 - recall_3: 0.940 - ETA: 24s - loss: 0.1977 - recall_3: 0.940 - ETA: 24s - loss: 0.1974 - recall_3: 0.940 - ETA: 24s - loss: 0.1973 - recall_3: 0.940 - ETA: 24s - loss: 0.1973 - recall_3: 0.940 - ETA: 24s - loss: 0.1971 - recall_3: 0.940 - ETA: 24s - loss: 0.1970 - recall_3: 0.940 - ETA: 24s - loss: 0.1971 - recall_3: 0.940 - ETA: 24s - loss: 0.1973 - recall_3: 0.940 - ETA: 24s - loss: 0.1971 - recall_3: 0.940 - ETA: 24s - loss: 0.1969 - recall_3: 0.940 - ETA: 24s - loss: 0.1968 - recall_3: 0.940 - ETA: 23s - loss: 0.1967 - recall_3: 0.940 - ETA: 23s - loss: 0.1968 - recall_3: 0.940 - ETA: 23s - loss: 0.1969 - recall_3: 0.940 - ETA: 23s - loss: 0.1974 - recall_3: 0.940 - ETA: 23s - loss: 0.1978 - recall_3: 0.940 - ETA: 23s - loss: 0.1978 - recall_3: 0.940 - ETA: 23s - loss: 0.1980 - recall_3: 0.940 - ETA: 23s - loss: 0.1982 - recall_3: 0.940 - ETA: 23s - loss: 0.1980 - recall_3: 0.940 - ETA: 23s - loss: 0.1980 - recall_3: 0.940 - ETA: 23s - loss: 0.1982 - recall_3: 0.940 - ETA: 22s - loss: 0.1984 - recall_3: 0.940 - ETA: 22s - loss: 0.1983 - recall_3: 0.940 - ETA: 22s - loss: 0.1983 - recall_3: 0.940 - ETA: 22s - loss: 0.1981 - recall_3: 0.940 - ETA: 22s - loss: 0.1981 - recall_3: 0.940 - ETA: 22s - loss: 0.1981 - recall_3: 0.940 - ETA: 22s - loss: 0.1979 - recall_3: 0.940 - ETA: 22s - loss: 0.1978 - recall_3: 0.940 - ETA: 22s - loss: 0.1978 - recall_3: 0.940 - ETA: 22s - loss: 0.1979 - recall_3: 0.940 - ETA: 22s - loss: 0.1980 - recall_3: 0.940 - ETA: 22s - loss: 0.1979 - recall_3: 0.940 - ETA: 21s - loss: 0.1979 - recall_3: 0.940 - ETA: 21s - loss: 0.1979 - recall_3: 0.940 - ETA: 21s - loss: 0.1982 - recall_3: 0.940 - ETA: 21s - loss: 0.1983 - recall_3: 0.940 - ETA: 21s - loss: 0.1982 - recall_3: 0.940 - ETA: 21s - loss: 0.1984 - recall_3: 0.940 - ETA: 21s - loss: 0.1984 - recall_3: 0.940 - ETA: 21s - loss: 0.1983 - recall_3: 0.940 - ETA: 21s - loss: 0.1985 - recall_3: 0.940 - ETA: 21s - loss: 0.1987 - recall_3: 0.940 - ETA: 21s - loss: 0.1986 - recall_3: 0.940 - ETA: 21s - loss: 0.1985 - recall_3: 0.940 - ETA: 21s - loss: 0.1984 - recall_3: 0.940 - ETA: 21s - loss: 0.1986 - recall_3: 0.940 - ETA: 20s - loss: 0.1985 - recall_3: 0.940 - ETA: 20s - loss: 0.1985 - recall_3: 0.940 - ETA: 20s - loss: 0.1985 - recall_3: 0.940 - ETA: 20s - loss: 0.1985 - recall_3: 0.940 - ETA: 20s - loss: 0.1984 - recall_3: 0.940 - ETA: 20s - loss: 0.1984 - recall_3: 0.940 - ETA: 20s - loss: 0.1982 - recall_3: 0.940 - ETA: 20s - loss: 0.1982 - recall_3: 0.940 - ETA: 20s - loss: 0.1983 - recall_3: 0.940 - ETA: 20s - loss: 0.1982 - recall_3: 0.940 - ETA: 20s - loss: 0.1980 - recall_3: 0.940 - ETA: 20s - loss: 0.1979 - recall_3: 0.940 - ETA: 20s - loss: 0.1980 - recall_3: 0.940 - ETA: 20s - loss: 0.1981 - recall_3: 0.940 - ETA: 20s - loss: 0.1979 - recall_3: 0.940 - ETA: 20s - loss: 0.1978 - recall_3: 0.940 - ETA: 19s - loss: 0.1978 - recall_3: 0.940 - ETA: 19s - loss: 0.1978 - recall_3: 0.940 - ETA: 19s - loss: 0.1977 - recall_3: 0.940 - ETA: 19s - loss: 0.1978 - recall_3: 0.940 - ETA: 19s - loss: 0.1979 - recall_3: 0.9404"
     ]
    },
    {
     "name": "stdout",
     "output_type": "stream",
     "text": [
      "52384/59884 [=========================>....] - ETA: 19s - loss: 0.1977 - recall_3: 0.940 - ETA: 19s - loss: 0.1977 - recall_3: 0.940 - ETA: 19s - loss: 0.1976 - recall_3: 0.940 - ETA: 19s - loss: 0.1976 - recall_3: 0.940 - ETA: 19s - loss: 0.1977 - recall_3: 0.940 - ETA: 19s - loss: 0.1976 - recall_3: 0.940 - ETA: 19s - loss: 0.1976 - recall_3: 0.940 - ETA: 19s - loss: 0.1977 - recall_3: 0.940 - ETA: 19s - loss: 0.1979 - recall_3: 0.940 - ETA: 19s - loss: 0.1978 - recall_3: 0.940 - ETA: 18s - loss: 0.1976 - recall_3: 0.940 - ETA: 18s - loss: 0.1977 - recall_3: 0.940 - ETA: 18s - loss: 0.1975 - recall_3: 0.940 - ETA: 18s - loss: 0.1975 - recall_3: 0.940 - ETA: 18s - loss: 0.1975 - recall_3: 0.940 - ETA: 18s - loss: 0.1974 - recall_3: 0.940 - ETA: 18s - loss: 0.1973 - recall_3: 0.940 - ETA: 18s - loss: 0.1973 - recall_3: 0.940 - ETA: 18s - loss: 0.1975 - recall_3: 0.940 - ETA: 18s - loss: 0.1975 - recall_3: 0.940 - ETA: 18s - loss: 0.1980 - recall_3: 0.940 - ETA: 18s - loss: 0.1977 - recall_3: 0.940 - ETA: 17s - loss: 0.1979 - recall_3: 0.940 - ETA: 17s - loss: 0.1979 - recall_3: 0.940 - ETA: 17s - loss: 0.1981 - recall_3: 0.940 - ETA: 17s - loss: 0.1987 - recall_3: 0.940 - ETA: 17s - loss: 0.1988 - recall_3: 0.940 - ETA: 17s - loss: 0.1987 - recall_3: 0.940 - ETA: 17s - loss: 0.1988 - recall_3: 0.940 - ETA: 17s - loss: 0.1988 - recall_3: 0.940 - ETA: 17s - loss: 0.1991 - recall_3: 0.940 - ETA: 17s - loss: 0.1994 - recall_3: 0.940 - ETA: 17s - loss: 0.1994 - recall_3: 0.940 - ETA: 17s - loss: 0.1993 - recall_3: 0.940 - ETA: 17s - loss: 0.1993 - recall_3: 0.940 - ETA: 16s - loss: 0.1994 - recall_3: 0.940 - ETA: 16s - loss: 0.1994 - recall_3: 0.939 - ETA: 16s - loss: 0.1993 - recall_3: 0.940 - ETA: 16s - loss: 0.1995 - recall_3: 0.939 - ETA: 16s - loss: 0.1994 - recall_3: 0.940 - ETA: 16s - loss: 0.1993 - recall_3: 0.940 - ETA: 16s - loss: 0.1994 - recall_3: 0.940 - ETA: 16s - loss: 0.1996 - recall_3: 0.939 - ETA: 16s - loss: 0.1996 - recall_3: 0.939 - ETA: 16s - loss: 0.1996 - recall_3: 0.939 - ETA: 16s - loss: 0.1997 - recall_3: 0.939 - ETA: 16s - loss: 0.1997 - recall_3: 0.939 - ETA: 16s - loss: 0.1999 - recall_3: 0.939 - ETA: 15s - loss: 0.1997 - recall_3: 0.939 - ETA: 15s - loss: 0.2000 - recall_3: 0.939 - ETA: 15s - loss: 0.1999 - recall_3: 0.939 - ETA: 15s - loss: 0.1999 - recall_3: 0.939 - ETA: 15s - loss: 0.1999 - recall_3: 0.939 - ETA: 15s - loss: 0.1998 - recall_3: 0.939 - ETA: 15s - loss: 0.1996 - recall_3: 0.939 - ETA: 15s - loss: 0.1996 - recall_3: 0.939 - ETA: 15s - loss: 0.1997 - recall_3: 0.939 - ETA: 15s - loss: 0.1999 - recall_3: 0.939 - ETA: 15s - loss: 0.2000 - recall_3: 0.939 - ETA: 15s - loss: 0.1998 - recall_3: 0.939 - ETA: 15s - loss: 0.1998 - recall_3: 0.939 - ETA: 15s - loss: 0.1998 - recall_3: 0.939 - ETA: 15s - loss: 0.1999 - recall_3: 0.939 - ETA: 14s - loss: 0.2000 - recall_3: 0.939 - ETA: 14s - loss: 0.1998 - recall_3: 0.939 - ETA: 14s - loss: 0.1998 - recall_3: 0.939 - ETA: 14s - loss: 0.1998 - recall_3: 0.939 - ETA: 14s - loss: 0.1997 - recall_3: 0.939 - ETA: 14s - loss: 0.1999 - recall_3: 0.939 - ETA: 14s - loss: 0.2001 - recall_3: 0.939 - ETA: 14s - loss: 0.2001 - recall_3: 0.939 - ETA: 14s - loss: 0.2001 - recall_3: 0.939 - ETA: 14s - loss: 0.2001 - recall_3: 0.939 - ETA: 14s - loss: 0.2001 - recall_3: 0.939 - ETA: 14s - loss: 0.2001 - recall_3: 0.939 - ETA: 14s - loss: 0.2002 - recall_3: 0.939 - ETA: 14s - loss: 0.2003 - recall_3: 0.939 - ETA: 13s - loss: 0.2003 - recall_3: 0.939 - ETA: 13s - loss: 0.2002 - recall_3: 0.939 - ETA: 13s - loss: 0.2002 - recall_3: 0.939 - ETA: 13s - loss: 0.2001 - recall_3: 0.939 - ETA: 13s - loss: 0.2001 - recall_3: 0.939 - ETA: 13s - loss: 0.2001 - recall_3: 0.939 - ETA: 13s - loss: 0.2001 - recall_3: 0.939 - ETA: 13s - loss: 0.2000 - recall_3: 0.939 - ETA: 13s - loss: 0.1999 - recall_3: 0.939 - ETA: 13s - loss: 0.2000 - recall_3: 0.939 - ETA: 13s - loss: 0.1999 - recall_3: 0.939 - ETA: 13s - loss: 0.1997 - recall_3: 0.939 - ETA: 13s - loss: 0.1997 - recall_3: 0.939 - ETA: 13s - loss: 0.1998 - recall_3: 0.939 - ETA: 13s - loss: 0.1998 - recall_3: 0.939 - ETA: 13s - loss: 0.2000 - recall_3: 0.939 - ETA: 13s - loss: 0.2001 - recall_3: 0.939 - ETA: 13s - loss: 0.2000 - recall_3: 0.939 - ETA: 12s - loss: 0.2001 - recall_3: 0.939 - ETA: 12s - loss: 0.2002 - recall_3: 0.939 - ETA: 12s - loss: 0.2001 - recall_3: 0.939 - ETA: 12s - loss: 0.2001 - recall_3: 0.939 - ETA: 12s - loss: 0.2002 - recall_3: 0.939 - ETA: 12s - loss: 0.2000 - recall_3: 0.939 - ETA: 12s - loss: 0.1999 - recall_3: 0.939 - ETA: 12s - loss: 0.1999 - recall_3: 0.939 - ETA: 12s - loss: 0.1998 - recall_3: 0.939 - ETA: 12s - loss: 0.1999 - recall_3: 0.939 - ETA: 12s - loss: 0.2000 - recall_3: 0.939 - ETA: 12s - loss: 0.2000 - recall_3: 0.939 - ETA: 12s - loss: 0.1999 - recall_3: 0.939 - ETA: 12s - loss: 0.1998 - recall_3: 0.939 - ETA: 12s - loss: 0.1997 - recall_3: 0.939 - ETA: 12s - loss: 0.1996 - recall_3: 0.939 - ETA: 11s - loss: 0.1995 - recall_3: 0.939 - ETA: 11s - loss: 0.1995 - recall_3: 0.939 - ETA: 11s - loss: 0.1995 - recall_3: 0.939 - ETA: 11s - loss: 0.1995 - recall_3: 0.939 - ETA: 11s - loss: 0.1995 - recall_3: 0.939 - ETA: 11s - loss: 0.1994 - recall_3: 0.939 - ETA: 11s - loss: 0.1993 - recall_3: 0.939 - ETA: 11s - loss: 0.1992 - recall_3: 0.939 - ETA: 11s - loss: 0.1990 - recall_3: 0.939 - ETA: 11s - loss: 0.1989 - recall_3: 0.939 - ETA: 11s - loss: 0.1989 - recall_3: 0.939 - ETA: 11s - loss: 0.1989 - recall_3: 0.939 - ETA: 11s - loss: 0.1989 - recall_3: 0.939 - ETA: 11s - loss: 0.1990 - recall_3: 0.939 - ETA: 11s - loss: 0.1991 - recall_3: 0.939 - ETA: 11s - loss: 0.1991 - recall_3: 0.939 - ETA: 10s - loss: 0.1991 - recall_3: 0.939 - ETA: 10s - loss: 0.1990 - recall_3: 0.939 - ETA: 10s - loss: 0.1989 - recall_3: 0.939 - ETA: 10s - loss: 0.1991 - recall_3: 0.939 - ETA: 10s - loss: 0.1992 - recall_3: 0.939 - ETA: 10s - loss: 0.1991 - recall_3: 0.939 - ETA: 10s - loss: 0.1991 - recall_3: 0.939 - ETA: 10s - loss: 0.1990 - recall_3: 0.939 - ETA: 10s - loss: 0.1990 - recall_3: 0.939 - ETA: 10s - loss: 0.1991 - recall_3: 0.939 - ETA: 10s - loss: 0.1990 - recall_3: 0.939 - ETA: 10s - loss: 0.1989 - recall_3: 0.939 - ETA: 10s - loss: 0.1989 - recall_3: 0.939 - ETA: 10s - loss: 0.1988 - recall_3: 0.939 - ETA: 10s - loss: 0.1989 - recall_3: 0.939 - ETA: 10s - loss: 0.1991 - recall_3: 0.939 - ETA: 9s - loss: 0.1990 - recall_3: 0.939 - ETA: 9s - loss: 0.1988 - recall_3: 0.93 - ETA: 9s - loss: 0.1988 - recall_3: 0.93 - ETA: 9s - loss: 0.1988 - recall_3: 0.93 - ETA: 9s - loss: 0.1988 - recall_3: 0.93 - ETA: 9s - loss: 0.1988 - recall_3: 0.93 - ETA: 9s - loss: 0.1986 - recall_3: 0.93 - ETA: 9s - loss: 0.1985 - recall_3: 0.93 - ETA: 9s - loss: 0.1984 - recall_3: 0.93 - ETA: 9s - loss: 0.1983 - recall_3: 0.93 - ETA: 9s - loss: 0.1983 - recall_3: 0.93 - ETA: 9s - loss: 0.1983 - recall_3: 0.93 - ETA: 9s - loss: 0.1983 - recall_3: 0.93 - ETA: 9s - loss: 0.1982 - recall_3: 0.93 - ETA: 8s - loss: 0.1983 - recall_3: 0.93 - ETA: 8s - loss: 0.1982 - recall_3: 0.93 - ETA: 8s - loss: 0.1984 - recall_3: 0.93 - ETA: 8s - loss: 0.1983 - recall_3: 0.93 - ETA: 8s - loss: 0.1984 - recall_3: 0.93 - ETA: 8s - loss: 0.1985 - recall_3: 0.93 - ETA: 8s - loss: 0.1986 - recall_3: 0.93 - ETA: 8s - loss: 0.1986 - recall_3: 0.93 - ETA: 8s - loss: 0.1986 - recall_3: 0.93 - ETA: 8s - loss: 0.1989 - recall_3: 0.93 - ETA: 8s - loss: 0.1989 - recall_3: 0.93 - ETA: 8s - loss: 0.1990 - recall_3: 0.93 - ETA: 8s - loss: 0.1989 - recall_3: 0.93 - ETA: 8s - loss: 0.1991 - recall_3: 0.93 - ETA: 7s - loss: 0.1990 - recall_3: 0.93 - ETA: 7s - loss: 0.1990 - recall_3: 0.93 - ETA: 7s - loss: 0.1989 - recall_3: 0.93 - ETA: 7s - loss: 0.1990 - recall_3: 0.93 - ETA: 7s - loss: 0.1990 - recall_3: 0.93 - ETA: 7s - loss: 0.1990 - recall_3: 0.93 - ETA: 7s - loss: 0.1989 - recall_3: 0.93 - ETA: 7s - loss: 0.1989 - recall_3: 0.93 - ETA: 7s - loss: 0.1988 - recall_3: 0.93 - ETA: 7s - loss: 0.1988 - recall_3: 0.93 - ETA: 7s - loss: 0.1988 - recall_3: 0.93 - ETA: 7s - loss: 0.1989 - recall_3: 0.93 - ETA: 7s - loss: 0.1987 - recall_3: 0.93 - ETA: 7s - loss: 0.1986 - recall_3: 0.93 - ETA: 7s - loss: 0.1991 - recall_3: 0.93 - ETA: 6s - loss: 0.1992 - recall_3: 0.93 - ETA: 6s - loss: 0.1993 - recall_3: 0.9394"
     ]
    },
    {
     "name": "stdout",
     "output_type": "stream",
     "text": [
      "59884/59884 [==============================] - ETA: 6s - loss: 0.1993 - recall_3: 0.93 - ETA: 6s - loss: 0.1994 - recall_3: 0.93 - ETA: 6s - loss: 0.1994 - recall_3: 0.93 - ETA: 6s - loss: 0.1993 - recall_3: 0.93 - ETA: 6s - loss: 0.1994 - recall_3: 0.93 - ETA: 6s - loss: 0.1993 - recall_3: 0.93 - ETA: 6s - loss: 0.1992 - recall_3: 0.93 - ETA: 6s - loss: 0.1991 - recall_3: 0.93 - ETA: 6s - loss: 0.1992 - recall_3: 0.93 - ETA: 6s - loss: 0.1993 - recall_3: 0.93 - ETA: 6s - loss: 0.1995 - recall_3: 0.93 - ETA: 6s - loss: 0.1994 - recall_3: 0.93 - ETA: 6s - loss: 0.1994 - recall_3: 0.93 - ETA: 5s - loss: 0.1993 - recall_3: 0.93 - ETA: 5s - loss: 0.1996 - recall_3: 0.93 - ETA: 5s - loss: 0.1995 - recall_3: 0.93 - ETA: 5s - loss: 0.1995 - recall_3: 0.93 - ETA: 5s - loss: 0.1994 - recall_3: 0.93 - ETA: 5s - loss: 0.1993 - recall_3: 0.93 - ETA: 5s - loss: 0.1993 - recall_3: 0.93 - ETA: 5s - loss: 0.1994 - recall_3: 0.93 - ETA: 5s - loss: 0.1995 - recall_3: 0.93 - ETA: 5s - loss: 0.1993 - recall_3: 0.93 - ETA: 5s - loss: 0.1996 - recall_3: 0.93 - ETA: 5s - loss: 0.1996 - recall_3: 0.93 - ETA: 5s - loss: 0.1996 - recall_3: 0.93 - ETA: 5s - loss: 0.1995 - recall_3: 0.93 - ETA: 5s - loss: 0.1995 - recall_3: 0.93 - ETA: 5s - loss: 0.1995 - recall_3: 0.93 - ETA: 5s - loss: 0.1995 - recall_3: 0.93 - ETA: 5s - loss: 0.1993 - recall_3: 0.93 - ETA: 4s - loss: 0.1993 - recall_3: 0.93 - ETA: 4s - loss: 0.1993 - recall_3: 0.93 - ETA: 4s - loss: 0.1992 - recall_3: 0.93 - ETA: 4s - loss: 0.1992 - recall_3: 0.93 - ETA: 4s - loss: 0.1990 - recall_3: 0.93 - ETA: 4s - loss: 0.1988 - recall_3: 0.93 - ETA: 4s - loss: 0.1986 - recall_3: 0.93 - ETA: 4s - loss: 0.1986 - recall_3: 0.93 - ETA: 4s - loss: 0.1986 - recall_3: 0.93 - ETA: 4s - loss: 0.1986 - recall_3: 0.93 - ETA: 4s - loss: 0.1986 - recall_3: 0.93 - ETA: 4s - loss: 0.1986 - recall_3: 0.93 - ETA: 3s - loss: 0.1986 - recall_3: 0.93 - ETA: 3s - loss: 0.1995 - recall_3: 0.93 - ETA: 3s - loss: 0.1994 - recall_3: 0.93 - ETA: 3s - loss: 0.1995 - recall_3: 0.93 - ETA: 3s - loss: 0.1996 - recall_3: 0.93 - ETA: 3s - loss: 0.1997 - recall_3: 0.93 - ETA: 3s - loss: 0.1997 - recall_3: 0.93 - ETA: 3s - loss: 0.1996 - recall_3: 0.93 - ETA: 3s - loss: 0.1998 - recall_3: 0.93 - ETA: 3s - loss: 0.1997 - recall_3: 0.93 - ETA: 3s - loss: 0.1999 - recall_3: 0.93 - ETA: 3s - loss: 0.1999 - recall_3: 0.93 - ETA: 2s - loss: 0.1999 - recall_3: 0.93 - ETA: 2s - loss: 0.1998 - recall_3: 0.93 - ETA: 2s - loss: 0.1998 - recall_3: 0.93 - ETA: 2s - loss: 0.1998 - recall_3: 0.93 - ETA: 2s - loss: 0.1997 - recall_3: 0.93 - ETA: 2s - loss: 0.1997 - recall_3: 0.93 - ETA: 2s - loss: 0.1999 - recall_3: 0.93 - ETA: 2s - loss: 0.1999 - recall_3: 0.93 - ETA: 2s - loss: 0.1999 - recall_3: 0.93 - ETA: 2s - loss: 0.2001 - recall_3: 0.93 - ETA: 2s - loss: 0.2000 - recall_3: 0.93 - ETA: 2s - loss: 0.1999 - recall_3: 0.93 - ETA: 2s - loss: 0.1998 - recall_3: 0.93 - ETA: 2s - loss: 0.1998 - recall_3: 0.93 - ETA: 2s - loss: 0.1999 - recall_3: 0.93 - ETA: 2s - loss: 0.2000 - recall_3: 0.93 - ETA: 2s - loss: 0.2000 - recall_3: 0.93 - ETA: 2s - loss: 0.1999 - recall_3: 0.93 - ETA: 2s - loss: 0.2001 - recall_3: 0.93 - ETA: 1s - loss: 0.2002 - recall_3: 0.93 - ETA: 1s - loss: 0.2000 - recall_3: 0.93 - ETA: 1s - loss: 0.1999 - recall_3: 0.93 - ETA: 1s - loss: 0.1998 - recall_3: 0.93 - ETA: 1s - loss: 0.1998 - recall_3: 0.93 - ETA: 1s - loss: 0.1998 - recall_3: 0.93 - ETA: 1s - loss: 0.1999 - recall_3: 0.93 - ETA: 1s - loss: 0.1999 - recall_3: 0.93 - ETA: 1s - loss: 0.2000 - recall_3: 0.93 - ETA: 1s - loss: 0.2000 - recall_3: 0.93 - ETA: 1s - loss: 0.2000 - recall_3: 0.93 - ETA: 1s - loss: 0.2000 - recall_3: 0.93 - ETA: 1s - loss: 0.2002 - recall_3: 0.93 - ETA: 1s - loss: 0.2002 - recall_3: 0.93 - ETA: 1s - loss: 0.2001 - recall_3: 0.93 - ETA: 1s - loss: 0.2000 - recall_3: 0.93 - ETA: 1s - loss: 0.2000 - recall_3: 0.93 - ETA: 1s - loss: 0.2000 - recall_3: 0.93 - ETA: 0s - loss: 0.2000 - recall_3: 0.93 - ETA: 0s - loss: 0.1999 - recall_3: 0.93 - ETA: 0s - loss: 0.1998 - recall_3: 0.93 - ETA: 0s - loss: 0.1998 - recall_3: 0.93 - ETA: 0s - loss: 0.1997 - recall_3: 0.93 - ETA: 0s - loss: 0.1996 - recall_3: 0.93 - ETA: 0s - loss: 0.1995 - recall_3: 0.93 - ETA: 0s - loss: 0.1994 - recall_3: 0.93 - ETA: 0s - loss: 0.1994 - recall_3: 0.93 - ETA: 0s - loss: 0.1994 - recall_3: 0.93 - ETA: 0s - loss: 0.1992 - recall_3: 0.93 - ETA: 0s - loss: 0.1991 - recall_3: 0.93 - ETA: 0s - loss: 0.1993 - recall_3: 0.93 - ETA: 0s - loss: 0.1993 - recall_3: 0.93 - ETA: 0s - loss: 0.1993 - recall_3: 0.93 - ETA: 0s - loss: 0.1993 - recall_3: 0.93 - 57s 949us/sample - loss: 0.1994 - recall_3: 0.9392 - val_loss: 0.2597 - val_recall_3: 0.9458\n",
      "Epoch 2/2\n"
     ]
    },
    {
     "name": "stdout",
     "output_type": "stream",
     "text": [
      "13120/59884 [=====>........................] - ETA: 50s - loss: 0.3324 - recall_3: 0.843 - ETA: 52s - loss: 0.2236 - recall_3: 0.906 - ETA: 55s - loss: 0.1842 - recall_3: 0.931 - ETA: 53s - loss: 0.1587 - recall_3: 0.946 - ETA: 52s - loss: 0.1511 - recall_3: 0.951 - ETA: 51s - loss: 0.1487 - recall_3: 0.954 - ETA: 56s - loss: 0.1593 - recall_3: 0.950 - ETA: 55s - loss: 0.1523 - recall_3: 0.953 - ETA: 55s - loss: 0.1592 - recall_3: 0.949 - ETA: 54s - loss: 0.1552 - recall_3: 0.949 - ETA: 57s - loss: 0.1546 - recall_3: 0.951 - ETA: 56s - loss: 0.1549 - recall_3: 0.951 - ETA: 55s - loss: 0.1605 - recall_3: 0.950 - ETA: 54s - loss: 0.1598 - recall_3: 0.950 - ETA: 53s - loss: 0.1602 - recall_3: 0.950 - ETA: 52s - loss: 0.1674 - recall_3: 0.950 - ETA: 52s - loss: 0.1680 - recall_3: 0.949 - ETA: 52s - loss: 0.1712 - recall_3: 0.948 - ETA: 53s - loss: 0.1731 - recall_3: 0.947 - ETA: 53s - loss: 0.1708 - recall_3: 0.948 - ETA: 53s - loss: 0.1677 - recall_3: 0.949 - ETA: 53s - loss: 0.1651 - recall_3: 0.950 - ETA: 53s - loss: 0.1640 - recall_3: 0.951 - ETA: 53s - loss: 0.1663 - recall_3: 0.950 - ETA: 52s - loss: 0.1638 - recall_3: 0.951 - ETA: 51s - loss: 0.1668 - recall_3: 0.951 - ETA: 51s - loss: 0.1733 - recall_3: 0.951 - ETA: 50s - loss: 0.1737 - recall_3: 0.950 - ETA: 49s - loss: 0.1785 - recall_3: 0.950 - ETA: 49s - loss: 0.1771 - recall_3: 0.951 - ETA: 50s - loss: 0.1783 - recall_3: 0.949 - ETA: 50s - loss: 0.1795 - recall_3: 0.948 - ETA: 50s - loss: 0.1768 - recall_3: 0.949 - ETA: 50s - loss: 0.1780 - recall_3: 0.948 - ETA: 50s - loss: 0.1784 - recall_3: 0.948 - ETA: 50s - loss: 0.1781 - recall_3: 0.947 - ETA: 50s - loss: 0.1769 - recall_3: 0.947 - ETA: 51s - loss: 0.1779 - recall_3: 0.947 - ETA: 51s - loss: 0.1775 - recall_3: 0.947 - ETA: 51s - loss: 0.1802 - recall_3: 0.946 - ETA: 51s - loss: 0.1820 - recall_3: 0.945 - ETA: 51s - loss: 0.1829 - recall_3: 0.944 - ETA: 51s - loss: 0.1819 - recall_3: 0.945 - ETA: 50s - loss: 0.1836 - recall_3: 0.944 - ETA: 50s - loss: 0.1833 - recall_3: 0.943 - ETA: 50s - loss: 0.1818 - recall_3: 0.944 - ETA: 50s - loss: 0.1810 - recall_3: 0.944 - ETA: 50s - loss: 0.1809 - recall_3: 0.944 - ETA: 50s - loss: 0.1799 - recall_3: 0.944 - ETA: 50s - loss: 0.1851 - recall_3: 0.943 - ETA: 50s - loss: 0.1860 - recall_3: 0.943 - ETA: 50s - loss: 0.1862 - recall_3: 0.943 - ETA: 50s - loss: 0.1854 - recall_3: 0.943 - ETA: 50s - loss: 0.1850 - recall_3: 0.943 - ETA: 49s - loss: 0.1851 - recall_3: 0.943 - ETA: 49s - loss: 0.1850 - recall_3: 0.943 - ETA: 49s - loss: 0.1835 - recall_3: 0.944 - ETA: 49s - loss: 0.1852 - recall_3: 0.943 - ETA: 49s - loss: 0.1863 - recall_3: 0.942 - ETA: 49s - loss: 0.1867 - recall_3: 0.942 - ETA: 49s - loss: 0.1855 - recall_3: 0.942 - ETA: 48s - loss: 0.1846 - recall_3: 0.943 - ETA: 48s - loss: 0.1846 - recall_3: 0.943 - ETA: 48s - loss: 0.1860 - recall_3: 0.942 - ETA: 48s - loss: 0.1855 - recall_3: 0.943 - ETA: 48s - loss: 0.1847 - recall_3: 0.943 - ETA: 48s - loss: 0.1845 - recall_3: 0.943 - ETA: 47s - loss: 0.1845 - recall_3: 0.943 - ETA: 47s - loss: 0.1833 - recall_3: 0.944 - ETA: 47s - loss: 0.1836 - recall_3: 0.943 - ETA: 47s - loss: 0.1835 - recall_3: 0.943 - ETA: 47s - loss: 0.1847 - recall_3: 0.943 - ETA: 47s - loss: 0.1844 - recall_3: 0.943 - ETA: 46s - loss: 0.1837 - recall_3: 0.943 - ETA: 46s - loss: 0.1839 - recall_3: 0.943 - ETA: 46s - loss: 0.1831 - recall_3: 0.943 - ETA: 46s - loss: 0.1852 - recall_3: 0.943 - ETA: 46s - loss: 0.1864 - recall_3: 0.943 - ETA: 46s - loss: 0.1887 - recall_3: 0.942 - ETA: 45s - loss: 0.1881 - recall_3: 0.943 - ETA: 45s - loss: 0.1882 - recall_3: 0.942 - ETA: 45s - loss: 0.1884 - recall_3: 0.942 - ETA: 45s - loss: 0.1877 - recall_3: 0.943 - ETA: 45s - loss: 0.1886 - recall_3: 0.942 - ETA: 45s - loss: 0.1899 - recall_3: 0.941 - ETA: 45s - loss: 0.1905 - recall_3: 0.940 - ETA: 45s - loss: 0.1919 - recall_3: 0.940 - ETA: 45s - loss: 0.1920 - recall_3: 0.940 - ETA: 44s - loss: 0.1913 - recall_3: 0.940 - ETA: 44s - loss: 0.1950 - recall_3: 0.940 - ETA: 44s - loss: 0.1946 - recall_3: 0.940 - ETA: 44s - loss: 0.1946 - recall_3: 0.940 - ETA: 43s - loss: 0.1937 - recall_3: 0.940 - ETA: 43s - loss: 0.1943 - recall_3: 0.940 - ETA: 44s - loss: 0.1944 - recall_3: 0.940 - ETA: 44s - loss: 0.1940 - recall_3: 0.940 - ETA: 45s - loss: 0.1941 - recall_3: 0.940 - ETA: 45s - loss: 0.1945 - recall_3: 0.940 - ETA: 44s - loss: 0.1945 - recall_3: 0.940 - ETA: 44s - loss: 0.1942 - recall_3: 0.940 - ETA: 44s - loss: 0.1939 - recall_3: 0.940 - ETA: 44s - loss: 0.1952 - recall_3: 0.940 - ETA: 44s - loss: 0.1963 - recall_3: 0.939 - ETA: 44s - loss: 0.1965 - recall_3: 0.939 - ETA: 44s - loss: 0.1967 - recall_3: 0.939 - ETA: 44s - loss: 0.1964 - recall_3: 0.939 - ETA: 44s - loss: 0.1957 - recall_3: 0.939 - ETA: 44s - loss: 0.1949 - recall_3: 0.940 - ETA: 44s - loss: 0.1943 - recall_3: 0.940 - ETA: 44s - loss: 0.1938 - recall_3: 0.940 - ETA: 44s - loss: 0.1942 - recall_3: 0.940 - ETA: 44s - loss: 0.1936 - recall_3: 0.940 - ETA: 44s - loss: 0.1936 - recall_3: 0.940 - ETA: 44s - loss: 0.1938 - recall_3: 0.940 - ETA: 43s - loss: 0.1945 - recall_3: 0.940 - ETA: 43s - loss: 0.1936 - recall_3: 0.940 - ETA: 43s - loss: 0.1951 - recall_3: 0.939 - ETA: 43s - loss: 0.1943 - recall_3: 0.940 - ETA: 43s - loss: 0.1942 - recall_3: 0.940 - ETA: 43s - loss: 0.1936 - recall_3: 0.940 - ETA: 43s - loss: 0.1933 - recall_3: 0.940 - ETA: 43s - loss: 0.1928 - recall_3: 0.940 - ETA: 43s - loss: 0.1926 - recall_3: 0.940 - ETA: 43s - loss: 0.1929 - recall_3: 0.940 - ETA: 43s - loss: 0.1926 - recall_3: 0.940 - ETA: 43s - loss: 0.1920 - recall_3: 0.940 - ETA: 43s - loss: 0.1923 - recall_3: 0.940 - ETA: 43s - loss: 0.1932 - recall_3: 0.940 - ETA: 42s - loss: 0.1925 - recall_3: 0.940 - ETA: 43s - loss: 0.1927 - recall_3: 0.940 - ETA: 42s - loss: 0.1923 - recall_3: 0.940 - ETA: 42s - loss: 0.1912 - recall_3: 0.941 - ETA: 42s - loss: 0.1915 - recall_3: 0.941 - ETA: 42s - loss: 0.1918 - recall_3: 0.940 - ETA: 42s - loss: 0.1915 - recall_3: 0.940 - ETA: 42s - loss: 0.1916 - recall_3: 0.940 - ETA: 42s - loss: 0.1914 - recall_3: 0.940 - ETA: 42s - loss: 0.1912 - recall_3: 0.941 - ETA: 42s - loss: 0.1908 - recall_3: 0.941 - ETA: 42s - loss: 0.1901 - recall_3: 0.941 - ETA: 42s - loss: 0.1907 - recall_3: 0.941 - ETA: 42s - loss: 0.1907 - recall_3: 0.941 - ETA: 41s - loss: 0.1914 - recall_3: 0.940 - ETA: 41s - loss: 0.1905 - recall_3: 0.941 - ETA: 41s - loss: 0.1906 - recall_3: 0.941 - ETA: 41s - loss: 0.1900 - recall_3: 0.941 - ETA: 41s - loss: 0.1898 - recall_3: 0.941 - ETA: 41s - loss: 0.1890 - recall_3: 0.941 - ETA: 41s - loss: 0.1891 - recall_3: 0.941 - ETA: 41s - loss: 0.1903 - recall_3: 0.941 - ETA: 41s - loss: 0.1902 - recall_3: 0.941 - ETA: 41s - loss: 0.1901 - recall_3: 0.941 - ETA: 41s - loss: 0.1901 - recall_3: 0.941 - ETA: 41s - loss: 0.1902 - recall_3: 0.941 - ETA: 41s - loss: 0.1897 - recall_3: 0.941 - ETA: 41s - loss: 0.1897 - recall_3: 0.941 - ETA: 41s - loss: 0.1891 - recall_3: 0.941 - ETA: 41s - loss: 0.1886 - recall_3: 0.941 - ETA: 41s - loss: 0.1880 - recall_3: 0.941 - ETA: 41s - loss: 0.1875 - recall_3: 0.942 - ETA: 40s - loss: 0.1876 - recall_3: 0.942 - ETA: 40s - loss: 0.1886 - recall_3: 0.941 - ETA: 40s - loss: 0.1893 - recall_3: 0.941 - ETA: 40s - loss: 0.1896 - recall_3: 0.941 - ETA: 40s - loss: 0.1896 - recall_3: 0.941 - ETA: 40s - loss: 0.1896 - recall_3: 0.941 - ETA: 40s - loss: 0.1896 - recall_3: 0.941 - ETA: 40s - loss: 0.1892 - recall_3: 0.941 - ETA: 40s - loss: 0.1893 - recall_3: 0.941 - ETA: 40s - loss: 0.1896 - recall_3: 0.941 - ETA: 40s - loss: 0.1893 - recall_3: 0.941 - ETA: 40s - loss: 0.1891 - recall_3: 0.941 - ETA: 40s - loss: 0.1891 - recall_3: 0.941 - ETA: 40s - loss: 0.1889 - recall_3: 0.941 - ETA: 40s - loss: 0.1883 - recall_3: 0.941 - ETA: 40s - loss: 0.1885 - recall_3: 0.941 - ETA: 40s - loss: 0.1889 - recall_3: 0.941 - ETA: 39s - loss: 0.1885 - recall_3: 0.941 - ETA: 39s - loss: 0.1884 - recall_3: 0.941 - ETA: 39s - loss: 0.1887 - recall_3: 0.941 - ETA: 39s - loss: 0.1893 - recall_3: 0.941 - ETA: 39s - loss: 0.1887 - recall_3: 0.941 - ETA: 39s - loss: 0.1887 - recall_3: 0.941 - ETA: 39s - loss: 0.1886 - recall_3: 0.941 - ETA: 39s - loss: 0.1884 - recall_3: 0.941 - ETA: 39s - loss: 0.1883 - recall_3: 0.9415"
     ]
    },
    {
     "name": "stdout",
     "output_type": "stream",
     "text": [
      "25824/59884 [===========>..................] - ETA: 39s - loss: 0.1879 - recall_3: 0.941 - ETA: 39s - loss: 0.1883 - recall_3: 0.941 - ETA: 39s - loss: 0.1877 - recall_3: 0.941 - ETA: 39s - loss: 0.1885 - recall_3: 0.941 - ETA: 39s - loss: 0.1882 - recall_3: 0.941 - ETA: 39s - loss: 0.1878 - recall_3: 0.941 - ETA: 39s - loss: 0.1874 - recall_3: 0.941 - ETA: 39s - loss: 0.1872 - recall_3: 0.941 - ETA: 39s - loss: 0.1881 - recall_3: 0.941 - ETA: 38s - loss: 0.1885 - recall_3: 0.941 - ETA: 38s - loss: 0.1884 - recall_3: 0.941 - ETA: 38s - loss: 0.1878 - recall_3: 0.941 - ETA: 38s - loss: 0.1872 - recall_3: 0.941 - ETA: 38s - loss: 0.1869 - recall_3: 0.941 - ETA: 38s - loss: 0.1867 - recall_3: 0.941 - ETA: 38s - loss: 0.1861 - recall_3: 0.942 - ETA: 38s - loss: 0.1861 - recall_3: 0.942 - ETA: 37s - loss: 0.1858 - recall_3: 0.942 - ETA: 37s - loss: 0.1853 - recall_3: 0.942 - ETA: 37s - loss: 0.1847 - recall_3: 0.942 - ETA: 37s - loss: 0.1842 - recall_3: 0.942 - ETA: 37s - loss: 0.1848 - recall_3: 0.942 - ETA: 37s - loss: 0.1849 - recall_3: 0.942 - ETA: 37s - loss: 0.1850 - recall_3: 0.942 - ETA: 37s - loss: 0.1848 - recall_3: 0.942 - ETA: 37s - loss: 0.1849 - recall_3: 0.942 - ETA: 37s - loss: 0.1848 - recall_3: 0.942 - ETA: 37s - loss: 0.1845 - recall_3: 0.942 - ETA: 37s - loss: 0.1841 - recall_3: 0.942 - ETA: 37s - loss: 0.1841 - recall_3: 0.942 - ETA: 37s - loss: 0.1844 - recall_3: 0.942 - ETA: 37s - loss: 0.1841 - recall_3: 0.942 - ETA: 37s - loss: 0.1841 - recall_3: 0.942 - ETA: 37s - loss: 0.1839 - recall_3: 0.942 - ETA: 37s - loss: 0.1839 - recall_3: 0.943 - ETA: 37s - loss: 0.1841 - recall_3: 0.942 - ETA: 37s - loss: 0.1843 - recall_3: 0.942 - ETA: 37s - loss: 0.1840 - recall_3: 0.942 - ETA: 37s - loss: 0.1841 - recall_3: 0.942 - ETA: 37s - loss: 0.1840 - recall_3: 0.942 - ETA: 38s - loss: 0.1840 - recall_3: 0.942 - ETA: 38s - loss: 0.1846 - recall_3: 0.942 - ETA: 38s - loss: 0.1846 - recall_3: 0.942 - ETA: 38s - loss: 0.1845 - recall_3: 0.942 - ETA: 38s - loss: 0.1846 - recall_3: 0.942 - ETA: 38s - loss: 0.1847 - recall_3: 0.942 - ETA: 38s - loss: 0.1849 - recall_3: 0.942 - ETA: 38s - loss: 0.1848 - recall_3: 0.942 - ETA: 38s - loss: 0.1845 - recall_3: 0.942 - ETA: 38s - loss: 0.1844 - recall_3: 0.942 - ETA: 38s - loss: 0.1843 - recall_3: 0.942 - ETA: 38s - loss: 0.1840 - recall_3: 0.942 - ETA: 38s - loss: 0.1840 - recall_3: 0.942 - ETA: 37s - loss: 0.1836 - recall_3: 0.942 - ETA: 37s - loss: 0.1833 - recall_3: 0.943 - ETA: 37s - loss: 0.1831 - recall_3: 0.943 - ETA: 37s - loss: 0.1835 - recall_3: 0.943 - ETA: 37s - loss: 0.1831 - recall_3: 0.943 - ETA: 37s - loss: 0.1828 - recall_3: 0.943 - ETA: 37s - loss: 0.1827 - recall_3: 0.943 - ETA: 37s - loss: 0.1827 - recall_3: 0.943 - ETA: 37s - loss: 0.1829 - recall_3: 0.943 - ETA: 37s - loss: 0.1827 - recall_3: 0.943 - ETA: 37s - loss: 0.1826 - recall_3: 0.943 - ETA: 37s - loss: 0.1824 - recall_3: 0.943 - ETA: 37s - loss: 0.1826 - recall_3: 0.943 - ETA: 37s - loss: 0.1825 - recall_3: 0.943 - ETA: 37s - loss: 0.1825 - recall_3: 0.943 - ETA: 37s - loss: 0.1820 - recall_3: 0.943 - ETA: 37s - loss: 0.1819 - recall_3: 0.943 - ETA: 37s - loss: 0.1818 - recall_3: 0.943 - ETA: 37s - loss: 0.1819 - recall_3: 0.943 - ETA: 36s - loss: 0.1817 - recall_3: 0.943 - ETA: 36s - loss: 0.1820 - recall_3: 0.943 - ETA: 36s - loss: 0.1820 - recall_3: 0.943 - ETA: 36s - loss: 0.1821 - recall_3: 0.943 - ETA: 36s - loss: 0.1821 - recall_3: 0.943 - ETA: 36s - loss: 0.1820 - recall_3: 0.943 - ETA: 36s - loss: 0.1822 - recall_3: 0.943 - ETA: 36s - loss: 0.1824 - recall_3: 0.943 - ETA: 36s - loss: 0.1823 - recall_3: 0.943 - ETA: 36s - loss: 0.1824 - recall_3: 0.943 - ETA: 36s - loss: 0.1821 - recall_3: 0.943 - ETA: 36s - loss: 0.1820 - recall_3: 0.943 - ETA: 36s - loss: 0.1821 - recall_3: 0.943 - ETA: 36s - loss: 0.1818 - recall_3: 0.943 - ETA: 35s - loss: 0.1818 - recall_3: 0.943 - ETA: 35s - loss: 0.1822 - recall_3: 0.943 - ETA: 35s - loss: 0.1821 - recall_3: 0.943 - ETA: 35s - loss: 0.1819 - recall_3: 0.943 - ETA: 35s - loss: 0.1825 - recall_3: 0.943 - ETA: 35s - loss: 0.1825 - recall_3: 0.943 - ETA: 35s - loss: 0.1821 - recall_3: 0.943 - ETA: 35s - loss: 0.1817 - recall_3: 0.943 - ETA: 35s - loss: 0.1822 - recall_3: 0.943 - ETA: 34s - loss: 0.1819 - recall_3: 0.943 - ETA: 34s - loss: 0.1818 - recall_3: 0.943 - ETA: 34s - loss: 0.1817 - recall_3: 0.943 - ETA: 34s - loss: 0.1817 - recall_3: 0.943 - ETA: 34s - loss: 0.1816 - recall_3: 0.943 - ETA: 34s - loss: 0.1817 - recall_3: 0.943 - ETA: 34s - loss: 0.1818 - recall_3: 0.943 - ETA: 34s - loss: 0.1818 - recall_3: 0.943 - ETA: 34s - loss: 0.1817 - recall_3: 0.943 - ETA: 34s - loss: 0.1816 - recall_3: 0.943 - ETA: 34s - loss: 0.1818 - recall_3: 0.943 - ETA: 34s - loss: 0.1814 - recall_3: 0.943 - ETA: 34s - loss: 0.1814 - recall_3: 0.944 - ETA: 34s - loss: 0.1810 - recall_3: 0.944 - ETA: 34s - loss: 0.1809 - recall_3: 0.944 - ETA: 34s - loss: 0.1813 - recall_3: 0.944 - ETA: 34s - loss: 0.1811 - recall_3: 0.944 - ETA: 34s - loss: 0.1807 - recall_3: 0.944 - ETA: 34s - loss: 0.1806 - recall_3: 0.944 - ETA: 34s - loss: 0.1805 - recall_3: 0.944 - ETA: 33s - loss: 0.1810 - recall_3: 0.944 - ETA: 33s - loss: 0.1810 - recall_3: 0.944 - ETA: 33s - loss: 0.1810 - recall_3: 0.944 - ETA: 33s - loss: 0.1812 - recall_3: 0.944 - ETA: 33s - loss: 0.1812 - recall_3: 0.944 - ETA: 33s - loss: 0.1812 - recall_3: 0.944 - ETA: 33s - loss: 0.1810 - recall_3: 0.944 - ETA: 33s - loss: 0.1812 - recall_3: 0.944 - ETA: 33s - loss: 0.1810 - recall_3: 0.944 - ETA: 33s - loss: 0.1809 - recall_3: 0.944 - ETA: 33s - loss: 0.1811 - recall_3: 0.944 - ETA: 33s - loss: 0.1810 - recall_3: 0.944 - ETA: 33s - loss: 0.1809 - recall_3: 0.944 - ETA: 33s - loss: 0.1817 - recall_3: 0.943 - ETA: 32s - loss: 0.1817 - recall_3: 0.943 - ETA: 32s - loss: 0.1820 - recall_3: 0.943 - ETA: 32s - loss: 0.1819 - recall_3: 0.943 - ETA: 32s - loss: 0.1818 - recall_3: 0.943 - ETA: 32s - loss: 0.1815 - recall_3: 0.944 - ETA: 32s - loss: 0.1816 - recall_3: 0.944 - ETA: 32s - loss: 0.1819 - recall_3: 0.943 - ETA: 32s - loss: 0.1822 - recall_3: 0.943 - ETA: 32s - loss: 0.1822 - recall_3: 0.943 - ETA: 32s - loss: 0.1823 - recall_3: 0.943 - ETA: 32s - loss: 0.1822 - recall_3: 0.943 - ETA: 32s - loss: 0.1820 - recall_3: 0.943 - ETA: 32s - loss: 0.1824 - recall_3: 0.943 - ETA: 32s - loss: 0.1828 - recall_3: 0.943 - ETA: 32s - loss: 0.1830 - recall_3: 0.943 - ETA: 31s - loss: 0.1830 - recall_3: 0.943 - ETA: 31s - loss: 0.1830 - recall_3: 0.942 - ETA: 31s - loss: 0.1828 - recall_3: 0.943 - ETA: 31s - loss: 0.1831 - recall_3: 0.942 - ETA: 31s - loss: 0.1831 - recall_3: 0.942 - ETA: 31s - loss: 0.1831 - recall_3: 0.942 - ETA: 31s - loss: 0.1833 - recall_3: 0.942 - ETA: 31s - loss: 0.1831 - recall_3: 0.942 - ETA: 31s - loss: 0.1832 - recall_3: 0.942 - ETA: 31s - loss: 0.1830 - recall_3: 0.942 - ETA: 31s - loss: 0.1828 - recall_3: 0.942 - ETA: 31s - loss: 0.1826 - recall_3: 0.943 - ETA: 31s - loss: 0.1826 - recall_3: 0.943 - ETA: 30s - loss: 0.1826 - recall_3: 0.943 - ETA: 30s - loss: 0.1832 - recall_3: 0.942 - ETA: 30s - loss: 0.1831 - recall_3: 0.942 - ETA: 30s - loss: 0.1832 - recall_3: 0.942 - ETA: 30s - loss: 0.1832 - recall_3: 0.942 - ETA: 30s - loss: 0.1832 - recall_3: 0.942 - ETA: 30s - loss: 0.1829 - recall_3: 0.942 - ETA: 30s - loss: 0.1829 - recall_3: 0.942 - ETA: 30s - loss: 0.1829 - recall_3: 0.942 - ETA: 30s - loss: 0.1831 - recall_3: 0.942 - ETA: 30s - loss: 0.1830 - recall_3: 0.942 - ETA: 30s - loss: 0.1829 - recall_3: 0.942 - ETA: 30s - loss: 0.1827 - recall_3: 0.942 - ETA: 30s - loss: 0.1826 - recall_3: 0.942 - ETA: 30s - loss: 0.1827 - recall_3: 0.942 - ETA: 30s - loss: 0.1826 - recall_3: 0.942 - ETA: 30s - loss: 0.1825 - recall_3: 0.942 - ETA: 30s - loss: 0.1823 - recall_3: 0.942 - ETA: 30s - loss: 0.1822 - recall_3: 0.942 - ETA: 30s - loss: 0.1822 - recall_3: 0.942 - ETA: 30s - loss: 0.1824 - recall_3: 0.942 - ETA: 30s - loss: 0.1822 - recall_3: 0.942 - ETA: 29s - loss: 0.1822 - recall_3: 0.942 - ETA: 29s - loss: 0.1825 - recall_3: 0.942 - ETA: 29s - loss: 0.1829 - recall_3: 0.942 - ETA: 29s - loss: 0.1827 - recall_3: 0.942 - ETA: 29s - loss: 0.1826 - recall_3: 0.942 - ETA: 29s - loss: 0.1826 - recall_3: 0.942 - ETA: 29s - loss: 0.1827 - recall_3: 0.9426"
     ]
    },
    {
     "name": "stdout",
     "output_type": "stream",
     "text": [
      "39808/59884 [==================>...........] - ETA: 29s - loss: 0.1827 - recall_3: 0.942 - ETA: 29s - loss: 0.1827 - recall_3: 0.942 - ETA: 29s - loss: 0.1827 - recall_3: 0.942 - ETA: 29s - loss: 0.1826 - recall_3: 0.942 - ETA: 29s - loss: 0.1824 - recall_3: 0.942 - ETA: 29s - loss: 0.1825 - recall_3: 0.942 - ETA: 29s - loss: 0.1826 - recall_3: 0.942 - ETA: 29s - loss: 0.1824 - recall_3: 0.942 - ETA: 29s - loss: 0.1824 - recall_3: 0.942 - ETA: 29s - loss: 0.1824 - recall_3: 0.942 - ETA: 29s - loss: 0.1823 - recall_3: 0.942 - ETA: 28s - loss: 0.1837 - recall_3: 0.942 - ETA: 28s - loss: 0.1840 - recall_3: 0.942 - ETA: 28s - loss: 0.1839 - recall_3: 0.942 - ETA: 28s - loss: 0.1842 - recall_3: 0.942 - ETA: 28s - loss: 0.1841 - recall_3: 0.942 - ETA: 28s - loss: 0.1842 - recall_3: 0.941 - ETA: 28s - loss: 0.1843 - recall_3: 0.941 - ETA: 28s - loss: 0.1843 - recall_3: 0.941 - ETA: 28s - loss: 0.1846 - recall_3: 0.941 - ETA: 28s - loss: 0.1846 - recall_3: 0.941 - ETA: 28s - loss: 0.1846 - recall_3: 0.941 - ETA: 28s - loss: 0.1845 - recall_3: 0.941 - ETA: 27s - loss: 0.1844 - recall_3: 0.941 - ETA: 27s - loss: 0.1842 - recall_3: 0.941 - ETA: 27s - loss: 0.1841 - recall_3: 0.941 - ETA: 27s - loss: 0.1840 - recall_3: 0.941 - ETA: 27s - loss: 0.1840 - recall_3: 0.941 - ETA: 27s - loss: 0.1839 - recall_3: 0.941 - ETA: 27s - loss: 0.1838 - recall_3: 0.941 - ETA: 27s - loss: 0.1843 - recall_3: 0.941 - ETA: 27s - loss: 0.1842 - recall_3: 0.941 - ETA: 27s - loss: 0.1843 - recall_3: 0.941 - ETA: 27s - loss: 0.1841 - recall_3: 0.941 - ETA: 26s - loss: 0.1840 - recall_3: 0.941 - ETA: 26s - loss: 0.1843 - recall_3: 0.941 - ETA: 26s - loss: 0.1843 - recall_3: 0.941 - ETA: 26s - loss: 0.1842 - recall_3: 0.941 - ETA: 26s - loss: 0.1845 - recall_3: 0.941 - ETA: 26s - loss: 0.1846 - recall_3: 0.941 - ETA: 26s - loss: 0.1845 - recall_3: 0.941 - ETA: 26s - loss: 0.1844 - recall_3: 0.941 - ETA: 26s - loss: 0.1844 - recall_3: 0.941 - ETA: 26s - loss: 0.1846 - recall_3: 0.941 - ETA: 26s - loss: 0.1845 - recall_3: 0.941 - ETA: 26s - loss: 0.1843 - recall_3: 0.941 - ETA: 26s - loss: 0.1841 - recall_3: 0.941 - ETA: 26s - loss: 0.1842 - recall_3: 0.941 - ETA: 26s - loss: 0.1841 - recall_3: 0.941 - ETA: 25s - loss: 0.1839 - recall_3: 0.941 - ETA: 25s - loss: 0.1838 - recall_3: 0.942 - ETA: 25s - loss: 0.1841 - recall_3: 0.941 - ETA: 25s - loss: 0.1840 - recall_3: 0.941 - ETA: 25s - loss: 0.1840 - recall_3: 0.941 - ETA: 25s - loss: 0.1842 - recall_3: 0.941 - ETA: 25s - loss: 0.1841 - recall_3: 0.941 - ETA: 25s - loss: 0.1841 - recall_3: 0.941 - ETA: 25s - loss: 0.1846 - recall_3: 0.941 - ETA: 25s - loss: 0.1847 - recall_3: 0.941 - ETA: 25s - loss: 0.1849 - recall_3: 0.941 - ETA: 25s - loss: 0.1848 - recall_3: 0.941 - ETA: 25s - loss: 0.1848 - recall_3: 0.941 - ETA: 25s - loss: 0.1847 - recall_3: 0.941 - ETA: 25s - loss: 0.1847 - recall_3: 0.941 - ETA: 25s - loss: 0.1846 - recall_3: 0.941 - ETA: 25s - loss: 0.1846 - recall_3: 0.941 - ETA: 24s - loss: 0.1843 - recall_3: 0.941 - ETA: 24s - loss: 0.1843 - recall_3: 0.941 - ETA: 24s - loss: 0.1842 - recall_3: 0.941 - ETA: 24s - loss: 0.1840 - recall_3: 0.942 - ETA: 24s - loss: 0.1839 - recall_3: 0.942 - ETA: 24s - loss: 0.1838 - recall_3: 0.942 - ETA: 24s - loss: 0.1843 - recall_3: 0.942 - ETA: 24s - loss: 0.1845 - recall_3: 0.942 - ETA: 24s - loss: 0.1843 - recall_3: 0.942 - ETA: 24s - loss: 0.1843 - recall_3: 0.942 - ETA: 24s - loss: 0.1842 - recall_3: 0.942 - ETA: 24s - loss: 0.1840 - recall_3: 0.942 - ETA: 24s - loss: 0.1841 - recall_3: 0.942 - ETA: 24s - loss: 0.1841 - recall_3: 0.942 - ETA: 24s - loss: 0.1840 - recall_3: 0.942 - ETA: 24s - loss: 0.1839 - recall_3: 0.942 - ETA: 24s - loss: 0.1841 - recall_3: 0.942 - ETA: 23s - loss: 0.1841 - recall_3: 0.942 - ETA: 23s - loss: 0.1843 - recall_3: 0.942 - ETA: 23s - loss: 0.1847 - recall_3: 0.942 - ETA: 23s - loss: 0.1849 - recall_3: 0.942 - ETA: 23s - loss: 0.1850 - recall_3: 0.941 - ETA: 23s - loss: 0.1857 - recall_3: 0.941 - ETA: 23s - loss: 0.1856 - recall_3: 0.941 - ETA: 23s - loss: 0.1860 - recall_3: 0.941 - ETA: 23s - loss: 0.1859 - recall_3: 0.941 - ETA: 23s - loss: 0.1857 - recall_3: 0.941 - ETA: 22s - loss: 0.1857 - recall_3: 0.941 - ETA: 22s - loss: 0.1857 - recall_3: 0.941 - ETA: 22s - loss: 0.1858 - recall_3: 0.941 - ETA: 22s - loss: 0.1859 - recall_3: 0.941 - ETA: 22s - loss: 0.1857 - recall_3: 0.941 - ETA: 22s - loss: 0.1855 - recall_3: 0.941 - ETA: 22s - loss: 0.1858 - recall_3: 0.941 - ETA: 22s - loss: 0.1857 - recall_3: 0.941 - ETA: 22s - loss: 0.1857 - recall_3: 0.941 - ETA: 22s - loss: 0.1859 - recall_3: 0.941 - ETA: 21s - loss: 0.1858 - recall_3: 0.941 - ETA: 21s - loss: 0.1863 - recall_3: 0.941 - ETA: 21s - loss: 0.1862 - recall_3: 0.941 - ETA: 21s - loss: 0.1862 - recall_3: 0.941 - ETA: 21s - loss: 0.1861 - recall_3: 0.941 - ETA: 21s - loss: 0.1862 - recall_3: 0.941 - ETA: 21s - loss: 0.1862 - recall_3: 0.941 - ETA: 21s - loss: 0.1863 - recall_3: 0.941 - ETA: 21s - loss: 0.1861 - recall_3: 0.941 - ETA: 21s - loss: 0.1861 - recall_3: 0.941 - ETA: 21s - loss: 0.1862 - recall_3: 0.941 - ETA: 21s - loss: 0.1861 - recall_3: 0.941 - ETA: 21s - loss: 0.1861 - recall_3: 0.941 - ETA: 21s - loss: 0.1860 - recall_3: 0.941 - ETA: 21s - loss: 0.1859 - recall_3: 0.941 - ETA: 21s - loss: 0.1860 - recall_3: 0.941 - ETA: 21s - loss: 0.1859 - recall_3: 0.941 - ETA: 20s - loss: 0.1861 - recall_3: 0.941 - ETA: 20s - loss: 0.1861 - recall_3: 0.941 - ETA: 20s - loss: 0.1861 - recall_3: 0.941 - ETA: 20s - loss: 0.1860 - recall_3: 0.941 - ETA: 20s - loss: 0.1860 - recall_3: 0.941 - ETA: 20s - loss: 0.1860 - recall_3: 0.941 - ETA: 20s - loss: 0.1859 - recall_3: 0.941 - ETA: 20s - loss: 0.1858 - recall_3: 0.941 - ETA: 20s - loss: 0.1856 - recall_3: 0.941 - ETA: 20s - loss: 0.1856 - recall_3: 0.941 - ETA: 20s - loss: 0.1855 - recall_3: 0.942 - ETA: 20s - loss: 0.1856 - recall_3: 0.942 - ETA: 20s - loss: 0.1856 - recall_3: 0.942 - ETA: 20s - loss: 0.1857 - recall_3: 0.942 - ETA: 20s - loss: 0.1858 - recall_3: 0.942 - ETA: 20s - loss: 0.1856 - recall_3: 0.942 - ETA: 20s - loss: 0.1857 - recall_3: 0.942 - ETA: 19s - loss: 0.1857 - recall_3: 0.942 - ETA: 19s - loss: 0.1857 - recall_3: 0.942 - ETA: 19s - loss: 0.1856 - recall_3: 0.942 - ETA: 19s - loss: 0.1859 - recall_3: 0.942 - ETA: 19s - loss: 0.1858 - recall_3: 0.942 - ETA: 19s - loss: 0.1861 - recall_3: 0.941 - ETA: 19s - loss: 0.1860 - recall_3: 0.941 - ETA: 19s - loss: 0.1862 - recall_3: 0.941 - ETA: 19s - loss: 0.1863 - recall_3: 0.941 - ETA: 19s - loss: 0.1862 - recall_3: 0.941 - ETA: 19s - loss: 0.1862 - recall_3: 0.941 - ETA: 19s - loss: 0.1861 - recall_3: 0.941 - ETA: 19s - loss: 0.1871 - recall_3: 0.941 - ETA: 19s - loss: 0.1873 - recall_3: 0.941 - ETA: 19s - loss: 0.1872 - recall_3: 0.941 - ETA: 19s - loss: 0.1871 - recall_3: 0.941 - ETA: 19s - loss: 0.1874 - recall_3: 0.941 - ETA: 18s - loss: 0.1872 - recall_3: 0.941 - ETA: 18s - loss: 0.1872 - recall_3: 0.941 - ETA: 18s - loss: 0.1873 - recall_3: 0.941 - ETA: 18s - loss: 0.1872 - recall_3: 0.941 - ETA: 18s - loss: 0.1873 - recall_3: 0.941 - ETA: 18s - loss: 0.1872 - recall_3: 0.941 - ETA: 18s - loss: 0.1873 - recall_3: 0.941 - ETA: 18s - loss: 0.1874 - recall_3: 0.941 - ETA: 18s - loss: 0.1875 - recall_3: 0.941 - ETA: 18s - loss: 0.1876 - recall_3: 0.941 - ETA: 18s - loss: 0.1875 - recall_3: 0.941 - ETA: 18s - loss: 0.1873 - recall_3: 0.941 - ETA: 18s - loss: 0.1872 - recall_3: 0.941 - ETA: 18s - loss: 0.1873 - recall_3: 0.941 - ETA: 18s - loss: 0.1873 - recall_3: 0.941 - ETA: 18s - loss: 0.1873 - recall_3: 0.941 - ETA: 18s - loss: 0.1872 - recall_3: 0.941 - ETA: 17s - loss: 0.1871 - recall_3: 0.941 - ETA: 17s - loss: 0.1871 - recall_3: 0.941 - ETA: 17s - loss: 0.1870 - recall_3: 0.941 - ETA: 17s - loss: 0.1872 - recall_3: 0.941 - ETA: 17s - loss: 0.1871 - recall_3: 0.941 - ETA: 17s - loss: 0.1871 - recall_3: 0.941 - ETA: 17s - loss: 0.1869 - recall_3: 0.941 - ETA: 17s - loss: 0.1869 - recall_3: 0.941 - ETA: 17s - loss: 0.1869 - recall_3: 0.941 - ETA: 17s - loss: 0.1872 - recall_3: 0.941 - ETA: 17s - loss: 0.1872 - recall_3: 0.941 - ETA: 17s - loss: 0.1874 - recall_3: 0.941 - ETA: 17s - loss: 0.1871 - recall_3: 0.941 - ETA: 17s - loss: 0.1870 - recall_3: 0.941 - ETA: 17s - loss: 0.1871 - recall_3: 0.9418"
     ]
    },
    {
     "name": "stdout",
     "output_type": "stream",
     "text": [
      "54048/59884 [==========================>...] - ETA: 16s - loss: 0.1870 - recall_3: 0.941 - ETA: 16s - loss: 0.1871 - recall_3: 0.941 - ETA: 16s - loss: 0.1871 - recall_3: 0.941 - ETA: 16s - loss: 0.1870 - recall_3: 0.941 - ETA: 16s - loss: 0.1875 - recall_3: 0.941 - ETA: 16s - loss: 0.1877 - recall_3: 0.941 - ETA: 16s - loss: 0.1880 - recall_3: 0.941 - ETA: 16s - loss: 0.1877 - recall_3: 0.941 - ETA: 16s - loss: 0.1877 - recall_3: 0.941 - ETA: 16s - loss: 0.1876 - recall_3: 0.941 - ETA: 16s - loss: 0.1874 - recall_3: 0.941 - ETA: 16s - loss: 0.1873 - recall_3: 0.941 - ETA: 15s - loss: 0.1873 - recall_3: 0.941 - ETA: 15s - loss: 0.1872 - recall_3: 0.941 - ETA: 15s - loss: 0.1873 - recall_3: 0.941 - ETA: 15s - loss: 0.1873 - recall_3: 0.941 - ETA: 15s - loss: 0.1873 - recall_3: 0.941 - ETA: 15s - loss: 0.1873 - recall_3: 0.941 - ETA: 15s - loss: 0.1871 - recall_3: 0.941 - ETA: 15s - loss: 0.1872 - recall_3: 0.941 - ETA: 15s - loss: 0.1872 - recall_3: 0.941 - ETA: 15s - loss: 0.1872 - recall_3: 0.941 - ETA: 15s - loss: 0.1872 - recall_3: 0.941 - ETA: 14s - loss: 0.1875 - recall_3: 0.941 - ETA: 14s - loss: 0.1875 - recall_3: 0.941 - ETA: 14s - loss: 0.1875 - recall_3: 0.941 - ETA: 14s - loss: 0.1875 - recall_3: 0.941 - ETA: 14s - loss: 0.1875 - recall_3: 0.941 - ETA: 14s - loss: 0.1875 - recall_3: 0.941 - ETA: 14s - loss: 0.1876 - recall_3: 0.941 - ETA: 14s - loss: 0.1875 - recall_3: 0.941 - ETA: 14s - loss: 0.1877 - recall_3: 0.941 - ETA: 14s - loss: 0.1877 - recall_3: 0.941 - ETA: 14s - loss: 0.1878 - recall_3: 0.941 - ETA: 14s - loss: 0.1879 - recall_3: 0.941 - ETA: 14s - loss: 0.1881 - recall_3: 0.941 - ETA: 14s - loss: 0.1880 - recall_3: 0.941 - ETA: 13s - loss: 0.1880 - recall_3: 0.941 - ETA: 13s - loss: 0.1879 - recall_3: 0.941 - ETA: 13s - loss: 0.1878 - recall_3: 0.941 - ETA: 13s - loss: 0.1880 - recall_3: 0.941 - ETA: 13s - loss: 0.1879 - recall_3: 0.941 - ETA: 13s - loss: 0.1878 - recall_3: 0.941 - ETA: 13s - loss: 0.1877 - recall_3: 0.941 - ETA: 13s - loss: 0.1876 - recall_3: 0.941 - ETA: 13s - loss: 0.1876 - recall_3: 0.941 - ETA: 13s - loss: 0.1874 - recall_3: 0.941 - ETA: 13s - loss: 0.1874 - recall_3: 0.941 - ETA: 13s - loss: 0.1875 - recall_3: 0.941 - ETA: 13s - loss: 0.1873 - recall_3: 0.941 - ETA: 13s - loss: 0.1872 - recall_3: 0.941 - ETA: 13s - loss: 0.1873 - recall_3: 0.941 - ETA: 13s - loss: 0.1873 - recall_3: 0.941 - ETA: 13s - loss: 0.1873 - recall_3: 0.941 - ETA: 13s - loss: 0.1871 - recall_3: 0.941 - ETA: 12s - loss: 0.1870 - recall_3: 0.941 - ETA: 12s - loss: 0.1872 - recall_3: 0.941 - ETA: 12s - loss: 0.1869 - recall_3: 0.941 - ETA: 12s - loss: 0.1869 - recall_3: 0.941 - ETA: 12s - loss: 0.1868 - recall_3: 0.941 - ETA: 12s - loss: 0.1868 - recall_3: 0.941 - ETA: 12s - loss: 0.1869 - recall_3: 0.941 - ETA: 12s - loss: 0.1873 - recall_3: 0.941 - ETA: 12s - loss: 0.1875 - recall_3: 0.941 - ETA: 12s - loss: 0.1876 - recall_3: 0.941 - ETA: 12s - loss: 0.1877 - recall_3: 0.941 - ETA: 12s - loss: 0.1878 - recall_3: 0.941 - ETA: 11s - loss: 0.1879 - recall_3: 0.941 - ETA: 11s - loss: 0.1878 - recall_3: 0.941 - ETA: 11s - loss: 0.1876 - recall_3: 0.941 - ETA: 11s - loss: 0.1876 - recall_3: 0.941 - ETA: 11s - loss: 0.1876 - recall_3: 0.941 - ETA: 11s - loss: 0.1879 - recall_3: 0.941 - ETA: 11s - loss: 0.1882 - recall_3: 0.941 - ETA: 11s - loss: 0.1881 - recall_3: 0.941 - ETA: 11s - loss: 0.1881 - recall_3: 0.941 - ETA: 11s - loss: 0.1880 - recall_3: 0.941 - ETA: 11s - loss: 0.1880 - recall_3: 0.941 - ETA: 11s - loss: 0.1881 - recall_3: 0.941 - ETA: 10s - loss: 0.1881 - recall_3: 0.941 - ETA: 10s - loss: 0.1880 - recall_3: 0.941 - ETA: 10s - loss: 0.1879 - recall_3: 0.941 - ETA: 10s - loss: 0.1878 - recall_3: 0.941 - ETA: 10s - loss: 0.1878 - recall_3: 0.941 - ETA: 10s - loss: 0.1880 - recall_3: 0.941 - ETA: 10s - loss: 0.1880 - recall_3: 0.941 - ETA: 10s - loss: 0.1879 - recall_3: 0.941 - ETA: 10s - loss: 0.1877 - recall_3: 0.941 - ETA: 10s - loss: 0.1876 - recall_3: 0.941 - ETA: 10s - loss: 0.1879 - recall_3: 0.941 - ETA: 10s - loss: 0.1878 - recall_3: 0.941 - ETA: 10s - loss: 0.1877 - recall_3: 0.941 - ETA: 10s - loss: 0.1876 - recall_3: 0.941 - ETA: 10s - loss: 0.1878 - recall_3: 0.941 - ETA: 10s - loss: 0.1877 - recall_3: 0.941 - ETA: 10s - loss: 0.1877 - recall_3: 0.941 - ETA: 10s - loss: 0.1875 - recall_3: 0.941 - ETA: 9s - loss: 0.1874 - recall_3: 0.941 - ETA: 9s - loss: 0.1874 - recall_3: 0.94 - ETA: 9s - loss: 0.1873 - recall_3: 0.94 - ETA: 9s - loss: 0.1875 - recall_3: 0.94 - ETA: 9s - loss: 0.1875 - recall_3: 0.94 - ETA: 9s - loss: 0.1876 - recall_3: 0.94 - ETA: 9s - loss: 0.1874 - recall_3: 0.94 - ETA: 9s - loss: 0.1873 - recall_3: 0.94 - ETA: 9s - loss: 0.1874 - recall_3: 0.94 - ETA: 9s - loss: 0.1875 - recall_3: 0.94 - ETA: 9s - loss: 0.1875 - recall_3: 0.94 - ETA: 9s - loss: 0.1875 - recall_3: 0.94 - ETA: 9s - loss: 0.1875 - recall_3: 0.94 - ETA: 9s - loss: 0.1874 - recall_3: 0.94 - ETA: 9s - loss: 0.1874 - recall_3: 0.94 - ETA: 9s - loss: 0.1876 - recall_3: 0.94 - ETA: 9s - loss: 0.1875 - recall_3: 0.94 - ETA: 9s - loss: 0.1876 - recall_3: 0.94 - ETA: 9s - loss: 0.1876 - recall_3: 0.94 - ETA: 9s - loss: 0.1876 - recall_3: 0.94 - ETA: 8s - loss: 0.1876 - recall_3: 0.94 - ETA: 8s - loss: 0.1877 - recall_3: 0.94 - ETA: 8s - loss: 0.1877 - recall_3: 0.94 - ETA: 8s - loss: 0.1876 - recall_3: 0.94 - ETA: 8s - loss: 0.1875 - recall_3: 0.94 - ETA: 8s - loss: 0.1881 - recall_3: 0.94 - ETA: 8s - loss: 0.1881 - recall_3: 0.94 - ETA: 8s - loss: 0.1881 - recall_3: 0.94 - ETA: 8s - loss: 0.1881 - recall_3: 0.94 - ETA: 8s - loss: 0.1884 - recall_3: 0.94 - ETA: 8s - loss: 0.1883 - recall_3: 0.94 - ETA: 8s - loss: 0.1882 - recall_3: 0.94 - ETA: 8s - loss: 0.1883 - recall_3: 0.94 - ETA: 8s - loss: 0.1881 - recall_3: 0.94 - ETA: 8s - loss: 0.1882 - recall_3: 0.94 - ETA: 8s - loss: 0.1882 - recall_3: 0.94 - ETA: 7s - loss: 0.1884 - recall_3: 0.94 - ETA: 7s - loss: 0.1882 - recall_3: 0.94 - ETA: 7s - loss: 0.1881 - recall_3: 0.94 - ETA: 7s - loss: 0.1881 - recall_3: 0.94 - ETA: 7s - loss: 0.1880 - recall_3: 0.94 - ETA: 7s - loss: 0.1879 - recall_3: 0.94 - ETA: 7s - loss: 0.1879 - recall_3: 0.94 - ETA: 7s - loss: 0.1881 - recall_3: 0.94 - ETA: 7s - loss: 0.1882 - recall_3: 0.94 - ETA: 7s - loss: 0.1881 - recall_3: 0.94 - ETA: 7s - loss: 0.1881 - recall_3: 0.94 - ETA: 7s - loss: 0.1881 - recall_3: 0.94 - ETA: 7s - loss: 0.1882 - recall_3: 0.94 - ETA: 7s - loss: 0.1884 - recall_3: 0.94 - ETA: 7s - loss: 0.1885 - recall_3: 0.94 - ETA: 7s - loss: 0.1884 - recall_3: 0.94 - ETA: 7s - loss: 0.1885 - recall_3: 0.94 - ETA: 7s - loss: 0.1884 - recall_3: 0.94 - ETA: 7s - loss: 0.1885 - recall_3: 0.94 - ETA: 6s - loss: 0.1885 - recall_3: 0.94 - ETA: 6s - loss: 0.1885 - recall_3: 0.94 - ETA: 6s - loss: 0.1885 - recall_3: 0.94 - ETA: 6s - loss: 0.1885 - recall_3: 0.94 - ETA: 6s - loss: 0.1886 - recall_3: 0.94 - ETA: 6s - loss: 0.1887 - recall_3: 0.94 - ETA: 6s - loss: 0.1890 - recall_3: 0.94 - ETA: 6s - loss: 0.1890 - recall_3: 0.94 - ETA: 6s - loss: 0.1889 - recall_3: 0.94 - ETA: 6s - loss: 0.1889 - recall_3: 0.94 - ETA: 6s - loss: 0.1889 - recall_3: 0.94 - ETA: 6s - loss: 0.1888 - recall_3: 0.94 - ETA: 6s - loss: 0.1887 - recall_3: 0.94 - ETA: 6s - loss: 0.1886 - recall_3: 0.94 - ETA: 6s - loss: 0.1887 - recall_3: 0.94 - ETA: 6s - loss: 0.1886 - recall_3: 0.94 - ETA: 6s - loss: 0.1887 - recall_3: 0.94 - ETA: 6s - loss: 0.1887 - recall_3: 0.94 - ETA: 6s - loss: 0.1886 - recall_3: 0.94 - ETA: 5s - loss: 0.1887 - recall_3: 0.94 - ETA: 5s - loss: 0.1887 - recall_3: 0.94 - ETA: 5s - loss: 0.1887 - recall_3: 0.94 - ETA: 5s - loss: 0.1887 - recall_3: 0.94 - ETA: 5s - loss: 0.1885 - recall_3: 0.94 - ETA: 5s - loss: 0.1885 - recall_3: 0.94 - ETA: 5s - loss: 0.1886 - recall_3: 0.94 - ETA: 5s - loss: 0.1885 - recall_3: 0.94 - ETA: 5s - loss: 0.1885 - recall_3: 0.94 - ETA: 5s - loss: 0.1887 - recall_3: 0.94 - ETA: 5s - loss: 0.1888 - recall_3: 0.94 - ETA: 5s - loss: 0.1887 - recall_3: 0.94 - ETA: 5s - loss: 0.1887 - recall_3: 0.94 - ETA: 5s - loss: 0.1885 - recall_3: 0.94 - ETA: 5s - loss: 0.1885 - recall_3: 0.94 - ETA: 5s - loss: 0.1886 - recall_3: 0.94 - ETA: 5s - loss: 0.1887 - recall_3: 0.94 - ETA: 4s - loss: 0.1887 - recall_3: 0.94 - ETA: 4s - loss: 0.1888 - recall_3: 0.9415"
     ]
    },
    {
     "name": "stdout",
     "output_type": "stream",
     "text": [
      "59884/59884 [==============================] - ETA: 4s - loss: 0.1888 - recall_3: 0.94 - ETA: 4s - loss: 0.1889 - recall_3: 0.94 - ETA: 4s - loss: 0.1888 - recall_3: 0.94 - ETA: 4s - loss: 0.1888 - recall_3: 0.94 - ETA: 4s - loss: 0.1889 - recall_3: 0.94 - ETA: 4s - loss: 0.1889 - recall_3: 0.94 - ETA: 4s - loss: 0.1890 - recall_3: 0.94 - ETA: 4s - loss: 0.1891 - recall_3: 0.94 - ETA: 4s - loss: 0.1892 - recall_3: 0.94 - ETA: 4s - loss: 0.1895 - recall_3: 0.94 - ETA: 4s - loss: 0.1895 - recall_3: 0.94 - ETA: 4s - loss: 0.1894 - recall_3: 0.94 - ETA: 3s - loss: 0.1893 - recall_3: 0.94 - ETA: 3s - loss: 0.1892 - recall_3: 0.94 - ETA: 3s - loss: 0.1892 - recall_3: 0.94 - ETA: 3s - loss: 0.1891 - recall_3: 0.94 - ETA: 3s - loss: 0.1890 - recall_3: 0.94 - ETA: 3s - loss: 0.1891 - recall_3: 0.94 - ETA: 3s - loss: 0.1891 - recall_3: 0.94 - ETA: 3s - loss: 0.1890 - recall_3: 0.94 - ETA: 3s - loss: 0.1889 - recall_3: 0.94 - ETA: 3s - loss: 0.1889 - recall_3: 0.94 - ETA: 3s - loss: 0.1890 - recall_3: 0.94 - ETA: 3s - loss: 0.1890 - recall_3: 0.94 - ETA: 3s - loss: 0.1889 - recall_3: 0.94 - ETA: 3s - loss: 0.1888 - recall_3: 0.94 - ETA: 2s - loss: 0.1887 - recall_3: 0.94 - ETA: 2s - loss: 0.1887 - recall_3: 0.94 - ETA: 2s - loss: 0.1886 - recall_3: 0.94 - ETA: 2s - loss: 0.1885 - recall_3: 0.94 - ETA: 2s - loss: 0.1887 - recall_3: 0.94 - ETA: 2s - loss: 0.1885 - recall_3: 0.94 - ETA: 2s - loss: 0.1887 - recall_3: 0.94 - ETA: 2s - loss: 0.1885 - recall_3: 0.94 - ETA: 2s - loss: 0.1884 - recall_3: 0.94 - ETA: 2s - loss: 0.1885 - recall_3: 0.94 - ETA: 2s - loss: 0.1885 - recall_3: 0.94 - ETA: 2s - loss: 0.1887 - recall_3: 0.94 - ETA: 2s - loss: 0.1887 - recall_3: 0.94 - ETA: 2s - loss: 0.1887 - recall_3: 0.94 - ETA: 1s - loss: 0.1890 - recall_3: 0.94 - ETA: 1s - loss: 0.1889 - recall_3: 0.94 - ETA: 1s - loss: 0.1890 - recall_3: 0.94 - ETA: 1s - loss: 0.1891 - recall_3: 0.94 - ETA: 1s - loss: 0.1890 - recall_3: 0.94 - ETA: 1s - loss: 0.1892 - recall_3: 0.94 - ETA: 1s - loss: 0.1891 - recall_3: 0.94 - ETA: 1s - loss: 0.1891 - recall_3: 0.94 - ETA: 1s - loss: 0.1891 - recall_3: 0.94 - ETA: 1s - loss: 0.1893 - recall_3: 0.94 - ETA: 1s - loss: 0.1893 - recall_3: 0.94 - ETA: 1s - loss: 0.1893 - recall_3: 0.94 - ETA: 1s - loss: 0.1893 - recall_3: 0.94 - ETA: 1s - loss: 0.1893 - recall_3: 0.94 - ETA: 1s - loss: 0.1893 - recall_3: 0.94 - ETA: 1s - loss: 0.1893 - recall_3: 0.94 - ETA: 1s - loss: 0.1892 - recall_3: 0.94 - ETA: 1s - loss: 0.1891 - recall_3: 0.94 - ETA: 1s - loss: 0.1892 - recall_3: 0.94 - ETA: 1s - loss: 0.1893 - recall_3: 0.94 - ETA: 1s - loss: 0.1893 - recall_3: 0.94 - ETA: 1s - loss: 0.1893 - recall_3: 0.94 - ETA: 0s - loss: 0.1895 - recall_3: 0.94 - ETA: 0s - loss: 0.1895 - recall_3: 0.94 - ETA: 0s - loss: 0.1895 - recall_3: 0.94 - ETA: 0s - loss: 0.1895 - recall_3: 0.94 - ETA: 0s - loss: 0.1894 - recall_3: 0.94 - ETA: 0s - loss: 0.1894 - recall_3: 0.94 - ETA: 0s - loss: 0.1894 - recall_3: 0.94 - ETA: 0s - loss: 0.1894 - recall_3: 0.94 - ETA: 0s - loss: 0.1896 - recall_3: 0.94 - ETA: 0s - loss: 0.1895 - recall_3: 0.94 - ETA: 0s - loss: 0.1896 - recall_3: 0.94 - ETA: 0s - loss: 0.1895 - recall_3: 0.94 - ETA: 0s - loss: 0.1894 - recall_3: 0.94 - ETA: 0s - loss: 0.1896 - recall_3: 0.94 - ETA: 0s - loss: 0.1895 - recall_3: 0.94 - ETA: 0s - loss: 0.1893 - recall_3: 0.94 - ETA: 0s - loss: 0.1893 - recall_3: 0.94 - ETA: 0s - loss: 0.1893 - recall_3: 0.94 - ETA: 0s - loss: 0.1892 - recall_3: 0.94 - ETA: 0s - loss: 0.1892 - recall_3: 0.94 - 52s 873us/sample - loss: 0.1892 - recall_3: 0.9414 - val_loss: 0.2507 - val_recall_3: 0.9450\n",
      "10500/10500 [==============================] - ETA: 1s - loss: 0.1715 - recall_3: 0.96 - ETA: 2s - loss: 0.2230 - recall_3: 0.93 - ETA: 2s - loss: 0.2879 - recall_3: 0.93 - ETA: 2s - loss: 0.2752 - recall_3: 0.93 - ETA: 2s - loss: 0.2645 - recall_3: 0.94 - ETA: 2s - loss: 0.2647 - recall_3: 0.94 - ETA: 2s - loss: 0.2498 - recall_3: 0.94 - ETA: 2s - loss: 0.2652 - recall_3: 0.94 - ETA: 2s - loss: 0.2708 - recall_3: 0.94 - ETA: 1s - loss: 0.2647 - recall_3: 0.94 - ETA: 1s - loss: 0.2581 - recall_3: 0.95 - ETA: 1s - loss: 0.2684 - recall_3: 0.94 - ETA: 1s - loss: 0.2680 - recall_3: 0.94 - ETA: 1s - loss: 0.2630 - recall_3: 0.94 - ETA: 1s - loss: 0.2633 - recall_3: 0.94 - ETA: 1s - loss: 0.2596 - recall_3: 0.94 - ETA: 1s - loss: 0.2585 - recall_3: 0.94 - ETA: 1s - loss: 0.2548 - recall_3: 0.94 - ETA: 1s - loss: 0.2540 - recall_3: 0.94 - ETA: 1s - loss: 0.2581 - recall_3: 0.94 - ETA: 1s - loss: 0.2569 - recall_3: 0.94 - ETA: 1s - loss: 0.2555 - recall_3: 0.94 - ETA: 1s - loss: 0.2517 - recall_3: 0.94 - ETA: 1s - loss: 0.2546 - recall_3: 0.94 - ETA: 1s - loss: 0.2526 - recall_3: 0.94 - ETA: 1s - loss: 0.2513 - recall_3: 0.94 - ETA: 1s - loss: 0.2518 - recall_3: 0.94 - ETA: 0s - loss: 0.2507 - recall_3: 0.94 - ETA: 0s - loss: 0.2529 - recall_3: 0.94 - ETA: 0s - loss: 0.2507 - recall_3: 0.94 - ETA: 0s - loss: 0.2518 - recall_3: 0.94 - ETA: 0s - loss: 0.2507 - recall_3: 0.94 - ETA: 0s - loss: 0.2504 - recall_3: 0.94 - ETA: 0s - loss: 0.2498 - recall_3: 0.94 - ETA: 0s - loss: 0.2523 - recall_3: 0.94 - ETA: 0s - loss: 0.2530 - recall_3: 0.94 - ETA: 0s - loss: 0.2526 - recall_3: 0.94 - ETA: 0s - loss: 0.2524 - recall_3: 0.94 - ETA: 0s - loss: 0.2530 - recall_3: 0.94 - ETA: 0s - loss: 0.2529 - recall_3: 0.94 - ETA: 0s - loss: 0.2540 - recall_3: 0.94 - ETA: 0s - loss: 0.2524 - recall_3: 0.94 - ETA: 0s - loss: 0.2518 - recall_3: 0.94 - ETA: 0s - loss: 0.2507 - recall_3: 0.94 - ETA: 0s - loss: 0.2495 - recall_3: 0.94 - ETA: 0s - loss: 0.2493 - recall_3: 0.94 - ETA: 0s - loss: 0.2489 - recall_3: 0.94 - ETA: 0s - loss: 0.2494 - recall_3: 0.94 - ETA: 0s - loss: 0.2517 - recall_3: 0.94 - ETA: 0s - loss: 0.2523 - recall_3: 0.94 - ETA: 0s - loss: 0.2517 - recall_3: 0.94 - ETA: 0s - loss: 0.2505 - recall_3: 0.94 - ETA: 0s - loss: 0.2513 - recall_3: 0.94 - ETA: 0s - loss: 0.2515 - recall_3: 0.94 - ETA: 0s - loss: 0.2504 - recall_3: 0.94 - ETA: 0s - loss: 0.2507 - recall_3: 0.94 - ETA: 0s - loss: 0.2505 - recall_3: 0.94 - 3s 304us/sample - loss: 0.2507 - recall_3: 0.9450\n",
      "Test accuracy: 0.9450476\n"
     ]
    },
    {
     "data": {
      "image/png": "[encoded data removed]",
      "text/plain": [
       "<Figure size 432x360 with 1 Axes>"
      ]
     },
     "metadata": {
      "needs_background": "light"
     },
     "output_type": "display_data"
    }
   ],
   "source": [
    "model_up.compile(optimizer='adam', \n",
    "              loss='binary_crossentropy',\n",
    "              metrics=[tf.keras.metrics.Recall()])\n",
    "\n",
    "history = model_up.fit(up_X,\n",
    "          pd.get_dummies(up_y),\n",
    "          epochs=2,\n",
    "          validation_data=(X_test, pd.get_dummies(y_test))\n",
    "         )\n",
    "plot_loss(history)\n",
    "test_loss, test_acc = model_up.evaluate(X_test, pd.get_dummies(y_test))\n",
    "print('Test accuracy:', test_acc)"
   ]
  },
  {
   "cell_type": "code",
   "execution_count": 27,
   "metadata": {
    "ExecuteTime": {
     "end_time": "2019-08-20T11:39:48.320800Z",
     "start_time": "2019-08-20T11:39:45.152616Z"
    }
   },
   "outputs": [
    {
     "name": "stdout",
     "output_type": "stream",
     "text": [
      "전체채팅수10500, 유해채팅수351\n"
     ]
    }
   ],
   "source": [
    "print('전체채팅수{}, 유해채팅수{}'.format(len(X_test),model_up.predict_classes(X_test).sum()))"
   ]
  },
  {
   "cell_type": "markdown",
   "metadata": {},
   "source": [
    "### Recall"
   ]
  },
  {
   "cell_type": "code",
   "execution_count": 37,
   "metadata": {
    "ExecuteTime": {
     "end_time": "2019-08-20T11:48:30.257756Z",
     "start_time": "2019-08-20T11:48:30.251762Z"
    }
   },
   "outputs": [],
   "source": [
    "from sklearn.metrics import recall_score, accuracy_score, f1_score, confusion_matrix, roc_auc_score, precision_score"
   ]
  },
  {
   "cell_type": "code",
   "execution_count": 38,
   "metadata": {
    "ExecuteTime": {
     "end_time": "2019-08-20T11:48:42.423784Z",
     "start_time": "2019-08-20T11:48:36.101407Z"
    },
    "scrolled": true
   },
   "outputs": [
    {
     "data": {
      "text/plain": [
       "(0.2899628252788104,\n",
       " 0.945047619047619,\n",
       " 0.3509561304836895,\n",
       " array([[9767,  195],\n",
       "        [ 382,  156]], dtype=int64),\n",
       " 0.4444444444444444)"
      ]
     },
     "execution_count": 38,
     "metadata": {},
     "output_type": "execute_result"
    }
   ],
   "source": [
    "recall_score(y_test, model_up.predict_classes(X_test)),\\\n",
    "accuracy_score(y_test, model_up.predict_classes(X_test)),\\\n",
    "f1_score(y_test, model_up.predict_classes(X_test)),\\\n",
    "confusion_matrix(y_test, model_up.predict_classes(X_test)),\\\n",
    "precision_score(y_test, model_up.predict_classes(X_test)),\\"
   ]
  },
  {
   "cell_type": "code",
   "execution_count": 25,
   "metadata": {
    "ExecuteTime": {
     "end_time": "2019-08-20T11:37:28.080153Z",
     "start_time": "2019-08-20T11:37:25.980354Z"
    }
   },
   "outputs": [],
   "source": [
    "# model_up.save('../model/cnn_oversample.h5')"
   ]
  },
  {
   "cell_type": "code",
   "execution_count": 42,
   "metadata": {
    "ExecuteTime": {
     "end_time": "2019-08-20T11:58:24.584982Z",
     "start_time": "2019-08-20T11:58:24.560000Z"
    }
   },
   "outputs": [
    {
     "data": {
      "text/plain": [
       "1558"
      ]
     },
     "execution_count": 42,
     "metadata": {},
     "output_type": "execute_result"
    }
   ],
   "source": [
    "sum(y_train)"
   ]
  },
  {
   "cell_type": "markdown",
   "metadata": {},
   "source": [
    "## Downsampling"
   ]
  },
  {
   "cell_type": "code",
   "execution_count": 13,
   "metadata": {
    "ExecuteTime": {
     "end_time": "2019-08-20T11:15:06.506330Z",
     "start_time": "2019-08-20T11:15:06.476348Z"
    }
   },
   "outputs": [
    {
     "data": {
      "text/plain": [
       "(3116, 1558)"
      ]
     },
     "execution_count": 13,
     "metadata": {},
     "output_type": "execute_result"
    }
   ],
   "source": [
    "down_X, down_y = RandomUnderSampler().fit_resample(X_train, y_train)\n",
    "\n",
    "# 총 데이터 수 , 1 레이블 데이터 수\n",
    "len(down_y), down_y.sum()"
   ]
  },
  {
   "cell_type": "code",
   "execution_count": 14,
   "metadata": {
    "ExecuteTime": {
     "end_time": "2019-08-20T11:15:09.171819Z",
     "start_time": "2019-08-20T11:15:08.298304Z"
    }
   },
   "outputs": [
    {
     "name": "stderr",
     "output_type": "stream",
     "text": [
      "WARNING: Logging before flag parsing goes to stderr.\n",
      "W0820 20:15:08.358269 11676 deprecation.py:506] From C:\\Users\\skarn\\Anaconda3\\envs\\DataAnalysis\\lib\\site-packages\\tensorflow\\python\\keras\\initializers.py:119: calling RandomUniform.__init__ (from tensorflow.python.ops.init_ops) with dtype is deprecated and will be removed in a future version.\n",
      "Instructions for updating:\n",
      "Call initializer instance with the dtype argument instead of passing it to the constructor\n",
      "W0820 20:15:08.367264 11676 deprecation.py:506] From C:\\Users\\skarn\\Anaconda3\\envs\\DataAnalysis\\lib\\site-packages\\tensorflow\\python\\ops\\init_ops.py:1251: calling VarianceScaling.__init__ (from tensorflow.python.ops.init_ops) with dtype is deprecated and will be removed in a future version.\n",
      "Instructions for updating:\n",
      "Call initializer instance with the dtype argument instead of passing it to the constructor\n",
      "C:\\Users\\skarn\\Anaconda3\\envs\\DataAnalysis\\lib\\site-packages\\tensorflow\\python\\ops\\nn_ops.py:61: DeprecationWarning: Using or importing the ABCs from 'collections' instead of from 'collections.abc' is deprecated, and in 3.8 it will stop working\n",
      "  elif not isinstance(value, collections.Sized):\n"
     ]
    }
   ],
   "source": [
    "model_down = keras.Sequential([\n",
    "    keras.layers.Embedding(30000, 10),\n",
    "    keras.layers.Conv1D(64, 3, padding=\"same\", activation=tf.nn.relu),\n",
    "    keras.layers.Dropout(0.5),\n",
    "    keras.layers.Conv1D(32, 3, padding=\"same\", activation=tf.nn.relu),\n",
    "    keras.layers.Dropout(0.5),\n",
    "    keras.layers.Conv1D(32, 3, padding=\"same\", activation=tf.nn.relu),\n",
    "    keras.layers.Dropout(0.5),\n",
    "    keras.layers.Conv1D(32, 3, padding=\"same\", activation=tf.nn.relu),\n",
    "    keras.layers.Dropout(0.5),\n",
    "    keras.layers.Conv1D(32, 3, padding=\"same\", activation=tf.nn.relu),\n",
    "    keras.layers.Dropout(0.5),\n",
    "    keras.layers.Conv1D(32, 3, padding=\"same\", activation=tf.nn.relu),\n",
    "    keras.layers.GlobalMaxPool1D(),\n",
    "    keras.layers.Dropout(0.5),\n",
    "    keras.layers.Dense(2, activation=tf.nn.sigmoid)\n",
    "])"
   ]
  },
  {
   "cell_type": "code",
   "execution_count": 17,
   "metadata": {
    "ExecuteTime": {
     "end_time": "2019-08-20T11:17:32.920181Z",
     "start_time": "2019-08-20T11:16:55.974614Z"
    }
   },
   "outputs": [
    {
     "name": "stdout",
     "output_type": "stream",
     "text": [
      "Train on 3116 samples, validate on 10500 samples\n",
      "Epoch 1/6\n",
      "3116/3116 [==============================] - ETA: 4:55 - loss: 0.0409 - recall_1: 1.00 - ETA: 1:38 - loss: 0.1106 - recall_1: 0.96 - ETA: 58s - loss: 0.2743 - recall_1: 0.9625 - ETA: 41s - loss: 0.2080 - recall_1: 0.973 - ETA: 32s - loss: 0.1933 - recall_1: 0.968 - ETA: 26s - loss: 0.1990 - recall_1: 0.965 - ETA: 20s - loss: 0.2010 - recall_1: 0.957 - ETA: 17s - loss: 0.2056 - recall_1: 0.953 - ETA: 15s - loss: 0.1883 - recall_1: 0.958 - ETA: 14s - loss: 0.1807 - recall_1: 0.959 - ETA: 12s - loss: 0.1852 - recall_1: 0.956 - ETA: 11s - loss: 0.1834 - recall_1: 0.954 - ETA: 10s - loss: 0.1816 - recall_1: 0.951 - ETA: 9s - loss: 0.1773 - recall_1: 0.952 - ETA: 8s - loss: 0.1696 - recall_1: 0.95 - ETA: 8s - loss: 0.1672 - recall_1: 0.95 - ETA: 7s - loss: 0.1635 - recall_1: 0.95 - ETA: 6s - loss: 0.1570 - recall_1: 0.95 - ETA: 6s - loss: 0.1553 - recall_1: 0.95 - ETA: 5s - loss: 0.1533 - recall_1: 0.95 - ETA: 5s - loss: 0.1498 - recall_1: 0.96 - ETA: 5s - loss: 0.1509 - recall_1: 0.96 - ETA: 4s - loss: 0.1474 - recall_1: 0.96 - ETA: 4s - loss: 0.1464 - recall_1: 0.96 - ETA: 3s - loss: 0.1480 - recall_1: 0.96 - ETA: 3s - loss: 0.1438 - recall_1: 0.96 - ETA: 3s - loss: 0.1460 - recall_1: 0.96 - ETA: 3s - loss: 0.1457 - recall_1: 0.96 - ETA: 2s - loss: 0.1520 - recall_1: 0.96 - ETA: 2s - loss: 0.1511 - recall_1: 0.96 - ETA: 2s - loss: 0.1540 - recall_1: 0.96 - ETA: 2s - loss: 0.1582 - recall_1: 0.96 - ETA: 2s - loss: 0.1588 - recall_1: 0.96 - ETA: 2s - loss: 0.1611 - recall_1: 0.95 - ETA: 1s - loss: 0.1595 - recall_1: 0.95 - ETA: 1s - loss: 0.1640 - recall_1: 0.95 - ETA: 1s - loss: 0.1624 - recall_1: 0.95 - ETA: 1s - loss: 0.1670 - recall_1: 0.95 - ETA: 1s - loss: 0.1659 - recall_1: 0.95 - ETA: 1s - loss: 0.1679 - recall_1: 0.95 - ETA: 0s - loss: 0.1686 - recall_1: 0.95 - ETA: 0s - loss: 0.1666 - recall_1: 0.95 - ETA: 0s - loss: 0.1660 - recall_1: 0.95 - ETA: 0s - loss: 0.1635 - recall_1: 0.95 - ETA: 0s - loss: 0.1623 - recall_1: 0.95 - ETA: 0s - loss: 0.1624 - recall_1: 0.95 - ETA: 0s - loss: 0.1613 - recall_1: 0.95 - 8s 3ms/sample - loss: 0.1635 - recall_1: 0.9576 - val_loss: 1.4391 - val_recall_1: 0.7959\n",
      "Epoch 2/6\n",
      "3116/3116 [==============================] - ETA: 3s - loss: 0.0544 - recall_1: 1.00 - ETA: 3s - loss: 0.0832 - recall_1: 0.98 - ETA: 3s - loss: 0.0915 - recall_1: 0.98 - ETA: 3s - loss: 0.0856 - recall_1: 0.98 - ETA: 3s - loss: 0.1137 - recall_1: 0.97 - ETA: 3s - loss: 0.1066 - recall_1: 0.97 - ETA: 3s - loss: 0.1226 - recall_1: 0.96 - ETA: 2s - loss: 0.1227 - recall_1: 0.96 - ETA: 2s - loss: 0.1323 - recall_1: 0.96 - ETA: 2s - loss: 0.1318 - recall_1: 0.96 - ETA: 2s - loss: 0.1311 - recall_1: 0.96 - ETA: 2s - loss: 0.1377 - recall_1: 0.96 - ETA: 2s - loss: 0.1457 - recall_1: 0.95 - ETA: 2s - loss: 0.1491 - recall_1: 0.95 - ETA: 2s - loss: 0.1519 - recall_1: 0.95 - ETA: 2s - loss: 0.1598 - recall_1: 0.94 - ETA: 2s - loss: 0.1735 - recall_1: 0.94 - ETA: 2s - loss: 0.1705 - recall_1: 0.94 - ETA: 1s - loss: 0.1652 - recall_1: 0.94 - ETA: 1s - loss: 0.1671 - recall_1: 0.94 - ETA: 1s - loss: 0.1641 - recall_1: 0.94 - ETA: 1s - loss: 0.1596 - recall_1: 0.95 - ETA: 1s - loss: 0.1565 - recall_1: 0.95 - ETA: 1s - loss: 0.1545 - recall_1: 0.95 - ETA: 1s - loss: 0.1582 - recall_1: 0.95 - ETA: 1s - loss: 0.1599 - recall_1: 0.95 - ETA: 1s - loss: 0.1588 - recall_1: 0.95 - ETA: 1s - loss: 0.1577 - recall_1: 0.95 - ETA: 1s - loss: 0.1547 - recall_1: 0.95 - ETA: 1s - loss: 0.1530 - recall_1: 0.95 - ETA: 1s - loss: 0.1514 - recall_1: 0.95 - ETA: 1s - loss: 0.1486 - recall_1: 0.95 - ETA: 1s - loss: 0.1518 - recall_1: 0.95 - ETA: 0s - loss: 0.1506 - recall_1: 0.95 - ETA: 0s - loss: 0.1528 - recall_1: 0.95 - ETA: 0s - loss: 0.1529 - recall_1: 0.95 - ETA: 0s - loss: 0.1519 - recall_1: 0.95 - ETA: 0s - loss: 0.1499 - recall_1: 0.95 - ETA: 0s - loss: 0.1487 - recall_1: 0.95 - ETA: 0s - loss: 0.1455 - recall_1: 0.95 - ETA: 0s - loss: 0.1473 - recall_1: 0.95 - ETA: 0s - loss: 0.1469 - recall_1: 0.95 - ETA: 0s - loss: 0.1462 - recall_1: 0.95 - ETA: 0s - loss: 0.1470 - recall_1: 0.95 - ETA: 0s - loss: 0.1485 - recall_1: 0.95 - ETA: 0s - loss: 0.1461 - recall_1: 0.95 - ETA: 0s - loss: 0.1471 - recall_1: 0.95 - ETA: 0s - loss: 0.1467 - recall_1: 0.95 - 4s 1ms/sample - loss: 0.1469 - recall_1: 0.9557 - val_loss: 1.4637 - val_recall_1: 0.8096\n",
      "Epoch 3/6\n",
      "3116/3116 [==============================] - ETA: 2s - loss: 0.2385 - recall_1: 0.93 - ETA: 3s - loss: 0.1298 - recall_1: 0.96 - ETA: 3s - loss: 0.0890 - recall_1: 0.98 - ETA: 3s - loss: 0.0902 - recall_1: 0.97 - ETA: 3s - loss: 0.1297 - recall_1: 0.96 - ETA: 2s - loss: 0.1262 - recall_1: 0.96 - ETA: 2s - loss: 0.1247 - recall_1: 0.96 - ETA: 2s - loss: 0.1303 - recall_1: 0.96 - ETA: 2s - loss: 0.1382 - recall_1: 0.96 - ETA: 2s - loss: 0.1325 - recall_1: 0.96 - ETA: 2s - loss: 0.1318 - recall_1: 0.96 - ETA: 2s - loss: 0.1352 - recall_1: 0.96 - ETA: 2s - loss: 0.1328 - recall_1: 0.96 - ETA: 2s - loss: 0.1279 - recall_1: 0.96 - ETA: 2s - loss: 0.1277 - recall_1: 0.96 - ETA: 2s - loss: 0.1271 - recall_1: 0.96 - ETA: 2s - loss: 0.1236 - recall_1: 0.96 - ETA: 2s - loss: 0.1245 - recall_1: 0.96 - ETA: 2s - loss: 0.1242 - recall_1: 0.96 - ETA: 1s - loss: 0.1213 - recall_1: 0.96 - ETA: 1s - loss: 0.1217 - recall_1: 0.96 - ETA: 1s - loss: 0.1254 - recall_1: 0.96 - ETA: 1s - loss: 0.1280 - recall_1: 0.96 - ETA: 1s - loss: 0.1314 - recall_1: 0.96 - ETA: 1s - loss: 0.1316 - recall_1: 0.96 - ETA: 1s - loss: 0.1337 - recall_1: 0.96 - ETA: 1s - loss: 0.1318 - recall_1: 0.96 - ETA: 1s - loss: 0.1319 - recall_1: 0.96 - ETA: 1s - loss: 0.1295 - recall_1: 0.96 - ETA: 1s - loss: 0.1333 - recall_1: 0.96 - ETA: 1s - loss: 0.1355 - recall_1: 0.96 - ETA: 1s - loss: 0.1352 - recall_1: 0.96 - ETA: 1s - loss: 0.1319 - recall_1: 0.96 - ETA: 1s - loss: 0.1343 - recall_1: 0.96 - ETA: 1s - loss: 0.1319 - recall_1: 0.96 - ETA: 0s - loss: 0.1308 - recall_1: 0.96 - ETA: 0s - loss: 0.1362 - recall_1: 0.95 - ETA: 0s - loss: 0.1347 - recall_1: 0.96 - ETA: 0s - loss: 0.1356 - recall_1: 0.96 - ETA: 0s - loss: 0.1406 - recall_1: 0.95 - ETA: 0s - loss: 0.1400 - recall_1: 0.95 - ETA: 0s - loss: 0.1394 - recall_1: 0.95 - ETA: 0s - loss: 0.1371 - recall_1: 0.95 - ETA: 0s - loss: 0.1369 - recall_1: 0.95 - ETA: 0s - loss: 0.1353 - recall_1: 0.96 - ETA: 0s - loss: 0.1346 - recall_1: 0.96 - ETA: 0s - loss: 0.1332 - recall_1: 0.96 - ETA: 0s - loss: 0.1334 - recall_1: 0.96 - 5s 2ms/sample - loss: 0.1321 - recall_1: 0.9615 - val_loss: 1.9358 - val_recall_1: 0.7756\n",
      "Epoch 4/6\n"
     ]
    },
    {
     "name": "stdout",
     "output_type": "stream",
     "text": [
      "3116/3116 [==============================] - ETA: 2s - loss: 0.2021 - recall_1: 0.90 - ETA: 2s - loss: 0.1876 - recall_1: 0.95 - ETA: 2s - loss: 0.1367 - recall_1: 0.96 - ETA: 2s - loss: 0.1702 - recall_1: 0.95 - ETA: 2s - loss: 0.1581 - recall_1: 0.96 - ETA: 2s - loss: 0.1446 - recall_1: 0.96 - ETA: 2s - loss: 0.1466 - recall_1: 0.95 - ETA: 2s - loss: 0.1354 - recall_1: 0.95 - ETA: 2s - loss: 0.1331 - recall_1: 0.95 - ETA: 2s - loss: 0.1229 - recall_1: 0.96 - ETA: 2s - loss: 0.1328 - recall_1: 0.96 - ETA: 2s - loss: 0.1329 - recall_1: 0.96 - ETA: 2s - loss: 0.1307 - recall_1: 0.96 - ETA: 2s - loss: 0.1341 - recall_1: 0.96 - ETA: 2s - loss: 0.1348 - recall_1: 0.95 - ETA: 2s - loss: 0.1411 - recall_1: 0.95 - ETA: 2s - loss: 0.1360 - recall_1: 0.95 - ETA: 2s - loss: 0.1325 - recall_1: 0.96 - ETA: 2s - loss: 0.1352 - recall_1: 0.95 - ETA: 2s - loss: 0.1418 - recall_1: 0.95 - ETA: 1s - loss: 0.1410 - recall_1: 0.95 - ETA: 1s - loss: 0.1474 - recall_1: 0.95 - ETA: 1s - loss: 0.1478 - recall_1: 0.95 - ETA: 1s - loss: 0.1440 - recall_1: 0.95 - ETA: 1s - loss: 0.1402 - recall_1: 0.95 - ETA: 1s - loss: 0.1381 - recall_1: 0.95 - ETA: 1s - loss: 0.1454 - recall_1: 0.95 - ETA: 1s - loss: 0.1417 - recall_1: 0.95 - ETA: 1s - loss: 0.1455 - recall_1: 0.95 - ETA: 1s - loss: 0.1448 - recall_1: 0.95 - ETA: 1s - loss: 0.1437 - recall_1: 0.95 - ETA: 1s - loss: 0.1405 - recall_1: 0.95 - ETA: 1s - loss: 0.1375 - recall_1: 0.95 - ETA: 1s - loss: 0.1361 - recall_1: 0.95 - ETA: 1s - loss: 0.1416 - recall_1: 0.95 - ETA: 0s - loss: 0.1393 - recall_1: 0.96 - ETA: 0s - loss: 0.1389 - recall_1: 0.95 - ETA: 0s - loss: 0.1374 - recall_1: 0.96 - ETA: 0s - loss: 0.1376 - recall_1: 0.95 - ETA: 0s - loss: 0.1374 - recall_1: 0.95 - ETA: 0s - loss: 0.1375 - recall_1: 0.95 - ETA: 0s - loss: 0.1360 - recall_1: 0.95 - ETA: 0s - loss: 0.1380 - recall_1: 0.95 - ETA: 0s - loss: 0.1369 - recall_1: 0.95 - ETA: 0s - loss: 0.1356 - recall_1: 0.96 - ETA: 0s - loss: 0.1350 - recall_1: 0.96 - ETA: 0s - loss: 0.1359 - recall_1: 0.96 - ETA: 0s - loss: 0.1351 - recall_1: 0.96 - ETA: 0s - loss: 0.1374 - recall_1: 0.96 - ETA: 0s - loss: 0.1362 - recall_1: 0.96 - ETA: 0s - loss: 0.1353 - recall_1: 0.96 - ETA: 0s - loss: 0.1373 - recall_1: 0.96 - 5s 2ms/sample - loss: 0.1368 - recall_1: 0.9605 - val_loss: 2.0238 - val_recall_1: 0.7796\n",
      "Epoch 5/6\n",
      "3116/3116 [==============================] - ETA: 2s - loss: 0.0177 - recall_1: 1.00 - ETA: 2s - loss: 0.0987 - recall_1: 0.95 - ETA: 2s - loss: 0.1062 - recall_1: 0.96 - ETA: 2s - loss: 0.1003 - recall_1: 0.96 - ETA: 2s - loss: 0.1139 - recall_1: 0.96 - ETA: 2s - loss: 0.1020 - recall_1: 0.96 - ETA: 2s - loss: 0.1086 - recall_1: 0.96 - ETA: 2s - loss: 0.1015 - recall_1: 0.96 - ETA: 2s - loss: 0.1034 - recall_1: 0.96 - ETA: 2s - loss: 0.0993 - recall_1: 0.96 - ETA: 2s - loss: 0.0888 - recall_1: 0.97 - ETA: 2s - loss: 0.0908 - recall_1: 0.97 - ETA: 2s - loss: 0.0969 - recall_1: 0.97 - ETA: 2s - loss: 0.1076 - recall_1: 0.96 - ETA: 2s - loss: 0.1023 - recall_1: 0.96 - ETA: 2s - loss: 0.1069 - recall_1: 0.96 - ETA: 2s - loss: 0.1058 - recall_1: 0.96 - ETA: 2s - loss: 0.1078 - recall_1: 0.96 - ETA: 1s - loss: 0.1117 - recall_1: 0.96 - ETA: 1s - loss: 0.1086 - recall_1: 0.96 - ETA: 1s - loss: 0.1052 - recall_1: 0.96 - ETA: 1s - loss: 0.1029 - recall_1: 0.96 - ETA: 1s - loss: 0.1004 - recall_1: 0.96 - ETA: 1s - loss: 0.0985 - recall_1: 0.96 - ETA: 1s - loss: 0.0987 - recall_1: 0.96 - ETA: 1s - loss: 0.0958 - recall_1: 0.96 - ETA: 1s - loss: 0.1003 - recall_1: 0.96 - ETA: 1s - loss: 0.1035 - recall_1: 0.96 - ETA: 1s - loss: 0.1070 - recall_1: 0.96 - ETA: 1s - loss: 0.1060 - recall_1: 0.96 - ETA: 1s - loss: 0.1047 - recall_1: 0.96 - ETA: 1s - loss: 0.1030 - recall_1: 0.96 - ETA: 1s - loss: 0.1062 - recall_1: 0.96 - ETA: 0s - loss: 0.1058 - recall_1: 0.96 - ETA: 0s - loss: 0.1053 - recall_1: 0.96 - ETA: 0s - loss: 0.1033 - recall_1: 0.96 - ETA: 0s - loss: 0.1029 - recall_1: 0.96 - ETA: 0s - loss: 0.1024 - recall_1: 0.96 - ETA: 0s - loss: 0.1031 - recall_1: 0.96 - ETA: 0s - loss: 0.1042 - recall_1: 0.96 - ETA: 0s - loss: 0.1057 - recall_1: 0.96 - ETA: 0s - loss: 0.1088 - recall_1: 0.96 - ETA: 0s - loss: 0.1117 - recall_1: 0.96 - ETA: 0s - loss: 0.1104 - recall_1: 0.96 - ETA: 0s - loss: 0.1114 - recall_1: 0.96 - ETA: 0s - loss: 0.1117 - recall_1: 0.96 - ETA: 0s - loss: 0.1116 - recall_1: 0.96 - ETA: 0s - loss: 0.1145 - recall_1: 0.96 - ETA: 0s - loss: 0.1147 - recall_1: 0.96 - 4s 1ms/sample - loss: 0.1160 - recall_1: 0.9647 - val_loss: 1.4680 - val_recall_1: 0.8009\n",
      "Epoch 6/6\n",
      "3116/3116 [==============================] - ETA: 3s - loss: 0.1203 - recall_1: 0.96 - ETA: 2s - loss: 0.0783 - recall_1: 0.97 - ETA: 2s - loss: 0.0919 - recall_1: 0.97 - ETA: 2s - loss: 0.1052 - recall_1: 0.97 - ETA: 2s - loss: 0.0985 - recall_1: 0.97 - ETA: 2s - loss: 0.0911 - recall_1: 0.97 - ETA: 2s - loss: 0.0901 - recall_1: 0.97 - ETA: 2s - loss: 0.0911 - recall_1: 0.97 - ETA: 2s - loss: 0.0930 - recall_1: 0.97 - ETA: 2s - loss: 0.0922 - recall_1: 0.97 - ETA: 2s - loss: 0.0877 - recall_1: 0.97 - ETA: 2s - loss: 0.0892 - recall_1: 0.96 - ETA: 2s - loss: 0.1084 - recall_1: 0.96 - ETA: 2s - loss: 0.1078 - recall_1: 0.96 - ETA: 2s - loss: 0.1090 - recall_1: 0.96 - ETA: 2s - loss: 0.1127 - recall_1: 0.96 - ETA: 2s - loss: 0.1093 - recall_1: 0.96 - ETA: 2s - loss: 0.1075 - recall_1: 0.96 - ETA: 2s - loss: 0.1097 - recall_1: 0.95 - ETA: 1s - loss: 0.1084 - recall_1: 0.95 - ETA: 1s - loss: 0.1052 - recall_1: 0.95 - ETA: 1s - loss: 0.1041 - recall_1: 0.96 - ETA: 1s - loss: 0.1059 - recall_1: 0.95 - ETA: 1s - loss: 0.1032 - recall_1: 0.96 - ETA: 1s - loss: 0.1018 - recall_1: 0.96 - ETA: 1s - loss: 0.1008 - recall_1: 0.96 - ETA: 1s - loss: 0.1005 - recall_1: 0.96 - ETA: 1s - loss: 0.1012 - recall_1: 0.96 - ETA: 1s - loss: 0.0989 - recall_1: 0.96 - ETA: 1s - loss: 0.0967 - recall_1: 0.96 - ETA: 1s - loss: 0.0948 - recall_1: 0.96 - ETA: 0s - loss: 0.0955 - recall_1: 0.96 - ETA: 0s - loss: 0.0996 - recall_1: 0.96 - ETA: 0s - loss: 0.1027 - recall_1: 0.96 - ETA: 0s - loss: 0.1013 - recall_1: 0.96 - ETA: 0s - loss: 0.1029 - recall_1: 0.96 - ETA: 0s - loss: 0.1044 - recall_1: 0.96 - ETA: 0s - loss: 0.1028 - recall_1: 0.96 - ETA: 0s - loss: 0.1017 - recall_1: 0.96 - ETA: 0s - loss: 0.1009 - recall_1: 0.96 - ETA: 0s - loss: 0.0999 - recall_1: 0.96 - ETA: 0s - loss: 0.1027 - recall_1: 0.96 - ETA: 0s - loss: 0.1032 - recall_1: 0.96 - ETA: 0s - loss: 0.1032 - recall_1: 0.96 - ETA: 0s - loss: 0.1031 - recall_1: 0.96 - ETA: 0s - loss: 0.1040 - recall_1: 0.96 - 4s 1ms/sample - loss: 0.1028 - recall_1: 0.9647 - val_loss: 1.9366 - val_recall_1: 0.8005\n"
     ]
    },
    {
     "name": "stdout",
     "output_type": "stream",
     "text": [
      "10500/10500 [==============================] - ETA: 1s - loss: 3.0790 - recall_1: 0.71 - ETA: 2s - loss: 2.0788 - recall_1: 0.78 - ETA: 3s - loss: 2.0635 - recall_1: 0.78 - ETA: 3s - loss: 2.0226 - recall_1: 0.80 - ETA: 3s - loss: 1.9601 - recall_1: 0.80 - ETA: 3s - loss: 1.9276 - recall_1: 0.81 - ETA: 2s - loss: 1.8781 - recall_1: 0.81 - ETA: 2s - loss: 1.8171 - recall_1: 0.81 - ETA: 2s - loss: 1.8808 - recall_1: 0.80 - ETA: 2s - loss: 1.8989 - recall_1: 0.80 - ETA: 2s - loss: 1.9334 - recall_1: 0.80 - ETA: 2s - loss: 1.8989 - recall_1: 0.80 - ETA: 2s - loss: 1.8456 - recall_1: 0.81 - ETA: 2s - loss: 1.8582 - recall_1: 0.81 - ETA: 2s - loss: 1.8551 - recall_1: 0.81 - ETA: 2s - loss: 1.8476 - recall_1: 0.81 - ETA: 2s - loss: 1.8764 - recall_1: 0.81 - ETA: 1s - loss: 1.8823 - recall_1: 0.80 - ETA: 2s - loss: 1.8669 - recall_1: 0.80 - ETA: 1s - loss: 1.8620 - recall_1: 0.80 - ETA: 1s - loss: 1.8632 - recall_1: 0.80 - ETA: 1s - loss: 1.8531 - recall_1: 0.80 - ETA: 1s - loss: 1.8646 - recall_1: 0.81 - ETA: 1s - loss: 1.8975 - recall_1: 0.80 - ETA: 1s - loss: 1.9043 - recall_1: 0.80 - ETA: 1s - loss: 1.9009 - recall_1: 0.80 - ETA: 1s - loss: 1.9106 - recall_1: 0.80 - ETA: 1s - loss: 1.9293 - recall_1: 0.80 - ETA: 1s - loss: 1.9294 - recall_1: 0.80 - ETA: 1s - loss: 1.9269 - recall_1: 0.80 - ETA: 1s - loss: 1.9355 - recall_1: 0.80 - ETA: 1s - loss: 1.9078 - recall_1: 0.80 - ETA: 1s - loss: 1.9075 - recall_1: 0.80 - ETA: 1s - loss: 1.9036 - recall_1: 0.80 - ETA: 1s - loss: 1.8972 - recall_1: 0.80 - ETA: 0s - loss: 1.9098 - recall_1: 0.80 - ETA: 0s - loss: 1.9067 - recall_1: 0.80 - ETA: 0s - loss: 1.9225 - recall_1: 0.80 - ETA: 0s - loss: 1.9145 - recall_1: 0.80 - ETA: 0s - loss: 1.9179 - recall_1: 0.80 - ETA: 0s - loss: 1.9227 - recall_1: 0.80 - ETA: 0s - loss: 1.9412 - recall_1: 0.80 - ETA: 0s - loss: 1.9347 - recall_1: 0.80 - ETA: 0s - loss: 1.9338 - recall_1: 0.80 - ETA: 0s - loss: 1.9400 - recall_1: 0.80 - ETA: 0s - loss: 1.9447 - recall_1: 0.80 - ETA: 0s - loss: 1.9351 - recall_1: 0.80 - ETA: 0s - loss: 1.9439 - recall_1: 0.80 - ETA: 0s - loss: 1.9393 - recall_1: 0.80 - ETA: 0s - loss: 1.9286 - recall_1: 0.80 - ETA: 0s - loss: 1.9307 - recall_1: 0.80 - ETA: 0s - loss: 1.9440 - recall_1: 0.80 - ETA: 0s - loss: 1.9421 - recall_1: 0.79 - ETA: 0s - loss: 1.9434 - recall_1: 0.79 - ETA: 0s - loss: 1.9406 - recall_1: 0.80 - ETA: 0s - loss: 1.9556 - recall_1: 0.79 - 3s 294us/sample - loss: 1.9366 - recall_1: 0.8005\n",
      "Test Recall: 0.8004762\n"
     ]
    },
    {
     "data": {
      "image/png": "[encoded data removed]",
      "text/plain": [
       "<Figure size 432x360 with 1 Axes>"
      ]
     },
     "metadata": {
      "needs_background": "light"
     },
     "output_type": "display_data"
    }
   ],
   "source": [
    "model_down.compile(optimizer='adam', \n",
    "              loss='binary_crossentropy',\n",
    "              metrics=[tf.keras.metrics.Recall()])\n",
    "\n",
    "history = model_down.fit(down_X,\n",
    "          pd.get_dummies(down_y),\n",
    "          epochs=6,\n",
    "          validation_data=(X_test, pd.get_dummies(y_test))\n",
    "         )\n",
    "plot_loss(history)\n",
    "test_loss, test_acc = model_down.evaluate(X_test, pd.get_dummies(y_test))\n",
    "print('Test Recall:', test_acc)"
   ]
  },
  {
   "cell_type": "code",
   "execution_count": 18,
   "metadata": {
    "ExecuteTime": {
     "end_time": "2019-08-20T11:17:37.050812Z",
     "start_time": "2019-08-20T11:17:32.927176Z"
    }
   },
   "outputs": [
    {
     "data": {
      "text/plain": [
       "(0.7118959107806692, 0.8016190476190476, 0.26886626886626885)"
      ]
     },
     "execution_count": 18,
     "metadata": {},
     "output_type": "execute_result"
    }
   ],
   "source": [
    "#recall\n",
    "recall_score(y_test, model_down.predict_classes(X_test)), \\\n",
    "accuracy_score(y_test, model_down.predict_classes(X_test)),\\\n",
    "f1_score(y_test, model_down.predict_classes(X_test))"
   ]
  },
  {
   "cell_type": "code",
   "execution_count": 114,
   "metadata": {
    "ExecuteTime": {
     "end_time": "2019-08-19T07:18:52.599948Z",
     "start_time": "2019-08-19T07:18:50.520139Z"
    }
   },
   "outputs": [
    {
     "name": "stdout",
     "output_type": "stream",
     "text": [
      "전체채팅수10500, 유해채팅수2138\n"
     ]
    }
   ],
   "source": [
    "print('전체채팅수{}, 유해채팅수{}'.format(len(X_test),model_down.predict_classes(X_test).sum()))"
   ]
  },
  {
   "cell_type": "markdown",
   "metadata": {},
   "source": [
    "## 모델 체크포인트 저장"
   ]
  },
  {
   "cell_type": "code",
   "execution_count": 115,
   "metadata": {
    "ExecuteTime": {
     "end_time": "2019-08-19T08:29:40.322250Z",
     "start_time": "2019-08-19T08:29:29.911214Z"
    }
   },
   "outputs": [],
   "source": [
    "# model_down.save('../model/cnn_undersample.h5')"
   ]
  },
  {
   "cell_type": "code",
   "execution_count": null,
   "metadata": {},
   "outputs": [],
   "source": []
  },
  {
   "cell_type": "code",
   "execution_count": 59,
   "metadata": {
    "ExecuteTime": {
     "end_time": "2019-08-20T12:24:56.487026Z",
     "start_time": "2019-08-20T12:24:56.440039Z"
    }
   },
   "outputs": [],
   "source": [
    "down_X, down_y = RandomUnderSampler().fit_resample(chat, datasets.label)\n",
    "\n",
    "# 총 데이터 수 , 1 레이블 데이터 수\n",
    "len(down_y), down_y.sum()\n",
    "\n",
    "down_X_train, down_X_test, down_y_train, down_y_test = train_test_split(down_X, down_y)"
   ]
  },
  {
   "cell_type": "code",
   "execution_count": 60,
   "metadata": {
    "ExecuteTime": {
     "end_time": "2019-08-20T12:25:02.241712Z",
     "start_time": "2019-08-20T12:25:00.473724Z"
    }
   },
   "outputs": [],
   "source": [
    "model_down = keras.Sequential([\n",
    "    keras.layers.Embedding(30000, 10),\n",
    "    keras.layers.Conv1D(64, 3, padding=\"same\", activation=tf.nn.relu),\n",
    "    keras.layers.Dropout(0.5),\n",
    "    keras.layers.Conv1D(32, 3, padding=\"same\", activation=tf.nn.relu),\n",
    "    keras.layers.Dropout(0.5),\n",
    "    keras.layers.Conv1D(32, 3, padding=\"same\", activation=tf.nn.relu),\n",
    "    keras.layers.Dropout(0.5),\n",
    "    keras.layers.Conv1D(32, 3, padding=\"same\", activation=tf.nn.relu),\n",
    "    keras.layers.Dropout(0.5),\n",
    "    keras.layers.Conv1D(32, 3, padding=\"same\", activation=tf.nn.relu),\n",
    "    keras.layers.Dropout(0.5),\n",
    "    keras.layers.Conv1D(32, 3, padding=\"same\", activation=tf.nn.relu),\n",
    "    keras.layers.GlobalMaxPool1D(),\n",
    "    keras.layers.Dropout(0.5),\n",
    "    keras.layers.Dense(2, activation=tf.nn.sigmoid)\n",
    "])"
   ]
  },
  {
   "cell_type": "code",
   "execution_count": 67,
   "metadata": {
    "ExecuteTime": {
     "end_time": "2019-08-20T12:30:36.554167Z",
     "start_time": "2019-08-20T12:30:08.041503Z"
    }
   },
   "outputs": [
    {
     "name": "stdout",
     "output_type": "stream",
     "text": [
      "Train on 3144 samples, validate on 1048 samples\n",
      "Epoch 1/6\n",
      "3144/3144 [==============================] - ETA: 3:35 - loss: 0.0555 - recall_6: 0.96 - ETA: 53s - loss: 0.1449 - recall_6: 0.9141 - ETA: 36s - loss: 0.1648 - recall_6: 0.911 - ETA: 27s - loss: 0.1605 - recall_6: 0.921 - ETA: 24s - loss: 0.1670 - recall_6: 0.916 - ETA: 20s - loss: 0.1514 - recall_6: 0.926 - ETA: 18s - loss: 0.1507 - recall_6: 0.927 - ETA: 15s - loss: 0.1438 - recall_6: 0.928 - ETA: 15s - loss: 0.1417 - recall_6: 0.929 - ETA: 12s - loss: 0.1359 - recall_6: 0.934 - ETA: 11s - loss: 0.1298 - recall_6: 0.939 - ETA: 10s - loss: 0.1235 - recall_6: 0.944 - ETA: 9s - loss: 0.1219 - recall_6: 0.945 - ETA: 8s - loss: 0.1157 - recall_6: 0.95 - ETA: 8s - loss: 0.1133 - recall_6: 0.95 - ETA: 7s - loss: 0.1090 - recall_6: 0.95 - ETA: 6s - loss: 0.1063 - recall_6: 0.95 - ETA: 6s - loss: 0.1123 - recall_6: 0.95 - ETA: 6s - loss: 0.1109 - recall_6: 0.95 - ETA: 5s - loss: 0.1128 - recall_6: 0.95 - ETA: 5s - loss: 0.1097 - recall_6: 0.95 - ETA: 5s - loss: 0.1074 - recall_6: 0.95 - ETA: 4s - loss: 0.1095 - recall_6: 0.95 - ETA: 4s - loss: 0.1071 - recall_6: 0.95 - ETA: 4s - loss: 0.1075 - recall_6: 0.95 - ETA: 3s - loss: 0.1139 - recall_6: 0.95 - ETA: 3s - loss: 0.1110 - recall_6: 0.95 - ETA: 3s - loss: 0.1130 - recall_6: 0.95 - ETA: 3s - loss: 0.1130 - recall_6: 0.95 - ETA: 3s - loss: 0.1130 - recall_6: 0.95 - ETA: 2s - loss: 0.1198 - recall_6: 0.95 - ETA: 2s - loss: 0.1172 - recall_6: 0.95 - ETA: 2s - loss: 0.1177 - recall_6: 0.95 - ETA: 2s - loss: 0.1166 - recall_6: 0.95 - ETA: 2s - loss: 0.1176 - recall_6: 0.95 - ETA: 2s - loss: 0.1181 - recall_6: 0.95 - ETA: 2s - loss: 0.1180 - recall_6: 0.95 - ETA: 1s - loss: 0.1232 - recall_6: 0.95 - ETA: 1s - loss: 0.1239 - recall_6: 0.95 - ETA: 1s - loss: 0.1274 - recall_6: 0.94 - ETA: 1s - loss: 0.1265 - recall_6: 0.95 - ETA: 1s - loss: 0.1262 - recall_6: 0.95 - ETA: 1s - loss: 0.1308 - recall_6: 0.94 - ETA: 1s - loss: 0.1289 - recall_6: 0.94 - ETA: 0s - loss: 0.1287 - recall_6: 0.94 - ETA: 0s - loss: 0.1279 - recall_6: 0.94 - ETA: 0s - loss: 0.1297 - recall_6: 0.94 - ETA: 0s - loss: 0.1300 - recall_6: 0.94 - ETA: 0s - loss: 0.1317 - recall_6: 0.94 - ETA: 0s - loss: 0.1311 - recall_6: 0.94 - ETA: 0s - loss: 0.1298 - recall_6: 0.95 - ETA: 0s - loss: 0.1297 - recall_6: 0.95 - ETA: 0s - loss: 0.1297 - recall_6: 0.94 - 6s 2ms/sample - loss: 0.1293 - recall_6: 0.9491 - val_loss: 0.4258 - val_recall_6: 0.8445\n",
      "Epoch 2/6\n",
      "3144/3144 [==============================] - ETA: 3s - loss: 0.0646 - recall_6: 0.96 - ETA: 3s - loss: 0.1119 - recall_6: 0.94 - ETA: 3s - loss: 0.1022 - recall_6: 0.96 - ETA: 3s - loss: 0.1200 - recall_6: 0.93 - ETA: 3s - loss: 0.1017 - recall_6: 0.94 - ETA: 2s - loss: 0.0932 - recall_6: 0.95 - ETA: 2s - loss: 0.1000 - recall_6: 0.95 - ETA: 2s - loss: 0.0943 - recall_6: 0.96 - ETA: 2s - loss: 0.0870 - recall_6: 0.96 - ETA: 2s - loss: 0.0831 - recall_6: 0.96 - ETA: 2s - loss: 0.0794 - recall_6: 0.96 - ETA: 2s - loss: 0.0790 - recall_6: 0.96 - ETA: 2s - loss: 0.0779 - recall_6: 0.96 - ETA: 2s - loss: 0.0751 - recall_6: 0.97 - ETA: 2s - loss: 0.0824 - recall_6: 0.96 - ETA: 2s - loss: 0.0935 - recall_6: 0.96 - ETA: 2s - loss: 0.0953 - recall_6: 0.96 - ETA: 2s - loss: 0.0995 - recall_6: 0.96 - ETA: 2s - loss: 0.0968 - recall_6: 0.96 - ETA: 2s - loss: 0.0951 - recall_6: 0.96 - ETA: 2s - loss: 0.0918 - recall_6: 0.96 - ETA: 2s - loss: 0.0893 - recall_6: 0.96 - ETA: 2s - loss: 0.0903 - recall_6: 0.96 - ETA: 2s - loss: 0.1056 - recall_6: 0.96 - ETA: 2s - loss: 0.1051 - recall_6: 0.96 - ETA: 1s - loss: 0.1071 - recall_6: 0.96 - ETA: 1s - loss: 0.1082 - recall_6: 0.96 - ETA: 1s - loss: 0.1081 - recall_6: 0.96 - ETA: 1s - loss: 0.1089 - recall_6: 0.96 - ETA: 1s - loss: 0.1078 - recall_6: 0.96 - ETA: 1s - loss: 0.1104 - recall_6: 0.96 - ETA: 1s - loss: 0.1106 - recall_6: 0.96 - ETA: 1s - loss: 0.1212 - recall_6: 0.96 - ETA: 1s - loss: 0.1202 - recall_6: 0.96 - ETA: 1s - loss: 0.1192 - recall_6: 0.96 - ETA: 1s - loss: 0.1193 - recall_6: 0.96 - ETA: 1s - loss: 0.1193 - recall_6: 0.95 - ETA: 1s - loss: 0.1175 - recall_6: 0.95 - ETA: 1s - loss: 0.1181 - recall_6: 0.95 - ETA: 0s - loss: 0.1198 - recall_6: 0.95 - ETA: 0s - loss: 0.1196 - recall_6: 0.95 - ETA: 0s - loss: 0.1183 - recall_6: 0.95 - ETA: 0s - loss: 0.1186 - recall_6: 0.95 - ETA: 0s - loss: 0.1177 - recall_6: 0.95 - ETA: 0s - loss: 0.1188 - recall_6: 0.95 - ETA: 0s - loss: 0.1185 - recall_6: 0.95 - ETA: 0s - loss: 0.1179 - recall_6: 0.95 - ETA: 0s - loss: 0.1172 - recall_6: 0.95 - ETA: 0s - loss: 0.1172 - recall_6: 0.95 - ETA: 0s - loss: 0.1165 - recall_6: 0.95 - ETA: 0s - loss: 0.1158 - recall_6: 0.95 - ETA: 0s - loss: 0.1142 - recall_6: 0.95 - ETA: 0s - loss: 0.1122 - recall_6: 0.95 - 4s 1ms/sample - loss: 0.1111 - recall_6: 0.9583 - val_loss: 0.5750 - val_recall_6: 0.8588\n",
      "Epoch 3/6\n",
      "3144/3144 [==============================] - ETA: 3s - loss: 0.0441 - recall_6: 1.00 - ETA: 3s - loss: 0.0627 - recall_6: 0.97 - ETA: 3s - loss: 0.0682 - recall_6: 0.96 - ETA: 3s - loss: 0.0583 - recall_6: 0.96 - ETA: 2s - loss: 0.0614 - recall_6: 0.96 - ETA: 3s - loss: 0.0709 - recall_6: 0.96 - ETA: 3s - loss: 0.0735 - recall_6: 0.96 - ETA: 2s - loss: 0.0716 - recall_6: 0.97 - ETA: 2s - loss: 0.0780 - recall_6: 0.96 - ETA: 2s - loss: 0.0876 - recall_6: 0.96 - ETA: 2s - loss: 0.0942 - recall_6: 0.95 - ETA: 2s - loss: 0.0931 - recall_6: 0.95 - ETA: 2s - loss: 0.0873 - recall_6: 0.96 - ETA: 2s - loss: 0.0829 - recall_6: 0.96 - ETA: 2s - loss: 0.0827 - recall_6: 0.96 - ETA: 2s - loss: 0.0848 - recall_6: 0.96 - ETA: 2s - loss: 0.0869 - recall_6: 0.96 - ETA: 2s - loss: 0.0903 - recall_6: 0.96 - ETA: 2s - loss: 0.0910 - recall_6: 0.95 - ETA: 2s - loss: 0.0904 - recall_6: 0.95 - ETA: 2s - loss: 0.0927 - recall_6: 0.95 - ETA: 2s - loss: 0.0926 - recall_6: 0.95 - ETA: 1s - loss: 0.0987 - recall_6: 0.95 - ETA: 1s - loss: 0.0970 - recall_6: 0.95 - ETA: 1s - loss: 0.0959 - recall_6: 0.95 - ETA: 1s - loss: 0.0939 - recall_6: 0.95 - ETA: 1s - loss: 0.0919 - recall_6: 0.95 - ETA: 1s - loss: 0.0901 - recall_6: 0.95 - ETA: 1s - loss: 0.0903 - recall_6: 0.95 - ETA: 1s - loss: 0.0974 - recall_6: 0.95 - ETA: 1s - loss: 0.0974 - recall_6: 0.95 - ETA: 1s - loss: 0.0965 - recall_6: 0.95 - ETA: 1s - loss: 0.0963 - recall_6: 0.95 - ETA: 1s - loss: 0.0964 - recall_6: 0.95 - ETA: 1s - loss: 0.0954 - recall_6: 0.95 - ETA: 1s - loss: 0.0943 - recall_6: 0.95 - ETA: 0s - loss: 0.0992 - recall_6: 0.95 - ETA: 0s - loss: 0.0976 - recall_6: 0.95 - ETA: 0s - loss: 0.0966 - recall_6: 0.95 - ETA: 0s - loss: 0.0950 - recall_6: 0.95 - ETA: 0s - loss: 0.0936 - recall_6: 0.95 - ETA: 0s - loss: 0.0946 - recall_6: 0.95 - ETA: 0s - loss: 0.0943 - recall_6: 0.95 - ETA: 0s - loss: 0.0928 - recall_6: 0.95 - ETA: 0s - loss: 0.0930 - recall_6: 0.95 - ETA: 0s - loss: 0.0917 - recall_6: 0.95 - ETA: 0s - loss: 0.0902 - recall_6: 0.96 - ETA: 0s - loss: 0.0922 - recall_6: 0.96 - ETA: 0s - loss: 0.0916 - recall_6: 0.96 - ETA: 0s - loss: 0.0944 - recall_6: 0.96 - ETA: 0s - loss: 0.0936 - recall_6: 0.96 - 3s 1ms/sample - loss: 0.0934 - recall_6: 0.9602 - val_loss: 0.6321 - val_recall_6: 0.8483\n",
      "Epoch 4/6\n"
     ]
    },
    {
     "name": "stdout",
     "output_type": "stream",
     "text": [
      "3144/3144 [==============================] - ETA: 2s - loss: 0.2082 - recall_6: 0.90 - ETA: 2s - loss: 0.1346 - recall_6: 0.93 - ETA: 3s - loss: 0.1671 - recall_6: 0.92 - ETA: 3s - loss: 0.1253 - recall_6: 0.94 - ETA: 3s - loss: 0.1053 - recall_6: 0.95 - ETA: 2s - loss: 0.0990 - recall_6: 0.95 - ETA: 2s - loss: 0.0917 - recall_6: 0.96 - ETA: 2s - loss: 0.0816 - recall_6: 0.96 - ETA: 2s - loss: 0.0795 - recall_6: 0.96 - ETA: 2s - loss: 0.0771 - recall_6: 0.96 - ETA: 2s - loss: 0.0792 - recall_6: 0.96 - ETA: 2s - loss: 0.0832 - recall_6: 0.96 - ETA: 2s - loss: 0.0880 - recall_6: 0.96 - ETA: 2s - loss: 0.0936 - recall_6: 0.96 - ETA: 2s - loss: 0.1023 - recall_6: 0.96 - ETA: 2s - loss: 0.1053 - recall_6: 0.96 - ETA: 2s - loss: 0.1024 - recall_6: 0.96 - ETA: 2s - loss: 0.1042 - recall_6: 0.96 - ETA: 2s - loss: 0.1104 - recall_6: 0.95 - ETA: 2s - loss: 0.1097 - recall_6: 0.95 - ETA: 1s - loss: 0.1097 - recall_6: 0.95 - ETA: 1s - loss: 0.1074 - recall_6: 0.95 - ETA: 1s - loss: 0.1082 - recall_6: 0.95 - ETA: 1s - loss: 0.1099 - recall_6: 0.95 - ETA: 1s - loss: 0.1086 - recall_6: 0.95 - ETA: 1s - loss: 0.1054 - recall_6: 0.95 - ETA: 1s - loss: 0.1041 - recall_6: 0.95 - ETA: 1s - loss: 0.1040 - recall_6: 0.95 - ETA: 1s - loss: 0.1045 - recall_6: 0.95 - ETA: 1s - loss: 0.1040 - recall_6: 0.95 - ETA: 1s - loss: 0.1032 - recall_6: 0.95 - ETA: 1s - loss: 0.1035 - recall_6: 0.95 - ETA: 1s - loss: 0.1025 - recall_6: 0.95 - ETA: 1s - loss: 0.1045 - recall_6: 0.95 - ETA: 1s - loss: 0.1028 - recall_6: 0.95 - ETA: 1s - loss: 0.1012 - recall_6: 0.95 - ETA: 0s - loss: 0.0995 - recall_6: 0.95 - ETA: 0s - loss: 0.0991 - recall_6: 0.95 - ETA: 0s - loss: 0.0983 - recall_6: 0.95 - ETA: 0s - loss: 0.0975 - recall_6: 0.96 - ETA: 0s - loss: 0.0990 - recall_6: 0.96 - ETA: 0s - loss: 0.0981 - recall_6: 0.96 - ETA: 0s - loss: 0.0967 - recall_6: 0.96 - ETA: 0s - loss: 0.0959 - recall_6: 0.96 - ETA: 0s - loss: 0.0951 - recall_6: 0.96 - ETA: 0s - loss: 0.0960 - recall_6: 0.96 - ETA: 0s - loss: 0.0983 - recall_6: 0.96 - ETA: 0s - loss: 0.0970 - recall_6: 0.96 - ETA: 0s - loss: 0.0961 - recall_6: 0.96 - ETA: 0s - loss: 0.0959 - recall_6: 0.96 - ETA: 0s - loss: 0.0955 - recall_6: 0.96 - ETA: 0s - loss: 0.0952 - recall_6: 0.96 - ETA: 0s - loss: 0.0973 - recall_6: 0.96 - 4s 1ms/sample - loss: 0.0977 - recall_6: 0.9622 - val_loss: 0.6429 - val_recall_6: 0.8435\n",
      "Epoch 5/6\n",
      "3144/3144 [==============================] - ETA: 2s - loss: 0.0294 - recall_6: 1.00 - ETA: 4s - loss: 0.0524 - recall_6: 0.98 - ETA: 3s - loss: 0.0696 - recall_6: 0.97 - ETA: 3s - loss: 0.0647 - recall_6: 0.98 - ETA: 4s - loss: 0.0565 - recall_6: 0.98 - ETA: 3s - loss: 0.0603 - recall_6: 0.98 - ETA: 3s - loss: 0.0667 - recall_6: 0.97 - ETA: 3s - loss: 0.0816 - recall_6: 0.96 - ETA: 3s - loss: 0.0756 - recall_6: 0.97 - ETA: 3s - loss: 0.0751 - recall_6: 0.97 - ETA: 2s - loss: 0.0741 - recall_6: 0.97 - ETA: 2s - loss: 0.0732 - recall_6: 0.97 - ETA: 2s - loss: 0.0745 - recall_6: 0.96 - ETA: 2s - loss: 0.0733 - recall_6: 0.96 - ETA: 2s - loss: 0.0712 - recall_6: 0.96 - ETA: 2s - loss: 0.0691 - recall_6: 0.96 - ETA: 2s - loss: 0.0704 - recall_6: 0.97 - ETA: 2s - loss: 0.0690 - recall_6: 0.97 - ETA: 2s - loss: 0.0707 - recall_6: 0.96 - ETA: 2s - loss: 0.0682 - recall_6: 0.97 - ETA: 2s - loss: 0.0804 - recall_6: 0.97 - ETA: 2s - loss: 0.0805 - recall_6: 0.96 - ETA: 1s - loss: 0.0805 - recall_6: 0.96 - ETA: 1s - loss: 0.0798 - recall_6: 0.96 - ETA: 1s - loss: 0.0781 - recall_6: 0.97 - ETA: 1s - loss: 0.0773 - recall_6: 0.97 - ETA: 1s - loss: 0.0762 - recall_6: 0.97 - ETA: 1s - loss: 0.0749 - recall_6: 0.97 - ETA: 1s - loss: 0.0746 - recall_6: 0.96 - ETA: 1s - loss: 0.0747 - recall_6: 0.96 - ETA: 1s - loss: 0.0747 - recall_6: 0.96 - ETA: 1s - loss: 0.0738 - recall_6: 0.96 - ETA: 1s - loss: 0.0727 - recall_6: 0.96 - ETA: 1s - loss: 0.0805 - recall_6: 0.96 - ETA: 1s - loss: 0.0811 - recall_6: 0.96 - ETA: 1s - loss: 0.0836 - recall_6: 0.96 - ETA: 1s - loss: 0.0844 - recall_6: 0.96 - ETA: 0s - loss: 0.0842 - recall_6: 0.96 - ETA: 0s - loss: 0.0835 - recall_6: 0.96 - ETA: 0s - loss: 0.0842 - recall_6: 0.96 - ETA: 0s - loss: 0.0827 - recall_6: 0.96 - ETA: 0s - loss: 0.0812 - recall_6: 0.96 - ETA: 0s - loss: 0.0825 - recall_6: 0.96 - ETA: 0s - loss: 0.0830 - recall_6: 0.96 - ETA: 0s - loss: 0.0824 - recall_6: 0.96 - ETA: 0s - loss: 0.0845 - recall_6: 0.96 - ETA: 0s - loss: 0.0837 - recall_6: 0.96 - ETA: 0s - loss: 0.0836 - recall_6: 0.96 - ETA: 0s - loss: 0.0909 - recall_6: 0.96 - ETA: 0s - loss: 0.0899 - recall_6: 0.96 - ETA: 0s - loss: 0.0909 - recall_6: 0.96 - ETA: 0s - loss: 0.0930 - recall_6: 0.96 - ETA: 0s - loss: 0.0929 - recall_6: 0.96 - 4s 1ms/sample - loss: 0.0928 - recall_6: 0.9650 - val_loss: 0.5164 - val_recall_6: 0.8378\n",
      "Epoch 6/6\n",
      "3144/3144 [==============================] - ETA: 2s - loss: 0.1041 - recall_6: 1.00 - ETA: 3s - loss: 0.0786 - recall_6: 0.97 - ETA: 3s - loss: 0.0738 - recall_6: 0.98 - ETA: 2s - loss: 0.0789 - recall_6: 0.97 - ETA: 2s - loss: 0.0672 - recall_6: 0.97 - ETA: 2s - loss: 0.0725 - recall_6: 0.97 - ETA: 2s - loss: 0.0728 - recall_6: 0.97 - ETA: 2s - loss: 0.0660 - recall_6: 0.97 - ETA: 2s - loss: 0.0675 - recall_6: 0.97 - ETA: 2s - loss: 0.0693 - recall_6: 0.98 - ETA: 2s - loss: 0.0690 - recall_6: 0.98 - ETA: 2s - loss: 0.0662 - recall_6: 0.98 - ETA: 2s - loss: 0.0665 - recall_6: 0.98 - ETA: 2s - loss: 0.0644 - recall_6: 0.97 - ETA: 2s - loss: 0.0625 - recall_6: 0.97 - ETA: 2s - loss: 0.0630 - recall_6: 0.97 - ETA: 2s - loss: 0.0638 - recall_6: 0.97 - ETA: 2s - loss: 0.0659 - recall_6: 0.97 - ETA: 1s - loss: 0.0655 - recall_6: 0.97 - ETA: 1s - loss: 0.0647 - recall_6: 0.97 - ETA: 1s - loss: 0.0644 - recall_6: 0.97 - ETA: 1s - loss: 0.0635 - recall_6: 0.97 - ETA: 1s - loss: 0.0643 - recall_6: 0.97 - ETA: 1s - loss: 0.0639 - recall_6: 0.97 - ETA: 1s - loss: 0.0632 - recall_6: 0.97 - ETA: 1s - loss: 0.0621 - recall_6: 0.97 - ETA: 1s - loss: 0.0626 - recall_6: 0.97 - ETA: 1s - loss: 0.0612 - recall_6: 0.97 - ETA: 1s - loss: 0.0599 - recall_6: 0.97 - ETA: 1s - loss: 0.0590 - recall_6: 0.97 - ETA: 1s - loss: 0.0591 - recall_6: 0.97 - ETA: 1s - loss: 0.0597 - recall_6: 0.97 - ETA: 1s - loss: 0.0610 - recall_6: 0.97 - ETA: 1s - loss: 0.0628 - recall_6: 0.97 - ETA: 1s - loss: 0.0628 - recall_6: 0.97 - ETA: 0s - loss: 0.0666 - recall_6: 0.97 - ETA: 0s - loss: 0.0657 - recall_6: 0.97 - ETA: 0s - loss: 0.0648 - recall_6: 0.97 - ETA: 0s - loss: 0.0644 - recall_6: 0.97 - ETA: 0s - loss: 0.0658 - recall_6: 0.97 - ETA: 0s - loss: 0.0652 - recall_6: 0.97 - ETA: 0s - loss: 0.0657 - recall_6: 0.97 - ETA: 0s - loss: 0.0652 - recall_6: 0.97 - ETA: 0s - loss: 0.0656 - recall_6: 0.96 - ETA: 0s - loss: 0.0681 - recall_6: 0.96 - ETA: 0s - loss: 0.0673 - recall_6: 0.97 - ETA: 0s - loss: 0.0680 - recall_6: 0.96 - ETA: 0s - loss: 0.0675 - recall_6: 0.96 - ETA: 0s - loss: 0.0678 - recall_6: 0.96 - ETA: 0s - loss: 0.0674 - recall_6: 0.96 - ETA: 0s - loss: 0.0680 - recall_6: 0.96 - 3s 1ms/sample - loss: 0.0678 - recall_6: 0.9691 - val_loss: 0.7852 - val_recall_6: 0.8368\n",
      "1048/1048 [==============================] - ETA: 0s - loss: 0.8568 - recall_6: 0.75 - ETA: 0s - loss: 0.6867 - recall_6: 0.84 - ETA: 0s - loss: 0.6923 - recall_6: 0.83 - ETA: 0s - loss: 0.8121 - recall_6: 0.83 - ETA: 0s - loss: 0.7602 - recall_6: 0.83 - ETA: 0s - loss: 0.7224 - recall_6: 0.84 - ETA: 0s - loss: 0.7636 - recall_6: 0.83 - 0s 329us/sample - loss: 0.7852 - recall_6: 0.8368\n",
      "Test Recall: 0.83683205\n"
     ]
    },
    {
     "data": {
      "image/png": "[encoded data removed]",
      "text/plain": [
       "<Figure size 432x360 with 1 Axes>"
      ]
     },
     "metadata": {
      "needs_background": "light"
     },
     "output_type": "display_data"
    }
   ],
   "source": [
    "model_down.compile(optimizer='adam', \n",
    "              loss='binary_crossentropy',\n",
    "              metrics=[tf.keras.metrics.Recall()])\n",
    "\n",
    "history = model_down.fit(down_X_train,\n",
    "          pd.get_dummies(down_y_train),\n",
    "          epochs=6,\n",
    "          validation_data=(down_X_test, pd.get_dummies(down_y_test))\n",
    "         )\n",
    "plot_loss(history)\n",
    "test_loss, test_acc = model_down.evaluate(down_X_test, pd.get_dummies(down_y_test))\n",
    "print('Test Recall:', test_acc)"
   ]
  },
  {
   "cell_type": "code",
   "execution_count": 72,
   "metadata": {
    "ExecuteTime": {
     "end_time": "2019-08-20T12:36:51.078584Z",
     "start_time": "2019-08-20T12:36:50.472932Z"
    }
   },
   "outputs": [
    {
     "data": {
      "text/plain": [
       "(0.8687872763419483,\n",
       " 0.8368320610687023,\n",
       " 0.8363636363636364,\n",
       " 0.8062730627306273,\n",
       " array([[440, 105],\n",
       "        [ 66, 437]], dtype=int64))"
      ]
     },
     "execution_count": 72,
     "metadata": {},
     "output_type": "execute_result"
    }
   ],
   "source": [
    "recall_score(down_y_test, model_down.predict_classes(down_X_test)),\\\n",
    "accuracy_score(down_y_test, model_down.predict_classes(down_X_test)),\\\n",
    "f1_score(down_y_test, model_down.predict_classes(down_X_test)),\\\n",
    "precision_score(down_y_test, model_down.predict_classes(down_X_test)),\\\n",
    "confusion_matrix(down_y_test, model_down.predict_classes(down_X_test))\n"
   ]
  }
 ],
 "metadata": {
  "kernelspec": {
   "display_name": "Python 3",
   "language": "python",
   "name": "python3"
  },
  "language_info": {
   "codemirror_mode": {
    "name": "ipython",
    "version": 3
   },
   "file_extension": ".py",
   "mimetype": "text/x-python",
   "name": "python",
   "nbconvert_exporter": "python",
   "pygments_lexer": "ipython3",
   "version": "3.7.3"
  }
 },
 "nbformat": 4,
 "nbformat_minor": 2
}
