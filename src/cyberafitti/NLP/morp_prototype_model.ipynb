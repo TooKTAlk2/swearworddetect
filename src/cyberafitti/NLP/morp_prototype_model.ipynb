{
 "cells": [
  {
   "cell_type": "code",
   "execution_count": 1,
   "metadata": {
    "ExecuteTime": {
     "end_time": "2019-08-09T07:06:52.621003Z",
     "start_time": "2019-08-09T07:06:32.996230Z"
    }
   },
   "outputs": [
    {
     "name": "stdout",
     "output_type": "stream",
     "text": [
      "Chan 2019-08-09 \n",
      "\n",
      "CPython 3.7.3\n",
      "IPython 7.6.1\n",
      "\n",
      "numpy 1.16.4\n",
      "pandas 0.24.2\n",
      "sklearn 0.21.2\n",
      "konlpy 0.5.1\n",
      "tensorflow 1.13.1\n",
      "matplotlib 3.1.0\n",
      "imblearn 0.5.0\n"
     ]
    }
   ],
   "source": [
    "%load_ext watermark\n",
    "%watermark -a Chan -d -v -p numpy,pandas,sklearn,konlpy,tensorflow,matplotlib,imblearn"
   ]
  },
  {
   "cell_type": "code",
   "execution_count": 2,
   "metadata": {
    "ExecuteTime": {
     "end_time": "2019-08-09T07:06:53.322603Z",
     "start_time": "2019-08-09T07:06:52.626999Z"
    }
   },
   "outputs": [],
   "source": [
    "import numpy as np\n",
    "import pandas as pd\n",
    "from sklearn.model_selection import train_test_split\n",
    "from konlpy.tag import Okt\n",
    "import tensorflow as tf\n",
    "from tensorflow.python.keras.preprocessing import sequence\n",
    "from tensorflow import keras\n",
    "from tqdm import tqdm\n",
    "from collections import Counter\n",
    "from matplotlib import pyplot as plt\n",
    "import pickle"
   ]
  },
  {
   "cell_type": "markdown",
   "metadata": {},
   "source": [
    "# Load datasets"
   ]
  },
  {
   "cell_type": "code",
   "execution_count": 3,
   "metadata": {
    "ExecuteTime": {
     "end_time": "2019-08-09T07:06:53.558467Z",
     "start_time": "2019-08-09T07:06:53.326604Z"
    }
   },
   "outputs": [
    {
     "name": "stdout",
     "output_type": "stream",
     "text": [
      "1\n",
      "2\n",
      "3\n",
      "4\n",
      "5\n"
     ]
    },
    {
     "data": {
      "text/html": [
       "<div>\n",
       "<style scoped>\n",
       "    .dataframe tbody tr th:only-of-type {\n",
       "        vertical-align: middle;\n",
       "    }\n",
       "\n",
       "    .dataframe tbody tr th {\n",
       "        vertical-align: top;\n",
       "    }\n",
       "\n",
       "    .dataframe thead th {\n",
       "        text-align: right;\n",
       "    }\n",
       "</style>\n",
       "<table border=\"1\" class=\"dataframe\">\n",
       "  <thead>\n",
       "    <tr style=\"text-align: right;\">\n",
       "      <th></th>\n",
       "      <th>comment</th>\n",
       "      <th>url_id</th>\n",
       "      <th>label</th>\n",
       "    </tr>\n",
       "  </thead>\n",
       "  <tbody>\n",
       "    <tr>\n",
       "      <th>0</th>\n",
       "      <td>아 이거 웃기네 ㅋㅋㅋ</td>\n",
       "      <td>56</td>\n",
       "      <td>0</td>\n",
       "    </tr>\n",
       "    <tr>\n",
       "      <th>1</th>\n",
       "      <td>슬</td>\n",
       "      <td>36</td>\n",
       "      <td>0</td>\n",
       "    </tr>\n",
       "    <tr>\n",
       "      <th>2</th>\n",
       "      <td>32.3 ㄷ</td>\n",
       "      <td>17</td>\n",
       "      <td>0</td>\n",
       "    </tr>\n",
       "    <tr>\n",
       "      <th>3</th>\n",
       "      <td>팬미팅이넹</td>\n",
       "      <td>56</td>\n",
       "      <td>1</td>\n",
       "    </tr>\n",
       "    <tr>\n",
       "      <th>4</th>\n",
       "      <td>빠꾸가 없네 이 둠피</td>\n",
       "      <td>27</td>\n",
       "      <td>0</td>\n",
       "    </tr>\n",
       "  </tbody>\n",
       "</table>\n",
       "</div>"
      ],
      "text/plain": [
       "        comment  url_id  label\n",
       "0  아 이거 웃기네 ㅋㅋㅋ      56      0\n",
       "1             슬      36      0\n",
       "2        32.3 ㄷ      17      0\n",
       "3         팬미팅이넹      56      1\n",
       "4   빠꾸가 없네 이 둠피      27      0"
      ]
     },
     "execution_count": 3,
     "metadata": {},
     "output_type": "execute_result"
    }
   ],
   "source": [
    "datasets = pd.DataFrame()\n",
    "for i in range(1,6):\n",
    "    print(i)\n",
    "    dump = pd.read_csv(\"../../data/labeled ({}).csv\".format(i), engine='python')\n",
    "    datasets = pd.concat([datasets, dump])\n",
    "datasets.head()"
   ]
  },
  {
   "cell_type": "code",
   "execution_count": 4,
   "metadata": {
    "ExecuteTime": {
     "end_time": "2019-08-09T07:06:53.588449Z",
     "start_time": "2019-08-09T07:06:53.564463Z"
    }
   },
   "outputs": [
    {
     "name": "stdout",
     "output_type": "stream",
     "text": [
      "<class 'pandas.core.frame.DataFrame'>\n",
      "Int64Index: 15000 entries, 0 to 2999\n",
      "Data columns (total 3 columns):\n",
      "comment    15000 non-null object\n",
      "url_id     15000 non-null int64\n",
      "label      15000 non-null int64\n",
      "dtypes: int64(2), object(1)\n",
      "memory usage: 468.8+ KB\n"
     ]
    }
   ],
   "source": [
    "datasets.info()"
   ]
  },
  {
   "cell_type": "code",
   "execution_count": 5,
   "metadata": {
    "ExecuteTime": {
     "end_time": "2019-08-09T07:06:53.605441Z",
     "start_time": "2019-08-09T07:06:53.593448Z"
    }
   },
   "outputs": [],
   "source": [
    "datasets.reset_index(drop=True,inplace=True)"
   ]
  },
  {
   "cell_type": "code",
   "execution_count": 6,
   "metadata": {
    "ExecuteTime": {
     "end_time": "2019-08-09T07:06:53.644417Z",
     "start_time": "2019-08-09T07:06:53.613436Z"
    }
   },
   "outputs": [],
   "source": [
    "datasets.label = datasets.label.astype('int')"
   ]
  },
  {
   "cell_type": "code",
   "execution_count": 7,
   "metadata": {
    "ExecuteTime": {
     "end_time": "2019-08-09T07:06:53.676399Z",
     "start_time": "2019-08-09T07:06:53.651416Z"
    }
   },
   "outputs": [
    {
     "data": {
      "text/plain": [
       "0.043666666666666666"
      ]
     },
     "execution_count": 7,
     "metadata": {},
     "output_type": "execute_result"
    }
   ],
   "source": [
    "len(datasets[datasets.label ==1])/ len(datasets) # 유해한 레이블의 데이터가 많이 부족함 데이터 편향ㅠㅠ"
   ]
  },
  {
   "cell_type": "code",
   "execution_count": 8,
   "metadata": {
    "ExecuteTime": {
     "end_time": "2019-08-09T07:08:08.928045Z",
     "start_time": "2019-08-09T07:08:08.919066Z"
    }
   },
   "outputs": [],
   "source": [
    "datasets.rename(columns={'comment':'chat'}, inplace=True)"
   ]
  },
  {
   "cell_type": "markdown",
   "metadata": {
    "ExecuteTime": {
     "end_time": "2019-08-06T15:38:19.687895Z",
     "start_time": "2019-08-06T15:38:19.677899Z"
    }
   },
   "source": [
    "# Tokenize\n",
    "## 형태소분석"
   ]
  },
  {
   "cell_type": "code",
   "execution_count": 9,
   "metadata": {
    "ExecuteTime": {
     "end_time": "2019-08-09T07:08:14.674755Z",
     "start_time": "2019-08-09T07:08:14.085097Z"
    }
   },
   "outputs": [
    {
     "name": "stderr",
     "output_type": "stream",
     "text": [
      "C:\\Users\\skarn\\Anaconda3\\envs\\DataAnalysis\\lib\\site-packages\\jpype\\_core.py:210: UserWarning: \n",
      "-------------------------------------------------------------------------------\n",
      "Deprecated: convertStrings was not specified when starting the JVM. The default\n",
      "behavior in JPype will be False starting in JPype 0.8. The recommended setting\n",
      "for new code is convertStrings=False.  The legacy value of True was assumed for\n",
      "this session. If you are a user of an application that reported this warning,\n",
      "please file a ticket with the developer.\n",
      "-------------------------------------------------------------------------------\n",
      "\n",
      "  \"\"\")\n"
     ]
    }
   ],
   "source": [
    "morp = Okt()"
   ]
  },
  {
   "cell_type": "code",
   "execution_count": 10,
   "metadata": {
    "ExecuteTime": {
     "end_time": "2019-08-09T07:08:51.287813Z",
     "start_time": "2019-08-09T07:08:16.922475Z"
    }
   },
   "outputs": [
    {
     "name": "stderr",
     "output_type": "stream",
     "text": [
      "100%|███████████████████████████████████████████████████████████████████████████| 15000/15000 [00:34<00:00, 436.68it/s]\n"
     ]
    }
   ],
   "source": [
    "morped = [morp.morphs(_, norm=True, stem=True) for _ in tqdm(datasets.chat)] # Stemming은 하지 않는다."
   ]
  },
  {
   "cell_type": "code",
   "execution_count": 11,
   "metadata": {
    "ExecuteTime": {
     "end_time": "2019-08-09T07:08:51.306801Z",
     "start_time": "2019-08-09T07:08:51.293807Z"
    }
   },
   "outputs": [
    {
     "data": {
      "text/plain": [
       "[['아', '이', '거', '웃기', '네', 'ㅋㅋㅋ'],\n",
       " ['슬'],\n",
       " ['32.3', 'ㄷ'],\n",
       " ['팬미팅', '이', '넹'],\n",
       " ['빠꾸', '가', '없다', '이', '두다', '피']]"
      ]
     },
     "execution_count": 11,
     "metadata": {},
     "output_type": "execute_result"
    }
   ],
   "source": [
    "morped[:5]"
   ]
  },
  {
   "cell_type": "markdown",
   "metadata": {},
   "source": [
    "## Dictionary\n",
    "최빈 형태소에 대한 단어사전 구성"
   ]
  },
  {
   "cell_type": "code",
   "execution_count": 38,
   "metadata": {
    "ExecuteTime": {
     "end_time": "2019-08-09T07:18:51.818465Z",
     "start_time": "2019-08-09T07:18:51.474665Z"
    }
   },
   "outputs": [
    {
     "name": "stdout",
     "output_type": "stream",
     "text": [
      "고빈도 단어:\n",
      "ㅋㅋㅋ :  2823\n",
      "? :  1108\n",
      "이 :  1103\n",
      "하다 :  840\n",
      "! :  395\n",
      "ㅋㅋ :  391\n",
      "가 :  384\n",
      "오다 :  363\n",
      "아 :  299\n",
      "이다 :  294\n",
      "\n",
      "단어 사전:\n",
      "0 <PAD>\n",
      "1 <OOV>\n",
      "2 ㅋㅋㅋ\n",
      "3 ?\n",
      "4 이\n",
      "5 하다\n",
      "6 !\n",
      "7 ㅋㅋ\n",
      "8 가\n",
      "9 오다\n",
      "\n",
      "단어 사전 크기:  8000\n"
     ]
    }
   ],
   "source": [
    "vocab_size = 10000\n",
    "\n",
    "pad_id = 0\n",
    "oov_id = 1\n",
    "index_offset = 1\n",
    "\n",
    "def make_vocab(sentences):\n",
    "    word_counter = Counter()\n",
    "\n",
    "    for sent in sentences:\n",
    "        word_counter.update(sent)\n",
    "\n",
    "    most_common = word_counter.most_common()\n",
    "    print(\"고빈도 단어:\")\n",
    "    for k, v in most_common[:10]:\n",
    "        print(k, \": \", v)\n",
    "\n",
    "        vocab = {\n",
    "        '<PAD>': pad_id,\n",
    "        '<OOV>': oov_id\n",
    "        }\n",
    "    for i, (word, cnt) in enumerate(most_common, start=index_offset+1):\n",
    "        vocab[word] = i\n",
    "        if len(vocab) >= vocab_size:\n",
    "            break\n",
    "\n",
    "    return vocab\n",
    "\n",
    "word_index = make_vocab(morped)\n",
    "word_inverted_index = {v:k for k, v in word_index.items()}\n",
    "\n",
    "print(\"\\n단어 사전:\")\n",
    "for i in range(0, 10):\n",
    "    print(i, word_inverted_index[i])\n",
    "\n",
    "print(\"\\n단어 사전 크기: \", len(word_index))\n",
    "\n",
    "# vocab save\n",
    "with open('./vocab/vocab_index.pickle', 'wb') as f:\n",
    "    pickle.dump(word_index, f, pickle.HIGHEST_PROTOCOL)\n",
    "with open('./vocab/vocab_inverted_index.pickle', 'wb') as f:\n",
    "    pickle.dump(word_inverted_index, f, pickle.HIGHEST_PROTOCOL)"
   ]
  },
  {
   "cell_type": "code",
   "execution_count": 39,
   "metadata": {
    "ExecuteTime": {
     "end_time": "2019-08-09T07:18:54.594877Z",
     "start_time": "2019-08-09T07:18:54.564894Z"
    }
   },
   "outputs": [
    {
     "name": "stdout",
     "output_type": "stream",
     "text": [
      "원본:  ['아', '이', '거', '웃기', '네', 'ㅋㅋㅋ']\n",
      "문자 -> 숫자:  [10, 4, 28, 946, 22, 2]\n",
      "숫자 -> 문자:  아 이 거 웃기 네 ㅋㅋㅋ\n"
     ]
    }
   ],
   "source": [
    "def index_to_text(indexes):\n",
    "    return ' '.join([word_inverted_index[i] for i in indexes])\n",
    "\n",
    "def text_to_index(tokens):\n",
    "    indexes = []\n",
    "    for tok in tokens:\n",
    "        if tok in word_index:\n",
    "            indexes.append(word_index[tok])\n",
    "        else:\n",
    "            indexes.append(oov_id)\n",
    "\n",
    "    return indexes\n",
    "\n",
    "print(\"원본: \", morped[0])\n",
    "ids = text_to_index(morped[0])\n",
    "print(\"문자 -> 숫자: \", ids)\n",
    "print(\"숫자 -> 문자: \", index_to_text(ids))"
   ]
  },
  {
   "cell_type": "markdown",
   "metadata": {},
   "source": [
    "# Padding"
   ]
  },
  {
   "cell_type": "code",
   "execution_count": 150,
   "metadata": {
    "ExecuteTime": {
     "end_time": "2019-08-09T07:44:17.159598Z",
     "start_time": "2019-08-09T07:44:16.866767Z"
    }
   },
   "outputs": [],
   "source": [
    "x_variable = [text_to_index(_) for _ in morped]\n",
    "\n",
    "sentence_size = 10\n",
    "x_padded = sequence.pad_sequences(x_variable,\n",
    "                                 maxlen=sentence_size,\n",
    "                                 truncating='post',\n",
    "                                 padding='post',\n",
    "                                 value=pad_id)"
   ]
  },
  {
   "cell_type": "code",
   "execution_count": 151,
   "metadata": {
    "ExecuteTime": {
     "end_time": "2019-08-09T07:44:18.078074Z",
     "start_time": "2019-08-09T07:44:18.067080Z"
    }
   },
   "outputs": [],
   "source": [
    "def plot_loss(history):\n",
    "    plt.figure(figsize=(6,5))\n",
    "    val = plt.plot(history.epoch, history.history['val_loss'],\n",
    "                 '--', label='Test')\n",
    "    plt.plot(history.epoch, history.history['loss'], color=val[0].get_color(),\n",
    "           label='Train')\n",
    "\n",
    "    plt.xlabel('Epochs')\n",
    "    plt.ylabel(\"Loss\")\n",
    "    plt.legend()\n",
    "\n",
    "    plt.xlim([0,max(history.epoch)])"
   ]
  },
  {
   "cell_type": "code",
   "execution_count": 152,
   "metadata": {
    "ExecuteTime": {
     "end_time": "2019-08-09T07:44:18.335930Z",
     "start_time": "2019-08-09T07:44:18.328931Z"
    }
   },
   "outputs": [],
   "source": [
    "import warnings\n",
    "warnings.filterwarnings(action='once')"
   ]
  },
  {
   "cell_type": "markdown",
   "metadata": {},
   "source": [
    "\n",
    "# 데이터 클래스 불균형 문제 해결하자"
   ]
  },
  {
   "cell_type": "code",
   "execution_count": 153,
   "metadata": {
    "ExecuteTime": {
     "end_time": "2019-08-09T07:44:19.531245Z",
     "start_time": "2019-08-09T07:44:19.524250Z"
    }
   },
   "outputs": [],
   "source": [
    "from imblearn.under_sampling import RandomUnderSampler\n",
    "from imblearn.over_sampling import RandomOverSampler"
   ]
  },
  {
   "cell_type": "markdown",
   "metadata": {},
   "source": [
    "## upsampling\n",
    "- 딥러닝은 데이터가 많을수록 좋다.\n",
    "- 보다 많은 데이터 사용을 위해 upsampling을 사용하자!"
   ]
  },
  {
   "cell_type": "code",
   "execution_count": 154,
   "metadata": {
    "ExecuteTime": {
     "end_time": "2019-08-09T07:44:21.268249Z",
     "start_time": "2019-08-09T07:44:21.229271Z"
    }
   },
   "outputs": [
    {
     "data": {
      "text/plain": [
       "(28690, 14345)"
      ]
     },
     "execution_count": 154,
     "metadata": {},
     "output_type": "execute_result"
    }
   ],
   "source": [
    "up_X, up_y = RandomOverSampler().fit_resample(x_padded, datasets.label)\n",
    "up_X_train, up_X_test, up_y_train, up_y_test = train_test_split(up_X, up_y)\n",
    "\n",
    "# 총 데이터 수 , 1 레이블 데이터 수\n",
    "len(up_y), up_y.sum()"
   ]
  },
  {
   "cell_type": "code",
   "execution_count": 155,
   "metadata": {
    "ExecuteTime": {
     "end_time": "2019-08-09T07:44:38.197563Z",
     "start_time": "2019-08-09T07:44:37.843768Z"
    }
   },
   "outputs": [
    {
     "name": "stderr",
     "output_type": "stream",
     "text": [
      "C:\\Users\\skarn\\Anaconda3\\envs\\DataAnalysis\\lib\\site-packages\\numpy\\lib\\type_check.py:546: DeprecationWarning: np.asscalar(a) is deprecated since NumPy v1.16, use a.item() instead\n",
      "  'a.item() instead', DeprecationWarning, stacklevel=1)\n"
     ]
    }
   ],
   "source": [
    "model_up = keras.Sequential([\n",
    "    keras.layers.Embedding(vocab_size, 10),\n",
    "    keras.layers.Conv1D(32, 3, padding=\"same\", activation=tf.nn.relu),\n",
    "    keras.layers.Dropout(0.5),\n",
    "    keras.layers.Conv1D(32, 3, padding=\"same\", activation=tf.nn.relu),\n",
    "    keras.layers.GlobalMaxPool1D(),\n",
    "    keras.layers.Dropout(0.5),\n",
    "    keras.layers.Dense(2, activation=tf.nn.sigmoid)\n",
    "])"
   ]
  },
  {
   "cell_type": "code",
   "execution_count": 156,
   "metadata": {
    "ExecuteTime": {
     "end_time": "2019-08-09T07:45:47.010455Z",
     "start_time": "2019-08-09T07:44:40.615181Z"
    }
   },
   "outputs": [
    {
     "name": "stdout",
     "output_type": "stream",
     "text": [
      "Train on 21517 samples, validate on 7173 samples\n",
      "Epoch 1/5\n",
      "21517/21517 [==============================] - ETA: 18:27 - loss: 0.6964 - recall_16: 0.56 - ETA: 3:47 - loss: 0.6928 - recall_16: 0.6000 - ETA: 2:25 - loss: 0.6927 - recall_16: 0.582 - ETA: 1:39 - loss: 0.6923 - recall_16: 0.567 - ETA: 1:16 - loss: 0.6928 - recall_16: 0.548 - ETA: 1:06 - loss: 0.6928 - recall_16: 0.547 - ETA: 55s - loss: 0.6932 - recall_16: 0.527 - ETA: 48s - loss: 0.6933 - recall_16: 0.51 - ETA: 44s - loss: 0.6934 - recall_16: 0.51 - ETA: 40s - loss: 0.6931 - recall_16: 0.50 - ETA: 37s - loss: 0.6932 - recall_16: 0.49 - ETA: 33s - loss: 0.6934 - recall_16: 0.48 - ETA: 30s - loss: 0.6932 - recall_16: 0.48 - ETA: 28s - loss: 0.6930 - recall_16: 0.47 - ETA: 26s - loss: 0.6927 - recall_16: 0.47 - ETA: 25s - loss: 0.6926 - recall_16: 0.47 - ETA: 23s - loss: 0.6925 - recall_16: 0.48 - ETA: 23s - loss: 0.6924 - recall_16: 0.48 - ETA: 22s - loss: 0.6923 - recall_16: 0.48 - ETA: 21s - loss: 0.6921 - recall_16: 0.48 - ETA: 20s - loss: 0.6920 - recall_16: 0.48 - ETA: 19s - loss: 0.6915 - recall_16: 0.49 - ETA: 19s - loss: 0.6913 - recall_16: 0.49 - ETA: 18s - loss: 0.6911 - recall_16: 0.49 - ETA: 17s - loss: 0.6908 - recall_16: 0.49 - ETA: 17s - loss: 0.6906 - recall_16: 0.49 - ETA: 16s - loss: 0.6904 - recall_16: 0.50 - ETA: 16s - loss: 0.6898 - recall_16: 0.50 - ETA: 16s - loss: 0.6896 - recall_16: 0.50 - ETA: 16s - loss: 0.6892 - recall_16: 0.51 - ETA: 15s - loss: 0.6885 - recall_16: 0.51 - ETA: 15s - loss: 0.6877 - recall_16: 0.51 - ETA: 15s - loss: 0.6871 - recall_16: 0.52 - ETA: 14s - loss: 0.6863 - recall_16: 0.52 - ETA: 14s - loss: 0.6854 - recall_16: 0.52 - ETA: 13s - loss: 0.6844 - recall_16: 0.53 - ETA: 13s - loss: 0.6833 - recall_16: 0.53 - ETA: 13s - loss: 0.6819 - recall_16: 0.53 - ETA: 13s - loss: 0.6802 - recall_16: 0.54 - ETA: 12s - loss: 0.6791 - recall_16: 0.54 - ETA: 12s - loss: 0.6781 - recall_16: 0.54 - ETA: 12s - loss: 0.6762 - recall_16: 0.55 - ETA: 12s - loss: 0.6753 - recall_16: 0.55 - ETA: 12s - loss: 0.6716 - recall_16: 0.55 - ETA: 12s - loss: 0.6701 - recall_16: 0.56 - ETA: 11s - loss: 0.6680 - recall_16: 0.56 - ETA: 11s - loss: 0.6661 - recall_16: 0.56 - ETA: 11s - loss: 0.6632 - recall_16: 0.57 - ETA: 11s - loss: 0.6600 - recall_16: 0.57 - ETA: 10s - loss: 0.6570 - recall_16: 0.58 - ETA: 10s - loss: 0.6554 - recall_16: 0.58 - ETA: 10s - loss: 0.6522 - recall_16: 0.59 - ETA: 10s - loss: 0.6495 - recall_16: 0.59 - ETA: 10s - loss: 0.6470 - recall_16: 0.59 - ETA: 10s - loss: 0.6438 - recall_16: 0.60 - ETA: 9s - loss: 0.6416 - recall_16: 0.6035 - ETA: 9s - loss: 0.6393 - recall_16: 0.607 - ETA: 9s - loss: 0.6362 - recall_16: 0.610 - ETA: 9s - loss: 0.6343 - recall_16: 0.613 - ETA: 9s - loss: 0.6315 - recall_16: 0.616 - ETA: 9s - loss: 0.6283 - recall_16: 0.619 - ETA: 9s - loss: 0.6260 - recall_16: 0.622 - ETA: 8s - loss: 0.6220 - recall_16: 0.627 - ETA: 8s - loss: 0.6183 - recall_16: 0.631 - ETA: 8s - loss: 0.6170 - recall_16: 0.633 - ETA: 8s - loss: 0.6132 - recall_16: 0.637 - ETA: 8s - loss: 0.6094 - recall_16: 0.641 - ETA: 8s - loss: 0.6064 - recall_16: 0.644 - ETA: 8s - loss: 0.6010 - recall_16: 0.649 - ETA: 7s - loss: 0.5968 - recall_16: 0.653 - ETA: 7s - loss: 0.5943 - recall_16: 0.655 - ETA: 7s - loss: 0.5922 - recall_16: 0.657 - ETA: 7s - loss: 0.5881 - recall_16: 0.661 - ETA: 7s - loss: 0.5851 - recall_16: 0.664 - ETA: 7s - loss: 0.5817 - recall_16: 0.667 - ETA: 7s - loss: 0.5789 - recall_16: 0.669 - ETA: 7s - loss: 0.5759 - recall_16: 0.672 - ETA: 7s - loss: 0.5732 - recall_16: 0.675 - ETA: 6s - loss: 0.5699 - recall_16: 0.677 - ETA: 6s - loss: 0.5669 - recall_16: 0.679 - ETA: 6s - loss: 0.5641 - recall_16: 0.682 - ETA: 6s - loss: 0.5612 - recall_16: 0.685 - ETA: 6s - loss: 0.5574 - recall_16: 0.688 - ETA: 6s - loss: 0.5545 - recall_16: 0.690 - ETA: 6s - loss: 0.5511 - recall_16: 0.693 - ETA: 6s - loss: 0.5485 - recall_16: 0.694 - ETA: 6s - loss: 0.5457 - recall_16: 0.697 - ETA: 6s - loss: 0.5436 - recall_16: 0.699 - ETA: 5s - loss: 0.5413 - recall_16: 0.701 - ETA: 5s - loss: 0.5380 - recall_16: 0.704 - ETA: 5s - loss: 0.5354 - recall_16: 0.706 - ETA: 5s - loss: 0.5326 - recall_16: 0.708 - ETA: 5s - loss: 0.5303 - recall_16: 0.710 - ETA: 5s - loss: 0.5279 - recall_16: 0.712 - ETA: 5s - loss: 0.5266 - recall_16: 0.714 - ETA: 5s - loss: 0.5238 - recall_16: 0.716 - ETA: 5s - loss: 0.5227 - recall_16: 0.718 - ETA: 5s - loss: 0.5208 - recall_16: 0.719 - ETA: 5s - loss: 0.5193 - recall_16: 0.721 - ETA: 4s - loss: 0.5160 - recall_16: 0.723 - ETA: 4s - loss: 0.5146 - recall_16: 0.725 - ETA: 4s - loss: 0.5136 - recall_16: 0.726 - ETA: 4s - loss: 0.5108 - recall_16: 0.728 - ETA: 4s - loss: 0.5085 - recall_16: 0.730 - ETA: 4s - loss: 0.5071 - recall_16: 0.731 - ETA: 4s - loss: 0.5066 - recall_16: 0.731 - ETA: 4s - loss: 0.5047 - recall_16: 0.733 - ETA: 4s - loss: 0.5040 - recall_16: 0.734 - ETA: 4s - loss: 0.5012 - recall_16: 0.736 - ETA: 4s - loss: 0.5003 - recall_16: 0.737 - ETA: 4s - loss: 0.4991 - recall_16: 0.738 - ETA: 4s - loss: 0.4977 - recall_16: 0.739 - ETA: 4s - loss: 0.4959 - recall_16: 0.741 - ETA: 4s - loss: 0.4940 - recall_16: 0.742 - ETA: 4s - loss: 0.4915 - recall_16: 0.744 - ETA: 3s - loss: 0.4898 - recall_16: 0.745 - ETA: 3s - loss: 0.4881 - recall_16: 0.747 - ETA: 3s - loss: 0.4862 - recall_16: 0.748 - ETA: 3s - loss: 0.4840 - recall_16: 0.749 - ETA: 3s - loss: 0.4828 - recall_16: 0.750 - ETA: 3s - loss: 0.4814 - recall_16: 0.751 - ETA: 3s - loss: 0.4802 - recall_16: 0.752 - ETA: 3s - loss: 0.4797 - recall_16: 0.752 - ETA: 3s - loss: 0.4786 - recall_16: 0.753 - ETA: 3s - loss: 0.4771 - recall_16: 0.755 - ETA: 3s - loss: 0.4757 - recall_16: 0.756 - ETA: 3s - loss: 0.4740 - recall_16: 0.757 - ETA: 3s - loss: 0.4730 - recall_16: 0.757 - ETA: 3s - loss: 0.4725 - recall_16: 0.758 - ETA: 3s - loss: 0.4700 - recall_16: 0.759 - ETA: 3s - loss: 0.4676 - recall_16: 0.761 - ETA: 3s - loss: 0.4658 - recall_16: 0.762 - ETA: 3s - loss: 0.4631 - recall_16: 0.764 - ETA: 3s - loss: 0.4613 - recall_16: 0.765 - ETA: 2s - loss: 0.4591 - recall_16: 0.767 - ETA: 2s - loss: 0.4581 - recall_16: 0.768 - ETA: 2s - loss: 0.4551 - recall_16: 0.770 - ETA: 2s - loss: 0.4544 - recall_16: 0.770 - ETA: 2s - loss: 0.4526 - recall_16: 0.772 - ETA: 2s - loss: 0.4505 - recall_16: 0.773 - ETA: 2s - loss: 0.4488 - recall_16: 0.774 - ETA: 2s - loss: 0.4472 - recall_16: 0.775 - ETA: 2s - loss: 0.4464 - recall_16: 0.776 - ETA: 2s - loss: 0.4448 - recall_16: 0.777 - ETA: 2s - loss: 0.4439 - recall_16: 0.778 - ETA: 2s - loss: 0.4428 - recall_16: 0.779 - ETA: 2s - loss: 0.4415 - recall_16: 0.780 - ETA: 1s - loss: 0.4398 - recall_16: 0.781 - ETA: 1s - loss: 0.4378 - recall_16: 0.782 - ETA: 1s - loss: 0.4371 - recall_16: 0.783 - ETA: 1s - loss: 0.4355 - recall_16: 0.784 - ETA: 1s - loss: 0.4335 - recall_16: 0.785 - ETA: 1s - loss: 0.4314 - recall_16: 0.787 - ETA: 1s - loss: 0.4301 - recall_16: 0.788 - ETA: 1s - loss: 0.4282 - recall_16: 0.789 - ETA: 1s - loss: 0.4267 - recall_16: 0.790 - ETA: 1s - loss: 0.4253 - recall_16: 0.791 - ETA: 1s - loss: 0.4235 - recall_16: 0.792 - ETA: 1s - loss: 0.4217 - recall_16: 0.793 - ETA: 1s - loss: 0.4212 - recall_16: 0.793 - ETA: 1s - loss: 0.4203 - recall_16: 0.794 - ETA: 1s - loss: 0.4194 - recall_16: 0.795 - ETA: 1s - loss: 0.4190 - recall_16: 0.795 - ETA: 1s - loss: 0.4188 - recall_16: 0.795 - ETA: 1s - loss: 0.4183 - recall_16: 0.796 - ETA: 0s - loss: 0.4170 - recall_16: 0.796 - ETA: 0s - loss: 0.4159 - recall_16: 0.797 - ETA: 0s - loss: 0.4155 - recall_16: 0.797 - ETA: 0s - loss: 0.4143 - recall_16: 0.798 - ETA: 0s - loss: 0.4136 - recall_16: 0.799 - ETA: 0s - loss: 0.4133 - recall_16: 0.799 - ETA: 0s - loss: 0.4125 - recall_16: 0.799 - ETA: 0s - loss: 0.4117 - recall_16: 0.800 - ETA: 0s - loss: 0.4114 - recall_16: 0.800 - ETA: 0s - loss: 0.4101 - recall_16: 0.801 - ETA: 0s - loss: 0.4084 - recall_16: 0.802 - ETA: 0s - loss: 0.4076 - recall_16: 0.802 - ETA: 0s - loss: 0.4063 - recall_16: 0.803 - ETA: 0s - loss: 0.4049 - recall_16: 0.804 - ETA: 0s - loss: 0.4038 - recall_16: 0.805 - ETA: 0s - loss: 0.4019 - recall_16: 0.806 - ETA: 0s - loss: 0.4007 - recall_16: 0.807 - 15s 706us/sample - loss: 0.4007 - recall_16: 0.8075 - val_loss: 0.1684 - val_recall_16: 0.9579\n"
     ]
    },
    {
     "name": "stdout",
     "output_type": "stream",
     "text": [
      "Epoch 2/5\n",
      "21517/21517 [==============================] - ETA: 8s - loss: 0.1241 - recall_16: 0.968 - ETA: 9s - loss: 0.1238 - recall_16: 0.962 - ETA: 8s - loss: 0.1823 - recall_16: 0.950 - ETA: 8s - loss: 0.1718 - recall_16: 0.950 - ETA: 10s - loss: 0.1723 - recall_16: 0.94 - ETA: 9s - loss: 0.1557 - recall_16: 0.9524 - ETA: 8s - loss: 0.1470 - recall_16: 0.956 - ETA: 8s - loss: 0.1365 - recall_16: 0.962 - ETA: 8s - loss: 0.1371 - recall_16: 0.963 - ETA: 9s - loss: 0.1440 - recall_16: 0.962 - ETA: 9s - loss: 0.1521 - recall_16: 0.960 - ETA: 9s - loss: 0.1490 - recall_16: 0.962 - ETA: 9s - loss: 0.1497 - recall_16: 0.964 - ETA: 9s - loss: 0.1448 - recall_16: 0.965 - ETA: 9s - loss: 0.1488 - recall_16: 0.964 - ETA: 9s - loss: 0.1522 - recall_16: 0.963 - ETA: 9s - loss: 0.1525 - recall_16: 0.963 - ETA: 9s - loss: 0.1514 - recall_16: 0.963 - ETA: 9s - loss: 0.1532 - recall_16: 0.962 - ETA: 9s - loss: 0.1544 - recall_16: 0.961 - ETA: 9s - loss: 0.1557 - recall_16: 0.961 - ETA: 8s - loss: 0.1543 - recall_16: 0.961 - ETA: 8s - loss: 0.1540 - recall_16: 0.960 - ETA: 8s - loss: 0.1510 - recall_16: 0.961 - ETA: 8s - loss: 0.1530 - recall_16: 0.960 - ETA: 8s - loss: 0.1500 - recall_16: 0.961 - ETA: 9s - loss: 0.1485 - recall_16: 0.961 - ETA: 8s - loss: 0.1458 - recall_16: 0.962 - ETA: 8s - loss: 0.1466 - recall_16: 0.962 - ETA: 8s - loss: 0.1459 - recall_16: 0.961 - ETA: 8s - loss: 0.1455 - recall_16: 0.961 - ETA: 8s - loss: 0.1467 - recall_16: 0.961 - ETA: 8s - loss: 0.1481 - recall_16: 0.960 - ETA: 8s - loss: 0.1491 - recall_16: 0.960 - ETA: 8s - loss: 0.1482 - recall_16: 0.960 - ETA: 8s - loss: 0.1475 - recall_16: 0.960 - ETA: 8s - loss: 0.1523 - recall_16: 0.959 - ETA: 8s - loss: 0.1523 - recall_16: 0.959 - ETA: 8s - loss: 0.1537 - recall_16: 0.958 - ETA: 8s - loss: 0.1542 - recall_16: 0.957 - ETA: 7s - loss: 0.1531 - recall_16: 0.957 - ETA: 7s - loss: 0.1511 - recall_16: 0.957 - ETA: 7s - loss: 0.1495 - recall_16: 0.958 - ETA: 7s - loss: 0.1486 - recall_16: 0.958 - ETA: 7s - loss: 0.1480 - recall_16: 0.958 - ETA: 7s - loss: 0.1483 - recall_16: 0.958 - ETA: 7s - loss: 0.1478 - recall_16: 0.958 - ETA: 7s - loss: 0.1471 - recall_16: 0.959 - ETA: 7s - loss: 0.1473 - recall_16: 0.959 - ETA: 7s - loss: 0.1480 - recall_16: 0.958 - ETA: 7s - loss: 0.1473 - recall_16: 0.958 - ETA: 7s - loss: 0.1472 - recall_16: 0.958 - ETA: 7s - loss: 0.1472 - recall_16: 0.958 - ETA: 6s - loss: 0.1466 - recall_16: 0.958 - ETA: 6s - loss: 0.1454 - recall_16: 0.959 - ETA: 6s - loss: 0.1452 - recall_16: 0.959 - ETA: 6s - loss: 0.1463 - recall_16: 0.958 - ETA: 6s - loss: 0.1461 - recall_16: 0.958 - ETA: 6s - loss: 0.1450 - recall_16: 0.958 - ETA: 6s - loss: 0.1470 - recall_16: 0.958 - ETA: 6s - loss: 0.1470 - recall_16: 0.958 - ETA: 6s - loss: 0.1461 - recall_16: 0.958 - ETA: 6s - loss: 0.1443 - recall_16: 0.959 - ETA: 6s - loss: 0.1432 - recall_16: 0.960 - ETA: 6s - loss: 0.1424 - recall_16: 0.960 - ETA: 6s - loss: 0.1434 - recall_16: 0.959 - ETA: 5s - loss: 0.1437 - recall_16: 0.959 - ETA: 5s - loss: 0.1430 - recall_16: 0.959 - ETA: 5s - loss: 0.1430 - recall_16: 0.959 - ETA: 5s - loss: 0.1449 - recall_16: 0.959 - ETA: 5s - loss: 0.1440 - recall_16: 0.959 - ETA: 5s - loss: 0.1447 - recall_16: 0.959 - ETA: 5s - loss: 0.1437 - recall_16: 0.959 - ETA: 5s - loss: 0.1429 - recall_16: 0.960 - ETA: 5s - loss: 0.1438 - recall_16: 0.959 - ETA: 5s - loss: 0.1431 - recall_16: 0.960 - ETA: 5s - loss: 0.1441 - recall_16: 0.959 - ETA: 5s - loss: 0.1431 - recall_16: 0.960 - ETA: 5s - loss: 0.1433 - recall_16: 0.960 - ETA: 5s - loss: 0.1433 - recall_16: 0.959 - ETA: 5s - loss: 0.1429 - recall_16: 0.960 - ETA: 5s - loss: 0.1424 - recall_16: 0.960 - ETA: 4s - loss: 0.1411 - recall_16: 0.960 - ETA: 4s - loss: 0.1402 - recall_16: 0.960 - ETA: 4s - loss: 0.1398 - recall_16: 0.960 - ETA: 4s - loss: 0.1404 - recall_16: 0.960 - ETA: 4s - loss: 0.1407 - recall_16: 0.961 - ETA: 4s - loss: 0.1410 - recall_16: 0.960 - ETA: 4s - loss: 0.1411 - recall_16: 0.960 - ETA: 4s - loss: 0.1407 - recall_16: 0.960 - ETA: 4s - loss: 0.1413 - recall_16: 0.960 - ETA: 4s - loss: 0.1411 - recall_16: 0.960 - ETA: 4s - loss: 0.1406 - recall_16: 0.960 - ETA: 4s - loss: 0.1402 - recall_16: 0.960 - ETA: 4s - loss: 0.1398 - recall_16: 0.960 - ETA: 3s - loss: 0.1398 - recall_16: 0.960 - ETA: 3s - loss: 0.1402 - recall_16: 0.960 - ETA: 3s - loss: 0.1397 - recall_16: 0.960 - ETA: 3s - loss: 0.1399 - recall_16: 0.960 - ETA: 3s - loss: 0.1394 - recall_16: 0.960 - ETA: 3s - loss: 0.1387 - recall_16: 0.960 - ETA: 3s - loss: 0.1386 - recall_16: 0.960 - ETA: 3s - loss: 0.1377 - recall_16: 0.960 - ETA: 3s - loss: 0.1377 - recall_16: 0.960 - ETA: 3s - loss: 0.1375 - recall_16: 0.960 - ETA: 3s - loss: 0.1374 - recall_16: 0.960 - ETA: 3s - loss: 0.1380 - recall_16: 0.960 - ETA: 3s - loss: 0.1383 - recall_16: 0.960 - ETA: 3s - loss: 0.1375 - recall_16: 0.960 - ETA: 3s - loss: 0.1371 - recall_16: 0.960 - ETA: 2s - loss: 0.1366 - recall_16: 0.961 - ETA: 2s - loss: 0.1364 - recall_16: 0.961 - ETA: 2s - loss: 0.1364 - recall_16: 0.961 - ETA: 2s - loss: 0.1362 - recall_16: 0.961 - ETA: 2s - loss: 0.1362 - recall_16: 0.961 - ETA: 2s - loss: 0.1359 - recall_16: 0.961 - ETA: 2s - loss: 0.1356 - recall_16: 0.961 - ETA: 2s - loss: 0.1358 - recall_16: 0.960 - ETA: 2s - loss: 0.1362 - recall_16: 0.960 - ETA: 2s - loss: 0.1360 - recall_16: 0.961 - ETA: 2s - loss: 0.1358 - recall_16: 0.961 - ETA: 2s - loss: 0.1356 - recall_16: 0.961 - ETA: 2s - loss: 0.1356 - recall_16: 0.961 - ETA: 2s - loss: 0.1351 - recall_16: 0.961 - ETA: 2s - loss: 0.1353 - recall_16: 0.961 - ETA: 2s - loss: 0.1348 - recall_16: 0.961 - ETA: 2s - loss: 0.1347 - recall_16: 0.961 - ETA: 2s - loss: 0.1343 - recall_16: 0.961 - ETA: 2s - loss: 0.1342 - recall_16: 0.961 - ETA: 1s - loss: 0.1350 - recall_16: 0.961 - ETA: 1s - loss: 0.1347 - recall_16: 0.961 - ETA: 1s - loss: 0.1347 - recall_16: 0.961 - ETA: 1s - loss: 0.1347 - recall_16: 0.961 - ETA: 1s - loss: 0.1345 - recall_16: 0.961 - ETA: 1s - loss: 0.1345 - recall_16: 0.961 - ETA: 1s - loss: 0.1343 - recall_16: 0.961 - ETA: 1s - loss: 0.1338 - recall_16: 0.961 - ETA: 1s - loss: 0.1336 - recall_16: 0.961 - ETA: 1s - loss: 0.1335 - recall_16: 0.961 - ETA: 1s - loss: 0.1333 - recall_16: 0.961 - ETA: 1s - loss: 0.1328 - recall_16: 0.961 - ETA: 1s - loss: 0.1325 - recall_16: 0.961 - ETA: 1s - loss: 0.1321 - recall_16: 0.962 - ETA: 1s - loss: 0.1319 - recall_16: 0.962 - ETA: 1s - loss: 0.1319 - recall_16: 0.962 - ETA: 1s - loss: 0.1315 - recall_16: 0.962 - ETA: 1s - loss: 0.1315 - recall_16: 0.962 - ETA: 0s - loss: 0.1320 - recall_16: 0.962 - ETA: 0s - loss: 0.1316 - recall_16: 0.962 - ETA: 0s - loss: 0.1325 - recall_16: 0.962 - ETA: 0s - loss: 0.1326 - recall_16: 0.962 - ETA: 0s - loss: 0.1323 - recall_16: 0.962 - ETA: 0s - loss: 0.1329 - recall_16: 0.962 - ETA: 0s - loss: 0.1327 - recall_16: 0.962 - ETA: 0s - loss: 0.1324 - recall_16: 0.962 - ETA: 0s - loss: 0.1321 - recall_16: 0.962 - ETA: 0s - loss: 0.1319 - recall_16: 0.963 - ETA: 0s - loss: 0.1314 - recall_16: 0.963 - ETA: 0s - loss: 0.1312 - recall_16: 0.963 - ETA: 0s - loss: 0.1311 - recall_16: 0.963 - ETA: 0s - loss: 0.1313 - recall_16: 0.963 - ETA: 0s - loss: 0.1312 - recall_16: 0.963 - ETA: 0s - loss: 0.1308 - recall_16: 0.963 - ETA: 0s - loss: 0.1305 - recall_16: 0.963 - ETA: 0s - loss: 0.1302 - recall_16: 0.963 - ETA: 0s - loss: 0.1301 - recall_16: 0.963 - 10s 472us/sample - loss: 0.1302 - recall_16: 0.9635 - val_loss: 0.0996 - val_recall_16: 0.9732\n",
      "Epoch 3/5\n"
     ]
    },
    {
     "name": "stdout",
     "output_type": "stream",
     "text": [
      "21184/21517 [============================>.] - ETA: 7s - loss: 0.0156 - recall_16: 1.000 - ETA: 8s - loss: 0.0546 - recall_16: 0.981 - ETA: 8s - loss: 0.0616 - recall_16: 0.975 - ETA: 9s - loss: 0.0565 - recall_16: 0.976 - ETA: 9s - loss: 0.0615 - recall_16: 0.976 - ETA: 9s - loss: 0.0591 - recall_16: 0.979 - ETA: 9s - loss: 0.0664 - recall_16: 0.980 - ETA: 9s - loss: 0.0728 - recall_16: 0.976 - ETA: 9s - loss: 0.0666 - recall_16: 0.979 - ETA: 9s - loss: 0.0692 - recall_16: 0.978 - ETA: 9s - loss: 0.0679 - recall_16: 0.979 - ETA: 8s - loss: 0.0671 - recall_16: 0.979 - ETA: 8s - loss: 0.0649 - recall_16: 0.980 - ETA: 8s - loss: 0.0663 - recall_16: 0.979 - ETA: 8s - loss: 0.0654 - recall_16: 0.979 - ETA: 8s - loss: 0.0629 - recall_16: 0.981 - ETA: 8s - loss: 0.0626 - recall_16: 0.981 - ETA: 8s - loss: 0.0623 - recall_16: 0.981 - ETA: 8s - loss: 0.0620 - recall_16: 0.981 - ETA: 8s - loss: 0.0638 - recall_16: 0.980 - ETA: 9s - loss: 0.0633 - recall_16: 0.981 - ETA: 9s - loss: 0.0624 - recall_16: 0.981 - ETA: 9s - loss: 0.0651 - recall_16: 0.980 - ETA: 9s - loss: 0.0675 - recall_16: 0.980 - ETA: 9s - loss: 0.0687 - recall_16: 0.981 - ETA: 9s - loss: 0.0681 - recall_16: 0.981 - ETA: 9s - loss: 0.0678 - recall_16: 0.981 - ETA: 9s - loss: 0.0671 - recall_16: 0.981 - ETA: 9s - loss: 0.0661 - recall_16: 0.981 - ETA: 9s - loss: 0.0658 - recall_16: 0.981 - ETA: 9s - loss: 0.0646 - recall_16: 0.982 - ETA: 9s - loss: 0.0652 - recall_16: 0.982 - ETA: 9s - loss: 0.0687 - recall_16: 0.981 - ETA: 8s - loss: 0.0701 - recall_16: 0.981 - ETA: 8s - loss: 0.0744 - recall_16: 0.980 - ETA: 8s - loss: 0.0735 - recall_16: 0.980 - ETA: 8s - loss: 0.0740 - recall_16: 0.980 - ETA: 8s - loss: 0.0725 - recall_16: 0.980 - ETA: 8s - loss: 0.0724 - recall_16: 0.980 - ETA: 8s - loss: 0.0724 - recall_16: 0.980 - ETA: 8s - loss: 0.0723 - recall_16: 0.980 - ETA: 8s - loss: 0.0714 - recall_16: 0.980 - ETA: 8s - loss: 0.0708 - recall_16: 0.980 - ETA: 8s - loss: 0.0706 - recall_16: 0.980 - ETA: 8s - loss: 0.0698 - recall_16: 0.980 - ETA: 8s - loss: 0.0716 - recall_16: 0.980 - ETA: 8s - loss: 0.0726 - recall_16: 0.980 - ETA: 8s - loss: 0.0734 - recall_16: 0.981 - ETA: 8s - loss: 0.0760 - recall_16: 0.981 - ETA: 8s - loss: 0.0753 - recall_16: 0.981 - ETA: 7s - loss: 0.0745 - recall_16: 0.981 - ETA: 7s - loss: 0.0748 - recall_16: 0.980 - ETA: 7s - loss: 0.0740 - recall_16: 0.981 - ETA: 7s - loss: 0.0754 - recall_16: 0.980 - ETA: 7s - loss: 0.0747 - recall_16: 0.980 - ETA: 7s - loss: 0.0744 - recall_16: 0.981 - ETA: 7s - loss: 0.0739 - recall_16: 0.981 - ETA: 7s - loss: 0.0737 - recall_16: 0.981 - ETA: 7s - loss: 0.0732 - recall_16: 0.981 - ETA: 7s - loss: 0.0727 - recall_16: 0.981 - ETA: 7s - loss: 0.0726 - recall_16: 0.981 - ETA: 7s - loss: 0.0718 - recall_16: 0.981 - ETA: 7s - loss: 0.0716 - recall_16: 0.981 - ETA: 7s - loss: 0.0716 - recall_16: 0.981 - ETA: 7s - loss: 0.0711 - recall_16: 0.981 - ETA: 7s - loss: 0.0706 - recall_16: 0.981 - ETA: 6s - loss: 0.0718 - recall_16: 0.980 - ETA: 6s - loss: 0.0722 - recall_16: 0.980 - ETA: 6s - loss: 0.0719 - recall_16: 0.980 - ETA: 6s - loss: 0.0725 - recall_16: 0.980 - ETA: 6s - loss: 0.0731 - recall_16: 0.980 - ETA: 6s - loss: 0.0729 - recall_16: 0.980 - ETA: 6s - loss: 0.0728 - recall_16: 0.980 - ETA: 6s - loss: 0.0732 - recall_16: 0.979 - ETA: 6s - loss: 0.0726 - recall_16: 0.980 - ETA: 6s - loss: 0.0719 - recall_16: 0.980 - ETA: 6s - loss: 0.0712 - recall_16: 0.980 - ETA: 6s - loss: 0.0718 - recall_16: 0.980 - ETA: 6s - loss: 0.0716 - recall_16: 0.980 - ETA: 5s - loss: 0.0722 - recall_16: 0.979 - ETA: 5s - loss: 0.0718 - recall_16: 0.980 - ETA: 5s - loss: 0.0726 - recall_16: 0.980 - ETA: 5s - loss: 0.0733 - recall_16: 0.980 - ETA: 5s - loss: 0.0733 - recall_16: 0.980 - ETA: 5s - loss: 0.0732 - recall_16: 0.980 - ETA: 5s - loss: 0.0733 - recall_16: 0.979 - ETA: 5s - loss: 0.0735 - recall_16: 0.979 - ETA: 5s - loss: 0.0744 - recall_16: 0.979 - ETA: 5s - loss: 0.0748 - recall_16: 0.979 - ETA: 5s - loss: 0.0748 - recall_16: 0.979 - ETA: 5s - loss: 0.0748 - recall_16: 0.979 - ETA: 5s - loss: 0.0748 - recall_16: 0.979 - ETA: 5s - loss: 0.0748 - recall_16: 0.979 - ETA: 5s - loss: 0.0748 - recall_16: 0.979 - ETA: 5s - loss: 0.0748 - recall_16: 0.979 - ETA: 5s - loss: 0.0750 - recall_16: 0.978 - ETA: 5s - loss: 0.0753 - recall_16: 0.978 - ETA: 5s - loss: 0.0757 - recall_16: 0.978 - ETA: 5s - loss: 0.0752 - recall_16: 0.978 - ETA: 5s - loss: 0.0753 - recall_16: 0.978 - ETA: 5s - loss: 0.0758 - recall_16: 0.978 - ETA: 5s - loss: 0.0758 - recall_16: 0.978 - ETA: 5s - loss: 0.0761 - recall_16: 0.978 - ETA: 5s - loss: 0.0758 - recall_16: 0.978 - ETA: 5s - loss: 0.0759 - recall_16: 0.978 - ETA: 5s - loss: 0.0762 - recall_16: 0.978 - ETA: 4s - loss: 0.0762 - recall_16: 0.978 - ETA: 4s - loss: 0.0775 - recall_16: 0.978 - ETA: 4s - loss: 0.0776 - recall_16: 0.978 - ETA: 4s - loss: 0.0777 - recall_16: 0.978 - ETA: 4s - loss: 0.0775 - recall_16: 0.978 - ETA: 4s - loss: 0.0773 - recall_16: 0.978 - ETA: 4s - loss: 0.0778 - recall_16: 0.978 - ETA: 4s - loss: 0.0775 - recall_16: 0.978 - ETA: 4s - loss: 0.0774 - recall_16: 0.978 - ETA: 4s - loss: 0.0770 - recall_16: 0.978 - ETA: 4s - loss: 0.0770 - recall_16: 0.978 - ETA: 4s - loss: 0.0767 - recall_16: 0.978 - ETA: 4s - loss: 0.0763 - recall_16: 0.978 - ETA: 4s - loss: 0.0767 - recall_16: 0.978 - ETA: 4s - loss: 0.0764 - recall_16: 0.978 - ETA: 4s - loss: 0.0761 - recall_16: 0.978 - ETA: 4s - loss: 0.0762 - recall_16: 0.978 - ETA: 4s - loss: 0.0762 - recall_16: 0.978 - ETA: 3s - loss: 0.0761 - recall_16: 0.978 - ETA: 3s - loss: 0.0766 - recall_16: 0.978 - ETA: 3s - loss: 0.0769 - recall_16: 0.977 - ETA: 3s - loss: 0.0771 - recall_16: 0.977 - ETA: 3s - loss: 0.0768 - recall_16: 0.978 - ETA: 3s - loss: 0.0764 - recall_16: 0.978 - ETA: 3s - loss: 0.0763 - recall_16: 0.978 - ETA: 3s - loss: 0.0760 - recall_16: 0.978 - ETA: 3s - loss: 0.0759 - recall_16: 0.978 - ETA: 3s - loss: 0.0762 - recall_16: 0.978 - ETA: 3s - loss: 0.0761 - recall_16: 0.978 - ETA: 3s - loss: 0.0759 - recall_16: 0.978 - ETA: 3s - loss: 0.0769 - recall_16: 0.977 - ETA: 3s - loss: 0.0767 - recall_16: 0.978 - ETA: 3s - loss: 0.0777 - recall_16: 0.978 - ETA: 2s - loss: 0.0774 - recall_16: 0.978 - ETA: 2s - loss: 0.0773 - recall_16: 0.978 - ETA: 2s - loss: 0.0771 - recall_16: 0.978 - ETA: 2s - loss: 0.0774 - recall_16: 0.977 - ETA: 2s - loss: 0.0773 - recall_16: 0.978 - ETA: 2s - loss: 0.0776 - recall_16: 0.977 - ETA: 2s - loss: 0.0773 - recall_16: 0.978 - ETA: 2s - loss: 0.0772 - recall_16: 0.978 - ETA: 2s - loss: 0.0770 - recall_16: 0.978 - ETA: 2s - loss: 0.0775 - recall_16: 0.977 - ETA: 2s - loss: 0.0772 - recall_16: 0.978 - ETA: 2s - loss: 0.0776 - recall_16: 0.977 - ETA: 2s - loss: 0.0773 - recall_16: 0.978 - ETA: 2s - loss: 0.0772 - recall_16: 0.978 - ETA: 2s - loss: 0.0771 - recall_16: 0.978 - ETA: 2s - loss: 0.0771 - recall_16: 0.978 - ETA: 1s - loss: 0.0769 - recall_16: 0.978 - ETA: 1s - loss: 0.0767 - recall_16: 0.978 - ETA: 1s - loss: 0.0770 - recall_16: 0.978 - ETA: 1s - loss: 0.0767 - recall_16: 0.978 - ETA: 1s - loss: 0.0769 - recall_16: 0.978 - ETA: 1s - loss: 0.0767 - recall_16: 0.978 - ETA: 1s - loss: 0.0767 - recall_16: 0.978 - ETA: 1s - loss: 0.0768 - recall_16: 0.978 - ETA: 1s - loss: 0.0770 - recall_16: 0.978 - ETA: 1s - loss: 0.0768 - recall_16: 0.978 - ETA: 1s - loss: 0.0765 - recall_16: 0.978 - ETA: 1s - loss: 0.0765 - recall_16: 0.978 - ETA: 1s - loss: 0.0763 - recall_16: 0.978 - ETA: 1s - loss: 0.0763 - recall_16: 0.978 - ETA: 1s - loss: 0.0762 - recall_16: 0.978 - ETA: 0s - loss: 0.0760 - recall_16: 0.978 - ETA: 0s - loss: 0.0759 - recall_16: 0.978 - ETA: 0s - loss: 0.0759 - recall_16: 0.978 - ETA: 0s - loss: 0.0758 - recall_16: 0.978 - ETA: 0s - loss: 0.0758 - recall_16: 0.978 - ETA: 0s - loss: 0.0764 - recall_16: 0.978 - ETA: 0s - loss: 0.0762 - recall_16: 0.978 - ETA: 0s - loss: 0.0760 - recall_16: 0.978 - ETA: 0s - loss: 0.0761 - recall_16: 0.978 - ETA: 0s - loss: 0.0761 - recall_16: 0.978 - ETA: 0s - loss: 0.0759 - recall_16: 0.978 - ETA: 0s - loss: 0.0757 - recall_16: 0.978 - ETA: 0s - loss: 0.0755 - recall_16: 0.978 - ETA: 0s - loss: 0.0755 - recall_16: 0.978 - ETA: 0s - loss: 0.0754 - recall_16: 0.978 - ETA: 0s - loss: 0.0754 - recall_16: 0.9783"
     ]
    },
    {
     "name": "stdout",
     "output_type": "stream",
     "text": [
      "21517/21517 [==============================] - ETA: 0s - loss: 0.0754 - recall_16: 0.978 - ETA: 0s - loss: 0.0756 - recall_16: 0.978 - 12s 544us/sample - loss: 0.0754 - recall_16: 0.9783 - val_loss: 0.0950 - val_recall_16: 0.9770\n",
      "Epoch 4/5\n",
      "21517/21517 [==============================] - ETA: 8s - loss: 0.0033 - recall_16: 1.000 - ETA: 10s - loss: 0.0496 - recall_16: 0.99 - ETA: 11s - loss: 0.0546 - recall_16: 0.97 - ETA: 9s - loss: 0.0557 - recall_16: 0.9792 - ETA: 9s - loss: 0.0615 - recall_16: 0.978 - ETA: 9s - loss: 0.0764 - recall_16: 0.976 - ETA: 9s - loss: 0.0692 - recall_16: 0.978 - ETA: 9s - loss: 0.0630 - recall_16: 0.981 - ETA: 8s - loss: 0.0674 - recall_16: 0.980 - ETA: 8s - loss: 0.0616 - recall_16: 0.982 - ETA: 8s - loss: 0.0627 - recall_16: 0.981 - ETA: 8s - loss: 0.0626 - recall_16: 0.982 - ETA: 8s - loss: 0.0593 - recall_16: 0.983 - ETA: 8s - loss: 0.0582 - recall_16: 0.983 - ETA: 8s - loss: 0.0569 - recall_16: 0.983 - ETA: 8s - loss: 0.0553 - recall_16: 0.983 - ETA: 8s - loss: 0.0547 - recall_16: 0.984 - ETA: 8s - loss: 0.0527 - recall_16: 0.985 - ETA: 8s - loss: 0.0566 - recall_16: 0.984 - ETA: 8s - loss: 0.0551 - recall_16: 0.985 - ETA: 8s - loss: 0.0543 - recall_16: 0.985 - ETA: 8s - loss: 0.0536 - recall_16: 0.985 - ETA: 8s - loss: 0.0529 - recall_16: 0.985 - ETA: 8s - loss: 0.0531 - recall_16: 0.985 - ETA: 7s - loss: 0.0543 - recall_16: 0.984 - ETA: 8s - loss: 0.0539 - recall_16: 0.984 - ETA: 7s - loss: 0.0539 - recall_16: 0.984 - ETA: 7s - loss: 0.0533 - recall_16: 0.984 - ETA: 7s - loss: 0.0546 - recall_16: 0.984 - ETA: 7s - loss: 0.0555 - recall_16: 0.984 - ETA: 7s - loss: 0.0560 - recall_16: 0.983 - ETA: 7s - loss: 0.0547 - recall_16: 0.984 - ETA: 7s - loss: 0.0541 - recall_16: 0.984 - ETA: 7s - loss: 0.0543 - recall_16: 0.984 - ETA: 7s - loss: 0.0544 - recall_16: 0.984 - ETA: 7s - loss: 0.0550 - recall_16: 0.983 - ETA: 7s - loss: 0.0546 - recall_16: 0.983 - ETA: 7s - loss: 0.0542 - recall_16: 0.984 - ETA: 7s - loss: 0.0535 - recall_16: 0.984 - ETA: 6s - loss: 0.0539 - recall_16: 0.983 - ETA: 6s - loss: 0.0532 - recall_16: 0.983 - ETA: 6s - loss: 0.0529 - recall_16: 0.984 - ETA: 6s - loss: 0.0522 - recall_16: 0.984 - ETA: 6s - loss: 0.0519 - recall_16: 0.984 - ETA: 6s - loss: 0.0512 - recall_16: 0.984 - ETA: 6s - loss: 0.0506 - recall_16: 0.985 - ETA: 6s - loss: 0.0502 - recall_16: 0.985 - ETA: 6s - loss: 0.0505 - recall_16: 0.985 - ETA: 6s - loss: 0.0506 - recall_16: 0.985 - ETA: 6s - loss: 0.0520 - recall_16: 0.984 - ETA: 6s - loss: 0.0523 - recall_16: 0.984 - ETA: 6s - loss: 0.0521 - recall_16: 0.984 - ETA: 6s - loss: 0.0524 - recall_16: 0.984 - ETA: 6s - loss: 0.0533 - recall_16: 0.984 - ETA: 6s - loss: 0.0529 - recall_16: 0.984 - ETA: 6s - loss: 0.0534 - recall_16: 0.984 - ETA: 6s - loss: 0.0529 - recall_16: 0.984 - ETA: 6s - loss: 0.0536 - recall_16: 0.984 - ETA: 6s - loss: 0.0534 - recall_16: 0.984 - ETA: 6s - loss: 0.0531 - recall_16: 0.984 - ETA: 6s - loss: 0.0531 - recall_16: 0.984 - ETA: 6s - loss: 0.0538 - recall_16: 0.984 - ETA: 6s - loss: 0.0534 - recall_16: 0.984 - ETA: 6s - loss: 0.0538 - recall_16: 0.984 - ETA: 6s - loss: 0.0532 - recall_16: 0.984 - ETA: 5s - loss: 0.0542 - recall_16: 0.984 - ETA: 5s - loss: 0.0541 - recall_16: 0.984 - ETA: 5s - loss: 0.0550 - recall_16: 0.984 - ETA: 5s - loss: 0.0549 - recall_16: 0.984 - ETA: 5s - loss: 0.0546 - recall_16: 0.984 - ETA: 5s - loss: 0.0540 - recall_16: 0.984 - ETA: 5s - loss: 0.0534 - recall_16: 0.984 - ETA: 5s - loss: 0.0534 - recall_16: 0.984 - ETA: 5s - loss: 0.0549 - recall_16: 0.984 - ETA: 5s - loss: 0.0550 - recall_16: 0.984 - ETA: 5s - loss: 0.0552 - recall_16: 0.984 - ETA: 5s - loss: 0.0549 - recall_16: 0.984 - ETA: 5s - loss: 0.0545 - recall_16: 0.984 - ETA: 5s - loss: 0.0538 - recall_16: 0.984 - ETA: 5s - loss: 0.0535 - recall_16: 0.985 - ETA: 5s - loss: 0.0533 - recall_16: 0.985 - ETA: 5s - loss: 0.0530 - recall_16: 0.985 - ETA: 5s - loss: 0.0525 - recall_16: 0.985 - ETA: 5s - loss: 0.0520 - recall_16: 0.985 - ETA: 5s - loss: 0.0517 - recall_16: 0.985 - ETA: 4s - loss: 0.0515 - recall_16: 0.985 - ETA: 4s - loss: 0.0512 - recall_16: 0.985 - ETA: 4s - loss: 0.0513 - recall_16: 0.985 - ETA: 4s - loss: 0.0511 - recall_16: 0.985 - ETA: 4s - loss: 0.0507 - recall_16: 0.985 - ETA: 4s - loss: 0.0510 - recall_16: 0.985 - ETA: 4s - loss: 0.0510 - recall_16: 0.985 - ETA: 4s - loss: 0.0509 - recall_16: 0.985 - ETA: 4s - loss: 0.0511 - recall_16: 0.985 - ETA: 4s - loss: 0.0508 - recall_16: 0.985 - ETA: 4s - loss: 0.0507 - recall_16: 0.985 - ETA: 4s - loss: 0.0504 - recall_16: 0.985 - ETA: 4s - loss: 0.0502 - recall_16: 0.985 - ETA: 4s - loss: 0.0501 - recall_16: 0.985 - ETA: 4s - loss: 0.0502 - recall_16: 0.985 - ETA: 4s - loss: 0.0501 - recall_16: 0.985 - ETA: 4s - loss: 0.0514 - recall_16: 0.985 - ETA: 4s - loss: 0.0511 - recall_16: 0.985 - ETA: 4s - loss: 0.0508 - recall_16: 0.985 - ETA: 3s - loss: 0.0512 - recall_16: 0.985 - ETA: 3s - loss: 0.0511 - recall_16: 0.985 - ETA: 3s - loss: 0.0508 - recall_16: 0.985 - ETA: 3s - loss: 0.0507 - recall_16: 0.985 - ETA: 3s - loss: 0.0512 - recall_16: 0.985 - ETA: 3s - loss: 0.0512 - recall_16: 0.985 - ETA: 3s - loss: 0.0512 - recall_16: 0.985 - ETA: 3s - loss: 0.0508 - recall_16: 0.985 - ETA: 3s - loss: 0.0520 - recall_16: 0.985 - ETA: 3s - loss: 0.0530 - recall_16: 0.985 - ETA: 3s - loss: 0.0532 - recall_16: 0.985 - ETA: 3s - loss: 0.0535 - recall_16: 0.985 - ETA: 3s - loss: 0.0534 - recall_16: 0.985 - ETA: 3s - loss: 0.0539 - recall_16: 0.985 - ETA: 3s - loss: 0.0536 - recall_16: 0.985 - ETA: 2s - loss: 0.0535 - recall_16: 0.985 - ETA: 2s - loss: 0.0539 - recall_16: 0.985 - ETA: 2s - loss: 0.0545 - recall_16: 0.984 - ETA: 2s - loss: 0.0545 - recall_16: 0.984 - ETA: 2s - loss: 0.0544 - recall_16: 0.984 - ETA: 2s - loss: 0.0542 - recall_16: 0.984 - ETA: 2s - loss: 0.0547 - recall_16: 0.984 - ETA: 2s - loss: 0.0551 - recall_16: 0.984 - ETA: 2s - loss: 0.0561 - recall_16: 0.984 - ETA: 2s - loss: 0.0560 - recall_16: 0.984 - ETA: 2s - loss: 0.0559 - recall_16: 0.984 - ETA: 2s - loss: 0.0557 - recall_16: 0.984 - ETA: 2s - loss: 0.0562 - recall_16: 0.984 - ETA: 2s - loss: 0.0567 - recall_16: 0.984 - ETA: 2s - loss: 0.0564 - recall_16: 0.984 - ETA: 2s - loss: 0.0563 - recall_16: 0.984 - ETA: 2s - loss: 0.0567 - recall_16: 0.984 - ETA: 2s - loss: 0.0567 - recall_16: 0.984 - ETA: 1s - loss: 0.0566 - recall_16: 0.984 - ETA: 1s - loss: 0.0563 - recall_16: 0.984 - ETA: 1s - loss: 0.0562 - recall_16: 0.984 - ETA: 1s - loss: 0.0564 - recall_16: 0.984 - ETA: 1s - loss: 0.0566 - recall_16: 0.984 - ETA: 1s - loss: 0.0564 - recall_16: 0.984 - ETA: 1s - loss: 0.0564 - recall_16: 0.984 - ETA: 1s - loss: 0.0562 - recall_16: 0.984 - ETA: 1s - loss: 0.0570 - recall_16: 0.983 - ETA: 1s - loss: 0.0569 - recall_16: 0.983 - ETA: 1s - loss: 0.0568 - recall_16: 0.983 - ETA: 1s - loss: 0.0569 - recall_16: 0.983 - ETA: 1s - loss: 0.0570 - recall_16: 0.983 - ETA: 1s - loss: 0.0568 - recall_16: 0.983 - ETA: 1s - loss: 0.0572 - recall_16: 0.983 - ETA: 0s - loss: 0.0570 - recall_16: 0.983 - ETA: 0s - loss: 0.0575 - recall_16: 0.983 - ETA: 0s - loss: 0.0574 - recall_16: 0.983 - ETA: 0s - loss: 0.0572 - recall_16: 0.983 - ETA: 0s - loss: 0.0581 - recall_16: 0.983 - ETA: 0s - loss: 0.0579 - recall_16: 0.983 - ETA: 0s - loss: 0.0579 - recall_16: 0.983 - ETA: 0s - loss: 0.0577 - recall_16: 0.983 - ETA: 0s - loss: 0.0576 - recall_16: 0.983 - ETA: 0s - loss: 0.0572 - recall_16: 0.983 - ETA: 0s - loss: 0.0571 - recall_16: 0.983 - ETA: 0s - loss: 0.0568 - recall_16: 0.983 - ETA: 0s - loss: 0.0564 - recall_16: 0.984 - ETA: 0s - loss: 0.0563 - recall_16: 0.984 - ETA: 0s - loss: 0.0560 - recall_16: 0.984 - ETA: 0s - loss: 0.0562 - recall_16: 0.984 - ETA: 0s - loss: 0.0560 - recall_16: 0.984 - 10s 481us/sample - loss: 0.0559 - recall_16: 0.9843 - val_loss: 0.0976 - val_recall_16: 0.9770\n",
      "Epoch 5/5\n"
     ]
    },
    {
     "name": "stdout",
     "output_type": "stream",
     "text": [
      "21517/21517 [==============================] - ETA: 7s - loss: 0.0185 - recall_16: 1.000 - ETA: 7s - loss: 0.0421 - recall_16: 0.994 - ETA: 8s - loss: 0.0341 - recall_16: 0.993 - ETA: 8s - loss: 0.0406 - recall_16: 0.991 - ETA: 8s - loss: 0.0366 - recall_16: 0.991 - ETA: 8s - loss: 0.0411 - recall_16: 0.990 - ETA: 8s - loss: 0.0411 - recall_16: 0.987 - ETA: 8s - loss: 0.0445 - recall_16: 0.985 - ETA: 8s - loss: 0.0431 - recall_16: 0.986 - ETA: 8s - loss: 0.0395 - recall_16: 0.987 - ETA: 8s - loss: 0.0392 - recall_16: 0.987 - ETA: 8s - loss: 0.0383 - recall_16: 0.987 - ETA: 8s - loss: 0.0380 - recall_16: 0.988 - ETA: 8s - loss: 0.0378 - recall_16: 0.988 - ETA: 8s - loss: 0.0365 - recall_16: 0.989 - ETA: 8s - loss: 0.0386 - recall_16: 0.988 - ETA: 8s - loss: 0.0378 - recall_16: 0.989 - ETA: 8s - loss: 0.0368 - recall_16: 0.989 - ETA: 8s - loss: 0.0363 - recall_16: 0.989 - ETA: 8s - loss: 0.0398 - recall_16: 0.988 - ETA: 8s - loss: 0.0395 - recall_16: 0.988 - ETA: 7s - loss: 0.0388 - recall_16: 0.988 - ETA: 7s - loss: 0.0381 - recall_16: 0.989 - ETA: 7s - loss: 0.0403 - recall_16: 0.987 - ETA: 7s - loss: 0.0403 - recall_16: 0.987 - ETA: 7s - loss: 0.0394 - recall_16: 0.987 - ETA: 7s - loss: 0.0426 - recall_16: 0.987 - ETA: 7s - loss: 0.0423 - recall_16: 0.987 - ETA: 7s - loss: 0.0433 - recall_16: 0.987 - ETA: 7s - loss: 0.0422 - recall_16: 0.987 - ETA: 7s - loss: 0.0430 - recall_16: 0.987 - ETA: 7s - loss: 0.0423 - recall_16: 0.987 - ETA: 7s - loss: 0.0428 - recall_16: 0.987 - ETA: 7s - loss: 0.0426 - recall_16: 0.987 - ETA: 7s - loss: 0.0431 - recall_16: 0.987 - ETA: 7s - loss: 0.0435 - recall_16: 0.987 - ETA: 7s - loss: 0.0439 - recall_16: 0.987 - ETA: 7s - loss: 0.0449 - recall_16: 0.987 - ETA: 7s - loss: 0.0449 - recall_16: 0.986 - ETA: 7s - loss: 0.0466 - recall_16: 0.986 - ETA: 7s - loss: 0.0467 - recall_16: 0.986 - ETA: 6s - loss: 0.0463 - recall_16: 0.986 - ETA: 6s - loss: 0.0460 - recall_16: 0.985 - ETA: 6s - loss: 0.0457 - recall_16: 0.985 - ETA: 6s - loss: 0.0450 - recall_16: 0.986 - ETA: 6s - loss: 0.0444 - recall_16: 0.986 - ETA: 6s - loss: 0.0438 - recall_16: 0.986 - ETA: 6s - loss: 0.0443 - recall_16: 0.986 - ETA: 6s - loss: 0.0443 - recall_16: 0.986 - ETA: 6s - loss: 0.0451 - recall_16: 0.986 - ETA: 6s - loss: 0.0446 - recall_16: 0.986 - ETA: 6s - loss: 0.0439 - recall_16: 0.986 - ETA: 6s - loss: 0.0439 - recall_16: 0.986 - ETA: 6s - loss: 0.0446 - recall_16: 0.986 - ETA: 6s - loss: 0.0446 - recall_16: 0.986 - ETA: 6s - loss: 0.0445 - recall_16: 0.986 - ETA: 6s - loss: 0.0446 - recall_16: 0.986 - ETA: 5s - loss: 0.0444 - recall_16: 0.986 - ETA: 5s - loss: 0.0453 - recall_16: 0.986 - ETA: 5s - loss: 0.0457 - recall_16: 0.986 - ETA: 5s - loss: 0.0459 - recall_16: 0.985 - ETA: 5s - loss: 0.0457 - recall_16: 0.985 - ETA: 5s - loss: 0.0455 - recall_16: 0.986 - ETA: 5s - loss: 0.0452 - recall_16: 0.986 - ETA: 5s - loss: 0.0447 - recall_16: 0.986 - ETA: 5s - loss: 0.0448 - recall_16: 0.986 - ETA: 5s - loss: 0.0449 - recall_16: 0.986 - ETA: 5s - loss: 0.0450 - recall_16: 0.986 - ETA: 5s - loss: 0.0451 - recall_16: 0.986 - ETA: 5s - loss: 0.0449 - recall_16: 0.986 - ETA: 5s - loss: 0.0457 - recall_16: 0.986 - ETA: 5s - loss: 0.0454 - recall_16: 0.986 - ETA: 5s - loss: 0.0466 - recall_16: 0.986 - ETA: 5s - loss: 0.0471 - recall_16: 0.986 - ETA: 5s - loss: 0.0468 - recall_16: 0.986 - ETA: 5s - loss: 0.0466 - recall_16: 0.986 - ETA: 5s - loss: 0.0464 - recall_16: 0.986 - ETA: 4s - loss: 0.0466 - recall_16: 0.986 - ETA: 4s - loss: 0.0474 - recall_16: 0.986 - ETA: 4s - loss: 0.0474 - recall_16: 0.986 - ETA: 4s - loss: 0.0473 - recall_16: 0.986 - ETA: 4s - loss: 0.0473 - recall_16: 0.986 - ETA: 4s - loss: 0.0468 - recall_16: 0.986 - ETA: 4s - loss: 0.0470 - recall_16: 0.986 - ETA: 4s - loss: 0.0469 - recall_16: 0.986 - ETA: 4s - loss: 0.0468 - recall_16: 0.986 - ETA: 4s - loss: 0.0469 - recall_16: 0.986 - ETA: 4s - loss: 0.0466 - recall_16: 0.986 - ETA: 4s - loss: 0.0468 - recall_16: 0.986 - ETA: 4s - loss: 0.0475 - recall_16: 0.986 - ETA: 4s - loss: 0.0476 - recall_16: 0.986 - ETA: 4s - loss: 0.0480 - recall_16: 0.986 - ETA: 4s - loss: 0.0480 - recall_16: 0.986 - ETA: 4s - loss: 0.0489 - recall_16: 0.986 - ETA: 4s - loss: 0.0487 - recall_16: 0.986 - ETA: 4s - loss: 0.0486 - recall_16: 0.986 - ETA: 4s - loss: 0.0485 - recall_16: 0.986 - ETA: 4s - loss: 0.0485 - recall_16: 0.986 - ETA: 4s - loss: 0.0483 - recall_16: 0.986 - ETA: 4s - loss: 0.0490 - recall_16: 0.986 - ETA: 4s - loss: 0.0494 - recall_16: 0.986 - ETA: 4s - loss: 0.0497 - recall_16: 0.985 - ETA: 3s - loss: 0.0494 - recall_16: 0.985 - ETA: 3s - loss: 0.0495 - recall_16: 0.985 - ETA: 3s - loss: 0.0497 - recall_16: 0.985 - ETA: 3s - loss: 0.0496 - recall_16: 0.985 - ETA: 3s - loss: 0.0494 - recall_16: 0.985 - ETA: 3s - loss: 0.0493 - recall_16: 0.985 - ETA: 3s - loss: 0.0494 - recall_16: 0.985 - ETA: 3s - loss: 0.0498 - recall_16: 0.985 - ETA: 3s - loss: 0.0498 - recall_16: 0.985 - ETA: 3s - loss: 0.0496 - recall_16: 0.985 - ETA: 3s - loss: 0.0497 - recall_16: 0.985 - ETA: 3s - loss: 0.0494 - recall_16: 0.986 - ETA: 3s - loss: 0.0492 - recall_16: 0.986 - ETA: 3s - loss: 0.0494 - recall_16: 0.985 - ETA: 3s - loss: 0.0494 - recall_16: 0.985 - ETA: 3s - loss: 0.0492 - recall_16: 0.985 - ETA: 3s - loss: 0.0493 - recall_16: 0.985 - ETA: 3s - loss: 0.0492 - recall_16: 0.985 - ETA: 3s - loss: 0.0490 - recall_16: 0.985 - ETA: 3s - loss: 0.0489 - recall_16: 0.985 - ETA: 2s - loss: 0.0493 - recall_16: 0.985 - ETA: 2s - loss: 0.0489 - recall_16: 0.985 - ETA: 2s - loss: 0.0488 - recall_16: 0.985 - ETA: 2s - loss: 0.0485 - recall_16: 0.986 - ETA: 2s - loss: 0.0484 - recall_16: 0.985 - ETA: 2s - loss: 0.0483 - recall_16: 0.985 - ETA: 2s - loss: 0.0483 - recall_16: 0.985 - ETA: 2s - loss: 0.0487 - recall_16: 0.985 - ETA: 2s - loss: 0.0485 - recall_16: 0.985 - ETA: 2s - loss: 0.0485 - recall_16: 0.985 - ETA: 2s - loss: 0.0486 - recall_16: 0.985 - ETA: 2s - loss: 0.0485 - recall_16: 0.985 - ETA: 2s - loss: 0.0483 - recall_16: 0.985 - ETA: 2s - loss: 0.0482 - recall_16: 0.985 - ETA: 2s - loss: 0.0479 - recall_16: 0.985 - ETA: 2s - loss: 0.0481 - recall_16: 0.985 - ETA: 2s - loss: 0.0483 - recall_16: 0.985 - ETA: 1s - loss: 0.0484 - recall_16: 0.985 - ETA: 1s - loss: 0.0482 - recall_16: 0.985 - ETA: 1s - loss: 0.0482 - recall_16: 0.985 - ETA: 1s - loss: 0.0481 - recall_16: 0.985 - ETA: 1s - loss: 0.0481 - recall_16: 0.985 - ETA: 1s - loss: 0.0480 - recall_16: 0.985 - ETA: 1s - loss: 0.0481 - recall_16: 0.985 - ETA: 1s - loss: 0.0481 - recall_16: 0.985 - ETA: 1s - loss: 0.0481 - recall_16: 0.985 - ETA: 1s - loss: 0.0481 - recall_16: 0.985 - ETA: 1s - loss: 0.0479 - recall_16: 0.985 - ETA: 1s - loss: 0.0478 - recall_16: 0.985 - ETA: 1s - loss: 0.0478 - recall_16: 0.985 - ETA: 1s - loss: 0.0480 - recall_16: 0.985 - ETA: 1s - loss: 0.0480 - recall_16: 0.985 - ETA: 1s - loss: 0.0479 - recall_16: 0.985 - ETA: 1s - loss: 0.0478 - recall_16: 0.985 - ETA: 1s - loss: 0.0476 - recall_16: 0.985 - ETA: 1s - loss: 0.0476 - recall_16: 0.985 - ETA: 1s - loss: 0.0474 - recall_16: 0.985 - ETA: 1s - loss: 0.0473 - recall_16: 0.985 - ETA: 1s - loss: 0.0475 - recall_16: 0.985 - ETA: 1s - loss: 0.0474 - recall_16: 0.985 - ETA: 1s - loss: 0.0478 - recall_16: 0.985 - ETA: 1s - loss: 0.0480 - recall_16: 0.985 - ETA: 0s - loss: 0.0478 - recall_16: 0.985 - ETA: 0s - loss: 0.0477 - recall_16: 0.985 - ETA: 0s - loss: 0.0475 - recall_16: 0.985 - ETA: 0s - loss: 0.0474 - recall_16: 0.986 - ETA: 0s - loss: 0.0473 - recall_16: 0.985 - ETA: 0s - loss: 0.0471 - recall_16: 0.986 - ETA: 0s - loss: 0.0470 - recall_16: 0.986 - ETA: 0s - loss: 0.0467 - recall_16: 0.986 - ETA: 0s - loss: 0.0469 - recall_16: 0.986 - ETA: 0s - loss: 0.0469 - recall_16: 0.986 - ETA: 0s - loss: 0.0472 - recall_16: 0.986 - ETA: 0s - loss: 0.0473 - recall_16: 0.986 - ETA: 0s - loss: 0.0471 - recall_16: 0.986 - ETA: 0s - loss: 0.0471 - recall_16: 0.986 - ETA: 0s - loss: 0.0469 - recall_16: 0.986 - 11s 516us/sample - loss: 0.0468 - recall_16: 0.9864 - val_loss: 0.0951 - val_recall_16: 0.9781\n"
     ]
    },
    {
     "name": "stdout",
     "output_type": "stream",
     "text": [
      "7173/7173 [==============================] - ETA: 0s - loss: 0.0634 - recall_16: 0.968 - ETA: 0s - loss: 0.1063 - recall_16: 0.977 - ETA: 0s - loss: 0.1340 - recall_16: 0.974 - ETA: 0s - loss: 0.0999 - recall_16: 0.978 - ETA: 0s - loss: 0.0893 - recall_16: 0.980 - ETA: 0s - loss: 0.0821 - recall_16: 0.981 - ETA: 0s - loss: 0.0935 - recall_16: 0.980 - ETA: 0s - loss: 0.0999 - recall_16: 0.980 - ETA: 0s - loss: 0.1023 - recall_16: 0.979 - ETA: 0s - loss: 0.0950 - recall_16: 0.980 - ETA: 0s - loss: 0.0921 - recall_16: 0.979 - ETA: 0s - loss: 0.0902 - recall_16: 0.980 - ETA: 0s - loss: 0.0950 - recall_16: 0.978 - ETA: 0s - loss: 0.0889 - recall_16: 0.979 - ETA: 0s - loss: 0.0882 - recall_16: 0.978 - ETA: 0s - loss: 0.0896 - recall_16: 0.978 - ETA: 0s - loss: 0.0940 - recall_16: 0.978 - ETA: 0s - loss: 0.0918 - recall_16: 0.978 - ETA: 0s - loss: 0.0954 - recall_16: 0.978 - 1s 136us/sample - loss: 0.0951 - recall_16: 0.9781\n",
      "Test accuracy: 0.97811234\n"
     ]
    },
    {
     "data": {
      "image/png": "[encoded data removed]",
      "text/plain": [
       "<Figure size 432x360 with 1 Axes>"
      ]
     },
     "metadata": {
      "needs_background": "light"
     },
     "output_type": "display_data"
    }
   ],
   "source": [
    "model_up.compile(optimizer='adam', \n",
    "              loss='binary_crossentropy',\n",
    "              metrics=[tf.keras.metrics.Recall()])\n",
    "\n",
    "history = model_up.fit(up_X_train,\n",
    "          pd.get_dummies(up_y_train),\n",
    "          epochs=5,\n",
    "          validation_data=(up_X_test, pd.get_dummies(up_y_test))\n",
    "         )\n",
    "plot_loss(history)\n",
    "test_loss, test_acc = model_up.evaluate(up_X_test, pd.get_dummies(up_y_test))\n",
    "print('Test accuracy:', test_acc)"
   ]
  },
  {
   "cell_type": "code",
   "execution_count": 157,
   "metadata": {
    "ExecuteTime": {
     "end_time": "2019-08-09T07:45:50.277583Z",
     "start_time": "2019-08-09T07:45:47.016450Z"
    }
   },
   "outputs": [
    {
     "name": "stdout",
     "output_type": "stream",
     "text": [
      "전체채팅수7173, 유해채팅수3752\n"
     ]
    }
   ],
   "source": [
    "result = pd.DataFrame(np.apply_along_axis(index_to_text, 1, up_X_test))\n",
    "result['predict'] = model_up.predict_proba(up_X_test)[:,1] # 유해하다고 판별할 확률\n",
    "print('전체채팅수{}, 유해채팅수{}'.format(len(result),len(result[result.predict>0.5])))\n",
    "result[result.predict>0.5].head(10)\n",
    "result['label'] = up_y_test"
   ]
  },
  {
   "cell_type": "code",
   "execution_count": 158,
   "metadata": {
    "ExecuteTime": {
     "end_time": "2019-08-09T07:45:50.289576Z",
     "start_time": "2019-08-09T07:45:50.282581Z"
    }
   },
   "outputs": [],
   "source": [
    "# result.to_csv('../../data/cnn_result.csv', encoding='utf-16')"
   ]
  },
  {
   "cell_type": "markdown",
   "metadata": {},
   "source": [
    "## 분류 애매한 채팅들"
   ]
  },
  {
   "cell_type": "code",
   "execution_count": 162,
   "metadata": {
    "ExecuteTime": {
     "end_time": "2019-08-09T07:46:01.040440Z",
     "start_time": "2019-08-09T07:46:00.987470Z"
    }
   },
   "outputs": [
    {
     "data": {
      "text/html": [
       "<div>\n",
       "<style scoped>\n",
       "    .dataframe tbody tr th:only-of-type {\n",
       "        vertical-align: middle;\n",
       "    }\n",
       "\n",
       "    .dataframe tbody tr th {\n",
       "        vertical-align: top;\n",
       "    }\n",
       "\n",
       "    .dataframe thead th {\n",
       "        text-align: right;\n",
       "    }\n",
       "</style>\n",
       "<table border=\"1\" class=\"dataframe\">\n",
       "  <thead>\n",
       "    <tr style=\"text-align: right;\">\n",
       "      <th></th>\n",
       "      <th>0</th>\n",
       "      <th>predict</th>\n",
       "      <th>label</th>\n",
       "    </tr>\n",
       "  </thead>\n",
       "  <tbody>\n",
       "    <tr>\n",
       "      <th>19</th>\n",
       "      <td>이즈 &lt;OOV&gt; 좋다 ~ &lt;PAD&gt; &lt;PAD&gt; &lt;PAD&gt;</td>\n",
       "      <td>0.494528</td>\n",
       "      <td>0</td>\n",
       "    </tr>\n",
       "    <tr>\n",
       "      <th>221</th>\n",
       "      <td>근데 그 방송 이 뭐 인지 모르다 그렇다 같다 !!!!!</td>\n",
       "      <td>0.432845</td>\n",
       "      <td>0</td>\n",
       "    </tr>\n",
       "    <tr>\n",
       "      <th>234</th>\n",
       "      <td>가붕 아 &lt;PAD&gt; &lt;PAD&gt; &lt;PAD&gt; &lt;PAD&gt; &lt;PA</td>\n",
       "      <td>0.446143</td>\n",
       "      <td>0</td>\n",
       "    </tr>\n",
       "    <tr>\n",
       "      <th>944</th>\n",
       "      <td>나 누누 나 죽다 &lt;PAD&gt; &lt;PAD&gt; &lt;PAD&gt; &lt;PAD</td>\n",
       "      <td>0.515595</td>\n",
       "      <td>1</td>\n",
       "    </tr>\n",
       "    <tr>\n",
       "      <th>948</th>\n",
       "      <td>&lt;OOV&gt; ㄷㄷ &lt;PAD&gt; &lt;PAD&gt; &lt;PAD&gt; &lt;PAD&gt;</td>\n",
       "      <td>0.499224</td>\n",
       "      <td>0</td>\n",
       "    </tr>\n",
       "    <tr>\n",
       "      <th>1494</th>\n",
       "      <td>미드 kda 1 위 ㄷㄷ &lt;PAD&gt; &lt;PAD&gt; &lt;PAD&gt;</td>\n",
       "      <td>0.552478</td>\n",
       "      <td>0</td>\n",
       "    </tr>\n",
       "    <tr>\n",
       "      <th>1860</th>\n",
       "      <td>나 누누 나 죽다 &lt;PAD&gt; &lt;PAD&gt; &lt;PAD&gt; &lt;PAD</td>\n",
       "      <td>0.515595</td>\n",
       "      <td>1</td>\n",
       "    </tr>\n",
       "    <tr>\n",
       "      <th>1916</th>\n",
       "      <td>가붕이 는 이기다 없다 ㅠㅠ &lt;PAD&gt; &lt;PAD&gt; &lt;PAD</td>\n",
       "      <td>0.468964</td>\n",
       "      <td>0</td>\n",
       "    </tr>\n",
       "    <tr>\n",
       "      <th>1974</th>\n",
       "      <td>나 누누 나 죽다 &lt;PAD&gt; &lt;PAD&gt; &lt;PAD&gt; &lt;PAD</td>\n",
       "      <td>0.515595</td>\n",
       "      <td>1</td>\n",
       "    </tr>\n",
       "    <tr>\n",
       "      <th>2072</th>\n",
       "      <td>나 누누 나 죽다 &lt;PAD&gt; &lt;PAD&gt; &lt;PAD&gt; &lt;PAD</td>\n",
       "      <td>0.515595</td>\n",
       "      <td>1</td>\n",
       "    </tr>\n",
       "    <tr>\n",
       "      <th>2224</th>\n",
       "      <td>&lt;OOV&gt; &lt;OOV&gt; &lt;PAD&gt; &lt;PAD&gt; &lt;PAD&gt; &lt;P</td>\n",
       "      <td>0.564379</td>\n",
       "      <td>0</td>\n",
       "    </tr>\n",
       "    <tr>\n",
       "      <th>2649</th>\n",
       "      <td>&lt;OOV&gt; ㄷㄷ &lt;PAD&gt; &lt;PAD&gt; &lt;PAD&gt; &lt;PAD&gt;</td>\n",
       "      <td>0.499224</td>\n",
       "      <td>1</td>\n",
       "    </tr>\n",
       "    <tr>\n",
       "      <th>2694</th>\n",
       "      <td>나 누누 나 죽다 &lt;PAD&gt; &lt;PAD&gt; &lt;PAD&gt; &lt;PAD</td>\n",
       "      <td>0.515595</td>\n",
       "      <td>1</td>\n",
       "    </tr>\n",
       "    <tr>\n",
       "      <th>3224</th>\n",
       "      <td>육수 &lt;PAD&gt; &lt;PAD&gt; &lt;PAD&gt; &lt;PAD&gt; &lt;PAD&gt;</td>\n",
       "      <td>0.446146</td>\n",
       "      <td>0</td>\n",
       "    </tr>\n",
       "    <tr>\n",
       "      <th>3438</th>\n",
       "      <td>나 누누 나 죽다 &lt;PAD&gt; &lt;PAD&gt; &lt;PAD&gt; &lt;PAD</td>\n",
       "      <td>0.515595</td>\n",
       "      <td>1</td>\n",
       "    </tr>\n",
       "    <tr>\n",
       "      <th>3444</th>\n",
       "      <td>&lt;OOV&gt; ㄷㄷ &lt;PAD&gt; &lt;PAD&gt; &lt;PAD&gt; &lt;PAD&gt;</td>\n",
       "      <td>0.499224</td>\n",
       "      <td>1</td>\n",
       "    </tr>\n",
       "    <tr>\n",
       "      <th>3445</th>\n",
       "      <td>나 누누 나 죽다 &lt;PAD&gt; &lt;PAD&gt; &lt;PAD&gt; &lt;PAD</td>\n",
       "      <td>0.515595</td>\n",
       "      <td>1</td>\n",
       "    </tr>\n",
       "    <tr>\n",
       "      <th>3503</th>\n",
       "      <td>근본 이네 &lt;PAD&gt; &lt;PAD&gt; &lt;PAD&gt; &lt;PAD&gt; &lt;P</td>\n",
       "      <td>0.485743</td>\n",
       "      <td>0</td>\n",
       "    </tr>\n",
       "    <tr>\n",
       "      <th>3635</th>\n",
       "      <td>쇼진 노노 &lt;PAD&gt; &lt;PAD&gt; &lt;PAD&gt; &lt;PAD&gt; &lt;P</td>\n",
       "      <td>0.461547</td>\n",
       "      <td>0</td>\n",
       "    </tr>\n",
       "    <tr>\n",
       "      <th>3892</th>\n",
       "      <td>ㄹㅇ 오늘 영상 개 웃기다 ㅋㅋ &lt;PAD&gt; &lt;PAD&gt; &lt;P</td>\n",
       "      <td>0.511197</td>\n",
       "      <td>0</td>\n",
       "    </tr>\n",
       "    <tr>\n",
       "      <th>4607</th>\n",
       "      <td>카즈 야 진 방감 ? &lt;PAD&gt; &lt;PAD&gt; &lt;PAD&gt; &lt;P</td>\n",
       "      <td>0.545087</td>\n",
       "      <td>0</td>\n",
       "    </tr>\n",
       "    <tr>\n",
       "      <th>5208</th>\n",
       "      <td>아주 날쌘애들 많다 &lt;PAD&gt; &lt;PAD&gt; &lt;PAD&gt; &lt;PA</td>\n",
       "      <td>0.578884</td>\n",
       "      <td>0</td>\n",
       "    </tr>\n",
       "    <tr>\n",
       "      <th>5310</th>\n",
       "      <td>아니다 이 걸 ㅈ 냥 이 가 &lt;PAD&gt; &lt;PAD&gt; &lt;PAD</td>\n",
       "      <td>0.455755</td>\n",
       "      <td>0</td>\n",
       "    </tr>\n",
       "    <tr>\n",
       "      <th>5339</th>\n",
       "      <td>풍르먼 쇼 ㅋㅋㅋ &lt;PAD&gt; &lt;PAD&gt; &lt;PAD&gt; &lt;PAD</td>\n",
       "      <td>0.464018</td>\n",
       "      <td>0</td>\n",
       "    </tr>\n",
       "    <tr>\n",
       "      <th>5390</th>\n",
       "      <td>어떻다 하다 되다 형 이 알다 &lt;PAD&gt; &lt;PAD&gt; &lt;PA</td>\n",
       "      <td>0.550792</td>\n",
       "      <td>0</td>\n",
       "    </tr>\n",
       "    <tr>\n",
       "      <th>5615</th>\n",
       "      <td>의외로 탑 코르키 나오다 &lt;PAD&gt; &lt;PAD&gt; &lt;PAD&gt;</td>\n",
       "      <td>0.534319</td>\n",
       "      <td>0</td>\n",
       "    </tr>\n",
       "    <tr>\n",
       "      <th>5787</th>\n",
       "      <td>나 누누 나 죽다 &lt;PAD&gt; &lt;PAD&gt; &lt;PAD&gt; &lt;PAD</td>\n",
       "      <td>0.515595</td>\n",
       "      <td>1</td>\n",
       "    </tr>\n",
       "    <tr>\n",
       "      <th>6131</th>\n",
       "      <td>이 악물다 쥬 ? &lt;PAD&gt; &lt;PAD&gt; &lt;PAD&gt; &lt;PAD</td>\n",
       "      <td>0.491749</td>\n",
       "      <td>0</td>\n",
       "    </tr>\n",
       "    <tr>\n",
       "      <th>6238</th>\n",
       "      <td>진짜 미치다 ㅋㅋㅋ &lt;PAD&gt; &lt;PAD&gt; &lt;PAD&gt; &lt;PA</td>\n",
       "      <td>0.408000</td>\n",
       "      <td>0</td>\n",
       "    </tr>\n",
       "    <tr>\n",
       "      <th>6708</th>\n",
       "      <td>아오 &lt;PAD&gt; &lt;PAD&gt; &lt;PAD&gt; &lt;PAD&gt; &lt;PAD&gt;</td>\n",
       "      <td>0.521440</td>\n",
       "      <td>0</td>\n",
       "    </tr>\n",
       "    <tr>\n",
       "      <th>7148</th>\n",
       "      <td>&lt;OOV&gt; ㄷㄷ &lt;PAD&gt; &lt;PAD&gt; &lt;PAD&gt; &lt;PAD&gt;</td>\n",
       "      <td>0.499224</td>\n",
       "      <td>1</td>\n",
       "    </tr>\n",
       "  </tbody>\n",
       "</table>\n",
       "</div>"
      ],
      "text/plain": [
       "                                     0   predict  label\n",
       "19    이즈 <OOV> 좋다 ~ <PAD> <PAD> <PAD>   0.494528      0\n",
       "221    근데 그 방송 이 뭐 인지 모르다 그렇다 같다 !!!!!  0.432845      0\n",
       "234   가붕 아 <PAD> <PAD> <PAD> <PAD> <PA  0.446143      0\n",
       "944   나 누누 나 죽다 <PAD> <PAD> <PAD> <PAD  0.515595      1\n",
       "948   <OOV> ㄷㄷ <PAD> <PAD> <PAD> <PAD>  0.499224      0\n",
       "1494  미드 kda 1 위 ㄷㄷ <PAD> <PAD> <PAD>   0.552478      0\n",
       "1860  나 누누 나 죽다 <PAD> <PAD> <PAD> <PAD  0.515595      1\n",
       "1916  가붕이 는 이기다 없다 ㅠㅠ <PAD> <PAD> <PAD  0.468964      0\n",
       "1974  나 누누 나 죽다 <PAD> <PAD> <PAD> <PAD  0.515595      1\n",
       "2072  나 누누 나 죽다 <PAD> <PAD> <PAD> <PAD  0.515595      1\n",
       "2224  <OOV> <OOV> <PAD> <PAD> <PAD> <P  0.564379      0\n",
       "2649  <OOV> ㄷㄷ <PAD> <PAD> <PAD> <PAD>  0.499224      1\n",
       "2694  나 누누 나 죽다 <PAD> <PAD> <PAD> <PAD  0.515595      1\n",
       "3224  육수 <PAD> <PAD> <PAD> <PAD> <PAD>  0.446146      0\n",
       "3438  나 누누 나 죽다 <PAD> <PAD> <PAD> <PAD  0.515595      1\n",
       "3444  <OOV> ㄷㄷ <PAD> <PAD> <PAD> <PAD>  0.499224      1\n",
       "3445  나 누누 나 죽다 <PAD> <PAD> <PAD> <PAD  0.515595      1\n",
       "3503  근본 이네 <PAD> <PAD> <PAD> <PAD> <P  0.485743      0\n",
       "3635  쇼진 노노 <PAD> <PAD> <PAD> <PAD> <P  0.461547      0\n",
       "3892  ㄹㅇ 오늘 영상 개 웃기다 ㅋㅋ <PAD> <PAD> <P  0.511197      0\n",
       "4607  카즈 야 진 방감 ? <PAD> <PAD> <PAD> <P  0.545087      0\n",
       "5208  아주 날쌘애들 많다 <PAD> <PAD> <PAD> <PA  0.578884      0\n",
       "5310  아니다 이 걸 ㅈ 냥 이 가 <PAD> <PAD> <PAD  0.455755      0\n",
       "5339  풍르먼 쇼 ㅋㅋㅋ <PAD> <PAD> <PAD> <PAD  0.464018      0\n",
       "5390  어떻다 하다 되다 형 이 알다 <PAD> <PAD> <PA  0.550792      0\n",
       "5615  의외로 탑 코르키 나오다 <PAD> <PAD> <PAD>   0.534319      0\n",
       "5787  나 누누 나 죽다 <PAD> <PAD> <PAD> <PAD  0.515595      1\n",
       "6131  이 악물다 쥬 ? <PAD> <PAD> <PAD> <PAD  0.491749      0\n",
       "6238  진짜 미치다 ㅋㅋㅋ <PAD> <PAD> <PAD> <PA  0.408000      0\n",
       "6708  아오 <PAD> <PAD> <PAD> <PAD> <PAD>  0.521440      0\n",
       "7148  <OOV> ㄷㄷ <PAD> <PAD> <PAD> <PAD>  0.499224      1"
      ]
     },
     "execution_count": 162,
     "metadata": {},
     "output_type": "execute_result"
    }
   ],
   "source": [
    "result[(result.predict>0.4) & (result.predict<0.6)]"
   ]
  },
  {
   "cell_type": "markdown",
   "metadata": {},
   "source": [
    "### 예측 실패한 채팅들"
   ]
  },
  {
   "cell_type": "code",
   "execution_count": 163,
   "metadata": {
    "ExecuteTime": {
     "end_time": "2019-08-09T07:46:17.586959Z",
     "start_time": "2019-08-09T07:46:17.103237Z"
    }
   },
   "outputs": [
    {
     "data": {
      "text/html": [
       "<div>\n",
       "<style scoped>\n",
       "    .dataframe tbody tr th:only-of-type {\n",
       "        vertical-align: middle;\n",
       "    }\n",
       "\n",
       "    .dataframe tbody tr th {\n",
       "        vertical-align: top;\n",
       "    }\n",
       "\n",
       "    .dataframe thead th {\n",
       "        text-align: right;\n",
       "    }\n",
       "</style>\n",
       "<table border=\"1\" class=\"dataframe\">\n",
       "  <thead>\n",
       "    <tr style=\"text-align: right;\">\n",
       "      <th></th>\n",
       "      <th>0</th>\n",
       "      <th>predict</th>\n",
       "      <th>label</th>\n",
       "    </tr>\n",
       "  </thead>\n",
       "  <tbody>\n",
       "    <tr>\n",
       "      <th>23</th>\n",
       "      <td>지다 &lt;PAD&gt; &lt;PAD&gt; &lt;PAD&gt; &lt;PAD&gt; &lt;PAD&gt;</td>\n",
       "      <td>0.673683</td>\n",
       "      <td>0</td>\n",
       "    </tr>\n",
       "    <tr>\n",
       "      <th>56</th>\n",
       "      <td>방금 들 렷음 &lt;PAD&gt; &lt;PAD&gt; &lt;PAD&gt; &lt;PAD&gt;</td>\n",
       "      <td>0.954105</td>\n",
       "      <td>0</td>\n",
       "    </tr>\n",
       "    <tr>\n",
       "      <th>68</th>\n",
       "      <td>찬밥 이형 근데 &lt;OOV&gt; 빨 고 하다 이 상태 로</td>\n",
       "      <td>0.972861</td>\n",
       "      <td>0</td>\n",
       "    </tr>\n",
       "    <tr>\n",
       "      <th>90</th>\n",
       "      <td>무수 한 핑 의 요청 이 &lt;PAD&gt; &lt;PAD&gt; &lt;PAD&gt;</td>\n",
       "      <td>0.994825</td>\n",
       "      <td>0</td>\n",
       "    </tr>\n",
       "    <tr>\n",
       "      <th>110</th>\n",
       "      <td>삼 개다 시너지 &lt;PAD&gt; &lt;PAD&gt; &lt;PAD&gt; &lt;PAD&gt;</td>\n",
       "      <td>0.937835</td>\n",
       "      <td>0</td>\n",
       "    </tr>\n",
       "    <tr>\n",
       "      <th>171</th>\n",
       "      <td>노노노 ㅗ &lt;OOV&gt; 노노노 ㅗ &lt;OOV&gt; &lt;PAD&gt; &lt;P</td>\n",
       "      <td>0.999683</td>\n",
       "      <td>0</td>\n",
       "    </tr>\n",
       "    <tr>\n",
       "      <th>303</th>\n",
       "      <td>입 벌리다 뻔 하다 &lt;PAD&gt; &lt;PAD&gt; &lt;PAD&gt; &lt;PA</td>\n",
       "      <td>0.999978</td>\n",
       "      <td>0</td>\n",
       "    </tr>\n",
       "    <tr>\n",
       "      <th>381</th>\n",
       "      <td>애니비아 무시 ? &lt;PAD&gt; &lt;PAD&gt; &lt;PAD&gt; &lt;PAD</td>\n",
       "      <td>0.995982</td>\n",
       "      <td>0</td>\n",
       "    </tr>\n",
       "    <tr>\n",
       "      <th>426</th>\n",
       "      <td>&lt;OOV&gt; &lt;PAD&gt; &lt;PAD&gt; &lt;PAD&gt; &lt;PAD&gt; &lt;P</td>\n",
       "      <td>0.370348</td>\n",
       "      <td>1</td>\n",
       "    </tr>\n",
       "    <tr>\n",
       "      <th>438</th>\n",
       "      <td>&lt;OOV&gt; &lt;PAD&gt; &lt;PAD&gt; &lt;PAD&gt; &lt;PAD&gt; &lt;P</td>\n",
       "      <td>0.370348</td>\n",
       "      <td>1</td>\n",
       "    </tr>\n",
       "    <tr>\n",
       "      <th>454</th>\n",
       "      <td>ㅇㅅㅂㅅ &lt;PAD&gt; &lt;PAD&gt; &lt;PAD&gt; &lt;PAD&gt; &lt;PA</td>\n",
       "      <td>0.931032</td>\n",
       "      <td>0</td>\n",
       "    </tr>\n",
       "    <tr>\n",
       "      <th>495</th>\n",
       "      <td>&lt;OOV&gt; &lt;PAD&gt; &lt;PAD&gt; &lt;PAD&gt; &lt;PAD&gt; &lt;P</td>\n",
       "      <td>0.370348</td>\n",
       "      <td>1</td>\n",
       "    </tr>\n",
       "    <tr>\n",
       "      <th>511</th>\n",
       "      <td>넥뿌 망하다 &lt;PAD&gt; &lt;PAD&gt; &lt;PAD&gt; &lt;PAD&gt; &lt;</td>\n",
       "      <td>0.614952</td>\n",
       "      <td>0</td>\n",
       "    </tr>\n",
       "    <tr>\n",
       "      <th>526</th>\n",
       "      <td>지다 &lt;PAD&gt; &lt;PAD&gt; &lt;PAD&gt; &lt;PAD&gt; &lt;PAD&gt;</td>\n",
       "      <td>0.673683</td>\n",
       "      <td>0</td>\n",
       "    </tr>\n",
       "    <tr>\n",
       "      <th>533</th>\n",
       "      <td>CPR 시급 &lt;PAD&gt; &lt;PAD&gt; &lt;PAD&gt; &lt;PAD&gt; &lt;</td>\n",
       "      <td>0.999913</td>\n",
       "      <td>0</td>\n",
       "    </tr>\n",
       "    <tr>\n",
       "      <th>555</th>\n",
       "      <td>&lt;OOV&gt; 개웃 기네 ㅋㅋ &lt;PAD&gt; &lt;PAD&gt; &lt;PAD&gt;</td>\n",
       "      <td>0.999863</td>\n",
       "      <td>0</td>\n",
       "    </tr>\n",
       "    <tr>\n",
       "      <th>559</th>\n",
       "      <td>정신 못 차리다 &lt;PAD&gt; &lt;PAD&gt; &lt;PAD&gt; &lt;PAD&gt;</td>\n",
       "      <td>0.999999</td>\n",
       "      <td>0</td>\n",
       "    </tr>\n",
       "    <tr>\n",
       "      <th>633</th>\n",
       "      <td>충신 의 &lt;OOV&gt; &lt;PAD&gt; &lt;PAD&gt; &lt;PAD&gt; &lt;PA</td>\n",
       "      <td>0.793740</td>\n",
       "      <td>0</td>\n",
       "    </tr>\n",
       "    <tr>\n",
       "      <th>646</th>\n",
       "      <td>아니다 창석 이형 진짜 나 개 무시 하다 스타 듀</td>\n",
       "      <td>0.999997</td>\n",
       "      <td>0</td>\n",
       "    </tr>\n",
       "    <tr>\n",
       "      <th>659</th>\n",
       "      <td>튜토 과금 ㅋㅋㅋ &lt;PAD&gt; &lt;PAD&gt; &lt;PAD&gt; &lt;PAD</td>\n",
       "      <td>0.800429</td>\n",
       "      <td>0</td>\n",
       "    </tr>\n",
       "    <tr>\n",
       "      <th>798</th>\n",
       "      <td>&lt;OOV&gt; ? &lt;PAD&gt; &lt;PAD&gt; &lt;PAD&gt; &lt;PAD&gt;</td>\n",
       "      <td>0.708308</td>\n",
       "      <td>0</td>\n",
       "    </tr>\n",
       "    <tr>\n",
       "      <th>860</th>\n",
       "      <td>&lt;OOV&gt; &lt;PAD&gt; &lt;PAD&gt; &lt;PAD&gt; &lt;PAD&gt; &lt;P</td>\n",
       "      <td>0.370348</td>\n",
       "      <td>1</td>\n",
       "    </tr>\n",
       "    <tr>\n",
       "      <th>915</th>\n",
       "      <td>미치다 겜 ㅋㅋㅋ &lt;PAD&gt; &lt;PAD&gt; &lt;PAD&gt; &lt;PAD</td>\n",
       "      <td>0.867590</td>\n",
       "      <td>0</td>\n",
       "    </tr>\n",
       "    <tr>\n",
       "      <th>937</th>\n",
       "      <td>웹툰 에 ㄴㄷㅆ 치다 사람 들 은 대체 ㅋㅋㅋ &lt;PAD&gt;</td>\n",
       "      <td>0.792959</td>\n",
       "      <td>0</td>\n",
       "    </tr>\n",
       "    <tr>\n",
       "      <th>976</th>\n",
       "      <td>팀 컨셉 ㅋㅋ &lt;PAD&gt; &lt;PAD&gt; &lt;PAD&gt; &lt;PAD&gt;</td>\n",
       "      <td>0.997050</td>\n",
       "      <td>0</td>\n",
       "    </tr>\n",
       "    <tr>\n",
       "      <th>1009</th>\n",
       "      <td>&lt;OOV&gt; &lt;PAD&gt; &lt;PAD&gt; &lt;PAD&gt; &lt;PAD&gt; &lt;P</td>\n",
       "      <td>0.370348</td>\n",
       "      <td>1</td>\n",
       "    </tr>\n",
       "    <tr>\n",
       "      <th>1394</th>\n",
       "      <td>&lt;OOV&gt; &lt;PAD&gt; &lt;PAD&gt; &lt;PAD&gt; &lt;PAD&gt; &lt;P</td>\n",
       "      <td>0.370348</td>\n",
       "      <td>1</td>\n",
       "    </tr>\n",
       "    <tr>\n",
       "      <th>1462</th>\n",
       "      <td>지다 열 받다 &lt;PAD&gt; &lt;PAD&gt; &lt;PAD&gt; &lt;PAD&gt;</td>\n",
       "      <td>0.999863</td>\n",
       "      <td>0</td>\n",
       "    </tr>\n",
       "    <tr>\n",
       "      <th>1494</th>\n",
       "      <td>미드 kda 1 위 ㄷㄷ &lt;PAD&gt; &lt;PAD&gt; &lt;PAD&gt;</td>\n",
       "      <td>0.552478</td>\n",
       "      <td>0</td>\n",
       "    </tr>\n",
       "    <tr>\n",
       "      <th>1624</th>\n",
       "      <td>&lt;OOV&gt; &lt;OOV&gt; 원 이야 &lt;PAD&gt; &lt;PAD&gt; &lt;PA</td>\n",
       "      <td>0.876093</td>\n",
       "      <td>0</td>\n",
       "    </tr>\n",
       "    <tr>\n",
       "      <th>...</th>\n",
       "      <td>...</td>\n",
       "      <td>...</td>\n",
       "      <td>...</td>\n",
       "    </tr>\n",
       "    <tr>\n",
       "      <th>6045</th>\n",
       "      <td>나니 ㅣㅣㅣ &lt;PAD&gt; &lt;PAD&gt; &lt;PAD&gt; &lt;PAD&gt; &lt;</td>\n",
       "      <td>0.985252</td>\n",
       "      <td>0</td>\n",
       "    </tr>\n",
       "    <tr>\n",
       "      <th>6060</th>\n",
       "      <td>개 망하다 ㅋㅋ &lt;PAD&gt; &lt;PAD&gt; &lt;PAD&gt; &lt;PAD&gt;</td>\n",
       "      <td>0.999987</td>\n",
       "      <td>0</td>\n",
       "    </tr>\n",
       "    <tr>\n",
       "      <th>6081</th>\n",
       "      <td>대신 대답 &lt;PAD&gt; &lt;PAD&gt; &lt;PAD&gt; &lt;PAD&gt; &lt;P</td>\n",
       "      <td>0.722186</td>\n",
       "      <td>0</td>\n",
       "    </tr>\n",
       "    <tr>\n",
       "      <th>6114</th>\n",
       "      <td>브 베스트 가 슬슬 말 안 들다 브 베스트 죽</td>\n",
       "      <td>0.998259</td>\n",
       "      <td>0</td>\n",
       "    </tr>\n",
       "    <tr>\n",
       "      <th>6123</th>\n",
       "      <td>어머니 맨날 진수 성찬 해주시 네 저 새 키 한테</td>\n",
       "      <td>0.994356</td>\n",
       "      <td>0</td>\n",
       "    </tr>\n",
       "    <tr>\n",
       "      <th>6131</th>\n",
       "      <td>이 악물다 쥬 ? &lt;PAD&gt; &lt;PAD&gt; &lt;PAD&gt; &lt;PAD</td>\n",
       "      <td>0.491749</td>\n",
       "      <td>0</td>\n",
       "    </tr>\n",
       "    <tr>\n",
       "      <th>6198</th>\n",
       "      <td>다음 은 당신 이야 &lt;PAD&gt; &lt;PAD&gt; &lt;PAD&gt; &lt;PA</td>\n",
       "      <td>0.999513</td>\n",
       "      <td>0</td>\n",
       "    </tr>\n",
       "    <tr>\n",
       "      <th>6241</th>\n",
       "      <td>그거 진짜 역대 급 &lt;PAD&gt; &lt;PAD&gt; &lt;PAD&gt; &lt;PA</td>\n",
       "      <td>0.958556</td>\n",
       "      <td>0</td>\n",
       "    </tr>\n",
       "    <tr>\n",
       "      <th>6252</th>\n",
       "      <td>ㅇ . ㅇ &lt;PAD&gt; &lt;PAD&gt; &lt;PAD&gt; &lt;PAD&gt; &lt;P</td>\n",
       "      <td>0.865379</td>\n",
       "      <td>0</td>\n",
       "    </tr>\n",
       "    <tr>\n",
       "      <th>6259</th>\n",
       "      <td>흑인 아니다 &lt;PAD&gt; &lt;PAD&gt; &lt;PAD&gt; &lt;PAD&gt; &lt;</td>\n",
       "      <td>0.991408</td>\n",
       "      <td>0</td>\n",
       "    </tr>\n",
       "    <tr>\n",
       "      <th>6270</th>\n",
       "      <td>북어 꿍 걔 는 진짜 정신 못 차리다 &lt;PAD&gt; &lt;PAD&gt;</td>\n",
       "      <td>0.999813</td>\n",
       "      <td>0</td>\n",
       "    </tr>\n",
       "    <tr>\n",
       "      <th>6278</th>\n",
       "      <td>두 투 리얼 &lt;PAD&gt; &lt;PAD&gt; &lt;PAD&gt; &lt;PAD&gt; &lt;</td>\n",
       "      <td>0.997968</td>\n",
       "      <td>0</td>\n",
       "    </tr>\n",
       "    <tr>\n",
       "      <th>6311</th>\n",
       "      <td>방구 끼 네 &lt;PAD&gt; &lt;PAD&gt; &lt;PAD&gt; &lt;PAD&gt; &lt;</td>\n",
       "      <td>0.989813</td>\n",
       "      <td>0</td>\n",
       "    </tr>\n",
       "    <tr>\n",
       "      <th>6461</th>\n",
       "      <td>나 가버리다 ㅏㅕㅅ 네 ~ &lt;PAD&gt; &lt;PAD&gt; &lt;PAD&gt;</td>\n",
       "      <td>0.999744</td>\n",
       "      <td>0</td>\n",
       "    </tr>\n",
       "    <tr>\n",
       "      <th>6487</th>\n",
       "      <td>생각 보다 좋다 &lt;PAD&gt; &lt;PAD&gt; &lt;PAD&gt; &lt;PAD&gt;</td>\n",
       "      <td>0.805769</td>\n",
       "      <td>0</td>\n",
       "    </tr>\n",
       "    <tr>\n",
       "      <th>6556</th>\n",
       "      <td>브베 야 케인 비다 어떻다 처리 하다 ???????????</td>\n",
       "      <td>0.963174</td>\n",
       "      <td>0</td>\n",
       "    </tr>\n",
       "    <tr>\n",
       "      <th>6647</th>\n",
       "      <td>&lt;OOV&gt; &lt;PAD&gt; &lt;PAD&gt; &lt;PAD&gt; &lt;PAD&gt; &lt;P</td>\n",
       "      <td>0.370348</td>\n",
       "      <td>1</td>\n",
       "    </tr>\n",
       "    <tr>\n",
       "      <th>6708</th>\n",
       "      <td>아오 &lt;PAD&gt; &lt;PAD&gt; &lt;PAD&gt; &lt;PAD&gt; &lt;PAD&gt;</td>\n",
       "      <td>0.521440</td>\n",
       "      <td>0</td>\n",
       "    </tr>\n",
       "    <tr>\n",
       "      <th>6729</th>\n",
       "      <td>-&gt; 이 걸 . /. 대각 방향 으로 이동 .</td>\n",
       "      <td>0.995089</td>\n",
       "      <td>0</td>\n",
       "    </tr>\n",
       "    <tr>\n",
       "      <th>6764</th>\n",
       "      <td>선죽교 쇼 ㅏ &lt;PAD&gt; &lt;PAD&gt; &lt;PAD&gt; &lt;PAD&gt;</td>\n",
       "      <td>0.740704</td>\n",
       "      <td>0</td>\n",
       "    </tr>\n",
       "    <tr>\n",
       "      <th>6785</th>\n",
       "      <td>새롭다 게임 다운 받다 창석 이형 스타 듀 벨 리</td>\n",
       "      <td>0.995298</td>\n",
       "      <td>0</td>\n",
       "    </tr>\n",
       "    <tr>\n",
       "      <th>6830</th>\n",
       "      <td>ㄴㄷㅆ &lt;PAD&gt; &lt;PAD&gt; &lt;PAD&gt; &lt;PAD&gt; &lt;PAD</td>\n",
       "      <td>0.985960</td>\n",
       "      <td>0</td>\n",
       "    </tr>\n",
       "    <tr>\n",
       "      <th>7020</th>\n",
       "      <td>선 넘다 &lt;PAD&gt; &lt;PAD&gt; &lt;PAD&gt; &lt;PAD&gt; &lt;PA</td>\n",
       "      <td>0.907339</td>\n",
       "      <td>0</td>\n",
       "    </tr>\n",
       "    <tr>\n",
       "      <th>7024</th>\n",
       "      <td>개이득 &lt;PAD&gt; &lt;PAD&gt; &lt;PAD&gt; &lt;PAD&gt; &lt;PAD</td>\n",
       "      <td>0.998274</td>\n",
       "      <td>0</td>\n",
       "    </tr>\n",
       "    <tr>\n",
       "      <th>7026</th>\n",
       "      <td>바쁘다 바쁘다 &lt;PAD&gt; &lt;PAD&gt; &lt;PAD&gt; &lt;PAD&gt;</td>\n",
       "      <td>0.999855</td>\n",
       "      <td>0</td>\n",
       "    </tr>\n",
       "    <tr>\n",
       "      <th>7056</th>\n",
       "      <td>쌈 싸다 먹히다 &lt;PAD&gt; &lt;PAD&gt; &lt;PAD&gt; &lt;PAD&gt;</td>\n",
       "      <td>0.999999</td>\n",
       "      <td>0</td>\n",
       "    </tr>\n",
       "    <tr>\n",
       "      <th>7064</th>\n",
       "      <td>알리 도 ㄱㅊ &lt;PAD&gt; &lt;PAD&gt; &lt;PAD&gt; &lt;PAD&gt;</td>\n",
       "      <td>0.999995</td>\n",
       "      <td>0</td>\n",
       "    </tr>\n",
       "    <tr>\n",
       "      <th>7089</th>\n",
       "      <td>&lt;OOV&gt; &lt;PAD&gt; &lt;PAD&gt; &lt;PAD&gt; &lt;PAD&gt; &lt;P</td>\n",
       "      <td>0.370348</td>\n",
       "      <td>1</td>\n",
       "    </tr>\n",
       "    <tr>\n",
       "      <th>7114</th>\n",
       "      <td>&lt;OOV&gt; 가 아프다 &lt;PAD&gt; &lt;PAD&gt; &lt;PAD&gt; &lt;P</td>\n",
       "      <td>0.823213</td>\n",
       "      <td>0</td>\n",
       "    </tr>\n",
       "    <tr>\n",
       "      <th>7148</th>\n",
       "      <td>&lt;OOV&gt; ㄷㄷ &lt;PAD&gt; &lt;PAD&gt; &lt;PAD&gt; &lt;PAD&gt;</td>\n",
       "      <td>0.499224</td>\n",
       "      <td>1</td>\n",
       "    </tr>\n",
       "  </tbody>\n",
       "</table>\n",
       "<p>158 rows × 3 columns</p>\n",
       "</div>"
      ],
      "text/plain": [
       "                                     0   predict  label\n",
       "23    지다 <PAD> <PAD> <PAD> <PAD> <PAD>  0.673683      0\n",
       "56    방금 들 렷음 <PAD> <PAD> <PAD> <PAD>   0.954105      0\n",
       "68        찬밥 이형 근데 <OOV> 빨 고 하다 이 상태 로  0.972861      0\n",
       "90    무수 한 핑 의 요청 이 <PAD> <PAD> <PAD>   0.994825      0\n",
       "110   삼 개다 시너지 <PAD> <PAD> <PAD> <PAD>  0.937835      0\n",
       "171   노노노 ㅗ <OOV> 노노노 ㅗ <OOV> <PAD> <P  0.999683      0\n",
       "303   입 벌리다 뻔 하다 <PAD> <PAD> <PAD> <PA  0.999978      0\n",
       "381   애니비아 무시 ? <PAD> <PAD> <PAD> <PAD  0.995982      0\n",
       "426   <OOV> <PAD> <PAD> <PAD> <PAD> <P  0.370348      1\n",
       "438   <OOV> <PAD> <PAD> <PAD> <PAD> <P  0.370348      1\n",
       "454   ㅇㅅㅂㅅ <PAD> <PAD> <PAD> <PAD> <PA  0.931032      0\n",
       "495   <OOV> <PAD> <PAD> <PAD> <PAD> <P  0.370348      1\n",
       "511   넥뿌 망하다 <PAD> <PAD> <PAD> <PAD> <  0.614952      0\n",
       "526   지다 <PAD> <PAD> <PAD> <PAD> <PAD>  0.673683      0\n",
       "533   CPR 시급 <PAD> <PAD> <PAD> <PAD> <  0.999913      0\n",
       "555   <OOV> 개웃 기네 ㅋㅋ <PAD> <PAD> <PAD>  0.999863      0\n",
       "559   정신 못 차리다 <PAD> <PAD> <PAD> <PAD>  0.999999      0\n",
       "633   충신 의 <OOV> <PAD> <PAD> <PAD> <PA  0.793740      0\n",
       "646        아니다 창석 이형 진짜 나 개 무시 하다 스타 듀  0.999997      0\n",
       "659   튜토 과금 ㅋㅋㅋ <PAD> <PAD> <PAD> <PAD  0.800429      0\n",
       "798   <OOV> ? <PAD> <PAD> <PAD> <PAD>   0.708308      0\n",
       "860   <OOV> <PAD> <PAD> <PAD> <PAD> <P  0.370348      1\n",
       "915   미치다 겜 ㅋㅋㅋ <PAD> <PAD> <PAD> <PAD  0.867590      0\n",
       "937    웹툰 에 ㄴㄷㅆ 치다 사람 들 은 대체 ㅋㅋㅋ <PAD>  0.792959      0\n",
       "976   팀 컨셉 ㅋㅋ <PAD> <PAD> <PAD> <PAD>   0.997050      0\n",
       "1009  <OOV> <PAD> <PAD> <PAD> <PAD> <P  0.370348      1\n",
       "1394  <OOV> <PAD> <PAD> <PAD> <PAD> <P  0.370348      1\n",
       "1462  지다 열 받다 <PAD> <PAD> <PAD> <PAD>   0.999863      0\n",
       "1494  미드 kda 1 위 ㄷㄷ <PAD> <PAD> <PAD>   0.552478      0\n",
       "1624  <OOV> <OOV> 원 이야 <PAD> <PAD> <PA  0.876093      0\n",
       "...                                ...       ...    ...\n",
       "6045  나니 ㅣㅣㅣ <PAD> <PAD> <PAD> <PAD> <  0.985252      0\n",
       "6060  개 망하다 ㅋㅋ <PAD> <PAD> <PAD> <PAD>  0.999987      0\n",
       "6081  대신 대답 <PAD> <PAD> <PAD> <PAD> <P  0.722186      0\n",
       "6114         브 베스트 가 슬슬 말 안 들다 브 베스트 죽  0.998259      0\n",
       "6123       어머니 맨날 진수 성찬 해주시 네 저 새 키 한테  0.994356      0\n",
       "6131  이 악물다 쥬 ? <PAD> <PAD> <PAD> <PAD  0.491749      0\n",
       "6198  다음 은 당신 이야 <PAD> <PAD> <PAD> <PA  0.999513      0\n",
       "6241  그거 진짜 역대 급 <PAD> <PAD> <PAD> <PA  0.958556      0\n",
       "6252  ㅇ . ㅇ <PAD> <PAD> <PAD> <PAD> <P  0.865379      0\n",
       "6259  흑인 아니다 <PAD> <PAD> <PAD> <PAD> <  0.991408      0\n",
       "6270  북어 꿍 걔 는 진짜 정신 못 차리다 <PAD> <PAD>  0.999813      0\n",
       "6278  두 투 리얼 <PAD> <PAD> <PAD> <PAD> <  0.997968      0\n",
       "6311  방구 끼 네 <PAD> <PAD> <PAD> <PAD> <  0.989813      0\n",
       "6461  나 가버리다 ㅏㅕㅅ 네 ~ <PAD> <PAD> <PAD>  0.999744      0\n",
       "6487  생각 보다 좋다 <PAD> <PAD> <PAD> <PAD>  0.805769      0\n",
       "6556  브베 야 케인 비다 어떻다 처리 하다 ???????????  0.963174      0\n",
       "6647  <OOV> <PAD> <PAD> <PAD> <PAD> <P  0.370348      1\n",
       "6708  아오 <PAD> <PAD> <PAD> <PAD> <PAD>  0.521440      0\n",
       "6729         -> 이 걸 . /. 대각 방향 으로 이동 .  0.995089      0\n",
       "6764  선죽교 쇼 ㅏ <PAD> <PAD> <PAD> <PAD>   0.740704      0\n",
       "6785       새롭다 게임 다운 받다 창석 이형 스타 듀 벨 리  0.995298      0\n",
       "6830  ㄴㄷㅆ <PAD> <PAD> <PAD> <PAD> <PAD  0.985960      0\n",
       "7020  선 넘다 <PAD> <PAD> <PAD> <PAD> <PA  0.907339      0\n",
       "7024  개이득 <PAD> <PAD> <PAD> <PAD> <PAD  0.998274      0\n",
       "7026  바쁘다 바쁘다 <PAD> <PAD> <PAD> <PAD>   0.999855      0\n",
       "7056  쌈 싸다 먹히다 <PAD> <PAD> <PAD> <PAD>  0.999999      0\n",
       "7064  알리 도 ㄱㅊ <PAD> <PAD> <PAD> <PAD>   0.999995      0\n",
       "7089  <OOV> <PAD> <PAD> <PAD> <PAD> <P  0.370348      1\n",
       "7114  <OOV> 가 아프다 <PAD> <PAD> <PAD> <P  0.823213      0\n",
       "7148  <OOV> ㄷㄷ <PAD> <PAD> <PAD> <PAD>  0.499224      1\n",
       "\n",
       "[158 rows x 3 columns]"
      ]
     },
     "execution_count": 163,
     "metadata": {},
     "output_type": "execute_result"
    }
   ],
   "source": [
    "result[model_up.predict_classes(up_X_test) != up_y_test]"
   ]
  },
  {
   "cell_type": "markdown",
   "metadata": {},
   "source": [
    "# 시11111발 의 경우"
   ]
  },
  {
   "cell_type": "code",
   "execution_count": 169,
   "metadata": {
    "ExecuteTime": {
     "end_time": "2019-08-09T07:47:50.741666Z",
     "start_time": "2019-08-09T07:47:50.366880Z"
    }
   },
   "outputs": [
    {
     "name": "stdout",
     "output_type": "stream",
     "text": [
      "['시발', '년', '아이', '게', '찰지다', '욕', '이야', '이', '새끼', '야', '나가다', '뒤지다']\n"
     ]
    },
    {
     "data": {
      "text/plain": [
       "array([[0.00155474, 0.99803215]], dtype=float32)"
      ]
     },
     "execution_count": 169,
     "metadata": {},
     "output_type": "execute_result"
    }
   ],
   "source": [
    "test_chat = \"시발년아이게찰진욕이야이새끼야나가뒤져\"\n",
    "test_id = text_to_index(morp.morphs(test_chat, norm=True, stem=True))\n",
    "print(morp.morphs(test_chat, norm=True, stem=True))\n",
    "sentence_size = 20\n",
    "x_padded_temp = sequence.pad_sequences([test_id],\n",
    "                                 maxlen=sentence_size,\n",
    "                                 truncating='post',\n",
    "                                 padding='post',\n",
    "                                 value=pad_id)\n",
    "model_up.predict(x_padded_temp)"
   ]
  },
  {
   "cell_type": "markdown",
   "metadata": {},
   "source": [
    "## Downsampling"
   ]
  },
  {
   "cell_type": "code",
   "execution_count": 170,
   "metadata": {
    "ExecuteTime": {
     "end_time": "2019-08-09T07:48:00.215251Z",
     "start_time": "2019-08-09T07:48:00.191259Z"
    }
   },
   "outputs": [
    {
     "data": {
      "text/plain": [
       "(1310, 655)"
      ]
     },
     "execution_count": 170,
     "metadata": {},
     "output_type": "execute_result"
    }
   ],
   "source": [
    "down_X, down_y = RandomUnderSampler().fit_resample(x_padded, datasets.label)\n",
    "down_X_train, down_X_test, down_y_train, down_y_test = train_test_split(down_X, down_y)\n",
    "\n",
    "# 총 데이터 수 , 1 레이블 데이터 수\n",
    "len(down_y), down_y.sum()"
   ]
  },
  {
   "cell_type": "code",
   "execution_count": 171,
   "metadata": {
    "ExecuteTime": {
     "end_time": "2019-08-09T07:48:01.146788Z",
     "start_time": "2019-08-09T07:48:00.631084Z"
    }
   },
   "outputs": [
    {
     "name": "stderr",
     "output_type": "stream",
     "text": [
      "C:\\Users\\skarn\\Anaconda3\\envs\\DataAnalysis\\lib\\site-packages\\numpy\\lib\\type_check.py:546: DeprecationWarning: np.asscalar(a) is deprecated since NumPy v1.16, use a.item() instead\n",
      "  'a.item() instead', DeprecationWarning, stacklevel=1)\n"
     ]
    }
   ],
   "source": [
    "model_down = keras.Sequential([\n",
    "    keras.layers.Embedding(vocab_size, 10),\n",
    "    keras.layers.Conv1D(32, 3, padding=\"same\", activation=tf.nn.relu),\n",
    "    keras.layers.Dropout(0.5),\n",
    "    keras.layers.Conv1D(32, 3, padding=\"same\", activation=tf.nn.relu),\n",
    "    keras.layers.GlobalMaxPool1D(),\n",
    "    keras.layers.Dropout(0.5),\n",
    "    keras.layers.Dense(2, activation=tf.nn.sigmoid)\n",
    "])"
   ]
  },
  {
   "cell_type": "code",
   "execution_count": 176,
   "metadata": {
    "ExecuteTime": {
     "end_time": "2019-08-09T07:49:32.622459Z",
     "start_time": "2019-08-09T07:49:19.446994Z"
    }
   },
   "outputs": [
    {
     "name": "stdout",
     "output_type": "stream",
     "text": [
      "Train on 982 samples, validate on 328 samples\n",
      "Epoch 1/7\n",
      "982/982 [==============================] - ETA: 1:00 - loss: 0.3961 - recall_18: 0.875 - ETA: 8s - loss: 0.3702 - recall_18: 0.8750  - ETA: 5s - loss: 0.3646 - recall_18: 0.868 - ETA: 3s - loss: 0.3731 - recall_18: 0.872 - ETA: 2s - loss: 0.3671 - recall_18: 0.879 - ETA: 1s - loss: 0.3595 - recall_18: 0.883 - ETA: 0s - loss: 0.3599 - recall_18: 0.881 - ETA: 0s - loss: 0.3616 - recall_18: 0.879 - ETA: 0s - loss: 0.3554 - recall_18: 0.881 - 3s 3ms/sample - loss: 0.3574 - recall_18: 0.8798 - val_loss: 0.5657 - val_recall_18: 0.6951\n",
      "Epoch 2/7\n",
      "982/982 [==============================] - ETA: 0s - loss: 0.2149 - recall_18: 1.000 - ETA: 0s - loss: 0.2995 - recall_18: 0.887 - ETA: 0s - loss: 0.2852 - recall_18: 0.906 - ETA: 0s - loss: 0.2910 - recall_18: 0.915 - ETA: 0s - loss: 0.2988 - recall_18: 0.910 - ETA: 0s - loss: 0.2973 - recall_18: 0.909 - ETA: 0s - loss: 0.2945 - recall_18: 0.910 - ETA: 0s - loss: 0.2973 - recall_18: 0.907 - 0s 484us/sample - loss: 0.2948 - recall_18: 0.9073 - val_loss: 0.5861 - val_recall_18: 0.7165\n",
      "Epoch 3/7\n",
      "982/982 [==============================] - ETA: 0s - loss: 0.1958 - recall_18: 0.968 - ETA: 0s - loss: 0.2383 - recall_18: 0.916 - ETA: 0s - loss: 0.2345 - recall_18: 0.920 - ETA: 0s - loss: 0.2210 - recall_18: 0.934 - ETA: 0s - loss: 0.2186 - recall_18: 0.941 - ETA: 0s - loss: 0.2187 - recall_18: 0.942 - ETA: 0s - loss: 0.2157 - recall_18: 0.942 - ETA: 0s - loss: 0.2203 - recall_18: 0.938 - 1s 540us/sample - loss: 0.2225 - recall_18: 0.9369 - val_loss: 0.6349 - val_recall_18: 0.7195\n",
      "Epoch 4/7\n",
      "982/982 [==============================] - ETA: 0s - loss: 0.1165 - recall_18: 1.000 - ETA: 0s - loss: 0.1418 - recall_18: 0.989 - ETA: 0s - loss: 0.1596 - recall_18: 0.968 - ETA: 0s - loss: 0.1699 - recall_18: 0.964 - ETA: 0s - loss: 0.1708 - recall_18: 0.957 - ETA: 0s - loss: 0.1758 - recall_18: 0.955 - ETA: 0s - loss: 0.1747 - recall_18: 0.952 - 0s 468us/sample - loss: 0.1690 - recall_18: 0.9521 - val_loss: 0.7067 - val_recall_18: 0.7317\n",
      "Epoch 5/7\n",
      "982/982 [==============================] - ETA: 0s - loss: 0.1410 - recall_18: 0.937 - ETA: 0s - loss: 0.1562 - recall_18: 0.968 - ETA: 0s - loss: 0.1366 - recall_18: 0.962 - ETA: 0s - loss: 0.1291 - recall_18: 0.971 - ETA: 0s - loss: 0.1389 - recall_18: 0.965 - ETA: 0s - loss: 0.1429 - recall_18: 0.959 - ETA: 0s - loss: 0.1394 - recall_18: 0.960 - ETA: 0s - loss: 0.1376 - recall_18: 0.961 - 1s 512us/sample - loss: 0.1352 - recall_18: 0.9623 - val_loss: 0.7770 - val_recall_18: 0.7378\n",
      "Epoch 6/7\n",
      "982/982 [==============================] - ETA: 0s - loss: 0.0643 - recall_18: 1.000 - ETA: 0s - loss: 0.0910 - recall_18: 0.987 - ETA: 0s - loss: 0.1030 - recall_18: 0.978 - ETA: 0s - loss: 0.1085 - recall_18: 0.973 - ETA: 0s - loss: 0.1083 - recall_18: 0.975 - ETA: 0s - loss: 0.1062 - recall_18: 0.975 - ETA: 0s - loss: 0.1065 - recall_18: 0.975 - 0s 496us/sample - loss: 0.1070 - recall_18: 0.9745 - val_loss: 0.8181 - val_recall_18: 0.7348\n",
      "Epoch 7/7\n",
      "982/982 [==============================] - ETA: 0s - loss: 0.0908 - recall_18: 1.000 - ETA: 0s - loss: 0.0884 - recall_18: 0.974 - ETA: 0s - loss: 0.1037 - recall_18: 0.971 - ETA: 0s - loss: 0.0943 - recall_18: 0.977 - ETA: 0s - loss: 0.0917 - recall_18: 0.979 - ETA: 0s - loss: 0.0890 - recall_18: 0.978 - ETA: 0s - loss: 0.0848 - recall_18: 0.981 - 0s 466us/sample - loss: 0.0880 - recall_18: 0.9786 - val_loss: 0.8981 - val_recall_18: 0.7378\n",
      "328/328 [==============================] - ETA: 0s - loss: 1.2274 - recall_18: 0.718 - 0s 168us/sample - loss: 0.8981 - recall_18: 0.7378\n",
      "Test Recall: 0.7378049\n"
     ]
    },
    {
     "data": {
      "image/png": "[encoded data removed]",
      "text/plain": [
       "<Figure size 432x360 with 1 Axes>"
      ]
     },
     "metadata": {
      "needs_background": "light"
     },
     "output_type": "display_data"
    }
   ],
   "source": [
    "model_down.compile(optimizer='adam', \n",
    "              loss='binary_crossentropy',\n",
    "              metrics=[tf.keras.metrics.Recall()])\n",
    "\n",
    "history = model_down.fit(down_X_train,\n",
    "          pd.get_dummies(down_y_train),\n",
    "          epochs=7,\n",
    "          validation_data=(down_X_test, pd.get_dummies(down_y_test))\n",
    "         )\n",
    "plot_loss(history)\n",
    "test_loss, test_acc = model_down.evaluate(down_X_test, pd.get_dummies(down_y_test))\n",
    "print('Test Recall:', test_acc)"
   ]
  },
  {
   "cell_type": "code",
   "execution_count": 177,
   "metadata": {
    "ExecuteTime": {
     "end_time": "2019-08-09T07:49:39.291639Z",
     "start_time": "2019-08-09T07:49:38.181277Z"
    }
   },
   "outputs": [
    {
     "name": "stdout",
     "output_type": "stream",
     "text": [
      "전체채팅수328, 유해채팅수180\n"
     ]
    }
   ],
   "source": [
    "result = pd.DataFrame(np.apply_along_axis(index_to_text, 1, down_X_test))\n",
    "result['predict'] = model_down.predict_proba(down_X_test)[:,1] # 유해하다고 판별할 확률\n",
    "print('전체채팅수{}, 유해채팅수{}'.format(len(result),len(result[result.predict>0.5])))\n",
    "result[result.predict>0.5].head(10)\n",
    "result['label'] = down_y_test"
   ]
  },
  {
   "cell_type": "code",
   "execution_count": 178,
   "metadata": {
    "ExecuteTime": {
     "end_time": "2019-08-09T07:49:39.407575Z",
     "start_time": "2019-08-09T07:49:39.296638Z"
    }
   },
   "outputs": [
    {
     "data": {
      "text/html": [
       "<div>\n",
       "<style scoped>\n",
       "    .dataframe tbody tr th:only-of-type {\n",
       "        vertical-align: middle;\n",
       "    }\n",
       "\n",
       "    .dataframe tbody tr th {\n",
       "        vertical-align: top;\n",
       "    }\n",
       "\n",
       "    .dataframe thead th {\n",
       "        text-align: right;\n",
       "    }\n",
       "</style>\n",
       "<table border=\"1\" class=\"dataframe\">\n",
       "  <thead>\n",
       "    <tr style=\"text-align: right;\">\n",
       "      <th></th>\n",
       "      <th>0</th>\n",
       "      <th>predict</th>\n",
       "      <th>label</th>\n",
       "    </tr>\n",
       "  </thead>\n",
       "  <tbody>\n",
       "    <tr>\n",
       "      <th>2</th>\n",
       "      <td>미애 눈치 주네 창석 이 련 &lt;PAD&gt; &lt;PAD&gt; &lt;PAD&gt; &lt;PAD&gt;</td>\n",
       "      <td>0.999625</td>\n",
       "      <td>0</td>\n",
       "    </tr>\n",
       "    <tr>\n",
       "      <th>4</th>\n",
       "      <td>봉신 &lt;PAD&gt; &lt;PAD&gt; &lt;PAD&gt; &lt;PAD&gt; &lt;PAD&gt; &lt;PAD&gt; &lt;PAD&gt; &lt;...</td>\n",
       "      <td>0.124960</td>\n",
       "      <td>1</td>\n",
       "    </tr>\n",
       "    <tr>\n",
       "      <th>6</th>\n",
       "      <td>뿌직 &lt;PAD&gt; &lt;PAD&gt; &lt;PAD&gt; &lt;PAD&gt; &lt;PAD&gt; &lt;PAD&gt; &lt;PAD&gt; &lt;...</td>\n",
       "      <td>0.084351</td>\n",
       "      <td>1</td>\n",
       "    </tr>\n",
       "    <tr>\n",
       "      <th>11</th>\n",
       "      <td>캬아 아 ㅏㅏ &lt;PAD&gt; &lt;PAD&gt; &lt;PAD&gt; &lt;PAD&gt; &lt;PAD&gt; &lt;PAD&gt; &lt;PAD&gt;</td>\n",
       "      <td>0.776006</td>\n",
       "      <td>0</td>\n",
       "    </tr>\n",
       "    <tr>\n",
       "      <th>17</th>\n",
       "      <td>개욱기 네 &lt;PAD&gt; &lt;PAD&gt; &lt;PAD&gt; &lt;PAD&gt; &lt;PAD&gt; &lt;PAD&gt; &lt;PAD...</td>\n",
       "      <td>0.289622</td>\n",
       "      <td>1</td>\n",
       "    </tr>\n",
       "    <tr>\n",
       "      <th>18</th>\n",
       "      <td>되다 라나 ? &lt;PAD&gt; &lt;PAD&gt; &lt;PAD&gt; &lt;PAD&gt; &lt;PAD&gt; &lt;PAD&gt; &lt;PAD&gt;</td>\n",
       "      <td>0.977353</td>\n",
       "      <td>0</td>\n",
       "    </tr>\n",
       "    <tr>\n",
       "      <th>19</th>\n",
       "      <td>애 들 이 진짜 시르다 하자 나 &lt;PAD&gt; &lt;PAD&gt; &lt;PAD&gt;</td>\n",
       "      <td>0.999999</td>\n",
       "      <td>0</td>\n",
       "    </tr>\n",
       "    <tr>\n",
       "      <th>21</th>\n",
       "      <td>야겜 ㄷㄷ &lt;PAD&gt; &lt;PAD&gt; &lt;PAD&gt; &lt;PAD&gt; &lt;PAD&gt; &lt;PAD&gt; &lt;PAD...</td>\n",
       "      <td>0.062577</td>\n",
       "      <td>1</td>\n",
       "    </tr>\n",
       "    <tr>\n",
       "      <th>29</th>\n",
       "      <td>뇌절 ㅋㅋ &lt;PAD&gt; &lt;PAD&gt; &lt;PAD&gt; &lt;PAD&gt; &lt;PAD&gt; &lt;PAD&gt; &lt;PAD...</td>\n",
       "      <td>0.188417</td>\n",
       "      <td>1</td>\n",
       "    </tr>\n",
       "    <tr>\n",
       "      <th>32</th>\n",
       "      <td>양 팀 경기 력 장난 아니다 &lt;PAD&gt; &lt;PAD&gt; &lt;PAD&gt; &lt;PAD&gt;</td>\n",
       "      <td>0.999972</td>\n",
       "      <td>0</td>\n",
       "    </tr>\n",
       "    <tr>\n",
       "      <th>34</th>\n",
       "      <td>아주 죽여주다 ㅋㅋ &lt;PAD&gt; &lt;PAD&gt; &lt;PAD&gt; &lt;PAD&gt; &lt;PAD&gt; &lt;PAD&gt;...</td>\n",
       "      <td>0.346649</td>\n",
       "      <td>1</td>\n",
       "    </tr>\n",
       "    <tr>\n",
       "      <th>37</th>\n",
       "      <td>되다 아니다 &lt;PAD&gt; &lt;PAD&gt; &lt;PAD&gt; &lt;PAD&gt; &lt;PAD&gt; &lt;PAD&gt; &lt;PA...</td>\n",
       "      <td>0.783620</td>\n",
       "      <td>0</td>\n",
       "    </tr>\n",
       "    <tr>\n",
       "      <th>39</th>\n",
       "      <td>프림 좌 리듬 쩐다 &lt;PAD&gt; &lt;PAD&gt; &lt;PAD&gt; &lt;PAD&gt; &lt;PAD&gt; &lt;PAD&gt;</td>\n",
       "      <td>0.868795</td>\n",
       "      <td>0</td>\n",
       "    </tr>\n",
       "    <tr>\n",
       "      <th>41</th>\n",
       "      <td>닥치 라 구 &lt;PAD&gt; &lt;PAD&gt; &lt;PAD&gt; &lt;PAD&gt; &lt;PAD&gt; &lt;PAD&gt; &lt;PAD&gt;</td>\n",
       "      <td>0.743269</td>\n",
       "      <td>0</td>\n",
       "    </tr>\n",
       "    <tr>\n",
       "      <th>43</th>\n",
       "      <td>??? &lt;PAD&gt; &lt;PAD&gt; &lt;PAD&gt; &lt;PAD&gt; &lt;PAD&gt; &lt;PAD&gt; &lt;PAD&gt; ...</td>\n",
       "      <td>0.667559</td>\n",
       "      <td>0</td>\n",
       "    </tr>\n",
       "    <tr>\n",
       "      <th>45</th>\n",
       "      <td>부시 에서 이상하다 나오다 놓다 ㅋㅋㅋ &lt;PAD&gt; &lt;PAD&gt; &lt;PAD&gt; &lt;PAD&gt;</td>\n",
       "      <td>0.543359</td>\n",
       "      <td>0</td>\n",
       "    </tr>\n",
       "    <tr>\n",
       "      <th>48</th>\n",
       "      <td>빌다 런 조 아 &lt;PAD&gt; &lt;PAD&gt; &lt;PAD&gt; &lt;PAD&gt; &lt;PAD&gt; &lt;PAD&gt;</td>\n",
       "      <td>0.955790</td>\n",
       "      <td>0</td>\n",
       "    </tr>\n",
       "    <tr>\n",
       "      <th>51</th>\n",
       "      <td>ㄷㄴ 안 터지다 슬슬 대다 각 잡 네 ㅋㅋㅋ &lt;PAD&gt;</td>\n",
       "      <td>0.117839</td>\n",
       "      <td>1</td>\n",
       "    </tr>\n",
       "    <tr>\n",
       "      <th>53</th>\n",
       "      <td>웃음 사냥꾼 되다 &lt;PAD&gt; &lt;PAD&gt; &lt;PAD&gt; &lt;PAD&gt; &lt;PAD&gt; &lt;PAD&gt; ...</td>\n",
       "      <td>0.908957</td>\n",
       "      <td>0</td>\n",
       "    </tr>\n",
       "    <tr>\n",
       "      <th>64</th>\n",
       "      <td>킹집 개 ! &lt;PAD&gt; &lt;PAD&gt; &lt;PAD&gt; &lt;PAD&gt; &lt;PAD&gt; &lt;PAD&gt; &lt;PAD&gt;</td>\n",
       "      <td>0.994418</td>\n",
       "      <td>0</td>\n",
       "    </tr>\n",
       "    <tr>\n",
       "      <th>71</th>\n",
       "      <td>등신 장비 &lt;PAD&gt; &lt;PAD&gt; &lt;PAD&gt; &lt;PAD&gt; &lt;PAD&gt; &lt;PAD&gt; &lt;PAD...</td>\n",
       "      <td>0.368828</td>\n",
       "      <td>1</td>\n",
       "    </tr>\n",
       "    <tr>\n",
       "      <th>75</th>\n",
       "      <td>피오라 각인 가 &lt;PAD&gt; &lt;PAD&gt; &lt;PAD&gt; &lt;PAD&gt; &lt;PAD&gt; &lt;PAD&gt; &lt;...</td>\n",
       "      <td>0.495678</td>\n",
       "      <td>0</td>\n",
       "    </tr>\n",
       "    <tr>\n",
       "      <th>79</th>\n",
       "      <td>쥐 불쌍하다 &lt;PAD&gt; &lt;PAD&gt; &lt;PAD&gt; &lt;PAD&gt; &lt;PAD&gt; &lt;PAD&gt; &lt;PA...</td>\n",
       "      <td>0.941161</td>\n",
       "      <td>0</td>\n",
       "    </tr>\n",
       "    <tr>\n",
       "      <th>80</th>\n",
       "      <td>미국 에서 태어나다 미구겡 서 자르다 미국인 이지 &lt;PAD&gt; &lt;PAD&gt;</td>\n",
       "      <td>0.999754</td>\n",
       "      <td>0</td>\n",
       "    </tr>\n",
       "    <tr>\n",
       "      <th>86</th>\n",
       "      <td>사기 on &lt;PAD&gt; &lt;PAD&gt; &lt;PAD&gt; &lt;PAD&gt; &lt;PAD&gt; &lt;PAD&gt; &lt;PAD...</td>\n",
       "      <td>0.994726</td>\n",
       "      <td>0</td>\n",
       "    </tr>\n",
       "    <tr>\n",
       "      <th>89</th>\n",
       "      <td>승품 아니다 ??? &lt;PAD&gt; &lt;PAD&gt; &lt;PAD&gt; &lt;PAD&gt; &lt;PAD&gt; &lt;PAD&gt;...</td>\n",
       "      <td>0.532536</td>\n",
       "      <td>0</td>\n",
       "    </tr>\n",
       "    <tr>\n",
       "      <th>95</th>\n",
       "      <td>딜미쳤 네 &lt;PAD&gt; &lt;PAD&gt; &lt;PAD&gt; &lt;PAD&gt; &lt;PAD&gt; &lt;PAD&gt; &lt;PAD...</td>\n",
       "      <td>0.486070</td>\n",
       "      <td>1</td>\n",
       "    </tr>\n",
       "    <tr>\n",
       "      <th>98</th>\n",
       "      <td>사스 가 브베 &lt;PAD&gt; &lt;PAD&gt; &lt;PAD&gt; &lt;PAD&gt; &lt;PAD&gt; &lt;PAD&gt; &lt;PAD&gt;</td>\n",
       "      <td>0.084728</td>\n",
       "      <td>1</td>\n",
       "    </tr>\n",
       "    <tr>\n",
       "      <th>104</th>\n",
       "      <td>환 &lt;PAD&gt; &lt;PAD&gt; &lt;PAD&gt; &lt;PAD&gt; &lt;PAD&gt; &lt;PAD&gt; &lt;PAD&gt; &lt;P...</td>\n",
       "      <td>0.650424</td>\n",
       "      <td>0</td>\n",
       "    </tr>\n",
       "    <tr>\n",
       "      <th>106</th>\n",
       "      <td>뇌절 뭐 인데 ㅋㅋ &lt;PAD&gt; &lt;PAD&gt; &lt;PAD&gt; &lt;PAD&gt; &lt;PAD&gt; &lt;PAD&gt;</td>\n",
       "      <td>0.075475</td>\n",
       "      <td>1</td>\n",
       "    </tr>\n",
       "    <tr>\n",
       "      <th>...</th>\n",
       "      <td>...</td>\n",
       "      <td>...</td>\n",
       "      <td>...</td>\n",
       "    </tr>\n",
       "    <tr>\n",
       "      <th>206</th>\n",
       "      <td>탑 신병 대결 ㅋㅋㅋ &lt;PAD&gt; &lt;PAD&gt; &lt;PAD&gt; &lt;PAD&gt; &lt;PAD&gt; &lt;PAD&gt;</td>\n",
       "      <td>0.068180</td>\n",
       "      <td>1</td>\n",
       "    </tr>\n",
       "    <tr>\n",
       "      <th>209</th>\n",
       "      <td>ㅁㅊㅋㅋㅋ &lt;PAD&gt; &lt;PAD&gt; &lt;PAD&gt; &lt;PAD&gt; &lt;PAD&gt; &lt;PAD&gt; &lt;PAD...</td>\n",
       "      <td>0.182199</td>\n",
       "      <td>1</td>\n",
       "    </tr>\n",
       "    <tr>\n",
       "      <th>213</th>\n",
       "      <td>본진 거지 이다 같다 &lt;PAD&gt; &lt;PAD&gt; &lt;PAD&gt; &lt;PAD&gt; &lt;PAD&gt; &lt;PAD&gt;</td>\n",
       "      <td>0.299334</td>\n",
       "      <td>1</td>\n",
       "    </tr>\n",
       "    <tr>\n",
       "      <th>225</th>\n",
       "      <td>옥 스리 &lt;PAD&gt; &lt;PAD&gt; &lt;PAD&gt; &lt;PAD&gt; &lt;PAD&gt; &lt;PAD&gt; &lt;PAD&gt;...</td>\n",
       "      <td>0.069585</td>\n",
       "      <td>1</td>\n",
       "    </tr>\n",
       "    <tr>\n",
       "      <th>231</th>\n",
       "      <td>머리 는 또 왜 이렇다 ㅋㅋㅋ &lt;PAD&gt; &lt;PAD&gt; &lt;PAD&gt; &lt;PAD&gt;</td>\n",
       "      <td>0.896997</td>\n",
       "      <td>0</td>\n",
       "    </tr>\n",
       "    <tr>\n",
       "      <th>235</th>\n",
       "      <td>팬미팅 이 넹 &lt;PAD&gt; &lt;PAD&gt; &lt;PAD&gt; &lt;PAD&gt; &lt;PAD&gt; &lt;PAD&gt; &lt;PAD&gt;</td>\n",
       "      <td>0.219525</td>\n",
       "      <td>1</td>\n",
       "    </tr>\n",
       "    <tr>\n",
       "      <th>237</th>\n",
       "      <td>마 사 끄다 ??? &lt;PAD&gt; &lt;PAD&gt; &lt;PAD&gt; &lt;PAD&gt; &lt;PAD&gt; &lt;PAD&gt;</td>\n",
       "      <td>0.999208</td>\n",
       "      <td>0</td>\n",
       "    </tr>\n",
       "    <tr>\n",
       "      <th>239</th>\n",
       "      <td>탱 가래 원딜보 고 ㅋㅋㅋ &lt;PAD&gt; &lt;PAD&gt; &lt;PAD&gt; &lt;PAD&gt; &lt;PAD&gt;</td>\n",
       "      <td>0.910893</td>\n",
       "      <td>0</td>\n",
       "    </tr>\n",
       "    <tr>\n",
       "      <th>243</th>\n",
       "      <td>ㄴㄴ 지하 에 브베 재산 있다 &lt;PAD&gt; &lt;PAD&gt; &lt;PAD&gt; &lt;PAD&gt;</td>\n",
       "      <td>0.987683</td>\n",
       "      <td>0</td>\n",
       "    </tr>\n",
       "    <tr>\n",
       "      <th>246</th>\n",
       "      <td>에바 야 &lt;PAD&gt; &lt;PAD&gt; &lt;PAD&gt; &lt;PAD&gt; &lt;PAD&gt; &lt;PAD&gt; &lt;PAD&gt;...</td>\n",
       "      <td>0.998138</td>\n",
       "      <td>0</td>\n",
       "    </tr>\n",
       "    <tr>\n",
       "      <th>247</th>\n",
       "      <td>손해 인데 ? &lt;PAD&gt; &lt;PAD&gt; &lt;PAD&gt; &lt;PAD&gt; &lt;PAD&gt; &lt;PAD&gt; &lt;PAD&gt;</td>\n",
       "      <td>0.999542</td>\n",
       "      <td>0</td>\n",
       "    </tr>\n",
       "    <tr>\n",
       "      <th>250</th>\n",
       "      <td>환 &lt;PAD&gt; &lt;PAD&gt; &lt;PAD&gt; &lt;PAD&gt; &lt;PAD&gt; &lt;PAD&gt; &lt;PAD&gt; &lt;P...</td>\n",
       "      <td>0.650424</td>\n",
       "      <td>0</td>\n",
       "    </tr>\n",
       "    <tr>\n",
       "      <th>254</th>\n",
       "      <td>빠따들어 !! &lt;PAD&gt; &lt;PAD&gt; &lt;PAD&gt; &lt;PAD&gt; &lt;PAD&gt; &lt;PAD&gt; &lt;P...</td>\n",
       "      <td>0.058365</td>\n",
       "      <td>1</td>\n",
       "    </tr>\n",
       "    <tr>\n",
       "      <th>262</th>\n",
       "      <td>- 젖 - &lt;PAD&gt; &lt;PAD&gt; &lt;PAD&gt; &lt;PAD&gt; &lt;PAD&gt; &lt;PAD&gt; &lt;PAD&gt;</td>\n",
       "      <td>0.109331</td>\n",
       "      <td>1</td>\n",
       "    </tr>\n",
       "    <tr>\n",
       "      <th>274</th>\n",
       "      <td>야겜 ? &lt;PAD&gt; &lt;PAD&gt; &lt;PAD&gt; &lt;PAD&gt; &lt;PAD&gt; &lt;PAD&gt; &lt;PAD&gt;...</td>\n",
       "      <td>0.328875</td>\n",
       "      <td>1</td>\n",
       "    </tr>\n",
       "    <tr>\n",
       "      <th>275</th>\n",
       "      <td>개몬해 &lt;PAD&gt; &lt;PAD&gt; &lt;PAD&gt; &lt;PAD&gt; &lt;PAD&gt; &lt;PAD&gt; &lt;PAD&gt; ...</td>\n",
       "      <td>0.077713</td>\n",
       "      <td>1</td>\n",
       "    </tr>\n",
       "    <tr>\n",
       "      <th>276</th>\n",
       "      <td>봉신 ㅋㅋ &lt;PAD&gt; &lt;PAD&gt; &lt;PAD&gt; &lt;PAD&gt; &lt;PAD&gt; &lt;PAD&gt; &lt;PAD...</td>\n",
       "      <td>0.280273</td>\n",
       "      <td>1</td>\n",
       "    </tr>\n",
       "    <tr>\n",
       "      <th>289</th>\n",
       "      <td>인융치킹 먹다 엉 ~ &lt;PAD&gt; &lt;PAD&gt; &lt;PAD&gt; &lt;PAD&gt; &lt;PAD&gt; &lt;PAD&gt;</td>\n",
       "      <td>0.076977</td>\n",
       "      <td>1</td>\n",
       "    </tr>\n",
       "    <tr>\n",
       "      <th>291</th>\n",
       "      <td>엄마 없다 ... &lt;PAD&gt; &lt;PAD&gt; &lt;PAD&gt; &lt;PAD&gt; &lt;PAD&gt; &lt;PAD&gt; ...</td>\n",
       "      <td>0.257066</td>\n",
       "      <td>1</td>\n",
       "    </tr>\n",
       "    <tr>\n",
       "      <th>295</th>\n",
       "      <td>그냥 호스팅 넘기다 가다 ㅋㅋㅋ &lt;PAD&gt; &lt;PAD&gt; &lt;PAD&gt; &lt;PAD&gt; &lt;PAD&gt;</td>\n",
       "      <td>0.805810</td>\n",
       "      <td>0</td>\n",
       "    </tr>\n",
       "    <tr>\n",
       "      <th>298</th>\n",
       "      <td>원딜 벌써 불쌍하다 &lt;PAD&gt; &lt;PAD&gt; &lt;PAD&gt; &lt;PAD&gt; &lt;PAD&gt; &lt;PAD&gt;...</td>\n",
       "      <td>0.999498</td>\n",
       "      <td>0</td>\n",
       "    </tr>\n",
       "    <tr>\n",
       "      <th>300</th>\n",
       "      <td>시 차다 on &lt;PAD&gt; &lt;PAD&gt; &lt;PAD&gt; &lt;PAD&gt; &lt;PAD&gt; &lt;PAD&gt; &lt;PAD&gt;</td>\n",
       "      <td>0.942752</td>\n",
       "      <td>0</td>\n",
       "    </tr>\n",
       "    <tr>\n",
       "      <th>301</th>\n",
       "      <td>하다 일이 너무 &lt;OOV&gt; &lt;PAD&gt; &lt;PAD&gt; &lt;PAD&gt; &lt;PAD&gt; &lt;PAD&gt; &lt;...</td>\n",
       "      <td>0.986861</td>\n",
       "      <td>0</td>\n",
       "    </tr>\n",
       "    <tr>\n",
       "      <th>302</th>\n",
       "      <td>똥국 &lt;PAD&gt; &lt;PAD&gt; &lt;PAD&gt; &lt;PAD&gt; &lt;PAD&gt; &lt;PAD&gt; &lt;PAD&gt; &lt;...</td>\n",
       "      <td>0.440095</td>\n",
       "      <td>1</td>\n",
       "    </tr>\n",
       "    <tr>\n",
       "      <th>304</th>\n",
       "      <td>2019 수능 도 지금 뿐 이야 &lt;PAD&gt; &lt;PAD&gt; &lt;PAD&gt; &lt;PAD&gt;</td>\n",
       "      <td>0.984802</td>\n",
       "      <td>0</td>\n",
       "    </tr>\n",
       "    <tr>\n",
       "      <th>307</th>\n",
       "      <td>망 가 뿐이다 &lt;PAD&gt; &lt;PAD&gt; &lt;PAD&gt; &lt;PAD&gt; &lt;PAD&gt; &lt;PAD&gt; &lt;PAD&gt;</td>\n",
       "      <td>0.075934</td>\n",
       "      <td>1</td>\n",
       "    </tr>\n",
       "    <tr>\n",
       "      <th>311</th>\n",
       "      <td>탑 크리 좋다 &lt;PAD&gt; &lt;PAD&gt; &lt;PAD&gt; &lt;PAD&gt; &lt;PAD&gt; &lt;PAD&gt; &lt;PAD&gt;</td>\n",
       "      <td>0.584287</td>\n",
       "      <td>0</td>\n",
       "    </tr>\n",
       "    <tr>\n",
       "      <th>314</th>\n",
       "      <td>똥 국 &lt;PAD&gt; &lt;PAD&gt; &lt;PAD&gt; &lt;PAD&gt; &lt;PAD&gt; &lt;PAD&gt; &lt;PAD&gt; ...</td>\n",
       "      <td>0.064088</td>\n",
       "      <td>1</td>\n",
       "    </tr>\n",
       "    <tr>\n",
       "      <th>318</th>\n",
       "      <td>겜 나가다 쉴드 불가 지 &lt;PAD&gt; &lt;PAD&gt; &lt;PAD&gt; &lt;PAD&gt; &lt;PAD&gt;</td>\n",
       "      <td>0.998949</td>\n",
       "      <td>0</td>\n",
       "    </tr>\n",
       "    <tr>\n",
       "      <th>319</th>\n",
       "      <td>콩 까지 마 콩 까지 마 &lt;PAD&gt; &lt;PAD&gt; &lt;PAD&gt; &lt;PAD&gt;</td>\n",
       "      <td>0.996486</td>\n",
       "      <td>0</td>\n",
       "    </tr>\n",
       "  </tbody>\n",
       "</table>\n",
       "<p>86 rows × 3 columns</p>\n",
       "</div>"
      ],
      "text/plain": [
       "                                                     0   predict  label\n",
       "2              미애 눈치 주네 창석 이 련 <PAD> <PAD> <PAD> <PAD>  0.999625      0\n",
       "4    봉신 <PAD> <PAD> <PAD> <PAD> <PAD> <PAD> <PAD> <...  0.124960      1\n",
       "6    뿌직 <PAD> <PAD> <PAD> <PAD> <PAD> <PAD> <PAD> <...  0.084351      1\n",
       "11   캬아 아 ㅏㅏ <PAD> <PAD> <PAD> <PAD> <PAD> <PAD> <PAD>  0.776006      0\n",
       "17   개욱기 네 <PAD> <PAD> <PAD> <PAD> <PAD> <PAD> <PAD...  0.289622      1\n",
       "18   되다 라나 ? <PAD> <PAD> <PAD> <PAD> <PAD> <PAD> <PAD>  0.977353      0\n",
       "19                 애 들 이 진짜 시르다 하자 나 <PAD> <PAD> <PAD>  0.999999      0\n",
       "21   야겜 ㄷㄷ <PAD> <PAD> <PAD> <PAD> <PAD> <PAD> <PAD...  0.062577      1\n",
       "29   뇌절 ㅋㅋ <PAD> <PAD> <PAD> <PAD> <PAD> <PAD> <PAD...  0.188417      1\n",
       "32             양 팀 경기 력 장난 아니다 <PAD> <PAD> <PAD> <PAD>  0.999972      0\n",
       "34   아주 죽여주다 ㅋㅋ <PAD> <PAD> <PAD> <PAD> <PAD> <PAD>...  0.346649      1\n",
       "37   되다 아니다 <PAD> <PAD> <PAD> <PAD> <PAD> <PAD> <PA...  0.783620      0\n",
       "39      프림 좌 리듬 쩐다 <PAD> <PAD> <PAD> <PAD> <PAD> <PAD>  0.868795      0\n",
       "41    닥치 라 구 <PAD> <PAD> <PAD> <PAD> <PAD> <PAD> <PAD>  0.743269      0\n",
       "43   ??? <PAD> <PAD> <PAD> <PAD> <PAD> <PAD> <PAD> ...  0.667559      0\n",
       "45       부시 에서 이상하다 나오다 놓다 ㅋㅋㅋ <PAD> <PAD> <PAD> <PAD>  0.543359      0\n",
       "48        빌다 런 조 아 <PAD> <PAD> <PAD> <PAD> <PAD> <PAD>  0.955790      0\n",
       "51                      ㄷㄴ 안 터지다 슬슬 대다 각 잡 네 ㅋㅋㅋ <PAD>  0.117839      1\n",
       "53   웃음 사냥꾼 되다 <PAD> <PAD> <PAD> <PAD> <PAD> <PAD> ...  0.908957      0\n",
       "64    킹집 개 ! <PAD> <PAD> <PAD> <PAD> <PAD> <PAD> <PAD>  0.994418      0\n",
       "71   등신 장비 <PAD> <PAD> <PAD> <PAD> <PAD> <PAD> <PAD...  0.368828      1\n",
       "75   피오라 각인 가 <PAD> <PAD> <PAD> <PAD> <PAD> <PAD> <...  0.495678      0\n",
       "79   쥐 불쌍하다 <PAD> <PAD> <PAD> <PAD> <PAD> <PAD> <PA...  0.941161      0\n",
       "80             미국 에서 태어나다 미구겡 서 자르다 미국인 이지 <PAD> <PAD>  0.999754      0\n",
       "86   사기 on <PAD> <PAD> <PAD> <PAD> <PAD> <PAD> <PAD...  0.994726      0\n",
       "89   승품 아니다 ??? <PAD> <PAD> <PAD> <PAD> <PAD> <PAD>...  0.532536      0\n",
       "95   딜미쳤 네 <PAD> <PAD> <PAD> <PAD> <PAD> <PAD> <PAD...  0.486070      1\n",
       "98   사스 가 브베 <PAD> <PAD> <PAD> <PAD> <PAD> <PAD> <PAD>  0.084728      1\n",
       "104  환 <PAD> <PAD> <PAD> <PAD> <PAD> <PAD> <PAD> <P...  0.650424      0\n",
       "106     뇌절 뭐 인데 ㅋㅋ <PAD> <PAD> <PAD> <PAD> <PAD> <PAD>  0.075475      1\n",
       "..                                                 ...       ...    ...\n",
       "206    탑 신병 대결 ㅋㅋㅋ <PAD> <PAD> <PAD> <PAD> <PAD> <PAD>  0.068180      1\n",
       "209  ㅁㅊㅋㅋㅋ <PAD> <PAD> <PAD> <PAD> <PAD> <PAD> <PAD...  0.182199      1\n",
       "213    본진 거지 이다 같다 <PAD> <PAD> <PAD> <PAD> <PAD> <PAD>  0.299334      1\n",
       "225  옥 스리 <PAD> <PAD> <PAD> <PAD> <PAD> <PAD> <PAD>...  0.069585      1\n",
       "231           머리 는 또 왜 이렇다 ㅋㅋㅋ <PAD> <PAD> <PAD> <PAD>  0.896997      0\n",
       "235  팬미팅 이 넹 <PAD> <PAD> <PAD> <PAD> <PAD> <PAD> <PAD>  0.219525      1\n",
       "237     마 사 끄다 ??? <PAD> <PAD> <PAD> <PAD> <PAD> <PAD>  0.999208      0\n",
       "239       탱 가래 원딜보 고 ㅋㅋㅋ <PAD> <PAD> <PAD> <PAD> <PAD>  0.910893      0\n",
       "243           ㄴㄴ 지하 에 브베 재산 있다 <PAD> <PAD> <PAD> <PAD>  0.987683      0\n",
       "246  에바 야 <PAD> <PAD> <PAD> <PAD> <PAD> <PAD> <PAD>...  0.998138      0\n",
       "247  손해 인데 ? <PAD> <PAD> <PAD> <PAD> <PAD> <PAD> <PAD>  0.999542      0\n",
       "250  환 <PAD> <PAD> <PAD> <PAD> <PAD> <PAD> <PAD> <P...  0.650424      0\n",
       "254  빠따들어 !! <PAD> <PAD> <PAD> <PAD> <PAD> <PAD> <P...  0.058365      1\n",
       "262    - 젖 - <PAD> <PAD> <PAD> <PAD> <PAD> <PAD> <PAD>  0.109331      1\n",
       "274  야겜 ? <PAD> <PAD> <PAD> <PAD> <PAD> <PAD> <PAD>...  0.328875      1\n",
       "275  개몬해 <PAD> <PAD> <PAD> <PAD> <PAD> <PAD> <PAD> ...  0.077713      1\n",
       "276  봉신 ㅋㅋ <PAD> <PAD> <PAD> <PAD> <PAD> <PAD> <PAD...  0.280273      1\n",
       "289    인융치킹 먹다 엉 ~ <PAD> <PAD> <PAD> <PAD> <PAD> <PAD>  0.076977      1\n",
       "291  엄마 없다 ... <PAD> <PAD> <PAD> <PAD> <PAD> <PAD> ...  0.257066      1\n",
       "295    그냥 호스팅 넘기다 가다 ㅋㅋㅋ <PAD> <PAD> <PAD> <PAD> <PAD>  0.805810      0\n",
       "298  원딜 벌써 불쌍하다 <PAD> <PAD> <PAD> <PAD> <PAD> <PAD>...  0.999498      0\n",
       "300  시 차다 on <PAD> <PAD> <PAD> <PAD> <PAD> <PAD> <PAD>  0.942752      0\n",
       "301  하다 일이 너무 <OOV> <PAD> <PAD> <PAD> <PAD> <PAD> <...  0.986861      0\n",
       "302  똥국 <PAD> <PAD> <PAD> <PAD> <PAD> <PAD> <PAD> <...  0.440095      1\n",
       "304          2019 수능 도 지금 뿐 이야 <PAD> <PAD> <PAD> <PAD>  0.984802      0\n",
       "307  망 가 뿐이다 <PAD> <PAD> <PAD> <PAD> <PAD> <PAD> <PAD>  0.075934      1\n",
       "311  탑 크리 좋다 <PAD> <PAD> <PAD> <PAD> <PAD> <PAD> <PAD>  0.584287      0\n",
       "314  똥 국 <PAD> <PAD> <PAD> <PAD> <PAD> <PAD> <PAD> ...  0.064088      1\n",
       "318        겜 나가다 쉴드 불가 지 <PAD> <PAD> <PAD> <PAD> <PAD>  0.998949      0\n",
       "319              콩 까지 마 콩 까지 마 <PAD> <PAD> <PAD> <PAD>  0.996486      0\n",
       "\n",
       "[86 rows x 3 columns]"
      ]
     },
     "execution_count": 178,
     "metadata": {},
     "output_type": "execute_result"
    }
   ],
   "source": [
    "# 예측 실패 채팅\n",
    "result[model_down.predict_classes(down_X_test) != down_y_test]"
   ]
  },
  {
   "cell_type": "code",
   "execution_count": 190,
   "metadata": {
    "ExecuteTime": {
     "end_time": "2019-08-09T07:50:19.644556Z",
     "start_time": "2019-08-09T07:50:19.618568Z"
    }
   },
   "outputs": [
    {
     "name": "stdout",
     "output_type": "stream",
     "text": [
      "['미애']\n"
     ]
    },
    {
     "data": {
      "text/plain": [
       "array([[1.8961109e-04, 9.9971288e-01]], dtype=float32)"
      ]
     },
     "execution_count": 190,
     "metadata": {},
     "output_type": "execute_result"
    }
   ],
   "source": [
    "test_chat = \"미애\"\n",
    "test_id = text_to_index(morp.morphs(test_chat, norm=True,stem=True))\n",
    "\n",
    "sentence_size = 10\n",
    "x_padded_temp = sequence.pad_sequences([test_id],\n",
    "                                 maxlen=sentence_size,\n",
    "                                 truncating='post',\n",
    "                                 padding='post',\n",
    "                                 value=pad_id)\n",
    "print(morp.morphs(test_chat, norm=True,stem=True)[:10])\n",
    "model_down.predict(x_padded_temp)"
   ]
  },
  {
   "cell_type": "code",
   "execution_count": null,
   "metadata": {
    "ExecuteTime": {
     "end_time": "2019-08-09T06:50:32.820243Z",
     "start_time": "2019-08-09T06:50:32.801256Z"
    }
   },
   "outputs": [],
   "source": []
  },
  {
   "cell_type": "markdown",
   "metadata": {},
   "source": [
    "## 모델 체크포인트 저장"
   ]
  },
  {
   "cell_type": "code",
   "execution_count": 191,
   "metadata": {
    "ExecuteTime": {
     "end_time": "2019-08-09T07:50:55.579044Z",
     "start_time": "2019-08-09T07:50:51.557299Z"
    }
   },
   "outputs": [],
   "source": [
    "model_up.save('../model/cnn_oversample.h5')"
   ]
  },
  {
   "cell_type": "markdown",
   "metadata": {},
   "source": [
    "# TODO\n",
    "- 형태소별 Tokenize 말고 한글 자모별 Tokenize 하여 실험해보기\n",
    "- CNN layer / Parameter 변경시켜보기\n",
    "- 예측 결과 검정하기\n",
    "    - Attention 이용"
   ]
  },
  {
   "cell_type": "code",
   "execution_count": null,
   "metadata": {},
   "outputs": [],
   "source": []
  }
 ],
 "metadata": {
  "kernelspec": {
   "display_name": "Python 3",
   "language": "python",
   "name": "python3"
  },
  "language_info": {
   "codemirror_mode": {
    "name": "ipython",
    "version": 3
   },
   "file_extension": ".py",
   "mimetype": "text/x-python",
   "name": "python",
   "nbconvert_exporter": "python",
   "pygments_lexer": "ipython3",
   "version": "3.7.3"
  }
 },
 "nbformat": 4,
 "nbformat_minor": 2
}
