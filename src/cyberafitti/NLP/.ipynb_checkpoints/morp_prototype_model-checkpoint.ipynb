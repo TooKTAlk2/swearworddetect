{
 "cells": [
  {
   "cell_type": "code",
   "execution_count": 1,
   "metadata": {
    "ExecuteTime": {
     "end_time": "2019-08-09T07:06:52.621003Z",
     "start_time": "2019-08-09T07:06:32.996230Z"
    }
   },
   "outputs": [
    {
     "name": "stdout",
     "output_type": "stream",
     "text": [
      "Chan 2019-08-09 \n",
      "\n",
      "CPython 3.7.3\n",
      "IPython 7.6.1\n",
      "\n",
      "numpy 1.16.4\n",
      "pandas 0.24.2\n",
      "sklearn 0.21.2\n",
      "konlpy 0.5.1\n",
      "tensorflow 1.13.1\n",
      "matplotlib 3.1.0\n",
      "imblearn 0.5.0\n"
     ]
    }
   ],
   "source": [
    "%load_ext watermark\n",
    "%watermark -a Chan -d -v -p numpy,pandas,sklearn,konlpy,tensorflow,matplotlib,imblearn"
   ]
  },
  {
   "cell_type": "code",
   "execution_count": 2,
   "metadata": {
    "ExecuteTime": {
     "end_time": "2019-08-09T07:06:53.322603Z",
     "start_time": "2019-08-09T07:06:52.626999Z"
    }
   },
   "outputs": [],
   "source": [
    "import numpy as np\n",
    "import pandas as pd\n",
    "from sklearn.model_selection import train_test_split\n",
    "from konlpy.tag import Okt\n",
    "import tensorflow as tf\n",
    "from tensorflow.python.keras.preprocessing import sequence\n",
    "from tensorflow import keras\n",
    "from tqdm import tqdm\n",
    "from collections import Counter\n",
    "from matplotlib import pyplot as plt\n",
    "import pickle"
   ]
  },
  {
   "cell_type": "markdown",
   "metadata": {},
   "source": [
    "# Load datasets"
   ]
  },
  {
   "cell_type": "code",
   "execution_count": 3,
   "metadata": {
    "ExecuteTime": {
     "end_time": "2019-08-09T07:06:53.558467Z",
     "start_time": "2019-08-09T07:06:53.326604Z"
    }
   },
   "outputs": [
    {
     "name": "stdout",
     "output_type": "stream",
     "text": [
      "1\n",
      "2\n",
      "3\n",
      "4\n",
      "5\n"
     ]
    },
    {
     "data": {
      "text/html": [
       "<div>\n",
       "<style scoped>\n",
       "    .dataframe tbody tr th:only-of-type {\n",
       "        vertical-align: middle;\n",
       "    }\n",
       "\n",
       "    .dataframe tbody tr th {\n",
       "        vertical-align: top;\n",
       "    }\n",
       "\n",
       "    .dataframe thead th {\n",
       "        text-align: right;\n",
       "    }\n",
       "</style>\n",
       "<table border=\"1\" class=\"dataframe\">\n",
       "  <thead>\n",
       "    <tr style=\"text-align: right;\">\n",
       "      <th></th>\n",
       "      <th>comment</th>\n",
       "      <th>url_id</th>\n",
       "      <th>label</th>\n",
       "    </tr>\n",
       "  </thead>\n",
       "  <tbody>\n",
       "    <tr>\n",
       "      <th>0</th>\n",
       "      <td>아 이거 웃기네 ㅋㅋㅋ</td>\n",
       "      <td>56</td>\n",
       "      <td>0</td>\n",
       "    </tr>\n",
       "    <tr>\n",
       "      <th>1</th>\n",
       "      <td>슬</td>\n",
       "      <td>36</td>\n",
       "      <td>0</td>\n",
       "    </tr>\n",
       "    <tr>\n",
       "      <th>2</th>\n",
       "      <td>32.3 ㄷ</td>\n",
       "      <td>17</td>\n",
       "      <td>0</td>\n",
       "    </tr>\n",
       "    <tr>\n",
       "      <th>3</th>\n",
       "      <td>팬미팅이넹</td>\n",
       "      <td>56</td>\n",
       "      <td>1</td>\n",
       "    </tr>\n",
       "    <tr>\n",
       "      <th>4</th>\n",
       "      <td>빠꾸가 없네 이 둠피</td>\n",
       "      <td>27</td>\n",
       "      <td>0</td>\n",
       "    </tr>\n",
       "  </tbody>\n",
       "</table>\n",
       "</div>"
      ],
      "text/plain": [
       "        comment  url_id  label\n",
       "0  아 이거 웃기네 ㅋㅋㅋ      56      0\n",
       "1             슬      36      0\n",
       "2        32.3 ㄷ      17      0\n",
       "3         팬미팅이넹      56      1\n",
       "4   빠꾸가 없네 이 둠피      27      0"
      ]
     },
     "execution_count": 3,
     "metadata": {},
     "output_type": "execute_result"
    }
   ],
   "source": [
    "datasets = pd.DataFrame()\n",
    "for i in range(1,6):\n",
    "    print(i)\n",
    "    dump = pd.read_csv(\"../../data/labeled ({}).csv\".format(i), engine='python')\n",
    "    datasets = pd.concat([datasets, dump])\n",
    "datasets.head()"
   ]
  },
  {
   "cell_type": "code",
   "execution_count": 4,
   "metadata": {
    "ExecuteTime": {
     "end_time": "2019-08-09T07:06:53.588449Z",
     "start_time": "2019-08-09T07:06:53.564463Z"
    }
   },
   "outputs": [
    {
     "name": "stdout",
     "output_type": "stream",
     "text": [
      "<class 'pandas.core.frame.DataFrame'>\n",
      "Int64Index: 15000 entries, 0 to 2999\n",
      "Data columns (total 3 columns):\n",
      "comment    15000 non-null object\n",
      "url_id     15000 non-null int64\n",
      "label      15000 non-null int64\n",
      "dtypes: int64(2), object(1)\n",
      "memory usage: 468.8+ KB\n"
     ]
    }
   ],
   "source": [
    "datasets.info()"
   ]
  },
  {
   "cell_type": "code",
   "execution_count": 5,
   "metadata": {
    "ExecuteTime": {
     "end_time": "2019-08-09T07:06:53.605441Z",
     "start_time": "2019-08-09T07:06:53.593448Z"
    }
   },
   "outputs": [],
   "source": [
    "datasets.reset_index(drop=True,inplace=True)"
   ]
  },
  {
   "cell_type": "code",
   "execution_count": 6,
   "metadata": {
    "ExecuteTime": {
     "end_time": "2019-08-09T07:06:53.644417Z",
     "start_time": "2019-08-09T07:06:53.613436Z"
    }
   },
   "outputs": [],
   "source": [
    "datasets.label = datasets.label.astype('int')"
   ]
  },
  {
   "cell_type": "code",
   "execution_count": 7,
   "metadata": {
    "ExecuteTime": {
     "end_time": "2019-08-09T07:06:53.676399Z",
     "start_time": "2019-08-09T07:06:53.651416Z"
    }
   },
   "outputs": [
    {
     "data": {
      "text/plain": [
       "0.043666666666666666"
      ]
     },
     "execution_count": 7,
     "metadata": {},
     "output_type": "execute_result"
    }
   ],
   "source": [
    "len(datasets[datasets.label ==1])/ len(datasets) # 유해한 레이블의 데이터가 많이 부족함 데이터 편향ㅠㅠ"
   ]
  },
  {
   "cell_type": "code",
   "execution_count": 8,
   "metadata": {
    "ExecuteTime": {
     "end_time": "2019-08-09T07:08:08.928045Z",
     "start_time": "2019-08-09T07:08:08.919066Z"
    }
   },
   "outputs": [],
   "source": [
    "datasets.rename(columns={'comment':'chat'}, inplace=True)"
   ]
  },
  {
   "cell_type": "markdown",
   "metadata": {
    "ExecuteTime": {
     "end_time": "2019-08-06T15:38:19.687895Z",
     "start_time": "2019-08-06T15:38:19.677899Z"
    }
   },
   "source": [
    "# Tokenize\n",
    "## 형태소분석"
   ]
  },
  {
   "cell_type": "code",
   "execution_count": 9,
   "metadata": {
    "ExecuteTime": {
     "end_time": "2019-08-09T07:08:14.674755Z",
     "start_time": "2019-08-09T07:08:14.085097Z"
    }
   },
   "outputs": [
    {
     "name": "stderr",
     "output_type": "stream",
     "text": [
      "C:\\Users\\skarn\\Anaconda3\\envs\\DataAnalysis\\lib\\site-packages\\jpype\\_core.py:210: UserWarning: \n",
      "-------------------------------------------------------------------------------\n",
      "Deprecated: convertStrings was not specified when starting the JVM. The default\n",
      "behavior in JPype will be False starting in JPype 0.8. The recommended setting\n",
      "for new code is convertStrings=False.  The legacy value of True was assumed for\n",
      "this session. If you are a user of an application that reported this warning,\n",
      "please file a ticket with the developer.\n",
      "-------------------------------------------------------------------------------\n",
      "\n",
      "  \"\"\")\n"
     ]
    }
   ],
   "source": [
    "morp = Okt()"
   ]
  },
  {
   "cell_type": "code",
   "execution_count": 10,
   "metadata": {
    "ExecuteTime": {
     "end_time": "2019-08-09T07:08:51.287813Z",
     "start_time": "2019-08-09T07:08:16.922475Z"
    }
   },
   "outputs": [
    {
     "name": "stderr",
     "output_type": "stream",
     "text": [
      "100%|███████████████████████████████████████████████████████████████████████████| 15000/15000 [00:34<00:00, 436.68it/s]\n"
     ]
    }
   ],
   "source": [
    "morped = [morp.morphs(_, norm=True, stem=True) for _ in tqdm(datasets.chat)] # Stemming은 하지 않는다."
   ]
  },
  {
   "cell_type": "code",
   "execution_count": 11,
   "metadata": {
    "ExecuteTime": {
     "end_time": "2019-08-09T07:08:51.306801Z",
     "start_time": "2019-08-09T07:08:51.293807Z"
    }
   },
   "outputs": [
    {
     "data": {
      "text/plain": [
       "[['아', '이', '거', '웃기', '네', 'ㅋㅋㅋ'],\n",
       " ['슬'],\n",
       " ['32.3', 'ㄷ'],\n",
       " ['팬미팅', '이', '넹'],\n",
       " ['빠꾸', '가', '없다', '이', '두다', '피']]"
      ]
     },
     "execution_count": 11,
     "metadata": {},
     "output_type": "execute_result"
    }
   ],
   "source": [
    "morped[:5]"
   ]
  },
  {
   "cell_type": "markdown",
   "metadata": {},
   "source": [
    "## Dictionary\n",
    "최빈 형태소에 대한 단어사전 구성"
   ]
  },
  {
   "cell_type": "code",
   "execution_count": 38,
   "metadata": {
    "ExecuteTime": {
     "end_time": "2019-08-09T07:18:51.818465Z",
     "start_time": "2019-08-09T07:18:51.474665Z"
    }
   },
   "outputs": [
    {
     "name": "stdout",
     "output_type": "stream",
     "text": [
      "고빈도 단어:\n",
      "ㅋㅋㅋ :  2823\n",
      "? :  1108\n",
      "이 :  1103\n",
      "하다 :  840\n",
      "! :  395\n",
      "ㅋㅋ :  391\n",
      "가 :  384\n",
      "오다 :  363\n",
      "아 :  299\n",
      "이다 :  294\n",
      "\n",
      "단어 사전:\n",
      "0 <PAD>\n",
      "1 <OOV>\n",
      "2 ㅋㅋㅋ\n",
      "3 ?\n",
      "4 이\n",
      "5 하다\n",
      "6 !\n",
      "7 ㅋㅋ\n",
      "8 가\n",
      "9 오다\n",
      "\n",
      "단어 사전 크기:  8000\n"
     ]
    }
   ],
   "source": [
    "vocab_size = 10000\n",
    "\n",
    "pad_id = 0\n",
    "oov_id = 1\n",
    "index_offset = 1\n",
    "\n",
    "def make_vocab(sentences):\n",
    "    word_counter = Counter()\n",
    "\n",
    "    for sent in sentences:\n",
    "        word_counter.update(sent)\n",
    "\n",
    "    most_common = word_counter.most_common()\n",
    "    print(\"고빈도 단어:\")\n",
    "    for k, v in most_common[:10]:\n",
    "        print(k, \": \", v)\n",
    "\n",
    "        vocab = {\n",
    "        '<PAD>': pad_id,\n",
    "        '<OOV>': oov_id\n",
    "        }\n",
    "    for i, (word, cnt) in enumerate(most_common, start=index_offset+1):\n",
    "        vocab[word] = i\n",
    "        if len(vocab) >= vocab_size:\n",
    "            break\n",
    "\n",
    "    return vocab\n",
    "\n",
    "word_index = make_vocab(morped)\n",
    "word_inverted_index = {v:k for k, v in word_index.items()}\n",
    "\n",
    "print(\"\\n단어 사전:\")\n",
    "for i in range(0, 10):\n",
    "    print(i, word_inverted_index[i])\n",
    "\n",
    "print(\"\\n단어 사전 크기: \", len(word_index))\n",
    "\n",
    "# vocab save\n",
    "with open('./vocab/vocab_index.pickle', 'wb') as f:\n",
    "    pickle.dump(word_index, f, pickle.HIGHEST_PROTOCOL)\n",
    "with open('./vocab/vocab_inverted_index.pickle', 'wb') as f:\n",
    "    pickle.dump(word_inverted_index, f, pickle.HIGHEST_PROTOCOL)"
   ]
  },
  {
   "cell_type": "code",
   "execution_count": 39,
   "metadata": {
    "ExecuteTime": {
     "end_time": "2019-08-09T07:18:54.594877Z",
     "start_time": "2019-08-09T07:18:54.564894Z"
    }
   },
   "outputs": [
    {
     "name": "stdout",
     "output_type": "stream",
     "text": [
      "원본:  ['아', '이', '거', '웃기', '네', 'ㅋㅋㅋ']\n",
      "문자 -> 숫자:  [10, 4, 28, 946, 22, 2]\n",
      "숫자 -> 문자:  아 이 거 웃기 네 ㅋㅋㅋ\n"
     ]
    }
   ],
   "source": [
    "def index_to_text(indexes):\n",
    "    return ' '.join([word_inverted_index[i] for i in indexes])\n",
    "\n",
    "def text_to_index(tokens):\n",
    "    indexes = []\n",
    "    for tok in tokens:\n",
    "        if tok in word_index:\n",
    "            indexes.append(word_index[tok])\n",
    "        else:\n",
    "            indexes.append(oov_id)\n",
    "\n",
    "    return indexes\n",
    "\n",
    "print(\"원본: \", morped[0])\n",
    "ids = text_to_index(morped[0])\n",
    "print(\"문자 -> 숫자: \", ids)\n",
    "print(\"숫자 -> 문자: \", index_to_text(ids))"
   ]
  },
  {
   "cell_type": "markdown",
   "metadata": {},
   "source": [
    "# Padding"
   ]
  },
  {
   "cell_type": "code",
   "execution_count": 40,
   "metadata": {
    "ExecuteTime": {
     "end_time": "2019-08-09T07:18:56.755678Z",
     "start_time": "2019-08-09T07:18:56.590735Z"
    }
   },
   "outputs": [],
   "source": [
    "x_variable = [text_to_index(_) for _ in morped]\n",
    "\n",
    "sentence_size = 6\n",
    "x_padded = sequence.pad_sequences(x_variable,\n",
    "                                 maxlen=sentence_size,\n",
    "                                 truncating='post',\n",
    "                                 padding='post',\n",
    "                                 value=pad_id)"
   ]
  },
  {
   "cell_type": "code",
   "execution_count": 41,
   "metadata": {
    "ExecuteTime": {
     "end_time": "2019-08-09T07:18:57.206382Z",
     "start_time": "2019-08-09T07:18:57.195389Z"
    }
   },
   "outputs": [],
   "source": [
    "def plot_loss(history):\n",
    "    plt.figure(figsize=(6,5))\n",
    "    val = plt.plot(history.epoch, history.history['val_loss'],\n",
    "                 '--', label='Test')\n",
    "    plt.plot(history.epoch, history.history['loss'], color=val[0].get_color(),\n",
    "           label='Train')\n",
    "\n",
    "    plt.xlabel('Epochs')\n",
    "    plt.ylabel(\"Loss\")\n",
    "    plt.legend()\n",
    "\n",
    "    plt.xlim([0,max(history.epoch)])"
   ]
  },
  {
   "cell_type": "code",
   "execution_count": 42,
   "metadata": {
    "ExecuteTime": {
     "end_time": "2019-08-09T07:18:57.760065Z",
     "start_time": "2019-08-09T07:18:57.754068Z"
    }
   },
   "outputs": [],
   "source": [
    "import warnings\n",
    "warnings.filterwarnings(action='once')"
   ]
  },
  {
   "cell_type": "markdown",
   "metadata": {},
   "source": [
    "\n",
    "# 데이터 클래스 불균형 문제 해결하자"
   ]
  },
  {
   "cell_type": "code",
   "execution_count": 43,
   "metadata": {
    "ExecuteTime": {
     "end_time": "2019-08-09T07:18:58.873429Z",
     "start_time": "2019-08-09T07:18:58.868430Z"
    }
   },
   "outputs": [],
   "source": [
    "from imblearn.under_sampling import RandomUnderSampler\n",
    "from imblearn.over_sampling import RandomOverSampler"
   ]
  },
  {
   "cell_type": "markdown",
   "metadata": {},
   "source": [
    "## upsampling\n",
    "- 딥러닝은 데이터가 많을수록 좋다.\n",
    "- 보다 많은 데이터 사용을 위해 upsampling을 사용하자!"
   ]
  },
  {
   "cell_type": "code",
   "execution_count": 44,
   "metadata": {
    "ExecuteTime": {
     "end_time": "2019-08-09T07:18:59.868859Z",
     "start_time": "2019-08-09T07:18:59.836877Z"
    }
   },
   "outputs": [
    {
     "data": {
      "text/plain": [
       "(28690, 14345)"
      ]
     },
     "execution_count": 44,
     "metadata": {},
     "output_type": "execute_result"
    }
   ],
   "source": [
    "up_X, up_y = RandomOverSampler().fit_resample(x_padded, datasets.label)\n",
    "up_X_train, up_X_test, up_y_train, up_y_test = train_test_split(up_X, up_y)\n",
    "\n",
    "# 총 데이터 수 , 1 레이블 데이터 수\n",
    "len(up_y), up_y.sum()"
   ]
  },
  {
   "cell_type": "code",
   "execution_count": 60,
   "metadata": {
    "ExecuteTime": {
     "end_time": "2019-08-09T07:22:30.987147Z",
     "start_time": "2019-08-09T07:22:30.573383Z"
    }
   },
   "outputs": [
    {
     "name": "stderr",
     "output_type": "stream",
     "text": [
      "C:\\Users\\skarn\\Anaconda3\\envs\\DataAnalysis\\lib\\site-packages\\numpy\\lib\\type_check.py:546: DeprecationWarning: np.asscalar(a) is deprecated since NumPy v1.16, use a.item() instead\n",
      "  'a.item() instead', DeprecationWarning, stacklevel=1)\n"
     ]
    }
   ],
   "source": [
    "model_up = keras.Sequential([\n",
    "    keras.layers.Embedding(vocab_size, 10),\n",
    "    keras.layers.Conv1D(32, 3, padding=\"same\", activation=tf.nn.relu),\n",
    "    keras.layers.Dropout(0.5),\n",
    "    keras.layers.Conv1D(32, 3, padding=\"same\", activation=tf.nn.relu),\n",
    "    keras.layers.GlobalMaxPool1D(),\n",
    "    keras.layers.Dropout(0.5),\n",
    "    keras.layers.Dense(2, activation=tf.nn.sigmoid)\n",
    "])"
   ]
  },
  {
   "cell_type": "code",
   "execution_count": 61,
   "metadata": {
    "ExecuteTime": {
     "end_time": "2019-08-09T07:23:18.942706Z",
     "start_time": "2019-08-09T07:22:32.360357Z"
    }
   },
   "outputs": [
    {
     "name": "stdout",
     "output_type": "stream",
     "text": [
      "Train on 21517 samples, validate on 7173 samples\n",
      "Epoch 1/5\n",
      "21517/21517 [==============================] - ETA: 20:03 - loss: 0.6936 - recall_3: 0.625 - ETA: 2:55 - loss: 0.6936 - recall_3: 0.549 - ETA: 1:54 - loss: 0.6928 - recall_3: 0.53 - ETA: 1:20 - loss: 0.6930 - recall_3: 0.50 - ETA: 1:02 - loss: 0.6927 - recall_3: 0.50 - ETA: 53s - loss: 0.6926 - recall_3: 0.5050 - ETA: 45s - loss: 0.6924 - recall_3: 0.502 - ETA: 40s - loss: 0.6923 - recall_3: 0.504 - ETA: 35s - loss: 0.6922 - recall_3: 0.508 - ETA: 32s - loss: 0.6917 - recall_3: 0.519 - ETA: 29s - loss: 0.6917 - recall_3: 0.517 - ETA: 28s - loss: 0.6914 - recall_3: 0.521 - ETA: 26s - loss: 0.6913 - recall_3: 0.521 - ETA: 24s - loss: 0.6913 - recall_3: 0.520 - ETA: 22s - loss: 0.6912 - recall_3: 0.522 - ETA: 21s - loss: 0.6909 - recall_3: 0.530 - ETA: 20s - loss: 0.6908 - recall_3: 0.540 - ETA: 19s - loss: 0.6906 - recall_3: 0.546 - ETA: 18s - loss: 0.6899 - recall_3: 0.557 - ETA: 17s - loss: 0.6894 - recall_3: 0.563 - ETA: 17s - loss: 0.6892 - recall_3: 0.567 - ETA: 16s - loss: 0.6888 - recall_3: 0.573 - ETA: 15s - loss: 0.6882 - recall_3: 0.579 - ETA: 15s - loss: 0.6874 - recall_3: 0.585 - ETA: 14s - loss: 0.6867 - recall_3: 0.588 - ETA: 14s - loss: 0.6860 - recall_3: 0.593 - ETA: 13s - loss: 0.6854 - recall_3: 0.594 - ETA: 13s - loss: 0.6841 - recall_3: 0.598 - ETA: 13s - loss: 0.6830 - recall_3: 0.601 - ETA: 12s - loss: 0.6819 - recall_3: 0.601 - ETA: 12s - loss: 0.6810 - recall_3: 0.602 - ETA: 12s - loss: 0.6790 - recall_3: 0.606 - ETA: 11s - loss: 0.6757 - recall_3: 0.612 - ETA: 11s - loss: 0.6736 - recall_3: 0.615 - ETA: 11s - loss: 0.6717 - recall_3: 0.617 - ETA: 11s - loss: 0.6693 - recall_3: 0.620 - ETA: 11s - loss: 0.6681 - recall_3: 0.622 - ETA: 10s - loss: 0.6651 - recall_3: 0.625 - ETA: 10s - loss: 0.6617 - recall_3: 0.628 - ETA: 10s - loss: 0.6561 - recall_3: 0.633 - ETA: 9s - loss: 0.6517 - recall_3: 0.636 - ETA: 9s - loss: 0.6478 - recall_3: 0.64 - ETA: 9s - loss: 0.6437 - recall_3: 0.64 - ETA: 9s - loss: 0.6402 - recall_3: 0.64 - ETA: 8s - loss: 0.6359 - recall_3: 0.65 - ETA: 8s - loss: 0.6315 - recall_3: 0.65 - ETA: 8s - loss: 0.6278 - recall_3: 0.66 - ETA: 8s - loss: 0.6241 - recall_3: 0.66 - ETA: 8s - loss: 0.6204 - recall_3: 0.66 - ETA: 8s - loss: 0.6174 - recall_3: 0.67 - ETA: 7s - loss: 0.6137 - recall_3: 0.67 - ETA: 7s - loss: 0.6087 - recall_3: 0.67 - ETA: 7s - loss: 0.6064 - recall_3: 0.67 - ETA: 7s - loss: 0.6032 - recall_3: 0.68 - ETA: 7s - loss: 0.5995 - recall_3: 0.68 - ETA: 7s - loss: 0.5950 - recall_3: 0.68 - ETA: 7s - loss: 0.5893 - recall_3: 0.69 - ETA: 6s - loss: 0.5856 - recall_3: 0.69 - ETA: 6s - loss: 0.5811 - recall_3: 0.69 - ETA: 6s - loss: 0.5785 - recall_3: 0.70 - ETA: 6s - loss: 0.5756 - recall_3: 0.70 - ETA: 6s - loss: 0.5711 - recall_3: 0.70 - ETA: 6s - loss: 0.5666 - recall_3: 0.70 - ETA: 6s - loss: 0.5624 - recall_3: 0.71 - ETA: 6s - loss: 0.5590 - recall_3: 0.71 - ETA: 5s - loss: 0.5531 - recall_3: 0.71 - ETA: 5s - loss: 0.5494 - recall_3: 0.72 - ETA: 5s - loss: 0.5473 - recall_3: 0.72 - ETA: 5s - loss: 0.5429 - recall_3: 0.72 - ETA: 5s - loss: 0.5392 - recall_3: 0.72 - ETA: 5s - loss: 0.5352 - recall_3: 0.73 - ETA: 5s - loss: 0.5316 - recall_3: 0.73 - ETA: 5s - loss: 0.5283 - recall_3: 0.73 - ETA: 5s - loss: 0.5240 - recall_3: 0.73 - ETA: 4s - loss: 0.5204 - recall_3: 0.74 - ETA: 4s - loss: 0.5158 - recall_3: 0.74 - ETA: 4s - loss: 0.5122 - recall_3: 0.74 - ETA: 4s - loss: 0.5094 - recall_3: 0.74 - ETA: 4s - loss: 0.5066 - recall_3: 0.75 - ETA: 4s - loss: 0.5028 - recall_3: 0.75 - ETA: 4s - loss: 0.4987 - recall_3: 0.75 - ETA: 4s - loss: 0.4951 - recall_3: 0.75 - ETA: 4s - loss: 0.4927 - recall_3: 0.75 - ETA: 4s - loss: 0.4895 - recall_3: 0.76 - ETA: 4s - loss: 0.4871 - recall_3: 0.76 - ETA: 3s - loss: 0.4850 - recall_3: 0.76 - ETA: 3s - loss: 0.4816 - recall_3: 0.76 - ETA: 3s - loss: 0.4786 - recall_3: 0.76 - ETA: 3s - loss: 0.4761 - recall_3: 0.76 - ETA: 3s - loss: 0.4732 - recall_3: 0.77 - ETA: 3s - loss: 0.4706 - recall_3: 0.77 - ETA: 3s - loss: 0.4676 - recall_3: 0.77 - ETA: 3s - loss: 0.4651 - recall_3: 0.77 - ETA: 3s - loss: 0.4612 - recall_3: 0.77 - ETA: 3s - loss: 0.4585 - recall_3: 0.78 - ETA: 3s - loss: 0.4560 - recall_3: 0.78 - ETA: 2s - loss: 0.4528 - recall_3: 0.78 - ETA: 2s - loss: 0.4496 - recall_3: 0.78 - ETA: 2s - loss: 0.4471 - recall_3: 0.78 - ETA: 2s - loss: 0.4434 - recall_3: 0.78 - ETA: 2s - loss: 0.4411 - recall_3: 0.79 - ETA: 2s - loss: 0.4389 - recall_3: 0.79 - ETA: 2s - loss: 0.4372 - recall_3: 0.79 - ETA: 2s - loss: 0.4344 - recall_3: 0.79 - ETA: 2s - loss: 0.4320 - recall_3: 0.79 - ETA: 2s - loss: 0.4292 - recall_3: 0.79 - ETA: 2s - loss: 0.4262 - recall_3: 0.79 - ETA: 2s - loss: 0.4251 - recall_3: 0.79 - ETA: 1s - loss: 0.4221 - recall_3: 0.80 - ETA: 1s - loss: 0.4204 - recall_3: 0.80 - ETA: 1s - loss: 0.4183 - recall_3: 0.80 - ETA: 1s - loss: 0.4166 - recall_3: 0.80 - ETA: 1s - loss: 0.4141 - recall_3: 0.80 - ETA: 1s - loss: 0.4126 - recall_3: 0.80 - ETA: 1s - loss: 0.4101 - recall_3: 0.80 - ETA: 1s - loss: 0.4081 - recall_3: 0.81 - ETA: 1s - loss: 0.4061 - recall_3: 0.81 - ETA: 1s - loss: 0.4041 - recall_3: 0.81 - ETA: 1s - loss: 0.4020 - recall_3: 0.81 - ETA: 1s - loss: 0.4005 - recall_3: 0.81 - ETA: 0s - loss: 0.3983 - recall_3: 0.81 - ETA: 0s - loss: 0.3958 - recall_3: 0.81 - ETA: 0s - loss: 0.3933 - recall_3: 0.81 - ETA: 0s - loss: 0.3918 - recall_3: 0.82 - ETA: 0s - loss: 0.3896 - recall_3: 0.82 - ETA: 0s - loss: 0.3877 - recall_3: 0.82 - ETA: 0s - loss: 0.3853 - recall_3: 0.82 - ETA: 0s - loss: 0.3830 - recall_3: 0.82 - ETA: 0s - loss: 0.3808 - recall_3: 0.82 - ETA: 0s - loss: 0.3789 - recall_3: 0.82 - ETA: 0s - loss: 0.3769 - recall_3: 0.82 - ETA: 0s - loss: 0.3755 - recall_3: 0.82 - ETA: 0s - loss: 0.3728 - recall_3: 0.83 - 10s 474us/sample - loss: 0.3721 - recall_3: 0.8309 - val_loss: 0.1268 - val_recall_3: 0.9640\n",
      "Epoch 2/5\n"
     ]
    },
    {
     "name": "stdout",
     "output_type": "stream",
     "text": [
      "21517/21517 [==============================] - ETA: 7s - loss: 0.1434 - recall_3: 0.93 - ETA: 6s - loss: 0.0978 - recall_3: 0.96 - ETA: 6s - loss: 0.0866 - recall_3: 0.97 - ETA: 6s - loss: 0.1227 - recall_3: 0.97 - ETA: 5s - loss: 0.1227 - recall_3: 0.97 - ETA: 6s - loss: 0.1155 - recall_3: 0.97 - ETA: 6s - loss: 0.1259 - recall_3: 0.96 - ETA: 6s - loss: 0.1273 - recall_3: 0.96 - ETA: 5s - loss: 0.1255 - recall_3: 0.96 - ETA: 6s - loss: 0.1236 - recall_3: 0.96 - ETA: 6s - loss: 0.1313 - recall_3: 0.96 - ETA: 6s - loss: 0.1278 - recall_3: 0.96 - ETA: 5s - loss: 0.1278 - recall_3: 0.96 - ETA: 5s - loss: 0.1287 - recall_3: 0.96 - ETA: 5s - loss: 0.1294 - recall_3: 0.96 - ETA: 5s - loss: 0.1250 - recall_3: 0.96 - ETA: 5s - loss: 0.1214 - recall_3: 0.96 - ETA: 5s - loss: 0.1181 - recall_3: 0.97 - ETA: 5s - loss: 0.1160 - recall_3: 0.97 - ETA: 5s - loss: 0.1178 - recall_3: 0.97 - ETA: 5s - loss: 0.1174 - recall_3: 0.97 - ETA: 5s - loss: 0.1182 - recall_3: 0.97 - ETA: 5s - loss: 0.1194 - recall_3: 0.96 - ETA: 5s - loss: 0.1190 - recall_3: 0.96 - ETA: 5s - loss: 0.1179 - recall_3: 0.96 - ETA: 5s - loss: 0.1183 - recall_3: 0.96 - ETA: 4s - loss: 0.1172 - recall_3: 0.96 - ETA: 4s - loss: 0.1166 - recall_3: 0.96 - ETA: 4s - loss: 0.1160 - recall_3: 0.96 - ETA: 4s - loss: 0.1173 - recall_3: 0.96 - ETA: 4s - loss: 0.1177 - recall_3: 0.96 - ETA: 4s - loss: 0.1173 - recall_3: 0.96 - ETA: 4s - loss: 0.1172 - recall_3: 0.96 - ETA: 4s - loss: 0.1160 - recall_3: 0.96 - ETA: 4s - loss: 0.1141 - recall_3: 0.96 - ETA: 4s - loss: 0.1151 - recall_3: 0.96 - ETA: 4s - loss: 0.1142 - recall_3: 0.96 - ETA: 4s - loss: 0.1147 - recall_3: 0.96 - ETA: 4s - loss: 0.1160 - recall_3: 0.96 - ETA: 4s - loss: 0.1156 - recall_3: 0.96 - ETA: 4s - loss: 0.1157 - recall_3: 0.96 - ETA: 4s - loss: 0.1154 - recall_3: 0.96 - ETA: 4s - loss: 0.1140 - recall_3: 0.96 - ETA: 4s - loss: 0.1145 - recall_3: 0.96 - ETA: 4s - loss: 0.1150 - recall_3: 0.96 - ETA: 3s - loss: 0.1146 - recall_3: 0.96 - ETA: 3s - loss: 0.1150 - recall_3: 0.96 - ETA: 3s - loss: 0.1147 - recall_3: 0.96 - ETA: 3s - loss: 0.1136 - recall_3: 0.96 - ETA: 3s - loss: 0.1136 - recall_3: 0.96 - ETA: 3s - loss: 0.1138 - recall_3: 0.96 - ETA: 3s - loss: 0.1139 - recall_3: 0.96 - ETA: 3s - loss: 0.1137 - recall_3: 0.96 - ETA: 3s - loss: 0.1141 - recall_3: 0.96 - ETA: 3s - loss: 0.1139 - recall_3: 0.96 - ETA: 3s - loss: 0.1133 - recall_3: 0.96 - ETA: 3s - loss: 0.1143 - recall_3: 0.96 - ETA: 3s - loss: 0.1133 - recall_3: 0.96 - ETA: 3s - loss: 0.1131 - recall_3: 0.96 - ETA: 3s - loss: 0.1128 - recall_3: 0.96 - ETA: 3s - loss: 0.1128 - recall_3: 0.96 - ETA: 3s - loss: 0.1127 - recall_3: 0.96 - ETA: 3s - loss: 0.1135 - recall_3: 0.96 - ETA: 2s - loss: 0.1129 - recall_3: 0.96 - ETA: 2s - loss: 0.1125 - recall_3: 0.96 - ETA: 2s - loss: 0.1128 - recall_3: 0.96 - ETA: 2s - loss: 0.1122 - recall_3: 0.96 - ETA: 2s - loss: 0.1115 - recall_3: 0.96 - ETA: 2s - loss: 0.1112 - recall_3: 0.96 - ETA: 2s - loss: 0.1117 - recall_3: 0.96 - ETA: 2s - loss: 0.1116 - recall_3: 0.96 - ETA: 2s - loss: 0.1112 - recall_3: 0.96 - ETA: 2s - loss: 0.1121 - recall_3: 0.96 - ETA: 2s - loss: 0.1120 - recall_3: 0.97 - ETA: 2s - loss: 0.1113 - recall_3: 0.97 - ETA: 2s - loss: 0.1106 - recall_3: 0.97 - ETA: 2s - loss: 0.1102 - recall_3: 0.97 - ETA: 2s - loss: 0.1106 - recall_3: 0.97 - ETA: 2s - loss: 0.1107 - recall_3: 0.97 - ETA: 2s - loss: 0.1102 - recall_3: 0.97 - ETA: 2s - loss: 0.1095 - recall_3: 0.97 - ETA: 2s - loss: 0.1090 - recall_3: 0.97 - ETA: 2s - loss: 0.1085 - recall_3: 0.97 - ETA: 1s - loss: 0.1081 - recall_3: 0.97 - ETA: 1s - loss: 0.1077 - recall_3: 0.97 - ETA: 1s - loss: 0.1072 - recall_3: 0.97 - ETA: 1s - loss: 0.1070 - recall_3: 0.97 - ETA: 1s - loss: 0.1068 - recall_3: 0.97 - ETA: 1s - loss: 0.1064 - recall_3: 0.97 - ETA: 1s - loss: 0.1067 - recall_3: 0.97 - ETA: 1s - loss: 0.1071 - recall_3: 0.97 - ETA: 1s - loss: 0.1066 - recall_3: 0.97 - ETA: 1s - loss: 0.1065 - recall_3: 0.97 - ETA: 1s - loss: 0.1062 - recall_3: 0.97 - ETA: 1s - loss: 0.1063 - recall_3: 0.97 - ETA: 1s - loss: 0.1067 - recall_3: 0.97 - ETA: 1s - loss: 0.1070 - recall_3: 0.97 - ETA: 1s - loss: 0.1069 - recall_3: 0.97 - ETA: 1s - loss: 0.1065 - recall_3: 0.97 - ETA: 1s - loss: 0.1063 - recall_3: 0.97 - ETA: 1s - loss: 0.1059 - recall_3: 0.97 - ETA: 0s - loss: 0.1053 - recall_3: 0.97 - ETA: 0s - loss: 0.1051 - recall_3: 0.97 - ETA: 0s - loss: 0.1047 - recall_3: 0.97 - ETA: 0s - loss: 0.1051 - recall_3: 0.97 - ETA: 0s - loss: 0.1049 - recall_3: 0.97 - ETA: 0s - loss: 0.1043 - recall_3: 0.97 - ETA: 0s - loss: 0.1047 - recall_3: 0.97 - ETA: 0s - loss: 0.1046 - recall_3: 0.97 - ETA: 0s - loss: 0.1046 - recall_3: 0.97 - ETA: 0s - loss: 0.1046 - recall_3: 0.97 - ETA: 0s - loss: 0.1044 - recall_3: 0.97 - ETA: 0s - loss: 0.1039 - recall_3: 0.97 - ETA: 0s - loss: 0.1034 - recall_3: 0.97 - ETA: 0s - loss: 0.1034 - recall_3: 0.97 - ETA: 0s - loss: 0.1029 - recall_3: 0.97 - ETA: 0s - loss: 0.1030 - recall_3: 0.97 - ETA: 0s - loss: 0.1029 - recall_3: 0.97 - ETA: 0s - loss: 0.1026 - recall_3: 0.97 - 7s 329us/sample - loss: 0.1021 - recall_3: 0.9717 - val_loss: 0.0831 - val_recall_3: 0.9739\n",
      "Epoch 3/5\n"
     ]
    },
    {
     "name": "stdout",
     "output_type": "stream",
     "text": [
      "21517/21517 [==============================] - ETA: 8s - loss: 0.0740 - recall_3: 0.96 - ETA: 6s - loss: 0.0446 - recall_3: 0.98 - ETA: 6s - loss: 0.0431 - recall_3: 0.98 - ETA: 6s - loss: 0.0483 - recall_3: 0.98 - ETA: 6s - loss: 0.0535 - recall_3: 0.97 - ETA: 6s - loss: 0.0546 - recall_3: 0.97 - ETA: 6s - loss: 0.0518 - recall_3: 0.98 - ETA: 6s - loss: 0.0502 - recall_3: 0.98 - ETA: 6s - loss: 0.0510 - recall_3: 0.98 - ETA: 6s - loss: 0.0517 - recall_3: 0.98 - ETA: 5s - loss: 0.0559 - recall_3: 0.98 - ETA: 5s - loss: 0.0540 - recall_3: 0.98 - ETA: 5s - loss: 0.0559 - recall_3: 0.98 - ETA: 5s - loss: 0.0582 - recall_3: 0.98 - ETA: 5s - loss: 0.0587 - recall_3: 0.98 - ETA: 5s - loss: 0.0603 - recall_3: 0.98 - ETA: 5s - loss: 0.0595 - recall_3: 0.98 - ETA: 5s - loss: 0.0608 - recall_3: 0.98 - ETA: 5s - loss: 0.0620 - recall_3: 0.98 - ETA: 5s - loss: 0.0622 - recall_3: 0.98 - ETA: 5s - loss: 0.0620 - recall_3: 0.98 - ETA: 5s - loss: 0.0614 - recall_3: 0.98 - ETA: 5s - loss: 0.0610 - recall_3: 0.98 - ETA: 5s - loss: 0.0625 - recall_3: 0.98 - ETA: 5s - loss: 0.0616 - recall_3: 0.98 - ETA: 5s - loss: 0.0630 - recall_3: 0.98 - ETA: 5s - loss: 0.0622 - recall_3: 0.98 - ETA: 5s - loss: 0.0631 - recall_3: 0.98 - ETA: 5s - loss: 0.0625 - recall_3: 0.98 - ETA: 5s - loss: 0.0620 - recall_3: 0.98 - ETA: 5s - loss: 0.0618 - recall_3: 0.98 - ETA: 5s - loss: 0.0631 - recall_3: 0.98 - ETA: 5s - loss: 0.0625 - recall_3: 0.98 - ETA: 5s - loss: 0.0621 - recall_3: 0.98 - ETA: 5s - loss: 0.0614 - recall_3: 0.98 - ETA: 5s - loss: 0.0604 - recall_3: 0.98 - ETA: 5s - loss: 0.0599 - recall_3: 0.98 - ETA: 5s - loss: 0.0604 - recall_3: 0.98 - ETA: 4s - loss: 0.0603 - recall_3: 0.98 - ETA: 4s - loss: 0.0602 - recall_3: 0.98 - ETA: 4s - loss: 0.0599 - recall_3: 0.98 - ETA: 4s - loss: 0.0604 - recall_3: 0.98 - ETA: 4s - loss: 0.0598 - recall_3: 0.98 - ETA: 4s - loss: 0.0596 - recall_3: 0.98 - ETA: 4s - loss: 0.0600 - recall_3: 0.98 - ETA: 4s - loss: 0.0618 - recall_3: 0.98 - ETA: 4s - loss: 0.0609 - recall_3: 0.98 - ETA: 4s - loss: 0.0601 - recall_3: 0.98 - ETA: 4s - loss: 0.0612 - recall_3: 0.98 - ETA: 4s - loss: 0.0605 - recall_3: 0.98 - ETA: 4s - loss: 0.0612 - recall_3: 0.98 - ETA: 4s - loss: 0.0612 - recall_3: 0.98 - ETA: 4s - loss: 0.0615 - recall_3: 0.98 - ETA: 4s - loss: 0.0625 - recall_3: 0.98 - ETA: 4s - loss: 0.0621 - recall_3: 0.98 - ETA: 4s - loss: 0.0632 - recall_3: 0.98 - ETA: 4s - loss: 0.0643 - recall_3: 0.98 - ETA: 3s - loss: 0.0648 - recall_3: 0.98 - ETA: 3s - loss: 0.0647 - recall_3: 0.98 - ETA: 3s - loss: 0.0645 - recall_3: 0.98 - ETA: 3s - loss: 0.0646 - recall_3: 0.98 - ETA: 3s - loss: 0.0651 - recall_3: 0.98 - ETA: 3s - loss: 0.0648 - recall_3: 0.98 - ETA: 3s - loss: 0.0660 - recall_3: 0.98 - ETA: 3s - loss: 0.0653 - recall_3: 0.98 - ETA: 3s - loss: 0.0651 - recall_3: 0.98 - ETA: 3s - loss: 0.0651 - recall_3: 0.98 - ETA: 3s - loss: 0.0657 - recall_3: 0.98 - ETA: 3s - loss: 0.0658 - recall_3: 0.98 - ETA: 3s - loss: 0.0658 - recall_3: 0.98 - ETA: 3s - loss: 0.0670 - recall_3: 0.98 - ETA: 3s - loss: 0.0671 - recall_3: 0.98 - ETA: 3s - loss: 0.0672 - recall_3: 0.98 - ETA: 3s - loss: 0.0674 - recall_3: 0.98 - ETA: 2s - loss: 0.0674 - recall_3: 0.98 - ETA: 2s - loss: 0.0680 - recall_3: 0.98 - ETA: 2s - loss: 0.0675 - recall_3: 0.98 - ETA: 2s - loss: 0.0680 - recall_3: 0.98 - ETA: 2s - loss: 0.0678 - recall_3: 0.98 - ETA: 2s - loss: 0.0674 - recall_3: 0.98 - ETA: 2s - loss: 0.0673 - recall_3: 0.98 - ETA: 2s - loss: 0.0675 - recall_3: 0.98 - ETA: 2s - loss: 0.0674 - recall_3: 0.98 - ETA: 2s - loss: 0.0670 - recall_3: 0.98 - ETA: 2s - loss: 0.0670 - recall_3: 0.98 - ETA: 2s - loss: 0.0666 - recall_3: 0.98 - ETA: 2s - loss: 0.0666 - recall_3: 0.98 - ETA: 2s - loss: 0.0660 - recall_3: 0.98 - ETA: 2s - loss: 0.0657 - recall_3: 0.98 - ETA: 2s - loss: 0.0655 - recall_3: 0.98 - ETA: 2s - loss: 0.0656 - recall_3: 0.98 - ETA: 2s - loss: 0.0654 - recall_3: 0.98 - ETA: 2s - loss: 0.0653 - recall_3: 0.98 - ETA: 1s - loss: 0.0654 - recall_3: 0.98 - ETA: 1s - loss: 0.0652 - recall_3: 0.98 - ETA: 1s - loss: 0.0650 - recall_3: 0.98 - ETA: 1s - loss: 0.0647 - recall_3: 0.98 - ETA: 1s - loss: 0.0643 - recall_3: 0.98 - ETA: 1s - loss: 0.0641 - recall_3: 0.98 - ETA: 1s - loss: 0.0639 - recall_3: 0.98 - ETA: 1s - loss: 0.0638 - recall_3: 0.98 - ETA: 1s - loss: 0.0639 - recall_3: 0.98 - ETA: 1s - loss: 0.0636 - recall_3: 0.98 - ETA: 1s - loss: 0.0632 - recall_3: 0.98 - ETA: 1s - loss: 0.0629 - recall_3: 0.98 - ETA: 1s - loss: 0.0626 - recall_3: 0.98 - ETA: 1s - loss: 0.0629 - recall_3: 0.98 - ETA: 1s - loss: 0.0626 - recall_3: 0.98 - ETA: 1s - loss: 0.0624 - recall_3: 0.98 - ETA: 1s - loss: 0.0625 - recall_3: 0.98 - ETA: 1s - loss: 0.0625 - recall_3: 0.98 - ETA: 1s - loss: 0.0625 - recall_3: 0.98 - ETA: 1s - loss: 0.0621 - recall_3: 0.98 - ETA: 0s - loss: 0.0623 - recall_3: 0.98 - ETA: 0s - loss: 0.0626 - recall_3: 0.98 - ETA: 0s - loss: 0.0626 - recall_3: 0.98 - ETA: 0s - loss: 0.0622 - recall_3: 0.98 - ETA: 0s - loss: 0.0631 - recall_3: 0.98 - ETA: 0s - loss: 0.0633 - recall_3: 0.98 - ETA: 0s - loss: 0.0630 - recall_3: 0.98 - ETA: 0s - loss: 0.0631 - recall_3: 0.98 - ETA: 0s - loss: 0.0631 - recall_3: 0.98 - ETA: 0s - loss: 0.0631 - recall_3: 0.98 - ETA: 0s - loss: 0.0632 - recall_3: 0.98 - ETA: 0s - loss: 0.0629 - recall_3: 0.98 - ETA: 0s - loss: 0.0632 - recall_3: 0.98 - ETA: 0s - loss: 0.0636 - recall_3: 0.98 - ETA: 0s - loss: 0.0635 - recall_3: 0.98 - ETA: 0s - loss: 0.0636 - recall_3: 0.98 - ETA: 0s - loss: 0.0634 - recall_3: 0.98 - ETA: 0s - loss: 0.0634 - recall_3: 0.98 - ETA: 0s - loss: 0.0635 - recall_3: 0.98 - 8s 364us/sample - loss: 0.0634 - recall_3: 0.9810 - val_loss: 0.0847 - val_recall_3: 0.9778\n",
      "Epoch 4/5\n"
     ]
    },
    {
     "name": "stdout",
     "output_type": "stream",
     "text": [
      "21517/21517 [==============================] - ETA: 6s - loss: 0.0248 - recall_3: 1.00 - ETA: 5s - loss: 0.0696 - recall_3: 0.98 - ETA: 5s - loss: 0.0637 - recall_3: 0.98 - ETA: 6s - loss: 0.0742 - recall_3: 0.98 - ETA: 6s - loss: 0.0766 - recall_3: 0.98 - ETA: 6s - loss: 0.0712 - recall_3: 0.98 - ETA: 6s - loss: 0.0678 - recall_3: 0.98 - ETA: 6s - loss: 0.0709 - recall_3: 0.98 - ETA: 6s - loss: 0.0682 - recall_3: 0.98 - ETA: 6s - loss: 0.0675 - recall_3: 0.98 - ETA: 6s - loss: 0.0644 - recall_3: 0.98 - ETA: 7s - loss: 0.0625 - recall_3: 0.98 - ETA: 7s - loss: 0.0612 - recall_3: 0.98 - ETA: 8s - loss: 0.0604 - recall_3: 0.98 - ETA: 8s - loss: 0.0603 - recall_3: 0.98 - ETA: 8s - loss: 0.0589 - recall_3: 0.98 - ETA: 8s - loss: 0.0586 - recall_3: 0.98 - ETA: 9s - loss: 0.0578 - recall_3: 0.98 - ETA: 9s - loss: 0.0568 - recall_3: 0.98 - ETA: 9s - loss: 0.0577 - recall_3: 0.98 - ETA: 9s - loss: 0.0589 - recall_3: 0.98 - ETA: 9s - loss: 0.0592 - recall_3: 0.98 - ETA: 10s - loss: 0.0591 - recall_3: 0.984 - ETA: 10s - loss: 0.0581 - recall_3: 0.984 - ETA: 10s - loss: 0.0573 - recall_3: 0.984 - ETA: 10s - loss: 0.0576 - recall_3: 0.984 - ETA: 10s - loss: 0.0580 - recall_3: 0.983 - ETA: 10s - loss: 0.0576 - recall_3: 0.983 - ETA: 10s - loss: 0.0554 - recall_3: 0.983 - ETA: 10s - loss: 0.0549 - recall_3: 0.983 - ETA: 9s - loss: 0.0529 - recall_3: 0.984 - ETA: 9s - loss: 0.0521 - recall_3: 0.98 - ETA: 9s - loss: 0.0537 - recall_3: 0.98 - ETA: 9s - loss: 0.0562 - recall_3: 0.98 - ETA: 9s - loss: 0.0573 - recall_3: 0.98 - ETA: 8s - loss: 0.0562 - recall_3: 0.98 - ETA: 8s - loss: 0.0569 - recall_3: 0.98 - ETA: 8s - loss: 0.0563 - recall_3: 0.98 - ETA: 8s - loss: 0.0562 - recall_3: 0.98 - ETA: 8s - loss: 0.0561 - recall_3: 0.98 - ETA: 8s - loss: 0.0551 - recall_3: 0.98 - ETA: 8s - loss: 0.0544 - recall_3: 0.98 - ETA: 8s - loss: 0.0554 - recall_3: 0.98 - ETA: 8s - loss: 0.0546 - recall_3: 0.98 - ETA: 7s - loss: 0.0543 - recall_3: 0.98 - ETA: 7s - loss: 0.0540 - recall_3: 0.98 - ETA: 7s - loss: 0.0539 - recall_3: 0.98 - ETA: 7s - loss: 0.0532 - recall_3: 0.98 - ETA: 7s - loss: 0.0543 - recall_3: 0.98 - ETA: 7s - loss: 0.0561 - recall_3: 0.98 - ETA: 7s - loss: 0.0557 - recall_3: 0.98 - ETA: 7s - loss: 0.0553 - recall_3: 0.98 - ETA: 7s - loss: 0.0553 - recall_3: 0.98 - ETA: 6s - loss: 0.0556 - recall_3: 0.98 - ETA: 6s - loss: 0.0554 - recall_3: 0.98 - ETA: 6s - loss: 0.0548 - recall_3: 0.98 - ETA: 6s - loss: 0.0547 - recall_3: 0.98 - ETA: 6s - loss: 0.0545 - recall_3: 0.98 - ETA: 6s - loss: 0.0540 - recall_3: 0.98 - ETA: 6s - loss: 0.0539 - recall_3: 0.98 - ETA: 6s - loss: 0.0533 - recall_3: 0.98 - ETA: 6s - loss: 0.0534 - recall_3: 0.98 - ETA: 6s - loss: 0.0530 - recall_3: 0.98 - ETA: 6s - loss: 0.0524 - recall_3: 0.98 - ETA: 6s - loss: 0.0534 - recall_3: 0.98 - ETA: 5s - loss: 0.0529 - recall_3: 0.98 - ETA: 5s - loss: 0.0527 - recall_3: 0.98 - ETA: 5s - loss: 0.0524 - recall_3: 0.98 - ETA: 5s - loss: 0.0516 - recall_3: 0.98 - ETA: 5s - loss: 0.0522 - recall_3: 0.98 - ETA: 5s - loss: 0.0520 - recall_3: 0.98 - ETA: 5s - loss: 0.0523 - recall_3: 0.98 - ETA: 5s - loss: 0.0523 - recall_3: 0.98 - ETA: 5s - loss: 0.0521 - recall_3: 0.98 - ETA: 5s - loss: 0.0518 - recall_3: 0.98 - ETA: 5s - loss: 0.0520 - recall_3: 0.98 - ETA: 5s - loss: 0.0521 - recall_3: 0.98 - ETA: 4s - loss: 0.0529 - recall_3: 0.98 - ETA: 4s - loss: 0.0525 - recall_3: 0.98 - ETA: 4s - loss: 0.0521 - recall_3: 0.98 - ETA: 4s - loss: 0.0519 - recall_3: 0.98 - ETA: 4s - loss: 0.0517 - recall_3: 0.98 - ETA: 4s - loss: 0.0514 - recall_3: 0.98 - ETA: 4s - loss: 0.0517 - recall_3: 0.98 - ETA: 4s - loss: 0.0520 - recall_3: 0.98 - ETA: 4s - loss: 0.0520 - recall_3: 0.98 - ETA: 4s - loss: 0.0520 - recall_3: 0.98 - ETA: 4s - loss: 0.0515 - recall_3: 0.98 - ETA: 4s - loss: 0.0517 - recall_3: 0.98 - ETA: 3s - loss: 0.0520 - recall_3: 0.98 - ETA: 3s - loss: 0.0523 - recall_3: 0.98 - ETA: 3s - loss: 0.0520 - recall_3: 0.98 - ETA: 3s - loss: 0.0518 - recall_3: 0.98 - ETA: 3s - loss: 0.0513 - recall_3: 0.98 - ETA: 3s - loss: 0.0510 - recall_3: 0.98 - ETA: 3s - loss: 0.0509 - recall_3: 0.98 - ETA: 3s - loss: 0.0509 - recall_3: 0.98 - ETA: 3s - loss: 0.0506 - recall_3: 0.98 - ETA: 3s - loss: 0.0505 - recall_3: 0.98 - ETA: 3s - loss: 0.0503 - recall_3: 0.98 - ETA: 3s - loss: 0.0500 - recall_3: 0.98 - ETA: 3s - loss: 0.0499 - recall_3: 0.98 - ETA: 3s - loss: 0.0500 - recall_3: 0.98 - ETA: 2s - loss: 0.0497 - recall_3: 0.98 - ETA: 2s - loss: 0.0496 - recall_3: 0.98 - ETA: 2s - loss: 0.0503 - recall_3: 0.98 - ETA: 2s - loss: 0.0500 - recall_3: 0.98 - ETA: 2s - loss: 0.0498 - recall_3: 0.98 - ETA: 2s - loss: 0.0502 - recall_3: 0.98 - ETA: 2s - loss: 0.0504 - recall_3: 0.98 - ETA: 2s - loss: 0.0500 - recall_3: 0.98 - ETA: 2s - loss: 0.0505 - recall_3: 0.98 - ETA: 2s - loss: 0.0503 - recall_3: 0.98 - ETA: 2s - loss: 0.0505 - recall_3: 0.98 - ETA: 2s - loss: 0.0511 - recall_3: 0.98 - ETA: 2s - loss: 0.0512 - recall_3: 0.98 - ETA: 2s - loss: 0.0510 - recall_3: 0.98 - ETA: 1s - loss: 0.0515 - recall_3: 0.98 - ETA: 1s - loss: 0.0515 - recall_3: 0.98 - ETA: 1s - loss: 0.0516 - recall_3: 0.98 - ETA: 1s - loss: 0.0516 - recall_3: 0.98 - ETA: 1s - loss: 0.0518 - recall_3: 0.98 - ETA: 1s - loss: 0.0515 - recall_3: 0.98 - ETA: 1s - loss: 0.0513 - recall_3: 0.98 - ETA: 1s - loss: 0.0510 - recall_3: 0.98 - ETA: 1s - loss: 0.0509 - recall_3: 0.98 - ETA: 1s - loss: 0.0508 - recall_3: 0.98 - ETA: 1s - loss: 0.0507 - recall_3: 0.98 - ETA: 1s - loss: 0.0506 - recall_3: 0.98 - ETA: 1s - loss: 0.0506 - recall_3: 0.98 - ETA: 1s - loss: 0.0503 - recall_3: 0.98 - ETA: 1s - loss: 0.0499 - recall_3: 0.98 - ETA: 1s - loss: 0.0506 - recall_3: 0.98 - ETA: 0s - loss: 0.0505 - recall_3: 0.98 - ETA: 0s - loss: 0.0504 - recall_3: 0.98 - ETA: 0s - loss: 0.0501 - recall_3: 0.98 - ETA: 0s - loss: 0.0506 - recall_3: 0.98 - ETA: 0s - loss: 0.0508 - recall_3: 0.98 - ETA: 0s - loss: 0.0506 - recall_3: 0.98 - ETA: 0s - loss: 0.0509 - recall_3: 0.98 - ETA: 0s - loss: 0.0509 - recall_3: 0.98 - ETA: 0s - loss: 0.0509 - recall_3: 0.98 - ETA: 0s - loss: 0.0507 - recall_3: 0.98 - ETA: 0s - loss: 0.0507 - recall_3: 0.98 - ETA: 0s - loss: 0.0512 - recall_3: 0.98 - ETA: 0s - loss: 0.0511 - recall_3: 0.98 - ETA: 0s - loss: 0.0511 - recall_3: 0.98 - ETA: 0s - loss: 0.0510 - recall_3: 0.98 - ETA: 0s - loss: 0.0510 - recall_3: 0.98 - ETA: 0s - loss: 0.0512 - recall_3: 0.98 - 9s 424us/sample - loss: 0.0511 - recall_3: 0.9846 - val_loss: 0.0835 - val_recall_3: 0.9794\n",
      "Epoch 5/5\n"
     ]
    },
    {
     "name": "stdout",
     "output_type": "stream",
     "text": [
      "21517/21517 [==============================] - ETA: 7s - loss: 0.0490 - recall_3: 0.96 - ETA: 6s - loss: 0.0244 - recall_3: 0.98 - ETA: 7s - loss: 0.0557 - recall_3: 0.98 - ETA: 8s - loss: 0.0562 - recall_3: 0.98 - ETA: 7s - loss: 0.0557 - recall_3: 0.98 - ETA: 8s - loss: 0.0528 - recall_3: 0.98 - ETA: 7s - loss: 0.0498 - recall_3: 0.98 - ETA: 7s - loss: 0.0465 - recall_3: 0.98 - ETA: 7s - loss: 0.0435 - recall_3: 0.98 - ETA: 7s - loss: 0.0416 - recall_3: 0.98 - ETA: 6s - loss: 0.0398 - recall_3: 0.98 - ETA: 6s - loss: 0.0387 - recall_3: 0.98 - ETA: 6s - loss: 0.0383 - recall_3: 0.98 - ETA: 6s - loss: 0.0378 - recall_3: 0.98 - ETA: 6s - loss: 0.0363 - recall_3: 0.98 - ETA: 6s - loss: 0.0345 - recall_3: 0.98 - ETA: 6s - loss: 0.0354 - recall_3: 0.98 - ETA: 6s - loss: 0.0366 - recall_3: 0.98 - ETA: 6s - loss: 0.0357 - recall_3: 0.98 - ETA: 6s - loss: 0.0346 - recall_3: 0.98 - ETA: 6s - loss: 0.0377 - recall_3: 0.98 - ETA: 6s - loss: 0.0374 - recall_3: 0.98 - ETA: 5s - loss: 0.0372 - recall_3: 0.98 - ETA: 5s - loss: 0.0374 - recall_3: 0.98 - ETA: 5s - loss: 0.0372 - recall_3: 0.98 - ETA: 5s - loss: 0.0372 - recall_3: 0.98 - ETA: 5s - loss: 0.0377 - recall_3: 0.98 - ETA: 5s - loss: 0.0376 - recall_3: 0.98 - ETA: 5s - loss: 0.0388 - recall_3: 0.98 - ETA: 5s - loss: 0.0394 - recall_3: 0.98 - ETA: 5s - loss: 0.0392 - recall_3: 0.98 - ETA: 5s - loss: 0.0384 - recall_3: 0.98 - ETA: 5s - loss: 0.0386 - recall_3: 0.98 - ETA: 5s - loss: 0.0381 - recall_3: 0.98 - ETA: 5s - loss: 0.0387 - recall_3: 0.98 - ETA: 5s - loss: 0.0381 - recall_3: 0.98 - ETA: 5s - loss: 0.0373 - recall_3: 0.98 - ETA: 5s - loss: 0.0380 - recall_3: 0.98 - ETA: 4s - loss: 0.0374 - recall_3: 0.98 - ETA: 4s - loss: 0.0392 - recall_3: 0.98 - ETA: 4s - loss: 0.0396 - recall_3: 0.98 - ETA: 4s - loss: 0.0402 - recall_3: 0.98 - ETA: 4s - loss: 0.0407 - recall_3: 0.98 - ETA: 4s - loss: 0.0401 - recall_3: 0.98 - ETA: 4s - loss: 0.0416 - recall_3: 0.98 - ETA: 4s - loss: 0.0412 - recall_3: 0.98 - ETA: 4s - loss: 0.0417 - recall_3: 0.98 - ETA: 4s - loss: 0.0418 - recall_3: 0.98 - ETA: 4s - loss: 0.0419 - recall_3: 0.98 - ETA: 4s - loss: 0.0417 - recall_3: 0.98 - ETA: 4s - loss: 0.0415 - recall_3: 0.98 - ETA: 4s - loss: 0.0415 - recall_3: 0.98 - ETA: 3s - loss: 0.0414 - recall_3: 0.98 - ETA: 3s - loss: 0.0411 - recall_3: 0.98 - ETA: 3s - loss: 0.0408 - recall_3: 0.98 - ETA: 3s - loss: 0.0406 - recall_3: 0.98 - ETA: 3s - loss: 0.0405 - recall_3: 0.98 - ETA: 3s - loss: 0.0410 - recall_3: 0.98 - ETA: 3s - loss: 0.0410 - recall_3: 0.98 - ETA: 3s - loss: 0.0411 - recall_3: 0.98 - ETA: 3s - loss: 0.0412 - recall_3: 0.98 - ETA: 3s - loss: 0.0410 - recall_3: 0.98 - ETA: 3s - loss: 0.0406 - recall_3: 0.98 - ETA: 3s - loss: 0.0404 - recall_3: 0.98 - ETA: 3s - loss: 0.0400 - recall_3: 0.98 - ETA: 3s - loss: 0.0395 - recall_3: 0.98 - ETA: 3s - loss: 0.0393 - recall_3: 0.98 - ETA: 3s - loss: 0.0406 - recall_3: 0.98 - ETA: 3s - loss: 0.0407 - recall_3: 0.98 - ETA: 3s - loss: 0.0408 - recall_3: 0.98 - ETA: 3s - loss: 0.0410 - recall_3: 0.98 - ETA: 2s - loss: 0.0407 - recall_3: 0.98 - ETA: 2s - loss: 0.0404 - recall_3: 0.98 - ETA: 2s - loss: 0.0411 - recall_3: 0.98 - ETA: 2s - loss: 0.0411 - recall_3: 0.98 - ETA: 2s - loss: 0.0411 - recall_3: 0.98 - ETA: 2s - loss: 0.0415 - recall_3: 0.98 - ETA: 2s - loss: 0.0415 - recall_3: 0.98 - ETA: 2s - loss: 0.0420 - recall_3: 0.98 - ETA: 2s - loss: 0.0418 - recall_3: 0.98 - ETA: 2s - loss: 0.0418 - recall_3: 0.98 - ETA: 2s - loss: 0.0419 - recall_3: 0.98 - ETA: 2s - loss: 0.0428 - recall_3: 0.98 - ETA: 2s - loss: 0.0427 - recall_3: 0.98 - ETA: 2s - loss: 0.0425 - recall_3: 0.98 - ETA: 2s - loss: 0.0426 - recall_3: 0.98 - ETA: 2s - loss: 0.0426 - recall_3: 0.98 - ETA: 2s - loss: 0.0427 - recall_3: 0.98 - ETA: 2s - loss: 0.0424 - recall_3: 0.98 - ETA: 2s - loss: 0.0422 - recall_3: 0.98 - ETA: 1s - loss: 0.0422 - recall_3: 0.98 - ETA: 1s - loss: 0.0420 - recall_3: 0.98 - ETA: 1s - loss: 0.0421 - recall_3: 0.98 - ETA: 1s - loss: 0.0418 - recall_3: 0.98 - ETA: 1s - loss: 0.0416 - recall_3: 0.98 - ETA: 1s - loss: 0.0419 - recall_3: 0.98 - ETA: 1s - loss: 0.0417 - recall_3: 0.98 - ETA: 1s - loss: 0.0414 - recall_3: 0.98 - ETA: 1s - loss: 0.0411 - recall_3: 0.98 - ETA: 1s - loss: 0.0409 - recall_3: 0.98 - ETA: 1s - loss: 0.0408 - recall_3: 0.98 - ETA: 1s - loss: 0.0406 - recall_3: 0.98 - ETA: 1s - loss: 0.0403 - recall_3: 0.98 - ETA: 1s - loss: 0.0406 - recall_3: 0.98 - ETA: 1s - loss: 0.0403 - recall_3: 0.98 - ETA: 1s - loss: 0.0401 - recall_3: 0.98 - ETA: 1s - loss: 0.0400 - recall_3: 0.98 - ETA: 1s - loss: 0.0402 - recall_3: 0.98 - ETA: 0s - loss: 0.0400 - recall_3: 0.98 - ETA: 0s - loss: 0.0398 - recall_3: 0.98 - ETA: 0s - loss: 0.0397 - recall_3: 0.98 - ETA: 0s - loss: 0.0397 - recall_3: 0.98 - ETA: 0s - loss: 0.0397 - recall_3: 0.98 - ETA: 0s - loss: 0.0395 - recall_3: 0.98 - ETA: 0s - loss: 0.0395 - recall_3: 0.98 - ETA: 0s - loss: 0.0392 - recall_3: 0.98 - ETA: 0s - loss: 0.0395 - recall_3: 0.98 - ETA: 0s - loss: 0.0395 - recall_3: 0.98 - ETA: 0s - loss: 0.0394 - recall_3: 0.98 - ETA: 0s - loss: 0.0395 - recall_3: 0.98 - ETA: 0s - loss: 0.0394 - recall_3: 0.98 - ETA: 0s - loss: 0.0398 - recall_3: 0.98 - ETA: 0s - loss: 0.0398 - recall_3: 0.98 - ETA: 0s - loss: 0.0398 - recall_3: 0.98 - ETA: 0s - loss: 0.0402 - recall_3: 0.98 - ETA: 0s - loss: 0.0403 - recall_3: 0.98 - ETA: 0s - loss: 0.0405 - recall_3: 0.98 - 8s 366us/sample - loss: 0.0405 - recall_3: 0.9876 - val_loss: 0.0992 - val_recall_3: 0.9769\n",
      "7173/7173 [==============================] - ETA: 0s - loss: 0.2221 - recall_3: 0.93 - ETA: 1s - loss: 0.1442 - recall_3: 0.96 - ETA: 0s - loss: 0.1284 - recall_3: 0.96 - ETA: 0s - loss: 0.1386 - recall_3: 0.96 - ETA: 0s - loss: 0.1330 - recall_3: 0.97 - ETA: 0s - loss: 0.1216 - recall_3: 0.97 - ETA: 0s - loss: 0.1170 - recall_3: 0.97 - ETA: 0s - loss: 0.1062 - recall_3: 0.97 - ETA: 0s - loss: 0.1063 - recall_3: 0.97 - ETA: 0s - loss: 0.1069 - recall_3: 0.97 - ETA: 0s - loss: 0.1068 - recall_3: 0.97 - ETA: 0s - loss: 0.1058 - recall_3: 0.97 - ETA: 0s - loss: 0.1013 - recall_3: 0.97 - ETA: 0s - loss: 0.0999 - recall_3: 0.97 - ETA: 0s - loss: 0.1050 - recall_3: 0.97 - ETA: 0s - loss: 0.1053 - recall_3: 0.97 - ETA: 0s - loss: 0.1036 - recall_3: 0.97 - ETA: 0s - loss: 0.1001 - recall_3: 0.97 - 1s 131us/sample - loss: 0.0992 - recall_3: 0.9769\n",
      "Test accuracy: 0.97685766\n"
     ]
    },
    {
     "data": {
      "image/png": "[encoded data removed]",
      "text/plain": [
       "<Figure size 432x360 with 1 Axes>"
      ]
     },
     "metadata": {
      "needs_background": "light"
     },
     "output_type": "display_data"
    }
   ],
   "source": [
    "model_up.compile(optimizer='adam', \n",
    "              loss='binary_crossentropy',\n",
    "              metrics=[tf.keras.metrics.Recall()])\n",
    "\n",
    "history = model_up.fit(up_X_train,\n",
    "          pd.get_dummies(up_y_train),\n",
    "          epochs=5,\n",
    "          validation_data=(up_X_test, pd.get_dummies(up_y_test))\n",
    "         )\n",
    "plot_loss(history)\n",
    "test_loss, test_acc = model_up.evaluate(up_X_test, pd.get_dummies(up_y_test))\n",
    "print('Test accuracy:', test_acc)"
   ]
  },
  {
   "cell_type": "code",
   "execution_count": 62,
   "metadata": {
    "ExecuteTime": {
     "end_time": "2019-08-09T07:23:23.867889Z",
     "start_time": "2019-08-09T07:23:23.130316Z"
    }
   },
   "outputs": [
    {
     "name": "stdout",
     "output_type": "stream",
     "text": [
      "전체채팅수7173, 유해채팅수3709\n"
     ]
    }
   ],
   "source": [
    "result = pd.DataFrame(np.apply_along_axis(index_to_text, 1, up_X_test))\n",
    "result['predict'] = model_up.predict_proba(up_X_test)[:,1] # 유해하다고 판별할 확률\n",
    "print('전체채팅수{}, 유해채팅수{}'.format(len(result),len(result[result.predict>0.5])))\n",
    "result[result.predict>0.5].head(10)\n",
    "result['label'] = up_y_test"
   ]
  },
  {
   "cell_type": "code",
   "execution_count": 48,
   "metadata": {
    "ExecuteTime": {
     "end_time": "2019-08-09T07:21:09.269896Z",
     "start_time": "2019-08-09T07:21:09.265897Z"
    }
   },
   "outputs": [],
   "source": [
    "# result.to_csv('../../data/cnn_result.csv', encoding='utf-16')"
   ]
  },
  {
   "cell_type": "markdown",
   "metadata": {},
   "source": [
    "## 분류 애매한 채팅들"
   ]
  },
  {
   "cell_type": "code",
   "execution_count": 63,
   "metadata": {
    "ExecuteTime": {
     "end_time": "2019-08-09T07:23:25.849757Z",
     "start_time": "2019-08-09T07:23:25.810781Z"
    }
   },
   "outputs": [
    {
     "data": {
      "text/html": [
       "<div>\n",
       "<style scoped>\n",
       "    .dataframe tbody tr th:only-of-type {\n",
       "        vertical-align: middle;\n",
       "    }\n",
       "\n",
       "    .dataframe tbody tr th {\n",
       "        vertical-align: top;\n",
       "    }\n",
       "\n",
       "    .dataframe thead th {\n",
       "        text-align: right;\n",
       "    }\n",
       "</style>\n",
       "<table border=\"1\" class=\"dataframe\">\n",
       "  <thead>\n",
       "    <tr style=\"text-align: right;\">\n",
       "      <th></th>\n",
       "      <th>0</th>\n",
       "      <th>predict</th>\n",
       "      <th>label</th>\n",
       "    </tr>\n",
       "  </thead>\n",
       "  <tbody>\n",
       "    <tr>\n",
       "      <th>147</th>\n",
       "      <td>&lt;OOV&gt; &lt;PAD&gt; &lt;PAD&gt; &lt;PAD&gt; &lt;PAD&gt; &lt;PA</td>\n",
       "      <td>0.475559</td>\n",
       "      <td>0</td>\n",
       "    </tr>\n",
       "    <tr>\n",
       "      <th>261</th>\n",
       "      <td>주방 에바 자 나 ㅋㅋㅋ &lt;PAD&gt;</td>\n",
       "      <td>0.520196</td>\n",
       "      <td>0</td>\n",
       "    </tr>\n",
       "    <tr>\n",
       "      <th>271</th>\n",
       "      <td>&lt;OOV&gt; &lt;PAD&gt; &lt;PAD&gt; &lt;PAD&gt; &lt;PAD&gt; &lt;PA</td>\n",
       "      <td>0.475559</td>\n",
       "      <td>1</td>\n",
       "    </tr>\n",
       "    <tr>\n",
       "      <th>349</th>\n",
       "      <td>우리 쟈니 보 쉬다 ??? &lt;PAD&gt;</td>\n",
       "      <td>0.301502</td>\n",
       "      <td>0</td>\n",
       "    </tr>\n",
       "    <tr>\n",
       "      <th>683</th>\n",
       "      <td>&lt;OOV&gt; &lt;OOV&gt; &lt;PAD&gt; &lt;PAD&gt; &lt;PAD&gt; &lt;PA</td>\n",
       "      <td>0.541004</td>\n",
       "      <td>0</td>\n",
       "    </tr>\n",
       "    <tr>\n",
       "      <th>745</th>\n",
       "      <td>망하다 &lt;PAD&gt; &lt;PAD&gt; &lt;PAD&gt; &lt;PAD&gt; &lt;PAD&gt;</td>\n",
       "      <td>0.572252</td>\n",
       "      <td>1</td>\n",
       "    </tr>\n",
       "    <tr>\n",
       "      <th>925</th>\n",
       "      <td>너구리 ㅋㅋㅋ &lt;PAD&gt; &lt;PAD&gt; &lt;PAD&gt; &lt;PAD&gt;</td>\n",
       "      <td>0.341296</td>\n",
       "      <td>0</td>\n",
       "    </tr>\n",
       "    <tr>\n",
       "      <th>1004</th>\n",
       "      <td>&lt;OOV&gt; &lt;OOV&gt; 이 .. &lt;PAD&gt; &lt;PAD&gt;</td>\n",
       "      <td>0.475997</td>\n",
       "      <td>0</td>\n",
       "    </tr>\n",
       "    <tr>\n",
       "      <th>1137</th>\n",
       "      <td>&lt;OOV&gt; &lt;PAD&gt; &lt;PAD&gt; &lt;PAD&gt; &lt;PAD&gt; &lt;PA</td>\n",
       "      <td>0.475559</td>\n",
       "      <td>0</td>\n",
       "    </tr>\n",
       "    <tr>\n",
       "      <th>1321</th>\n",
       "      <td>어디 ㅋㅋ &lt;PAD&gt; &lt;PAD&gt; &lt;PAD&gt; &lt;PAD&gt;</td>\n",
       "      <td>0.441230</td>\n",
       "      <td>0</td>\n",
       "    </tr>\n",
       "    <tr>\n",
       "      <th>1450</th>\n",
       "      <td>@(^ 0 ^)==@ &lt;PAD&gt; &lt;PAD&gt; &lt;PAD&gt;</td>\n",
       "      <td>0.373768</td>\n",
       "      <td>0</td>\n",
       "    </tr>\n",
       "    <tr>\n",
       "      <th>1533</th>\n",
       "      <td>&lt;OOV&gt; ㅋㅋ &lt;PAD&gt; &lt;PAD&gt; &lt;PAD&gt; &lt;PAD&gt;</td>\n",
       "      <td>0.517581</td>\n",
       "      <td>0</td>\n",
       "    </tr>\n",
       "    <tr>\n",
       "      <th>1566</th>\n",
       "      <td>&lt;OOV&gt; &lt;PAD&gt; &lt;PAD&gt; &lt;PAD&gt; &lt;PAD&gt; &lt;PA</td>\n",
       "      <td>0.475559</td>\n",
       "      <td>1</td>\n",
       "    </tr>\n",
       "    <tr>\n",
       "      <th>1582</th>\n",
       "      <td>육수 &lt;PAD&gt; &lt;PAD&gt; &lt;PAD&gt; &lt;PAD&gt; &lt;PAD&gt;</td>\n",
       "      <td>0.580814</td>\n",
       "      <td>0</td>\n",
       "    </tr>\n",
       "    <tr>\n",
       "      <th>1637</th>\n",
       "      <td>삼 개다 시너지 &lt;PAD&gt; &lt;PAD&gt; &lt;PAD&gt;</td>\n",
       "      <td>0.312147</td>\n",
       "      <td>0</td>\n",
       "    </tr>\n",
       "    <tr>\n",
       "      <th>2073</th>\n",
       "      <td>&lt;OOV&gt; &lt;PAD&gt; &lt;PAD&gt; &lt;PAD&gt; &lt;PAD&gt; &lt;PA</td>\n",
       "      <td>0.475559</td>\n",
       "      <td>0</td>\n",
       "    </tr>\n",
       "    <tr>\n",
       "      <th>2109</th>\n",
       "      <td>&lt;OOV&gt; &lt;PAD&gt; &lt;PAD&gt; &lt;PAD&gt; &lt;PAD&gt; &lt;PA</td>\n",
       "      <td>0.475559</td>\n",
       "      <td>1</td>\n",
       "    </tr>\n",
       "    <tr>\n",
       "      <th>2218</th>\n",
       "      <td>쿠키 는 오늘 도 속 았습니</td>\n",
       "      <td>0.445915</td>\n",
       "      <td>0</td>\n",
       "    </tr>\n",
       "    <tr>\n",
       "      <th>2340</th>\n",
       "      <td>&lt;OOV&gt; ㄷㄷ &lt;PAD&gt; &lt;PAD&gt; &lt;PAD&gt; &lt;PAD&gt;</td>\n",
       "      <td>0.550108</td>\n",
       "      <td>0</td>\n",
       "    </tr>\n",
       "    <tr>\n",
       "      <th>2430</th>\n",
       "      <td>&lt;OOV&gt; &lt;PAD&gt; &lt;PAD&gt; &lt;PAD&gt; &lt;PAD&gt; &lt;PA</td>\n",
       "      <td>0.475559</td>\n",
       "      <td>1</td>\n",
       "    </tr>\n",
       "    <tr>\n",
       "      <th>2486</th>\n",
       "      <td>&lt;OOV&gt; &lt;PAD&gt; &lt;PAD&gt; &lt;PAD&gt; &lt;PAD&gt; &lt;PA</td>\n",
       "      <td>0.475559</td>\n",
       "      <td>1</td>\n",
       "    </tr>\n",
       "    <tr>\n",
       "      <th>2523</th>\n",
       "      <td>망하다 &lt;PAD&gt; &lt;PAD&gt; &lt;PAD&gt; &lt;PAD&gt; &lt;PAD&gt;</td>\n",
       "      <td>0.572252</td>\n",
       "      <td>1</td>\n",
       "    </tr>\n",
       "    <tr>\n",
       "      <th>2775</th>\n",
       "      <td>&lt;OOV&gt; ㅋㅋㅋ &lt;PAD&gt; &lt;PAD&gt; &lt;PAD&gt; &lt;PAD&gt;</td>\n",
       "      <td>0.499140</td>\n",
       "      <td>0</td>\n",
       "    </tr>\n",
       "    <tr>\n",
       "      <th>2806</th>\n",
       "      <td>&lt;OOV&gt; &lt;PAD&gt; &lt;PAD&gt; &lt;PAD&gt; &lt;PAD&gt; &lt;PA</td>\n",
       "      <td>0.475559</td>\n",
       "      <td>0</td>\n",
       "    </tr>\n",
       "    <tr>\n",
       "      <th>2814</th>\n",
       "      <td>쿠키 도 싫어하다 아니다 ? &lt;PAD&gt;</td>\n",
       "      <td>0.424967</td>\n",
       "      <td>0</td>\n",
       "    </tr>\n",
       "    <tr>\n",
       "      <th>2848</th>\n",
       "      <td>&lt;OOV&gt; &lt;PAD&gt; &lt;PAD&gt; &lt;PAD&gt; &lt;PAD&gt; &lt;PA</td>\n",
       "      <td>0.475559</td>\n",
       "      <td>1</td>\n",
       "    </tr>\n",
       "    <tr>\n",
       "      <th>2886</th>\n",
       "      <td>&lt;OOV&gt; ㅋㅋㅋ &lt;PAD&gt; &lt;PAD&gt; &lt;PAD&gt; &lt;PAD&gt;</td>\n",
       "      <td>0.499140</td>\n",
       "      <td>0</td>\n",
       "    </tr>\n",
       "    <tr>\n",
       "      <th>2893</th>\n",
       "      <td>망하다 &lt;PAD&gt; &lt;PAD&gt; &lt;PAD&gt; &lt;PAD&gt; &lt;PAD&gt;</td>\n",
       "      <td>0.572252</td>\n",
       "      <td>0</td>\n",
       "    </tr>\n",
       "    <tr>\n",
       "      <th>3050</th>\n",
       "      <td>&lt;OOV&gt; &lt;PAD&gt; &lt;PAD&gt; &lt;PAD&gt; &lt;PAD&gt; &lt;PA</td>\n",
       "      <td>0.475559</td>\n",
       "      <td>0</td>\n",
       "    </tr>\n",
       "    <tr>\n",
       "      <th>3213</th>\n",
       "      <td>&lt;OOV&gt; ㄷㄷ &lt;PAD&gt; &lt;PAD&gt; &lt;PAD&gt; &lt;PAD&gt;</td>\n",
       "      <td>0.550108</td>\n",
       "      <td>1</td>\n",
       "    </tr>\n",
       "    <tr>\n",
       "      <th>...</th>\n",
       "      <td>...</td>\n",
       "      <td>...</td>\n",
       "      <td>...</td>\n",
       "    </tr>\n",
       "    <tr>\n",
       "      <th>4269</th>\n",
       "      <td>&lt;OOV&gt; &lt;PAD&gt; &lt;PAD&gt; &lt;PAD&gt; &lt;PAD&gt; &lt;PA</td>\n",
       "      <td>0.475559</td>\n",
       "      <td>1</td>\n",
       "    </tr>\n",
       "    <tr>\n",
       "      <th>4360</th>\n",
       "      <td>&lt;OOV&gt; ㅋㅋㅋ &lt;PAD&gt; &lt;PAD&gt; &lt;PAD&gt; &lt;PAD&gt;</td>\n",
       "      <td>0.499140</td>\n",
       "      <td>0</td>\n",
       "    </tr>\n",
       "    <tr>\n",
       "      <th>4372</th>\n",
       "      <td>너무 좋다 앙 &lt;PAD&gt; &lt;PAD&gt; &lt;PAD&gt;</td>\n",
       "      <td>0.559682</td>\n",
       "      <td>0</td>\n",
       "    </tr>\n",
       "    <tr>\n",
       "      <th>4395</th>\n",
       "      <td>&lt;OOV&gt; ㄷㄷ &lt;PAD&gt; &lt;PAD&gt; &lt;PAD&gt; &lt;PAD&gt;</td>\n",
       "      <td>0.550108</td>\n",
       "      <td>1</td>\n",
       "    </tr>\n",
       "    <tr>\n",
       "      <th>4431</th>\n",
       "      <td>예능 은 쌍 베다 &lt;PAD&gt; &lt;PAD&gt;</td>\n",
       "      <td>0.331979</td>\n",
       "      <td>0</td>\n",
       "    </tr>\n",
       "    <tr>\n",
       "      <th>4468</th>\n",
       "      <td>&lt;OOV&gt; &lt;PAD&gt; &lt;PAD&gt; &lt;PAD&gt; &lt;PAD&gt; &lt;PA</td>\n",
       "      <td>0.475559</td>\n",
       "      <td>1</td>\n",
       "    </tr>\n",
       "    <tr>\n",
       "      <th>4536</th>\n",
       "      <td>어허 ~ &lt;PAD&gt; &lt;PAD&gt; &lt;PAD&gt; &lt;PAD&gt;</td>\n",
       "      <td>0.467397</td>\n",
       "      <td>0</td>\n",
       "    </tr>\n",
       "    <tr>\n",
       "      <th>4667</th>\n",
       "      <td>&lt;OOV&gt; &lt;PAD&gt; &lt;PAD&gt; &lt;PAD&gt; &lt;PAD&gt; &lt;PA</td>\n",
       "      <td>0.475559</td>\n",
       "      <td>1</td>\n",
       "    </tr>\n",
       "    <tr>\n",
       "      <th>4846</th>\n",
       "      <td>&lt;OOV&gt; &lt;PAD&gt; &lt;PAD&gt; &lt;PAD&gt; &lt;PAD&gt; &lt;PA</td>\n",
       "      <td>0.475559</td>\n",
       "      <td>0</td>\n",
       "    </tr>\n",
       "    <tr>\n",
       "      <th>4933</th>\n",
       "      <td>떡 &lt;PAD&gt; &lt;PAD&gt; &lt;PAD&gt; &lt;PAD&gt; &lt;PAD&gt;</td>\n",
       "      <td>0.444942</td>\n",
       "      <td>0</td>\n",
       "    </tr>\n",
       "    <tr>\n",
       "      <th>5055</th>\n",
       "      <td>&lt;OOV&gt; &lt;PAD&gt; &lt;PAD&gt; &lt;PAD&gt; &lt;PAD&gt; &lt;PA</td>\n",
       "      <td>0.475559</td>\n",
       "      <td>1</td>\n",
       "    </tr>\n",
       "    <tr>\n",
       "      <th>5085</th>\n",
       "      <td>&lt;OOV&gt; &lt;PAD&gt; &lt;PAD&gt; &lt;PAD&gt; &lt;PAD&gt; &lt;PA</td>\n",
       "      <td>0.475559</td>\n",
       "      <td>0</td>\n",
       "    </tr>\n",
       "    <tr>\n",
       "      <th>5089</th>\n",
       "      <td>&lt;OOV&gt; ㅋㅋㅋ &lt;PAD&gt; &lt;PAD&gt; &lt;PAD&gt; &lt;PAD&gt;</td>\n",
       "      <td>0.499140</td>\n",
       "      <td>0</td>\n",
       "    </tr>\n",
       "    <tr>\n",
       "      <th>5273</th>\n",
       "      <td>&lt;OOV&gt; ㄷㄷ &lt;PAD&gt; &lt;PAD&gt; &lt;PAD&gt; &lt;PAD&gt;</td>\n",
       "      <td>0.550108</td>\n",
       "      <td>1</td>\n",
       "    </tr>\n",
       "    <tr>\n",
       "      <th>5335</th>\n",
       "      <td>쩝쩝 거리 지 돔 마 창석</td>\n",
       "      <td>0.525035</td>\n",
       "      <td>0</td>\n",
       "    </tr>\n",
       "    <tr>\n",
       "      <th>5343</th>\n",
       "      <td>&lt;OOV&gt; ㄷㄷ &lt;PAD&gt; &lt;PAD&gt; &lt;PAD&gt; &lt;PAD&gt;</td>\n",
       "      <td>0.550108</td>\n",
       "      <td>0</td>\n",
       "    </tr>\n",
       "    <tr>\n",
       "      <th>5416</th>\n",
       "      <td>에바 지 &lt;PAD&gt; &lt;PAD&gt; &lt;PAD&gt; &lt;PAD&gt;</td>\n",
       "      <td>0.387272</td>\n",
       "      <td>0</td>\n",
       "    </tr>\n",
       "    <tr>\n",
       "      <th>5558</th>\n",
       "      <td>&lt;OOV&gt; &lt;PAD&gt; &lt;PAD&gt; &lt;PAD&gt; &lt;PAD&gt; &lt;PA</td>\n",
       "      <td>0.475559</td>\n",
       "      <td>0</td>\n",
       "    </tr>\n",
       "    <tr>\n",
       "      <th>5776</th>\n",
       "      <td>&lt;OOV&gt; &lt;PAD&gt; &lt;PAD&gt; &lt;PAD&gt; &lt;PAD&gt; &lt;PA</td>\n",
       "      <td>0.475559</td>\n",
       "      <td>0</td>\n",
       "    </tr>\n",
       "    <tr>\n",
       "      <th>5796</th>\n",
       "      <td>꿀 &lt;OOV&gt; &lt;PAD&gt; &lt;PAD&gt; &lt;PAD&gt; &lt;PAD&gt;</td>\n",
       "      <td>0.502568</td>\n",
       "      <td>0</td>\n",
       "    </tr>\n",
       "    <tr>\n",
       "      <th>5798</th>\n",
       "      <td>그냥 그냥 &lt;PAD&gt; &lt;PAD&gt; &lt;PAD&gt; &lt;PAD&gt;</td>\n",
       "      <td>0.450388</td>\n",
       "      <td>0</td>\n",
       "    </tr>\n",
       "    <tr>\n",
       "      <th>5842</th>\n",
       "      <td>오다 ㅋ 질 자신 이 ?</td>\n",
       "      <td>0.531754</td>\n",
       "      <td>0</td>\n",
       "    </tr>\n",
       "    <tr>\n",
       "      <th>5843</th>\n",
       "      <td>&lt;OOV&gt; ㄷㄷ &lt;PAD&gt; &lt;PAD&gt; &lt;PAD&gt; &lt;PAD&gt;</td>\n",
       "      <td>0.550108</td>\n",
       "      <td>1</td>\n",
       "    </tr>\n",
       "    <tr>\n",
       "      <th>6209</th>\n",
       "      <td>아 올라가다 ? &lt;PAD&gt; &lt;PAD&gt; &lt;PAD&gt;</td>\n",
       "      <td>0.399899</td>\n",
       "      <td>0</td>\n",
       "    </tr>\n",
       "    <tr>\n",
       "      <th>6375</th>\n",
       "      <td>&lt;OOV&gt; &lt;PAD&gt; &lt;PAD&gt; &lt;PAD&gt; &lt;PAD&gt; &lt;PA</td>\n",
       "      <td>0.475559</td>\n",
       "      <td>1</td>\n",
       "    </tr>\n",
       "    <tr>\n",
       "      <th>6471</th>\n",
       "      <td>허수 &lt;PAD&gt; &lt;PAD&gt; &lt;PAD&gt; &lt;PAD&gt; &lt;PAD&gt;</td>\n",
       "      <td>0.343873</td>\n",
       "      <td>0</td>\n",
       "    </tr>\n",
       "    <tr>\n",
       "      <th>6474</th>\n",
       "      <td>&lt;OOV&gt; ㄷㄷ &lt;PAD&gt; &lt;PAD&gt; &lt;PAD&gt; &lt;PAD&gt;</td>\n",
       "      <td>0.550108</td>\n",
       "      <td>1</td>\n",
       "    </tr>\n",
       "    <tr>\n",
       "      <th>6553</th>\n",
       "      <td>&lt;OOV&gt; ㄷㄷ &lt;PAD&gt; &lt;PAD&gt; &lt;PAD&gt; &lt;PAD&gt;</td>\n",
       "      <td>0.550108</td>\n",
       "      <td>1</td>\n",
       "    </tr>\n",
       "    <tr>\n",
       "      <th>6762</th>\n",
       "      <td>망하다 &lt;PAD&gt; &lt;PAD&gt; &lt;PAD&gt; &lt;PAD&gt; &lt;PAD&gt;</td>\n",
       "      <td>0.572252</td>\n",
       "      <td>1</td>\n",
       "    </tr>\n",
       "    <tr>\n",
       "      <th>6786</th>\n",
       "      <td>죽다 &lt;OOV&gt; ㅋㅋ &lt;PAD&gt; &lt;PAD&gt; &lt;PAD&gt;</td>\n",
       "      <td>0.503569</td>\n",
       "      <td>0</td>\n",
       "    </tr>\n",
       "  </tbody>\n",
       "</table>\n",
       "<p>71 rows × 3 columns</p>\n",
       "</div>"
      ],
      "text/plain": [
       "                                      0   predict  label\n",
       "147   <OOV> <PAD> <PAD> <PAD> <PAD> <PA  0.475559      0\n",
       "261                 주방 에바 자 나 ㅋㅋㅋ <PAD>  0.520196      0\n",
       "271   <OOV> <PAD> <PAD> <PAD> <PAD> <PA  0.475559      1\n",
       "349                우리 쟈니 보 쉬다 ??? <PAD>  0.301502      0\n",
       "683   <OOV> <OOV> <PAD> <PAD> <PAD> <PA  0.541004      0\n",
       "745   망하다 <PAD> <PAD> <PAD> <PAD> <PAD>  0.572252      1\n",
       "925     너구리 ㅋㅋㅋ <PAD> <PAD> <PAD> <PAD>  0.341296      0\n",
       "1004       <OOV> <OOV> 이 .. <PAD> <PAD>  0.475997      0\n",
       "1137  <OOV> <PAD> <PAD> <PAD> <PAD> <PA  0.475559      0\n",
       "1321      어디 ㅋㅋ <PAD> <PAD> <PAD> <PAD>  0.441230      0\n",
       "1450      @(^ 0 ^)==@ <PAD> <PAD> <PAD>  0.373768      0\n",
       "1533   <OOV> ㅋㅋ <PAD> <PAD> <PAD> <PAD>  0.517581      0\n",
       "1566  <OOV> <PAD> <PAD> <PAD> <PAD> <PA  0.475559      1\n",
       "1582   육수 <PAD> <PAD> <PAD> <PAD> <PAD>  0.580814      0\n",
       "1637         삼 개다 시너지 <PAD> <PAD> <PAD>  0.312147      0\n",
       "2073  <OOV> <PAD> <PAD> <PAD> <PAD> <PA  0.475559      0\n",
       "2109  <OOV> <PAD> <PAD> <PAD> <PAD> <PA  0.475559      1\n",
       "2218                    쿠키 는 오늘 도 속 았습니  0.445915      0\n",
       "2340   <OOV> ㄷㄷ <PAD> <PAD> <PAD> <PAD>  0.550108      0\n",
       "2430  <OOV> <PAD> <PAD> <PAD> <PAD> <PA  0.475559      1\n",
       "2486  <OOV> <PAD> <PAD> <PAD> <PAD> <PA  0.475559      1\n",
       "2523  망하다 <PAD> <PAD> <PAD> <PAD> <PAD>  0.572252      1\n",
       "2775  <OOV> ㅋㅋㅋ <PAD> <PAD> <PAD> <PAD>  0.499140      0\n",
       "2806  <OOV> <PAD> <PAD> <PAD> <PAD> <PA  0.475559      0\n",
       "2814              쿠키 도 싫어하다 아니다 ? <PAD>  0.424967      0\n",
       "2848  <OOV> <PAD> <PAD> <PAD> <PAD> <PA  0.475559      1\n",
       "2886  <OOV> ㅋㅋㅋ <PAD> <PAD> <PAD> <PAD>  0.499140      0\n",
       "2893  망하다 <PAD> <PAD> <PAD> <PAD> <PAD>  0.572252      0\n",
       "3050  <OOV> <PAD> <PAD> <PAD> <PAD> <PA  0.475559      0\n",
       "3213   <OOV> ㄷㄷ <PAD> <PAD> <PAD> <PAD>  0.550108      1\n",
       "...                                 ...       ...    ...\n",
       "4269  <OOV> <PAD> <PAD> <PAD> <PAD> <PA  0.475559      1\n",
       "4360  <OOV> ㅋㅋㅋ <PAD> <PAD> <PAD> <PAD>  0.499140      0\n",
       "4372          너무 좋다 앙 <PAD> <PAD> <PAD>  0.559682      0\n",
       "4395   <OOV> ㄷㄷ <PAD> <PAD> <PAD> <PAD>  0.550108      1\n",
       "4431              예능 은 쌍 베다 <PAD> <PAD>  0.331979      0\n",
       "4468  <OOV> <PAD> <PAD> <PAD> <PAD> <PA  0.475559      1\n",
       "4536       어허 ~ <PAD> <PAD> <PAD> <PAD>  0.467397      0\n",
       "4667  <OOV> <PAD> <PAD> <PAD> <PAD> <PA  0.475559      1\n",
       "4846  <OOV> <PAD> <PAD> <PAD> <PAD> <PA  0.475559      0\n",
       "4933    떡 <PAD> <PAD> <PAD> <PAD> <PAD>  0.444942      0\n",
       "5055  <OOV> <PAD> <PAD> <PAD> <PAD> <PA  0.475559      1\n",
       "5085  <OOV> <PAD> <PAD> <PAD> <PAD> <PA  0.475559      0\n",
       "5089  <OOV> ㅋㅋㅋ <PAD> <PAD> <PAD> <PAD>  0.499140      0\n",
       "5273   <OOV> ㄷㄷ <PAD> <PAD> <PAD> <PAD>  0.550108      1\n",
       "5335                     쩝쩝 거리 지 돔 마 창석  0.525035      0\n",
       "5343   <OOV> ㄷㄷ <PAD> <PAD> <PAD> <PAD>  0.550108      0\n",
       "5416       에바 지 <PAD> <PAD> <PAD> <PAD>  0.387272      0\n",
       "5558  <OOV> <PAD> <PAD> <PAD> <PAD> <PA  0.475559      0\n",
       "5776  <OOV> <PAD> <PAD> <PAD> <PAD> <PA  0.475559      0\n",
       "5796    꿀 <OOV> <PAD> <PAD> <PAD> <PAD>  0.502568      0\n",
       "5798      그냥 그냥 <PAD> <PAD> <PAD> <PAD>  0.450388      0\n",
       "5842                      오다 ㅋ 질 자신 이 ?  0.531754      0\n",
       "5843   <OOV> ㄷㄷ <PAD> <PAD> <PAD> <PAD>  0.550108      1\n",
       "6209         아 올라가다 ? <PAD> <PAD> <PAD>  0.399899      0\n",
       "6375  <OOV> <PAD> <PAD> <PAD> <PAD> <PA  0.475559      1\n",
       "6471   허수 <PAD> <PAD> <PAD> <PAD> <PAD>  0.343873      0\n",
       "6474   <OOV> ㄷㄷ <PAD> <PAD> <PAD> <PAD>  0.550108      1\n",
       "6553   <OOV> ㄷㄷ <PAD> <PAD> <PAD> <PAD>  0.550108      1\n",
       "6762  망하다 <PAD> <PAD> <PAD> <PAD> <PAD>  0.572252      1\n",
       "6786      죽다 <OOV> ㅋㅋ <PAD> <PAD> <PAD>  0.503569      0\n",
       "\n",
       "[71 rows x 3 columns]"
      ]
     },
     "execution_count": 63,
     "metadata": {},
     "output_type": "execute_result"
    }
   ],
   "source": [
    "result[(result.predict>0.3) & (result.predict<0.6)]"
   ]
  },
  {
   "cell_type": "markdown",
   "metadata": {},
   "source": [
    "### 예측 실패한 채팅들"
   ]
  },
  {
   "cell_type": "code",
   "execution_count": 64,
   "metadata": {
    "ExecuteTime": {
     "end_time": "2019-08-09T07:23:29.235817Z",
     "start_time": "2019-08-09T07:23:28.802066Z"
    }
   },
   "outputs": [
    {
     "data": {
      "text/html": [
       "<div>\n",
       "<style scoped>\n",
       "    .dataframe tbody tr th:only-of-type {\n",
       "        vertical-align: middle;\n",
       "    }\n",
       "\n",
       "    .dataframe tbody tr th {\n",
       "        vertical-align: top;\n",
       "    }\n",
       "\n",
       "    .dataframe thead th {\n",
       "        text-align: right;\n",
       "    }\n",
       "</style>\n",
       "<table border=\"1\" class=\"dataframe\">\n",
       "  <thead>\n",
       "    <tr style=\"text-align: right;\">\n",
       "      <th></th>\n",
       "      <th>0</th>\n",
       "      <th>predict</th>\n",
       "      <th>label</th>\n",
       "    </tr>\n",
       "  </thead>\n",
       "  <tbody>\n",
       "    <tr>\n",
       "      <th>1</th>\n",
       "      <td>형 칭호 사용 하고 잇다 ?</td>\n",
       "      <td>0.666565</td>\n",
       "      <td>0</td>\n",
       "    </tr>\n",
       "    <tr>\n",
       "      <th>8</th>\n",
       "      <td>&lt;OOV&gt; 개웃 기네 ㅋㅋ &lt;PAD&gt; &lt;PAD&gt;</td>\n",
       "      <td>0.997270</td>\n",
       "      <td>0</td>\n",
       "    </tr>\n",
       "    <tr>\n",
       "      <th>95</th>\n",
       "      <td>&lt;OOV&gt; 게임 이야 ? &lt;PAD&gt; &lt;PAD&gt;</td>\n",
       "      <td>0.989615</td>\n",
       "      <td>0</td>\n",
       "    </tr>\n",
       "    <tr>\n",
       "      <th>125</th>\n",
       "      <td>브배 앵 냥 ~ &lt;PAD&gt; &lt;PAD&gt;</td>\n",
       "      <td>0.999965</td>\n",
       "      <td>0</td>\n",
       "    </tr>\n",
       "    <tr>\n",
       "      <th>144</th>\n",
       "      <td>하라 늘다 말르다 ㅋㅋㅋ &lt;PAD&gt; &lt;PAD&gt;</td>\n",
       "      <td>0.999993</td>\n",
       "      <td>0</td>\n",
       "    </tr>\n",
       "    <tr>\n",
       "      <th>187</th>\n",
       "      <td>놀라다 맞다 &lt;PAD&gt; &lt;PAD&gt; &lt;PAD&gt; &lt;PAD&gt;</td>\n",
       "      <td>0.850111</td>\n",
       "      <td>0</td>\n",
       "    </tr>\n",
       "    <tr>\n",
       "      <th>261</th>\n",
       "      <td>주방 에바 자 나 ㅋㅋㅋ &lt;PAD&gt;</td>\n",
       "      <td>0.520196</td>\n",
       "      <td>0</td>\n",
       "    </tr>\n",
       "    <tr>\n",
       "      <th>263</th>\n",
       "      <td>옛날 애로우 ㅋㅋㅋ &lt;PAD&gt; &lt;PAD&gt; &lt;PAD&gt;</td>\n",
       "      <td>0.964305</td>\n",
       "      <td>0</td>\n",
       "    </tr>\n",
       "    <tr>\n",
       "      <th>271</th>\n",
       "      <td>&lt;OOV&gt; &lt;PAD&gt; &lt;PAD&gt; &lt;PAD&gt; &lt;PAD&gt; &lt;PA</td>\n",
       "      <td>0.475559</td>\n",
       "      <td>1</td>\n",
       "    </tr>\n",
       "    <tr>\n",
       "      <th>279</th>\n",
       "      <td>&lt;OOV&gt; ? &lt;PAD&gt; &lt;PAD&gt; &lt;PAD&gt; &lt;PAD&gt;</td>\n",
       "      <td>0.832197</td>\n",
       "      <td>0</td>\n",
       "    </tr>\n",
       "    <tr>\n",
       "      <th>291</th>\n",
       "      <td>쿠키 크다 이다 &lt;PAD&gt; &lt;PAD&gt; &lt;PAD&gt;</td>\n",
       "      <td>0.997864</td>\n",
       "      <td>0</td>\n",
       "    </tr>\n",
       "    <tr>\n",
       "      <th>354</th>\n",
       "      <td>&lt;OOV&gt; 아 &lt;PAD&gt; &lt;PAD&gt; &lt;PAD&gt; &lt;PAD&gt;</td>\n",
       "      <td>0.847346</td>\n",
       "      <td>0</td>\n",
       "    </tr>\n",
       "    <tr>\n",
       "      <th>360</th>\n",
       "      <td>이지 깨다 다음 난이도 열리다 아니다</td>\n",
       "      <td>0.849140</td>\n",
       "      <td>0</td>\n",
       "    </tr>\n",
       "    <tr>\n",
       "      <th>390</th>\n",
       "      <td>노인 농락 &lt;PAD&gt; &lt;PAD&gt; &lt;PAD&gt; &lt;PAD&gt;</td>\n",
       "      <td>0.961695</td>\n",
       "      <td>0</td>\n",
       "    </tr>\n",
       "    <tr>\n",
       "      <th>400</th>\n",
       "      <td>쾅 쾅쾅 ! &lt;PAD&gt; &lt;PAD&gt; &lt;PAD&gt;</td>\n",
       "      <td>0.867951</td>\n",
       "      <td>0</td>\n",
       "    </tr>\n",
       "    <tr>\n",
       "      <th>421</th>\n",
       "      <td>카밀 개 치다 맞다 같다 &lt;PAD&gt;</td>\n",
       "      <td>0.999844</td>\n",
       "      <td>0</td>\n",
       "    </tr>\n",
       "    <tr>\n",
       "      <th>473</th>\n",
       "      <td>&lt;OOV&gt; ? &lt;PAD&gt; &lt;PAD&gt; &lt;PAD&gt; &lt;PAD&gt;</td>\n",
       "      <td>0.832197</td>\n",
       "      <td>0</td>\n",
       "    </tr>\n",
       "    <tr>\n",
       "      <th>552</th>\n",
       "      <td>끼 이이 이익 &lt;PAD&gt; &lt;PAD&gt; &lt;PAD&gt;</td>\n",
       "      <td>0.739739</td>\n",
       "      <td>0</td>\n",
       "    </tr>\n",
       "    <tr>\n",
       "      <th>605</th>\n",
       "      <td>브베 이제 할아버지 딸 까지 &lt;PAD&gt;</td>\n",
       "      <td>0.998366</td>\n",
       "      <td>0</td>\n",
       "    </tr>\n",
       "    <tr>\n",
       "      <th>647</th>\n",
       "      <td>도 . 네 하다 넘다 들다</td>\n",
       "      <td>0.835600</td>\n",
       "      <td>0</td>\n",
       "    </tr>\n",
       "    <tr>\n",
       "      <th>677</th>\n",
       "      <td>진짜 미치다 ㅋㅋㅋ &lt;PAD&gt; &lt;PAD&gt; &lt;PAD&gt;</td>\n",
       "      <td>0.796004</td>\n",
       "      <td>0</td>\n",
       "    </tr>\n",
       "    <tr>\n",
       "      <th>683</th>\n",
       "      <td>&lt;OOV&gt; &lt;OOV&gt; &lt;PAD&gt; &lt;PAD&gt; &lt;PAD&gt; &lt;PA</td>\n",
       "      <td>0.541004</td>\n",
       "      <td>0</td>\n",
       "    </tr>\n",
       "    <tr>\n",
       "      <th>717</th>\n",
       "      <td>그저 쓰레기 그저 나물 &lt;PAD&gt; &lt;PAD&gt;</td>\n",
       "      <td>0.999984</td>\n",
       "      <td>0</td>\n",
       "    </tr>\n",
       "    <tr>\n",
       "      <th>750</th>\n",
       "      <td>ㅇㅅㅂㅅ &lt;PAD&gt; &lt;PAD&gt; &lt;PAD&gt; &lt;PAD&gt; &lt;PAD</td>\n",
       "      <td>0.794883</td>\n",
       "      <td>0</td>\n",
       "    </tr>\n",
       "    <tr>\n",
       "      <th>817</th>\n",
       "      <td>도우 네 쏘다 &lt;PAD&gt; &lt;PAD&gt; &lt;PAD&gt;</td>\n",
       "      <td>0.860422</td>\n",
       "      <td>0</td>\n",
       "    </tr>\n",
       "    <tr>\n",
       "      <th>853</th>\n",
       "      <td>개꿀잼 &lt;PAD&gt; &lt;PAD&gt; &lt;PAD&gt; &lt;PAD&gt; &lt;PAD&gt;</td>\n",
       "      <td>0.999984</td>\n",
       "      <td>0</td>\n",
       "    </tr>\n",
       "    <tr>\n",
       "      <th>906</th>\n",
       "      <td>&lt;OOV&gt; 이다 &lt;PAD&gt; &lt;PAD&gt; &lt;PAD&gt; &lt;PAD&gt;</td>\n",
       "      <td>0.747535</td>\n",
       "      <td>0</td>\n",
       "    </tr>\n",
       "    <tr>\n",
       "      <th>950</th>\n",
       "      <td>엄마 나 빵 주다 ~ &lt;PAD&gt;</td>\n",
       "      <td>0.997548</td>\n",
       "      <td>0</td>\n",
       "    </tr>\n",
       "    <tr>\n",
       "      <th>992</th>\n",
       "      <td>그리고 빼 박아 욕 하므다 앙</td>\n",
       "      <td>0.999849</td>\n",
       "      <td>0</td>\n",
       "    </tr>\n",
       "    <tr>\n",
       "      <th>1012</th>\n",
       "      <td>잘생기다 &gt;.&lt; &lt;PAD&gt; &lt;PAD&gt; &lt;PAD&gt; &lt;PAD&gt;</td>\n",
       "      <td>0.896956</td>\n",
       "      <td>0</td>\n",
       "    </tr>\n",
       "    <tr>\n",
       "      <th>...</th>\n",
       "      <td>...</td>\n",
       "      <td>...</td>\n",
       "      <td>...</td>\n",
       "    </tr>\n",
       "    <tr>\n",
       "      <th>5454</th>\n",
       "      <td>탑신 병자 빙의 ㄷㄷ &lt;PAD&gt; &lt;PAD&gt;</td>\n",
       "      <td>1.000000</td>\n",
       "      <td>0</td>\n",
       "    </tr>\n",
       "    <tr>\n",
       "      <th>5507</th>\n",
       "      <td>그렇다 거 치다 일찍 오다 네</td>\n",
       "      <td>0.930564</td>\n",
       "      <td>0</td>\n",
       "    </tr>\n",
       "    <tr>\n",
       "      <th>5582</th>\n",
       "      <td>&lt;OOV&gt; 되다 ? &lt;PAD&gt; &lt;PAD&gt; &lt;PAD&gt;</td>\n",
       "      <td>0.802515</td>\n",
       "      <td>0</td>\n",
       "    </tr>\n",
       "    <tr>\n",
       "      <th>5585</th>\n",
       "      <td>미드 레넥나와 서 뚝배기 깨지다 아니다</td>\n",
       "      <td>0.955136</td>\n",
       "      <td>0</td>\n",
       "    </tr>\n",
       "    <tr>\n",
       "      <th>5606</th>\n",
       "      <td>정신 못 차리다 &lt;PAD&gt; &lt;PAD&gt; &lt;PAD&gt;</td>\n",
       "      <td>0.999987</td>\n",
       "      <td>0</td>\n",
       "    </tr>\n",
       "    <tr>\n",
       "      <th>5638</th>\n",
       "      <td>딱 밤 ㅋㅋ &lt;PAD&gt; &lt;PAD&gt; &lt;PAD&gt;</td>\n",
       "      <td>0.996095</td>\n",
       "      <td>0</td>\n",
       "    </tr>\n",
       "    <tr>\n",
       "      <th>5775</th>\n",
       "      <td>뒤지다 개 로 늘리다 &lt;PAD&gt; &lt;PAD&gt;</td>\n",
       "      <td>0.995963</td>\n",
       "      <td>0</td>\n",
       "    </tr>\n",
       "    <tr>\n",
       "      <th>5796</th>\n",
       "      <td>꿀 &lt;OOV&gt; &lt;PAD&gt; &lt;PAD&gt; &lt;PAD&gt; &lt;PAD&gt;</td>\n",
       "      <td>0.502568</td>\n",
       "      <td>0</td>\n",
       "    </tr>\n",
       "    <tr>\n",
       "      <th>5797</th>\n",
       "      <td>뽀뽀 를 날리다 얼굴 &lt;PAD&gt; &lt;PAD&gt;</td>\n",
       "      <td>0.999952</td>\n",
       "      <td>0</td>\n",
       "    </tr>\n",
       "    <tr>\n",
       "      <th>5842</th>\n",
       "      <td>오다 ㅋ 질 자신 이 ?</td>\n",
       "      <td>0.531754</td>\n",
       "      <td>0</td>\n",
       "    </tr>\n",
       "    <tr>\n",
       "      <th>5917</th>\n",
       "      <td>독거 노인 &lt;OOV&gt; ~ &lt;PAD&gt; &lt;PAD&gt;</td>\n",
       "      <td>1.000000</td>\n",
       "      <td>0</td>\n",
       "    </tr>\n",
       "    <tr>\n",
       "      <th>5957</th>\n",
       "      <td>누나 나 죽다 &lt;PAD&gt; &lt;PAD&gt; &lt;PAD&gt;</td>\n",
       "      <td>0.733452</td>\n",
       "      <td>0</td>\n",
       "    </tr>\n",
       "    <tr>\n",
       "      <th>6039</th>\n",
       "      <td>강등 용 개꿀잼 &lt;PAD&gt; &lt;PAD&gt; &lt;PAD&gt;</td>\n",
       "      <td>0.911109</td>\n",
       "      <td>0</td>\n",
       "    </tr>\n",
       "    <tr>\n",
       "      <th>6046</th>\n",
       "      <td>추하다 ㅋㅋ &lt;PAD&gt; &lt;PAD&gt; &lt;PAD&gt; &lt;PAD&gt;</td>\n",
       "      <td>0.768656</td>\n",
       "      <td>0</td>\n",
       "    </tr>\n",
       "    <tr>\n",
       "      <th>6048</th>\n",
       "      <td>&lt;OOV&gt; 이 없다 &lt;PAD&gt; &lt;PAD&gt; &lt;PAD&gt;</td>\n",
       "      <td>0.712620</td>\n",
       "      <td>0</td>\n",
       "    </tr>\n",
       "    <tr>\n",
       "      <th>6065</th>\n",
       "      <td>개다 해 &lt;PAD&gt; &lt;PAD&gt; &lt;PAD&gt; &lt;PAD&gt;</td>\n",
       "      <td>0.997711</td>\n",
       "      <td>0</td>\n",
       "    </tr>\n",
       "    <tr>\n",
       "      <th>6231</th>\n",
       "      <td>똥 싸다 !! 똥 얼른 싸다</td>\n",
       "      <td>0.994512</td>\n",
       "      <td>0</td>\n",
       "    </tr>\n",
       "    <tr>\n",
       "      <th>6235</th>\n",
       "      <td>이 것 은 뎊트겠 지 ?</td>\n",
       "      <td>0.683940</td>\n",
       "      <td>0</td>\n",
       "    </tr>\n",
       "    <tr>\n",
       "      <th>6238</th>\n",
       "      <td>&lt;OOV&gt; 형 계속 잘생기다 &lt;PAD&gt; &lt;PAD&gt;</td>\n",
       "      <td>0.999430</td>\n",
       "      <td>0</td>\n",
       "    </tr>\n",
       "    <tr>\n",
       "      <th>6359</th>\n",
       "      <td>쉬 불량 ㅋㅋㅋ &lt;PAD&gt; &lt;PAD&gt; &lt;PAD&gt;</td>\n",
       "      <td>0.999980</td>\n",
       "      <td>0</td>\n",
       "    </tr>\n",
       "    <tr>\n",
       "      <th>6375</th>\n",
       "      <td>&lt;OOV&gt; &lt;PAD&gt; &lt;PAD&gt; &lt;PAD&gt; &lt;PAD&gt; &lt;PA</td>\n",
       "      <td>0.475559</td>\n",
       "      <td>1</td>\n",
       "    </tr>\n",
       "    <tr>\n",
       "      <th>6459</th>\n",
       "      <td>쉬다 ~~~ &lt;PAD&gt; &lt;PAD&gt; &lt;PAD&gt; &lt;PAD&gt;</td>\n",
       "      <td>0.798233</td>\n",
       "      <td>0</td>\n",
       "    </tr>\n",
       "    <tr>\n",
       "      <th>6595</th>\n",
       "      <td>재미있다 ㅋㅋ &lt;PAD&gt; &lt;PAD&gt; &lt;PAD&gt; &lt;PAD&gt;</td>\n",
       "      <td>0.754832</td>\n",
       "      <td>0</td>\n",
       "    </tr>\n",
       "    <tr>\n",
       "      <th>6773</th>\n",
       "      <td>커지다 &lt;PAD&gt; &lt;PAD&gt; &lt;PAD&gt; &lt;PAD&gt; &lt;PAD&gt;</td>\n",
       "      <td>0.895998</td>\n",
       "      <td>0</td>\n",
       "    </tr>\n",
       "    <tr>\n",
       "      <th>6786</th>\n",
       "      <td>죽다 &lt;OOV&gt; ㅋㅋ &lt;PAD&gt; &lt;PAD&gt; &lt;PAD&gt;</td>\n",
       "      <td>0.503569</td>\n",
       "      <td>0</td>\n",
       "    </tr>\n",
       "    <tr>\n",
       "      <th>6862</th>\n",
       "      <td>브베 야 브 베스트 일 관</td>\n",
       "      <td>0.921644</td>\n",
       "      <td>0</td>\n",
       "    </tr>\n",
       "    <tr>\n",
       "      <th>6916</th>\n",
       "      <td>ㅈ 전 다 &lt;PAD&gt; &lt;PAD&gt; &lt;PAD&gt;</td>\n",
       "      <td>0.998845</td>\n",
       "      <td>0</td>\n",
       "    </tr>\n",
       "    <tr>\n",
       "      <th>6928</th>\n",
       "      <td>개 웃기다 &lt;PAD&gt; &lt;PAD&gt; &lt;PAD&gt; &lt;PAD&gt;</td>\n",
       "      <td>0.989858</td>\n",
       "      <td>0</td>\n",
       "    </tr>\n",
       "    <tr>\n",
       "      <th>6977</th>\n",
       "      <td>역시 밉다 절 앰 &lt;PAD&gt; &lt;PAD&gt;</td>\n",
       "      <td>0.990150</td>\n",
       "      <td>0</td>\n",
       "    </tr>\n",
       "    <tr>\n",
       "      <th>7051</th>\n",
       "      <td>쵸 럭키 다 제 &lt;PAD&gt; &lt;PAD&gt;</td>\n",
       "      <td>0.996332</td>\n",
       "      <td>0</td>\n",
       "    </tr>\n",
       "  </tbody>\n",
       "</table>\n",
       "<p>166 rows × 3 columns</p>\n",
       "</div>"
      ],
      "text/plain": [
       "                                      0   predict  label\n",
       "1                       형 칭호 사용 하고 잇다 ?  0.666565      0\n",
       "8            <OOV> 개웃 기네 ㅋㅋ <PAD> <PAD>  0.997270      0\n",
       "95            <OOV> 게임 이야 ? <PAD> <PAD>  0.989615      0\n",
       "125                브배 앵 냥 ~ <PAD> <PAD>  0.999965      0\n",
       "144           하라 늘다 말르다 ㅋㅋㅋ <PAD> <PAD>  0.999993      0\n",
       "187      놀라다 맞다 <PAD> <PAD> <PAD> <PAD>  0.850111      0\n",
       "261                 주방 에바 자 나 ㅋㅋㅋ <PAD>  0.520196      0\n",
       "263        옛날 애로우 ㅋㅋㅋ <PAD> <PAD> <PAD>  0.964305      0\n",
       "271   <OOV> <PAD> <PAD> <PAD> <PAD> <PA  0.475559      1\n",
       "279     <OOV> ? <PAD> <PAD> <PAD> <PAD>  0.832197      0\n",
       "291          쿠키 크다 이다 <PAD> <PAD> <PAD>  0.997864      0\n",
       "354     <OOV> 아 <PAD> <PAD> <PAD> <PAD>  0.847346      0\n",
       "360                이지 깨다 다음 난이도 열리다 아니다  0.849140      0\n",
       "390       노인 농락 <PAD> <PAD> <PAD> <PAD>  0.961695      0\n",
       "400            쾅 쾅쾅 ! <PAD> <PAD> <PAD>  0.867951      0\n",
       "421                 카밀 개 치다 맞다 같다 <PAD>  0.999844      0\n",
       "473     <OOV> ? <PAD> <PAD> <PAD> <PAD>  0.832197      0\n",
       "552           끼 이이 이익 <PAD> <PAD> <PAD>  0.739739      0\n",
       "605               브베 이제 할아버지 딸 까지 <PAD>  0.998366      0\n",
       "647                      도 . 네 하다 넘다 들다  0.835600      0\n",
       "677        진짜 미치다 ㅋㅋㅋ <PAD> <PAD> <PAD>  0.796004      0\n",
       "683   <OOV> <OOV> <PAD> <PAD> <PAD> <PA  0.541004      0\n",
       "717            그저 쓰레기 그저 나물 <PAD> <PAD>  0.999984      0\n",
       "750   ㅇㅅㅂㅅ <PAD> <PAD> <PAD> <PAD> <PAD  0.794883      0\n",
       "817           도우 네 쏘다 <PAD> <PAD> <PAD>  0.860422      0\n",
       "853   개꿀잼 <PAD> <PAD> <PAD> <PAD> <PAD>  0.999984      0\n",
       "906    <OOV> 이다 <PAD> <PAD> <PAD> <PAD>  0.747535      0\n",
       "950                   엄마 나 빵 주다 ~ <PAD>  0.997548      0\n",
       "992                    그리고 빼 박아 욕 하므다 앙  0.999849      0\n",
       "1012   잘생기다 >.< <PAD> <PAD> <PAD> <PAD>  0.896956      0\n",
       "...                                 ...       ...    ...\n",
       "5454            탑신 병자 빙의 ㄷㄷ <PAD> <PAD>  1.000000      0\n",
       "5507                   그렇다 거 치다 일찍 오다 네  0.930564      0\n",
       "5582       <OOV> 되다 ? <PAD> <PAD> <PAD>  0.802515      0\n",
       "5585              미드 레넥나와 서 뚝배기 깨지다 아니다  0.955136      0\n",
       "5606         정신 못 차리다 <PAD> <PAD> <PAD>  0.999987      0\n",
       "5638           딱 밤 ㅋㅋ <PAD> <PAD> <PAD>  0.996095      0\n",
       "5775            뒤지다 개 로 늘리다 <PAD> <PAD>  0.995963      0\n",
       "5796    꿀 <OOV> <PAD> <PAD> <PAD> <PAD>  0.502568      0\n",
       "5797            뽀뽀 를 날리다 얼굴 <PAD> <PAD>  0.999952      0\n",
       "5842                      오다 ㅋ 질 자신 이 ?  0.531754      0\n",
       "5917          독거 노인 <OOV> ~ <PAD> <PAD>  1.000000      0\n",
       "5957          누나 나 죽다 <PAD> <PAD> <PAD>  0.733452      0\n",
       "6039         강등 용 개꿀잼 <PAD> <PAD> <PAD>  0.911109      0\n",
       "6046     추하다 ㅋㅋ <PAD> <PAD> <PAD> <PAD>  0.768656      0\n",
       "6048       <OOV> 이 없다 <PAD> <PAD> <PAD>  0.712620      0\n",
       "6065       개다 해 <PAD> <PAD> <PAD> <PAD>  0.997711      0\n",
       "6231                    똥 싸다 !! 똥 얼른 싸다  0.994512      0\n",
       "6235                      이 것 은 뎊트겠 지 ?  0.683940      0\n",
       "6238        <OOV> 형 계속 잘생기다 <PAD> <PAD>  0.999430      0\n",
       "6359         쉬 불량 ㅋㅋㅋ <PAD> <PAD> <PAD>  0.999980      0\n",
       "6375  <OOV> <PAD> <PAD> <PAD> <PAD> <PA  0.475559      1\n",
       "6459     쉬다 ~~~ <PAD> <PAD> <PAD> <PAD>  0.798233      0\n",
       "6595    재미있다 ㅋㅋ <PAD> <PAD> <PAD> <PAD>  0.754832      0\n",
       "6773  커지다 <PAD> <PAD> <PAD> <PAD> <PAD>  0.895998      0\n",
       "6786      죽다 <OOV> ㅋㅋ <PAD> <PAD> <PAD>  0.503569      0\n",
       "6862                     브베 야 브 베스트 일 관  0.921644      0\n",
       "6916            ㅈ 전 다 <PAD> <PAD> <PAD>  0.998845      0\n",
       "6928      개 웃기다 <PAD> <PAD> <PAD> <PAD>  0.989858      0\n",
       "6977              역시 밉다 절 앰 <PAD> <PAD>  0.990150      0\n",
       "7051               쵸 럭키 다 제 <PAD> <PAD>  0.996332      0\n",
       "\n",
       "[166 rows x 3 columns]"
      ]
     },
     "execution_count": 64,
     "metadata": {},
     "output_type": "execute_result"
    }
   ],
   "source": [
    "result[model_up.predict_classes(up_X_test) != up_y_test]"
   ]
  },
  {
   "cell_type": "markdown",
   "metadata": {},
   "source": [
    "# 시11111발 의 경우"
   ]
  },
  {
   "cell_type": "code",
   "execution_count": 76,
   "metadata": {
    "ExecuteTime": {
     "end_time": "2019-08-09T07:25:31.749729Z",
     "start_time": "2019-08-09T07:25:31.723742Z"
    }
   },
   "outputs": [
    {
     "name": "stdout",
     "output_type": "stream",
     "text": [
      "['시/Noun', '1111111111111111/Number', '발/Noun']\n"
     ]
    },
    {
     "data": {
      "text/plain": [
       "array([[0.2938116 , 0.71222174]], dtype=float32)"
      ]
     },
     "execution_count": 76,
     "metadata": {},
     "output_type": "execute_result"
    }
   ],
   "source": [
    "test_chat = \"시1111111111111111발\"\n",
    "test_id = text_to_index(morp.pos(test_chat, norm=True, join=True))\n",
    "print(morp.pos(test_chat, norm=True, join=True))\n",
    "sentence_size = 20\n",
    "x_padded_temp = sequence.pad_sequences([test_id],\n",
    "                                 maxlen=sentence_size,\n",
    "                                 truncating='post',\n",
    "                                 padding='post',\n",
    "                                 value=pad_id)\n",
    "model_up.predict(x_padded_temp)"
   ]
  },
  {
   "cell_type": "markdown",
   "metadata": {},
   "source": [
    "## 모델 체크포인트 저장"
   ]
  },
  {
   "cell_type": "code",
   "execution_count": 138,
   "metadata": {
    "ExecuteTime": {
     "end_time": "2019-08-09T06:43:25.753575Z",
     "start_time": "2019-08-09T06:43:25.741582Z"
    }
   },
   "outputs": [],
   "source": [
    "# model_up.save('../model/cnn_oversample.h5')"
   ]
  },
  {
   "cell_type": "markdown",
   "metadata": {},
   "source": [
    "## Downsampling"
   ]
  },
  {
   "cell_type": "code",
   "execution_count": 77,
   "metadata": {
    "ExecuteTime": {
     "end_time": "2019-08-09T07:25:34.665059Z",
     "start_time": "2019-08-09T07:25:34.640073Z"
    }
   },
   "outputs": [
    {
     "data": {
      "text/plain": [
       "(1310, 655)"
      ]
     },
     "execution_count": 77,
     "metadata": {},
     "output_type": "execute_result"
    }
   ],
   "source": [
    "down_X, down_y = RandomUnderSampler().fit_resample(x_padded, datasets.label)\n",
    "down_X_train, down_X_test, down_y_train, down_y_test = train_test_split(down_X, down_y)\n",
    "\n",
    "# 총 데이터 수 , 1 레이블 데이터 수\n",
    "len(down_y), down_y.sum()"
   ]
  },
  {
   "cell_type": "code",
   "execution_count": 109,
   "metadata": {
    "ExecuteTime": {
     "end_time": "2019-08-09T07:37:16.331637Z",
     "start_time": "2019-08-09T07:37:16.058793Z"
    }
   },
   "outputs": [],
   "source": [
    "model_down = keras.Sequential([\n",
    "    keras.layers.Embedding(vocab_size, 10),\n",
    "    keras.layers.Conv1D(32, 3, padding=\"same\", activation=tf.nn.relu),\n",
    "    keras.layers.Dropout(0.5),\n",
    "    keras.layers.Conv1D(32, 3, padding=\"same\", activation=tf.nn.relu),\n",
    "    keras.layers.GlobalMaxPool1D(),\n",
    "    keras.layers.Dropout(0.5),\n",
    "    keras.layers.Dense(2, activation=tf.nn.sigmoid)\n",
    "])"
   ]
  },
  {
   "cell_type": "code",
   "execution_count": 117,
   "metadata": {
    "ExecuteTime": {
     "end_time": "2019-08-09T07:38:36.629698Z",
     "start_time": "2019-08-09T07:38:25.223222Z"
    }
   },
   "outputs": [
    {
     "name": "stdout",
     "output_type": "stream",
     "text": [
      "Train on 982 samples, validate on 328 samples\n",
      "Epoch 1/6\n",
      "982/982 [==============================] - ETA: 53s - loss: 0.0513 - recall_15: 1.00 - ETA: 7s - loss: 0.0679 - recall_15: 0.9896 - ETA: 3s - loss: 0.0725 - recall_15: 0.984 - ETA: 2s - loss: 0.0832 - recall_15: 0.979 - ETA: 1s - loss: 0.0859 - recall_15: 0.975 - ETA: 0s - loss: 0.0833 - recall_15: 0.976 - ETA: 0s - loss: 0.0889 - recall_15: 0.974 - 3s 3ms/sample - loss: 0.0916 - recall_15: 0.9735 - val_loss: 0.8657 - val_recall_15: 0.6890\n",
      "Epoch 2/6\n",
      "982/982 [==============================] - ETA: 0s - loss: 0.0434 - recall_15: 1.000 - ETA: 0s - loss: 0.0430 - recall_15: 1.000 - ETA: 0s - loss: 0.0528 - recall_15: 0.996 - ETA: 0s - loss: 0.0542 - recall_15: 0.992 - ETA: 0s - loss: 0.0549 - recall_15: 0.990 - ETA: 0s - loss: 0.0563 - recall_15: 0.988 - ETA: 0s - loss: 0.0658 - recall_15: 0.986 - ETA: 0s - loss: 0.0625 - recall_15: 0.984 - 0s 502us/sample - loss: 0.0628 - recall_15: 0.9847 - val_loss: 0.9564 - val_recall_15: 0.6768\n",
      "Epoch 3/6\n",
      "982/982 [==============================] - ETA: 0s - loss: 0.0574 - recall_15: 0.968 - ETA: 0s - loss: 0.0571 - recall_15: 0.984 - ETA: 0s - loss: 0.0639 - recall_15: 0.984 - ETA: 0s - loss: 0.0644 - recall_15: 0.979 - ETA: 0s - loss: 0.0684 - recall_15: 0.976 - ETA: 0s - loss: 0.0603 - recall_15: 0.980 - ETA: 0s - loss: 0.0573 - recall_15: 0.983 - ETA: 0s - loss: 0.0573 - recall_15: 0.983 - 0s 497us/sample - loss: 0.0560 - recall_15: 0.9847 - val_loss: 1.0226 - val_recall_15: 0.6890\n",
      "Epoch 4/6\n",
      "982/982 [==============================] - ETA: 0s - loss: 0.0226 - recall_15: 1.000 - ETA: 0s - loss: 0.0549 - recall_15: 0.984 - ETA: 0s - loss: 0.0624 - recall_15: 0.984 - ETA: 0s - loss: 0.0565 - recall_15: 0.986 - ETA: 0s - loss: 0.0537 - recall_15: 0.987 - ETA: 0s - loss: 0.0569 - recall_15: 0.985 - ETA: 0s - loss: 0.0542 - recall_15: 0.984 - ETA: 0s - loss: 0.0596 - recall_15: 0.982 - 0s 476us/sample - loss: 0.0589 - recall_15: 0.9827 - val_loss: 1.0798 - val_recall_15: 0.6829\n",
      "Epoch 5/6\n",
      "982/982 [==============================] - ETA: 0s - loss: 0.0248 - recall_15: 1.000 - ETA: 0s - loss: 0.0355 - recall_15: 0.989 - ETA: 0s - loss: 0.0395 - recall_15: 0.990 - ETA: 0s - loss: 0.0612 - recall_15: 0.983 - ETA: 0s - loss: 0.0621 - recall_15: 0.982 - ETA: 0s - loss: 0.0583 - recall_15: 0.984 - ETA: 0s - loss: 0.0550 - recall_15: 0.985 - 0s 431us/sample - loss: 0.0544 - recall_15: 0.9857 - val_loss: 1.2303 - val_recall_15: 0.6768\n",
      "Epoch 6/6\n",
      "982/982 [==============================] - ETA: 0s - loss: 0.0227 - recall_15: 1.000 - ETA: 0s - loss: 0.0223 - recall_15: 1.000 - ETA: 0s - loss: 0.0213 - recall_15: 1.000 - ETA: 0s - loss: 0.0213 - recall_15: 1.000 - ETA: 0s - loss: 0.0411 - recall_15: 0.993 - ETA: 0s - loss: 0.0418 - recall_15: 0.992 - ETA: 0s - loss: 0.0416 - recall_15: 0.991 - 0s 446us/sample - loss: 0.0402 - recall_15: 0.9919 - val_loss: 1.2219 - val_recall_15: 0.6829\n",
      "328/328 [==============================] - ETA: 0s - loss: 1.2335 - recall_15: 0.718 - 0s 137us/sample - loss: 1.2219 - recall_15: 0.6829\n",
      "Test Recall: 0.68292683\n"
     ]
    },
    {
     "data": {
      "image/png": "[encoded data removed]",
      "text/plain": [
       "<Figure size 432x360 with 1 Axes>"
      ]
     },
     "metadata": {
      "needs_background": "light"
     },
     "output_type": "display_data"
    }
   ],
   "source": [
    "model_down.compile(optimizer='adam', \n",
    "              loss='binary_crossentropy',\n",
    "              metrics=[tf.keras.metrics.Recall()])\n",
    "\n",
    "history = model_down.fit(down_X_train,\n",
    "          pd.get_dummies(down_y_train),\n",
    "          epochs=6,\n",
    "          validation_data=(down_X_test, pd.get_dummies(down_y_test))\n",
    "         )\n",
    "plot_loss(history)\n",
    "test_loss, test_acc = model_down.evaluate(down_X_test, pd.get_dummies(down_y_test))\n",
    "print('Test Recall:', test_acc)"
   ]
  },
  {
   "cell_type": "code",
   "execution_count": 120,
   "metadata": {
    "ExecuteTime": {
     "end_time": "2019-08-09T07:38:46.563013Z",
     "start_time": "2019-08-09T07:38:46.490055Z"
    }
   },
   "outputs": [
    {
     "name": "stdout",
     "output_type": "stream",
     "text": [
      "전체채팅수328, 유해채팅수162\n"
     ]
    }
   ],
   "source": [
    "result = pd.DataFrame(np.apply_along_axis(index_to_text, 1, down_X_test))\n",
    "result['predict'] = model_down.predict_proba(down_X_test)[:,1] # 유해하다고 판별할 확률\n",
    "print('전체채팅수{}, 유해채팅수{}'.format(len(result),len(result[result.predict>0.5])))\n",
    "result[result.predict>0.5].head(10)\n",
    "result['label'] = down_y_test"
   ]
  },
  {
   "cell_type": "code",
   "execution_count": 121,
   "metadata": {
    "ExecuteTime": {
     "end_time": "2019-08-09T07:38:46.725920Z",
     "start_time": "2019-08-09T07:38:46.639969Z"
    }
   },
   "outputs": [
    {
     "data": {
      "text/html": [
       "<div>\n",
       "<style scoped>\n",
       "    .dataframe tbody tr th:only-of-type {\n",
       "        vertical-align: middle;\n",
       "    }\n",
       "\n",
       "    .dataframe tbody tr th {\n",
       "        vertical-align: top;\n",
       "    }\n",
       "\n",
       "    .dataframe thead th {\n",
       "        text-align: right;\n",
       "    }\n",
       "</style>\n",
       "<table border=\"1\" class=\"dataframe\">\n",
       "  <thead>\n",
       "    <tr style=\"text-align: right;\">\n",
       "      <th></th>\n",
       "      <th>0</th>\n",
       "      <th>predict</th>\n",
       "      <th>label</th>\n",
       "    </tr>\n",
       "  </thead>\n",
       "  <tbody>\n",
       "    <tr>\n",
       "      <th>2</th>\n",
       "      <td>뿌직 &lt;PAD&gt; &lt;PAD&gt; &lt;PAD&gt; &lt;PAD&gt; &lt;P</td>\n",
       "      <td>0.212086</td>\n",
       "      <td>1</td>\n",
       "    </tr>\n",
       "    <tr>\n",
       "      <th>5</th>\n",
       "      <td>슼 크랭크 vs 삼 개다 엠비션</td>\n",
       "      <td>0.999515</td>\n",
       "      <td>0</td>\n",
       "    </tr>\n",
       "    <tr>\n",
       "      <th>13</th>\n",
       "      <td>승 딸아 .. &lt;PAD&gt; &lt;PAD&gt; &lt;PAD&gt;</td>\n",
       "      <td>0.009215</td>\n",
       "      <td>1</td>\n",
       "    </tr>\n",
       "    <tr>\n",
       "      <th>14</th>\n",
       "      <td>개꿀 &lt;PAD&gt; &lt;PAD&gt; &lt;PAD&gt; &lt;PAD&gt; &lt;P</td>\n",
       "      <td>0.083833</td>\n",
       "      <td>1</td>\n",
       "    </tr>\n",
       "    <tr>\n",
       "      <th>16</th>\n",
       "      <td>오늘 부터 세다 두다 피 만</td>\n",
       "      <td>0.904162</td>\n",
       "      <td>0</td>\n",
       "    </tr>\n",
       "    <tr>\n",
       "      <th>22</th>\n",
       "      <td>싸다 가능 &lt;PAD&gt; &lt;PAD&gt; &lt;PAD&gt; &lt;PAD&gt;</td>\n",
       "      <td>0.071749</td>\n",
       "      <td>1</td>\n",
       "    </tr>\n",
       "    <tr>\n",
       "      <th>23</th>\n",
       "      <td>돈 넘다 많다 &lt;PAD&gt; &lt;PAD&gt; &lt;PAD&gt;</td>\n",
       "      <td>0.999284</td>\n",
       "      <td>0</td>\n",
       "    </tr>\n",
       "    <tr>\n",
       "      <th>27</th>\n",
       "      <td>편 - 안 &lt;PAD&gt; &lt;PAD&gt; &lt;PAD&gt;</td>\n",
       "      <td>0.974475</td>\n",
       "      <td>0</td>\n",
       "    </tr>\n",
       "    <tr>\n",
       "      <th>30</th>\n",
       "      <td>ㅗㅜㅑ &lt;PAD&gt; &lt;PAD&gt; &lt;PAD&gt; &lt;PAD&gt; &lt;</td>\n",
       "      <td>0.998355</td>\n",
       "      <td>0</td>\n",
       "    </tr>\n",
       "    <tr>\n",
       "      <th>33</th>\n",
       "      <td>브베 는 &lt;OOV&gt; 라서 어머니 설거지</td>\n",
       "      <td>0.015965</td>\n",
       "      <td>1</td>\n",
       "    </tr>\n",
       "    <tr>\n",
       "      <th>38</th>\n",
       "      <td>이 이병 &lt;PAD&gt; &lt;PAD&gt; &lt;PAD&gt; &lt;PAD&gt;</td>\n",
       "      <td>0.071524</td>\n",
       "      <td>1</td>\n",
       "    </tr>\n",
       "    <tr>\n",
       "      <th>43</th>\n",
       "      <td>염병 ? &lt;PAD&gt; &lt;PAD&gt; &lt;PAD&gt; &lt;PAD&gt;</td>\n",
       "      <td>0.424684</td>\n",
       "      <td>1</td>\n",
       "    </tr>\n",
       "    <tr>\n",
       "      <th>47</th>\n",
       "      <td>헬로 &lt;PAD&gt; &lt;PAD&gt; &lt;PAD&gt; &lt;PAD&gt; &lt;P</td>\n",
       "      <td>0.581538</td>\n",
       "      <td>0</td>\n",
       "    </tr>\n",
       "    <tr>\n",
       "      <th>50</th>\n",
       "      <td>개인 행동 ㄷㄷ &lt;PAD&gt; &lt;PAD&gt; &lt;PAD&gt;</td>\n",
       "      <td>0.972586</td>\n",
       "      <td>0</td>\n",
       "    </tr>\n",
       "    <tr>\n",
       "      <th>51</th>\n",
       "      <td>15분 서 렌 치자 .. &lt;PAD&gt;</td>\n",
       "      <td>0.980595</td>\n",
       "      <td>0</td>\n",
       "    </tr>\n",
       "    <tr>\n",
       "      <th>53</th>\n",
       "      <td>님 의 임시 퇴장 사유 :</td>\n",
       "      <td>0.950111</td>\n",
       "      <td>0</td>\n",
       "    </tr>\n",
       "    <tr>\n",
       "      <th>55</th>\n",
       "      <td>ㅁㅊㅋㅋㅋ &lt;PAD&gt; &lt;PAD&gt; &lt;PAD&gt; &lt;PAD&gt;</td>\n",
       "      <td>0.125077</td>\n",
       "      <td>1</td>\n",
       "    </tr>\n",
       "    <tr>\n",
       "      <th>61</th>\n",
       "      <td>ㅇㅅㅂㅅ ! ㅇㅅㅂㅅ ! ㅇㅅㅂㅅ !</td>\n",
       "      <td>0.442569</td>\n",
       "      <td>1</td>\n",
       "    </tr>\n",
       "    <tr>\n",
       "      <th>71</th>\n",
       "      <td>꺼지샤 &lt;PAD&gt; &lt;PAD&gt; &lt;PAD&gt; &lt;PAD&gt; &lt;</td>\n",
       "      <td>0.131786</td>\n",
       "      <td>1</td>\n",
       "    </tr>\n",
       "    <tr>\n",
       "      <th>73</th>\n",
       "      <td>박아 &lt;PAD&gt; &lt;PAD&gt; &lt;PAD&gt; &lt;PAD&gt; &lt;P</td>\n",
       "      <td>0.065843</td>\n",
       "      <td>1</td>\n",
       "    </tr>\n",
       "    <tr>\n",
       "      <th>76</th>\n",
       "      <td>브베 형 어꿍 이 빼박 이</td>\n",
       "      <td>0.990272</td>\n",
       "      <td>0</td>\n",
       "    </tr>\n",
       "    <tr>\n",
       "      <th>79</th>\n",
       "      <td>똥물 써다 머 &lt;PAD&gt; &lt;PAD&gt; &lt;PAD&gt;</td>\n",
       "      <td>0.009874</td>\n",
       "      <td>1</td>\n",
       "    </tr>\n",
       "    <tr>\n",
       "      <th>81</th>\n",
       "      <td>감 ~ 전 ~ 사 &lt;PAD&gt;</td>\n",
       "      <td>0.142203</td>\n",
       "      <td>1</td>\n",
       "    </tr>\n",
       "    <tr>\n",
       "      <th>82</th>\n",
       "      <td>엄마 나 빵 주다 ~ &lt;PAD&gt;</td>\n",
       "      <td>0.999867</td>\n",
       "      <td>0</td>\n",
       "    </tr>\n",
       "    <tr>\n",
       "      <th>85</th>\n",
       "      <td>94 양상문 이 면 프야매 임</td>\n",
       "      <td>0.134777</td>\n",
       "      <td>1</td>\n",
       "    </tr>\n",
       "    <tr>\n",
       "      <th>92</th>\n",
       "      <td>ㅋㅋㅋㅁㅊ &lt;PAD&gt; &lt;PAD&gt; &lt;PAD&gt; &lt;PAD&gt;</td>\n",
       "      <td>0.210544</td>\n",
       "      <td>1</td>\n",
       "    </tr>\n",
       "    <tr>\n",
       "      <th>93</th>\n",
       "      <td>ㄴㅇㅂ 늘다 불가능하다 ?? &lt;PAD&gt; &lt;PAD&gt;</td>\n",
       "      <td>0.129242</td>\n",
       "      <td>1</td>\n",
       "    </tr>\n",
       "    <tr>\n",
       "      <th>94</th>\n",
       "      <td>망하다 ㅓㅓ &lt;PAD&gt; &lt;PAD&gt; &lt;PAD&gt; &lt;PAD</td>\n",
       "      <td>0.908634</td>\n",
       "      <td>0</td>\n",
       "    </tr>\n",
       "    <tr>\n",
       "      <th>96</th>\n",
       "      <td>어허 브볘북어띡 &lt;PAD&gt; &lt;PAD&gt; &lt;PAD&gt; &lt;P</td>\n",
       "      <td>0.051903</td>\n",
       "      <td>1</td>\n",
       "    </tr>\n",
       "    <tr>\n",
       "      <th>98</th>\n",
       "      <td>http://bitly.kr/41P6 구독 해주다 &lt;</td>\n",
       "      <td>0.948474</td>\n",
       "      <td>0</td>\n",
       "    </tr>\n",
       "    <tr>\n",
       "      <th>...</th>\n",
       "      <td>...</td>\n",
       "      <td>...</td>\n",
       "      <td>...</td>\n",
       "    </tr>\n",
       "    <tr>\n",
       "      <th>243</th>\n",
       "      <td>이 거 근데 쌍 타워 있다</td>\n",
       "      <td>0.821789</td>\n",
       "      <td>0</td>\n",
       "    </tr>\n",
       "    <tr>\n",
       "      <th>247</th>\n",
       "      <td>ㄴㄴ 지하 에 브베 재산 있다</td>\n",
       "      <td>0.968031</td>\n",
       "      <td>0</td>\n",
       "    </tr>\n",
       "    <tr>\n",
       "      <th>250</th>\n",
       "      <td>36 외롭다 주먹 이민우 &lt;PAD&gt; &lt;PAD&gt;</td>\n",
       "      <td>0.586904</td>\n",
       "      <td>0</td>\n",
       "    </tr>\n",
       "    <tr>\n",
       "      <th>251</th>\n",
       "      <td>정말 기본 뼈대 고 , 이렇게</td>\n",
       "      <td>0.096416</td>\n",
       "      <td>1</td>\n",
       "    </tr>\n",
       "    <tr>\n",
       "      <th>256</th>\n",
       "      <td>패 고 잇다 &lt;PAD&gt; &lt;PAD&gt; &lt;PAD&gt;</td>\n",
       "      <td>0.008304</td>\n",
       "      <td>1</td>\n",
       "    </tr>\n",
       "    <tr>\n",
       "      <th>259</th>\n",
       "      <td>웹툰 에 ㄴㄷㅆ 치다 사람 들</td>\n",
       "      <td>1.000000</td>\n",
       "      <td>0</td>\n",
       "    </tr>\n",
       "    <tr>\n",
       "      <th>264</th>\n",
       "      <td>독거 노인 이루다 호 ㅋㅋ &lt;PAD&gt;</td>\n",
       "      <td>0.037595</td>\n",
       "      <td>1</td>\n",
       "    </tr>\n",
       "    <tr>\n",
       "      <th>265</th>\n",
       "      <td>최저 시급 이 면 닥치고 함</td>\n",
       "      <td>0.086588</td>\n",
       "      <td>1</td>\n",
       "    </tr>\n",
       "    <tr>\n",
       "      <th>267</th>\n",
       "      <td>눈 아프다 ㅋㅋㅋ &lt;PAD&gt; &lt;PAD&gt; &lt;PAD&gt;</td>\n",
       "      <td>0.914916</td>\n",
       "      <td>0</td>\n",
       "    </tr>\n",
       "    <tr>\n",
       "      <th>269</th>\n",
       "      <td>싸다 쌋어 &lt;PAD&gt; &lt;PAD&gt; &lt;PAD&gt; &lt;PAD&gt;</td>\n",
       "      <td>0.062914</td>\n",
       "      <td>1</td>\n",
       "    </tr>\n",
       "    <tr>\n",
       "      <th>281</th>\n",
       "      <td>카이 사역 관광 &lt;PAD&gt; &lt;PAD&gt; &lt;PAD&gt;</td>\n",
       "      <td>0.696538</td>\n",
       "      <td>0</td>\n",
       "    </tr>\n",
       "    <tr>\n",
       "      <th>283</th>\n",
       "      <td>이 거 개 웃기다 ㅋㅋㅋ &lt;PAD&gt;</td>\n",
       "      <td>0.033197</td>\n",
       "      <td>1</td>\n",
       "    </tr>\n",
       "    <tr>\n",
       "      <th>284</th>\n",
       "      <td>찐특 &lt;PAD&gt; &lt;PAD&gt; &lt;PAD&gt; &lt;PAD&gt; &lt;P</td>\n",
       "      <td>0.251378</td>\n",
       "      <td>1</td>\n",
       "    </tr>\n",
       "    <tr>\n",
       "      <th>285</th>\n",
       "      <td>gay 득 &lt;PAD&gt; &lt;PAD&gt; &lt;PAD&gt; &lt;PAD&gt;</td>\n",
       "      <td>0.211242</td>\n",
       "      <td>1</td>\n",
       "    </tr>\n",
       "    <tr>\n",
       "      <th>289</th>\n",
       "      <td>어 ㅡㅡㅡ 허다 &lt;PAD&gt; &lt;PAD&gt; &lt;PAD&gt;</td>\n",
       "      <td>0.999145</td>\n",
       "      <td>0</td>\n",
       "    </tr>\n",
       "    <tr>\n",
       "      <th>290</th>\n",
       "      <td>디씨 가 제일 재미있다 ㅋㅋㅋ &lt;PAD&gt;</td>\n",
       "      <td>0.112793</td>\n",
       "      <td>1</td>\n",
       "    </tr>\n",
       "    <tr>\n",
       "      <th>291</th>\n",
       "      <td>패 륜 매 치 &lt;PAD&gt; &lt;PAD&gt;</td>\n",
       "      <td>0.023846</td>\n",
       "      <td>1</td>\n",
       "    </tr>\n",
       "    <tr>\n",
       "      <th>292</th>\n",
       "      <td>이 것 은 오다 &lt;PAD&gt; &lt;PAD&gt;</td>\n",
       "      <td>0.002834</td>\n",
       "      <td>1</td>\n",
       "    </tr>\n",
       "    <tr>\n",
       "      <th>298</th>\n",
       "      <td>위치 보다 ㅋㅋ &lt;PAD&gt; &lt;PAD&gt; &lt;PAD&gt;</td>\n",
       "      <td>0.005373</td>\n",
       "      <td>1</td>\n",
       "    </tr>\n",
       "    <tr>\n",
       "      <th>303</th>\n",
       "      <td>퍄 혼자 게임 하 네 ㅋㅋ</td>\n",
       "      <td>0.900197</td>\n",
       "      <td>0</td>\n",
       "    </tr>\n",
       "    <tr>\n",
       "      <th>304</th>\n",
       "      <td>작 업다 인지 는 본인 만</td>\n",
       "      <td>0.027317</td>\n",
       "      <td>1</td>\n",
       "    </tr>\n",
       "    <tr>\n",
       "      <th>306</th>\n",
       "      <td>뚜뚜 리얼 킬 .. &lt;PAD&gt; &lt;PAD&gt;</td>\n",
       "      <td>0.004737</td>\n",
       "      <td>1</td>\n",
       "    </tr>\n",
       "    <tr>\n",
       "      <th>308</th>\n",
       "      <td>싹둑 이 이쁘다 생기다 어떻다 만나다</td>\n",
       "      <td>0.684661</td>\n",
       "      <td>0</td>\n",
       "    </tr>\n",
       "    <tr>\n",
       "      <th>309</th>\n",
       "      <td>풍드 코어 난이도 &lt;PAD&gt; &lt;PAD&gt; &lt;PAD&gt;</td>\n",
       "      <td>0.778414</td>\n",
       "      <td>0</td>\n",
       "    </tr>\n",
       "    <tr>\n",
       "      <th>314</th>\n",
       "      <td>입다 올라가다 어떻 게 든 가리다</td>\n",
       "      <td>0.992561</td>\n",
       "      <td>0</td>\n",
       "    </tr>\n",
       "    <tr>\n",
       "      <th>318</th>\n",
       "      <td>무녀 : 한번 보다 주다 &lt;PAD&gt;</td>\n",
       "      <td>0.937366</td>\n",
       "      <td>0</td>\n",
       "    </tr>\n",
       "    <tr>\n",
       "      <th>320</th>\n",
       "      <td>있다 엇 늘다 없다 ~ &lt;PAD&gt;</td>\n",
       "      <td>0.996731</td>\n",
       "      <td>0</td>\n",
       "    </tr>\n",
       "    <tr>\n",
       "      <th>321</th>\n",
       "      <td>감전사 ㅋㅋㅋ &lt;PAD&gt; &lt;PAD&gt; &lt;PAD&gt; &lt;PA</td>\n",
       "      <td>0.020823</td>\n",
       "      <td>1</td>\n",
       "    </tr>\n",
       "    <tr>\n",
       "      <th>322</th>\n",
       "      <td>랄부 만 크다 쓸다 없다 &lt;PAD&gt;</td>\n",
       "      <td>0.109590</td>\n",
       "      <td>1</td>\n",
       "    </tr>\n",
       "    <tr>\n",
       "      <th>325</th>\n",
       "      <td>그브 멍청이 니 빼다 &lt;PAD&gt; &lt;PAD&gt;</td>\n",
       "      <td>0.383058</td>\n",
       "      <td>1</td>\n",
       "    </tr>\n",
       "  </tbody>\n",
       "</table>\n",
       "<p>104 rows × 3 columns</p>\n",
       "</div>"
      ],
      "text/plain": [
       "                                 0   predict  label\n",
       "2    뿌직 <PAD> <PAD> <PAD> <PAD> <P  0.212086      1\n",
       "5                슼 크랭크 vs 삼 개다 엠비션  0.999515      0\n",
       "13       승 딸아 .. <PAD> <PAD> <PAD>  0.009215      1\n",
       "14   개꿀 <PAD> <PAD> <PAD> <PAD> <P  0.083833      1\n",
       "16                 오늘 부터 세다 두다 피 만  0.904162      0\n",
       "22   싸다 가능 <PAD> <PAD> <PAD> <PAD>  0.071749      1\n",
       "23       돈 넘다 많다 <PAD> <PAD> <PAD>  0.999284      0\n",
       "27         편 - 안 <PAD> <PAD> <PAD>  0.974475      0\n",
       "30   ㅗㅜㅑ <PAD> <PAD> <PAD> <PAD> <  0.998355      0\n",
       "33           브베 는 <OOV> 라서 어머니 설거지  0.015965      1\n",
       "38    이 이병 <PAD> <PAD> <PAD> <PAD>  0.071524      1\n",
       "43    염병 ? <PAD> <PAD> <PAD> <PAD>  0.424684      1\n",
       "47   헬로 <PAD> <PAD> <PAD> <PAD> <P  0.581538      0\n",
       "50      개인 행동 ㄷㄷ <PAD> <PAD> <PAD>  0.972586      0\n",
       "51             15분 서 렌 치자 .. <PAD>  0.980595      0\n",
       "53                  님 의 임시 퇴장 사유 :  0.950111      0\n",
       "55   ㅁㅊㅋㅋㅋ <PAD> <PAD> <PAD> <PAD>  0.125077      1\n",
       "61            ㅇㅅㅂㅅ ! ㅇㅅㅂㅅ ! ㅇㅅㅂㅅ !  0.442569      1\n",
       "71   꺼지샤 <PAD> <PAD> <PAD> <PAD> <  0.131786      1\n",
       "73   박아 <PAD> <PAD> <PAD> <PAD> <P  0.065843      1\n",
       "76                  브베 형 어꿍 이 빼박 이  0.990272      0\n",
       "79       똥물 써다 머 <PAD> <PAD> <PAD>  0.009874      1\n",
       "81                 감 ~ 전 ~ 사 <PAD>  0.142203      1\n",
       "82               엄마 나 빵 주다 ~ <PAD>  0.999867      0\n",
       "85                94 양상문 이 면 프야매 임  0.134777      1\n",
       "92   ㅋㅋㅋㅁㅊ <PAD> <PAD> <PAD> <PAD>  0.210544      1\n",
       "93     ㄴㅇㅂ 늘다 불가능하다 ?? <PAD> <PAD>  0.129242      1\n",
       "94   망하다 ㅓㅓ <PAD> <PAD> <PAD> <PAD  0.908634      0\n",
       "96   어허 브볘북어띡 <PAD> <PAD> <PAD> <P  0.051903      1\n",
       "98   http://bitly.kr/41P6 구독 해주다 <  0.948474      0\n",
       "..                             ...       ...    ...\n",
       "243                 이 거 근데 쌍 타워 있다  0.821789      0\n",
       "247               ㄴㄴ 지하 에 브베 재산 있다  0.968031      0\n",
       "250      36 외롭다 주먹 이민우 <PAD> <PAD>  0.586904      0\n",
       "251               정말 기본 뼈대 고 , 이렇게  0.096416      1\n",
       "256       패 고 잇다 <PAD> <PAD> <PAD>  0.008304      1\n",
       "259               웹툰 에 ㄴㄷㅆ 치다 사람 들  1.000000      0\n",
       "264           독거 노인 이루다 호 ㅋㅋ <PAD>  0.037595      1\n",
       "265                최저 시급 이 면 닥치고 함  0.086588      1\n",
       "267    눈 아프다 ㅋㅋㅋ <PAD> <PAD> <PAD>  0.914916      0\n",
       "269  싸다 쌋어 <PAD> <PAD> <PAD> <PAD>  0.062914      1\n",
       "281     카이 사역 관광 <PAD> <PAD> <PAD>  0.696538      0\n",
       "283            이 거 개 웃기다 ㅋㅋㅋ <PAD>  0.033197      1\n",
       "284  찐특 <PAD> <PAD> <PAD> <PAD> <P  0.251378      1\n",
       "285  gay 득 <PAD> <PAD> <PAD> <PAD>  0.211242      1\n",
       "289     어 ㅡㅡㅡ 허다 <PAD> <PAD> <PAD>  0.999145      0\n",
       "290         디씨 가 제일 재미있다 ㅋㅋㅋ <PAD>  0.112793      1\n",
       "291            패 륜 매 치 <PAD> <PAD>  0.023846      1\n",
       "292           이 것 은 오다 <PAD> <PAD>  0.002834      1\n",
       "298     위치 보다 ㅋㅋ <PAD> <PAD> <PAD>  0.005373      1\n",
       "303                 퍄 혼자 게임 하 네 ㅋㅋ  0.900197      0\n",
       "304                 작 업다 인지 는 본인 만  0.027317      1\n",
       "306         뚜뚜 리얼 킬 .. <PAD> <PAD>  0.004737      1\n",
       "308           싹둑 이 이쁘다 생기다 어떻다 만나다  0.684661      0\n",
       "309    풍드 코어 난이도 <PAD> <PAD> <PAD>  0.778414      0\n",
       "314             입다 올라가다 어떻 게 든 가리다  0.992561      0\n",
       "318            무녀 : 한번 보다 주다 <PAD>  0.937366      0\n",
       "320             있다 엇 늘다 없다 ~ <PAD>  0.996731      0\n",
       "321  감전사 ㅋㅋㅋ <PAD> <PAD> <PAD> <PA  0.020823      1\n",
       "322            랄부 만 크다 쓸다 없다 <PAD>  0.109590      1\n",
       "325        그브 멍청이 니 빼다 <PAD> <PAD>  0.383058      1\n",
       "\n",
       "[104 rows x 3 columns]"
      ]
     },
     "execution_count": 121,
     "metadata": {},
     "output_type": "execute_result"
    }
   ],
   "source": [
    "# 예측 실패 채팅\n",
    "result[model_down.predict_classes(down_X_test) != down_y_test]"
   ]
  },
  {
   "cell_type": "code",
   "execution_count": 149,
   "metadata": {
    "ExecuteTime": {
     "end_time": "2019-08-09T07:43:59.195878Z",
     "start_time": "2019-08-09T07:43:59.151908Z"
    }
   },
   "outputs": [
    {
     "name": "stdout",
     "output_type": "stream",
     "text": [
      "['그브', '멍청이', '니', '빼다', '시', '1', '발', '좆', '같다']\n"
     ]
    },
    {
     "data": {
      "text/plain": [
       "array([[0.5791072 , 0.42005292]], dtype=float32)"
      ]
     },
     "execution_count": 149,
     "metadata": {},
     "output_type": "execute_result"
    }
   ],
   "source": [
    "test_chat = \"그브 멍청이 니 빼다 시1발 좆같네\"\n",
    "test_id = text_to_index(morp.morphs(test_chat, norm=True,stem=True))\n",
    "\n",
    "sentence_size = 10\n",
    "x_padded_temp = sequence.pad_sequences([test_id],\n",
    "                                 maxlen=sentence_size,\n",
    "                                 truncating='post',\n",
    "                                 padding='post',\n",
    "                                 value=pad_id)\n",
    "print(morp.morphs(test_chat, norm=True,stem=True)[:10])\n",
    "model_down.predict(x_padded_temp)"
   ]
  },
  {
   "cell_type": "code",
   "execution_count": null,
   "metadata": {
    "ExecuteTime": {
     "end_time": "2019-08-09T06:50:32.820243Z",
     "start_time": "2019-08-09T06:50:32.801256Z"
    }
   },
   "outputs": [],
   "source": []
  },
  {
   "cell_type": "markdown",
   "metadata": {},
   "source": [
    "# TODO\n",
    "- 형태소별 Tokenize 말고 한글 자모별 Tokenize 하여 실험해보기\n",
    "- CNN layer / Parameter 변경시켜보기\n",
    "- 예측 결과 검정하기\n",
    "    - Attention 이용"
   ]
  },
  {
   "cell_type": "code",
   "execution_count": null,
   "metadata": {},
   "outputs": [],
   "source": []
  }
 ],
 "metadata": {
  "kernelspec": {
   "display_name": "Python 3",
   "language": "python",
   "name": "python3"
  },
  "language_info": {
   "codemirror_mode": {
    "name": "ipython",
    "version": 3
   },
   "file_extension": ".py",
   "mimetype": "text/x-python",
   "name": "python",
   "nbconvert_exporter": "python",
   "pygments_lexer": "ipython3",
   "version": "3.7.3"
  }
 },
 "nbformat": 4,
 "nbformat_minor": 2
}
