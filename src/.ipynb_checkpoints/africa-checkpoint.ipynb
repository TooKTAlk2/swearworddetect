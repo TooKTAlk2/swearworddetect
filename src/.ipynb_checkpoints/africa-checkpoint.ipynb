{
 "cells": [
  {
   "cell_type": "code",
   "execution_count": 1,
   "metadata": {
    "ExecuteTime": {
     "end_time": "2019-07-30T15:05:27.049063Z",
     "start_time": "2019-07-30T15:05:25.696840Z"
    }
   },
   "outputs": [
    {
     "name": "stdout",
     "output_type": "stream",
     "text": [
      "Chan 2019-07-31 \n",
      "\n",
      "CPython 3.7.3\n",
      "IPython 7.6.1\n",
      "\n",
      "bs4 4.7.1\n",
      "requests 2.22.0\n",
      "xml unknown\n"
     ]
    }
   ],
   "source": [
    "%load_ext watermark\n",
    "%watermark -a Chan -d -v -p bs4,requests,xml"
   ]
  },
  {
   "cell_type": "code",
   "execution_count": 2,
   "metadata": {
    "ExecuteTime": {
     "end_time": "2019-07-30T15:05:27.713682Z",
     "start_time": "2019-07-30T15:05:27.076050Z"
    }
   },
   "outputs": [],
   "source": [
    "from scrapAfrica import get_chat"
   ]
  },
  {
   "cell_type": "code",
   "execution_count": 3,
   "metadata": {
    "ExecuteTime": {
     "end_time": "2019-07-30T15:05:27.859599Z",
     "start_time": "2019-07-30T15:05:27.722678Z"
    }
   },
   "outputs": [],
   "source": [
    "??get_chat"
   ]
  },
  {
   "cell_type": "code",
   "execution_count": 4,
   "metadata": {
    "ExecuteTime": {
     "end_time": "2019-07-30T15:05:28.898004Z",
     "start_time": "2019-07-30T15:05:27.879589Z"
    }
   },
   "outputs": [],
   "source": [
    "chatdata = get_chat('http://vod.afreecatv.com/PLAYER/STATION/46201530')"
   ]
  },
  {
   "cell_type": "code",
   "execution_count": 5,
   "metadata": {
    "ExecuteTime": {
     "end_time": "2019-07-30T15:05:28.938981Z",
     "start_time": "2019-07-30T15:05:28.906000Z"
    }
   },
   "outputs": [
    {
     "data": {
      "text/plain": [
       "array([['ㅂㅇㄹ', 'coupling', '23.434'],\n",
       "       ['보겸이 왔냐 ?', 'kof054', '31.258'],\n",
       "       ['ㅂㅇㄹ', 'ghtmd486', '39.300'],\n",
       "       ...,\n",
       "       ['ㅇㅋ', 'gjrnr100', '1842.989'],\n",
       "       ['두둥탁', 'vbzkxk', '1842.989'],\n",
       "       ['ㄴㅇㅂㅈ', 'sky962455(2)', '1843.259']], dtype='<U129')"
      ]
     },
     "execution_count": 5,
     "metadata": {},
     "output_type": "execute_result"
    }
   ],
   "source": [
    "chatdata"
   ]
  },
  {
   "cell_type": "markdown",
   "metadata": {},
   "source": [
    "# db"
   ]
  },
  {
   "cell_type": "code",
   "execution_count": 6,
   "metadata": {
    "ExecuteTime": {
     "end_time": "2019-07-30T15:05:28.967963Z",
     "start_time": "2019-07-30T15:05:28.945975Z"
    }
   },
   "outputs": [],
   "source": [
    "import sqlite3"
   ]
  },
  {
   "cell_type": "code",
   "execution_count": 95,
   "metadata": {
    "ExecuteTime": {
     "end_time": "2019-07-30T15:45:25.439050Z",
     "start_time": "2019-07-30T15:45:25.432051Z"
    }
   },
   "outputs": [],
   "source": [
    "conn = sqlite3.connect('./africa.db')\n",
    "cur = conn.cursor()"
   ]
  },
  {
   "cell_type": "code",
   "execution_count": 94,
   "metadata": {
    "ExecuteTime": {
     "end_time": "2019-07-30T15:45:21.353392Z",
     "start_time": "2019-07-30T15:45:21.335402Z"
    }
   },
   "outputs": [
    {
     "ename": "OperationalError",
     "evalue": "table url already exists",
     "output_type": "error",
     "traceback": [
      "\u001b[1;31m---------------------------------------------------------------------------\u001b[0m",
      "\u001b[1;31mOperationalError\u001b[0m                          Traceback (most recent call last)",
      "\u001b[1;32m<ipython-input-94-10be328f4d7f>\u001b[0m in \u001b[0;36m<module>\u001b[1;34m\u001b[0m\n\u001b[0;32m     44\u001b[0m \u001b[0mname\u001b[0m \u001b[0mTEXT\u001b[0m \u001b[0mNOT\u001b[0m \u001b[0mNULL\u001b[0m\u001b[1;33m\u001b[0m\u001b[1;33m\u001b[0m\u001b[0m\n\u001b[0;32m     45\u001b[0m );\n\u001b[1;32m---> 46\u001b[1;33m \"\"\")\n\u001b[0m",
      "\u001b[1;31mOperationalError\u001b[0m: table url already exists"
     ]
    }
   ],
   "source": [
    "cur.executescript(\"\"\"\n",
    "CREATE TABLE url(\n",
    "id INTEGER PRIMARY KEY AUTOINCREMENT NOT NULL,\n",
    "netloc_id INTEGER NOT NULL,\n",
    "path TEXT NOT NULL,\n",
    "param TEXT,\n",
    "bj_id INTEGER NOT NULL,\n",
    "seen BOOLEAN DEFAULT FALSE NOT NULL,\n",
    "date TIMESTAMP DEFAULT CURRENT_TIMESTAMP NOT NULL\n",
    ");\n",
    "\n",
    "CREATE TABLE netloc(\n",
    "id INTEGER PRIMARY KEY AUTOINCREMENT NOT NULL,\n",
    "netloc TEXT NOT NULL,\n",
    "domain TEXT NOT NULL\n",
    ");\n",
    "\n",
    "CREATE TABLE chat(\n",
    "id INTEGER PRIMARY KEY AUTOINCREMENT NOT NULL,\n",
    "content TEXT NOT NULL,\n",
    "writer_id INTEGER  NOT NULL,\n",
    "w_time TEXT NOT NULL, \n",
    "url_id INTEGER NOT NULL\n",
    ");\n",
    "\n",
    "\n",
    "CREATE TABLE jamak(\n",
    "id INTEGER PRIMARY KEY AUTOINCREMENT NOT NULL,\n",
    "content TEXT NOT NULL,\n",
    "j_time TEXT NOT NULL,\n",
    "url_id INTEGER NOT NULL\n",
    ");\n",
    "\n",
    "\n",
    "\n",
    "CREATE TABLE bj(\n",
    "id INTEGER PRIMARY KEY AUTOINCREMENT NOT NULL,\n",
    "name TEXT NOT NULL\n",
    ");\n",
    "\n",
    "\n",
    "CREATE TABLE writer(\n",
    "id INTEGER PRIMARY KEY AUTOINCREMENT NOT NULL,\n",
    "name TEXT NOT NULL\n",
    ");\n",
    "\"\"\")\n",
    "\n",
    "cur.executemany(\"\"\"\n",
    "    INSERT INTO chat (content, writer_id, w_time, url_id)\n",
    "    VALUES (?, ?, ?, '46201530')\n",
    "\"\"\", chatdata)\n",
    "conn.commit()"
   ]
  },
  {
   "cell_type": "code",
   "execution_count": 22,
   "metadata": {
    "ExecuteTime": {
     "end_time": "2019-07-30T15:08:37.166315Z",
     "start_time": "2019-07-30T15:08:36.955438Z"
    }
   },
   "outputs": [],
   "source": []
  },
  {
   "cell_type": "code",
   "execution_count": 66,
   "metadata": {
    "ExecuteTime": {
     "end_time": "2019-07-30T15:35:42.256048Z",
     "start_time": "2019-07-30T15:35:42.249051Z"
    }
   },
   "outputs": [],
   "source": [
    "cur.execute(\"\"\"\n",
    "    SELECT * FROM chat;\n",
    "\"\"\")\n",
    "conn.commit()"
   ]
  },
  {
   "cell_type": "markdown",
   "metadata": {},
   "source": [
    "# EDA"
   ]
  },
  {
   "cell_type": "code",
   "execution_count": 67,
   "metadata": {
    "ExecuteTime": {
     "end_time": "2019-07-30T15:35:42.517915Z",
     "start_time": "2019-07-30T15:35:42.512900Z"
    }
   },
   "outputs": [],
   "source": [
    "import pandas as pd"
   ]
  },
  {
   "cell_type": "code",
   "execution_count": 68,
   "metadata": {
    "ExecuteTime": {
     "end_time": "2019-07-30T15:35:42.867697Z",
     "start_time": "2019-07-30T15:35:42.629832Z"
    }
   },
   "outputs": [],
   "source": [
    "data = pd.DataFrame(cur.fetchall(), columns=['id', 'chat', 'userid', 'timestamp','url'])"
   ]
  },
  {
   "cell_type": "code",
   "execution_count": 79,
   "metadata": {
    "ExecuteTime": {
     "end_time": "2019-07-30T15:40:16.051226Z",
     "start_time": "2019-07-30T15:40:16.044230Z"
    }
   },
   "outputs": [],
   "source": [
    "data.set_index('id',inplace=True)"
   ]
  },
  {
   "cell_type": "code",
   "execution_count": 82,
   "metadata": {
    "ExecuteTime": {
     "end_time": "2019-07-30T15:41:02.718445Z",
     "start_time": "2019-07-30T15:41:02.703451Z"
    }
   },
   "outputs": [
    {
     "data": {
      "text/html": [
       "<div>\n",
       "<style scoped>\n",
       "    .dataframe tbody tr th:only-of-type {\n",
       "        vertical-align: middle;\n",
       "    }\n",
       "\n",
       "    .dataframe tbody tr th {\n",
       "        vertical-align: top;\n",
       "    }\n",
       "\n",
       "    .dataframe thead th {\n",
       "        text-align: right;\n",
       "    }\n",
       "</style>\n",
       "<table border=\"1\" class=\"dataframe\">\n",
       "  <thead>\n",
       "    <tr style=\"text-align: right;\">\n",
       "      <th></th>\n",
       "      <th>chat</th>\n",
       "      <th>userid</th>\n",
       "      <th>timestamp</th>\n",
       "      <th>url</th>\n",
       "    </tr>\n",
       "    <tr>\n",
       "      <th>id</th>\n",
       "      <th></th>\n",
       "      <th></th>\n",
       "      <th></th>\n",
       "      <th></th>\n",
       "    </tr>\n",
       "  </thead>\n",
       "  <tbody>\n",
       "    <tr>\n",
       "      <th>1</th>\n",
       "      <td>ㅂㅇㄹ</td>\n",
       "      <td>coupling</td>\n",
       "      <td>23.434</td>\n",
       "      <td>46201530</td>\n",
       "    </tr>\n",
       "    <tr>\n",
       "      <th>2</th>\n",
       "      <td>보겸이 왔냐 ?</td>\n",
       "      <td>kof054</td>\n",
       "      <td>31.258</td>\n",
       "      <td>46201530</td>\n",
       "    </tr>\n",
       "    <tr>\n",
       "      <th>3</th>\n",
       "      <td>ㅂㅇㄹ</td>\n",
       "      <td>ghtmd486</td>\n",
       "      <td>39.300</td>\n",
       "      <td>46201530</td>\n",
       "    </tr>\n",
       "    <tr>\n",
       "      <th>4</th>\n",
       "      <td>하이</td>\n",
       "      <td>yyc32425</td>\n",
       "      <td>39.500</td>\n",
       "      <td>46201530</td>\n",
       "    </tr>\n",
       "    <tr>\n",
       "      <th>5</th>\n",
       "      <td>새벽에좀 키지마 미띤너마!!</td>\n",
       "      <td>thfhsp123</td>\n",
       "      <td>43.614</td>\n",
       "      <td>46201530</td>\n",
       "    </tr>\n",
       "  </tbody>\n",
       "</table>\n",
       "</div>"
      ],
      "text/plain": [
       "               chat     userid timestamp       url\n",
       "id                                                \n",
       "1               ㅂㅇㄹ   coupling    23.434  46201530\n",
       "2          보겸이 왔냐 ?     kof054    31.258  46201530\n",
       "3               ㅂㅇㄹ   ghtmd486    39.300  46201530\n",
       "4                하이   yyc32425    39.500  46201530\n",
       "5   새벽에좀 키지마 미띤너마!!  thfhsp123    43.614  46201530"
      ]
     },
     "execution_count": 82,
     "metadata": {},
     "output_type": "execute_result"
    }
   ],
   "source": [
    "data.head()"
   ]
  },
  {
   "cell_type": "code",
   "execution_count": 90,
   "metadata": {
    "ExecuteTime": {
     "end_time": "2019-07-30T15:43:16.725538Z",
     "start_time": "2019-07-30T15:43:16.152867Z"
    }
   },
   "outputs": [
    {
     "data": {
      "text/plain": [
       "<matplotlib.axes._subplots.AxesSubplot at 0x243a27e8b00>"
      ]
     },
     "execution_count": 90,
     "metadata": {},
     "output_type": "execute_result"
    },
    {
     "data": {
      "image/png": "[encoded data removed]",
      "text/plain": [
       "<Figure size 432x288 with 1 Axes>"
      ]
     },
     "metadata": {
      "needs_background": "light"
     },
     "output_type": "display_data"
    }
   ],
   "source": [
    "data.timestamp.astype('float').plot()"
   ]
  },
  {
   "cell_type": "code",
   "execution_count": null,
   "metadata": {},
   "outputs": [],
   "source": []
  }
 ],
 "metadata": {
  "kernelspec": {
   "display_name": "Python 3",
   "language": "python",
   "name": "python3"
  },
  "language_info": {
   "codemirror_mode": {
    "name": "ipython",
    "version": 3
   },
   "file_extension": ".py",
   "mimetype": "text/x-python",
   "name": "python",
   "nbconvert_exporter": "python",
   "pygments_lexer": "ipython3",
   "version": "3.7.3"
  },
  "toc": {
   "base_numbering": 1,
   "nav_menu": {},
   "number_sections": true,
   "sideBar": true,
   "skip_h1_title": false,
   "title_cell": "Table of Contents",
   "title_sidebar": "Contents",
   "toc_cell": false,
   "toc_position": {},
   "toc_section_display": true,
   "toc_window_display": false
  }
 },
 "nbformat": 4,
 "nbformat_minor": 2
}
